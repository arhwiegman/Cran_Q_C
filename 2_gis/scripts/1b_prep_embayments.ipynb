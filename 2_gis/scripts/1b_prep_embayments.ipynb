{
 "cells": [
  {
   "cell_type": "markdown",
   "id": "f682951b",
   "metadata": {},
   "source": [
    "**Manipulate MEP data for postprocessing analysis**\n",
    "\n",
    "Adrian Wiegman\n",
    "\n",
    "2023-08-12\n",
    "\n",
    "-------"
   ]
  },
  {
   "cell_type": "markdown",
   "id": "c9e36dc6",
   "metadata": {},
   "source": [
    "## Description"
   ]
  },
  {
   "cell_type": "markdown",
   "id": "159f7739",
   "metadata": {},
   "source": []
  },
  {
   "cell_type": "markdown",
   "id": "2d59851c",
   "metadata": {},
   "source": [
    "## Setup Environment"
   ]
  },
  {
   "cell_type": "code",
   "execution_count": 68,
   "id": "9d478e88",
   "metadata": {
    "scrolled": true
   },
   "outputs": [
    {
     "name": "stdout",
     "output_type": "stream",
     "text": [
      "The autoreload extension is already loaded. To reload it, use:\n",
      "  %reload_ext autoreload\n",
      "***\n",
      "loading python modules...\n",
      "\n",
      "  `module_list` contains names of all loaded modules\n",
      "\n",
      "...module loading complete\n",
      "\n",
      "***\n",
      "loading user defined functions...\n",
      "\n",
      "type `fn_`+TAB to for autocomplete suggestions\n",
      "\n",
      " the object `def_list` contains user defined function names:\n",
      "   fn_get_info\n",
      "   fn_arcgis_table_to_df\n",
      "   fn_arcgis_table_to_np_to_pd_df\n",
      "   fn_run_script_w_propy_bat\n",
      "   fn_try_mkdir\n",
      "   fn_hello\n",
      "   fn_recursive_glob_search\n",
      "   fn_regex_search_replace\n",
      "   fn_regex_search_0\n",
      "   fn_arcpy_table_to_excel\n",
      "   fn_agg_sum_df_on_group\n",
      "   fn_add_prefix_suffix_to_selected_cols\n",
      "   fn_calc_pct_cover_within_groups\n",
      "   fn_buildWhereClauseFromList\n",
      "   fn_FA_to_Q\n",
      "   fn_alter_field_double\n",
      "   fn_return_float\n",
      "   fn_classify_wetlands\n",
      "\n",
      " use ??{insert fn name} to inspect\n",
      " for example running `??fn_get_info` returns:\n",
      "\u001b[1;31mSignature:\u001b[0m \u001b[0mfn_get_info\u001b[0m\u001b[1;33m(\u001b[0m\u001b[0mname\u001b[0m\u001b[1;33m=\u001b[0m\u001b[1;34m'fn_get_info'\u001b[0m\u001b[1;33m)\u001b[0m\u001b[1;33m\u001b[0m\u001b[1;33m\u001b[0m\u001b[0m\n",
      "\u001b[1;31mSource:\u001b[0m   \n",
      "\u001b[1;32mdef\u001b[0m \u001b[0mfn_get_info\u001b[0m\u001b[1;33m(\u001b[0m\u001b[0mname\u001b[0m\u001b[1;33m=\u001b[0m\u001b[1;34m'fn_get_info'\u001b[0m\u001b[1;33m)\u001b[0m\u001b[1;33m:\u001b[0m\u001b[1;33m\n",
      "\u001b[0m    \u001b[1;34m'''\n",
      "    returns the source information about a given function name\n",
      "    '''\u001b[0m\u001b[1;33m\n",
      "\u001b[0m    \u001b[0mget_ipython\u001b[0m\u001b[1;33m(\u001b[0m\u001b[1;33m)\u001b[0m\u001b[1;33m.\u001b[0m\u001b[0mrun_line_magic\u001b[0m\u001b[1;33m(\u001b[0m\u001b[1;34m'pinfo2'\u001b[0m\u001b[1;33m,\u001b[0m \u001b[1;34m'$name'\u001b[0m\u001b[1;33m)\u001b[0m\u001b[1;33m\u001b[0m\u001b[1;33m\u001b[0m\u001b[0m\n",
      "\u001b[1;31mFile:\u001b[0m      c:\\workspace\\geodata\\cran_q_c\\<ipython-input-1-28f96385f735>\n",
      "\u001b[1;31mType:\u001b[0m      function\n",
      "\n",
      " you can also use `fn_get_info(name={insert fn name})` to do the same thing as `??{insert fn name}`\n",
      "\n",
      "...function loading complete\n",
      "\n",
      "***\n",
      "managing project directories:\n",
      " working directory (`wdr`): C:\\Workspace\\Geodata\\Cran_Q_C\\\n",
      " temp dir (`tdr.name`): C:\\Users\\ADRIAN~1.WIE\\AppData\\Local\\Temp\\ArcGISProTemp9496\\tmpqwtyjwud\n",
      " input file directory (`idr`): C:\\Workspace\\Geodata\\Cran_Q_C\\inputs\n",
      " output dir (`odr`): C:\\Workspace\\Geodata\\Cran_Q_C\\outputs\n",
      "\n",
      "\n",
      "\n",
      "\n",
      "***\n",
      "setting up arcpy environment...\n",
      "\n",
      " default geodatabase path (`gdb_default_path`): C:\\Workspace\\Geodata\\Cran_Q_C\\Default.gdb\n",
      " active map (`mx`) name: Map1_prep_bogs\n",
      " output coordinate system: NAD_1983_UTM_Zone_19N\n",
      "\n",
      "... env setup complete\n",
      "\n",
      "\n",
      "+++SETUP COMPLETE+++\n",
      "\n",
      "\n"
     ]
    }
   ],
   "source": [
    "# iphython options\n",
    "# delete variables in workspace\n",
    "%reset -f\n",
    "#places plots inline\n",
    "%matplotlib inline\n",
    "#automatically reloads modules if they are changed\n",
    "%load_ext autoreload \n",
    "%autoreload 2\n",
    "# this codeblock sets up the environment from jupyter notebooks\n",
    "setup_notebook = r\"C:\\Users\\Adrian.Wiegman\\Documents\\GitHub\\Wiegman_USDA_ARS\\Cran_Q_C\\2_gis\\scripts\\_Setup.ipynb\"\n",
    "%run $setup_notebook # magic command to run the notebook "
   ]
  },
  {
   "cell_type": "code",
   "execution_count": 112,
   "id": "388e4404",
   "metadata": {},
   "outputs": [],
   "source": [
    "# remove the wareham estuary surface from the watershed layer\n",
    "_ = arcpy.management.SelectLayerByAttribute(\n",
    "    in_layer_or_view=\"MEP_Subwatersheds_All_Copy\",\n",
    "    selection_type=\"NEW_SELECTION\",\n",
    "    where_clause=\"OBJECTID_12 = 834\",\n",
    "    invert_where_clause=True\n",
    ")\n",
    "\n",
    "# remove overlaps between warehame and buttermilk bay\n",
    "_ = arcpy.analysis.RemoveOverlapMultiple(\n",
    "    in_features=_,\n",
    "    out_feature_class=r\"C:\\Workspace\\Geodata\\Cran_Q_C\\Default.gdb\\MEP_Subwatersheds_All_Copy_RemoveOverlapMultiple\",\n",
    "    method=\"THIESSEN\",\n",
    "    join_attributes=\"ALL\"\n",
    ")\n",
    "\n",
    "# dissolve subwatersheds by embayment\n",
    "_ = arcpy.management.Dissolve(\n",
    "    in_features=_,\n",
    "    out_feature_class=r\"C:\\Workspace\\Geodata\\Cran_Q_C\\Default.gdb\\MEP_Subwatersheds_All_Copy_Rem_Dissolve\",\n",
    "    dissolve_field=\"EMBAY_NAME\",\n",
    "    statistics_fields=None,\n",
    "    multi_part=\"MULTI_PART\",\n",
    "    unsplit_lines=\"DISSOLVE_LINES\",\n",
    "    concatenation_separator=\"\"\n",
    ")\n",
    "\n",
    "# clip to remove watersheds that fall outside of grounwater model domain\n",
    "_ = arcpy.analysis.Clip(\n",
    "    in_features=_,\n",
    "    clip_features=\"domain_poly\",\n",
    "    out_feature_class=r\"C:\\Workspace\\Geodata\\Cran_Q_C\\Default.gdb\\MEP_Subwatersheds_All_Copy_Rem_Dis_Domain\",\n",
    "    cluster_tolerance=None\n",
    ")\n",
    "\n",
    "# buffer to remove holes in polygons\n",
    "_ = arcpy.analysis.Buffer(\n",
    "    in_features=_,\n",
    "    out_feature_class=r\"C:\\Workspace\\Geodata\\Cran_Q_C\\Default.gdb\\MEP_Subwatersheds_All_Copy_Rem_Dis_Domain_Buff1\",\n",
    "    buffer_distance_or_field=\"6 Meters\",\n",
    "    line_side=\"FULL\",\n",
    "    line_end_type=\"ROUND\",\n",
    "    dissolve_option=\"NONE\",\n",
    "    dissolve_field=None,\n",
    "    method=\"PLANAR\")"
   ]
  },
  {
   "cell_type": "code",
   "execution_count": 113,
   "id": "68d21e40",
   "metadata": {},
   "outputs": [],
   "source": [
    "# negative buffer to return polygons back to original area \n",
    "_ = arcpy.analysis.Buffer(\n",
    "    in_features=_,\n",
    "    out_feature_class=r\"C:\\Workspace\\Geodata\\Cran_Q_C\\Default.gdb\\MEP_Embayments_Domain\",\n",
    "    buffer_distance_or_field=\"-6 Meters\",\n",
    "    line_side=\"FULL\",\n",
    "    line_end_type=\"ROUND\",\n",
    "    dissolve_option=\"NONE\",\n",
    "    dissolve_field=None,\n",
    "    method=\"PLANAR\")"
   ]
  },
  {
   "cell_type": "code",
   "execution_count": 114,
   "id": "5bce6b4a",
   "metadata": {},
   "outputs": [
    {
     "data": {
      "text/html": [
       "<div class='gpresult'><h2>Messages</h2><div id='messages' data-messages='[\"Start Time: Monday, February 26, 2024 1:49:18 PM\",\"Adding embayshed_area_m2 to MEP_Embayments_Domain...\",\"Succeeded at Monday, February 26, 2024 1:49:18 PM (Elapsed Time: 0.46 seconds)\"]' data-show='true'><div id = 'default' /></div></div>"
      ],
      "text/plain": [
       "<Result 'C:\\\\Workspace\\\\Geodata\\\\Cran_Q_C\\\\Default.gdb\\\\MEP_Embayments_Domain'>"
      ]
     },
     "execution_count": 114,
     "metadata": {},
     "output_type": "execute_result"
    }
   ],
   "source": [
    "arcpy.management.CalculateField(\n",
    "    in_table=\"MEP_Embayments_Domain\",\n",
    "    field=\"embayshed_area_m2\",\n",
    "    expression=\"!Shape_Area!\",\n",
    "    expression_type=\"PYTHON3\",\n",
    "    code_block=\"\",\n",
    "    field_type=\"DOUBLE\",\n",
    "    enforce_domains=\"NO_ENFORCE_DOMAINS\"\n",
    ")"
   ]
  },
  {
   "cell_type": "code",
   "execution_count": null,
   "id": "a33bd50e",
   "metadata": {},
   "outputs": [],
   "source": [
    "arcpy.conversion.TableToExcel(\n",
    "    Input_Table=\"MEP_Embayments_Domain\",\n",
    "    Output_Excel_File=r\"C:\\Workspace\\Geodata\\Cran_Q_C\\outputs\\MEP_Embayments_Domain_TableToExcel.xlsx\",\n",
    "    Use_field_alias_as_column_header=\"NAME\",\n",
    "    Use_domain_and_subtype_description=\"CODE\")"
   ]
  },
  {
   "cell_type": "code",
   "execution_count": 64,
   "id": "304c2451",
   "metadata": {},
   "outputs": [
    {
     "data": {
      "text/html": [
       "<div class='gpresult'><h2>Messages</h2><div id='messages' data-messages='[\"Start Time: Saturday, February 24, 2024 10:59:08 AM\",\"Succeeded at Saturday, February 24, 2024 10:59:11 AM (Elapsed Time: 2.08 seconds)\"]' data-show='true'><div id = 'default' /></div></div>"
      ],
      "text/plain": [
       "<Result 'C:\\\\Workspace\\\\Geodata\\\\Cran_Q_C\\\\outputs\\\\Subembayments_TableToExcel.xlsx'>"
      ]
     },
     "execution_count": 64,
     "metadata": {},
     "output_type": "execute_result"
    }
   ],
   "source": [
    "# write subembayments file with watershed MVP  nitrogen load data to excel for postprocessing\n",
    "arcpy.conversion.TableToExcel(\n",
    "    Input_Table=r\"C:\\Workspace\\Geodata\\Massachusetts\\MEP\\CC_Subembayments\\Subembayments.shp\",\n",
    "    Output_Excel_File=r\"C:\\Workspace\\Geodata\\Cran_Q_C\\outputs\\Subembayments_TableToExcel.xlsx\",\n",
    "    Use_field_alias_as_column_header=\"NAME\",\n",
    "    Use_domain_and_subtype_description=\"CODE\")"
   ]
  }
 ],
 "metadata": {
  "kernelspec": {
   "display_name": "ArcGISPro",
   "language": "Python",
   "name": "python3"
  },
  "language_info": {
   "file_extension": ".py",
   "name": "python",
   "version": "3"
  }
 },
 "nbformat": 4,
 "nbformat_minor": 5
}
