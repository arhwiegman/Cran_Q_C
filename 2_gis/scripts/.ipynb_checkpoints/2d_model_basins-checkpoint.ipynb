{
 "cells": [
  {
   "cell_type": "markdown",
   "metadata": {},
   "source": [
    "## Metadata\n",
    "\n",
    "Delineate drainage basins\n",
    "\n",
    "Author: Adrian Wiegman\n",
    "\n",
    "Date Modified: 10/31/2023\n",
    "\n",
    "From D8 flow direction data of delineate the drainage basins. I then aggregate basins that are adjacent (<1m apart) and smaller than 1km^2 within each major coastal management area (cape cod, southcoast, buzzards bay, taunton).   "
   ]
  },
  {
   "cell_type": "markdown",
   "metadata": {},
   "source": [
    "## Setup Environment"
   ]
  },
  {
   "cell_type": "code",
   "execution_count": 51,
   "metadata": {
    "scrolled": true
   },
   "outputs": [
    {
     "name": "stdout",
     "output_type": "stream",
     "text": [
      "The autoreload extension is already loaded. To reload it, use:\n",
      "  %reload_ext autoreload\n",
      "***\n",
      "loading python modules...\n",
      "\n",
      "  `module_list` contains names of all loaded modules\n",
      "\n",
      "...module loading complete\n",
      "\n",
      "***\n",
      "loading user defined functions...\n",
      "\n",
      "type `fn_`+TAB to for autocomplete suggestions\n",
      "\n",
      " the object `def_list` contains user defined function names:\n",
      "   fn_get_info\n",
      "   fn_arcgis_table_to_df\n",
      "   fn_arcgis_table_to_np_to_pd_df\n",
      "   fn_run_script_w_propy_bat\n",
      "   fn_try_mkdir\n",
      "   fn_hello\n",
      "   fn_recursive_glob_search\n",
      "   fn_regex_search_replace\n",
      "   fn_regex_search_0\n",
      "   fn_arcpy_table_to_excel\n",
      "   fn_agg_sum_df_on_group\n",
      "   fn_add_prefix_suffix_to_selected_cols\n",
      "   fn_calc_pct_cover_within_groups\n",
      "   fn_buildWhereClauseFromList\n",
      "   fn_FA_to_Q\n",
      "   fn_alter_field_double\n",
      "   fn_return_float\n",
      "   fn_classify_wetlands\n",
      "\n",
      " use ??{insert fn name} to inspect\n",
      " for example running `??fn_get_info` returns:\n",
      "\u001b[1;31mSignature:\u001b[0m \u001b[0mfn_get_info\u001b[0m\u001b[1;33m(\u001b[0m\u001b[0mname\u001b[0m\u001b[1;33m=\u001b[0m\u001b[1;34m'fn_get_info'\u001b[0m\u001b[1;33m)\u001b[0m\u001b[1;33m\u001b[0m\u001b[1;33m\u001b[0m\u001b[0m\n",
      "\u001b[1;31mSource:\u001b[0m   \n",
      "\u001b[1;32mdef\u001b[0m \u001b[0mfn_get_info\u001b[0m\u001b[1;33m(\u001b[0m\u001b[0mname\u001b[0m\u001b[1;33m=\u001b[0m\u001b[1;34m'fn_get_info'\u001b[0m\u001b[1;33m)\u001b[0m\u001b[1;33m:\u001b[0m\u001b[1;33m\n",
      "\u001b[0m    \u001b[1;34m'''\n",
      "    returns the source information about a given function name\n",
      "    '''\u001b[0m\u001b[1;33m\n",
      "\u001b[0m    \u001b[0mget_ipython\u001b[0m\u001b[1;33m(\u001b[0m\u001b[1;33m)\u001b[0m\u001b[1;33m.\u001b[0m\u001b[0mrun_line_magic\u001b[0m\u001b[1;33m(\u001b[0m\u001b[1;34m'pinfo2'\u001b[0m\u001b[1;33m,\u001b[0m \u001b[1;34m'$name'\u001b[0m\u001b[1;33m)\u001b[0m\u001b[1;33m\u001b[0m\u001b[1;33m\u001b[0m\u001b[0m\n",
      "\u001b[1;31mFile:\u001b[0m      c:\\windows\\system32\\<ipython-input-1-28f96385f735>\n",
      "\u001b[1;31mType:\u001b[0m      function\n",
      "\n",
      " you can also use `fn_get_info(name={insert fn name})` to do the same thing as `??{insert fn name}`\n",
      "\n",
      "...function loading complete\n",
      "\n",
      "***\n",
      "managing project directories:\n",
      " working directory (`wdr`): C:\\Workspace\\Geodata\\Cran_Q_C\\\n",
      " temp dir (`tdr.name`): C:\\Users\\ADRIAN~1.WIE\\AppData\\Local\\Temp\\ArcGISProTemp40732\\tmp2krpiqtk\n",
      " input file directory (`idr`): C:\\Workspace\\Geodata\\Cran_Q_C\\inputs\n",
      " output dir (`odr`): C:\\Workspace\\Geodata\\Cran_Q_C\\outputs\n",
      "\n",
      "\n",
      "\n",
      "\n",
      "***\n",
      "setting up arcpy environment...\n",
      "\n",
      " default geodatabase path (`gdb_default_path`): C:\\Workspace\\Geodata\\Cran_Q_C\\Default.gdb\n",
      " active map (`mx`) name: Map1_prep_bogs\n",
      " output coordinate system: NAD_1983_UTM_Zone_19N\n",
      "\n",
      "... env setup complete\n",
      "\n",
      "\n",
      "+++SETUP COMPLETE+++\n",
      "\n",
      "\n"
     ]
    }
   ],
   "source": [
    "# iphython options\n",
    "# delete variables in workspace\n",
    "%reset -f\n",
    "#places plots inline\n",
    "%matplotlib inline\n",
    "#automatically reloads modules if they are changed\n",
    "%load_ext autoreload \n",
    "%autoreload 2\n",
    "# this codeblock sets up the environment from jupyter notebooks\n",
    "setup_notebook = \"C:/Users/Adrian.Wiegman/Documents/GitHub/Wiegman_USDA_ARS/Cran_Q_C/2_gis/scripts/_Setup.ipynb\"\n",
    "%run $setup_notebook # magic command to run the notebook"
   ]
  },
  {
   "cell_type": "markdown",
   "metadata": {},
   "source": [
    "## Delineate Drainage Basins"
   ]
  },
  {
   "cell_type": "code",
   "execution_count": 116,
   "metadata": {},
   "outputs": [],
   "source": [
    "D8file = \"D8_gwelid0\""
   ]
  },
  {
   "cell_type": "code",
   "execution_count": 52,
   "metadata": {},
   "outputs": [],
   "source": [
    "\n",
    "out_raster = arcpy.sa.Basin(\n",
    "    in_flow_direction_raster=os.path.join(r\"C:\\Workspace\\Geodata\\Cran_Q_C\\Default.gdb\",D8file))\n",
    "out_raster.save(r\"C:\\Workspace\\Geodata\\Cran_Q_C\\Default.gdb\\Basins_\"+D8file)"
   ]
  },
  {
   "cell_type": "code",
   "execution_count": 53,
   "metadata": {},
   "outputs": [
    {
     "data": {
      "text/html": [
       "<div class='gpresult'><h2>Messages</h2><div id='messages' data-messages='[\"Start Time: Tuesday, September 3, 2024 11:33:13 AM\",\"Succeeded at Tuesday, September 3, 2024 11:33:29 AM (Elapsed Time: 15.46 seconds)\"]' data-show='true'><div id = 'default' /></div></div>"
      ],
      "text/plain": [
       "<Result 'C:\\\\Workspace\\\\Geodata\\\\Cran_Q_C\\\\Default.gdb\\\\Basins_Poly_D8_gwelid0'>"
      ]
     },
     "execution_count": 53,
     "metadata": {},
     "output_type": "execute_result"
    }
   ],
   "source": [
    "arcpy.conversion.RasterToPolygon(\n",
    "    in_raster=\"Basins_\"+D8file,\n",
    "    out_polygon_features=r\"C:\\Workspace\\Geodata\\Cran_Q_C\\Default.gdb\\Basins_Poly_\"+D8file,\n",
    "    simplify=\"SIMPLIFY\",\n",
    "    raster_field=\"Value\",\n",
    "    create_multipart_features=\"SINGLE_OUTER_PART\",\n",
    "    max_vertices_per_feature=None\n",
    ")"
   ]
  },
  {
   "cell_type": "markdown",
   "metadata": {},
   "source": [
    "## Split basins into those less than 1km2"
   ]
  },
  {
   "cell_type": "code",
   "execution_count": 54,
   "metadata": {},
   "outputs": [],
   "source": [
    "selection = arcpy.management.SelectLayerByAttribute(\n",
    "    in_layer_or_view=\"Basins_Poly_\"+D8file,\n",
    "    selection_type=\"NEW_SELECTION\",\n",
    "    where_clause=\"Shape_Area < 1000000\",\n",
    "    invert_where_clause=None)"
   ]
  },
  {
   "cell_type": "code",
   "execution_count": 55,
   "metadata": {},
   "outputs": [],
   "source": [
    "copy = arcpy.management.CopyFeatures(\n",
    "    in_features=selection,\n",
    "    out_feature_class=r\"Basins_Poly_\"+D8file+\"a_lt1e6\")"
   ]
  },
  {
   "cell_type": "code",
   "execution_count": 56,
   "metadata": {},
   "outputs": [],
   "source": [
    "selection = arcpy.management.SelectLayerByAttribute(\n",
    "    in_layer_or_view=\"Basins_Poly_\"+D8file,\n",
    "    selection_type=\"NEW_SELECTION\",\n",
    "    where_clause=\"Shape_Area < 1000000\",\n",
    "    invert_where_clause=\"INVERT\"\n",
    ")"
   ]
  },
  {
   "cell_type": "code",
   "execution_count": 57,
   "metadata": {},
   "outputs": [],
   "source": [
    "copy = arcpy.management.CopyFeatures(\n",
    "    in_features=selection,\n",
    "    out_feature_class=r\"Basins_Poly_\"+D8file+\"a_ge1e6\")"
   ]
  },
  {
   "cell_type": "code",
   "execution_count": 117,
   "metadata": {},
   "outputs": [
    {
     "data": {
      "text/html": [
       "<div class='gpresult'><h2>Messages</h2><div id='messages' data-messages='[\"Start Time: Wednesday, September 4, 2024 7:01:35 PM\",\"Finding polygon clusters...\",\"Constructing polygons (orthogonal)...\",\"Succeeded at Wednesday, September 4, 2024 7:03:05 PM (Elapsed Time: 1 minutes 30 seconds)\"]' data-show='true'><div id = 'default' /></div></div>"
      ],
      "text/plain": [
       "<Result 'C:\\\\Workspace\\\\Geodata\\\\Cran_Q_C\\\\Default.gdb\\\\Basins_Poly_D8_gwelid0a_lt1e6_Aggr'>"
      ]
     },
     "execution_count": 117,
     "metadata": {},
     "output_type": "execute_result"
    }
   ],
   "source": [
    "# aggregate features\n",
    "arcpy.cartography.AggregatePolygons(\n",
    "    in_features=r\"Basins_Poly_\"+D8file+\"a_lt1e6\",\n",
    "    out_feature_class=r\"C:\\Workspace\\Geodata\\Cran_Q_C\\Default.gdb\\Basins_Poly_\"+D8file+\"a_lt1e6\"+\"_Aggr\",\n",
    "    aggregation_distance=\"1 Meters\",\n",
    "    minimum_area=\"1e3 SquareMeters\",\n",
    "    minimum_hole_size=\"0 SquareMeters\",\n",
    "    orthogonality_option=\"ORTHOGONAL\",\n",
    "    barrier_features=r\"C:\\Workspace\\Geodata\\Massachusetts\\dwmwpp_water_quality_sta\\IL_DWMWPP_WATERSHEDS_POLY.shp\",\n",
    "    out_table=r\"C:\\Workspace\\Geodata\\Cran_Q_C\\Default.gdb\\Basins_table_\"+D8file+\"a_lt1e6\"+\"_Aggr\",\n",
    "    aggregate_field=None\n",
    ")"
   ]
  },
  {
   "cell_type": "code",
   "execution_count": null,
   "metadata": {},
   "outputs": [],
   "source": [
    "arcpy.cartography.AggregatePolygons(\n",
    "    in_features=r\"C:\\Workspace\\Geodata\\Cran_Q_C\\Default.gdb\\Basins_Poly_D8_a_lt1e6\",\n",
    "    out_feature_class=r\"C:\\Workspace\\Geodata\\Cran_Q_C\\Default.gdb\\Basins_Poly_D8_a_lt1e6_Aggr\",\n",
    "    aggregation_distance=\"1 Meters\",\n",
    "    minimum_area=\"1000 SquareMeters\",\n",
    "    minimum_hole_size=\"0 SquareMeters\",\n",
    "    orthogonality_option=\"ORTHOGONAL\",\n",
    "    barrier_features=r\"C:\\Workspace\\Geodata\\Massachusetts\\dwmwpp_water_quality_sta\\IL_DWMWPP_WATERSHEDS_POLY.shp\",\n",
    "    out_table=r\"C:\\Workspace\\Geodata\\Cran_Q_C\\Default.gdb\\Basins_Poly_D8_a_lt1e6_Aggr_Tbl\",\n",
    "    aggregate_field=\"Id\"\n",
    ")"
   ]
  },
  {
   "cell_type": "markdown",
   "metadata": {},
   "source": [
    "## Join the basins back together"
   ]
  },
  {
   "cell_type": "code",
   "execution_count": null,
   "metadata": {},
   "outputs": [],
   "source": [
    "arcpy.analysis.Update(\n",
    "    in_features=r\"C:\\Workspace\\Geodata\\Cran_Q_C\\Default.gdb\\Basins_Poly_\"+D8file+\"a_lt1e6\",\n",
    "    update_features=r\"C:\\Workspace\\Geodata\\Cran_Q_C\\Default.gdb\\Basins_Poly_\"+D8file+\"a_lt1e6\"+\"_Aggr\",\n",
    "    out_feature_class=r\"C:\\Workspace\\Geodata\\Cran_Q_C\\Default.gdb\\Basins_Poly_Update\",\n",
    "    keep_borders=\"BORDERS\",\n",
    "    cluster_tolerance=None\n",
    ")"
   ]
  },
  {
   "cell_type": "markdown",
   "metadata": {},
   "source": [
    "## Add major basin information to subbasins"
   ]
  },
  {
   "cell_type": "code",
   "execution_count": null,
   "metadata": {},
   "outputs": [],
   "source": [
    "# NHD HUC10 \n",
    "HUC10 = r\"C:\\Workspace\\Geodata\\Massachusetts\\NHDPLUS_H_0109_HU4_GDB\\NHDPLUS_H_0109_HU4_GDB.gdb\\WBD\\WBDHU10\"\n",
    "\n",
    "# NHD HUC12\n",
    "HUC12 = r\"C:\\Workspace\\Geodata\\Massachusetts\\NHDPLUS_H_0109_HU4_GDB\\NHDPLUS_H_0109_HU4_GDB.gdb\\WBD\\WBDHU12\""
   ]
  },
  {
   "cell_type": "code",
   "execution_count": null,
   "metadata": {},
   "outputs": [],
   "source": [
    "arcpy.analysis.Identity(\n",
    "    in_features=r\"C:\\Workspace\\Geodata\\Cran_Q_C\\Default.gdb\\Basins_Poly_Update\",\n",
    "    identity_features=HUC10,\n",
    "    out_feature_class=r\"C:\\Workspace\\Geodata\\Cran_Q_C\\Default.gdb\\Basins_Poly_Ident_NHD_HUC10\",\n",
    "    join_attributes=\"ALL\",\n",
    "    cluster_tolerance=None,\n",
    "    relationship=\"NO_RELATIONSHIPS\")"
   ]
  },
  {
   "cell_type": "code",
   "execution_count": null,
   "metadata": {},
   "outputs": [],
   "source": [
    "# sort by FID of updated poly and in descending order by area\n",
    "sort = arcpy.management.Sort(\n",
    "    in_dataset=r\"C:\\Workspace\\Geodata\\Cran_Q_C\\Default.gdb\\Basins_Poly_Ident_NHD_HUC10\",\n",
    "    out_dataset=r\"C:\\Workspace\\Geodata\\Cran_Q_C\\Default.gdb\\Basins_Poly_Ident_NHD_HUC10_Sort\",\n",
    "    sort_field=\"FID_Basins_Poly_Update ASCENDING;Shape_Area DESCENDING\",\n",
    "    spatial_sort_method=\"UR\")"
   ]
  },
  {
   "cell_type": "code",
   "execution_count": null,
   "metadata": {},
   "outputs": [],
   "source": [
    "# dissolve on FID of the original Updated layer\n",
    "# take the NHD HUC10 information for the largest area feature (which is the one that occurs first, based on the sorting above)\n",
    "#FIRST—The specified field value of the first record in the input will be used.\n",
    "arcpy.management.Dissolve(\n",
    "    in_features=\"Basins_Poly_Ident_NHD_HUC10_Sort\",\n",
    "    out_feature_class=r\"C:\\Workspace\\Geodata\\Cran_Q_C\\Default.gdb\\Basins_Poly_Ident_NHD_HUC10_Sort_Diss\",\n",
    "    dissolve_field=\"FID_Basins_Poly_Update\",\n",
    "    statistics_fields=\"Name FIRST;HUC10 FIRST\",\n",
    "    multi_part=\"MULTI_PART\",\n",
    "    unsplit_lines=\"DISSOLVE_LINES\",\n",
    "    concatenation_separator=\"\"\n",
    ")"
   ]
  },
  {
   "cell_type": "markdown",
   "metadata": {},
   "source": [
    "# APPENDIX\n",
    "\n",
    "the following code has been moved to \"3c_extract_basin_stats\"\n",
    "### Summarize Basin Statistics"
   ]
  },
  {
   "cell_type": "raw",
   "metadata": {},
   "source": [
    "# Summarizing for NHD HUC10 "
   ]
  },
  {
   "cell_type": "raw",
   "metadata": {},
   "source": [
    "arcpy.ia.ZonalStatisticsAsTable(\n",
    "    in_zone_data=\"Basins_Poly_Ident_NHD_HUC10_Sort_Diss\",\n",
    "    zone_field=\"FIRST_Name\",\n",
    "    in_value_raster=r\"C:\\Workspace\\Geodata\\Cran_Q_C\\outputs\\NLCD_2019_Impervious.tif\",\n",
    "    out_table=r\"C:\\Workspace\\Geodata\\Cran_Q_C\\Default.gdb\\ZonalSt_Basins_NHD_Impervious\",\n",
    "    ignore_nodata=\"DATA\",\n",
    "    statistics_type=\"ALL\",\n",
    "    process_as_multidimensional=\"CURRENT_SLICE\",\n",
    "    percentile_values=[5,25,50,75,95],\n",
    "    percentile_interpolation_type=\"AUTO_DETECT\",\n",
    "    circular_calculation=\"ARITHMETIC\",\n",
    "    circular_wrap_value=360\n",
    ")"
   ]
  },
  {
   "cell_type": "raw",
   "metadata": {},
   "source": [
    "arcpy.ia.ZonalStatisticsAsTable(\n",
    "    in_zone_data=\"Basins_Poly_Ident_NHD_HUC10_Sort_Diss\",\n",
    "    zone_field=\"FIRST_Name\",\n",
    "    in_value_raster=r\"C:\\Workspace\\Geodata\\Cran_Q_C\\Default.gdb\\CENSUS_POP20_10M2\",\n",
    "    out_table=r\"C:\\Workspace\\Geodata\\Cran_Q_C\\Default.gdb\\ZonalSt_Basins_NHD_POP20_10M2\",\n",
    "    ignore_nodata=\"DATA\",\n",
    "    statistics_type=\"ALL\",\n",
    "    process_as_multidimensional=\"CURRENT_SLICE\",\n",
    "    percentile_values=[5,25,50,75,95],\n",
    "    percentile_interpolation_type=\"AUTO_DETECT\",\n",
    "    circular_calculation=\"ARITHMETIC\",\n",
    "    circular_wrap_value=360\n",
    ")"
   ]
  },
  {
   "cell_type": "raw",
   "metadata": {},
   "source": [
    "# Summarizing for all basins"
   ]
  },
  {
   "cell_type": "raw",
   "metadata": {},
   "source": [
    "arcpy.ia.ZonalStatisticsAsTable(\n",
    "    in_zone_data=\"Basins_Poly_Ident_NHD_HUC10_Sort_Diss\",\n",
    "    zone_field=\"OBJECTID\",\n",
    "    in_value_raster=r\"C:\\Workspace\\Geodata\\Cran_Q_C\\Default.gdb\\CENSUS_POP20_10M2\",\n",
    "    out_table=r\"C:\\Workspace\\Geodata\\Cran_Q_C\\Default.gdb\\ZonalSt_Basins_POP20_10M2\",\n",
    "    ignore_nodata=\"DATA\",\n",
    "    statistics_type=\"ALL\",\n",
    "    process_as_multidimensional=\"CURRENT_SLICE\",\n",
    "    percentile_values=[5,25,50,75,95],\n",
    "    percentile_interpolation_type=\"AUTO_DETECT\",\n",
    "    circular_calculation=\"ARITHMETIC\",\n",
    "    circular_wrap_value=360\n",
    ")"
   ]
  },
  {
   "cell_type": "raw",
   "metadata": {},
   "source": [
    "arcpy.ia.ZonalStatisticsAsTable(\n",
    "    in_zone_data=\"Basins_Poly_Ident_NHD_HUC10_Sort_Diss\",\n",
    "    zone_field=\"OBJECTID\",\n",
    "    in_value_raster=r\"C:\\Workspace\\Geodata\\Cran_Q_C\\outputs\\NLCD_2019_Impervious.tif\",\n",
    "    out_table=r\"C:\\Workspace\\Geodata\\Cran_Q_C\\Default.gdb\\ZonalSt_Basins_Impervious\",\n",
    "    ignore_nodata=\"DATA\",\n",
    "    statistics_type=\"ALL\",\n",
    "    process_as_multidimensional=\"CURRENT_SLICE\",\n",
    "    percentile_values=[5,25,50,75,95],\n",
    "    percentile_interpolation_type=\"AUTO_DETECT\",\n",
    "    circular_calculation=\"ARITHMETIC\",\n",
    "    circular_wrap_value=360\n",
    ")"
   ]
  },
  {
   "cell_type": "raw",
   "metadata": {},
   "source": [
    "myprobs = [\"p25\",\"p50\",\"p75\"]\n",
    "myvars = [\"TN\",\"NO3\",\"NO3_TN_ratio\"]\n",
    "\n",
    "for v in myvars:\n",
    "    for p in myprobs:\n",
    "        arcpy.ia.ZonalStatisticsAsTable(\n",
    "            in_zone_data=\"Basins_Poly_Ident_NHD_HUC10_Sort_Diss\",\n",
    "            zone_field=\"OBJECTID\",\n",
    "            in_value_raster=r\"C:\\Workspace\\Geodata\\Cran_Q_C\\Default.gdb\\EBK_{}_{}\".format(v,p),\n",
    "            out_table=r\"C:\\Workspace\\Geodata\\Cran_Q_C\\Default.gdb\\ZonalSt_Basins_EBK_{}_{}\".format(v,p),\n",
    "            ignore_nodata=\"DATA\",\n",
    "            statistics_type=\"ALL\",\n",
    "            process_as_multidimensional=\"CURRENT_SLICE\",\n",
    "            percentile_values=[5,25,50,75,95],\n",
    "            percentile_interpolation_type=\"AUTO_DETECT\",\n",
    "            circular_calculation=\"ARITHMETIC\",\n",
    "            circular_wrap_value=360)"
   ]
  },
  {
   "cell_type": "raw",
   "metadata": {},
   "source": []
  },
  {
   "cell_type": "raw",
   "metadata": {},
   "source": [
    "??fn_alter_field_double"
   ]
  },
  {
   "cell_type": "raw",
   "metadata": {},
   "source": [
    "??fn_add_join"
   ]
  },
  {
   "cell_type": "raw",
   "metadata": {},
   "source": [
    "## Join ZS tables with basins layers\n",
    "fields = [\"COUNT\",\"AREA\",\"MIN\",\"MAX\",\"MEAN\",\"STD\",\"SUM\",\"MEDIAN\",\n",
    "          \"PCT5\",\"PCT25\",\"PCT50\",\"PCT75\",\"PCT95\"]"
   ]
  },
  {
   "cell_type": "raw",
   "metadata": {},
   "source": [
    "## create list of zonal st tables\n",
    "tables = [\n",
    "    r\"C:\\Workspace\\Geodata\\Cran_Q_C\\Default.gdb\\ZonalSt_Basins_Impervious\",\n",
    "    r\"C:\\Workspace\\Geodata\\Cran_Q_C\\Default.gdb\\ZonalSt_Basins_POP20_10M2\",\n",
    "    r\"C:\\Workspace\\Geodata\\Cran_Q_C\\Default.gdb\\ZonalSt_Basins_EBK_NO3_p25\",\n",
    "    r\"C:\\Workspace\\Geodata\\Cran_Q_C\\Default.gdb\\ZonalSt_Basins_EBK_NO3_p50\",\n",
    "    r\"C:\\Workspace\\Geodata\\Cran_Q_C\\Default.gdb\\ZonalSt_Basins_EBK_NO3_p75\",\n",
    "    r\"C:\\Workspace\\Geodata\\Cran_Q_C\\Default.gdb\\ZonalSt_Basins_EBK_NO3_TN_ratio_p25\",\n",
    "    r\"C:\\Workspace\\Geodata\\Cran_Q_C\\Default.gdb\\ZonalSt_Basins_EBK_NO3_TN_ratio_p50\",\n",
    "    r\"C:\\Workspace\\Geodata\\Cran_Q_C\\Default.gdb\\ZonalSt_Basins_EBK_NO3_TN_ratio_p75\",\n",
    "    r\"C:\\Workspace\\Geodata\\Cran_Q_C\\Default.gdb\\ZonalSt_Basins_EBK_TN_p25\",\n",
    "    r\"C:\\Workspace\\Geodata\\Cran_Q_C\\Default.gdb\\ZonalSt_Basins_EBK_TN_p50\",\n",
    "    r\"C:\\Workspace\\Geodata\\Cran_Q_C\\Default.gdb\\ZonalSt_Basins_EBK_TN_p75\"    \n",
    "]"
   ]
  },
  {
   "cell_type": "raw",
   "metadata": {},
   "source": [
    "copy = arcpy.management.CopyFeatures(\n",
    "    in_features=r\"C:\\Workspace\\Geodata\\Cran_Q_C\\Default.gdb\\Basins_Poly_Ident_NHD_HUC10_Sort_Diss\",\n",
    "    out_feature_class=r\"C:\\Workspace\\Geodata\\Cran_Q_C\\Default.gdb\\Basins_ZS\")"
   ]
  },
  {
   "cell_type": "raw",
   "metadata": {},
   "source": []
  },
  {
   "cell_type": "raw",
   "metadata": {},
   "source": [
    "for tbl in tables:\n",
    "    # join the statistics tables with the basins layer  \n",
    "    arcpy.management.JoinField(\n",
    "        in_data=copy,\n",
    "        in_field=\"OBJECTID\",\n",
    "        join_table=tbl,\n",
    "        join_field=\"OBJECTID_1\",\n",
    "        fields=None,\n",
    "        fm_option=\"NOT_USE_FM\",\n",
    "        field_mapping=None)\n",
    "    # rename the fields in these tables\n",
    "    for fld in fields:\n",
    "        if \"POP\" in tbl:\n",
    "            new = \"pop_\"+fld\n",
    "        elif \"Imp\" in tbl:\n",
    "            new = \"imp_\"+fld\n",
    "        elif \"NO3_p25\" in tbl:\n",
    "            new = \"NO3_p25_\"+fld\n",
    "        elif \"NO3_p50\" in tbl:\n",
    "            new = \"NO3_p50_\"+fld\n",
    "        elif \"NO3_p75\" in tbl:\n",
    "            new = \"NO3_p75_\"+fld\n",
    "        elif \"TN_p25\" in tbl:\n",
    "            new = \"TN_p25_\"+fld\n",
    "        elif \"TN_p50\" in tbl:\n",
    "            new = \"TN_p50_\"+fld\n",
    "        elif \"TN_p75\" in tbl:\n",
    "            new = \"TN_p75_\"+fld\n",
    "        elif \"NO3_TN_ratio_p25\" in tbl:\n",
    "            new = \"NO3_TN_ratio_p25_\"+fld\n",
    "        elif \"NO3_TN_ratio_p50\" in tbl:\n",
    "            new = \"NO3_TN_ratio_p50_\"+fld\n",
    "        elif \"NO3_TN_ratio_p75\" in tbl:\n",
    "            new = \"NO3_TN_ratio_p75_\"+fld\n",
    "        fn_alter_field_double(copy,fld,new)"
   ]
  },
  {
   "cell_type": "raw",
   "metadata": {},
   "source": [
    "# calculate density of population and impervious cover\n",
    "arcpy.management.CalculateField(\n",
    "    in_table=\"Basins_ZS\",\n",
    "    field=\"pop_dens\",\n",
    "    expression=\"1e6*!pop_SUM!/!Shape_Area!\",\n",
    "    expression_type=\"PYTHON3\",\n",
    "    code_block=\"\",\n",
    "    field_type=\"FLOAT\",\n",
    "    enforce_domains=\"NO_ENFORCE_DOMAINS\")\n",
    "arcpy.management.CalculateField(\n",
    "    in_table=\"Basins_ZS\",\n",
    "    field=\"imp_dens\",\n",
    "    expression=\"1e6*!imp_SUM!/!Shape_Area!\",\n",
    "    expression_type=\"PYTHON3\",\n",
    "    code_block=\"\",\n",
    "    field_type=\"FLOAT\",\n",
    "    enforce_domains=\"NO_ENFORCE_DOMAINS\")"
   ]
  },
  {
   "cell_type": "raw",
   "metadata": {},
   "source": [
    "# split groups into high and low population groups at the 50th percentile\n",
    "arcpy.management.CalculateField(\n",
    "    in_table=\"Basins_ZS\",\n",
    "    field=\"pop_grp\",\n",
    "    expression=\"fn(!pop_dens!)\",\n",
    "    expression_type=\"PYTHON3\",\n",
    "    code_block=\"\"\"def fn(x):\n",
    "    if x < 142.26:\n",
    "        return(\"low\")\n",
    "    else: return(\"high\")\"\"\",\n",
    "    field_type=\"TEXT\",\n",
    "    enforce_domains=\"NO_ENFORCE_DOMAINS\")\n",
    "\n",
    "arcpy.management.CalculateField(\n",
    "    in_table=\"Basins_ZS\",\n",
    "    field=\"imp_grp\",\n",
    "    expression=\"fn(!imp_dens!)\",\n",
    "    expression_type=\"PYTHON3\",\n",
    "    code_block=\"\"\"def fn(x):\n",
    "    if x < 1.64:\n",
    "        return(\"low\")\n",
    "    else: return(\"high\")\"\"\",\n",
    "    field_type=\"TEXT\",\n",
    "    enforce_domains=\"NO_ENFORCE_DOMAINS\")"
   ]
  },
  {
   "cell_type": "raw",
   "metadata": {},
   "source": [
    "# create one field containing pop and imp group\n",
    "arcpy.management.CalculateField(\n",
    "    in_table=\"Basins_ZS\",\n",
    "    field=\"pop_imp_grp\",\n",
    "    expression='!pop_grp!+\"_\"+!imp_grp!',\n",
    "    expression_type=\"PYTHON3\",\n",
    "    code_block=\"\",\n",
    "    field_type=\"TEXT\",\n",
    "    enforce_domains=\"NO_ENFORCE_DOMAINS\")"
   ]
  },
  {
   "cell_type": "raw",
   "metadata": {},
   "source": [
    "arcpy.conversion.TableToExcel(\n",
    "    Input_Table=r\"C:\\Workspace\\Geodata\\Cran_Q_C\\Default.gdb\\df_NO3_TN_imputed_not_PSW\",\n",
    "    Output_Excel_File=r\"C:\\Workspace\\Geodata\\Cran_Q_C\\outputs\\df_NO3_TN_imputed_not_PSW_TableToExcel.xlsx\",\n",
    "    Use_field_alias_as_column_header=\"NAME\",\n",
    "    Use_domain_and_subtype_description=\"CODE\")"
   ]
  },
  {
   "cell_type": "raw",
   "metadata": {},
   "source": [
    "arcpy.management.Dissolve(\n",
    "    in_features=\"Basins_ZS\",\n",
    "    out_feature_class=r\"C:\\Workspace\\Geodata\\Cran_Q_C\\Default.gdb\\Basins_ZS_Dissolve\",\n",
    "    dissolve_field=\"pop_imp_grp\",\n",
    "    statistics_fields=None,\n",
    "    multi_part=\"MULTI_PART\",\n",
    "    unsplit_lines=\"DISSOLVE_LINES\",\n",
    "    concatenation_separator=\"\"\n",
    ")"
   ]
  },
  {
   "cell_type": "raw",
   "metadata": {},
   "source": [
    "arcpy.analysis.SummarizeWithin(\n",
    "    in_polygons=\"Basins_ZS\",\n",
    "    in_sum_features=\"df_NO3_TN_imputed_not_PSW_Domain\",\n",
    "    out_feature_class=r\"C:\\Workspace\\Geodata\\Cran_Q_C\\Default.gdb\\Basins_ZS_SummarizeWithin\",\n",
    "    keep_all_polygons=\"KEEP_ALL\",\n",
    "    sum_fields=\"TN Mean;NO3 Mean;NO3_TN_ratio Mean\",\n",
    "    sum_shape=\"ADD_SHAPE_SUM\",\n",
    "    shape_unit=\"SQUAREKILOMETERS\",\n",
    "    group_field=None,\n",
    "    add_min_maj=\"NO_MIN_MAJ\",\n",
    "    add_group_percent=\"NO_PERCENT\",\n",
    "    out_group_table=None\n",
    ")"
   ]
  },
  {
   "cell_type": "raw",
   "metadata": {},
   "source": [
    "arcpy.analysis.SummarizeWithin(\n",
    "    in_polygons=\"Basins_ZS_Dissolve\",\n",
    "    in_sum_features=r\"df_NO3_TN_imputed_not_PSW\",\n",
    "    out_feature_class=r\"C:\\Workspace\\Geodata\\Cran_Q_C\\Default.gdb\\Basins_ZS_Dissolve_SummarizeWithin\",\n",
    "    keep_all_polygons=\"KEEP_ALL\",\n",
    "    sum_fields=\"lnNO3 Mean;lnNO3 Stddev;lnNO3 Min;lnNO3 Max;lnTN Mean;lnTN Stddev;lnTN Min;lnTN Max;NO3_TN_ratio Mean; NO3_TN_ratio Stddev\",\n",
    "    sum_shape=\"ADD_SHAPE_SUM\",\n",
    "    shape_unit=\"SQUAREKILOMETERS\",\n",
    "    #group_field=\"dataset\",\n",
    "    add_min_maj=\"NO_MIN_MAJ\",\n",
    "    add_group_percent=\"NO_PERCENT\",\n",
    "    out_group_table=r\"C:\\Workspace\\Geodata\\Cran_Q_C\\Default.gdb\\Basin_ZS_pop_imp_grp_NO3_dataset_Summary\")"
   ]
  },
  {
   "cell_type": "raw",
   "metadata": {},
   "source": [
    "tbl = \"Basins_ZS\"\n",
    "arcpy.conversion.TableToExcel(\n",
    "    Input_Table=tbl,\n",
    "    Output_Excel_File=os.path.join(odr,tbl+\".xls\"),\n",
    "    Use_field_alias_as_column_header=\"NAME\",\n",
    "    Use_domain_and_subtype_description=\"CODE\")"
   ]
  },
  {
   "cell_type": "raw",
   "metadata": {},
   "source": [
    "tbl = \"Basins_ZS_SummarizeWithin\"\n",
    "arcpy.conversion.TableToExcel(\n",
    "    Input_Table=tbl,\n",
    "    Output_Excel_File=os.path.join(odr,tbl+\".xls\"),\n",
    "    Use_field_alias_as_column_header=\"NAME\",\n",
    "    Use_domain_and_subtype_description=\"CODE\")"
   ]
  }
 ],
 "metadata": {
  "kernelspec": {
   "display_name": "ArcGISPro",
   "language": "Python",
   "name": "python3"
  },
  "language_info": {
   "file_extension": ".py",
   "name": "python",
   "version": "3"
  }
 },
 "nbformat": 4,
 "nbformat_minor": 2
}
