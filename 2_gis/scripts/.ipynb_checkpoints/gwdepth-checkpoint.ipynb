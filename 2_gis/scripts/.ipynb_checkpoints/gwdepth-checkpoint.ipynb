{
 "cells": [
  {
   "cell_type": "markdown",
   "metadata": {},
   "source": [
    "Adrian Wiegman, 2023-08-07\n",
    "\n",
    "In this notebook I calculate groundwater depths from modflow simulated water table elevations and lidar surface elevation data. "
   ]
  },
  {
   "cell_type": "code",
   "execution_count": 1,
   "metadata": {
    "scrolled": true
   },
   "outputs": [
    {
     "name": "stdout",
     "output_type": "stream",
     "text": [
      "***\n",
      "loading python modules...\n",
      "\n",
      "  `module_list` contains names of all loaded modules\n",
      "\n",
      "...module loading complete\n",
      "\n",
      "***\n",
      "loading user defined functions...\n",
      "\n",
      "type `fn_`+TAB to for autocomplete suggestions\n",
      "\n",
      " the object `def_list` contains user defined function names:\n",
      "   fn_get_info\n",
      "   fn_arcgis_table_to_df\n",
      "   fn_arcgis_table_to_np_to_pd_df\n",
      "   fn_run_script_w_propy_bat\n",
      "   fn_try_mkdir\n",
      "   fn_hello\n",
      "   fn_recursive_glob_search\n",
      "   fn_regex_search_replace\n",
      "   fn_regex_search_0\n",
      "   fn_arcpy_table_to_excel\n",
      "   fn_agg_sum_df_on_group\n",
      "   fn_add_prefix_suffix_to_selected_cols\n",
      "   fn_calc_pct_cover_within_groups\n",
      "   fn_buildWhereClauseFromList\n",
      "\n",
      " use ??{insert fn name} to inspect\n",
      " for example running `??fn_get_info` returns:\n",
      "\u001b[1;31mSignature:\u001b[0m \u001b[0mfn_get_info\u001b[0m\u001b[1;33m(\u001b[0m\u001b[0mname\u001b[0m\u001b[1;33m=\u001b[0m\u001b[1;34m'fn_get_info'\u001b[0m\u001b[1;33m)\u001b[0m\u001b[1;33m\u001b[0m\u001b[1;33m\u001b[0m\u001b[0m\n",
      "\u001b[1;31mSource:\u001b[0m   \n",
      "\u001b[1;32mdef\u001b[0m \u001b[0mfn_get_info\u001b[0m\u001b[1;33m(\u001b[0m\u001b[0mname\u001b[0m\u001b[1;33m=\u001b[0m\u001b[1;34m'fn_get_info'\u001b[0m\u001b[1;33m)\u001b[0m\u001b[1;33m:\u001b[0m\u001b[1;33m\n",
      "\u001b[0m    \u001b[1;34m'''\n",
      "    returns the source information about a given function name\n",
      "    '''\u001b[0m\u001b[1;33m\n",
      "\u001b[0m    \u001b[0mget_ipython\u001b[0m\u001b[1;33m(\u001b[0m\u001b[1;33m)\u001b[0m\u001b[1;33m.\u001b[0m\u001b[0mrun_line_magic\u001b[0m\u001b[1;33m(\u001b[0m\u001b[1;34m'pinfo2'\u001b[0m\u001b[1;33m,\u001b[0m \u001b[1;34m'$name'\u001b[0m\u001b[1;33m)\u001b[0m\u001b[1;33m\u001b[0m\u001b[1;33m\u001b[0m\u001b[0m\n",
      "\u001b[1;31mFile:\u001b[0m      c:\\windows\\system32\\<ipython-input-1-28f96385f735>\n",
      "\u001b[1;31mType:\u001b[0m      function\n",
      "\n",
      " you can also use `fn_get_info(name={insert fn name})` to do the same thing as `??{insert fn name}`\n",
      "\n",
      "...function loading complete\n",
      "\n",
      "\n",
      "***\n",
      "setting up arcpy environment...\n",
      "\n",
      " input file directory (`idr`): C:\\Workspace\\Geodata\\Massachusetts\\\n",
      " working directory (`wdr`): C:\\Workspace\\Geodata\\MEP\\\n",
      " default geodatabase path: C:\\Workspace\\Geodata\\MEP\\Default.gdb\n",
      " temp dir (`tdr.name`): C:\\Users\\ADRIAN~1.WIE\\AppData\\Local\\Temp\\ArcGISProTemp41192\\tmp_sgcx9yh\n",
      " output dir (`odr`): C:\\Workspace\\Geodata\\MEP\\outputs\n",
      " output coordinate system: NAD_1983_UTM_Zone_19N\n",
      "\n",
      "... env setup complete\n",
      "\n",
      "\n",
      "+++SETUP COMPLETE+++\n",
      "\n",
      "\n"
     ]
    }
   ],
   "source": [
    "# iphython options\n",
    "# delete variables in workspace\n",
    "%reset -f\n",
    "#places plots inline\n",
    "%matplotlib inline\n",
    "#automatically reloads modules if they are changed\n",
    "%load_ext autoreload \n",
    "%autoreload 2\n",
    "# this codeblock sets up the environment from jupyter notebooks\n",
    "setup_notebook = \"C:/Users/Adrian.Wiegman/Documents/GitHub/Wiegman_USDA_ARS/MEP/_Setup.ipynb\"\n",
    "%run $setup_notebook # magic command to run the notebook\n",
    "\n",
    "# Create new file geodatabase to store results\n",
    "gdb = \"gwdepth.gdb\"\n",
    "# only run this once\n",
    "#if not os.path.exists(os.path.join(wdr,gdb)):\n",
    "#arcpy.management.CreateFileGDB(wdr,gdb)\n",
    "ap.env.workspace = os.path.join(wdr,gdb)"
   ]
  },
  {
   "cell_type": "code",
   "execution_count": null,
   "metadata": {},
   "outputs": [],
   "source": [
    "# copy lidar data (surface elevation meters above sea level) to the geodatabase"
   ]
  },
  {
   "cell_type": "raw",
   "metadata": {},
   "source": [
    "lid_m = arcpy.sa.Raster(r\"C:\\Workspace\\Geodata\\MEP\\Default.gdb\\LidExtr\")\n",
    "lid_m.save(\"lid_elev_meters\")"
   ]
  },
  {
   "cell_type": "markdown",
   "metadata": {},
   "source": [
    "lid_m = arcpy.sa.Raster(r\"C:\\Workspace\\Geodata\\MEP\\Default.gdb\\LidAg10m\")\n",
    "lid_m.save(\"lid_elev_meters\")"
   ]
  },
  {
   "cell_type": "code",
   "execution_count": null,
   "metadata": {},
   "outputs": [],
   "source": [
    "# copy the raw contour data into the project geodatabase"
   ]
  },
  {
   "cell_type": "code",
   "execution_count": 43,
   "metadata": {},
   "outputs": [
    {
     "data": {
      "text/html": [
       "<div class='gpresult'><h2>Messages</h2><div id='messages' data-messages='[\"Start Time: Monday, August 7, 2023 2:29:55 PM\",\"Succeeded at Monday, August 7, 2023 2:29:55 PM (Elapsed Time: 0.65 seconds)\"]' data-show='true'><div id = 'default' /></div></div>"
      ],
      "text/plain": [
       "<Result 'C:\\\\Workspace\\\\Geodata\\\\MEP\\\\gwdepth.gdb\\\\Water_Tables_2ft_Contours_Plymouth_Carver'>"
      ]
     },
     "execution_count": 43,
     "metadata": {},
     "output_type": "execute_result"
    }
   ],
   "source": [
    "# plymouth carver ---\n",
    "arcpy.management.CopyFeatures(\n",
    "    in_features=r\"C:\\Workspace\\Geodata\\Massachusetts\\USGS_\\Plymouth_Carver_Water_Tables_2ft_Contours\\Plymouth_Carver_Water_Tables_2ft_Contours.shp\",\n",
    "    out_feature_class=\"Water_Tables_2ft_Contours_Plymouth_Carver\")\n",
    "\n",
    "arcpy.management.CalculateField(\n",
    "    in_table=r\"C:\\Workspace\\Geodata\\MEP\\gwdepth.gdb\\Water_Tables_2ft_Contours_Plymouth_Carver\",\n",
    "    field=\"ELEV_METER\",\n",
    "    expression=\"!Contour!*0.3048\",\n",
    "    expression_type=\"PYTHON3\",\n",
    "    code_block=\"\",\n",
    "    field_type=\"TEXT\",\n",
    "    enforce_domains=\"NO_ENFORCE_DOMAINS\"\n",
    ")\n",
    "\n",
    "arcpy.management.DeleteField(\n",
    "    in_table=\"Water_Tables_2ft_Contours_Plymouth_Carver\",\n",
    "    drop_field=\"Contour\",\n",
    "    method=\"DELETE_FIELDS\"\n",
    ")"
   ]
  },
  {
   "cell_type": "code",
   "execution_count": 44,
   "metadata": {},
   "outputs": [
    {
     "data": {
      "text/html": [
       "<div class='gpresult'><h2>Messages</h2><div id='messages' data-messages='[\"Start Time: Monday, August 7, 2023 2:29:59 PM\",\"Succeeded at Monday, August 7, 2023 2:30:00 PM (Elapsed Time: 1.16 seconds)\"]' data-show='true'><div id = 'default' /></div></div>"
      ],
      "text/plain": [
       "<Result 'C:\\\\Workspace\\\\Geodata\\\\MEP\\\\gwdepth.gdb\\\\Water_Tables_2ft_Contours_Cape_Cod'>"
      ]
     },
     "execution_count": 44,
     "metadata": {},
     "output_type": "execute_result"
    }
   ],
   "source": [
    "# cape cod ---\n",
    "arcpy.management.CopyFeatures(\n",
    "    in_features=r\"C:\\Workspace\\Geodata\\Massachusetts\\USGS_\\Cape_Cod_Water_Tables_2ft_Contours\\Cape_Cod_Water_Tables_2ft_Contours.shp\",\n",
    "    out_feature_class=\"Water_Tables_2ft_Contours_Cape_Cod_Raw\")\n",
    "\n",
    "arcpy.management.DeleteField(\n",
    "    in_table=\"Water_Tables_2ft_Contours_Cape_Cod_Raw\",\n",
    "    drop_field=\"ELEV_FTASL;CONTOUR;Shape_Leng\",\n",
    "    method=\"DELETE_FIELDS\"\n",
    ")\n",
    "\n",
    "# removing the first four features since they are located on mainland (not on the cape)\n",
    "selection = arcpy.management.SelectLayerByAttribute(\n",
    "    in_layer_or_view=\"Water_Tables_2ft_Contours_Cape_Cod_Raw\",\n",
    "    selection_type=\"NEW_SELECTION\",\n",
    "    where_clause=\"OBJECTID NOT IN (1, 2, 3, 4)\",\n",
    "    invert_where_clause=None\n",
    ")\n",
    "\n",
    "# save the edited layer\n",
    "arcpy.management.CopyFeatures(\n",
    "    in_features=selection,\n",
    "    out_feature_class=\"Water_Tables_2ft_Contours_Cape_Cod\")"
   ]
  },
  {
   "cell_type": "code",
   "execution_count": 45,
   "metadata": {},
   "outputs": [
    {
     "data": {
      "text/html": [
       "<div class='gpresult'><h2>Messages</h2><div id='messages' data-messages='[\"Start Time: Monday, August 7, 2023 2:30:02 PM\",\"Succeeded at Monday, August 7, 2023 2:30:03 PM (Elapsed Time: 0.75 seconds)\"]' data-show='true'><div id = 'default' /></div></div>"
      ],
      "text/plain": [
       "<Result 'C:\\\\Workspace\\\\Geodata\\\\MEP\\\\gwdepth.gdb\\\\Water_Tables_2ft_Contours_Merge'>"
      ]
     },
     "execution_count": 45,
     "metadata": {},
     "output_type": "execute_result"
    }
   ],
   "source": [
    "# Merge the cape cod and plymouth carver water table contour lines\n",
    "arcpy.management.Merge(\n",
    "    inputs=\"Water_Tables_2ft_Contours_Cape_Cod;Water_Tables_2ft_Contours_Plymouth_Carver\",\n",
    "    output=\"Water_Tables_2ft_Contours_Merge\",\n",
    "    add_source=\"ADD_SOURCE_INFO\"\n",
    ")\n",
    "\n",
    "arcpy.management.DeleteField(\n",
    "    in_table=\"Water_Tables_2ft_Contours_Merge\",\n",
    "    drop_field=\"OBJECTID\",\n",
    "    method=\"DELETE_FIELDS\"\n",
    ")"
   ]
  },
  {
   "cell_type": "code",
   "execution_count": 58,
   "metadata": {},
   "outputs": [],
   "source": [
    "tin_file = r\"C:\\Workspace\\Geodata\\MEP\\outputs\\tin_gw_meters\""
   ]
  },
  {
   "cell_type": "code",
   "execution_count": null,
   "metadata": {},
   "outputs": [],
   "source": [
    "# NOTE I USE AN EDITED version of the contour lines layer that adds a vertex at 21.5m elevation on the cape."
   ]
  },
  {
   "cell_type": "code",
   "execution_count": 59,
   "metadata": {},
   "outputs": [
    {
     "data": {
      "text/html": [
       "<div class='gpresult'><h2>Messages</h2><div id='messages' data-messages='[\"Start Time: Tuesday, August 8, 2023 12:31:08 PM\",\"Succeeded at Tuesday, August 8, 2023 12:31:09 PM (Elapsed Time: 0.83 seconds)\"]' data-show='true'><div id = 'default' /></div></div>"
      ],
      "text/plain": [
       "<Result 'C:\\\\Workspace\\\\Geodata\\\\MEP\\\\outputs\\\\tin_gw_meters'>"
      ]
     },
     "execution_count": 59,
     "metadata": {},
     "output_type": "execute_result"
    }
   ],
   "source": [
    "# Create TIN (triangular irregular network) from merged contour lines and convert to raster\n",
    "arcpy.ddd.CreateTin(\n",
    "    out_tin=tin_file,\n",
    "    in_features=\"Water_Tables_2ft_Contours_Merge_Edit ELEV_METER Hard_Line <None>\",\n",
    "    constrained_delaunay=\"DELAUNAY\"\n",
    ")"
   ]
  },
  {
   "cell_type": "code",
   "execution_count": 62,
   "metadata": {},
   "outputs": [],
   "source": [
    "with arcpy.EnvManager(snapRaster=\"lid_elev_meters\"):\n",
    "    arcpy.ddd.TinRaster(\n",
    "        in_tin=tin_file,\n",
    "        out_raster=r\"C:\\Workspace\\Geodata\\MEP\\gwdepth.gdb\\gw_elev_meters\",\n",
    "        data_type=\"FLOAT\",\n",
    "        method=\"LINEAR\",\n",
    "        sample_distance=\"CELLSIZE\",\n",
    "        z_factor=1,\n",
    "        sample_value=10\n",
    "    )"
   ]
  },
  {
   "cell_type": "code",
   "execution_count": 4,
   "metadata": {},
   "outputs": [
    {
     "data": {
      "text/html": [
       "<div class='gpresult'><h2>Messages</h2><div id='messages' data-messages='[\"Start Time: Tuesday, August 8, 2023 1:42:38 PM\",\"Succeeded at Tuesday, August 8, 2023 1:42:38 PM (Elapsed Time: 0.33 seconds)\"]' data-show='true'><div id = 'default' /></div></div>"
      ],
      "text/plain": [
       "<Result 'C:\\\\Workspace\\\\Geodata\\\\MEP\\\\gwdepth.gdb\\\\contour_mask_poly'>"
      ]
     },
     "execution_count": 4,
     "metadata": {},
     "output_type": "execute_result"
    }
   ],
   "source": [
    "# copy the mask of the groundwater contour lines to the gdb\n",
    "arcpy.management.CopyFeatures(\n",
    "    in_features=r\"C:\\Workspace\\Geodata\\MEP\\outputs\\Contour_Mask.gdb\\Placemarks\\Polygons\",\n",
    "    out_feature_class=r\"contour_mask_poly\")"
   ]
  },
  {
   "cell_type": "code",
   "execution_count": 5,
   "metadata": {},
   "outputs": [],
   "source": [
    "with arcpy.EnvManager(outputCoordinateSystem='PROJCS[\"NAD_1983_UTM_Zone_19N\",GEOGCS[\"GCS_North_American_1983\",DATUM[\"D_North_American_1983\",SPHEROID[\"GRS_1980\",6378137.0,298.257222101]],PRIMEM[\"Greenwich\",0.0],UNIT[\"Degree\",0.0174532925199433]],PROJECTION[\"Transverse_Mercator\"],PARAMETER[\"False_Easting\",500000.0],PARAMETER[\"False_Northing\",0.0],PARAMETER[\"Central_Meridian\",-69.0],PARAMETER[\"Scale_Factor\",0.9996],PARAMETER[\"Latitude_Of_Origin\",0.0],UNIT[\"Meter\",1.0]]', snapRaster=\"gw_elev_meters\", extent='346823.303957774 4597731.43403507 422133.303957774 4662251.43403507 PROJCS[\"NAD_1983_UTM_Zone_19N\",GEOGCS[\"GCS_North_American_1983\",DATUM[\"D_North_American_1983\",SPHEROID[\"GRS_1980\",6378137.0,298.257222101]],PRIMEM[\"Greenwich\",0.0],UNIT[\"Degree\",0.0174532925199433]],PROJECTION[\"Transverse_Mercator\"],PARAMETER[\"False_Easting\",500000.0],PARAMETER[\"False_Northing\",0.0],PARAMETER[\"Central_Meridian\",-69.0],PARAMETER[\"Scale_Factor\",0.9996],PARAMETER[\"Latitude_Of_Origin\",0.0],UNIT[\"Meter\",1.0]]', cellSize=\"gw_elev_meters\"):\n",
    "    arcpy.conversion.FeatureToRaster(\n",
    "        in_features=r\"Contour_Mask\\Polygons\",\n",
    "        field=\"OID\",\n",
    "        out_raster=\"contour_mask_rast\")"
   ]
  },
  {
   "cell_type": "code",
   "execution_count": 6,
   "metadata": {},
   "outputs": [],
   "source": [
    "mask = arcpy.sa.Raster(\"contour_mask_rast\")"
   ]
  },
  {
   "cell_type": "code",
   "execution_count": 7,
   "metadata": {
    "scrolled": true
   },
   "outputs": [],
   "source": [
    "gw_elev_meters = arcpy.sa.Raster(\"gw_elev_meters\")*mask\n",
    "lid_elev_meters = arcpy.sa.Raster(\"lid_elev_meters\")\n",
    "gw_depth_meters = lid_elev_meters - gw_elev_meters\n",
    "gw_depth_meters.save(\"gw_depth_meters\")"
   ]
  },
  {
   "cell_type": "code",
   "execution_count": 8,
   "metadata": {},
   "outputs": [],
   "source": [
    "gw_depth_lt1_meters = gw_depth_meters < 1\n",
    "gw_depth_lt1_meters.save(\"gw_depth_lt_1m\")"
   ]
  },
  {
   "cell_type": "code",
   "execution_count": 9,
   "metadata": {},
   "outputs": [],
   "source": [
    "gw_depth_meters = arcpy.sa.Raster(\"gw_depth_meters\")\n",
    "gw_depth_lt1_meters = gw_depth_meters < 0.5\n",
    "gw_depth_lt1_meters.save(\"gw_depth_lt_0p5m\")"
   ]
  },
  {
   "cell_type": "code",
   "execution_count": 10,
   "metadata": {},
   "outputs": [],
   "source": [
    "gw_elev_meters.save(\"gw_elev_meters_masked\")"
   ]
  },
  {
   "cell_type": "code",
   "execution_count": 3,
   "metadata": {
    "scrolled": true
   },
   "outputs": [],
   "source": []
  },
  {
   "cell_type": "code",
   "execution_count": 5,
   "metadata": {},
   "outputs": [],
   "source": []
  }
 ],
 "metadata": {
  "kernelspec": {
   "display_name": "ArcGISPro",
   "language": "Python",
   "name": "python3"
  },
  "language_info": {
   "file_extension": ".py",
   "name": "python",
   "version": "3"
  }
 },
 "nbformat": 4,
 "nbformat_minor": 2
}
