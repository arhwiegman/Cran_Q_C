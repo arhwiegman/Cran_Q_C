{
 "cells": [
  {
   "cell_type": "markdown",
   "metadata": {},
   "source": [
    "## Metadata\n",
    "Calculate Groundwater Flow \n",
    "\n",
    "Author: Adrian Wiegman\n",
    "\n",
    "Date Modified: 10/31/2023\n",
    "\n",
    "From the hydroenforced elevation model I calculate flow direction, then flow accumulation. "
   ]
  },
  {
   "cell_type": "markdown",
   "metadata": {},
   "source": [
    "## Setup Environment"
   ]
  },
  {
   "cell_type": "code",
   "execution_count": 4,
   "metadata": {},
   "outputs": [
    {
     "name": "stdout",
     "output_type": "stream",
     "text": [
      "***\n",
      "loading python modules...\n",
      "\n",
      "  `module_list` contains names of all loaded modules\n",
      "\n",
      "...module loading complete\n",
      "\n",
      "***\n",
      "loading user defined functions...\n",
      "\n",
      "type `fn_`+TAB to for autocomplete suggestions\n",
      "\n",
      " the object `def_list` contains user defined function names:\n",
      "   fn_get_info\n",
      "   fn_arcgis_table_to_df\n",
      "   fn_arcgis_table_to_np_to_pd_df\n",
      "   fn_run_script_w_propy_bat\n",
      "   fn_try_mkdir\n",
      "   fn_hello\n",
      "   fn_recursive_glob_search\n",
      "   fn_regex_search_replace\n",
      "   fn_regex_search_0\n",
      "   fn_arcpy_table_to_excel\n",
      "   fn_agg_sum_df_on_group\n",
      "   fn_add_prefix_suffix_to_selected_cols\n",
      "   fn_calc_pct_cover_within_groups\n",
      "   fn_buildWhereClauseFromList\n",
      "   fn_FA_to_Q\n",
      "\n",
      " use ??{insert fn name} to inspect\n",
      " for example running `??fn_get_info` returns:\n",
      "\u001b[1;31mSignature:\u001b[0m \u001b[0mfn_get_info\u001b[0m\u001b[1;33m(\u001b[0m\u001b[0mname\u001b[0m\u001b[1;33m=\u001b[0m\u001b[1;34m'fn_get_info'\u001b[0m\u001b[1;33m)\u001b[0m\u001b[1;33m\u001b[0m\u001b[1;33m\u001b[0m\u001b[0m\n",
      "\u001b[1;31mSource:\u001b[0m   \n",
      "\u001b[1;32mdef\u001b[0m \u001b[0mfn_get_info\u001b[0m\u001b[1;33m(\u001b[0m\u001b[0mname\u001b[0m\u001b[1;33m=\u001b[0m\u001b[1;34m'fn_get_info'\u001b[0m\u001b[1;33m)\u001b[0m\u001b[1;33m:\u001b[0m\u001b[1;33m\n",
      "\u001b[0m    \u001b[1;34m'''\n",
      "    returns the source information about a given function name\n",
      "    '''\u001b[0m\u001b[1;33m\n",
      "\u001b[0m    \u001b[0mget_ipython\u001b[0m\u001b[1;33m(\u001b[0m\u001b[1;33m)\u001b[0m\u001b[1;33m.\u001b[0m\u001b[0mrun_line_magic\u001b[0m\u001b[1;33m(\u001b[0m\u001b[1;34m'pinfo2'\u001b[0m\u001b[1;33m,\u001b[0m \u001b[1;34m'$name'\u001b[0m\u001b[1;33m)\u001b[0m\u001b[1;33m\u001b[0m\u001b[1;33m\u001b[0m\u001b[0m\n",
      "\u001b[1;31mFile:\u001b[0m      c:\\workspace\\geodata\\cran_q_c\\<ipython-input-1-28f96385f735>\n",
      "\u001b[1;31mType:\u001b[0m      function\n",
      "\n",
      " you can also use `fn_get_info(name={insert fn name})` to do the same thing as `??{insert fn name}`\n",
      "\n",
      "...function loading complete\n",
      "\n",
      "***\n",
      "managing project directories:\n",
      " working directory (`wdr`): C:\\Workspace\\Geodata\\Cran_Q_C\\\n",
      " temp dir (`tdr.name`): C:\\Users\\ADRIAN~1.WIE\\AppData\\Local\\Temp\\ArcGISProTemp29500\\tmp7x3x7eud\n",
      " input file directory (`idr`): C:\\Workspace\\Geodata\\Cran_Q_C\\inputs\n",
      " output dir (`odr`): C:\\Workspace\\Geodata\\Cran_Q_C\\outputs\n",
      "\n",
      "\n",
      "\n",
      "\n",
      "***\n",
      "setting up arcpy environment...\n",
      "\n",
      " default geodatabase path (`gdb_default_path`): C:\\Workspace\\Geodata\\Cran_Q_C\\Default.gdb\n",
      " active map (`mx`) name: Map1_prep_bogs\n",
      " output coordinate system: NAD_1983_UTM_Zone_19N\n",
      "\n",
      "... env setup complete\n",
      "\n",
      "\n",
      "+++SETUP COMPLETE+++\n",
      "\n",
      "\n"
     ]
    }
   ],
   "source": [
    "# iphython options\n",
    "# delete variables in workspace\n",
    "%reset -f\n",
    "#places plots inline\n",
    "%matplotlib inline\n",
    "#automatically reloads modules if they are changed\n",
    "%load_ext autoreload \n",
    "%autoreload 2\n",
    "# this codeblock sets up the environment from jupyter notebooks\n",
    "setup_notebook = \"C:/Users/Adrian.Wiegman/Documents/GitHub/Wiegman_USDA_ARS/Cran_Q_C/2_gis/scripts/_Setup.ipynb\"\n",
    "%run $setup_notebook # magic command to run the notebook"
   ]
  },
  {
   "cell_type": "markdown",
   "metadata": {},
   "source": [
    "## Load NO3 Data"
   ]
  },
  {
   "cell_type": "code",
   "execution_count": null,
   "metadata": {},
   "outputs": [],
   "source": [
    "NO3 = arcpy.management.XYTableToPoint(\n",
    "    in_table=os.path.join(wdr,r\"inputs\\df_NO3_rivers_streams.csv\"),\n",
    "    out_feature_class=os.path.join(gdb_default_path,r\"df_NO3_rivers_streams_XYTableToPoint\"),\n",
    "    x_field=\"Long\",\n",
    "    y_field=\"Lat\")"
   ]
  },
  {
   "cell_type": "code",
   "execution_count": 9,
   "metadata": {},
   "outputs": [],
   "source": [
    "NO3_all = arcpy.management.XYTableToPoint(\n",
    "    in_table=os.path.join(wdr,r\"inputs\\df_NO3_all.csv\"),\n",
    "    out_feature_class=os.path.join(gdb_default_path,r\"df_NO3_all_XYTableToPoint\"),\n",
    "    x_field=\"Long\",\n",
    "    y_field=\"Lat\")"
   ]
  },
  {
   "cell_type": "markdown",
   "metadata": {},
   "source": [
    "## Test spatial autocorrelation"
   ]
  },
  {
   "cell_type": "code",
   "execution_count": 8,
   "metadata": {},
   "outputs": [
    {
     "data": {
      "text/html": [
       "<div class='gpresult'><h2>Messages</h2><div id='messages' data-messages='[\"Start Time: Wednesday, November 1, 2023 3:54:27 PM\",\"WARNING 000853: The default neighborhood search threshold was 12600.3589 Meters.\",[{\"element\":\"table\",\"data\":[[\"Moran&#39;s Index\",\"0.367738\"],[\"Expected Index\",\"-0.001608\"],[\"Variance\",\"0.000643\"],[\"z-score\",\"14.571142\"],[\"p-value\",\"0.000000\"]],\"elementProps\":{\"striped\":\"true\",\"noHeader\":true,\"footnote\":[\"Distance measured in Meters\"],\"title\":\"Global Moran&#39;s I Summary\",\"0\":{\"align\":\"left\",\"pad\":\"0px\",\"wrap\":true},\"1\":{\"align\":\"left\",\"pad\":\"0px\",\"wrap\":true}}}],\"Writing html report....\",{\"element\":\"content\",\"data\":[{\"element\":\"hyperlink\",\"data\":\"C:\\\\Workspace\\\\Geodata\\\\Cran_Q_C\\\\MoransI_Result_30200_29500_.html\"}]},\"\",\"Succeeded at Wednesday, November 1, 2023 3:54:27 PM (Elapsed Time: 0.39 seconds)\"]' data-show='true'><div id = 'default' /></div></div>"
      ],
      "text/plain": [
       "<Result '0.367738'>"
      ]
     },
     "execution_count": 8,
     "metadata": {},
     "output_type": "execute_result"
    }
   ],
   "source": [
    "arcpy.stats.SpatialAutocorrelation(\n",
    "    Input_Feature_Class=r\"C:\\Workspace\\Geodata\\Cran_Q_C\\Default.gdb\\df_NO3_rivers_streams_XYTableToPoint\",\n",
    "    Input_Field=\"NO3\",\n",
    "    Generate_Report=\"GENERATE_REPORT\",\n",
    "    Conceptualization_of_Spatial_Relationships=\"INVERSE_DISTANCE\",\n",
    "    Distance_Method=\"EUCLIDEAN_DISTANCE\",\n",
    "    Standardization=\"ROW\",\n",
    "    Distance_Band_or_Threshold_Distance=None,\n",
    "    Weights_Matrix_File=None,\n",
    "    number_of_neighbors=None\n",
    ")"
   ]
  },
  {
   "cell_type": "code",
   "execution_count": 10,
   "metadata": {},
   "outputs": [
    {
     "data": {
      "text/html": [
       "<div class='gpresult'><h2>Messages</h2><div id='messages' data-messages='[\"Start Time: Wednesday, November 1, 2023 3:56:37 PM\",\"WARNING 000642: Problems reading 502 of 1647 total records.\",\"WARNING 000848: Features with bad records (only includes first 30): OBJECTID = 581, 582, 583, 584, 586, 587, 588, 589, 590, 591, 592, 593, 594, 595, 596, 597, 611, 612, 613, 615, 619, 620, 621, 622, 624, 625, 626, 627, 628, 635.\",\"WARNING 000853: The default neighborhood search threshold was 12600.3589 Meters.\",[{\"element\":\"table\",\"data\":[[\"Moran&#39;s Index\",\"0.200963\"],[\"Expected Index\",\"-0.000874\"],[\"Variance\",\"0.000262\"],[\"z-score\",\"12.472967\"],[\"p-value\",\"0.000000\"]],\"elementProps\":{\"striped\":\"true\",\"noHeader\":true,\"footnote\":[\"Distance measured in Meters\"],\"title\":\"Global Moran&#39;s I Summary\",\"0\":{\"align\":\"left\",\"pad\":\"0px\",\"wrap\":true},\"1\":{\"align\":\"left\",\"pad\":\"0px\",\"wrap\":true}}}],\"Writing html report....\",{\"element\":\"content\",\"data\":[{\"element\":\"hyperlink\",\"data\":\"C:\\\\Workspace\\\\Geodata\\\\Cran_Q_C\\\\MoransI_Result_30200_29500_0.html\"}]},\"\",\"Succeeded at Wednesday, November 1, 2023 3:56:38 PM (Elapsed Time: 0.53 seconds)\"]' data-show='true'><div id = 'default' /></div></div>"
      ],
      "text/plain": [
       "<Result '0.200963'>"
      ]
     },
     "execution_count": 10,
     "metadata": {},
     "output_type": "execute_result"
    }
   ],
   "source": [
    "arcpy.stats.SpatialAutocorrelation(\n",
    "    Input_Feature_Class=r\"C:\\Workspace\\Geodata\\Cran_Q_C\\Default.gdb\\df_NO3_all_XYTableToPoint\",\n",
    "    Input_Field=\"NO3\",\n",
    "    Generate_Report=\"GENERATE_REPORT\",\n",
    "    Conceptualization_of_Spatial_Relationships=\"INVERSE_DISTANCE\",\n",
    "    Distance_Method=\"EUCLIDEAN_DISTANCE\",\n",
    "    Standardization=\"ROW\",\n",
    "    Distance_Band_or_Threshold_Distance=None,\n",
    "    Weights_Matrix_File=None,\n",
    "    number_of_neighbors=None\n",
    ")"
   ]
  },
  {
   "cell_type": "code",
   "execution_count": 11,
   "metadata": {},
   "outputs": [],
   "source": [
    "## Perform Spatial Interpolation"
   ]
  },
  {
   "cell_type": "code",
   "execution_count": null,
   "metadata": {},
   "outputs": [],
   "source": [
    "with arcpy.EnvManager(snapRaster=r\"C:\\Workspace\\Geodata\\Cran_Q_C\\Default.gdb\\domain_rast_mask\", mask=r\"C:\\Workspace\\Geodata\\Cran_Q_C\\Default.gdb\\domain_rast_mask\"):\n",
    "    arcpy.ga.EmpiricalBayesianKriging(\n",
    "        in_features=r\"C:\\Workspace\\Geodata\\Cran_Q_C\\Default.gdb\\df_NO3_rivers_streams_XYTableToPoint\",\n",
    "        z_field=\"NO3\",\n",
    "        out_ga_layer=None,\n",
    "        out_raster=r\"C:\\Workspace\\Geodata\\Cran_Q_C\\Default.gdb\\krig_NO3\",\n",
    "        cell_size=100,\n",
    "        transformation_type=\"LOGEMPIRICAL\",\n",
    "        max_local_points=100,\n",
    "        overlap_factor=1,\n",
    "        number_semivariograms=100,\n",
    "        search_neighborhood=\"NBRTYPE=StandardCircular RADIUS=84261.4359376343 ANGLE=0 NBR_MAX=15 NBR_MIN=10 SECTOR_TYPE=ONE_SECTOR\",\n",
    "        output_type=\"PREDICTION\",\n",
    "        quantile_value=0.5,\n",
    "        threshold_type=\"EXCEED\",\n",
    "        probability_threshold=None,\n",
    "        semivariogram_model_type=\"EXPONENTIAL\"\n",
    "    )"
   ]
  }
 ],
 "metadata": {
  "kernelspec": {
   "display_name": "ArcGISPro",
   "language": "Python",
   "name": "python3"
  },
  "language_info": {
   "file_extension": ".py",
   "name": "python",
   "version": "3"
  }
 },
 "nbformat": 4,
 "nbformat_minor": 2
}
