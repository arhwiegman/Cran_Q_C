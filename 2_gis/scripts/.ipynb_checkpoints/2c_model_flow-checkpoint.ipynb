{
 "cells": [
  {
   "cell_type": "markdown",
   "metadata": {},
   "source": [
    "## Metadata\n",
    "\n",
    "Model flow of groundwater\n",
    "\n",
    "Author: Adrian Wiegman\n",
    "\n",
    "Date Modified: 08/24/2024\n",
    "\n",
    "From the hydroenforced elevation model of water table heads I calculate flow direction, then flow accumulation. These are topographic methods, which assume steady state and uniform aquifer hydraulic conductivity within the aquifer. "
   ]
  },
  {
   "cell_type": "markdown",
   "metadata": {},
   "source": [
    "## Setup Environment"
   ]
  },
  {
   "cell_type": "code",
   "execution_count": 32,
   "metadata": {
    "scrolled": true
   },
   "outputs": [
    {
     "name": "stdout",
     "output_type": "stream",
     "text": [
      "The autoreload extension is already loaded. To reload it, use:\n",
      "  %reload_ext autoreload\n",
      "***\n",
      "loading python modules...\n",
      "\n",
      "  `module_list` contains names of all loaded modules\n",
      "\n",
      "...module loading complete\n",
      "\n",
      "***\n",
      "loading user defined functions...\n",
      "\n",
      "type `fn_`+TAB to for autocomplete suggestions\n",
      "\n",
      " the object `def_list` contains user defined function names:\n",
      "   fn_get_info\n",
      "   fn_arcgis_table_to_df\n",
      "   fn_arcgis_table_to_np_to_pd_df\n",
      "   fn_run_script_w_propy_bat\n",
      "   fn_try_mkdir\n",
      "   fn_hello\n",
      "   fn_recursive_glob_search\n",
      "   fn_regex_search_replace\n",
      "   fn_regex_search_0\n",
      "   fn_arcpy_table_to_excel\n",
      "   fn_agg_sum_df_on_group\n",
      "   fn_add_prefix_suffix_to_selected_cols\n",
      "   fn_calc_pct_cover_within_groups\n",
      "   fn_buildWhereClauseFromList\n",
      "   fn_FA_to_Q\n",
      "   fn_alter_field_double\n",
      "   fn_return_float\n",
      "   fn_classify_wetlands\n",
      "\n",
      " use ??{insert fn name} to inspect\n",
      " for example running `??fn_get_info` returns:\n",
      "\u001b[1;31mSignature:\u001b[0m \u001b[0mfn_get_info\u001b[0m\u001b[1;33m(\u001b[0m\u001b[0mname\u001b[0m\u001b[1;33m=\u001b[0m\u001b[1;34m'fn_get_info'\u001b[0m\u001b[1;33m)\u001b[0m\u001b[1;33m\u001b[0m\u001b[1;33m\u001b[0m\u001b[0m\n",
      "\u001b[1;31mSource:\u001b[0m   \n",
      "\u001b[1;32mdef\u001b[0m \u001b[0mfn_get_info\u001b[0m\u001b[1;33m(\u001b[0m\u001b[0mname\u001b[0m\u001b[1;33m=\u001b[0m\u001b[1;34m'fn_get_info'\u001b[0m\u001b[1;33m)\u001b[0m\u001b[1;33m:\u001b[0m\u001b[1;33m\n",
      "\u001b[0m    \u001b[1;34m'''\n",
      "    returns the source information about a given function name\n",
      "    '''\u001b[0m\u001b[1;33m\n",
      "\u001b[0m    \u001b[0mget_ipython\u001b[0m\u001b[1;33m(\u001b[0m\u001b[1;33m)\u001b[0m\u001b[1;33m.\u001b[0m\u001b[0mrun_line_magic\u001b[0m\u001b[1;33m(\u001b[0m\u001b[1;34m'pinfo2'\u001b[0m\u001b[1;33m,\u001b[0m \u001b[1;34m'$name'\u001b[0m\u001b[1;33m)\u001b[0m\u001b[1;33m\u001b[0m\u001b[1;33m\u001b[0m\u001b[0m\n",
      "\u001b[1;31mFile:\u001b[0m      c:\\windows\\system32\\<ipython-input-1-28f96385f735>\n",
      "\u001b[1;31mType:\u001b[0m      function\n",
      "\n",
      " you can also use `fn_get_info(name={insert fn name})` to do the same thing as `??{insert fn name}`\n",
      "\n",
      "...function loading complete\n",
      "\n",
      "***\n",
      "managing project directories:\n",
      " working directory (`wdr`): C:\\Workspace\\Geodata\\Cran_Q_C\\\n",
      " temp dir (`tdr.name`): C:\\Users\\ADRIAN~1.WIE\\AppData\\Local\\Temp\\ArcGISProTemp12048\\tmpgu4bvcsc\n",
      " input file directory (`idr`): C:\\Workspace\\Geodata\\Cran_Q_C\\inputs\n",
      " output dir (`odr`): C:\\Workspace\\Geodata\\Cran_Q_C\\outputs\n",
      "\n",
      "\n",
      "\n",
      "\n",
      "***\n",
      "setting up arcpy environment...\n",
      "\n",
      " default geodatabase path (`gdb_default_path`): C:\\Workspace\\Geodata\\Cran_Q_C\\Default.gdb\n",
      " active map (`mx`) name: Map1_prep_bogs\n",
      " output coordinate system: NAD_1983_UTM_Zone_19N\n",
      "\n",
      "... env setup complete\n",
      "\n",
      "\n",
      "+++SETUP COMPLETE+++\n",
      "\n",
      "\n"
     ]
    }
   ],
   "source": [
    "# iphython options\n",
    "# delete variables in workspace\n",
    "%reset -f\n",
    "#places plots inline\n",
    "%matplotlib inline\n",
    "#automatically reloads modules if they are changed\n",
    "%load_ext autoreload \n",
    "%autoreload 2\n",
    "# this codeblock sets up the environment from jupyter notebooks\n",
    "setup_notebook = \"C:/Users/Adrian.Wiegman/Documents/GitHub/Wiegman_USDA_ARS/Cran_Q_C/2_gis/scripts/_Setup.ipynb\"\n",
    "%run $setup_notebook # magic command to run the notebook"
   ]
  },
  {
   "cell_type": "markdown",
   "metadata": {},
   "source": [
    "## Load Data"
   ]
  },
  {
   "cell_type": "code",
   "execution_count": 34,
   "metadata": {},
   "outputs": [],
   "source": [
    "# groundwater elevation models\n",
    "\n",
    "# raw groundwater elevation\n",
    "# does not resolve cranberry bogs \n",
    "gwe = os.path.join(\"gw_elev_meters\")\n",
    "\n",
    "# raw groundwater elevation with sinks filled\n",
    "# does not resolve cranberry bogs\n",
    "gwef = os.path.join(\"gwe_f\")\n",
    "\n",
    "# burned with 1m for all waterbodies, streams, bogs\n",
    "# since sinks are not filled\n",
    "# this assumes a high amount of gw flow bypassing cranberry bogs\n",
    "gweb = os.path.join(\"gwe_b\")\n",
    "\n",
    "# burned and filled for all waterbodies streams and bogs\n",
    "# this assumes the highest amount of flow to cranberry bogs\n",
    "gwebf = os.path.join(\"gwe_bf\")\n",
    "\n",
    "# burned only for waterbodies streams and bogs where gw depth is less than 1m\n",
    "# this assumes moderate flow bypassing bogs as sinks are not filled\n",
    "gweblt1m = os.path.join(\"gwe_b_lt1m\")\n",
    "\n",
    "# burned and filled for waterbodies streams and bogs where gw depth is less than 1m\n",
    "# this assumes flow bypasses bogs where gw is greater than 1m deep\n",
    "gwebflt1m = os.path.join(\"gwe_bf_lt1m\")\n",
    "\n",
    "# hybrid layer with weighted average of groundwater elevation (k=0.99) and lidar (k=0.01)\n",
    "gwelidk1 = os.path.join(\"gwe_bf_lid_k1\")\n",
    "\n",
    "# hybrid layer with weighted average of groundwater elevation (k=0.95) and lidar (k=0.05)\n",
    "gwelidk5 = os.path.join(\"gwe_bf_lid_k5\")\n",
    "\n",
    "# 2024-08-24\n",
    "# hybrid layer areas where groundwater depth is less than 1m below the surface have been replaced with surface lidar \n",
    "# this allows groundwater to be routed to the coast via surface water drainage gradients\n",
    "# this layer fixes potential bugs in gwebf where by the polygons shifts gradients in unrealistic ways\n",
    "# such that a cranberry bog next to a pond would intercept all flow even though there is a stream outlet at the pond. \n",
    "# this method preserves surface gradients of ponds, streams, floodplains, and wetlands.\n",
    "gwelid1m = os.path.join(\"gwe_lid_lt1m\")\n",
    "\n",
    "elev_rasters = [gwe,gwef,gweb,gwebf,gweblt1m,gwebflt1m,gwelidk1,gwelidk5,gwelid1m]\n",
    "suffixes = [\"gwe\",\"gwe_f\",\"gwe_b\",\"gwe_bf\",\"gwe_b_lt1m\",\"gwe_bf_lt1m\",\"gwe_bf_lid_k1\",\"gwe_bf_lid_k5\",\"gwe_lid_lt1m\"]\n"
   ]
  },
  {
   "cell_type": "code",
   "execution_count": 36,
   "metadata": {},
   "outputs": [
    {
     "name": "stdout",
     "output_type": "stream",
     "text": [
      "calculating D8 flow direction for gw_elev_meters\n",
      "calculating D8 flow direction for gwe_f\n",
      "calculating D8 flow direction for gwe_b\n",
      "calculating D8 flow direction for gwe_bf\n",
      "calculating D8 flow direction for gwe_b_lt1m\n",
      "calculating D8 flow direction for gwe_bf_lt1m\n",
      "calculating D8 flow direction for gwe_bf_lid_k1\n",
      "calculating D8 flow direction for gwe_bf_lid_k5\n",
      "calculating D8 flow direction for gwe_lid_lt1m\n"
     ]
    }
   ],
   "source": [
    "# calculate flow direction\n",
    "i=0\n",
    "for er in elev_rasters:\n",
    "    print(\"calculating D8 flow direction for {}\".format(er))\n",
    "    D8 = arcpy.sa.FlowDirection(in_surface_raster=er,\n",
    "                                force_flow=\"FORCE\",\n",
    "                                flow_direction_type=\"D8\")\n",
    "    _ = D8\n",
    "    _.save(\"D8_{}\".format(suffixes[i]))\n",
    "    i+=1\n",
    "    #if i == 2:\n",
    "    #   break"
   ]
  },
  {
   "cell_type": "code",
   "execution_count": 37,
   "metadata": {},
   "outputs": [
    {
     "name": "stdout",
     "output_type": "stream",
     "text": [
      "calculating D8 flow direction for gw_elev_meters\n",
      "calculating D8 flow direction for gwe_f\n",
      "calculating D8 flow direction for gwe_b\n",
      "calculating D8 flow direction for gwe_bf\n",
      "calculating D8 flow direction for gwe_b_lt1m\n",
      "calculating D8 flow direction for gwe_bf_lt1m\n",
      "calculating D8 flow direction for gwe_bf_lid_k1\n",
      "calculating D8 flow direction for gwe_bf_lid_k5\n",
      "calculating D8 flow direction for gwe_lid_lt1m\n"
     ]
    }
   ],
   "source": [
    "# calculate flow direction\n",
    "i=0\n",
    "for er in elev_rasters:\n",
    "    print(\"calculating D8 flow direction for {}\".format(er))\n",
    "    D8 = arcpy.sa.FlowDirection(in_surface_raster=er,\n",
    "                                #force_flow=\"FORCE\",\n",
    "                                flow_direction_type=\"D8\")\n",
    "    _ = D8\n",
    "    _.save(\"D8_{}_noforce\".format(suffixes[i]))\n",
    "    i+=1\n",
    "    #if i == 2:\n",
    "    #   break"
   ]
  },
  {
   "cell_type": "code",
   "execution_count": 38,
   "metadata": {},
   "outputs": [
    {
     "name": "stdout",
     "output_type": "stream",
     "text": [
      "calculating D8 flow accumulation for gwe\n",
      "calculating D8 flow accumulation for gwe_f\n",
      "calculating D8 flow accumulation for gwe_b\n",
      "calculating D8 flow accumulation for gwe_bf\n",
      "calculating D8 flow accumulation for gwe_b_lt1m\n",
      "calculating D8 flow accumulation for gwe_bf_lt1m\n",
      "calculating D8 flow accumulation for gwe_bf_lid_k1\n"
     ]
    },
    {
     "ename": "ExecuteError",
     "evalue": "ERROR 999999: Something unexpected caused the tool to fail. Contact Esri Technical Support (http://esriurl.com/support) to Report a Bug, and refer to the error help for potential solutions or workarounds.\nFailed to execute (FlowAccumulation).\n",
     "output_type": "error",
     "traceback": [
      "\u001b[0;31m---------------------------------------------------------------------------\u001b[0m\n\u001b[0;31mExecuteError\u001b[0m                              Traceback (most recent call last)",
      "In  \u001b[0;34m[38]\u001b[0m:\nLine \u001b[0;34m5\u001b[0m:     FA = arcpy.sa.FlowAccumulation(\u001b[37m\u001b[39;49;00m\n",
      "File \u001b[0;34mC:\\Program Files\\ArcGIS\\Pro\\Resources\\ArcPy\\arcpy\\sa\\Functions.py\u001b[0m, in \u001b[0;32mFlowAccumulation\u001b[0m:\nLine \u001b[0;34m8167\u001b[0m:  \u001b[34mreturn\u001b[39;49;00m Wrapper(\u001b[37m\u001b[39;49;00m\n",
      "File \u001b[0;34mC:\\Program Files\\ArcGIS\\Pro\\Resources\\ArcPy\\arcpy\\sa\\Utils.py\u001b[0m, in \u001b[0;32mswapper\u001b[0m:\nLine \u001b[0;34m55\u001b[0m:    result = wrapper(*args, **kwargs)\u001b[37m\u001b[39;49;00m\n",
      "File \u001b[0;34mC:\\Program Files\\ArcGIS\\Pro\\Resources\\ArcPy\\arcpy\\sa\\Functions.py\u001b[0m, in \u001b[0;32mWrapper\u001b[0m:\nLine \u001b[0;34m8160\u001b[0m:  result = arcpy.gp.FlowAccumulation_sa(\u001b[37m\u001b[39;49;00m\n",
      "File \u001b[0;34mC:\\Program Files\\ArcGIS\\Pro\\Resources\\ArcPy\\arcpy\\geoprocessing\\_base.py\u001b[0m, in \u001b[0;32m<lambda>\u001b[0m:\nLine \u001b[0;34m520\u001b[0m:   \u001b[34mreturn\u001b[39;49;00m \u001b[34mlambda\u001b[39;49;00m *args: val(*gp_fixargs(args, \u001b[34mTrue\u001b[39;49;00m))\u001b[37m\u001b[39;49;00m\n",
      "\u001b[0;31mExecuteError\u001b[0m: ERROR 999999: Something unexpected caused the tool to fail. Contact Esri Technical Support (http://esriurl.com/support) to Report a Bug, and refer to the error help for potential solutions or workarounds.\nFailed to execute (FlowAccumulation).\n\n\u001b[0;31m---------------------------------------------------------------------------\u001b[0m"
     ]
    }
   ],
   "source": [
    "# calculate flow accumulation for d8\n",
    "i=0\n",
    "for suffix in suffixes:\n",
    "    print(\"calculating D8 flow accumulation for {}\".format(suffix))\n",
    "    FA = arcpy.sa.FlowAccumulation(\n",
    "        in_flow_direction_raster=\"D8_{}\".format(suffix),\n",
    "        in_weight_raster=None,\n",
    "        data_type=\"FLOAT\",\n",
    "        flow_direction_type=\"D8\")\n",
    "    _ = FA\n",
    "    FA.save(\"FA_D8_{}\".format(suffix))\n",
    "    i+=1\n",
    "#    if i == 2:\n",
    "#        break"
   ]
  },
  {
   "cell_type": "code",
   "execution_count": 39,
   "metadata": {},
   "outputs": [
    {
     "name": "stdout",
     "output_type": "stream",
     "text": [
      "calculating D inf flow direction for gw_elev_meters\n",
      "calculating D inf flow direction for gwe_f\n",
      "calculating D inf flow direction for gwe_b\n",
      "calculating D inf flow direction for gwe_bf\n",
      "calculating D inf flow direction for gwe_b_lt1m\n",
      "calculating D inf flow direction for gwe_bf_lt1m\n",
      "calculating D inf flow direction for gwe_bf_lid_k1\n",
      "calculating D inf flow direction for gwe_bf_lid_k5\n",
      "calculating D inf flow direction for gwe_lid_lt1m\n"
     ]
    }
   ],
   "source": [
    "# calculate flow Dinf direction\n",
    "i=0\n",
    "for er in elev_rasters:\n",
    "    print(\"calculating D inf flow direction for {}\".format(er))\n",
    "    Dinf = arcpy.sa.FlowDirection(in_surface_raster=er,\n",
    "                                force_flow=\"FORCE\",\n",
    "                                flow_direction_type=\"DINF\")\n",
    "    _ = Dinf\n",
    "    _.save(\"Dinf_{}\".format(suffixes[i]))\n",
    "    i+=1\n",
    "    #if i == 2:\n",
    "    #   break"
   ]
  },
  {
   "cell_type": "code",
   "execution_count": 40,
   "metadata": {},
   "outputs": [
    {
     "name": "stdout",
     "output_type": "stream",
     "text": [
      "calculating D inf flow accumulation for gwe\n",
      "calculating D inf flow accumulation for gwe_f\n",
      "calculating D inf flow accumulation for gwe_b\n",
      "calculating D inf flow accumulation for gwe_bf\n",
      "calculating D inf flow accumulation for gwe_b_lt1m\n",
      "calculating D inf flow accumulation for gwe_bf_lt1m\n",
      "calculating D inf flow accumulation for gwe_bf_lid_k1\n",
      "calculating D inf flow accumulation for gwe_bf_lid_k5\n",
      "calculating D inf flow accumulation for gwe_lid_lt1m\n"
     ]
    }
   ],
   "source": [
    "# calculate flow accumulation for Dinf\n",
    "i=0\n",
    "for suffix in suffixes:\n",
    "    print(\"calculating D inf flow accumulation for {}\".format(suffix))\n",
    "    FA = arcpy.sa.FlowAccumulation(\n",
    "        in_flow_direction_raster=\"Dinf_{}\".format(suffix),\n",
    "        in_weight_raster=None,\n",
    "        data_type=\"FLOAT\",\n",
    "        flow_direction_type=\"DINF\")\n",
    "    _ = FA\n",
    "    FA.save(\"FA_Dinf_{}\".format(suffix))\n",
    "    i+=1\n",
    "#    if i == 2:\n",
    "#        break"
   ]
  },
  {
   "cell_type": "raw",
   "metadata": {},
   "source": [
    "# this command does not work for MDF, need to do this manually\n",
    "# calculate flow Dinf direction\n",
    "i=0\n",
    "for er in elev_rasters:\n",
    "    print(\"calculating MFD flow direction for {}\".format(er))\n",
    "    MFD = arcpy.sa.FlowDirection(in_surface_raster=er,\n",
    "                                force_flow=\"FORCE\",\n",
    "                                flow_direction_type=\"MFD\")\n",
    "    _ = MFD\n",
    "    print()\n",
    "    _.save(os.path.join(odr,\"DMF_{}.crf\".format(suffixes[i])))\n",
    "    i+=1\n",
    "    #if i == 2:\n",
    "    #   break\n",
    "    \n",
    "# Note: MDF rerun for updated layers on 08/24/2024\n",
    "# Note these files are saved with prefix DMF"
   ]
  },
  {
   "cell_type": "code",
   "execution_count": 41,
   "metadata": {},
   "outputs": [
    {
     "data": {
      "text/plain": [
       "'C:\\\\Workspace\\\\Geodata\\\\Cran_Q_C\\\\outputs\\\\DMF_gwe.crf'"
      ]
     },
     "execution_count": 41,
     "metadata": {},
     "output_type": "execute_result"
    }
   ],
   "source": [
    "i=0\n",
    "os.path.join(odr,\"DMF_{}.crf\".format(suffixes[i]))"
   ]
  },
  {
   "cell_type": "code",
   "execution_count": 42,
   "metadata": {},
   "outputs": [
    {
     "name": "stdout",
     "output_type": "stream",
     "text": [
      "calculating MFD accumulation for gwe\n",
      "     input file: C:\\Workspace\\Geodata\\Cran_Q_C\\outputs\\DMF_gwe.crf\n",
      "calculating MFD accumulation for gwe_f\n",
      "     input file: C:\\Workspace\\Geodata\\Cran_Q_C\\outputs\\DMF_gwe_f.crf\n",
      "calculating MFD accumulation for gwe_b\n",
      "     input file: C:\\Workspace\\Geodata\\Cran_Q_C\\outputs\\DMF_gwe_b.crf\n",
      "calculating MFD accumulation for gwe_bf\n",
      "     input file: C:\\Workspace\\Geodata\\Cran_Q_C\\outputs\\DMF_gwe_bf.crf\n",
      "calculating MFD accumulation for gwe_b_lt1m\n",
      "     input file: C:\\Workspace\\Geodata\\Cran_Q_C\\outputs\\DMF_gwe_b_lt1m.crf\n",
      "calculating MFD accumulation for gwe_bf_lt1m\n",
      "     input file: C:\\Workspace\\Geodata\\Cran_Q_C\\outputs\\DMF_gwe_bf_lt1m.crf\n",
      "calculating MFD accumulation for gwe_bf_lid_k1\n",
      "     input file: C:\\Workspace\\Geodata\\Cran_Q_C\\outputs\\DMF_gwe_bf_lid_k1.crf\n"
     ]
    },
    {
     "ename": "ExecuteError",
     "evalue": "Failed to execute. Parameters are not valid.\nERROR 000865: Input flow direction raster: C:\\Workspace\\Geodata\\Cran_Q_C\\outputs\\DMF_gwe_bf_lid_k1.crf does not exist.\nFailed to execute (FlowAccumulation).\n",
     "output_type": "error",
     "traceback": [
      "\u001b[0;31m---------------------------------------------------------------------------\u001b[0m\n\u001b[0;31mExecuteError\u001b[0m                              Traceback (most recent call last)",
      "In  \u001b[0;34m[42]\u001b[0m:\nLine \u001b[0;34m6\u001b[0m:     FA = arcpy.sa.FlowAccumulation(\u001b[37m\u001b[39;49;00m\n",
      "File \u001b[0;34mC:\\Program Files\\ArcGIS\\Pro\\Resources\\ArcPy\\arcpy\\sa\\Functions.py\u001b[0m, in \u001b[0;32mFlowAccumulation\u001b[0m:\nLine \u001b[0;34m8167\u001b[0m:  \u001b[34mreturn\u001b[39;49;00m Wrapper(\u001b[37m\u001b[39;49;00m\n",
      "File \u001b[0;34mC:\\Program Files\\ArcGIS\\Pro\\Resources\\ArcPy\\arcpy\\sa\\Utils.py\u001b[0m, in \u001b[0;32mswapper\u001b[0m:\nLine \u001b[0;34m55\u001b[0m:    result = wrapper(*args, **kwargs)\u001b[37m\u001b[39;49;00m\n",
      "File \u001b[0;34mC:\\Program Files\\ArcGIS\\Pro\\Resources\\ArcPy\\arcpy\\sa\\Functions.py\u001b[0m, in \u001b[0;32mWrapper\u001b[0m:\nLine \u001b[0;34m8160\u001b[0m:  result = arcpy.gp.FlowAccumulation_sa(\u001b[37m\u001b[39;49;00m\n",
      "File \u001b[0;34mC:\\Program Files\\ArcGIS\\Pro\\Resources\\ArcPy\\arcpy\\geoprocessing\\_base.py\u001b[0m, in \u001b[0;32m<lambda>\u001b[0m:\nLine \u001b[0;34m520\u001b[0m:   \u001b[34mreturn\u001b[39;49;00m \u001b[34mlambda\u001b[39;49;00m *args: val(*gp_fixargs(args, \u001b[34mTrue\u001b[39;49;00m))\u001b[37m\u001b[39;49;00m\n",
      "\u001b[0;31mExecuteError\u001b[0m: Failed to execute. Parameters are not valid.\nERROR 000865: Input flow direction raster: C:\\Workspace\\Geodata\\Cran_Q_C\\outputs\\DMF_gwe_bf_lid_k1.crf does not exist.\nFailed to execute (FlowAccumulation).\n\n\u001b[0;31m---------------------------------------------------------------------------\u001b[0m"
     ]
    }
   ],
   "source": [
    "# calculate flow accumulation for MFD aka DMF\n",
    "i=6\n",
    "for suffix in suffixes:\n",
    "    print(\"calculating MFD accumulation for {}\".format(suffix))\n",
    "    print(\"     input file:\",os.path.join(odr,\"DMF_{}.crf\".format(suffix)))\n",
    "    FA = arcpy.sa.FlowAccumulation(\n",
    "        in_flow_direction_raster=os.path.join(odr,\"DMF_{}.crf\".format(suffix)),\n",
    "        in_weight_raster=None,\n",
    "        data_type=\"FLOAT\",\n",
    "        flow_direction_type=\"MFD\")\n",
    "    _ = FA\n",
    "    FA.save(\"FA_MFD_{}\".format(suffix))\n",
    "    i+=1\n",
    "#    if i == 2:\n",
    "#        break"
   ]
  },
  {
   "cell_type": "markdown",
   "metadata": {},
   "source": [
    "# Appendix \n",
    "## Unused Code "
   ]
  }
 ],
 "metadata": {
  "kernelspec": {
   "display_name": "ArcGISPro",
   "language": "Python",
   "name": "python3"
  },
  "language_info": {
   "file_extension": ".py",
   "name": "python",
   "version": "3"
  }
 },
 "nbformat": 4,
 "nbformat_minor": 2
}
