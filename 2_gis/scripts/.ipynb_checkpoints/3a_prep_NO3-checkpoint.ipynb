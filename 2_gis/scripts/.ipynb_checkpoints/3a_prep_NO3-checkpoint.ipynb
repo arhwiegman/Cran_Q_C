{
 "cells": [
  {
   "cell_type": "markdown",
   "metadata": {},
   "source": [
    "## Metadata\n",
    "Prepare NO3 data for interpolation\n",
    "\n",
    "Author: Adrian Wiegman\n",
    "\n",
    "Date Modified: 08/24/2024"
   ]
  },
  {
   "cell_type": "markdown",
   "metadata": {},
   "source": [
    "## Setup Environment"
   ]
  },
  {
   "cell_type": "code",
   "execution_count": 22,
   "metadata": {
    "scrolled": false
   },
   "outputs": [
    {
     "name": "stdout",
     "output_type": "stream",
     "text": [
      "The autoreload extension is already loaded. To reload it, use:\n",
      "  %reload_ext autoreload\n",
      "***\n",
      "loading python modules...\n",
      "\n",
      "  `module_list` contains names of all loaded modules\n",
      "\n",
      "...module loading complete\n",
      "\n",
      "***\n",
      "loading user defined functions...\n",
      "\n",
      "type `fn_`+TAB to for autocomplete suggestions\n",
      "\n",
      " the object `def_list` contains user defined function names:\n",
      "   fn_get_info\n",
      "   fn_arcgis_table_to_df\n",
      "   fn_arcgis_table_to_np_to_pd_df\n",
      "   fn_run_script_w_propy_bat\n",
      "   fn_try_mkdir\n",
      "   fn_hello\n",
      "   fn_recursive_glob_search\n",
      "   fn_regex_search_replace\n",
      "   fn_regex_search_0\n",
      "   fn_arcpy_table_to_excel\n",
      "   fn_agg_sum_df_on_group\n",
      "   fn_add_prefix_suffix_to_selected_cols\n",
      "   fn_calc_pct_cover_within_groups\n",
      "   fn_buildWhereClauseFromList\n",
      "   fn_FA_to_Q\n",
      "   fn_alter_field_double\n",
      "   fn_return_float\n",
      "   fn_classify_wetlands\n",
      "\n",
      " use ??{insert fn name} to inspect\n",
      " for example running `??fn_get_info` returns:\n",
      "\u001b[1;31mSignature:\u001b[0m \u001b[0mfn_get_info\u001b[0m\u001b[1;33m(\u001b[0m\u001b[0mname\u001b[0m\u001b[1;33m=\u001b[0m\u001b[1;34m'fn_get_info'\u001b[0m\u001b[1;33m)\u001b[0m\u001b[1;33m\u001b[0m\u001b[1;33m\u001b[0m\u001b[0m\n",
      "\u001b[1;31mSource:\u001b[0m   \n",
      "\u001b[1;32mdef\u001b[0m \u001b[0mfn_get_info\u001b[0m\u001b[1;33m(\u001b[0m\u001b[0mname\u001b[0m\u001b[1;33m=\u001b[0m\u001b[1;34m'fn_get_info'\u001b[0m\u001b[1;33m)\u001b[0m\u001b[1;33m:\u001b[0m\u001b[1;33m\n",
      "\u001b[0m    \u001b[1;34m'''\n",
      "    returns the source information about a given function name\n",
      "    '''\u001b[0m\u001b[1;33m\n",
      "\u001b[0m    \u001b[0mget_ipython\u001b[0m\u001b[1;33m(\u001b[0m\u001b[1;33m)\u001b[0m\u001b[1;33m.\u001b[0m\u001b[0mrun_line_magic\u001b[0m\u001b[1;33m(\u001b[0m\u001b[1;34m'pinfo2'\u001b[0m\u001b[1;33m,\u001b[0m \u001b[1;34m'$name'\u001b[0m\u001b[1;33m)\u001b[0m\u001b[1;33m\u001b[0m\u001b[1;33m\u001b[0m\u001b[0m\n",
      "\u001b[1;31mFile:\u001b[0m      c:\\workspace\\geodata\\cran_q_c\\<ipython-input-1-28f96385f735>\n",
      "\u001b[1;31mType:\u001b[0m      function\n",
      "\n",
      " you can also use `fn_get_info(name={insert fn name})` to do the same thing as `??{insert fn name}`\n",
      "\n",
      "...function loading complete\n",
      "\n",
      "***\n",
      "managing project directories:\n",
      " working directory (`wdr`): C:\\Workspace\\Geodata\\Cran_Q_C\\\n",
      " temp dir (`tdr.name`): C:\\Users\\ADRIAN~1.WIE\\AppData\\Local\\Temp\\ArcGISProTemp41656\\tmp9v6q_tc1\n",
      " input file directory (`idr`): C:\\Workspace\\Geodata\\Cran_Q_C\\inputs\n",
      " output dir (`odr`): C:\\Workspace\\Geodata\\Cran_Q_C\\outputs\n",
      "\n",
      "\n",
      "\n",
      "\n",
      "***\n",
      "setting up arcpy environment...\n",
      "\n",
      " default geodatabase path (`gdb_default_path`): C:\\Workspace\\Geodata\\Cran_Q_C\\Default.gdb\n",
      " active map (`mx`) name: Map1_prep_bogs\n",
      " output coordinate system: NAD_1983_UTM_Zone_19N\n",
      "\n",
      "... env setup complete\n",
      "\n",
      "\n",
      "+++SETUP COMPLETE+++\n",
      "\n",
      "\n"
     ]
    }
   ],
   "source": [
    "# iphython options\n",
    "# delete variables in workspace\n",
    "%reset -f\n",
    "#places plots inline\n",
    "%matplotlib inline\n",
    "#automatically reloads modules if they are changed\n",
    "%load_ext autoreload \n",
    "%autoreload 2\n",
    "# this codeblock sets up the environment from jupyter notebooks\n",
    "setup_notebook = \"C:/Users/Adrian.Wiegman/Documents/GitHub/Wiegman_USDA_ARS/Cran_Q_C/2_gis/scripts/_Setup.ipynb\"\n",
    "%run $setup_notebook # magic command to run the notebook"
   ]
  },
  {
   "cell_type": "markdown",
   "metadata": {},
   "source": [
    "## Load NO3 Data"
   ]
  },
  {
   "cell_type": "code",
   "execution_count": 23,
   "metadata": {},
   "outputs": [],
   "source": [
    "NO3_TN_all_imputed = arcpy.management.XYTableToPoint(\n",
    "    in_table=r\"C:\\Users\\Adrian.Wiegman\\Documents\\GitHub\\Wiegman_USDA_ARS\\Cran_Q_C\\1_prep\\df_NO3_TN_merged_SE_imputed.csv\",\n",
    "    out_feature_class=r\"C:\\Workspace\\Geodata\\Cran_Q_C\\Default.gdb\\df_NO3_TN_merged_SE_imputed\",\n",
    "    x_field=\"Long\",\n",
    "    y_field=\"Lat\",\n",
    "    z_field=None,\n",
    "    coordinate_system='GEOGCS[\"GCS_WGS_1984\",DATUM[\"D_WGS_1984\",SPHEROID[\"WGS_1984\",6378137.0,298.257223563]],PRIMEM[\"Greenwich\",0.0],UNIT[\"Degree\",0.0174532925199433]];-400 -400 1000000000;-100000 10000;-100000 10000;8.98315284119521E-09;0.001;0.001;IsHighPrecision'\n",
    ")"
   ]
  },
  {
   "cell_type": "code",
   "execution_count": 24,
   "metadata": {},
   "outputs": [],
   "source": [
    "# make a working copy of data \n",
    "_ = arcpy.management.CopyFeatures(\n",
    "    in_features=NO3_TN_all_imputed,\n",
    "    out_feature_class=r\"C:\\Workspace\\Geodata\\Cran_Q_C\\Default.gdb\\df_NO3_TN_imputed_model\")"
   ]
  },
  {
   "cell_type": "code",
   "execution_count": 25,
   "metadata": {
    "scrolled": true
   },
   "outputs": [
    {
     "data": {
      "text/html": [
       "<div class='gpresult'><h2>Messages</h2><div id='messages' data-messages='[\"Start Time: Wednesday, September 4, 2024 9:16:41 AM\",\"Succeeded at Wednesday, September 4, 2024 9:16:41 AM (Elapsed Time: 0.17 seconds)\"]' data-show='true'><div id = 'default' /></div></div>"
      ],
      "text/plain": [
       "<Result 'C:\\\\Workspace\\\\Geodata\\\\Cran_Q_C\\\\Default.gdb\\\\df_NO3_TN_imputed_model'>"
      ]
     },
     "execution_count": 25,
     "metadata": {},
     "output_type": "execute_result"
    }
   ],
   "source": [
    "# convert NO3 from text to float \n",
    "arcpy.management.CalculateField(\n",
    "    in_table=_,\n",
    "    field=\"NO3\",\n",
    "    expression=\"fn_return_float(!NO3!)\",\n",
    "    expression_type=\"PYTHON3\",\n",
    "    code_block=\"\"\"def fn_return_float(x):\n",
    "    try: \n",
    "        return(float(x))\n",
    "    except:\n",
    "        return(None)\"\"\",\n",
    "    field_type=\"DOUBLE\",\n",
    "    enforce_domains=\"NO_ENFORCE_DOMAINS\")\n",
    "# and drop zero values\n",
    "arcpy.management.CalculateField(\n",
    "    in_table=_,\n",
    "    field=\"NO3\",\n",
    "    expression=\"fn_zeros_to_null(!NO3!)\",\n",
    "    expression_type=\"PYTHON3\",\n",
    "    code_block=\"\"\"def fn_zeros_to_null(x):\n",
    "    if x > 0:\n",
    "        return(float(x))\n",
    "    else:\n",
    "        return(None)\"\"\",\n",
    "    field_type=\"DOUBLE\",\n",
    "    enforce_domains=\"NO_ENFORCE_DOMAINS\")"
   ]
  },
  {
   "cell_type": "code",
   "execution_count": 26,
   "metadata": {},
   "outputs": [
    {
     "data": {
      "text/html": [
       "<div class='gpresult'><h2>Messages</h2><div id='messages' data-messages='[\"Start Time: Wednesday, September 4, 2024 9:16:42 AM\",\"Succeeded at Wednesday, September 4, 2024 9:16:42 AM (Elapsed Time: 0.17 seconds)\"]' data-show='true'><div id = 'default' /></div></div>"
      ],
      "text/plain": [
       "<Result 'C:\\\\Workspace\\\\Geodata\\\\Cran_Q_C\\\\Default.gdb\\\\df_NO3_TN_imputed_model'>"
      ]
     },
     "execution_count": 26,
     "metadata": {},
     "output_type": "execute_result"
    }
   ],
   "source": [
    "# convert TN from text to float\n",
    "arcpy.management.CalculateField(\n",
    "    in_table=_,\n",
    "    field=\"TN\",\n",
    "    expression=\"fn_return_float(!TN!)\",\n",
    "    expression_type=\"PYTHON3\",\n",
    "    code_block=\"\"\"def fn_return_float(x):\n",
    "    try: \n",
    "        return(float(x))\n",
    "    except:\n",
    "        return(None)\"\"\",\n",
    "    field_type=\"DOUBLE\",\n",
    "    enforce_domains=\"NO_ENFORCE_DOMAINS\")\n",
    "\n",
    "# convert TN drop zero values \n",
    "arcpy.management.CalculateField(\n",
    "    in_table=_,\n",
    "    field=\"TN\",\n",
    "    expression=\"fn_return_float(!TN!)\",\n",
    "    expression_type=\"PYTHON3\",\n",
    "    code_block=\"\"\"def fn_zeros_to_null(x):\n",
    "    if x > 0:\n",
    "        return(float(x))\n",
    "    else:\n",
    "        return(None)\"\"\",\n",
    "    field_type=\"DOUBLE\",\n",
    "    enforce_domains=\"NO_ENFORCE_DOMAINS\")"
   ]
  },
  {
   "cell_type": "code",
   "execution_count": 27,
   "metadata": {},
   "outputs": [
    {
     "data": {
      "text/html": [
       "<div class='gpresult'><h2>Messages</h2><div id='messages' data-messages='[\"Start Time: Wednesday, September 4, 2024 9:16:43 AM\",\"Adding lnNO3 to df_NO3_TN_imputed_model...\",\"Succeeded at Wednesday, September 4, 2024 9:16:44 AM (Elapsed Time: 0.26 seconds)\"]' data-show='true'><div id = 'default' /></div></div>"
      ],
      "text/plain": [
       "<Result 'C:\\\\Workspace\\\\Geodata\\\\Cran_Q_C\\\\Default.gdb\\\\df_NO3_TN_imputed_model'>"
      ]
     },
     "execution_count": 27,
     "metadata": {},
     "output_type": "execute_result"
    }
   ],
   "source": [
    "# calculate fields\n",
    "arcpy.management.CalculateField(\n",
    "    in_table=_,\n",
    "    field=\"NO3_TN_ratio\",\n",
    "    expression=\"fn_return_float(!NO3!/!TN!)\",\n",
    "    expression_type=\"PYTHON3\",\n",
    "    code_block=\"\",\n",
    "    field_type=\"DOUBLE\",\n",
    "    enforce_domains=\"NO_ENFORCE_DOMAINS\")\n",
    "\n",
    "arcpy.management.CalculateField(\n",
    "    in_table=_,\n",
    "    field=\"lnTN\",\n",
    "    expression=\"math.log(!TN!)\",\n",
    "    expression_type=\"PYTHON3\",\n",
    "    code_block=\"\",\n",
    "    field_type=\"DOUBLE\",\n",
    "    enforce_domains=\"NO_ENFORCE_DOMAINS\")\n",
    "\n",
    "arcpy.management.CalculateField(\n",
    "    in_table=_,\n",
    "    field=\"lnNO3\",\n",
    "    expression=\"math.log(!NO3!)\",\n",
    "    expression_type=\"PYTHON3\",\n",
    "    code_block=\"\",\n",
    "    field_type=\"DOUBLE\",\n",
    "    enforce_domains=\"NO_ENFORCE_DOMAINS\")"
   ]
  },
  {
   "cell_type": "code",
   "execution_count": 43,
   "metadata": {},
   "outputs": [
    {
     "data": {
      "text/html": [
       "<div class='gpresult'><h2>Messages</h2><div id='messages' data-messages='[\"Start Time: Tuesday, September 3, 2024 10:24:25 AM\",\"Analyzing input features...\",\"Dissolving clip features...\",\"Clipping input features...\",\"Succeeded at Tuesday, September 3, 2024 10:24:26 AM (Elapsed Time: 1.04 seconds)\"]' data-show='true'><div id = 'default' /></div></div>"
      ],
      "text/plain": [
       "<Result 'C:\\\\Workspace\\\\Geodata\\\\Cran_Q_C\\\\Default.gdb\\\\df_NO3_TN_imputed_not_PSW_domain'>"
      ]
     },
     "execution_count": 43,
     "metadata": {},
     "output_type": "execute_result"
    }
   ],
   "source": [
    "arcpy.analysis.Clip(\n",
    "    in_features=_,\n",
    "    clip_features=r\"C:\\Workspace\\Geodata\\Cran_Q_C\\Default.gdb\\domain_poly\",\n",
    "    out_feature_class=r\"C:\\Workspace\\Geodata\\Cran_Q_C\\Default.gdb\\df_NO3_TN_imputed_model_domain\",\n",
    "    cluster_tolerance=None\n",
    ")"
   ]
  },
  {
   "cell_type": "markdown",
   "metadata": {
    "scrolled": true
   },
   "source": [
    "## Split the data into multiple groups"
   ]
  },
  {
   "cell_type": "code",
   "execution_count": 37,
   "metadata": {},
   "outputs": [
    {
     "data": {
      "text/html": [
       "<div class='gpresult'><h2>Messages</h2><div id='messages' data-messages='[\"Start Time: Tuesday, September 3, 2024 10:24:17 AM\",\"Succeeded at Tuesday, September 3, 2024 10:24:17 AM (Elapsed Time: 0.61 seconds)\"]' data-show='true'><div id = 'default' /></div></div>"
      ],
      "text/plain": [
       "<Result 'C:\\\\Workspace\\\\Geodata\\\\Cran_Q_C\\\\Default.gdb\\\\df_NO3_MEP_CCR_BBC'>"
      ]
     },
     "execution_count": 37,
     "metadata": {},
     "output_type": "execute_result"
    }
   ],
   "source": [
    "dataset = \"MEP_CCR_BBC\"\n",
    "selection = arcpy.management.SelectLayerByAttribute(\n",
    "    in_layer_or_view=\"df_NO3_TN_imputed_model\",\n",
    "    selection_type=\"NEW_SELECTION\",\n",
    "    where_clause=\"dataset <> 'PSW' OR dataset <> 'WPP'\",\n",
    "    invert_where_clause=None\n",
    ")\n",
    "\n",
    "arcpy.management.CopyFeatures(\n",
    "    in_features=selection,\n",
    "    out_feature_class=r\"C:\\Workspace\\Geodata\\Cran_Q_C\\Default.gdb\\df_NO3_{}\".format(dataset))"
   ]
  },
  {
   "cell_type": "code",
   "execution_count": 38,
   "metadata": {
    "scrolled": false
   },
   "outputs": [
    {
     "data": {
      "text/html": [
       "<div class='gpresult'><h2>Messages</h2><div id='messages' data-messages='[\"Start Time: Tuesday, September 3, 2024 10:24:18 AM\",\"Succeeded at Tuesday, September 3, 2024 10:24:19 AM (Elapsed Time: 0.60 seconds)\"]' data-show='true'><div id = 'default' /></div></div>"
      ],
      "text/plain": [
       "<Result 'C:\\\\Workspace\\\\Geodata\\\\Cran_Q_C\\\\Default.gdb\\\\df_NO3_MEP'>"
      ]
     },
     "execution_count": 38,
     "metadata": {},
     "output_type": "execute_result"
    }
   ],
   "source": [
    "dataset = \"MEP\"\n",
    "selection = arcpy.management.SelectLayerByAttribute(\n",
    "    in_layer_or_view=_,\n",
    "    selection_type=\"NEW_SELECTION\",\n",
    "    where_clause=\"dataset = 'MEP' And NO3 > 0\",\n",
    "    invert_where_clause=None\n",
    ")\n",
    "\n",
    "arcpy.management.CopyFeatures(\n",
    "    in_features=selection,\n",
    "    out_feature_class=r\"C:\\Workspace\\Geodata\\Cran_Q_C\\Default.gdb\\df_NO3_{}\".format(dataset))"
   ]
  },
  {
   "cell_type": "code",
   "execution_count": 39,
   "metadata": {
    "scrolled": true
   },
   "outputs": [
    {
     "data": {
      "text/html": [
       "<div class='gpresult'><h2>Messages</h2><div id='messages' data-messages='[\"Start Time: Tuesday, September 3, 2024 10:24:19 AM\",\"Succeeded at Tuesday, September 3, 2024 10:24:20 AM (Elapsed Time: 0.80 seconds)\"]' data-show='true'><div id = 'default' /></div></div>"
      ],
      "text/plain": [
       "<Result 'C:\\\\Workspace\\\\Geodata\\\\Cran_Q_C\\\\Default.gdb\\\\df_NO3_CCR_BBC'>"
      ]
     },
     "execution_count": 39,
     "metadata": {},
     "output_type": "execute_result"
    }
   ],
   "source": [
    "# buzzards bay and cape cod rivers\n",
    "dataset = \"CCR_BBC\"\n",
    "selection = arcpy.management.SelectLayerByAttribute(\n",
    "    in_layer_or_view=_,\n",
    "    selection_type=\"NEW_SELECTION\",\n",
    "    where_clause=\"dataset IN ('CCRO', 'BBC') And NO3 > 0\",\n",
    "    invert_where_clause=None\n",
    ")\n",
    "\n",
    "arcpy.management.CopyFeatures(\n",
    "    in_features=selection,\n",
    "    out_feature_class=r\"C:\\Workspace\\Geodata\\Cran_Q_C\\Default.gdb\\df_NO3_{}\".format(dataset))"
   ]
  },
  {
   "cell_type": "code",
   "execution_count": 40,
   "metadata": {},
   "outputs": [
    {
     "data": {
      "text/html": [
       "<div class='gpresult'><h2>Messages</h2><div id='messages' data-messages='[\"Start Time: Tuesday, September 3, 2024 10:24:21 AM\",\"Succeeded at Tuesday, September 3, 2024 10:24:21 AM (Elapsed Time: 0.68 seconds)\"]' data-show='true'><div id = 'default' /></div></div>"
      ],
      "text/plain": [
       "<Result 'C:\\\\Workspace\\\\Geodata\\\\Cran_Q_C\\\\Default.gdb\\\\df_NO3_WPP'>"
      ]
     },
     "execution_count": 40,
     "metadata": {},
     "output_type": "execute_result"
    }
   ],
   "source": [
    "dataset = \"WPP\"\n",
    "\n",
    "selection = arcpy.management.SelectLayerByAttribute(\n",
    "    in_layer_or_view=_,\n",
    "    selection_type=\"NEW_SELECTION\",\n",
    "    where_clause=\"dataset IN ('DWMWPP', 'PSW') And NO3 > 0\",\n",
    "    invert_where_clause=None\n",
    ")\n",
    "\n",
    "arcpy.management.CopyFeatures(\n",
    "    in_features=selection,\n",
    "    out_feature_class=r\"C:\\Workspace\\Geodata\\Cran_Q_C\\Default.gdb\\df_NO3_{}\".format(dataset))"
   ]
  },
  {
   "cell_type": "code",
   "execution_count": 41,
   "metadata": {},
   "outputs": [
    {
     "data": {
      "text/html": [
       "<div class='gpresult'><h2>Messages</h2><div id='messages' data-messages='[\"Start Time: Tuesday, September 3, 2024 10:24:22 AM\",\"Succeeded at Tuesday, September 3, 2024 10:24:23 AM (Elapsed Time: 0.78 seconds)\"]' data-show='true'><div id = 'default' /></div></div>"
      ],
      "text/plain": [
       "<Result 'C:\\\\Workspace\\\\Geodata\\\\Cran_Q_C\\\\Default.gdb\\\\df_NO3_TN_imputed_not_MEP_PSW'>"
      ]
     },
     "execution_count": 41,
     "metadata": {},
     "output_type": "execute_result"
    }
   ],
   "source": [
    "dataset = \"not_MEP_PSW\"\n",
    "\n",
    "selection = arcpy.management.SelectLayerByAttribute(\n",
    "    in_layer_or_view=_,\n",
    "    selection_type=\"NEW_SELECTION\",\n",
    "    where_clause=\"dataset NOT IN ('MEP', 'PSW')\",\n",
    "    invert_where_clause=None\n",
    ")\n",
    "\n",
    "arcpy.management.CopyFeatures(\n",
    "    in_features=selection,\n",
    "    out_feature_class=r\"C:\\Workspace\\Geodata\\Cran_Q_C\\Default.gdb\\df_NO3_TN_imputed_{}\".format(dataset))"
   ]
  },
  {
   "cell_type": "code",
   "execution_count": 42,
   "metadata": {},
   "outputs": [
    {
     "data": {
      "text/html": [
       "<div class='gpresult'><h2>Messages</h2><div id='messages' data-messages='[\"Start Time: Tuesday, September 3, 2024 10:24:23 AM\",\"Succeeded at Tuesday, September 3, 2024 10:24:24 AM (Elapsed Time: 0.85 seconds)\"]' data-show='true'><div id = 'default' /></div></div>"
      ],
      "text/plain": [
       "<Result 'C:\\\\Workspace\\\\Geodata\\\\Cran_Q_C\\\\Default.gdb\\\\df_NO3_TN_imputed_not_PSW'>"
      ]
     },
     "execution_count": 42,
     "metadata": {},
     "output_type": "execute_result"
    }
   ],
   "source": [
    "dataset = \"not_PSW\"\n",
    "\n",
    "selection = arcpy.management.SelectLayerByAttribute(\n",
    "    in_layer_or_view=_,\n",
    "    selection_type=\"NEW_SELECTION\",\n",
    "    where_clause=\"dataset NOT IN ('PSW')\",\n",
    "    invert_where_clause=None\n",
    ")\n",
    "\n",
    "arcpy.management.CopyFeatures(\n",
    "    in_features=selection ,\n",
    "    out_feature_class=r\"C:\\Workspace\\Geodata\\Cran_Q_C\\Default.gdb\\df_NO3_TN_imputed_{}\".format(dataset))"
   ]
  },
  {
   "cell_type": "code",
   "execution_count": 43,
   "metadata": {},
   "outputs": [
    {
     "data": {
      "text/html": [
       "<div class='gpresult'><h2>Messages</h2><div id='messages' data-messages='[\"Start Time: Tuesday, September 3, 2024 10:24:25 AM\",\"Analyzing input features...\",\"Dissolving clip features...\",\"Clipping input features...\",\"Succeeded at Tuesday, September 3, 2024 10:24:26 AM (Elapsed Time: 1.04 seconds)\"]' data-show='true'><div id = 'default' /></div></div>"
      ],
      "text/plain": [
       "<Result 'C:\\\\Workspace\\\\Geodata\\\\Cran_Q_C\\\\Default.gdb\\\\df_NO3_TN_imputed_not_PSW_domain'>"
      ]
     },
     "execution_count": 43,
     "metadata": {},
     "output_type": "execute_result"
    }
   ],
   "source": [
    "arcpy.analysis.Clip(\n",
    "    in_features=r\"C:\\Workspace\\Geodata\\Cran_Q_C\\Default.gdb\\df_NO3_TN_imputed_not_PSW\",\n",
    "    clip_features=r\"C:\\Workspace\\Geodata\\Cran_Q_C\\Default.gdb\\domain_poly\",\n",
    "    out_feature_class=r\"C:\\Workspace\\Geodata\\Cran_Q_C\\Default.gdb\\df_NO3_TN_imputed_not_PSW_domain\",\n",
    "    cluster_tolerance=None\n",
    ")"
   ]
  },
  {
   "cell_type": "code",
   "execution_count": null,
   "metadata": {},
   "outputs": [],
   "source": [
    "dataset = \"not_BBC_PSW\"\n",
    "\n",
    "selection = arcpy.management.SelectLayerByAttribute(\n",
    "    in_layer_or_view=_,\n",
    "    selection_type=\"NEW_SELECTION\",\n",
    "    where_clause=\"dataset NOT IN ('PSW','BBC')\",\n",
    "    invert_where_clause=None\n",
    ")\n",
    "\n",
    "arcpy.management.CopyFeatures(\n",
    "    in_features=selection ,\n",
    "    out_feature_class=r\"C:\\Workspace\\Geodata\\Cran_Q_C\\Default.gdb\\df_NO3_TN_imputed_{}\".format(dataset))"
   ]
  },
  {
   "cell_type": "code",
   "execution_count": 43,
   "metadata": {},
   "outputs": [
    {
     "data": {
      "text/html": [
       "<div class='gpresult'><h2>Messages</h2><div id='messages' data-messages='[\"Start Time: Tuesday, September 3, 2024 10:24:25 AM\",\"Analyzing input features...\",\"Dissolving clip features...\",\"Clipping input features...\",\"Succeeded at Tuesday, September 3, 2024 10:24:26 AM (Elapsed Time: 1.04 seconds)\"]' data-show='true'><div id = 'default' /></div></div>"
      ],
      "text/plain": [
       "<Result 'C:\\\\Workspace\\\\Geodata\\\\Cran_Q_C\\\\Default.gdb\\\\df_NO3_TN_imputed_not_PSW_domain'>"
      ]
     },
     "execution_count": 43,
     "metadata": {},
     "output_type": "execute_result"
    }
   ],
   "source": [
    "arcpy.analysis.Clip(\n",
    "    in_features=r\"C:\\Workspace\\Geodata\\Cran_Q_C\\Default.gdb\\df_NO3_TN_imputed_{}\".format(dataset),\n",
    "    clip_features=r\"C:\\Workspace\\Geodata\\Cran_Q_C\\Default.gdb\\domain_poly\",\n",
    "    out_feature_class=r\"C:\\Workspace\\Geodata\\Cran_Q_C\\Default.gdb\\df_NO3_TN_imputed_{}_domain\".format(dataset),\n",
    "    cluster_tolerance=None\n",
    ")"
   ]
  },
  {
   "cell_type": "code",
   "execution_count": 44,
   "metadata": {},
   "outputs": [
    {
     "data": {
      "text/html": [
       "<div class='gpresult'><h2>Messages</h2><div id='messages' data-messages='[\"Start Time: Tuesday, September 3, 2024 10:24:27 AM\",\"Succeeded at Tuesday, September 3, 2024 10:24:28 AM (Elapsed Time: 1.24 seconds)\"]' data-show='true'><div id = 'default' /></div></div>"
      ],
      "text/plain": [
       "<Result 'C:\\\\Workspace\\\\Geodata\\\\Cran_Q_C\\\\outputs\\\\df_NO3_TN_imputed_not_PSW_domain.xls'>"
      ]
     },
     "execution_count": 44,
     "metadata": {},
     "output_type": "execute_result"
    }
   ],
   "source": [
    "arcpy.conversion.TableToExcel(\n",
    "    Input_Table=r\"C:\\Workspace\\Geodata\\Cran_Q_C\\Default.gdb\\df_NO3_TN_imputed_not_PSW_domain\",\n",
    "    Output_Excel_File=r\"C:\\Workspace\\Geodata\\Cran_Q_C\\outputs\\df_NO3_TN_imputed_not_PSW_domain.xls\",\n",
    "    Use_field_alias_as_column_header=\"NAME\",\n",
    "    Use_domain_and_subtype_description=\"CODE\"\n",
    ")"
   ]
  },
  {
   "cell_type": "markdown",
   "metadata": {},
   "source": [
    "## APPENDIX \n",
    "\n",
    "unused code\n",
    "- the code below is for running statistical models"
   ]
  },
  {
   "cell_type": "markdown",
   "metadata": {},
   "source": [
    "## Load Explanatory Variable Rasters"
   ]
  },
  {
   "cell_type": "raw",
   "metadata": {
    "scrolled": true
   },
   "source": [
    "# Statistics on Drainage Basins\n",
    "arcpy.conversion.PolygonToRaster(\n",
    "    in_features=\"Basins_ZS\",\n",
    "    value_field=\"pop_dens\",\n",
    "    out_rasterdataset=r\"C:\\Workspace\\Geodata\\Cran_Q_C\\Default.gdb\\Basins_ZS_pop_dens\",\n",
    "    cell_assignment=\"CELL_CENTER\",\n",
    "    priority_field=\"NONE\",\n",
    "    cellsize=10,\n",
    "    build_rat=\"BUILD\")\n",
    "\n",
    "# Statistics on Drainage Basins\n",
    "arcpy.conversion.PolygonToRaster(\n",
    "    in_features=\"Basins_ZS\",\n",
    "    value_field=\"imp_dens\",\n",
    "    out_rasterdataset=r\"C:\\Workspace\\Geodata\\Cran_Q_C\\Default.gdb\\Basins_ZS_imp_dens\",\n",
    "    cell_assignment=\"CELL_CENTER\",\n",
    "    priority_field=\"NONE\",\n",
    "    cellsize=10,\n",
    "    build_rat=\"BUILD\")"
   ]
  },
  {
   "cell_type": "raw",
   "metadata": {},
   "source": [
    "# extract land use attibutes\n",
    "_ = arcpy.sa.ExtractMultiValuesToPoints(\n",
    "    in_point_features=_,\n",
    "    in_rasters=r\"C:\\Workspace\\Geodata\\Cran_Q_C\\Default.gdb\\Basins_ZS_pop_dens Basins_ZS_pop_dens;C:\\Workspace\\Geodata\\Cran_Q_C\\Default.gdb\\Basins_ZS_imp_dens Basins_ZS_imp_dens\")"
   ]
  },
  {
   "cell_type": "raw",
   "metadata": {},
   "source": [
    "arcpy.management.AlterField(\n",
    "    in_table=_,\n",
    "    field=\"Basins_ZS_pop_dens\",\n",
    "    new_field_name=\"pop\",\n",
    "    new_field_alias=\"\",\n",
    "    field_type=\"FLOAT\",\n",
    "    field_length=4,\n",
    "    field_is_nullable=\"NULLABLE\",\n",
    "    clear_field_alias=\"CLEAR_ALIAS\")"
   ]
  },
  {
   "cell_type": "raw",
   "metadata": {
    "scrolled": true
   },
   "source": [
    "arcpy.management.AlterField(\n",
    "    in_table=_,\n",
    "    field=\"Basins_ZS_imp_dens\",\n",
    "    new_field_name=\"imp\",\n",
    "    new_field_alias=\"\",\n",
    "    field_type=\"FLOAT\",\n",
    "    field_length=4,\n",
    "    field_is_nullable=\"NULLABLE\",\n",
    "    clear_field_alias=\"CLEAR_ALIAS\")"
   ]
  },
  {
   "cell_type": "raw",
   "metadata": {
    "scrolled": false
   },
   "source": [
    "arcpy.management.CalculateField(\n",
    "    in_table=_,\n",
    "    field=\"popXimp\",\n",
    "    expression=\"!pop!*!imp!\",\n",
    "    expression_type=\"PYTHON3\",\n",
    "    code_block=\"\",\n",
    "    field_type=\"DOUBLE\",\n",
    "    enforce_domains=\"NO_ENFORCE_DOMAINS\")"
   ]
  },
  {
   "cell_type": "raw",
   "metadata": {
    "scrolled": true
   },
   "source": [
    "selected = arcpy.management.SelectLayerByAttribute(\n",
    "    in_layer_or_view=_,\n",
    "    selection_type=\"NEW_SELECTION\",\n",
    "    where_clause=\"NO3 IS NOT NULL\",\n",
    "    invert_where_clause=None\n",
    ")\n",
    "arcpy.management.CopyFeatures(\n",
    "    in_features=selected,\n",
    "    out_feature_class=r\"C:\\Workspace\\Geodata\\Cran_Q_C\\Default.gdb\\df_NO3_all_model_not_null\",\n",
    ")\n",
    "\n",
    "selected = arcpy.management.SelectLayerByAttribute(\n",
    "    in_layer_or_view=_,\n",
    "    selection_type=\"NEW_SELECTION\",\n",
    "    where_clause=\"NO3 IS NOT NULL AND imp IS NOT NULL\",\n",
    "    invert_where_clause=None\n",
    ")\n",
    "arcpy.management.CopyFeatures(\n",
    "    in_features=selected,\n",
    "    out_feature_class=r\"C:\\Workspace\\Geodata\\Cran_Q_C\\Default.gdb\\df_NO3_all_model_selected\",\n",
    ")"
   ]
  },
  {
   "cell_type": "markdown",
   "metadata": {},
   "source": [
    "## Older NO3 datasets"
   ]
  },
  {
   "cell_type": "raw",
   "metadata": {},
   "source": [
    "NO3_TN_all = arcpy.management.XYTableToPoint(\n",
    "    in_table=r\"C:\\Users\\Adrian.Wiegman\\Documents\\GitHub\\Wiegman_USDA_ARS\\Cran_Q_C\\1_prep\\df_NO3_TN_merged.csv\",\n",
    "    out_feature_class=r\"C:\\Workspace\\Geodata\\Cran_Q_C\\Default.gdb\\df_NO3_TN_merged\",\n",
    "    x_field=\"Long\",\n",
    "    y_field=\"Lat\",\n",
    "    z_field=None,\n",
    "    coordinate_system='GEOGCS[\"GCS_WGS_1984\",DATUM[\"D_WGS_1984\",SPHEROID[\"WGS_1984\",6378137.0,298.257223563]],PRIMEM[\"Greenwich\",0.0],UNIT[\"Degree\",0.0174532925199433]];-400 -400 1000000000;-100000 10000;-100000 10000;8.98315284119521E-09;0.001;0.001;IsHighPrecision')"
   ]
  },
  {
   "cell_type": "raw",
   "metadata": {},
   "source": [
    "NO3_all = arcpy.management.XYTableToPoint(\n",
    "    in_table=r\"C:\\Users\\Adrian.Wiegman\\Documents\\GitHub\\Wiegman_USDA_ARS\\Cran_Q_C\\1_prep\\df_NO3_merged.csv\",\n",
    "    out_feature_class=r\"C:\\Workspace\\Geodata\\Cran_Q_C\\Default.gdb\\df_NO3_merged\",\n",
    "    x_field=\"Long\",\n",
    "    y_field=\"Lat\",\n",
    "    z_field=None,\n",
    "    coordinate_system='GEOGCS[\"GCS_WGS_1984\",DATUM[\"D_WGS_1984\",SPHEROID[\"WGS_1984\",6378137.0,298.257223563]],PRIMEM[\"Greenwich\",0.0],UNIT[\"Degree\",0.0174532925199433]];-400 -400 1000000000;-100000 10000;-100000 10000;8.98315284119521E-09;0.001;0.001;IsHighPrecision'\n",
    ")"
   ]
  },
  {
   "cell_type": "raw",
   "metadata": {},
   "source": [
    "arcpy.management.XYTableToPoint(\n",
    "    in_table=r\"C:\\Users\\Adrian.Wiegman\\Documents\\GitHub\\Wiegman_USDA_ARS\\Cran_Q_C\\1_prep\\df_TN_all.csv\",\n",
    "    out_feature_class=r\"C:\\Workspace\\Geodata\\Cran_Q_C\\Default.gdb\\df_TN_all\",\n",
    "    x_field=\"Long\",\n",
    "    y_field=\"Lat\",\n",
    "    z_field=None,\n",
    "    coordinate_system='GEOGCS[\"GCS_WGS_1984\",DATUM[\"D_WGS_1984\",SPHEROID[\"WGS_1984\",6378137.0,298.257223563]],PRIMEM[\"Greenwich\",0.0],UNIT[\"Degree\",0.0174532925199433]];-400 -400 1000000000;-100000 10000;-100000 10000;8.98315284119521E-09;0.001;0.001;IsHighPrecision')"
   ]
  },
  {
   "cell_type": "markdown",
   "metadata": {},
   "source": [
    "## Format Data Table"
   ]
  },
  {
   "cell_type": "raw",
   "metadata": {},
   "source": [
    "arcpy.management.XYTableToPoint(\n",
    "    in_table=r\"C:\\Workspace\\Geodata\\Cran_Q_C\\inputs\\df_NO3_rivers_streams.csv\",\n",
    "    out_feature_class=r\"C:\\Workspace\\Geodata\\Cran_Q_C\\Default.gdb\\df_NO3_rivers_streams_XYTableToPoint\",\n",
    "    x_field=\"Long\",\n",
    "    y_field=\"Lat\",\n",
    "    z_field=None,\n",
    "    coordinate_system='GEOGCS[\"GCS_WGS_1984\",DATUM[\"D_WGS_1984\",SPHEROID[\"WGS_1984\",6378137.0,298.257223563]],PRIMEM[\"Greenwich\",0.0],UNIT[\"Degree\",0.0174532925199433]];-400 -400 1000000000;-100000 10000;-100000 10000;8.98315284119521E-09;0.001;0.001;IsHighPrecision'\n",
    ")\n",
    "\n",
    "arcpy.management.XYTableToPoint(\n",
    "    in_table=r\"C:\\Workspace\\Geodata\\Cran_Q_C\\inputs\\df_NO3_all.csv\",\n",
    "    out_feature_class=r\"C:\\Workspace\\Geodata\\Cran_Q_C\\Default.gdb\\df_NO3_rivers_streams_XYTableToPoint\",\n",
    "    x_field=\"Long\",\n",
    "    y_field=\"Lat\",\n",
    "    z_field=None,\n",
    "    coordinate_system='GEOGCS[\"GCS_WGS_1984\",DATUM[\"D_WGS_1984\",SPHEROID[\"WGS_1984\",6378137.0,298.257223563]],PRIMEM[\"Greenwich\",0.0],UNIT[\"Degree\",0.0174532925199433]];-400 -400 1000000000;-100000 10000;-100000 10000;8.98315284119521E-09;0.001;0.001;IsHighPrecision'\n",
    ")"
   ]
  },
  {
   "cell_type": "raw",
   "metadata": {
    "scrolled": true
   },
   "source": [
    "indir = r\"C:\\Users\\Adrian.Wiegman\\Documents\\GitHub\\Wiegman_USDA_ARS\\Cran_Q_C\\1_prep\"\n",
    "print(os.path.join(gdb_default_path,r\"df_NO3_TN_RS\"))\n",
    "NO3_TN_RS = arcpy.management.XYTableToPoint(\n",
    "    in_table=os.path.join(indir,r\"df_NO3_TN_river_streams.csv\"),\n",
    "    out_feature_class=os.path.join(gdb_default_path,r\"df_NO3_TN_RS\"),\n",
    "    x_field=\"Long\",\n",
    "    y_field=\"Lat\")"
   ]
  }
 ],
 "metadata": {
  "kernelspec": {
   "display_name": "ArcGISPro",
   "language": "Python",
   "name": "python3"
  },
  "language_info": {
   "file_extension": ".py",
   "name": "python",
   "version": "3"
  }
 },
 "nbformat": 4,
 "nbformat_minor": 2
}
