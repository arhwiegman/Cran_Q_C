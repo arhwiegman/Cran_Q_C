{
 "cells": [
  {
   "cell_type": "markdown",
   "metadata": {},
   "source": [
    "This notebook uses groundwater elevation, pond, stream and cranberry bog data create a hydrologically enforced DEM of the groundwater table. "
   ]
  },
  {
   "cell_type": "markdown",
   "metadata": {},
   "source": [
    "## Setup environment"
   ]
  },
  {
   "cell_type": "code",
   "execution_count": 9,
   "metadata": {},
   "outputs": [
    {
     "name": "stdout",
     "output_type": "stream",
     "text": [
      "The autoreload extension is already loaded. To reload it, use:\n",
      "  %reload_ext autoreload\n",
      "***\n",
      "loading python modules...\n",
      "\n",
      "  `module_list` contains names of all loaded modules\n",
      "\n",
      "...module loading complete\n",
      "\n",
      "***\n",
      "loading user defined functions...\n",
      "\n",
      "type `fn_`+TAB to for autocomplete suggestions\n",
      "\n",
      " the object `def_list` contains user defined function names:\n",
      "   fn_get_info\n",
      "   fn_arcgis_table_to_df\n",
      "   fn_arcgis_table_to_np_to_pd_df\n",
      "   fn_run_script_w_propy_bat\n",
      "   fn_try_mkdir\n",
      "   fn_hello\n",
      "   fn_recursive_glob_search\n",
      "   fn_regex_search_replace\n",
      "   fn_regex_search_0\n",
      "   fn_arcpy_table_to_excel\n",
      "   fn_agg_sum_df_on_group\n",
      "   fn_add_prefix_suffix_to_selected_cols\n",
      "   fn_calc_pct_cover_within_groups\n",
      "   fn_buildWhereClauseFromList\n",
      "\n",
      " use ??{insert fn name} to inspect\n",
      " for example running `??fn_get_info` returns:\n",
      "\u001b[1;31mSignature:\u001b[0m \u001b[0mfn_get_info\u001b[0m\u001b[1;33m(\u001b[0m\u001b[0mname\u001b[0m\u001b[1;33m=\u001b[0m\u001b[1;34m'fn_get_info'\u001b[0m\u001b[1;33m)\u001b[0m\u001b[1;33m\u001b[0m\u001b[1;33m\u001b[0m\u001b[0m\n",
      "\u001b[1;31mSource:\u001b[0m   \n",
      "\u001b[1;32mdef\u001b[0m \u001b[0mfn_get_info\u001b[0m\u001b[1;33m(\u001b[0m\u001b[0mname\u001b[0m\u001b[1;33m=\u001b[0m\u001b[1;34m'fn_get_info'\u001b[0m\u001b[1;33m)\u001b[0m\u001b[1;33m:\u001b[0m\u001b[1;33m\n",
      "\u001b[0m    \u001b[1;34m'''\n",
      "    returns the source information about a given function name\n",
      "    '''\u001b[0m\u001b[1;33m\n",
      "\u001b[0m    \u001b[0mget_ipython\u001b[0m\u001b[1;33m(\u001b[0m\u001b[1;33m)\u001b[0m\u001b[1;33m.\u001b[0m\u001b[0mrun_line_magic\u001b[0m\u001b[1;33m(\u001b[0m\u001b[1;34m'pinfo2'\u001b[0m\u001b[1;33m,\u001b[0m \u001b[1;34m'$name'\u001b[0m\u001b[1;33m)\u001b[0m\u001b[1;33m\u001b[0m\u001b[1;33m\u001b[0m\u001b[0m\n",
      "\u001b[1;31mFile:\u001b[0m      c:\\windows\\system32\\<ipython-input-1-28f96385f735>\n",
      "\u001b[1;31mType:\u001b[0m      function\n",
      "\n",
      " you can also use `fn_get_info(name={insert fn name})` to do the same thing as `??{insert fn name}`\n",
      "\n",
      "...function loading complete\n",
      "\n",
      "\n",
      "***\n",
      "setting up arcpy environment...\n",
      "\n",
      " input file directory (`idr`): C:\\Workspace\\Geodata\\Massachusetts\\\n",
      " working directory (`wdr`): C:\\Workspace\\Geodata\\MEP\\\n",
      " default geodatabase path: C:\\Workspace\\Geodata\\MEP\\Default.gdb\n",
      " temp dir (`tdr.name`): C:\\Users\\ADRIAN~1.WIE\\AppData\\Local\\Temp\\ArcGISProTemp30164\\tmp8cnif81b\n",
      " output dir (`odr`): C:\\Workspace\\Geodata\\MEP\\outputs\n",
      " output coordinate system: NAD_1983_UTM_Zone_19N\n",
      "\n",
      "... env setup complete\n",
      "\n",
      "\n",
      "+++SETUP COMPLETE+++\n",
      "\n",
      "\n"
     ]
    }
   ],
   "source": [
    "# iphython options\n",
    "# delete variables in workspace\n",
    "%reset -f\n",
    "#places plots inline\n",
    "%matplotlib inline\n",
    "#automatically reloads modules if they are changed\n",
    "%load_ext autoreload \n",
    "%autoreload 2\n",
    "# this codeblock sets up the environment from jupyter notebooks\n",
    "setup_notebook = \"C:/Users/Adrian.Wiegman/Documents/GitHub/Wiegman_USDA_ARS/MEP/_Setup.ipynb\"\n",
    "%run $setup_notebook # magic command to run the notebook\n",
    "\n",
    "# Create new file geodatabase to store results\n",
    "gdb = \"gwsheds.gdb\"\n",
    "\n",
    "# only run this once\n",
    "arcpy.management.CreateFileGDB(wdr,gdb)\n",
    "\n",
    "ap.env.workspace = os.path.join(wdr,gdb)"
   ]
  },
  {
   "cell_type": "markdown",
   "metadata": {},
   "source": [
    "## Processing Steps"
   ]
  },
  {
   "cell_type": "code",
   "execution_count": 74,
   "metadata": {},
   "outputs": [
    {
     "data": {
      "text/html": [
       "<div class='gpresult'><h2>Messages</h2><div id='messages' data-messages='[\"Start Time: Thursday, July 20, 2023 10:43:48 AM\",\"Reading Features...\",\"Cracking Features...\",\"Assembling Features...\",\"Succeeded at Thursday, July 20, 2023 10:43:49 AM (Elapsed Time: 1.45 seconds)\"]' data-show='true'><div id = 'default' /></div></div>"
      ],
      "text/plain": [
       "<Result 'C:\\\\Workspace\\\\Geodata\\\\MEP\\\\Default.gdb\\\\MEP_SUBW_NAME_CC_Clip'>"
      ]
     },
     "execution_count": 74,
     "metadata": {},
     "output_type": "execute_result"
    }
   ],
   "source": [
    "arcpy.analysis.Clip(\n",
    "    in_features=r\"C:\\Workspace\\Geodata\\MEP\\Default.gdb\\MEP_SUBW_NAME\",\n",
    "    clip_features=r\"C:\\Workspace\\Geodata\\MEP\\CCsheds.gdb\\Subembayments\",\n",
    "    out_feature_class=r\"C:\\Workspace\\Geodata\\MEP\\Default.gdb\\MEP_SUBW_NAME_CC_Clip\",\n",
    "    cluster_tolerance=None\n",
    ")"
   ]
  },
  {
   "cell_type": "code",
   "execution_count": 75,
   "metadata": {},
   "outputs": [],
   "source": [
    "# copy input features to the geodatabase\n",
    "infeatures = [\"C:\\Workspace\\Geodata\\Massachusetts\\MEP\\CC_Embayments\\Embayments.shp\",\n",
    "            \"C:\\Workspace\\Geodata\\Massachusetts\\MEP\\CC_Subembayments\\Subembayments.shp\",\n",
    "            #\"C:\\Workspace\\Geodata\\Massachusetts\\MEP\\CC_MV_Subwatersheds\\Subwatersheds.shp\",\n",
    "             \"C:\\Workspace\\Geodata\\MEP\\Default.gdb\\MEP_SUBW_NAME_CC_Clip\"]\n",
    "outnames = [\"Embayments\",\"Subembayments\",\"Subwatersheds\"]"
   ]
  },
  {
   "cell_type": "code",
   "execution_count": 76,
   "metadata": {},
   "outputs": [],
   "source": [
    "# loop through all infeatures\n",
    "for i in range(len(infeatures)):\n",
    "    infeat = infeatures[i]\n",
    "    outfeat = outnames[i]\n",
    "    arcpy.management.CopyFeatures(\n",
    "        in_features=infeat,\n",
    "        out_feature_class=outfeat)"
   ]
  },
  {
   "cell_type": "code",
   "execution_count": 77,
   "metadata": {},
   "outputs": [
    {
     "name": "stdout",
     "output_type": "stream",
     "text": [
      "['Embayments', 'Subembayments', 'Subwatersheds']\n"
     ]
    }
   ],
   "source": [
    "# covert input watershed polygons to line\n",
    "infeatures = [\"Embayments\",\"Subembayments\",\"Subwatersheds\"]\n",
    "outlines = [x[:5]+\"_line\" for x in infeatures]\n",
    "print(outnames)"
   ]
  },
  {
   "cell_type": "code",
   "execution_count": 78,
   "metadata": {},
   "outputs": [],
   "source": [
    "# loop through all infeatures\n",
    "for i in range(len(infeatures)):\n",
    "    arcpy.management.PolygonToLine(\n",
    "    in_features=infeatures[i],\n",
    "    out_feature_class=outlines[i],\n",
    "    neighbor_option=\"IDENTIFY_NEIGHBORS\")"
   ]
  },
  {
   "cell_type": "code",
   "execution_count": 79,
   "metadata": {},
   "outputs": [],
   "source": [
    "infeatures = outlines\n",
    "outbuffs = [x+\"_buff\" for x in infeatures]\n",
    "width = [40,20,10]"
   ]
  },
  {
   "cell_type": "code",
   "execution_count": 80,
   "metadata": {},
   "outputs": [],
   "source": [
    "for i in range(len(infeatures)):\n",
    "    arcpy.analysis.Buffer(\n",
    "        in_features=infeatures[i],\n",
    "        out_feature_class=outbuffs[i],\n",
    "        buffer_distance_or_field=\"{} Meters\".format(width[i]),\n",
    "        line_side=\"FULL\",\n",
    "        line_end_type=\"ROUND\",\n",
    "        dissolve_option=\"ALL\",dissolve_field=None,\n",
    "        method=\"PLANAR\")"
   ]
  },
  {
   "cell_type": "code",
   "execution_count": 81,
   "metadata": {},
   "outputs": [
    {
     "name": "stdout",
     "output_type": "stream",
     "text": [
      "['Embay_wall', 'Subem_wall', 'Subwa_wall']\n"
     ]
    }
   ],
   "source": [
    "# create a field called \"wall\" equal to 1 to be used for raster value\n",
    "infeatures = outbuffs\n",
    "outrasters = [x[:5]+\"_wall\" for x in infeatures]\n",
    "print(outrasters)"
   ]
  },
  {
   "cell_type": "code",
   "execution_count": 82,
   "metadata": {},
   "outputs": [],
   "source": [
    "for i in range(len(infeatures)): \n",
    "    arcpy.management.CalculateField(\n",
    "        in_table=infeatures[i],\n",
    "        field=\"wall\",\n",
    "        expression=\"1\",\n",
    "        expression_type=\"PYTHON3\",\n",
    "        code_block=\"\",field_type=\"TEXT\",\n",
    "        enforce_domains=\"NO_ENFORCE_DOMAINS\")\n",
    "    arcpy.conversion.FeatureToRaster(\n",
    "        in_features=infeatures[i],\n",
    "        field=\"wall\",\n",
    "        out_raster=outrasters[i],\n",
    "        cell_size=10)"
   ]
  },
  {
   "cell_type": "code",
   "execution_count": 83,
   "metadata": {},
   "outputs": [],
   "source": [
    "# turn null values to zeros\n",
    "for i in outrasters:\n",
    "    out_raster = arcpy.ia.Con(\n",
    "        in_conditional_raster=i,\n",
    "        in_true_raster_or_constant=i,\n",
    "        in_false_raster_or_constant=0,\n",
    "        where_clause=\"Value IS NOT NULL\")\n",
    "    out_raster.save(i+\"_null\")\n"
   ]
  },
  {
   "cell_type": "markdown",
   "metadata": {},
   "source": [
    "## Lidar elevation percentiles"
   ]
  },
  {
   "cell_type": "code",
   "execution_count": 84,
   "metadata": {},
   "outputs": [],
   "source": [
    "# Add another layer\n",
    "\n",
    "# resample to 10ml and save in current gdb\n",
    "outras = arcpy.management.Resample(\n",
    "    in_raster=\"Default.gdb/lidar_le5pct\",\n",
    "    out_raster=r\"C:\\Workspace\\Geodata\\MEP\\CCsheds.gdb\\lid_le5_10m\",\n",
    "    cell_size=\"10 10\",\n",
    "    resampling_type=\"NEAREST\"\n",
    ")"
   ]
  },
  {
   "cell_type": "code",
   "execution_count": 85,
   "metadata": {},
   "outputs": [],
   "source": [
    "out_raster = arcpy.sa.ExtractByMask(\n",
    "    in_raster=r\"C:\\Workspace\\Geodata\\Massachusetts\\LiDAR_DEM\\LiDAR_DEM.gdb\\LiDAR_DEM_INT_16bit\",\n",
    "    in_mask_data=\"Embayments\",\n",
    "    extraction_area=\"INSIDE\")\n",
    "out_raster.save(r\"C:\\Workspace\\Geodata\\MEP\\CCsheds.gdb\\Lidextr\")"
   ]
  },
  {
   "cell_type": "code",
   "execution_count": 86,
   "metadata": {},
   "outputs": [],
   "source": [
    "# resample to 10ml and save in current gdb\n",
    "outras = arcpy.management.Resample(\n",
    "    in_raster=r\"Lidextr\",\n",
    "    out_raster=r\"C:\\Workspace\\Geodata\\MEP\\CCsheds.gdb\\lid10m\",\n",
    "    cell_size=\"10 10\",\n",
    "    resampling_type=\"NEAREST\"\n",
    ")"
   ]
  },
  {
   "cell_type": "code",
   "execution_count": 87,
   "metadata": {},
   "outputs": [],
   "source": [
    "out_raster = arcpy.ia.SetNull(\n",
    "    in_conditional_raster=\"lid_le5_10m\",\n",
    "    in_false_raster_or_constant=1,\n",
    "    where_clause=\"Value = 0\"\n",
    ")\n",
    "out_raster.save(r\"C:\\Workspace\\Geodata\\MEP\\CCsheds.gdb\\lid_le5_10m_null\")"
   ]
  },
  {
   "cell_type": "code",
   "execution_count": 95,
   "metadata": {},
   "outputs": [],
   "source": [
    "out_raster = arcpy.sa.Expand(\n",
    "    in_raster=\"lid_le5_10m\",\n",
    "    number_cells=2,\n",
    "    zone_values=[1],\n",
    "    expand_method=\"MORPHOLOGICAL\"\n",
    ")\n",
    "out_raster.save(r\"C:\\Workspace\\Geodata\\MEP\\CCsheds.gdb\\lid_le5_10m_expand3\")"
   ]
  },
  {
   "cell_type": "code",
   "execution_count": null,
   "metadata": {},
   "outputs": [],
   "source": [
    "out_raster = arcpy.sa.Expand(\n",
    "    in_raster=\"Flowlines_10m\",\n",
    "    number_cells=2,\n",
    "    zone_values=[-10],\n",
    "    expand_method=\"MORPHOLOGICAL\"\n",
    ")\n",
    "out_raster.save(r\"C:\\Workspace\\Geodata\\MEP\\CCsheds.gdb\\Expand_Flowl1\")"
   ]
  },
  {
   "cell_type": "markdown",
   "metadata": {},
   "source": [
    "## Build walls and burn flow lines into pre-sink-filled dem\n"
   ]
  },
  {
   "cell_type": "code",
   "execution_count": 110,
   "metadata": {},
   "outputs": [],
   "source": [
    "# reverse condition on lidar percentile\n",
    "out_raster = arcpy.ia.Con(\n",
    "    in_conditional_raster=\"lid_le5_10m_expand3\",\n",
    "    in_true_raster_or_constant=0,\n",
    "    in_false_raster_or_constant=1,\n",
    "    where_clause=\"Value = 1\"\n",
    ")\n",
    "out_raster.save(\"lid_le5_10m_expand3_con\")"
   ]
  },
  {
   "cell_type": "code",
   "execution_count": null,
   "metadata": {},
   "outputs": [],
   "source": [
    "out_raster = arcpy.sa.Expand(\n",
    "    in_raster=\"Flowlines_10m\",\n",
    "    number_cells=1,\n",
    "    zone_values=[-10],\n",
    "    expand_method=\"MORPHOLOGICAL\"\n",
    ")\n",
    "out_raster.save(r\"C:\\Workspace\\Geodata\\MEP\\CCsheds.gdb\\Expand_Flowl1\")"
   ]
  },
  {
   "cell_type": "code",
   "execution_count": 144,
   "metadata": {},
   "outputs": [],
   "source": [
    "i = \"NHDflowlines_extract_exp\"\n",
    "out_raster = arcpy.ia.Con(\n",
    "        in_conditional_raster=i,\n",
    "        in_true_raster_or_constant=i,\n",
    "        in_false_raster_or_constant=0,\n",
    "        where_clause=\"Value IS NOT NULL\")\n",
    "out_raster.save(\"NHDflowlines_extract_exp_null\")"
   ]
  },
  {
   "cell_type": "code",
   "execution_count": 104,
   "metadata": {},
   "outputs": [],
   "source": [
    "i = \"NHDflowlines_extract\"\n",
    "out_raster = arcpy.ia.Con(\n",
    "        in_conditional_raster=i,\n",
    "        in_true_raster_or_constant=i,\n",
    "        in_false_raster_or_constant=0,\n",
    "        where_clause=\"Value IS NOT NULL\")\n",
    "out_raster.save(\"NHDflowlines_extract_null\")"
   ]
  },
  {
   "cell_type": "code",
   "execution_count": 21,
   "metadata": {},
   "outputs": [
    {
     "name": "stdout",
     "output_type": "stream",
     "text": [
      "CCsheds.gdb\n"
     ]
    }
   ],
   "source": [
    "os.chdir(wdr)\n",
    "print(gdb)\n"
   ]
  },
  {
   "cell_type": "markdown",
   "metadata": {},
   "source": [
    "## Hydroenforce DEM"
   ]
  },
  {
   "cell_type": "code",
   "execution_count": 15,
   "metadata": {},
   "outputs": [],
   "source": [
    "# this was run on 7-21-23\n",
    "a = arcpy.Raster(os.path.join(gdb,\"lid10m\"))\n",
    "b = arcpy.Raster(os.path.join(gdb,\"Embay_wall_null\"))\n",
    "c = arcpy.Raster(os.path.join(gdb,\"Subem_wall_null\"))\n",
    "d = arcpy.Raster(os.path.join(gdb,\"Subwa_wall_null\"))\n",
    "e = arcpy.Raster(os.path.join(gdb,\"lid_le5_10m_expand3_con\"))\n",
    "f = arcpy.Raster(os.path.join(gdb,\"NHDflowlines_extract_exp_null\"))\n",
    "f2 = arcpy.Raster(os.path.join(gdb,\"NHDflowlines_extract_null\"))\n",
    "g = arcpy.Raster(r\"C:\\Workspace\\Geodata\\MEP\\Default.gdb\\Lid_Sub_ZS\")\n",
    "h = arcpy.Raster(r\"C:\\Workspace\\Geodata\\Groundwater\\Groundwater.gdb\\Fill__tin_ti1\")"
   ]
  },
  {
   "cell_type": "code",
   "execution_count": 12,
   "metadata": {},
   "outputs": [],
   "source": [
    "# merge all bog watershed files and save to default geodatabase                       \n",
    "from datetime import datetime\n",
    "ymd = datetime.today().strftime('%y%m%d_%H%M%S')"
   ]
  },
  {
   "cell_type": "code",
   "execution_count": 13,
   "metadata": {},
   "outputs": [
    {
     "name": "stdout",
     "output_type": "stream",
     "text": [
      "230727_113443\n"
     ]
    }
   ],
   "source": [
    "print(ymd)\n",
    "#ymd = \"230727_111042\""
   ]
  },
  {
   "cell_type": "code",
   "execution_count": 17,
   "metadata": {},
   "outputs": [],
   "source": [
    "from arcpy.sa import *\n",
    "#outRaster = a + 50*(b+(c+d)*e)+f \n",
    "#outRaster = a + 50*(b+c+d*e)+f \n",
    "#outRaster = a + 50*(b+g)+f \n",
    "outRaster = h + 50*(b)+f \n",
    "#outRaster = outRaster # negative 100 \n",
    "outRaster.save(os.path.join(\"calculator_output_2\"))\n",
    "output_raster = Con(IsNull(outRaster), 0, outRaster)\n",
    "output_raster.save(\"calc_o_raste_\"+ymd)"
   ]
  },
  {
   "cell_type": "code",
   "execution_count": 18,
   "metadata": {},
   "outputs": [],
   "source": [
    "out_raster = arcpy.sa.ExtractByMask(\n",
    "    in_raster=\"calc_o_raste_\"+ymd,\n",
    "    in_mask_data=r\"C:\\Workspace\\Geodata\\MEP\\CCsheds.gdb\\Embayments\",\n",
    "    extraction_area=\"INSIDE\",\n",
    "    analysis_extent='348453.3123 4574481.33073196 422658.4435 4659191.054 PROJCS[\"NAD_1983_UTM_Zone_19N\",GEOGCS[\"GCS_North_American_1983\",DATUM[\"D_North_American_1983\",SPHEROID[\"GRS_1980\",6378137.0,298.257222101]],PRIMEM[\"Greenwich\",0.0],UNIT[\"Degree\",0.0174532925199433]],PROJECTION[\"Transverse_Mercator\"],PARAMETER[\"False_Easting\",500000.0],PARAMETER[\"False_Northing\",0.0],PARAMETER[\"Central_Meridian\",-69.0],PARAMETER[\"Scale_Factor\",0.9996],PARAMETER[\"Latitude_Of_Origin\",0.0],UNIT[\"Meter\",1.0]]'\n",
    ")\n",
    "out_raster.save(r\"he_\"+ymd)"
   ]
  },
  {
   "cell_type": "code",
   "execution_count": 19,
   "metadata": {},
   "outputs": [],
   "source": [
    "# fill sinks\n",
    "out_surface_raster = arcpy.sa.Fill(\n",
    "    in_surface_raster=\"he_\"+ymd,\n",
    "    z_limit=None\n",
    ")\n",
    "out_surface_raster.save(r\"C:\\Workspace\\Geodata\\MEP\\CCsheds.gdb\\hef_\"+ymd)"
   ]
  },
  {
   "cell_type": "code",
   "execution_count": 20,
   "metadata": {},
   "outputs": [],
   "source": [
    "# calculate flow direction\n",
    "out_flow_direction_raster = arcpy.sa.FlowDirection(\n",
    "    in_surface_raster=\"hef_\"+ymd,\n",
    "    force_flow=\"NORMAL\",\n",
    "    out_drop_raster=None,\n",
    "    flow_direction_type=\"D8\"\n",
    ")\n",
    "out_flow_direction_raster.save(r\"C:\\Workspace\\Geodata\\MEP\\CCsheds.gdb\\hef_D8_\"+ymd)"
   ]
  },
  {
   "cell_type": "code",
   "execution_count": 21,
   "metadata": {},
   "outputs": [],
   "source": [
    "# flow accumulation\n",
    "out_accumulation_raster = arcpy.sa.FlowAccumulation(\n",
    "    in_flow_direction_raster=\"hef_D8_\"+ymd,\n",
    "    in_weight_raster=None,\n",
    "    data_type=\"FLOAT\",\n",
    "    flow_direction_type=\"D8\"\n",
    ")\n",
    "out_accumulation_raster.save(r\"C:\\Workspace\\Geodata\\MEP\\CCsheds.gdb\\hef_D8_FA_\"+ymd)"
   ]
  },
  {
   "cell_type": "markdown",
   "metadata": {},
   "source": [
    "## Bog pour points"
   ]
  },
  {
   "cell_type": "code",
   "execution_count": 78,
   "metadata": {},
   "outputs": [],
   "source": [
    "ymd = \"230724_160554\""
   ]
  },
  {
   "cell_type": "code",
   "execution_count": 79,
   "metadata": {},
   "outputs": [],
   "source": [
    "outdir = os.path.join(odr,\"bogsheds\",ymd)\n",
    "if not os.path.exists(outdir):\n",
    "    os.mkdir(outdir)"
   ]
  },
  {
   "cell_type": "code",
   "execution_count": 5,
   "metadata": {},
   "outputs": [
    {
     "data": {
      "text/html": [
       "<div class='gpresult'><h2>Messages</h2><div id='messages' data-messages='[\"Start Time: Tuesday, July 25, 2023 9:14:43 AM\",\"Reading Features...\",\"Cracking Features...\",\"Assembling Features...\",\"Succeeded at Tuesday, July 25, 2023 9:14:45 AM (Elapsed Time: 1.66 seconds)\"]' data-show='true'><div id = 'default' /></div></div>"
      ],
      "text/plain": [
       "<Result 'C:\\\\Workspace\\\\Geodata\\\\MEP\\\\CCsheds.gdb\\\\Bogs_230724_160554'>"
      ]
     },
     "execution_count": 5,
     "metadata": {},
     "output_type": "execute_result"
    }
   ],
   "source": [
    "arcpy.analysis.Clip(\n",
    "    in_features=os.path.join(wdr,\"outputs/WMAbogsDRAFT2013_copy\"),\n",
    "    clip_features=\"Subembayments\",\n",
    "    out_feature_class=r\"C:\\Workspace\\Geodata\\MEP\\CCsheds.gdb\\Bogs_\"+ymd,\n",
    "    cluster_tolerance=None\n",
    ")"
   ]
  },
  {
   "cell_type": "code",
   "execution_count": 6,
   "metadata": {},
   "outputs": [],
   "source": [
    "# Zonal statistics to find the maximum flow accumulation inside each bog\n",
    "out_raster = arcpy.sa.ZonalStatistics(\n",
    "    in_zone_data=\"Bogs_\"+ymd,\n",
    "    zone_field=\"OBJECTID\",\n",
    "    in_value_raster=\"hef_D8_FA_\"+ymd,\n",
    "    statistics_type=\"MAXIMUM\",\n",
    "    ignore_nodata=\"DATA\",\n",
    "    process_as_multidimensional=\"CURRENT_SLICE\",\n",
    "    percentile_value=90,\n",
    "    percentile_interpolation_type=\"AUTO_DETECT\",\n",
    "    circular_calculation=\"ARITHMETIC\",\n",
    "    circular_wrap_value=360\n",
    ")\n",
    "out_raster.save(r\"Bog_Max_FlowAcc_ZS_\"+ymd)"
   ]
  },
  {
   "cell_type": "code",
   "execution_count": 7,
   "metadata": {},
   "outputs": [],
   "source": [
    "# Find points that equal of maximum value of flow accumulation inside each bog\n",
    "outEqualTo = arcpy.ia.EqualTo(\"Bog_Max_FlowAcc_ZS_\"+ymd, \"hef_D8_FA_\"+ymd)\n",
    "outEqualTo.save(\"Bog_Max_FlowAcc_EQ_\"+ymd)"
   ]
  },
  {
   "cell_type": "code",
   "execution_count": 8,
   "metadata": {},
   "outputs": [],
   "source": [
    "# Set 0 as null value \n",
    "out_raster = arcpy.sa.SetNull(\n",
    "    in_conditional_raster=\"Bog_Max_FlowAcc_EQ_\"+ymd,\n",
    "    in_false_raster_or_constant=\"Bog_Max_FlowAcc_EQ_\"+ymd,\n",
    "    where_clause=\"Value = 0\"\n",
    ")\n",
    "out_raster.save(\"Bog_Max_FlowAcc_EQ_Null_\"+ymd)"
   ]
  },
  {
   "cell_type": "code",
   "execution_count": 9,
   "metadata": {},
   "outputs": [
    {
     "data": {
      "text/html": [
       "<div class='gpresult'><h2>Messages</h2><div id='messages' data-messages='[\"Start Time: Tuesday, July 25, 2023 9:14:59 AM\",\"Succeeded at Tuesday, July 25, 2023 9:14:59 AM (Elapsed Time: 0.74 seconds)\"]' data-show='true'><div id = 'default' /></div></div>"
      ],
      "text/plain": [
       "<Result 'C:\\\\Workspace\\\\Geodata\\\\MEP\\\\CCsheds.gdb\\\\BogPourPoints_230724_160554'>"
      ]
     },
     "execution_count": 9,
     "metadata": {},
     "output_type": "execute_result"
    }
   ],
   "source": [
    "# raster to point\n",
    "arcpy.conversion.RasterToPoint(\n",
    "    in_raster=\"Bog_Max_FlowAcc_EQ_Null_\"+ymd,\n",
    "    out_point_features=\"BogPourPoints_\"+ymd,\n",
    "    raster_field=\"Value\"\n",
    ")"
   ]
  },
  {
   "cell_type": "code",
   "execution_count": 34,
   "metadata": {},
   "outputs": [
    {
     "data": {
      "text/html": [
       "<div class='gpresult'><h2>Messages</h2><div id='messages' data-messages='[\"Start Time: Tuesday, July 25, 2023 9:49:52 AM\",\"WARNING 000635: Skipping feature 781 because of NULL or EMPTY geometry.\",\"Succeeded at Tuesday, July 25, 2023 9:50:01 AM (Elapsed Time: 8.60 seconds)\"]' data-show='true'><div id = 'default' /></div></div>"
      ],
      "text/plain": [
       "<Result 'WMAbogsDRAFT2013_copy'>"
      ]
     },
     "execution_count": 34,
     "metadata": {},
     "output_type": "execute_result"
    }
   ],
   "source": [
    "# Store area as variable\n",
    "inFeature = os.path.join(odr,\"WMAbogsDRAFT2013_copy\")\n",
    "fieldName = \"bogsurf_m2\"\n",
    "# Create a new field\n",
    "arcpy.management.AddField(inFeature, fieldName, \"DOUBLE\")\n",
    "# Calculate field\n",
    "arcpy.management.CalculateField(inFeature, fieldName, \n",
    "                                \"0\",\n",
    "                                \"PYTHON3\")\n",
    "\n",
    "arcpy.management.CalculateGeometryAttributes(\n",
    "    in_features=\"WMAbogsDRAFT2013_copy\",\n",
    "    geometry_property=\"bogsurf_m2 AREA_GEODESIC\",\n",
    "    length_unit=\"\",\n",
    "    area_unit=\"SQUARE_METERS\",\n",
    "    coordinate_system='PROJCS[\"NAD_1983_StatePlane_Massachusetts_Mainland_FIPS_2001\",GEOGCS[\"GCS_North_American_1983\",DATUM[\"D_North_American_1983\",SPHEROID[\"GRS_1980\",6378137.0,298.257222101]],PRIMEM[\"Greenwich\",0.0],UNIT[\"Degree\",0.0174532925199433]],PROJECTION[\"Lambert_Conformal_Conic\"],PARAMETER[\"False_Easting\",200000.0],PARAMETER[\"False_Northing\",750000.0],PARAMETER[\"Central_Meridian\",-71.5],PARAMETER[\"Standard_Parallel_1\",41.71666666666667],PARAMETER[\"Standard_Parallel_2\",42.68333333333333],PARAMETER[\"Latitude_Of_Origin\",41.0],UNIT[\"Meter\",1.0]]',\n",
    "    coordinate_format=\"SAME_AS_INPUT\"\n",
    ")"
   ]
  },
  {
   "cell_type": "code",
   "execution_count": 37,
   "metadata": {
    "scrolled": true
   },
   "outputs": [
    {
     "data": {
      "text/html": [
       "<div class='gpresult'><h2>Messages</h2><div id='messages' data-messages='[\"Start Time: Tuesday, July 25, 2023 9:50:35 AM\",\"Reading Features...\",\"Cracking Features...\",\"Assembling Features...\",\"Succeeded at Tuesday, July 25, 2023 9:50:35 AM (Elapsed Time: 0.72 seconds)\"]' data-show='true'><div id = 'default' /></div></div>"
      ],
      "text/plain": [
       "<Result 'C:\\\\Workspace\\\\Geodata\\\\MEP\\\\CCsheds.gdb\\\\BogPourPoints_Ident_230724_160554'>"
      ]
     },
     "execution_count": 37,
     "metadata": {},
     "output_type": "execute_result"
    }
   ],
   "source": [
    "# Identity\n",
    "arcpy.analysis.Identity(\n",
    "    in_features=\"BogPourPoints_\"+ymd,\n",
    "    identity_features=os.path.join(odr,\"WMAbogsDRAFT2013_copy\"),\n",
    "    out_feature_class=\"BogPourPoints_Ident_\"+ymd,\n",
    "    join_attributes=\"ALL\",\n",
    "    cluster_tolerance=None,\n",
    "    relationship=\"NO_RELATIONSHIPS\"\n",
    ")"
   ]
  },
  {
   "cell_type": "markdown",
   "metadata": {},
   "source": [
    "## Delineate Bog Watersheds"
   ]
  },
  {
   "cell_type": "code",
   "execution_count": 11,
   "metadata": {},
   "outputs": [
    {
     "name": "stdout",
     "output_type": "stream",
     "text": [
      "   FID_WMAbogsDRAFT2013_copy\n",
      "0                        977\n",
      "1                        584\n",
      "2                        167\n",
      "3                        162\n"
     ]
    }
   ],
   "source": [
    "# Make a numpy array with the bog FID from Bog Pour Point Identity\n",
    "inLyr = \"BogPourPoints_Ident_\"+ymd\n",
    "idCol = \"FID_WMAbogsDRAFT2013_copy\"\n",
    "_ = arcpy.da.FeatureClassToNumPyArray(inLyr,idCol)\n",
    "# convert to data frame \n",
    "df_pourpoint = pd.DataFrame(_)\n",
    "print(df_pourpoint.iloc[0:4,:])"
   ]
  },
  {
   "cell_type": "code",
   "execution_count": 40,
   "metadata": {},
   "outputs": [
    {
     "name": "stdout",
     "output_type": "stream",
     "text": [
      "[None, None, None, None, None, None, None, None, None, None, None, None, None, None, None, None, None, None, None, None, None, None, None, None, None, None, None, None, None, None, None, None, None, None, None, None, None, None, None, None, None, None, None, None, None, None, None, None, None, None, None, None, None, None, None, None, None, None, None, None, None, None, None, None, None, None, None, None, None, None, None, None, None, None, None, None, None, None, None, None, None, None, None, None, None, None, None, None, None, None, None, None, None, None, None, None, None, None, None, None, None, None, None, None, None, None, None, None, None, None, None, None, None, None, None, None, None, None, None, None, None, None, None, None, None, None, None, None]\n"
     ]
    }
   ],
   "source": [
    "# select dataframe\n",
    "df = df_pourpoint\n",
    "# create list to store output filenames\n",
    "outfiles = [None]*len(df)\n",
    "print(outfiles)"
   ]
  },
  {
   "cell_type": "code",
   "execution_count": 42,
   "metadata": {},
   "outputs": [
    {
     "name": "stdout",
     "output_type": "stream",
     "text": [
      "0\n",
      "FID_WMAbogsDRAFT2013_copy = 977\n",
      "C:\\Workspace\\Geodata\\MEP\\outputs\\bogsheds\\230724_160554\\bogWS_poly977.shp\n",
      "1\n",
      "FID_WMAbogsDRAFT2013_copy = 584\n",
      "C:\\Workspace\\Geodata\\MEP\\outputs\\bogsheds\\230724_160554\\bogWS_poly584.shp\n",
      "2\n",
      "FID_WMAbogsDRAFT2013_copy = 167\n",
      "C:\\Workspace\\Geodata\\MEP\\outputs\\bogsheds\\230724_160554\\bogWS_poly167.shp\n",
      "3\n",
      "FID_WMAbogsDRAFT2013_copy = 162\n",
      "C:\\Workspace\\Geodata\\MEP\\outputs\\bogsheds\\230724_160554\\bogWS_poly162.shp\n",
      "4\n",
      "FID_WMAbogsDRAFT2013_copy = 582\n",
      "C:\\Workspace\\Geodata\\MEP\\outputs\\bogsheds\\230724_160554\\bogWS_poly582.shp\n",
      "5\n",
      "FID_WMAbogsDRAFT2013_copy = 166\n",
      "C:\\Workspace\\Geodata\\MEP\\outputs\\bogsheds\\230724_160554\\bogWS_poly166.shp\n",
      "6\n",
      "FID_WMAbogsDRAFT2013_copy = 583\n",
      "C:\\Workspace\\Geodata\\MEP\\outputs\\bogsheds\\230724_160554\\bogWS_poly583.shp\n",
      "7\n",
      "FID_WMAbogsDRAFT2013_copy = 243\n",
      "C:\\Workspace\\Geodata\\MEP\\outputs\\bogsheds\\230724_160554\\bogWS_poly243.shp\n",
      "8\n",
      "FID_WMAbogsDRAFT2013_copy = 165\n",
      "C:\\Workspace\\Geodata\\MEP\\outputs\\bogsheds\\230724_160554\\bogWS_poly165.shp\n",
      "9\n",
      "FID_WMAbogsDRAFT2013_copy = 631\n",
      "C:\\Workspace\\Geodata\\MEP\\outputs\\bogsheds\\230724_160554\\bogWS_poly631.shp\n",
      "10\n",
      "FID_WMAbogsDRAFT2013_copy = 194\n",
      "C:\\Workspace\\Geodata\\MEP\\outputs\\bogsheds\\230724_160554\\bogWS_poly194.shp\n",
      "11\n",
      "FID_WMAbogsDRAFT2013_copy = 629\n",
      "C:\\Workspace\\Geodata\\MEP\\outputs\\bogsheds\\230724_160554\\bogWS_poly629.shp\n",
      "12\n",
      "FID_WMAbogsDRAFT2013_copy = 630\n",
      "C:\\Workspace\\Geodata\\MEP\\outputs\\bogsheds\\230724_160554\\bogWS_poly630.shp\n",
      "13\n",
      "FID_WMAbogsDRAFT2013_copy = 164\n",
      "C:\\Workspace\\Geodata\\MEP\\outputs\\bogsheds\\230724_160554\\bogWS_poly164.shp\n",
      "14\n",
      "FID_WMAbogsDRAFT2013_copy = 193\n",
      "C:\\Workspace\\Geodata\\MEP\\outputs\\bogsheds\\230724_160554\\bogWS_poly193.shp\n",
      "15\n",
      "FID_WMAbogsDRAFT2013_copy = 585\n",
      "C:\\Workspace\\Geodata\\MEP\\outputs\\bogsheds\\230724_160554\\bogWS_poly585.shp\n",
      "16\n",
      "FID_WMAbogsDRAFT2013_copy = 191\n",
      "C:\\Workspace\\Geodata\\MEP\\outputs\\bogsheds\\230724_160554\\bogWS_poly191.shp\n",
      "17\n",
      "FID_WMAbogsDRAFT2013_copy = 398\n",
      "C:\\Workspace\\Geodata\\MEP\\outputs\\bogsheds\\230724_160554\\bogWS_poly398.shp\n",
      "18\n",
      "FID_WMAbogsDRAFT2013_copy = 192\n",
      "C:\\Workspace\\Geodata\\MEP\\outputs\\bogsheds\\230724_160554\\bogWS_poly192.shp\n",
      "19\n",
      "FID_WMAbogsDRAFT2013_copy = 189\n",
      "C:\\Workspace\\Geodata\\MEP\\outputs\\bogsheds\\230724_160554\\bogWS_poly189.shp\n",
      "20\n",
      "FID_WMAbogsDRAFT2013_copy = 157\n",
      "C:\\Workspace\\Geodata\\MEP\\outputs\\bogsheds\\230724_160554\\bogWS_poly157.shp\n",
      "21\n",
      "FID_WMAbogsDRAFT2013_copy = 190\n",
      "C:\\Workspace\\Geodata\\MEP\\outputs\\bogsheds\\230724_160554\\bogWS_poly190.shp\n",
      "22\n",
      "FID_WMAbogsDRAFT2013_copy = 918\n",
      "C:\\Workspace\\Geodata\\MEP\\outputs\\bogsheds\\230724_160554\\bogWS_poly918.shp\n",
      "23\n",
      "FID_WMAbogsDRAFT2013_copy = 397\n",
      "C:\\Workspace\\Geodata\\MEP\\outputs\\bogsheds\\230724_160554\\bogWS_poly397.shp\n",
      "24\n",
      "FID_WMAbogsDRAFT2013_copy = 188\n",
      "C:\\Workspace\\Geodata\\MEP\\outputs\\bogsheds\\230724_160554\\bogWS_poly188.shp\n",
      "25\n",
      "FID_WMAbogsDRAFT2013_copy = 171\n",
      "C:\\Workspace\\Geodata\\MEP\\outputs\\bogsheds\\230724_160554\\bogWS_poly171.shp\n",
      "26\n",
      "FID_WMAbogsDRAFT2013_copy = 123\n",
      "C:\\Workspace\\Geodata\\MEP\\outputs\\bogsheds\\230724_160554\\bogWS_poly123.shp\n",
      "27\n",
      "FID_WMAbogsDRAFT2013_copy = 117\n",
      "C:\\Workspace\\Geodata\\MEP\\outputs\\bogsheds\\230724_160554\\bogWS_poly117.shp\n",
      "28\n",
      "FID_WMAbogsDRAFT2013_copy = 200\n",
      "C:\\Workspace\\Geodata\\MEP\\outputs\\bogsheds\\230724_160554\\bogWS_poly200.shp\n",
      "29\n",
      "FID_WMAbogsDRAFT2013_copy = 396\n",
      "C:\\Workspace\\Geodata\\MEP\\outputs\\bogsheds\\230724_160554\\bogWS_poly396.shp\n",
      "30\n",
      "FID_WMAbogsDRAFT2013_copy = 206\n",
      "C:\\Workspace\\Geodata\\MEP\\outputs\\bogsheds\\230724_160554\\bogWS_poly206.shp\n",
      "31\n",
      "FID_WMAbogsDRAFT2013_copy = 395\n",
      "C:\\Workspace\\Geodata\\MEP\\outputs\\bogsheds\\230724_160554\\bogWS_poly395.shp\n",
      "32\n",
      "FID_WMAbogsDRAFT2013_copy = 168\n",
      "C:\\Workspace\\Geodata\\MEP\\outputs\\bogsheds\\230724_160554\\bogWS_poly168.shp\n",
      "33\n",
      "FID_WMAbogsDRAFT2013_copy = 919\n",
      "C:\\Workspace\\Geodata\\MEP\\outputs\\bogsheds\\230724_160554\\bogWS_poly919.shp\n",
      "34\n",
      "FID_WMAbogsDRAFT2013_copy = 201\n",
      "C:\\Workspace\\Geodata\\MEP\\outputs\\bogsheds\\230724_160554\\bogWS_poly201.shp\n",
      "35\n",
      "FID_WMAbogsDRAFT2013_copy = 662\n",
      "C:\\Workspace\\Geodata\\MEP\\outputs\\bogsheds\\230724_160554\\bogWS_poly662.shp\n",
      "36\n",
      "FID_WMAbogsDRAFT2013_copy = 124\n",
      "C:\\Workspace\\Geodata\\MEP\\outputs\\bogsheds\\230724_160554\\bogWS_poly124.shp\n",
      "37\n",
      "FID_WMAbogsDRAFT2013_copy = 202\n",
      "C:\\Workspace\\Geodata\\MEP\\outputs\\bogsheds\\230724_160554\\bogWS_poly202.shp\n",
      "38\n",
      "FID_WMAbogsDRAFT2013_copy = 156\n",
      "C:\\Workspace\\Geodata\\MEP\\outputs\\bogsheds\\230724_160554\\bogWS_poly156.shp\n",
      "39\n",
      "FID_WMAbogsDRAFT2013_copy = 154\n",
      "C:\\Workspace\\Geodata\\MEP\\outputs\\bogsheds\\230724_160554\\bogWS_poly154.shp\n",
      "40\n",
      "FID_WMAbogsDRAFT2013_copy = 135\n",
      "C:\\Workspace\\Geodata\\MEP\\outputs\\bogsheds\\230724_160554\\bogWS_poly135.shp\n",
      "41\n",
      "FID_WMAbogsDRAFT2013_copy = 170\n",
      "C:\\Workspace\\Geodata\\MEP\\outputs\\bogsheds\\230724_160554\\bogWS_poly170.shp\n",
      "42\n",
      "FID_WMAbogsDRAFT2013_copy = 424\n",
      "C:\\Workspace\\Geodata\\MEP\\outputs\\bogsheds\\230724_160554\\bogWS_poly424.shp\n",
      "43\n",
      "FID_WMAbogsDRAFT2013_copy = 155\n",
      "C:\\Workspace\\Geodata\\MEP\\outputs\\bogsheds\\230724_160554\\bogWS_poly155.shp\n",
      "44\n",
      "FID_WMAbogsDRAFT2013_copy = 136\n",
      "C:\\Workspace\\Geodata\\MEP\\outputs\\bogsheds\\230724_160554\\bogWS_poly136.shp\n",
      "45\n",
      "FID_WMAbogsDRAFT2013_copy = 665\n",
      "C:\\Workspace\\Geodata\\MEP\\outputs\\bogsheds\\230724_160554\\bogWS_poly665.shp\n",
      "46\n",
      "FID_WMAbogsDRAFT2013_copy = 169\n",
      "C:\\Workspace\\Geodata\\MEP\\outputs\\bogsheds\\230724_160554\\bogWS_poly169.shp\n",
      "47\n",
      "FID_WMAbogsDRAFT2013_copy = 664\n",
      "C:\\Workspace\\Geodata\\MEP\\outputs\\bogsheds\\230724_160554\\bogWS_poly664.shp\n",
      "48\n",
      "FID_WMAbogsDRAFT2013_copy = 153\n",
      "C:\\Workspace\\Geodata\\MEP\\outputs\\bogsheds\\230724_160554\\bogWS_poly153.shp\n",
      "49\n",
      "FID_WMAbogsDRAFT2013_copy = 740\n",
      "C:\\Workspace\\Geodata\\MEP\\outputs\\bogsheds\\230724_160554\\bogWS_poly740.shp\n",
      "50\n",
      "FID_WMAbogsDRAFT2013_copy = 142\n",
      "C:\\Workspace\\Geodata\\MEP\\outputs\\bogsheds\\230724_160554\\bogWS_poly142.shp\n",
      "51\n",
      "FID_WMAbogsDRAFT2013_copy = 177\n",
      "C:\\Workspace\\Geodata\\MEP\\outputs\\bogsheds\\230724_160554\\bogWS_poly177.shp\n",
      "52\n",
      "FID_WMAbogsDRAFT2013_copy = 545\n",
      "C:\\Workspace\\Geodata\\MEP\\outputs\\bogsheds\\230724_160554\\bogWS_poly545.shp\n",
      "53\n",
      "FID_WMAbogsDRAFT2013_copy = 134\n",
      "C:\\Workspace\\Geodata\\MEP\\outputs\\bogsheds\\230724_160554\\bogWS_poly134.shp\n",
      "54\n",
      "FID_WMAbogsDRAFT2013_copy = 149\n",
      "C:\\Workspace\\Geodata\\MEP\\outputs\\bogsheds\\230724_160554\\bogWS_poly149.shp\n",
      "55\n",
      "FID_WMAbogsDRAFT2013_copy = 122\n",
      "C:\\Workspace\\Geodata\\MEP\\outputs\\bogsheds\\230724_160554\\bogWS_poly122.shp\n",
      "56\n",
      "FID_WMAbogsDRAFT2013_copy = 139\n",
      "C:\\Workspace\\Geodata\\MEP\\outputs\\bogsheds\\230724_160554\\bogWS_poly139.shp\n",
      "57\n",
      "FID_WMAbogsDRAFT2013_copy = 275\n",
      "C:\\Workspace\\Geodata\\MEP\\outputs\\bogsheds\\230724_160554\\bogWS_poly275.shp\n",
      "58\n",
      "FID_WMAbogsDRAFT2013_copy = 393\n",
      "C:\\Workspace\\Geodata\\MEP\\outputs\\bogsheds\\230724_160554\\bogWS_poly393.shp\n",
      "59\n",
      "FID_WMAbogsDRAFT2013_copy = 976\n",
      "C:\\Workspace\\Geodata\\MEP\\outputs\\bogsheds\\230724_160554\\bogWS_poly976.shp\n",
      "60\n",
      "FID_WMAbogsDRAFT2013_copy = 146\n",
      "C:\\Workspace\\Geodata\\MEP\\outputs\\bogsheds\\230724_160554\\bogWS_poly146.shp\n",
      "61\n",
      "FID_WMAbogsDRAFT2013_copy = 116\n",
      "C:\\Workspace\\Geodata\\MEP\\outputs\\bogsheds\\230724_160554\\bogWS_poly116.shp\n",
      "62\n",
      "FID_WMAbogsDRAFT2013_copy = 494\n",
      "C:\\Workspace\\Geodata\\MEP\\outputs\\bogsheds\\230724_160554\\bogWS_poly494.shp\n",
      "63\n",
      "FID_WMAbogsDRAFT2013_copy = 272\n",
      "C:\\Workspace\\Geodata\\MEP\\outputs\\bogsheds\\230724_160554\\bogWS_poly272.shp\n",
      "64\n",
      "FID_WMAbogsDRAFT2013_copy = 137\n",
      "C:\\Workspace\\Geodata\\MEP\\outputs\\bogsheds\\230724_160554\\bogWS_poly137.shp\n",
      "65\n",
      "FID_WMAbogsDRAFT2013_copy = 144\n",
      "C:\\Workspace\\Geodata\\MEP\\outputs\\bogsheds\\230724_160554\\bogWS_poly144.shp\n",
      "66\n",
      "FID_WMAbogsDRAFT2013_copy = 84\n",
      "C:\\Workspace\\Geodata\\MEP\\outputs\\bogsheds\\230724_160554\\bogWS_poly84.shp\n",
      "67\n",
      "FID_WMAbogsDRAFT2013_copy = 145\n",
      "C:\\Workspace\\Geodata\\MEP\\outputs\\bogsheds\\230724_160554\\bogWS_poly145.shp\n",
      "68\n",
      "FID_WMAbogsDRAFT2013_copy = 159\n",
      "C:\\Workspace\\Geodata\\MEP\\outputs\\bogsheds\\230724_160554\\bogWS_poly159.shp\n",
      "69\n",
      "FID_WMAbogsDRAFT2013_copy = 121\n",
      "C:\\Workspace\\Geodata\\MEP\\outputs\\bogsheds\\230724_160554\\bogWS_poly121.shp\n",
      "70\n",
      "FID_WMAbogsDRAFT2013_copy = 160\n",
      "C:\\Workspace\\Geodata\\MEP\\outputs\\bogsheds\\230724_160554\\bogWS_poly160.shp\n",
      "71\n",
      "FID_WMAbogsDRAFT2013_copy = 966\n",
      "C:\\Workspace\\Geodata\\MEP\\outputs\\bogsheds\\230724_160554\\bogWS_poly966.shp\n",
      "72\n",
      "FID_WMAbogsDRAFT2013_copy = 119\n",
      "C:\\Workspace\\Geodata\\MEP\\outputs\\bogsheds\\230724_160554\\bogWS_poly119.shp\n",
      "73\n",
      "FID_WMAbogsDRAFT2013_copy = 271\n",
      "C:\\Workspace\\Geodata\\MEP\\outputs\\bogsheds\\230724_160554\\bogWS_poly271.shp\n",
      "74\n",
      "FID_WMAbogsDRAFT2013_copy = 199\n",
      "C:\\Workspace\\Geodata\\MEP\\outputs\\bogsheds\\230724_160554\\bogWS_poly199.shp\n",
      "75\n",
      "FID_WMAbogsDRAFT2013_copy = 120\n",
      "C:\\Workspace\\Geodata\\MEP\\outputs\\bogsheds\\230724_160554\\bogWS_poly120.shp\n",
      "76\n",
      "FID_WMAbogsDRAFT2013_copy = 118\n",
      "C:\\Workspace\\Geodata\\MEP\\outputs\\bogsheds\\230724_160554\\bogWS_poly118.shp\n",
      "77\n",
      "FID_WMAbogsDRAFT2013_copy = 712\n",
      "C:\\Workspace\\Geodata\\MEP\\outputs\\bogsheds\\230724_160554\\bogWS_poly712.shp\n",
      "78\n",
      "FID_WMAbogsDRAFT2013_copy = 392\n",
      "C:\\Workspace\\Geodata\\MEP\\outputs\\bogsheds\\230724_160554\\bogWS_poly392.shp\n",
      "79\n",
      "FID_WMAbogsDRAFT2013_copy = 495\n",
      "C:\\Workspace\\Geodata\\MEP\\outputs\\bogsheds\\230724_160554\\bogWS_poly495.shp\n",
      "80\n",
      "FID_WMAbogsDRAFT2013_copy = 147\n",
      "C:\\Workspace\\Geodata\\MEP\\outputs\\bogsheds\\230724_160554\\bogWS_poly147.shp\n",
      "81\n",
      "FID_WMAbogsDRAFT2013_copy = 176\n",
      "C:\\Workspace\\Geodata\\MEP\\outputs\\bogsheds\\230724_160554\\bogWS_poly176.shp\n",
      "82\n",
      "FID_WMAbogsDRAFT2013_copy = 211\n",
      "C:\\Workspace\\Geodata\\MEP\\outputs\\bogsheds\\230724_160554\\bogWS_poly211.shp\n",
      "83\n",
      "FID_WMAbogsDRAFT2013_copy = 125\n",
      "C:\\Workspace\\Geodata\\MEP\\outputs\\bogsheds\\230724_160554\\bogWS_poly125.shp\n",
      "84\n",
      "FID_WMAbogsDRAFT2013_copy = 151\n",
      "C:\\Workspace\\Geodata\\MEP\\outputs\\bogsheds\\230724_160554\\bogWS_poly151.shp\n",
      "85\n",
      "FID_WMAbogsDRAFT2013_copy = 247\n",
      "C:\\Workspace\\Geodata\\MEP\\outputs\\bogsheds\\230724_160554\\bogWS_poly247.shp\n",
      "86\n",
      "FID_WMAbogsDRAFT2013_copy = 484\n",
      "C:\\Workspace\\Geodata\\MEP\\outputs\\bogsheds\\230724_160554\\bogWS_poly484.shp\n",
      "87\n",
      "FID_WMAbogsDRAFT2013_copy = 152\n",
      "C:\\Workspace\\Geodata\\MEP\\outputs\\bogsheds\\230724_160554\\bogWS_poly152.shp\n",
      "88\n",
      "FID_WMAbogsDRAFT2013_copy = 140\n",
      "C:\\Workspace\\Geodata\\MEP\\outputs\\bogsheds\\230724_160554\\bogWS_poly140.shp\n",
      "89\n",
      "FID_WMAbogsDRAFT2013_copy = 485\n",
      "C:\\Workspace\\Geodata\\MEP\\outputs\\bogsheds\\230724_160554\\bogWS_poly485.shp\n",
      "90\n",
      "FID_WMAbogsDRAFT2013_copy = 586\n",
      "C:\\Workspace\\Geodata\\MEP\\outputs\\bogsheds\\230724_160554\\bogWS_poly586.shp\n",
      "91\n",
      "FID_WMAbogsDRAFT2013_copy = 174\n",
      "C:\\Workspace\\Geodata\\MEP\\outputs\\bogsheds\\230724_160554\\bogWS_poly174.shp\n",
      "92\n",
      "FID_WMAbogsDRAFT2013_copy = 203\n",
      "C:\\Workspace\\Geodata\\MEP\\outputs\\bogsheds\\230724_160554\\bogWS_poly203.shp\n",
      "93\n",
      "FID_WMAbogsDRAFT2013_copy = 141\n",
      "C:\\Workspace\\Geodata\\MEP\\outputs\\bogsheds\\230724_160554\\bogWS_poly141.shp\n",
      "94\n",
      "FID_WMAbogsDRAFT2013_copy = 129\n",
      "C:\\Workspace\\Geodata\\MEP\\outputs\\bogsheds\\230724_160554\\bogWS_poly129.shp\n",
      "95\n",
      "FID_WMAbogsDRAFT2013_copy = 150\n",
      "C:\\Workspace\\Geodata\\MEP\\outputs\\bogsheds\\230724_160554\\bogWS_poly150.shp\n",
      "96\n",
      "FID_WMAbogsDRAFT2013_copy = 544\n",
      "C:\\Workspace\\Geodata\\MEP\\outputs\\bogsheds\\230724_160554\\bogWS_poly544.shp\n",
      "97\n",
      "FID_WMAbogsDRAFT2013_copy = 148\n",
      "C:\\Workspace\\Geodata\\MEP\\outputs\\bogsheds\\230724_160554\\bogWS_poly148.shp\n",
      "98\n",
      "FID_WMAbogsDRAFT2013_copy = 138\n",
      "C:\\Workspace\\Geodata\\MEP\\outputs\\bogsheds\\230724_160554\\bogWS_poly138.shp\n",
      "99\n",
      "FID_WMAbogsDRAFT2013_copy = 704\n",
      "C:\\Workspace\\Geodata\\MEP\\outputs\\bogsheds\\230724_160554\\bogWS_poly704.shp\n",
      "100\n",
      "FID_WMAbogsDRAFT2013_copy = 197\n",
      "C:\\Workspace\\Geodata\\MEP\\outputs\\bogsheds\\230724_160554\\bogWS_poly197.shp\n",
      "101\n",
      "FID_WMAbogsDRAFT2013_copy = 85\n",
      "C:\\Workspace\\Geodata\\MEP\\outputs\\bogsheds\\230724_160554\\bogWS_poly85.shp\n",
      "102\n",
      "FID_WMAbogsDRAFT2013_copy = 575\n",
      "C:\\Workspace\\Geodata\\MEP\\outputs\\bogsheds\\230724_160554\\bogWS_poly575.shp\n",
      "103\n",
      "FID_WMAbogsDRAFT2013_copy = 581\n",
      "C:\\Workspace\\Geodata\\MEP\\outputs\\bogsheds\\230724_160554\\bogWS_poly581.shp\n",
      "104\n",
      "FID_WMAbogsDRAFT2013_copy = 196\n",
      "C:\\Workspace\\Geodata\\MEP\\outputs\\bogsheds\\230724_160554\\bogWS_poly196.shp\n",
      "105\n",
      "FID_WMAbogsDRAFT2013_copy = 195\n",
      "C:\\Workspace\\Geodata\\MEP\\outputs\\bogsheds\\230724_160554\\bogWS_poly195.shp\n",
      "106\n",
      "FID_WMAbogsDRAFT2013_copy = 179\n",
      "C:\\Workspace\\Geodata\\MEP\\outputs\\bogsheds\\230724_160554\\bogWS_poly179.shp\n",
      "107\n",
      "FID_WMAbogsDRAFT2013_copy = 198\n",
      "C:\\Workspace\\Geodata\\MEP\\outputs\\bogsheds\\230724_160554\\bogWS_poly198.shp\n",
      "108\n",
      "FID_WMAbogsDRAFT2013_copy = 223\n",
      "C:\\Workspace\\Geodata\\MEP\\outputs\\bogsheds\\230724_160554\\bogWS_poly223.shp\n",
      "109\n",
      "FID_WMAbogsDRAFT2013_copy = 222\n",
      "C:\\Workspace\\Geodata\\MEP\\outputs\\bogsheds\\230724_160554\\bogWS_poly222.shp\n",
      "110\n",
      "FID_WMAbogsDRAFT2013_copy = 394\n",
      "C:\\Workspace\\Geodata\\MEP\\outputs\\bogsheds\\230724_160554\\bogWS_poly394.shp\n",
      "111\n",
      "FID_WMAbogsDRAFT2013_copy = 86\n",
      "C:\\Workspace\\Geodata\\MEP\\outputs\\bogsheds\\230724_160554\\bogWS_poly86.shp\n",
      "112\n",
      "FID_WMAbogsDRAFT2013_copy = 24\n",
      "C:\\Workspace\\Geodata\\MEP\\outputs\\bogsheds\\230724_160554\\bogWS_poly24.shp\n",
      "113\n",
      "FID_WMAbogsDRAFT2013_copy = 163\n",
      "C:\\Workspace\\Geodata\\MEP\\outputs\\bogsheds\\230724_160554\\bogWS_poly163.shp\n",
      "114\n",
      "FID_WMAbogsDRAFT2013_copy = 957\n",
      "C:\\Workspace\\Geodata\\MEP\\outputs\\bogsheds\\230724_160554\\bogWS_poly957.shp\n",
      "115\n",
      "FID_WMAbogsDRAFT2013_copy = 563\n",
      "C:\\Workspace\\Geodata\\MEP\\outputs\\bogsheds\\230724_160554\\bogWS_poly563.shp\n",
      "116\n",
      "FID_WMAbogsDRAFT2013_copy = 19\n",
      "C:\\Workspace\\Geodata\\MEP\\outputs\\bogsheds\\230724_160554\\bogWS_poly19.shp\n",
      "117\n",
      "FID_WMAbogsDRAFT2013_copy = 684\n",
      "C:\\Workspace\\Geodata\\MEP\\outputs\\bogsheds\\230724_160554\\bogWS_poly684.shp\n",
      "118\n",
      "FID_WMAbogsDRAFT2013_copy = 401\n",
      "C:\\Workspace\\Geodata\\MEP\\outputs\\bogsheds\\230724_160554\\bogWS_poly401.shp\n",
      "119\n",
      "FID_WMAbogsDRAFT2013_copy = 667\n",
      "C:\\Workspace\\Geodata\\MEP\\outputs\\bogsheds\\230724_160554\\bogWS_poly667.shp\n",
      "120\n",
      "FID_WMAbogsDRAFT2013_copy = 580\n",
      "C:\\Workspace\\Geodata\\MEP\\outputs\\bogsheds\\230724_160554\\bogWS_poly580.shp\n",
      "121\n",
      "FID_WMAbogsDRAFT2013_copy = 512\n",
      "C:\\Workspace\\Geodata\\MEP\\outputs\\bogsheds\\230724_160554\\bogWS_poly512.shp\n",
      "122\n",
      "FID_WMAbogsDRAFT2013_copy = 511\n",
      "C:\\Workspace\\Geodata\\MEP\\outputs\\bogsheds\\230724_160554\\bogWS_poly511.shp\n",
      "123\n",
      "FID_WMAbogsDRAFT2013_copy = 35\n",
      "C:\\Workspace\\Geodata\\MEP\\outputs\\bogsheds\\230724_160554\\bogWS_poly35.shp\n",
      "124\n",
      "FID_WMAbogsDRAFT2013_copy = 425\n",
      "C:\\Workspace\\Geodata\\MEP\\outputs\\bogsheds\\230724_160554\\bogWS_poly425.shp\n",
      "125\n",
      "FID_WMAbogsDRAFT2013_copy = 533\n",
      "C:\\Workspace\\Geodata\\MEP\\outputs\\bogsheds\\230724_160554\\bogWS_poly533.shp\n",
      "126\n",
      "FID_WMAbogsDRAFT2013_copy = 935\n",
      "C:\\Workspace\\Geodata\\MEP\\outputs\\bogsheds\\230724_160554\\bogWS_poly935.shp\n",
      "127\n",
      "FID_WMAbogsDRAFT2013_copy = 513\n",
      "C:\\Workspace\\Geodata\\MEP\\outputs\\bogsheds\\230724_160554\\bogWS_poly513.shp\n",
      "Wall time: 23min 1s\n"
     ]
    }
   ],
   "source": [
    "%%time \n",
    "# this cell took a Wall time: 4h 7min 26s for 982 watersheds\n",
    "# loop through all rows of the cranberry bog pour points contained dataframe \n",
    "for i in range(len(df)):\n",
    "    print(i)\n",
    "    bogFID = df.iloc[i,0]\n",
    "\n",
    "    print(\"{} = {}\".format(idCol,bogFID))\n",
    "    \n",
    "    # clear the selection\n",
    "    arcpy.management.SelectLayerByAttribute(\n",
    "        in_layer_or_view=inLyr,\n",
    "        selection_type=\"CLEAR_SELECTION\")\n",
    "    \n",
    "    # Select pour point by Attributes\n",
    "    selection = arcpy.management.SelectLayerByAttribute(\n",
    "        in_layer_or_view=inLyr,\n",
    "        selection_type=\"NEW_SELECTION\",\n",
    "        where_clause=\"{} = {}\".format(idCol,bogFID))\n",
    "    \n",
    "    \"\"\"\n",
    "    # save a temporary file with bog pour point\n",
    "    tmpfile1 = os.path.join(tdr.name,\"bogPt_{}\".format(bogFID))\n",
    "    bog = arcpy.management.CopyFeatures(\n",
    "        in_features=selection,\n",
    "        out_feature_class=tmpfile1)\n",
    "    \"\"\"                    \n",
    "    # Delineate Watershed\n",
    "    out_raster = arcpy.sa.Watershed(\n",
    "        in_flow_direction_raster=\"hef_D8_\"+ymd,\n",
    "        in_pour_point_data=selection,\n",
    "        pour_point_field=idCol)\n",
    "    '''\n",
    "    # this block runs slower\n",
    "    out_raster = arcpy.sa.Watershed(\n",
    "        in_flow_direction_raster=\"LidAg10BF_D8\",\n",
    "        in_pour_point_data=tmpfile,\n",
    "        pour_point_field=\"FID_WMAbog\")\n",
    "    '''\n",
    "    \n",
    "    # Save Watershed to outfile with name = bogFID\n",
    "    tmpfile2 = os.path.join(outdir,\"bogWS{}.tif\".format(bogFID))\n",
    "    \n",
    "    # create and save temporary output file\n",
    "    out_raster.save(tmpfile2)\n",
    "    \n",
    "    outfile = os.path.join(outdir,\"bogWS_poly{}.shp\".format(bogFID))\n",
    "    arcpy.conversion.RasterToPolygon(\n",
    "        in_raster=tmpfile2,\n",
    "        out_polygon_features=outfile,\n",
    "        simplify=\"SIMPLIFY\",\n",
    "        create_multipart_features=\"MULTIPLE_OUTER_PART\",\n",
    "        raster_field=\"Value\")\n",
    "    \n",
    "    print(outfile)\n",
    "    # Assign the name to the ith value of outfiles list\n",
    "    outfiles[i] = outfile"
   ]
  },
  {
   "cell_type": "code",
   "execution_count": 90,
   "metadata": {},
   "outputs": [],
   "source": [
    "## Save outputs"
   ]
  },
  {
   "cell_type": "code",
   "execution_count": 92,
   "metadata": {},
   "outputs": [],
   "source": [
    "ymd = \"230724_160554\"\n",
    "outdir = os.path.join(odr,\"bogsheds\",ymd)\n",
    "import glob\n",
    "import os\n",
    "outfiles = glob.glob(os.path.join(outdir,\"*.shp\"))"
   ]
  },
  {
   "cell_type": "code",
   "execution_count": 93,
   "metadata": {},
   "outputs": [
    {
     "data": {
      "text/html": [
       "<div class='gpresult'><h2>Messages</h2><div id='messages' data-messages='[\"Start Time: Wednesday, July 26, 2023 1:46:48 PM\",\"Succeeded at Wednesday, July 26, 2023 1:46:48 PM (Elapsed Time: 0.59 seconds)\"]' data-show='true'><div id = 'default' /></div></div>"
      ],
      "text/plain": [
       "<Result 'C:\\\\Workspace\\\\Geodata\\\\MEP\\\\CCsheds.gdb\\\\bogsheds_select_230724_160554'>"
      ]
     },
     "execution_count": 93,
     "metadata": {},
     "output_type": "execute_result"
    }
   ],
   "source": [
    "merge = arcpy.management.Merge(\n",
    "    inputs=outfiles,\n",
    "    output=r\"C:\\Workspace\\Geodata\\MEP\\CCsheds.gdb\\bogsheds_{}\".format(ymd))\n",
    "\n",
    "# for some reason extra features are added to the output that have a polygon area ~= the extent\n",
    "# the line below removes those features. \n",
    "select = arcpy.management.SelectLayerByAttribute(\n",
    "    in_layer_or_view=merge,\n",
    "    selection_type=\"NEW_SELECTION\",\n",
    "    where_clause=\"gridcode = 0\",\n",
    "    invert_where_clause=None)\n",
    "\n",
    "arcpy.management.DeleteRows(in_rows=select)\n",
    "\n",
    "arcpy.management.CopyFeatures(\n",
    "    in_features=select,\n",
    "    out_feature_class=r\"C:\\Workspace\\Geodata\\MEP\\CCsheds.gdb\\bogsheds_select_{}\".format(ymd),\n",
    "    config_keyword=\"\",\n",
    "    spatial_grid_1=None,\n",
    "    spatial_grid_2=None,\n",
    "    spatial_grid_3=None)\n"
   ]
  },
  {
   "cell_type": "code",
   "execution_count": 94,
   "metadata": {},
   "outputs": [],
   "source": [
    "out_raster = arcpy.sa.Watershed(\n",
    "    in_flow_direction_raster=r\"C:\\Workspace\\Geodata\\MEP\\CCsheds.gdb\\hef_D8_230724_160554\",\n",
    "    in_pour_point_data=r\"C:\\Workspace\\Geodata\\MEP\\CCsheds.gdb\\BogPourPoints_Ident_230724_160554\",\n",
    "    pour_point_field=\"FID_WMAbogsDRAFT2013_copy\"\n",
    ")\n",
    "out_raster.save(r\"C:\\Workspace\\Geodata\\MEP\\CCsheds.gdb\\bogsheds_marginal_230724_160554\")"
   ]
  },
  {
   "cell_type": "code",
   "execution_count": 95,
   "metadata": {},
   "outputs": [
    {
     "data": {
      "text/html": [
       "<div class='gpresult'><h2>Messages</h2><div id='messages' data-messages='[\"Start Time: Wednesday, July 26, 2023 1:47:05 PM\",\"Succeeded at Wednesday, July 26, 2023 1:47:06 PM (Elapsed Time: 0.86 seconds)\"]' data-show='true'><div id = 'default' /></div></div>"
      ],
      "text/plain": [
       "<Result 'C:\\\\Workspace\\\\Geodata\\\\MEP\\\\Default.gdb\\\\bogsheds_marginal_poly_230724_160554'>"
      ]
     },
     "execution_count": 95,
     "metadata": {},
     "output_type": "execute_result"
    }
   ],
   "source": [
    "arcpy.conversion.RasterToPolygon(\n",
    "    in_raster=\"bogsheds_marginal_230724_160554\",\n",
    "    out_polygon_features=r\"C:\\Workspace\\Geodata\\MEP\\Default.gdb\\bogsheds_marginal_poly_230724_160554\",\n",
    "    simplify=\"SIMPLIFY\",\n",
    "    raster_field=\"Value\",\n",
    "    create_multipart_features=\"SINGLE_OUTER_PART\",\n",
    "    max_vertices_per_feature=None\n",
    ")"
   ]
  },
  {
   "cell_type": "raw",
   "metadata": {},
   "source": [
    "output_raster = arcpy.sa.RasterCalculator(\n",
    "    expression=' \"LidAg10m_Fill\"+(\"Embay_wall_null\" + \"Subem_wall_null\" + \"Subwa_wall_null\" - \"lid_le5_10m_expand3\" - \"flowlines_10m\")*50  '\n",
    ")\n",
    "output_raster.save(r\"c:\\workspace\\Geodata\\MEP\\CCsheds.gdb\\hydroenforced\")"
   ]
  },
  {
   "cell_type": "raw",
   "metadata": {},
   "source": [
    "arcpy.management.CalculateField(\n",
    "    in_table=\"NHDWaterbody\",\n",
    "    field=\"burn\",\n",
    "    expression=\"-50\",\n",
    "    expression_type=\"PYTHON3\",\n",
    "    code_block=\"\",\n",
    "    field_type=\"TEXT\",\n",
    "    enforce_domains=\"NO_ENFORCE_DOMAINS\"\n",
    ")\n",
    "\n",
    "arcpy.conversion.PolygonToRaster(\n",
    "    in_features=\"NHDWaterbody\",\n",
    "    value_field=\"OBJECTID\",\n",
    "    out_rasterdataset=r\"C:\\Workspace\\Geodata\\MEP\\Default.gdb\\NHDWaterbody_PolygonToRaster\",\n",
    "    cell_assignment=\"CELL_CENTER\",\n",
    "    priority_field=\"NONE\",\n",
    "    cellsize=10,\n",
    "    build_rat=\"BUILD\"\n",
    ")\n",
    "\n",
    "output_raster = arcpy.ia.RasterCalculator(\n",
    "    expression=' \"NHDWaterbody_PolygonToRaster\"*0-50'\n",
    ")\n",
    "output_raster.save(r\"c:\\workspace\\geodata\\mep\\default.gdb\\nhdwat_raste\")"
   ]
  },
  {
   "cell_type": "raw",
   "metadata": {},
   "source": [
    "fit_selected    expression=' \"wall_subwat_Null\"+\"wall_subemb_Null\"+\"wall_emb_Null\"'\n",
    ")\n",
    "output_raster.save(r\"c:\\workspace\\Geodata\\MEP\\Default.gdb\\wallsum\")"
   ]
  },
  {
   "cell_type": "raw",
   "metadata": {},
   "source": [
    "output_raster = arcpy.ia.RasterCalculator(\n",
    "    expression=' \"LidAg10m_Fill\"+50*(\"Embay_wall_null\" + \"Subem_wall_null\" + \"Subwa_wall_null\") - 100*(\"lid_le5_10m_expand3\" + (\"flowlines_10m\"/-10))'\n",
    ")\n",
    "output_raster.save(r\"c:\\workspace\\Geodata\\MEP\\CCsheds.gdb\\hydroenforced\")"
   ]
  },
  {
   "cell_type": "raw",
   "metadata": {},
   "source": [
    "#output_raster = Con(IsNull(outRaster), FocalStatistics(outRaster, NbrRectangle(5,5, \"CELL\"), \"MEAN\"), outRaster)\n",
    "#output_raster.save(\"calc_o_raste_1\")"
   ]
  }
 ],
 "metadata": {
  "kernelspec": {
   "display_name": "ArcGISPro",
   "language": "Python",
   "name": "python3"
  },
  "language_info": {
   "file_extension": ".py",
   "name": "python",
   "version": "3"
  }
 },
 "nbformat": 4,
 "nbformat_minor": 2
}
