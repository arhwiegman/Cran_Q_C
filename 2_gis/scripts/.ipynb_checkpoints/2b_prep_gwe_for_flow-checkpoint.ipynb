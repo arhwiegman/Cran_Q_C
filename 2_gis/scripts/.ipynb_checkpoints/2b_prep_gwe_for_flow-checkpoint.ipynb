{
 "cells": [
  {
   "cell_type": "markdown",
   "metadata": {},
   "source": [
    "## Metadata\n",
    "\n",
    "Preprocess \"Hydroenforce\" groundwater elevation data to resolve wetlands, lakes, cranberry bogs, and flowlines \n",
    "\n",
    "Author: Adrian Wiegman\n",
    "\n",
    "Date Modified: 08/24/2024\n",
    "\n",
    "The goal of this notebook is to develop a model of water table elevations, that resolves lakes, streams, and cranberry bogs. The water table elevation models will then be fed into flow routing algorithms to delineate groundwater and surface water contributing areas for cranberry farms. \n",
    "\n",
    "input data: \n",
    "- MODFLOW simulated groundwater elevations for Cape Cod and PKCD\n",
    "- NHD waterbodies\n",
    "- NHD flowlines\n",
    "    - this is an important dataset because it routes flow through obsticles like highways and in low gradient areas. \n",
    "    - however, this layer can also be problematic because it may also erroneously route surface flow low gradient areas like lakes and marshes when groundwater gradients would result in recharge in another direction\n",
    "    - edits:\n",
    "        - disconnect halfway pond from long pond in plymouth\n",
    "            - this resolves revisions to the wareham watershed made by MEP \n",
    "        - modified flow lines to resolve salt marshes of herring brook truro/welfleet\n",
    "        - modified flow lines to connect morse pond with falmouth harber\n",
    "        - modified flow lines at tidmarsh to resolve stream channel restoration. \n",
    "        - connected rocky bog to outflow stream\n",
    "        - deleted flow line bisecting Johns Pond in Waquoit Bay watershed. to better resolve flow fractions draining to childs and quashnet rivers\n",
    "- LiDAR surface elevation data\n",
    "- Mass DEP Cranberry Bog data\n",
    "\n",
    "output data: \n",
    "- raster format digital elevation models with 10 m horizontal resolution (NAD 1983 UTM Zone 19N)\n",
    "\n",
    "The following approaches are investigated here. \n",
    "- Method 1: Substract a specified depth from areas covered by lakes, streams, and cranberry bogs. \n",
    "    - Issues: this method breaks first principles in that creates sinks in areas covered \n",
    "      by these features without accurately representing the water table gradients\n",
    "      because of this water can spill\n",
    "    - Work arounds are to dig flowlines deeper. \n",
    "- Method 2: Create a hybrid layer using the wieghted average of surface lidar and modeled groundwater elevations\n",
    "   - Issues: the surface water layer is best resolved by lidar but contributing areas get warped as higher weight is placed on surface data\n",
    "- Method 3: Creat a hybrid layer which uses replaces grounwater level with surface lidar for all areas where groundwater depth is below a certain threshold\n",
    "   - Issues: this appears to be the best approach. Flow lines still need to burned in. It is best do to this after replacing GW with lidar, since certain areas may not be captured. \n",
    "    "
   ]
  },
  {
   "cell_type": "markdown",
   "metadata": {},
   "source": [
    "## Setup Environment"
   ]
  },
  {
   "cell_type": "code",
   "execution_count": 35,
   "metadata": {},
   "outputs": [
    {
     "name": "stdout",
     "output_type": "stream",
     "text": [
      "The autoreload extension is already loaded. To reload it, use:\n",
      "  %reload_ext autoreload\n",
      "***\n",
      "loading python modules...\n",
      "\n",
      "  `module_list` contains names of all loaded modules\n",
      "\n",
      "...module loading complete\n",
      "\n",
      "***\n",
      "loading user defined functions...\n",
      "\n",
      "type `fn_`+TAB to for autocomplete suggestions\n",
      "\n",
      " the object `def_list` contains user defined function names:\n",
      "   fn_get_info\n",
      "   fn_arcgis_table_to_df\n",
      "   fn_arcgis_table_to_np_to_pd_df\n",
      "   fn_run_script_w_propy_bat\n",
      "   fn_try_mkdir\n",
      "   fn_hello\n",
      "   fn_recursive_glob_search\n",
      "   fn_regex_search_replace\n",
      "   fn_regex_search_0\n",
      "   fn_arcpy_table_to_excel\n",
      "   fn_agg_sum_df_on_group\n",
      "   fn_add_prefix_suffix_to_selected_cols\n",
      "   fn_calc_pct_cover_within_groups\n",
      "   fn_buildWhereClauseFromList\n",
      "   fn_FA_to_Q\n",
      "   fn_alter_field_double\n",
      "   fn_return_float\n",
      "   fn_classify_wetlands\n",
      "\n",
      " use ??{insert fn name} to inspect\n",
      " for example running `??fn_get_info` returns:\n",
      "\u001b[1;31mSignature:\u001b[0m \u001b[0mfn_get_info\u001b[0m\u001b[1;33m(\u001b[0m\u001b[0mname\u001b[0m\u001b[1;33m=\u001b[0m\u001b[1;34m'fn_get_info'\u001b[0m\u001b[1;33m)\u001b[0m\u001b[1;33m\u001b[0m\u001b[1;33m\u001b[0m\u001b[0m\n",
      "\u001b[1;31mSource:\u001b[0m   \n",
      "\u001b[1;32mdef\u001b[0m \u001b[0mfn_get_info\u001b[0m\u001b[1;33m(\u001b[0m\u001b[0mname\u001b[0m\u001b[1;33m=\u001b[0m\u001b[1;34m'fn_get_info'\u001b[0m\u001b[1;33m)\u001b[0m\u001b[1;33m:\u001b[0m\u001b[1;33m\n",
      "\u001b[0m    \u001b[1;34m'''\n",
      "    returns the source information about a given function name\n",
      "    '''\u001b[0m\u001b[1;33m\n",
      "\u001b[0m    \u001b[0mget_ipython\u001b[0m\u001b[1;33m(\u001b[0m\u001b[1;33m)\u001b[0m\u001b[1;33m.\u001b[0m\u001b[0mrun_line_magic\u001b[0m\u001b[1;33m(\u001b[0m\u001b[1;34m'pinfo2'\u001b[0m\u001b[1;33m,\u001b[0m \u001b[1;34m'$name'\u001b[0m\u001b[1;33m)\u001b[0m\u001b[1;33m\u001b[0m\u001b[1;33m\u001b[0m\u001b[0m\n",
      "\u001b[1;31mFile:\u001b[0m      c:\\workspace\\geodata\\cran_q_c\\<ipython-input-1-28f96385f735>\n",
      "\u001b[1;31mType:\u001b[0m      function\n",
      "\n",
      " you can also use `fn_get_info(name={insert fn name})` to do the same thing as `??{insert fn name}`\n",
      "\n",
      "...function loading complete\n",
      "\n",
      "***\n",
      "managing project directories:\n",
      " working directory (`wdr`): C:\\Workspace\\Geodata\\Cran_Q_C\\\n",
      " temp dir (`tdr.name`): C:\\Users\\ADRIAN~1.WIE\\AppData\\Local\\Temp\\ArcGISProTemp24496\\tmp9vk25mut\n",
      " input file directory (`idr`): C:\\Workspace\\Geodata\\Cran_Q_C\\inputs\n",
      " output dir (`odr`): C:\\Workspace\\Geodata\\Cran_Q_C\\outputs\n",
      "\n",
      "\n",
      "\n",
      "\n",
      "***\n",
      "setting up arcpy environment...\n",
      "\n",
      " default geodatabase path (`gdb_default_path`): C:\\Workspace\\Geodata\\Cran_Q_C\\Default.gdb\n",
      " active map (`mx`) name: Map1_prep_bogs\n",
      " output coordinate system: NAD_1983_UTM_Zone_19N\n",
      "\n",
      "... env setup complete\n",
      "\n",
      "\n",
      "+++SETUP COMPLETE+++\n",
      "\n",
      "\n"
     ]
    }
   ],
   "source": [
    "# iphython options\n",
    "# delete variables in workspace\n",
    "%reset -f\n",
    "#places plots inline\n",
    "%matplotlib inline\n",
    "#automatically reloads modules if they are changed\n",
    "%load_ext autoreload \n",
    "%autoreload 2\n",
    "# this codeblock sets up the environment from jupyter notebooks\n",
    "setup_notebook = \"C:/Users/Adrian.Wiegman/Documents/GitHub/Wiegman_USDA_ARS/Cran_Q_C/2_gis/scripts/_Setup.ipynb\"\n",
    "%run $setup_notebook # magic command to run the notebook"
   ]
  },
  {
   "cell_type": "raw",
   "metadata": {
    "scrolled": true
   },
   "source": [
    "# Create new file geodatabase to store results\n",
    "gdb = \"gwbogsheds.gdb\"\n",
    "# only run this once\n",
    "if not os.path.exists(os.path.join(wdr,gdb)):\n",
    "    arcpy.management.CreateFileGDB(wdr,gdb)\n",
    "ap.env.workspace = os.path.join(wdr,gdb)"
   ]
  },
  {
   "cell_type": "markdown",
   "metadata": {},
   "source": [
    "## Create burn raster"
   ]
  },
  {
   "cell_type": "raw",
   "metadata": {},
   "source": [
    "# Ran on: 2024-08-25\n",
    "# RAW FLOW LINES DATA\n",
    "arcpy.management.CopyFeatures(\n",
    "    in_features=os.path.join(r\"C:\\Workspace\\Geodata\\Massachusetts\\NHDPLUS_H_0109_HU4_GDB\\NHDPLUS_H_0109_HU4_GDB.gdb\",\"NHDPlusBurnLineEvent\"),\n",
    "    out_feature_class=\"NHD_flowlines_Raw\")\n",
    "# RAW WATERBODIES\n",
    "waterbodies = arcpy.management.CopyFeatures(\n",
    "    in_features=os.path.join(r\"C:\\Workspace\\Geodata\\Massachusetts\\NHDPLUS_H_0109_HU4_GDB\\NHDPLUS_H_0109_HU4_GDB.gdb\",\"NHDPlusBurnWaterbody\"),\n",
    "    out_feature_class=\"NHD_waterbodies_Raw\")"
   ]
  },
  {
   "cell_type": "raw",
   "metadata": {},
   "source": [
    "# 2024-08-24 \n",
    "# edited NHD flow lines to disconnect halfway pond from long pond in plymouth\n",
    "then modified to resolve flow in salt marshes of herring brook truro/welfleet.\n",
    "# this resolves revisions to the wareham watershed made by MEP. \n",
    "selection = arcpy.management.SelectLayerByAttribute(\n",
    "    in_layer_or_view=flowlines,\n",
    "    selection_type=\"NEW_SELECTION\",\n",
    "    where_clause=\"OBJECTID IN (28879, 65884, 10692,10697,10690, 59971,23822,16063,28814,32447,64366)\",\n",
    "    invert_where_clause=\"INVERT\")\n",
    "flowlines = arcpy.management.CopyFeatures(\n",
    "    in_features=selection,\n",
    "    out_feature_class=\"NHD_flowlines_Raw_edit\")\n",
    "# NHD_flowlines_Raw_edit was then modified to resolve flow in salt marshes of herring brook truro/welfleet. "
   ]
  },
  {
   "cell_type": "code",
   "execution_count": 62,
   "metadata": {},
   "outputs": [],
   "source": [
    "### import burn layers\n",
    "# these bogs have been split into pieces then aggrigated by proximity rather than permit ids. 10/31/2023\n",
    "bogs = \"bogs_agg\"\n",
    "flowlines = \"NHD_flowlines_Raw_edit\"\n",
    "flowlines_raw = \"NHD_flowlines_Raw\"\n",
    "waterbodies = \"NHD_waterbodies_Raw\"\n",
    "wetlands = \"Wetlands_DEP_Clip\""
   ]
  },
  {
   "cell_type": "markdown",
   "metadata": {},
   "source": [
    "## NHD FLOW LINES"
   ]
  },
  {
   "cell_type": "code",
   "execution_count": 45,
   "metadata": {},
   "outputs": [],
   "source": [
    "# NHD FLOWLINES \n",
    "flowlines_buffered = arcpy.analysis.Buffer(\n",
    "    in_features=flowlines,\n",
    "    out_feature_class=\"NHD_flowlines_buf10m\",\n",
    "    buffer_distance_or_field=\"10 Meters\",\n",
    "    line_side=\"FULL\",\n",
    "    line_end_type=\"ROUND\",\n",
    "    dissolve_option=\"ALL\",\n",
    "    dissolve_field=None,\n",
    "    method=\"PLANAR\"\n",
    ")\n",
    "flowlines_buffered = arcpy.analysis.Buffer(\n",
    "    in_features=flowlines_raw,\n",
    "    out_feature_class=\"NHD_flowlines_raw_buf10m\",\n",
    "    buffer_distance_or_field=\"10 Meters\",\n",
    "    line_side=\"FULL\",\n",
    "    line_end_type=\"ROUND\",\n",
    "    dissolve_option=\"ALL\",\n",
    "    dissolve_field=None,\n",
    "    method=\"PLANAR\"\n",
    ")\n",
    "\n",
    "arcpy.management.CalculateField(\n",
    "    in_table=\"NHD_flowlines_buf10m\",\n",
    "    field=\"burn\",\n",
    "    expression=\"2\",\n",
    "    expression_type=\"PYTHON3\",\n",
    "    code_block=\"\",\n",
    "    field_type=\"SHORT\",\n",
    "    enforce_domains=\"NO_ENFORCE_DOMAINS\")\n",
    "\n",
    "arcpy.management.CalculateField(\n",
    "    in_table=\"NHD_flowlines_raw_buf10m\",\n",
    "    field=\"burn\",\n",
    "    expression=\"2\",\n",
    "    expression_type=\"PYTHON3\",\n",
    "    code_block=\"\",\n",
    "    field_type=\"SHORT\",\n",
    "    enforce_domains=\"NO_ENFORCE_DOMAINS\")\n",
    "\n",
    "with arcpy.EnvManager(outputCoordinateSystem='PROJCS[\"NAD_1983_UTM_Zone_19N\",GEOGCS[\"GCS_North_American_1983\",DATUM[\"D_North_American_1983\",SPHEROID[\"GRS_1980\",6378137.0,298.257222101]],PRIMEM[\"Greenwich\",0.0],UNIT[\"Degree\",0.0174532925199433]],PROJECTION[\"Transverse_Mercator\"],PARAMETER[\"False_Easting\",500000.0],PARAMETER[\"False_Northing\",0.0],PARAMETER[\"Central_Meridian\",-69.0],PARAMETER[\"Scale_Factor\",0.9996],PARAMETER[\"Latitude_Of_Origin\",0.0],UNIT[\"Meter\",1.0]]', snapRaster=\"gw_elev_meters\", extent='346823.303957774 4597731.43403507 422133.303957774 4662251.43403507 PROJCS[\"NAD_1983_UTM_Zone_19N\",GEOGCS[\"GCS_North_American_1983\",DATUM[\"D_North_American_1983\",SPHEROID[\"GRS_1980\",6378137.0,298.257222101]],PRIMEM[\"Greenwich\",0.0],UNIT[\"Degree\",0.0174532925199433]],PROJECTION[\"Transverse_Mercator\"],PARAMETER[\"False_Easting\",500000.0],PARAMETER[\"False_Northing\",0.0],PARAMETER[\"Central_Meridian\",-69.0],PARAMETER[\"Scale_Factor\",0.9996],PARAMETER[\"Latitude_Of_Origin\",0.0],UNIT[\"Meter\",1.0]]', cellSize=\"gw_elev_meters\"):\n",
    "    arcpy.conversion.FeatureToRaster(\n",
    "        in_features=\"NHD_flowlines_buf10m\",\n",
    "        field=\"burn\",\n",
    "        out_raster=\"burn_rast_flowline\"\n",
    "    )\n",
    "\n",
    "with arcpy.EnvManager(outputCoordinateSystem='PROJCS[\"NAD_1983_UTM_Zone_19N\",GEOGCS[\"GCS_North_American_1983\",DATUM[\"D_North_American_1983\",SPHEROID[\"GRS_1980\",6378137.0,298.257222101]],PRIMEM[\"Greenwich\",0.0],UNIT[\"Degree\",0.0174532925199433]],PROJECTION[\"Transverse_Mercator\"],PARAMETER[\"False_Easting\",500000.0],PARAMETER[\"False_Northing\",0.0],PARAMETER[\"Central_Meridian\",-69.0],PARAMETER[\"Scale_Factor\",0.9996],PARAMETER[\"Latitude_Of_Origin\",0.0],UNIT[\"Meter\",1.0]]', snapRaster=\"gw_elev_meters\", extent='346823.303957774 4597731.43403507 422133.303957774 4662251.43403507 PROJCS[\"NAD_1983_UTM_Zone_19N\",GEOGCS[\"GCS_North_American_1983\",DATUM[\"D_North_American_1983\",SPHEROID[\"GRS_1980\",6378137.0,298.257222101]],PRIMEM[\"Greenwich\",0.0],UNIT[\"Degree\",0.0174532925199433]],PROJECTION[\"Transverse_Mercator\"],PARAMETER[\"False_Easting\",500000.0],PARAMETER[\"False_Northing\",0.0],PARAMETER[\"Central_Meridian\",-69.0],PARAMETER[\"Scale_Factor\",0.9996],PARAMETER[\"Latitude_Of_Origin\",0.0],UNIT[\"Meter\",1.0]]', cellSize=\"gw_elev_meters\"):\n",
    "    arcpy.conversion.FeatureToRaster(\n",
    "        in_features=\"NHD_flowlines_raw_buf10m\",\n",
    "        field=\"burn\",\n",
    "        out_raster=\"burn_rast_flowline_raw\"\n",
    "    )"
   ]
  },
  {
   "cell_type": "code",
   "execution_count": null,
   "metadata": {},
   "outputs": [],
   "source": [
    "## NHD WATER BODIES\n",
    "\n",
    "note these are projected slightly off. "
   ]
  },
  {
   "cell_type": "code",
   "execution_count": null,
   "metadata": {},
   "outputs": [],
   "source": [
    "# NHD WATER BODIES\n",
    "arcpy.management.Dissolve(\n",
    "    in_features=waterbodies,\n",
    "    out_feature_class=\"NHD_waterbodies_diss\",\n",
    "    dissolve_field=None,\n",
    "    statistics_fields=None,\n",
    "    multi_part=\"MULTI_PART\",\n",
    "    unsplit_lines=\"DISSOLVE_LINES\",\n",
    "    concatenation_separator=\"\"\n",
    ")\n",
    "arcpy.management.CalculateField(\n",
    "    in_table=\"NHD_waterbodies_diss\",\n",
    "    field=\"burn\",\n",
    "    expression=\"2\",\n",
    "    expression_type=\"PYTHON3\",\n",
    "    code_block=\"\",\n",
    "    field_type=\"SHORT\",\n",
    "    enforce_domains=\"NO_ENFORCE_DOMAINS\")\n",
    "\n",
    "with arcpy.EnvManager(outputCoordinateSystem='PROJCS[\"NAD_1983_UTM_Zone_19N\",GEOGCS[\"GCS_North_American_1983\",DATUM[\"D_North_American_1983\",SPHEROID[\"GRS_1980\",6378137.0,298.257222101]],PRIMEM[\"Greenwich\",0.0],UNIT[\"Degree\",0.0174532925199433]],PROJECTION[\"Transverse_Mercator\"],PARAMETER[\"False_Easting\",500000.0],PARAMETER[\"False_Northing\",0.0],PARAMETER[\"Central_Meridian\",-69.0],PARAMETER[\"Scale_Factor\",0.9996],PARAMETER[\"Latitude_Of_Origin\",0.0],UNIT[\"Meter\",1.0]]', snapRaster=\"gw_elev_meters\", extent='346823.303957774 4597731.43403507 422133.303957774 4662251.43403507 PROJCS[\"NAD_1983_UTM_Zone_19N\",GEOGCS[\"GCS_North_American_1983\",DATUM[\"D_North_American_1983\",SPHEROID[\"GRS_1980\",6378137.0,298.257222101]],PRIMEM[\"Greenwich\",0.0],UNIT[\"Degree\",0.0174532925199433]],PROJECTION[\"Transverse_Mercator\"],PARAMETER[\"False_Easting\",500000.0],PARAMETER[\"False_Northing\",0.0],PARAMETER[\"Central_Meridian\",-69.0],PARAMETER[\"Scale_Factor\",0.9996],PARAMETER[\"Latitude_Of_Origin\",0.0],UNIT[\"Meter\",1.0]]', cellSize=\"gw_elev_meters\"):\n",
    "    arcpy.conversion.FeatureToRaster(\n",
    "        in_features=\"NHD_waterbodies_diss\",\n",
    "        field=\"burn\",\n",
    "        out_raster=\"burn_rast_waterbody\"\n",
    "    )"
   ]
  },
  {
   "cell_type": "code",
   "execution_count": null,
   "metadata": {},
   "outputs": [],
   "source": [
    "# CRANBERRY BOGS\n",
    "arcpy.management.CalculateField(\n",
    "    in_table=\"bogs_agg\",\n",
    "    field=\"burn\",\n",
    "    expression=\"0.5\",\n",
    "    expression_type=\"PYTHON3\",\n",
    "    code_block=\"\",\n",
    "    field_type=\"SHORT\",\n",
    "    enforce_domains=\"NO_ENFORCE_DOMAINS\")"
   ]
  },
  {
   "cell_type": "raw",
   "metadata": {},
   "source": [
    "\"\"\"\n",
    "# added 10/23/2023\n",
    "bogs_buffered = arcpy.analysis.Buffer(\n",
    "    in_features=bogs,\n",
    "    out_feature_class=\"bogs_agg_buf10m\",\n",
    "    buffer_distance_or_field=\"10 Meters\",\n",
    "    line_side=\"FULL\",\n",
    "    line_end_type=\"ROUND\",\n",
    "    dissolve_option=\"ALL\",\n",
    "    dissolve_field=None,\n",
    "    method=\"PLANAR\"\n",
    ")\n",
    "\"\"\""
   ]
  },
  {
   "cell_type": "code",
   "execution_count": null,
   "metadata": {},
   "outputs": [],
   "source": [
    "with arcpy.EnvManager(outputCoordinateSystem='PROJCS[\"NAD_1983_UTM_Zone_19N\",GEOGCS[\"GCS_North_American_1983\",DATUM[\"D_North_American_1983\",SPHEROID[\"GRS_1980\",6378137.0,298.257222101]],PRIMEM[\"Greenwich\",0.0],UNIT[\"Degree\",0.0174532925199433]],PROJECTION[\"Transverse_Mercator\"],PARAMETER[\"False_Easting\",500000.0],PARAMETER[\"False_Northing\",0.0],PARAMETER[\"Central_Meridian\",-69.0],PARAMETER[\"Scale_Factor\",0.9996],PARAMETER[\"Latitude_Of_Origin\",0.0],UNIT[\"Meter\",1.0]]', snapRaster=\"gw_elev_meters\", extent='346823.303957774 4597731.43403507 422133.303957774 4662251.43403507 PROJCS[\"NAD_1983_UTM_Zone_19N\",GEOGCS[\"GCS_North_American_1983\",DATUM[\"D_North_American_1983\",SPHEROID[\"GRS_1980\",6378137.0,298.257222101]],PRIMEM[\"Greenwich\",0.0],UNIT[\"Degree\",0.0174532925199433]],PROJECTION[\"Transverse_Mercator\"],PARAMETER[\"False_Easting\",500000.0],PARAMETER[\"False_Northing\",0.0],PARAMETER[\"Central_Meridian\",-69.0],PARAMETER[\"Scale_Factor\",0.9996],PARAMETER[\"Latitude_Of_Origin\",0.0],UNIT[\"Meter\",1.0]]', cellSize=\"gw_elev_meters\"):\n",
    "    arcpy.conversion.FeatureToRaster(\n",
    "        in_features=\"bogs_agg\",\n",
    "        field=\"burn\",\n",
    "        out_raster=\"burn_rast_bogs\"\n",
    "    )"
   ]
  },
  {
   "cell_type": "code",
   "execution_count": 63,
   "metadata": {},
   "outputs": [
    {
     "data": {
      "text/html": [
       "<div class='gpresult'><h2>Messages</h2><div id='messages' data-messages='[\"Start Time: Thursday, August 29, 2024 10:36:14 AM\",\"Adding burn to Wetlands_DEP_Clip_diss...\",\"Succeeded at Thursday, August 29, 2024 10:36:15 AM (Elapsed Time: 0.98 seconds)\"]' data-show='true'><div id = 'default' /></div></div>"
      ],
      "text/plain": [
       "<Result 'C:\\\\Workspace\\\\Geodata\\\\Cran_Q_C\\\\Default.gdb\\\\Wetlands_DEP_Clip_diss'>"
      ]
     },
     "execution_count": 63,
     "metadata": {},
     "output_type": "execute_result"
    }
   ],
   "source": [
    "# DEC WETLANDS \n",
    "arcpy.management.Dissolve(\n",
    "    in_features=wetlands,\n",
    "    out_feature_class=\"Wetlands_DEP_Clip_diss\",\n",
    "    dissolve_field=None,\n",
    "    statistics_fields=None,\n",
    "    multi_part=\"MULTI_PART\",\n",
    "    unsplit_lines=\"DISSOLVE_LINES\",\n",
    "    concatenation_separator=\"\"\n",
    ")\n",
    "arcpy.management.CalculateField(\n",
    "    in_table=\"Wetlands_DEP_Clip_diss\",\n",
    "    field=\"burn\",\n",
    "    expression=\"2\",\n",
    "    expression_type=\"PYTHON3\",\n",
    "    code_block=\"\",\n",
    "    field_type=\"SHORT\",\n",
    "    enforce_domains=\"NO_ENFORCE_DOMAINS\")"
   ]
  },
  {
   "cell_type": "code",
   "execution_count": null,
   "metadata": {},
   "outputs": [],
   "source": [
    "with arcpy.EnvManager(outputCoordinateSystem='PROJCS[\"NAD_1983_UTM_Zone_19N\",GEOGCS[\"GCS_North_American_1983\",DATUM[\"D_North_American_1983\",SPHEROID[\"GRS_1980\",6378137.0,298.257222101]],PRIMEM[\"Greenwich\",0.0],UNIT[\"Degree\",0.0174532925199433]],PROJECTION[\"Transverse_Mercator\"],PARAMETER[\"False_Easting\",500000.0],PARAMETER[\"False_Northing\",0.0],PARAMETER[\"Central_Meridian\",-69.0],PARAMETER[\"Scale_Factor\",0.9996],PARAMETER[\"Latitude_Of_Origin\",0.0],UNIT[\"Meter\",1.0]]', snapRaster=\"gw_elev_meters\", extent='346823.303957774 4597731.43403507 422133.303957774 4662251.43403507 PROJCS[\"NAD_1983_UTM_Zone_19N\",GEOGCS[\"GCS_North_American_1983\",DATUM[\"D_North_American_1983\",SPHEROID[\"GRS_1980\",6378137.0,298.257222101]],PRIMEM[\"Greenwich\",0.0],UNIT[\"Degree\",0.0174532925199433]],PROJECTION[\"Transverse_Mercator\"],PARAMETER[\"False_Easting\",500000.0],PARAMETER[\"False_Northing\",0.0],PARAMETER[\"Central_Meridian\",-69.0],PARAMETER[\"Scale_Factor\",0.9996],PARAMETER[\"Latitude_Of_Origin\",0.0],UNIT[\"Meter\",1.0]]', cellSize=\"gw_elev_meters\"):\n",
    "    arcpy.conversion.FeatureToRaster(\n",
    "        in_features=\"Wetlands_DEP_Clip_diss\",\n",
    "        field=\"burn\",\n",
    "        out_raster=\"burn_rast_wetlands\"\n",
    "    )"
   ]
  },
  {
   "cell_type": "code",
   "execution_count": 40,
   "metadata": {},
   "outputs": [
    {
     "data": {
      "text/html": [
       "<div class='gpresult'><h2>Messages</h2><div id='messages' data-messages='[\"Start Time: Thursday, August 29, 2024 9:04:50 AM\",\"Sorting Attributes...\",\"Dissolving...\",\"Succeeded at Thursday, August 29, 2024 9:06:40 AM (Elapsed Time: 1 minutes 50 seconds)\"]' data-show='true'><div id = 'default' /></div></div>"
      ],
      "text/plain": [
       "<Result 'C:\\\\Workspace\\\\Geodata\\\\Cran_Q_C\\\\Default.gdb\\\\burn_feats_union_dissolve'>"
      ]
     },
     "execution_count": 40,
     "metadata": {},
     "output_type": "execute_result"
    }
   ],
   "source": [
    "# Join bogs, edited NHD flowlines, NHD waterbodies\n",
    "# join burn features with union\n",
    "arcpy.analysis.Union(\n",
    "    in_features=\"bogs_agg #;NHD_flowlines_buf10m #;NHD_waterbodies_diss #\",\n",
    "    out_feature_class=r\"burn_bogs_waterbodies_flowlines\",\n",
    "    join_attributes=\"ALL\",\n",
    "    cluster_tolerance=None,\n",
    "    gaps=\"GAPS\"\n",
    ")\n",
    "\n",
    "# dissolve all burn features\n",
    "arcpy.management.Dissolve(\n",
    "    in_features=\"burn_bogs_waterbodies_flowlines\",\n",
    "    out_feature_class=r\"burn_bogs_waterbodies_flowlines_diss\",\n",
    "    dissolve_field=\"OBJECTID\",\n",
    "    statistics_fields=None,\n",
    "    multi_part=\"MULTI_PART\",\n",
    "    unsplit_lines=\"DISSOLVE_LINES\",\n",
    "    concatenation_separator=\"\"\n",
    ")"
   ]
  },
  {
   "cell_type": "code",
   "execution_count": 65,
   "metadata": {},
   "outputs": [
    {
     "data": {
      "text/html": [
       "<div class='gpresult'><h2>Messages</h2><div id='messages' data-messages='[\"Start Time: Thursday, August 29, 2024 10:54:19 AM\",\"Sorting Attributes...\",\"Dissolving...\",\"Succeeded at Thursday, August 29, 2024 10:56:26 AM (Elapsed Time: 2 minutes 7 seconds)\"]' data-show='true'><div id = 'default' /></div></div>"
      ],
      "text/plain": [
       "<Result 'C:\\\\Workspace\\\\Geodata\\\\Cran_Q_C\\\\Default.gdb\\\\burn_wetlands_flowlines_raw_diss'>"
      ]
     },
     "execution_count": 65,
     "metadata": {},
     "output_type": "execute_result"
    }
   ],
   "source": [
    "# Join DEP wetlands (which includes bogs, and lakes) and raw NHD flowlines\n",
    "# join burn features with union\n",
    "arcpy.analysis.Union(\n",
    "    in_features=\"NHD_flowlines_raw_buf10m #; Wetlands_DEP_Clip_diss #\",\n",
    "    out_feature_class=r\"burn_wetlands_flowlines_raw\",\n",
    "    join_attributes=\"ALL\",\n",
    "    cluster_tolerance=None,\n",
    "    gaps=\"GAPS\"\n",
    ")\n",
    "\n",
    "# dissolve all burn features\n",
    "arcpy.management.Dissolve(\n",
    "    in_features=\"burn_wetlands_flowlines_raw\",\n",
    "    out_feature_class=r\"burn_wetlands_flowlines_raw_diss\",\n",
    "    dissolve_field=\"OBJECTID\",\n",
    "    statistics_fields=None,\n",
    "    multi_part=\"MULTI_PART\",\n",
    "    unsplit_lines=\"DISSOLVE_LINES\",\n",
    "    concatenation_separator=\"\"\n",
    ")"
   ]
  },
  {
   "cell_type": "code",
   "execution_count": null,
   "metadata": {},
   "outputs": [],
   "source": [
    "# Join DEP wetlands (which includes bogs, and lakes) and edited NHD flowlines\n",
    "# join burn features with union\n",
    "instring = \"NHD_flowlines_buf10m #; Wetlands_DEP_Clip_Diss #\"\n",
    "out = r\"burn_wetlands_flowlines_raw\"\n",
    "\n",
    "arcpy.analysis.Union(\n",
    "    in_features=instring,\n",
    "    out_feature_class=out,\n",
    "    join_attributes=\"ALL\",\n",
    "    cluster_tolerance=None,\n",
    "    gaps=\"GAPS\"\n",
    ")\n",
    "\n",
    "# dissolve all burn features\n",
    "arcpy.management.Dissolve(\n",
    "    in_features=out,\n",
    "    out_feature_class=out+\"_diss\",\n",
    "    dissolve_field=\"OBJECTID\",\n",
    "    statistics_fields=None,\n",
    "    multi_part=\"MULTI_PART\",\n",
    "    unsplit_lines=\"DISSOLVE_LINES\",\n",
    "    concatenation_separator=\"\"\n",
    ")\n",
    "\n",
    "arcpy.management.CalculateField(\n",
    "    in_table=out+\"_diss\",\n",
    "    field=\"burn\",\n",
    "    expression=\"0.5\",\n",
    "    expression_type=\"PYTHON3\",\n",
    "    code_block=\"\",\n",
    "    field_type=\"SHORT\",\n",
    "    enforce_domains=\"NO_ENFORCE_DOMAINS\")"
   ]
  },
  {
   "cell_type": "code",
   "execution_count": 44,
   "metadata": {},
   "outputs": [],
   "source": [
    "with arcpy.EnvManager(outputCoordinateSystem='PROJCS[\"NAD_1983_UTM_Zone_19N\",GEOGCS[\"GCS_North_American_1983\",DATUM[\"D_North_American_1983\",SPHEROID[\"GRS_1980\",6378137.0,298.257222101]],PRIMEM[\"Greenwich\",0.0],UNIT[\"Degree\",0.0174532925199433]],PROJECTION[\"Transverse_Mercator\"],PARAMETER[\"False_Easting\",500000.0],PARAMETER[\"False_Northing\",0.0],PARAMETER[\"Central_Meridian\",-69.0],PARAMETER[\"Scale_Factor\",0.9996],PARAMETER[\"Latitude_Of_Origin\",0.0],UNIT[\"Meter\",1.0]]', snapRaster=\"gw_elev_meters\", extent='346823.303957774 4597731.43403507 422133.303957774 4662251.43403507 PROJCS[\"NAD_1983_UTM_Zone_19N\",GEOGCS[\"GCS_North_American_1983\",DATUM[\"D_North_American_1983\",SPHEROID[\"GRS_1980\",6378137.0,298.257222101]],PRIMEM[\"Greenwich\",0.0],UNIT[\"Degree\",0.0174532925199433]],PROJECTION[\"Transverse_Mercator\"],PARAMETER[\"False_Easting\",500000.0],PARAMETER[\"False_Northing\",0.0],PARAMETER[\"Central_Meridian\",-69.0],PARAMETER[\"Scale_Factor\",0.9996],PARAMETER[\"Latitude_Of_Origin\",0.0],UNIT[\"Meter\",1.0]]', cellSize=\"gw_elev_meters\"):\n",
    "    arcpy.conversion.FeatureToRaster(\n",
    "        in_features=out+\"_diss\",\n",
    "        field=\"burn\",\n",
    "        out_raster=out+\"_rast\"\n",
    "    )"
   ]
  },
  {
   "cell_type": "code",
   "execution_count": 25,
   "metadata": {},
   "outputs": [],
   "source": [
    "# set values to null everywhere but burn >=0\n",
    "rasters = [\"burn_rast_combined\",\"burn_rast_bogs\",\"burn_rast_flowline\",\"burn_rast_flowline_raw\",\"burn_rast_waterbody\"]\n",
    "for ras in rasters:\n",
    "    burn = arcpy.ia.Con(\n",
    "        in_conditional_raster=ras,\n",
    "        in_true_raster_or_constant=0,\n",
    "        in_false_raster_or_constant=1,\n",
    "        where_clause=\"Value IS NULL\")\n",
    "    burn.save(ras+\"_null\")"
   ]
  },
  {
   "cell_type": "markdown",
   "metadata": {},
   "source": [
    "## Create hydroenforced (Burned and Filled) elevation models"
   ]
  },
  {
   "cell_type": "code",
   "execution_count": 32,
   "metadata": {},
   "outputs": [],
   "source": [
    "# load masked gw elevation raster\n",
    "gw_elev_meters = arcpy.sa.Raster(\"gw_elev_meters\")"
   ]
  },
  {
   "cell_type": "code",
   "execution_count": 12,
   "metadata": {},
   "outputs": [],
   "source": [
    "out_surface_raster = arcpy.sa.Fill(\n",
    "    in_surface_raster=gw_elev_meters,\n",
    "    z_limit=None\n",
    ")\n",
    "out_surface_raster.save(\"gwe_f\")"
   ]
  },
  {
   "cell_type": "code",
   "execution_count": 3,
   "metadata": {},
   "outputs": [],
   "source": [
    "burn_bog = arcpy.sa.Raster(\"burn_rast_bogs_null\")\n",
    "burn_waterbody = arcpy.sa.Raster(\"burn_rast_waterbody_null\")\n",
    "burn_flowline = arcpy.sa.Raster(\"burn_rast_flowline_null\")\n",
    "burn_combined = arcpy.sa.Raster(\"burn_rast_combined_null\")"
   ]
  },
  {
   "cell_type": "code",
   "execution_count": 14,
   "metadata": {},
   "outputs": [],
   "source": [
    "# burn in lakes, streams, and bogs, all together, then burn flowlines overtop.\n",
    "gw_elev_meters_b = gw_elev_meters - burn_combined - burn_flowline # new method as of 8/26/24\n",
    "#gw_elev_meters_b = gw_elev_meters - burn_combined \n",
    "#gw_elev_meters_b = gw_elev_meters - burn_waterbody - burn_bog - burn_flowline\n",
    "gw_elev_meters_b.save(\"gwe_b\")"
   ]
  },
  {
   "cell_type": "code",
   "execution_count": 15,
   "metadata": {},
   "outputs": [],
   "source": [
    "out_surface_raster = arcpy.sa.Fill(\n",
    "    in_surface_raster=gw_elev_meters_b,\n",
    "    z_limit=None\n",
    ")\n",
    "out_surface_raster.save(\"gwe_bf\")"
   ]
  },
  {
   "cell_type": "code",
   "execution_count": 16,
   "metadata": {},
   "outputs": [],
   "source": [
    "# burn in lakes, streams, and bogs\n",
    "_ = gw_elev_meters - burn_combined # new method as of 8/26/24\n",
    "#gw_elev_meters_b = gw_elev_meters - burn_combined \n",
    "#gw_elev_meters_b = gw_elev_meters - burn_waterbody - burn_bog - burn_flowline"
   ]
  },
  {
   "cell_type": "code",
   "execution_count": 17,
   "metadata": {},
   "outputs": [],
   "source": [
    "_ = arcpy.sa.Fill(\n",
    "    in_surface_raster=_,\n",
    "    z_limit=None\n",
    ")\n",
    "_.save(\"gwe_bf_old\")"
   ]
  },
  {
   "cell_type": "markdown",
   "metadata": {},
   "source": [
    "burn in lakes, streams, and bogs assuming that gw only flows to areas where gw depth is less than 1 m"
   ]
  },
  {
   "cell_type": "code",
   "execution_count": 18,
   "metadata": {},
   "outputs": [],
   "source": [
    "# burn in lakes, streams, and bogs assuming that gw only flows to areas where gw depth is less than 1 m\n",
    "burn_logic = arcpy.sa.Raster(\"gw_depth_lt1m\")\n",
    "# subtract bogs from the combined burn layer `(burn_combined - burn_bog)` to isolate flowlines and waterbodies\n",
    "burn_combined_minus_bogs = (burn_combined - burn_bog)\n",
    "# then add the product of the burn logic and burn bog layer back to combined minus bogs layer\n",
    "burn_combined_logic = burn_combined_minus_bogs + burn_bog*burn_logic\n",
    "gw_elev_meters_b_lt1m = gw_elev_meters - burn_combined_logic\n",
    "gw_elev_meters_b_lt1m.save(\"gwe_b_lt1m\")"
   ]
  },
  {
   "cell_type": "code",
   "execution_count": 19,
   "metadata": {},
   "outputs": [],
   "source": [
    "out_surface_raster = arcpy.sa.Fill(\n",
    "    in_surface_raster=gw_elev_meters_b_lt1m,\n",
    "    z_limit=None\n",
    ")\n",
    "out_surface_raster.save(\"gwe_bf_lt1m\")"
   ]
  },
  {
   "cell_type": "markdown",
   "metadata": {},
   "source": [
    "Similar to above but with only flowlines burned in"
   ]
  },
  {
   "cell_type": "code",
   "execution_count": 20,
   "metadata": {},
   "outputs": [],
   "source": [
    "# burn in lakes, streams, and bogs\n",
    "gw_elev_meters_b = gw_elev_meters - burn_flowline\n",
    "#gw_elev_meters_b = gw_elev_meters - burn_waterbody - burn_bog - burn_flowline\n",
    "gw_elev_meters_b.save(\"gwe_b_flowline_only\")"
   ]
  },
  {
   "cell_type": "code",
   "execution_count": 21,
   "metadata": {},
   "outputs": [],
   "source": [
    "out_surface_raster = arcpy.sa.Fill(\n",
    "    in_surface_raster=gw_elev_meters_b,\n",
    "    z_limit=None\n",
    ")\n",
    "out_surface_raster.save(\"gwe_bf_flowline_only\")"
   ]
  },
  {
   "cell_type": "markdown",
   "metadata": {},
   "source": [
    "## Hybrid surface gw models "
   ]
  },
  {
   "cell_type": "code",
   "execution_count": 22,
   "metadata": {},
   "outputs": [],
   "source": [
    "lid_10m = arcpy.sa.Raster(\"lid_10m\")\n",
    "lid_10m_b = lid_10m - burn_combined \n",
    "lid_10m_bf = arcpy.sa.Fill(\n",
    "    in_surface_raster=lid_10m_b,\n",
    "    z_limit=None\n",
    ")\n",
    "lid_10m_bf.save(\"lid_10m_bf\")"
   ]
  },
  {
   "cell_type": "code",
   "execution_count": 23,
   "metadata": {},
   "outputs": [],
   "source": [
    "# Method 2\n",
    "# use weighted average of gwe and lidar data\n",
    "k = 0.01 # weight proportion for lidar data\n",
    "_ = (1-k)*gw_elev_meters + k*lid_10m_bf - burn_flowline\n",
    "_ = arcpy.sa.Fill(\n",
    "    in_surface_raster=_,\n",
    "    z_limit=None\n",
    ")\n",
    "_.save(\"gwe_lid_k{}\".format(str(int(k*100))))"
   ]
  },
  {
   "cell_type": "code",
   "execution_count": 26,
   "metadata": {},
   "outputs": [
    {
     "ename": "NameError",
     "evalue": "name 'gw_elev_meters' is not defined",
     "output_type": "error",
     "traceback": [
      "\u001b[0;31m---------------------------------------------------------------------------\u001b[0m\n\u001b[0;31mNameError\u001b[0m                                 Traceback (most recent call last)",
      "In  \u001b[0;34m[26]\u001b[0m:\nLine \u001b[0;34m4\u001b[0m:     _ = (\u001b[34m1\u001b[39;49;00m-k)*gw_elev_meters + k*lid_10m_bf - burn_flowline\u001b[37m\u001b[39;49;00m\n",
      "\u001b[0;31mNameError\u001b[0m: name 'gw_elev_meters' is not defined\n\u001b[0;31m---------------------------------------------------------------------------\u001b[0m"
     ]
    }
   ],
   "source": [
    "# Method 2\n",
    "# use weighted average of gwe and lidar data\n",
    "k = 0.05 # weight proportion for lidar data\n",
    "_ = (1-k)*gw_elev_meters + k*lid_10m_bf - burn_flowline\n",
    "_ = arcpy.sa.Fill(\n",
    "    in_surface_raster=_,\n",
    "    z_limit=None\n",
    ")\n",
    "_.save(\"gwe_lid_k{}\".format(str(int(k*100))))"
   ]
  },
  {
   "cell_type": "code",
   "execution_count": 43,
   "metadata": {},
   "outputs": [],
   "source": [
    "# 2024-08-23 =====================\n",
    "# Method 3: create a hybrid water table elevation model \n",
    "# replacings values where GW depth is below a certain threshold\n",
    "\n",
    "# load rasters -------------------\n",
    "gwe = arcpy.sa.Raster(\"gw_elev_meters\") # MODFLOW groundwater elevation (meters) raster generated from contour data with sinks filled\n",
    "lid_10m = arcpy.sa.Raster(\"lid_10m\") # lidar surface elevation data \n",
    "lid_10m_bf = arcpy.sa.Raster(\"lid_10m_bf\") # lidar surface elevation data with bogs, lakes and flowlines burned and filled\n",
    "burn_bog = arcpy.sa.Raster(\"burn_rast_bogs_null\") # DEC registered cranberry bogs \n",
    "burn_waterbody = arcpy.sa.Raster(\"burn_rast_waterbody_null\") # NHD waterbodies\n",
    "burn_flowline = arcpy.sa.Raster(\"burn_rast_flowline_null\") # NHD flowlines\n",
    "burn_combined = arcpy.sa.Raster(\"burn_rast_combined_null\") # "
   ]
  },
  {
   "cell_type": "code",
   "execution_count": 44,
   "metadata": {},
   "outputs": [],
   "source": [
    "# Method 3A\n",
    "# replacings values GW < 1m, with lidar data that has been shifted down by 1m. \n",
    "# calculate groundwater depth  (gwd)\n",
    "gwd = lid_10m - gwe\n",
    "gwd.save(\"gwd\")\n",
    "# a binary raster where values 1 indicate cells where gwe is <1 meter below lidar surface elevation\n",
    "# values of zero indicate lid10m_bf - gwe_f\n",
    "gwd_lt1m = arcpy.sa.Con(gwd < 1, 1,0)\n",
    "gwd_lt1m.save(\"gwd_lt1m\")\n",
    "# create an inverted version of the above.\n",
    "gwd_ge1m = arcpy.sa.Con(gwd >= 1, 1, 0)\n",
    "gwd_ge1m.save(\"gwd_ge1m\")"
   ]
  },
  {
   "cell_type": "code",
   "execution_count": 45,
   "metadata": {},
   "outputs": [],
   "source": [
    "# Method 3B\n",
    "# gwd is < 0m \n",
    "# a binary raster where values 1 indicate cells where gwe is <0 meter below lidar surface elevation\n",
    "\n",
    "# values of zero indicate lid10m_bf > gwe_f\n",
    "gwd_lt0m = arcpy.sa.Con(gwd < 0, 1,0)\n",
    "gwd_lt0m.save(\"gwd_lt0m\")\n",
    "# create an inverted version of the above.\n",
    "gwd_ge0m = arcpy.sa.Con(gwd >= 0, 1, 0)\n",
    "gwd_ge0m.save(\"gwd_ge0m\")"
   ]
  },
  {
   "cell_type": "code",
   "execution_count": 46,
   "metadata": {},
   "outputs": [],
   "source": [
    "# shift the gw plain up 1m, then shift lidar down 1m,\n",
    "# then adjust elevation by shifting the entire plain down 1m. \n",
    "# this will be filled during the sink filling process. \n",
    "# 0\n",
    "_ = gwe*gwd_ge0m + lid_10m*gwd_lt0m - burn_flowline\n",
    "_ = arcpy.sa.Fill(in_surface_raster=_,z_limit=None) \n",
    "_.save(\"gwe_lid0\")\n",
    "\n",
    "_ = gwe*gwd_ge0m + lid_10m*gwd_lt0m - burn_flowline\n",
    "_ = arcpy.sa.Fill(in_surface_raster=_,z_limit=None) \n",
    "_ = _ - burn_flowline\n",
    "_.save(\"gwe_lid0_bfb\")\n",
    "\n",
    "_ = gwe*gwd_ge0m + lid_10m*gwd_lt0m\n",
    "_ = arcpy.sa.Fill(in_surface_raster=_,z_limit=None) \n",
    "_ = _ - burn_flowline\n",
    "_.save(\"gwe_lid0_fb\")"
   ]
  },
  {
   "cell_type": "code",
   "execution_count": 47,
   "metadata": {},
   "outputs": [],
   "source": [
    "# 1\n",
    "_ = (gwe+1)*gwd_ge1m + lid_10m*gwd_lt1m - burn_flowline - 1\n",
    "_ = arcpy.sa.Fill(in_surface_raster=_,z_limit=None)\n",
    "_.save(\"gwe_lid1\")\n",
    "\n",
    "# 1bf\n",
    "_ = (gwe+1)*gwd_ge1m + lid_10m*gwd_lt1m - burn_flowline - 1\n",
    "_ = arcpy.sa.Fill(in_surface_raster=_,z_limit=None)\n",
    "_ = _ - burn_flowline\n",
    "_.save(\"gwe_lid1_bfb\")\n",
    "\n",
    "# 1bf\n",
    "_ = (gwe+1)*gwd_ge1m + lid_10m*gwd_lt1m - 1\n",
    "_ = arcpy.sa.Fill(in_surface_raster=_,z_limit=None)\n",
    "_ = _ - burn_flowline\n",
    "_.save(\"gwe_lid1_fb\")\n"
   ]
  },
  {
   "cell_type": "code",
   "execution_count": 48,
   "metadata": {},
   "outputs": [],
   "source": [
    "# shift the gw plain up 1m, then shift lidar down 1m,\n",
    "# then adjust elevation by shifting the entire plain down 1m. \n",
    "# this will be filled during the sink filling process. \n",
    "_ = (gwe + 1)*gwd_ge1m + lid_10m*gwd_lt1m - burn_flowline\n",
    "_ = arcpy.sa.Fill(\n",
    "    in_surface_raster=_,\n",
    "    z_limit=None\n",
    ")\n",
    "_.save(\"gwe_lid_lt1m_d\")"
   ]
  },
  {
   "cell_type": "code",
   "execution_count": 49,
   "metadata": {},
   "outputs": [],
   "source": [
    "# shift the gw plain up 1m, then shift lidar down 1m,\n",
    "# then adjust elevation by shifting the entire plain down 1m. \n",
    "# this will be filled during the sink filling process. \n",
    "_ = (gwe + 0.1)*gwd_ge1m + lid_10m*gwd_lt1m - burn_flowline\n",
    "_ = arcpy.sa.Fill(\n",
    "    in_surface_raster=_,\n",
    "    z_limit=None\n",
    ")\n",
    "_.save(\"gwe_lid_lt1m_d\")"
   ]
  },
  {
   "cell_type": "code",
   "execution_count": 50,
   "metadata": {},
   "outputs": [],
   "source": [
    "# subtracting 2m from the lidar to get lidar below gwe\n",
    "# initially tried subtracting 1m however there were still areas where \n",
    "# this will be filled during the sink filling process. \n",
    "_ = gwe*gwd_ge1m + (lid_10m*gwd_lt1m - 2) - burn_flowline\n",
    "_ = arcpy.sa.Fill(\n",
    "    in_surface_raster=_,\n",
    "    z_limit=None\n",
    ")\n",
    "_.save(\"gwe_lid_lt1m_c\")"
   ]
  },
  {
   "cell_type": "code",
   "execution_count": 51,
   "metadata": {},
   "outputs": [],
   "source": [
    "_ = gwe*gwd_ge0m + (lid_10m*gwd_lt0m) - burn_flowline\n",
    "_ = arcpy.sa.Fill(\n",
    "    in_surface_raster=_,\n",
    "    z_limit=None)\n",
    "_.save(\"gwe_lid_lt0m\")"
   ]
  }
 ],
 "metadata": {
  "kernelspec": {
   "display_name": "ArcGISPro",
   "language": "Python",
   "name": "python3"
  },
  "language_info": {
   "file_extension": ".py",
   "name": "python",
   "version": "3"
  }
 },
 "nbformat": 4,
 "nbformat_minor": 2
}
