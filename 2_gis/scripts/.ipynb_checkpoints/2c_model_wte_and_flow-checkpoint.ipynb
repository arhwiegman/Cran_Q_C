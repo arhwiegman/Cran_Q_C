{
 "cells": [
  {
   "cell_type": "markdown",
   "metadata": {},
   "source": [
    "## Metadata\n",
    "\n",
    "Preprocess \"Hydroenforce\" groundwater elevation data to resolve wetlands, lakes, cranberry bogs, and flowlines \n",
    "\n",
    "Author: Adrian Wiegman\n",
    "\n",
    "Date Modified: 08/24/2024\n",
    "\n",
    "The goal of this notebook is to develop a model of water table elevations, that resolves lakes, streams, and cranberry bogs. The water table elevation models will then be fed into flow routing algorithms to delineate groundwater and surface water contributing areas for cranberry farms. \n",
    "\n",
    "input data: \n",
    "- MODFLOW simulated groundwater elevations for Cape Cod and PKCD\n",
    "- NHD waterbodies\n",
    "- NHD flowlines\n",
    "    - this is an important dataset because it routes flow through obsticles like highways and in low gradient areas. \n",
    "    - however, this layer can also be problematic because it may also erroneously route surface flow low gradient areas like lakes and marshes when groundwater gradients would result in recharge in another direction\n",
    "    - edits:\n",
    "        - disconnect halfway pond from long pond in plymouth\n",
    "            - this resolves revisions to the wareham watershed made by MEP \n",
    "        - modified flow lines to resolve salt marshes of herring brook truro/welfleet\n",
    "        - modified flow lines to connect morse pond with falmouth harber\n",
    "        - modified flow lines at tidmarsh to resolve stream channel restoration. \n",
    "        - connected rocky bog to outflow stream\n",
    "        - deleted flow line bisecting Johns Pond in Waquoit Bay watershed. to better resolve flow fractions draining to childs and quashnet rivers\n",
    "- LiDAR surface elevation data\n",
    "- Mass DEP Cranberry Bog data\n",
    "\n",
    "output data: \n",
    "- raster format digital elevation models with 10 m horizontal resolution (NAD 1983 UTM Zone 19N)\n",
    "\n",
    "The following approaches are investigated here. \n",
    "- Method 1: Substract a specified depth from areas covered by lakes, streams, and cranberry bogs. \n",
    "    - Issues: this method breaks first principles in that creates sinks in areas covered \n",
    "      by these features without accurately representing the water table gradients\n",
    "      because of this water can spill\n",
    "    - Work arounds are to dig flowlines deeper. \n",
    "- Method 2: Create a hybrid layer using the wieghted average of surface lidar and modeled groundwater elevations\n",
    "   - Issues: the surface water layer is best resolved by lidar but contributing areas get warped as higher weight is placed on surface data\n",
    "- Method 3: Creat a hybrid layer which uses replaces grounwater level with surface lidar for all areas where groundwater depth is below a certain threshold\n",
    "   - Issues: this appears to be the best approach. Flow lines still need to burned in. It is best do to this after replacing GW with lidar, since certain areas may not be captured. \n",
    "    "
   ]
  },
  {
   "cell_type": "markdown",
   "metadata": {},
   "source": [
    "## Setup Environment"
   ]
  },
  {
   "cell_type": "code",
   "execution_count": 147,
   "metadata": {},
   "outputs": [
    {
     "name": "stdout",
     "output_type": "stream",
     "text": [
      "The autoreload extension is already loaded. To reload it, use:\n",
      "  %reload_ext autoreload\n",
      "***\n",
      "loading python modules...\n",
      "\n",
      "  `module_list` contains names of all loaded modules\n",
      "\n",
      "...module loading complete\n",
      "\n",
      "***\n",
      "loading user defined functions...\n",
      "\n",
      "type `fn_`+TAB to for autocomplete suggestions\n",
      "\n",
      " the object `def_list` contains user defined function names:\n",
      "   fn_get_info\n",
      "   fn_arcgis_table_to_df\n",
      "   fn_arcgis_table_to_np_to_pd_df\n",
      "   fn_run_script_w_propy_bat\n",
      "   fn_try_mkdir\n",
      "   fn_hello\n",
      "   fn_recursive_glob_search\n",
      "   fn_regex_search_replace\n",
      "   fn_regex_search_0\n",
      "   fn_arcpy_table_to_excel\n",
      "   fn_agg_sum_df_on_group\n",
      "   fn_add_prefix_suffix_to_selected_cols\n",
      "   fn_calc_pct_cover_within_groups\n",
      "   fn_buildWhereClauseFromList\n",
      "   fn_FA_to_Q\n",
      "   fn_alter_field_double\n",
      "   fn_return_float\n",
      "   fn_classify_wetlands\n",
      "\n",
      " use ??{insert fn name} to inspect\n",
      " for example running `??fn_get_info` returns:\n",
      "\u001b[1;31mSignature:\u001b[0m \u001b[0mfn_get_info\u001b[0m\u001b[1;33m(\u001b[0m\u001b[0mname\u001b[0m\u001b[1;33m=\u001b[0m\u001b[1;34m'fn_get_info'\u001b[0m\u001b[1;33m)\u001b[0m\u001b[1;33m\u001b[0m\u001b[1;33m\u001b[0m\u001b[0m\n",
      "\u001b[1;31mSource:\u001b[0m   \n",
      "\u001b[1;32mdef\u001b[0m \u001b[0mfn_get_info\u001b[0m\u001b[1;33m(\u001b[0m\u001b[0mname\u001b[0m\u001b[1;33m=\u001b[0m\u001b[1;34m'fn_get_info'\u001b[0m\u001b[1;33m)\u001b[0m\u001b[1;33m:\u001b[0m\u001b[1;33m\n",
      "\u001b[0m    \u001b[1;34m'''\n",
      "    returns the source information about a given function name\n",
      "    '''\u001b[0m\u001b[1;33m\n",
      "\u001b[0m    \u001b[0mget_ipython\u001b[0m\u001b[1;33m(\u001b[0m\u001b[1;33m)\u001b[0m\u001b[1;33m.\u001b[0m\u001b[0mrun_line_magic\u001b[0m\u001b[1;33m(\u001b[0m\u001b[1;34m'pinfo2'\u001b[0m\u001b[1;33m,\u001b[0m \u001b[1;34m'$name'\u001b[0m\u001b[1;33m)\u001b[0m\u001b[1;33m\u001b[0m\u001b[1;33m\u001b[0m\u001b[0m\n",
      "\u001b[1;31mFile:\u001b[0m      c:\\workspace\\geodata\\cran_q_c\\<ipython-input-1-28f96385f735>\n",
      "\u001b[1;31mType:\u001b[0m      function\n",
      "\n",
      " you can also use `fn_get_info(name={insert fn name})` to do the same thing as `??{insert fn name}`\n",
      "\n",
      "...function loading complete\n",
      "\n",
      "***\n",
      "managing project directories:\n",
      " working directory (`wdr`): C:\\Workspace\\Geodata\\Cran_Q_C\\\n",
      " temp dir (`tdr.name`): C:\\Users\\ADRIAN~1.WIE\\AppData\\Local\\Temp\\ArcGISProTemp53288\\tmphn9iktz3\n",
      " input file directory (`idr`): C:\\Workspace\\Geodata\\Cran_Q_C\\inputs\n",
      " output dir (`odr`): C:\\Workspace\\Geodata\\Cran_Q_C\\outputs\n",
      "\n",
      "\n",
      "\n",
      "\n",
      "***\n",
      "setting up arcpy environment...\n",
      "\n",
      " default geodatabase path (`gdb_default_path`): C:\\Workspace\\Geodata\\Cran_Q_C\\Default.gdb\n",
      " active map (`mx`) name: Map1_prep_bogs\n",
      " output coordinate system: NAD_1983_UTM_Zone_19N\n",
      "\n",
      "... env setup complete\n",
      "\n",
      "\n",
      "+++SETUP COMPLETE+++\n",
      "\n",
      "\n"
     ]
    }
   ],
   "source": [
    "# iphython options\n",
    "# delete variables in workspace\n",
    "%reset -f\n",
    "#places plots inline\n",
    "%matplotlib inline\n",
    "#automatically reloads modules if they are changed\n",
    "%load_ext autoreload \n",
    "%autoreload 2\n",
    "# this codeblock sets up the environment from jupyter notebooks\n",
    "setup_notebook = \"C:/Users/Adrian.Wiegman/Documents/GitHub/Wiegman_USDA_ARS/Cran_Q_C/2_gis/scripts/_Setup.ipynb\"\n",
    "%run $setup_notebook # magic command to run the notebook"
   ]
  },
  {
   "cell_type": "code",
   "execution_count": 148,
   "metadata": {},
   "outputs": [
    {
     "name": "stdout",
     "output_type": "stream",
     "text": [
      "Reading Input Rasters...\n",
      "lid = arcpy.sa.Raster(\"lid_10m\")\n",
      "gwe = arcpy.sa.Raster(\"gw_elev_meters\")\n",
      "gwd = arcpy.sa.Raster(\"gw_depth_meters\")\n",
      "gwd_lt0 = arcpy.sa.Raster(\"gw_depth_lt0m\")\n",
      "gwd_lt1 = arcpy.sa.Raster(\"gw_depth_lt1m\")\n",
      "gwd_ge0 = arcpy.sa.Raster(\"gw_depth_ge0m\")\n",
      "gwd_ge1 = arcpy.sa.Raster(\"gw_depth_ge1m\")\n",
      "burn_combined = arcpy.sa.Raster(\"burn_rast_combined_null\")\n",
      "burn_bog = arcpy.sa.Raster(\"burn_rast_bogs_null\")\n",
      "burn_waterbody = arcpy.sa.Raster(\"burn_rast_waterbody_null\")\n",
      "burn_flowline = arcpy.sa.Raster(\"burn_rast_flowline_null\")\n",
      "burn_flowline_raw = arcpy.sa.Raster(\"burn_rast_flowline_raw_null\")\n",
      "burn_wetlands = arcpy.sa.Raster(\"burn_rast_wetlands_null\")\n"
     ]
    }
   ],
   "source": [
    "# load input rasters\n",
    "print(\"Reading Input Rasters...\")\n",
    "rasters = {\n",
    "    # variable : gdb raster file name \n",
    "    \"lid\" : \"lid_10m\",\n",
    "    \"gwe\": \"gw_elev_meters\",\n",
    "    \"gwd\": \"gw_depth_meters\",\n",
    "    \"gwd_lt0\": \"gw_depth_lt0m\",\n",
    "    \"gwd_lt1\": \"gw_depth_lt1m\",\n",
    "    \"gwd_ge0\": \"gw_depth_ge0m\",\n",
    "    \"gwd_ge1\":  \"gw_depth_ge1m\",\n",
    "    \"burn_combined\" : \"burn_combined_null\",\n",
    "    \"burn_bog\" : \"burn_rast_bogs_null\",\n",
    "    \"burn_waterbody\" : \"burn_rast_waterbody_null\",\n",
    "    \"burn_flowline\" : \"burn_rast_flowline_null\",\n",
    "    \"burn_flowline_raw\" : \"burn_rast_flowline_raw_null\",\n",
    "    \"burn_combined\" : \"burn_rast_combined_null\",\n",
    "    \"burn_wetlands\" : \"burn_rast_wetlands_null\"}\n",
    "\n",
    "for k,v in rasters.items():\n",
    "    e = k+\" = arcpy.sa.Raster(\\\"\"+v+\"\\\")\"\n",
    "    print(e)\n",
    "    exec(e)"
   ]
  },
  {
   "cell_type": "code",
   "execution_count": 149,
   "metadata": {},
   "outputs": [],
   "source": [
    "# combined different layers to get a combined burn raster\n",
    "burn_combined = (burn_wetlands+burn_flowline)\n",
    "burn_combined_raw = (burn_wetlands+burn_flowline_raw)"
   ]
  },
  {
   "cell_type": "code",
   "execution_count": 151,
   "metadata": {},
   "outputs": [
    {
     "name": "stdout",
     "output_type": "stream",
     "text": [
      "Performing Raster Algebra...\n",
      "0: lidbr = lid - burn_flowline_raw\n",
      "1: lidb = lid - burn_flowline\n",
      "2: lidbc = lid - burn_combined\n",
      "3: lidbcr = lid - burn_combined\n",
      "4: gwebr = gwe - burn_flowline_raw\n",
      "5: gweb = gwe - burn_flowline\n",
      "6: gwebc = gwe - burn_combined\n",
      "7: gwebcr = gwe - burn_combined_raw\n",
      "8: gweblidbk1 = gweb*(1-0.01) + lidb*0.01\n",
      "9: gwebclidbck1 = gwebc*(1-0.01) + lidbc*0.01\n",
      "10: gweblidbk5 = gweb*(1-0.05) + lidb*0.05\n",
      "11: gwebrlidbrk1 = gwebr*(1-0.01) + lidbr*0.01\n",
      "12: gwebcrlidbcrk1 = gwebcr*(1-0.01) + lidbcr*0.01\n",
      "13: gwebrlidbrk5 = gwebr*(1-0.05) + lidbr*0.05\n",
      "14: gwebcrlidbcrk5 = gwebcr*(1-0.05) + lidbcr*0.05\n",
      "15: gweblidbk1_lid1 = (gweblidbk1 + 1)*gwd_ge1 + lidb*gwd_lt1 - 1 - burn_flowline\n",
      "16: gweblidbk1_lid0 = (gweblidbk1 + 0)*gwd_ge1 + lidb*gwd_lt0 - 0 - burn_flowline\n",
      "17: gweblidbk5_lid1 = (gweblidbk5 + 1)*gwd_ge1 + lidb*gwd_lt1 - 1 - burn_flowline\n",
      "18: gweblidbk5_lid0 = (gweblidbk5 + 0)*gwd_ge1 + lidb*gwd_lt0 - 0 - burn_flowline\n",
      "19: gwelidr1 = (gwebr + 1)*gwd_ge1 + lidbr*gwd_lt1 - 1 - burn_flowline\n",
      "20: gwelidr0 = (gwebr + 0)*gwd_ge0 + lidbr*gwd_lt0 - 0 - burn_flowline\n",
      "21: gwelid1 = (gweb + 1)*gwd_ge1 + lidb*gwd_lt1 - 1 - burn_flowline\n",
      "22: gwelid0 = (gweb + 0)*gwd_ge0 + lidb*gwd_lt0 - 0 - burn_flowline\n"
     ]
    }
   ],
   "source": [
    "print(\"Performing Raster Algebra...\")\n",
    "models = {\n",
    "    \"lidbr\" : \"lid - burn_flowline_raw\",\n",
    "    \"lidb\" : \"lid - burn_flowline\",\n",
    "    \"lidbc\" : \"lid - burn_combined\",\n",
    "    \"lidbcr\" : \"lid - burn_combined\",\n",
    "    \"gwebr\" : \"gwe - burn_flowline_raw\",\n",
    "    \"gweb\" : \"gwe - burn_flowline\",\n",
    "    \"gwebc\" : \"gwe - burn_combined\",\n",
    "    \"gwebcr\" : \"gwe - burn_combined_raw\",\n",
    "    \"gweblidbk1\" : \"gweb*(1-0.01) + lidb*0.01\",\n",
    "    \"gwebclidbck1\" : \"gwebc*(1-0.01) + lidbc*0.01\",\n",
    "    \"gweblidbk5\" : \"gweb*(1-0.05) + lidb*0.05\",\n",
    "    \"gwebrlidbrk1\" : \"gwebr*(1-0.01) + lidbr*0.01\",\n",
    "    \"gwebcrlidbcrk1\" : \"gwebcr*(1-0.01) + lidbcr*0.01\",\n",
    "    \"gwebrlidbrk5\" : \"gwebr*(1-0.05) + lidbr*0.05\",\n",
    "    \"gwebcrlidbcrk5\" : \"gwebcr*(1-0.05) + lidbcr*0.05\",\n",
    "    \"gweblidbk1_lid1\" : \"(gweblidbk1 + 1)*gwd_ge1 + lidb*gwd_lt1 - 1 - burn_flowline\",\n",
    "    \"gweblidbk1_lid0\" : \"(gweblidbk1 + 0)*gwd_ge1 + lidb*gwd_lt0 - 0 - burn_flowline\",\n",
    "    \"gweblidbk5_lid1\" : \"(gweblidbk5 + 1)*gwd_ge1 + lidb*gwd_lt1 - 1 - burn_flowline\",\n",
    "    \"gweblidbk5_lid0\" : \"(gweblidbk5 + 0)*gwd_ge1 + lidb*gwd_lt0 - 0 - burn_flowline\",\n",
    "    \"gwelidr1\" : \"(gwebr + 1)*gwd_ge1 + lidbr*gwd_lt1 - 1 - burn_flowline\",\n",
    "    \"gwelidr0\" : \"(gwebr + 0)*gwd_ge0 + lidbr*gwd_lt0 - 0 - burn_flowline\",\n",
    "    \"gwelid1\" : \"(gweb + 1)*gwd_ge1 + lidb*gwd_lt1 - 1 - burn_flowline\",\n",
    "    \"gwelid0\" : \"(gweb + 0)*gwd_ge0 + lidb*gwd_lt0 - 0 - burn_flowline\",\n",
    "    \"gwelidk1\" : \"gwe*(1-0.01) + lidb*0.01\",\n",
    "    \"gwelidk5\" : \"gwe*(1-0.05) + lidb*0.05\",\n",
    "    \"gwelidk10\" : \"gwe*(1-0.10) + lidb*0.10\",\n",
    "     }\n",
    "\n",
    "i=0\n",
    "for k,v in models.items():\n",
    "    e = k+\" = \"+v\n",
    "    print(str(i)+\": \"+e)\n",
    "    exec(e)\n",
    "    i += 1"
   ]
  },
  {
   "cell_type": "code",
   "execution_count": 152,
   "metadata": {},
   "outputs": [
    {
     "name": "stdout",
     "output_type": "stream",
     "text": [
      "Filling Sinks ...\n",
      "gwelidr1=arcpy.sa.Fill(gwelidr1,z_limit=None)\n",
      "gwelidr0=arcpy.sa.Fill(gwelidr0,z_limit=None)\n",
      "gwelid1=arcpy.sa.Fill(gwelid1,z_limit=None)\n",
      "gwelid0=arcpy.sa.Fill(gwelid0,z_limit=None)\n"
     ]
    }
   ],
   "source": [
    "print(\"Filling Sinks ...\")\n",
    "i=22\n",
    "n=len(models)\n",
    "for k in list(models.keys())[i:n]:\n",
    "    e = k+\"=arcpy.sa.Fill(\"+k+\",z_limit=None)\"\n",
    "    print(e); exec(e)"
   ]
  },
  {
   "cell_type": "code",
   "execution_count": 153,
   "metadata": {},
   "outputs": [
    {
     "name": "stdout",
     "output_type": "stream",
     "text": [
      "Saving Outputs...\n",
      "gwelidr1.save(\"gwelidr1\")\n",
      "gwelidr0.save(\"gwelidr0\")\n",
      "gwelid1.save(\"gwelid1\")\n",
      "gwelid0.save(\"gwelid0\")\n"
     ]
    }
   ],
   "source": [
    "print(\"Saving Outputs...\")\n",
    "#i=19\n",
    "#n=len(models)\n",
    "for k in list(models.keys())[i:n]:\n",
    "    e = k+\".save(\\\"\"+k+\"\\\")\"\n",
    "    print(e); exec(e)"
   ]
  },
  {
   "cell_type": "code",
   "execution_count": 155,
   "metadata": {
    "scrolled": true
   },
   "outputs": [
    {
     "name": "stdout",
     "output_type": "stream",
     "text": [
      "gwelidr1=arcpy.sa.Raster('gwelidr1') # = (gwebr + 1)*gwd_ge1 + lidbr*gwd_lt1 - 1 - burn_flowline\n",
      "gwelidr0=arcpy.sa.Raster('gwelidr0') # = (gwebr + 0)*gwd_ge0 + lidbr*gwd_lt0 - 0 - burn_flowline\n",
      "gwelid1=arcpy.sa.Raster('gwelid1') # = (gweb + 1)*gwd_ge1 + lidb*gwd_lt1 - 1 - burn_flowline\n",
      "gwelid0=arcpy.sa.Raster('gwelid0') # = (gweb + 0)*gwd_ge0 + lidb*gwd_lt0 - 0 - burn_flowline\n"
     ]
    }
   ],
   "source": [
    "#i=19\n",
    "#n=len(models)\n",
    "for k,v in list(models.items())[i:n]:\n",
    "    print(k+\"=arcpy.sa.Raster('\"+k+\"') # = \"+v)"
   ]
  },
  {
   "cell_type": "code",
   "execution_count": 156,
   "metadata": {},
   "outputs": [
    {
     "name": "stdout",
     "output_type": "stream",
     "text": [
      "D8_gwelidr1\n",
      "D8_gwelidr0\n",
      "D8_gwelid1\n",
      "D8_gwelid0\n"
     ]
    }
   ],
   "source": [
    "flowmethod = \"D8\"\n",
    "\"Calculating Flow Direction...\"\n",
    "#i=19\n",
    "#n=len(models)\n",
    "for k in list(models.keys())[i:n]:\n",
    "    inrast = k\n",
    "    outrast = \"{}_{}\".format(flowmethod,k)\n",
    "    print(outrast)\n",
    "    _ = arcpy.sa.FlowDirection(in_surface_raster=inrast,\n",
    "                                force_flow=\"FORCE\",\n",
    "                                flow_direction_type=flowmethod)\n",
    "    _.save(outrast)"
   ]
  },
  {
   "cell_type": "code",
   "execution_count": 157,
   "metadata": {},
   "outputs": [
    {
     "name": "stdout",
     "output_type": "stream",
     "text": [
      "Calculating Flow Accumulation...\n",
      "FA_D8_gwelidr1\n",
      "FA_D8_gwelidr0\n",
      "FA_D8_gwelid1\n",
      "FA_D8_gwelid0\n"
     ]
    }
   ],
   "source": [
    "print(\"Calculating Flow Accumulation...\")\n",
    "#i=19\n",
    "#n=len(models)\n",
    "for k in list(models.keys())[i:n]:\n",
    "    inrast = \"{}_{}\".format(flowmethod,k)\n",
    "    outrast = \"FA_{}\".format(inrast)\n",
    "    print(outrast)\n",
    "    _ = arcpy.sa.FlowAccumulation(in_flow_direction_raster=inrast,\n",
    "        in_weight_raster=None,\n",
    "        data_type=\"FLOAT\",\n",
    "        flow_direction_type=flowmethod)\n",
    "    _.save(outrast)"
   ]
  },
  {
   "cell_type": "code",
   "execution_count": 158,
   "metadata": {},
   "outputs": [
    {
     "name": "stdout",
     "output_type": "stream",
     "text": [
      "['FA_D8_lidbr', 'FA_D8_lidb', 'FA_D8_lidbc', 'FA_D8_lidbcr', 'FA_D8_gwebr', 'FA_D8_gweb', 'FA_D8_gwebc', 'FA_D8_gwebcr', 'FA_D8_gweblidbk1', 'FA_D8_gwebclidbck1', 'FA_D8_gweblidbk5', 'FA_D8_gwebrlidbrk1', 'FA_D8_gwebcrlidbcrk1', 'FA_D8_gwebrlidbrk5', 'FA_D8_gwebcrlidbcrk5', 'FA_D8_gweblidbk1_lid1', 'FA_D8_gweblidbk1_lid0', 'FA_D8_gweblidbk5_lid1', 'FA_D8_gweblidbk5_lid0', 'FA_D8_gwelidr1', 'FA_D8_gwelidr0', 'FA_D8_gwelid1', 'FA_D8_gwelid0']\n",
      "copy this into extract Q C notebooks\n",
      "\"FA_D8_lidbr\", #lid - burn_flowline_raw\n",
      "\"FA_D8_lidb\", #lid - burn_flowline\n",
      "\"FA_D8_lidbc\", #lid - burn_combined\n",
      "\"FA_D8_lidbcr\", #lid - burn_combined\n",
      "\"FA_D8_gwebr\", #gwe - burn_flowline_raw\n",
      "\"FA_D8_gweb\", #gwe - burn_flowline\n",
      "\"FA_D8_gwebc\", #gwe - burn_combined\n",
      "\"FA_D8_gwebcr\", #gwe - burn_combined_raw\n",
      "\"FA_D8_gweblidbk1\", #gweb*(1-0.01) + lidb*0.01\n",
      "\"FA_D8_gwebclidbck1\", #gwebc*(1-0.01) + lidbc*0.01\n",
      "\"FA_D8_gweblidbk5\", #gweb*(1-0.05) + lidb*0.05\n",
      "\"FA_D8_gwebrlidbrk1\", #gwebr*(1-0.01) + lidbr*0.01\n",
      "\"FA_D8_gwebcrlidbcrk1\", #gwebcr*(1-0.01) + lidbcr*0.01\n",
      "\"FA_D8_gwebrlidbrk5\", #gwebr*(1-0.05) + lidbr*0.05\n",
      "\"FA_D8_gwebcrlidbcrk5\", #gwebcr*(1-0.05) + lidbcr*0.05\n",
      "\"FA_D8_gweblidbk1_lid1\", #(gweblidbk1 + 1)*gwd_ge1 + lidb*gwd_lt1 - 1 - burn_flowline\n",
      "\"FA_D8_gweblidbk1_lid0\", #(gweblidbk1 + 0)*gwd_ge1 + lidb*gwd_lt0 - 0 - burn_flowline\n",
      "\"FA_D8_gweblidbk5_lid1\", #(gweblidbk5 + 1)*gwd_ge1 + lidb*gwd_lt1 - 1 - burn_flowline\n",
      "\"FA_D8_gweblidbk5_lid0\", #(gweblidbk5 + 0)*gwd_ge1 + lidb*gwd_lt0 - 0 - burn_flowline\n",
      "\"FA_D8_gwelidr1\", #(gwebr + 1)*gwd_ge1 + lidbr*gwd_lt1 - 1 - burn_flowline\n",
      "\"FA_D8_gwelidr0\", #(gwebr + 0)*gwd_ge0 + lidbr*gwd_lt0 - 0 - burn_flowline\n",
      "\"FA_D8_gwelid1\", #(gweb + 1)*gwd_ge1 + lidb*gwd_lt1 - 1 - burn_flowline\n",
      "\"FA_D8_gwelid0\", #(gweb + 0)*gwd_ge0 + lidb*gwd_lt0 - 0 - burn_flowline\n"
     ]
    }
   ],
   "source": [
    "FA_rasters = [\"FA_{}_{}\".format(flowmethod,k) for k in list(models.keys())]\n",
    "print(FA_rasters)\n",
    "print(\"copy this into extract Q C notebooks\")\n",
    "for k,v in models.items():\n",
    "    print(\"\\\"FA_{}_{}\".format(flowmethod,k)+\"\\\", #\"+v)"
   ]
  },
  {
   "cell_type": "markdown",
   "metadata": {},
   "source": [
    "# Appendix \n",
    "\n",
    "Old code:\n",
    "\n",
    "## Create hydroenforced (Burned and Filled) elevation models"
   ]
  },
  {
   "cell_type": "raw",
   "metadata": {},
   "source": [
    "# load masked gw elevation raster\n",
    "gw_elev_meters = arcpy.sa.Raster(\"gw_elev_meters\")"
   ]
  },
  {
   "cell_type": "raw",
   "metadata": {},
   "source": [
    "out_surface_raster = arcpy.sa.Fill(\n",
    "    in_surface_raster=gw_elev_meters,\n",
    "    z_limit=None\n",
    ")\n",
    "out_surface_raster.save(\"gwe_f\")"
   ]
  },
  {
   "cell_type": "raw",
   "metadata": {},
   "source": [
    "burn_bog = arcpy.sa.Raster(\"burn_rast_bogs_null\")\n",
    "burn_waterbody = arcpy.sa.Raster(\"burn_rast_waterbody_null\")\n",
    "burn_flowline = arcpy.sa.Raster(\"burn_rast_flowline_null\")\n",
    "burn_combined = arcpy.sa.Raster(\"burn_rast_combined_null\")"
   ]
  },
  {
   "cell_type": "raw",
   "metadata": {},
   "source": [
    "# burn in lakes, streams, and bogs, all together, then burn flowlines overtop.\n",
    "gw_elev_meters_b = gw_elev_meters - burn_combined - burn_flowline # new method as of 8/26/24\n",
    "#gw_elev_meters_b = gw_elev_meters - burn_combined \n",
    "#gw_elev_meters_b = gw_elev_meters - burn_waterbody - burn_bog - burn_flowline\n",
    "gw_elev_meters_b.save(\"gwe_b\")"
   ]
  },
  {
   "cell_type": "raw",
   "metadata": {},
   "source": [
    "out_surface_raster = arcpy.sa.Fill(\n",
    "    in_surface_raster=gw_elev_meters_b,\n",
    "    z_limit=None\n",
    ")\n",
    "out_surface_raster.save(\"gwe_bf\")"
   ]
  },
  {
   "cell_type": "raw",
   "metadata": {},
   "source": [
    "# burn in lakes, streams, and bogs\n",
    "_ = gw_elev_meters - burn_combined # new method as of 8/26/24\n",
    "#gw_elev_meters_b = gw_elev_meters - burn_combined \n",
    "#gw_elev_meters_b = gw_elev_meters - burn_waterbody - burn_bog - burn_flowline"
   ]
  },
  {
   "cell_type": "raw",
   "metadata": {},
   "source": [
    "_ = arcpy.sa.Fill(\n",
    "    in_surface_raster=_,\n",
    "    z_limit=None\n",
    ")\n",
    "_.save(\"gwe_bf_old\")"
   ]
  },
  {
   "cell_type": "raw",
   "metadata": {},
   "source": [
    "burn in lakes, streams, and bogs assuming that gw only flows to areas where gw depth is less than 1 m"
   ]
  },
  {
   "cell_type": "raw",
   "metadata": {},
   "source": [
    "# burn in lakes, streams, and bogs assuming that gw only flows to areas where gw depth is less than 1 m\n",
    "burn_logic = arcpy.sa.Raster(\"gw_depth_lt1m\")\n",
    "# subtract bogs from the combined burn layer `(burn_combined - burn_bog)` to isolate flowlines and waterbodies\n",
    "burn_combined_minus_bogs = (burn_combined - burn_bog)\n",
    "# then add the product of the burn logic and burn bog layer back to combined minus bogs layer\n",
    "burn_combined_logic = burn_combined_minus_bogs + burn_bog*burn_logic\n",
    "gw_elev_meters_b_lt1m = gw_elev_meters - burn_combined_logic\n",
    "gw_elev_meters_b_lt1m.save(\"gwe_b_lt1m\")"
   ]
  },
  {
   "cell_type": "raw",
   "metadata": {},
   "source": [
    "out_surface_raster = arcpy.sa.Fill(\n",
    "    in_surface_raster=gw_elev_meters_b_lt1m,\n",
    "    z_limit=None\n",
    ")\n",
    "out_surface_raster.save(\"gwe_bf_lt1m\")"
   ]
  },
  {
   "cell_type": "raw",
   "metadata": {},
   "source": [
    "Similar to above but with only flowlines burned in"
   ]
  },
  {
   "cell_type": "raw",
   "metadata": {},
   "source": [
    "# burn in lakes, streams, and bogs\n",
    "gw_elev_meters_b = gw_elev_meters - burn_flowline\n",
    "#gw_elev_meters_b = gw_elev_meters - burn_waterbody - burn_bog - burn_flowline\n",
    "gw_elev_meters_b.save(\"gwe_b_flowline_only\")"
   ]
  },
  {
   "cell_type": "raw",
   "metadata": {},
   "source": [
    "out_surface_raster = arcpy.sa.Fill(\n",
    "    in_surface_raster=gw_elev_meters_b,\n",
    "    z_limit=None\n",
    ")\n",
    "out_surface_raster.save(\"gwe_bf_flowline_only\")"
   ]
  },
  {
   "cell_type": "raw",
   "metadata": {},
   "source": [
    "## Hybrid surface gw models "
   ]
  },
  {
   "cell_type": "raw",
   "metadata": {},
   "source": [
    "lid_10m = arcpy.sa.Raster(\"lid_10m\")\n",
    "lid_10m_b = lid_10m - burn_combined \n",
    "lid_10m_bf = arcpy.sa.Fill(\n",
    "    in_surface_raster=lid_10m_b,\n",
    "    z_limit=None\n",
    ")\n",
    "lid_10m_bf.save(\"lid_10m_bf\")"
   ]
  },
  {
   "cell_type": "raw",
   "metadata": {},
   "source": [
    "# Method 2\n",
    "# use weighted average of gwe and lidar data\n",
    "k = 0.01 # weight proportion for lidar data\n",
    "_ = (1-k)*gw_elev_meters + k*lid_10m_bf - burn_flowline\n",
    "_ = arcpy.sa.Fill(\n",
    "    in_surface_raster=_,\n",
    "    z_limit=None\n",
    ")\n",
    "_.save(\"gwe_lid_k{}\".format(str(int(k*100))))"
   ]
  },
  {
   "cell_type": "raw",
   "metadata": {},
   "source": [
    "# Method 2\n",
    "# use weighted average of gwe and lidar data\n",
    "k = 0.05 # weight proportion for lidar data\n",
    "_ = (1-k)*gw_elev_meters + k*lid_10m_bf - burn_flowline\n",
    "_ = arcpy.sa.Fill(\n",
    "    in_surface_raster=_,\n",
    "    z_limit=None\n",
    ")\n",
    "_.save(\"gwe_lid_k{}\".format(str(int(k*100))))"
   ]
  },
  {
   "cell_type": "raw",
   "metadata": {},
   "source": [
    "# 2024-08-23 =====================\n",
    "# Method 3: create a hybrid water table elevation model \n",
    "# replacings values where GW depth is below a certain threshold\n",
    "\n",
    "# load rasters -------------------\n",
    "gwe = arcpy.sa.Raster(\"gw_elev_meters\") # MODFLOW groundwater elevation (meters) raster generated from contour data with sinks filled\n",
    "lid_10m = arcpy.sa.Raster(\"lid_10m\") # lidar surface elevation data \n",
    "lid_10m_bf = arcpy.sa.Raster(\"lid_10m_bf\") # lidar surface elevation data with bogs, lakes and flowlines burned and filled\n",
    "burn_bog = arcpy.sa.Raster(\"burn_rast_bogs_null\") # DEC registered cranberry bogs \n",
    "burn_waterbody = arcpy.sa.Raster(\"burn_rast_waterbody_null\") # NHD waterbodies\n",
    "burn_flowline = arcpy.sa.Raster(\"burn_rast_flowline_null\") # NHD flowlines\n",
    "burn_combined = arcpy.sa.Raster(\"burn_rast_combined_null\") # "
   ]
  },
  {
   "cell_type": "raw",
   "metadata": {},
   "source": [
    "# Method 3A\n",
    "# replacings values GW < 1m, with lidar data that has been shifted down by 1m. \n",
    "# calculate groundwater depth  (gwd)\n",
    "gwd = lid_10m - gwe\n",
    "gwd.save(\"gwd\")\n",
    "# a binary raster where values 1 indicate cells where gwe is <1 meter below lidar surface elevation\n",
    "# values of zero indicate lid10m_bf - gwe_f\n",
    "gwd_lt1m = arcpy.sa.Con(gwd < 1, 1,0)\n",
    "gwd_lt1m.save(\"gwd_lt1m\")\n",
    "# create an inverted version of the above.\n",
    "gwd_ge1m = arcpy.sa.Con(gwd >= 1, 1, 0)\n",
    "gwd_ge1m.save(\"gwd_ge1m\")"
   ]
  },
  {
   "cell_type": "raw",
   "metadata": {},
   "source": [
    "# Method 3B\n",
    "# gwd is < 0m \n",
    "# a binary raster where values 1 indicate cells where gwe is <0 meter below lidar surface elevation\n",
    "\n",
    "# values of zero indicate lid10m_bf > gwe_f\n",
    "gwd_lt0m = arcpy.sa.Con(gwd < 0, 1,0)\n",
    "gwd_lt0m.save(\"gwd_lt0m\")\n",
    "# create an inverted version of the above.\n",
    "gwd_ge0m = arcpy.sa.Con(gwd >= 0, 1, 0)\n",
    "gwd_ge0m.save(\"gwd_ge0m\")"
   ]
  },
  {
   "cell_type": "raw",
   "metadata": {},
   "source": [
    "# shift the gw plain up 1m, then shift lidar down 1m,\n",
    "# then adjust elevation by shifting the entire plain down 1m. \n",
    "# this will be filled during the sink filling process. \n",
    "# 0\n",
    "_ = gwe*gwd_ge0m + lid_10m*gwd_lt0m - burn_flowline\n",
    "_ = arcpy.sa.Fill(in_surface_raster=_,z_limit=None) \n",
    "_.save(\"gwe_lid0\")\n",
    "\n",
    "_ = gwe*gwd_ge0m + lid_10m*gwd_lt0m - burn_flowline\n",
    "_ = arcpy.sa.Fill(in_surface_raster=_,z_limit=None) \n",
    "_ = _ - burn_flowline\n",
    "_.save(\"gwe_lid0_bfb\")\n",
    "\n",
    "_ = gwe*gwd_ge0m + lid_10m*gwd_lt0m\n",
    "_ = arcpy.sa.Fill(in_surface_raster=_,z_limit=None) \n",
    "_ = _ - burn_flowline\n",
    "_.save(\"gwe_lid0_fb\")"
   ]
  },
  {
   "cell_type": "raw",
   "metadata": {},
   "source": [
    "# 1\n",
    "_ = (gwe+1)*gwd_ge1m + lid_10m*gwd_lt1m - burn_flowline - 1\n",
    "_ = arcpy.sa.Fill(in_surface_raster=_,z_limit=None)\n",
    "_.save(\"gwe_lid1\")\n",
    "\n",
    "# 1bf\n",
    "_ = (gwe+1)*gwd_ge1m + lid_10m*gwd_lt1m - burn_flowline - 1\n",
    "_ = arcpy.sa.Fill(in_surface_raster=_,z_limit=None)\n",
    "_ = _ - burn_flowline\n",
    "_.save(\"gwe_lid1_bfb\")\n",
    "\n",
    "# 1bf\n",
    "_ = (gwe+1)*gwd_ge1m + lid_10m*gwd_lt1m - 1\n",
    "_ = arcpy.sa.Fill(in_surface_raster=_,z_limit=None)\n",
    "_ = _ - burn_flowline\n",
    "_.save(\"gwe_lid1_fb\")\n"
   ]
  },
  {
   "cell_type": "raw",
   "metadata": {},
   "source": [
    "# shift the gw plain up 1m, then shift lidar down 1m,\n",
    "# then adjust elevation by shifting the entire plain down 1m. \n",
    "# this will be filled during the sink filling process. \n",
    "_ = (gwe + 1)*gwd_ge1m + lid_10m*gwd_lt1m - burn_flowline\n",
    "_ = arcpy.sa.Fill(\n",
    "    in_surface_raster=_,\n",
    "    z_limit=None\n",
    ")\n",
    "_.save(\"gwe_lid_lt1m_d\")"
   ]
  },
  {
   "cell_type": "raw",
   "metadata": {},
   "source": [
    "# shift the gw plain up 1m, then shift lidar down 1m,\n",
    "# then adjust elevation by shifting the entire plain down 1m. \n",
    "# this will be filled during the sink filling process. \n",
    "_ = (gwe + 0.1)*gwd_ge1m + lid_10m*gwd_lt1m - burn_flowline\n",
    "_ = arcpy.sa.Fill(\n",
    "    in_surface_raster=_,\n",
    "    z_limit=None\n",
    ")\n",
    "_.save(\"gwe_lid_lt1m_d\")"
   ]
  },
  {
   "cell_type": "raw",
   "metadata": {},
   "source": [
    "# subtracting 2m from the lidar to get lidar below gwe\n",
    "# initially tried subtracting 1m however there were still areas where \n",
    "# this will be filled during the sink filling process. \n",
    "_ = gwe*gwd_ge1m + (lid_10m*gwd_lt1m - 2) - burn_flowline\n",
    "_ = arcpy.sa.Fill(\n",
    "    in_surface_raster=_,\n",
    "    z_limit=None\n",
    ")\n",
    "_.save(\"gwe_lid_lt1m_c\")"
   ]
  },
  {
   "cell_type": "raw",
   "metadata": {},
   "source": [
    "_ = gwe*gwd_ge0m + (lid_10m*gwd_lt0m) - burn_flowline\n",
    "_ = arcpy.sa.Fill(\n",
    "    in_surface_raster=_,\n",
    "    z_limit=None)\n",
    "_.save(\"gwe_lid_lt0m\")"
   ]
  }
 ],
 "metadata": {
  "kernelspec": {
   "display_name": "ArcGISPro",
   "language": "Python",
   "name": "python3"
  },
  "language_info": {
   "file_extension": ".py",
   "name": "python",
   "version": "3"
  }
 },
 "nbformat": 4,
 "nbformat_minor": 2
}
