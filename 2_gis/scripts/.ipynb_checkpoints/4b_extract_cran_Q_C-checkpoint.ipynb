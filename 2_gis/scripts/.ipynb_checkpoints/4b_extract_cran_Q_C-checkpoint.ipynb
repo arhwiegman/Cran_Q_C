{
 "cells": [
  {
   "cell_type": "markdown",
   "id": "f682951b",
   "metadata": {},
   "source": [
    "**Extract Flow Accumulation at Bogs**\n",
    "\n",
    "Adrian Wiegman\n",
    "\n",
    "2024-08-25\n",
    "\n",
    "-------"
   ]
  },
  {
   "cell_type": "markdown",
   "id": "c9e36dc6",
   "metadata": {},
   "source": [
    "## Description"
   ]
  },
  {
   "cell_type": "markdown",
   "id": "159f7739",
   "metadata": {},
   "source": [
    "7. Generate Bog Pour Points\n",
    "    - find maximum flow accumulation value inside each bog.\n",
    "    - generate a point at each bog maximum value.\n",
    "    - identity to get cranberry bog attributes at each point.\n",
    "8. Delineate Basins for each point\n",
    "    - with the bog cranberry points loop through each point\n",
    "        - delineate watershed using the bog pour point and the D8 flow direction\n",
    "        - save the output to a temp file with the feature ID ('FID') of the cranberry bog. \n",
    "    - merge all cranberry bog basins to one polygon layer, containing the FID of the cranberry bog. "
   ]
  },
  {
   "cell_type": "markdown",
   "id": "2d59851c",
   "metadata": {},
   "source": [
    "## Setup Environment"
   ]
  },
  {
   "cell_type": "code",
   "execution_count": 1,
   "id": "9d478e88",
   "metadata": {},
   "outputs": [
    {
     "name": "stdout",
     "output_type": "stream",
     "text": [
      "***\n",
      "loading python modules...\n",
      "\n",
      "  `module_list` contains names of all loaded modules\n",
      "\n",
      "...module loading complete\n",
      "\n",
      "***\n",
      "loading user defined functions...\n",
      "\n",
      "type `fn_`+TAB to for autocomplete suggestions\n",
      "\n",
      " the object `def_list` contains user defined function names:\n",
      "   fn_get_info\n",
      "   fn_arcgis_table_to_df\n",
      "   fn_arcgis_table_to_np_to_pd_df\n",
      "   fn_run_script_w_propy_bat\n",
      "   fn_try_mkdir\n",
      "   fn_hello\n",
      "   fn_recursive_glob_search\n",
      "   fn_regex_search_replace\n",
      "   fn_regex_search_0\n",
      "   fn_arcpy_table_to_excel\n",
      "   fn_agg_sum_df_on_group\n",
      "   fn_add_prefix_suffix_to_selected_cols\n",
      "   fn_calc_pct_cover_within_groups\n",
      "   fn_buildWhereClauseFromList\n",
      "   fn_FA_to_Q\n",
      "   fn_alter_field_double\n",
      "   fn_return_float\n",
      "   fn_classify_wetlands\n",
      "\n",
      " use ??{insert fn name} to inspect\n",
      " for example running `??fn_get_info` returns:\n",
      "\u001b[1;31mSignature:\u001b[0m \u001b[0mfn_get_info\u001b[0m\u001b[1;33m(\u001b[0m\u001b[0mname\u001b[0m\u001b[1;33m=\u001b[0m\u001b[1;34m'fn_get_info'\u001b[0m\u001b[1;33m)\u001b[0m\u001b[1;33m\u001b[0m\u001b[1;33m\u001b[0m\u001b[0m\n",
      "\u001b[1;31mSource:\u001b[0m   \n",
      "\u001b[1;32mdef\u001b[0m \u001b[0mfn_get_info\u001b[0m\u001b[1;33m(\u001b[0m\u001b[0mname\u001b[0m\u001b[1;33m=\u001b[0m\u001b[1;34m'fn_get_info'\u001b[0m\u001b[1;33m)\u001b[0m\u001b[1;33m:\u001b[0m\u001b[1;33m\n",
      "\u001b[0m    \u001b[1;34m'''\n",
      "    returns the source information about a given function name\n",
      "    '''\u001b[0m\u001b[1;33m\n",
      "\u001b[0m    \u001b[0mget_ipython\u001b[0m\u001b[1;33m(\u001b[0m\u001b[1;33m)\u001b[0m\u001b[1;33m.\u001b[0m\u001b[0mrun_line_magic\u001b[0m\u001b[1;33m(\u001b[0m\u001b[1;34m'pinfo2'\u001b[0m\u001b[1;33m,\u001b[0m \u001b[1;34m'$name'\u001b[0m\u001b[1;33m)\u001b[0m\u001b[1;33m\u001b[0m\u001b[1;33m\u001b[0m\u001b[0m\n",
      "\u001b[1;31mFile:\u001b[0m      c:\\windows\\system32\\<ipython-input-1-28f96385f735>\n",
      "\u001b[1;31mType:\u001b[0m      function\n",
      "\n",
      " you can also use `fn_get_info(name={insert fn name})` to do the same thing as `??{insert fn name}`\n",
      "\n",
      "...function loading complete\n",
      "\n",
      "***\n",
      "managing project directories:\n",
      " working directory (`wdr`): C:\\Workspace\\Geodata\\Cran_Q_C\\\n",
      " temp dir (`tdr.name`): C:\\Users\\ADRIAN~1.WIE\\AppData\\Local\\Temp\\ArcGISProTemp8512\\tmpttqhu24v\n",
      " input file directory (`idr`): C:\\Workspace\\Geodata\\Cran_Q_C\\inputs\n",
      " output dir (`odr`): C:\\Workspace\\Geodata\\Cran_Q_C\\outputs\n",
      "\n",
      "\n",
      "\n",
      "\n",
      "***\n",
      "setting up arcpy environment...\n",
      "\n",
      " default geodatabase path (`gdb_default_path`): C:\\Workspace\\Geodata\\Cran_Q_C\\Default.gdb\n",
      " active map (`mx`) name: Map2_prep_gw\n",
      " output coordinate system: NAD_1983_UTM_Zone_19N\n",
      "\n",
      "... env setup complete\n",
      "\n",
      "\n",
      "+++SETUP COMPLETE+++\n",
      "\n",
      "\n"
     ]
    }
   ],
   "source": [
    "# iphython options\n",
    "# delete variables in workspace\n",
    "%reset -f\n",
    "#places plots inline\n",
    "%matplotlib inline\n",
    "#automatically reloads modules if they are changed\n",
    "%load_ext autoreload \n",
    "%autoreload 2\n",
    "# this codeblock sets up the environment from jupyter notebooks\n",
    "setup_notebook = r\"C:\\Users\\Adrian.Wiegman\\Documents\\GitHub\\Wiegman_USDA_ARS\\Cran_Q_C\\2_gis\\scripts\\_Setup.ipynb\"\n",
    "%run $setup_notebook # magic command to run the notebook "
   ]
  },
  {
   "cell_type": "code",
   "execution_count": 2,
   "id": "b6310955",
   "metadata": {
    "scrolled": true
   },
   "outputs": [],
   "source": [
    "# Create new file geodatabase to store results\\n\",\n",
    "gdb = \"Default.gdb\"\n",
    "\n",
    "ap.env.workspace = os.path.join(wdr,gdb)"
   ]
  },
  {
   "cell_type": "markdown",
   "id": "1abd1059",
   "metadata": {},
   "source": [
    "## Flow Accumulation"
   ]
  },
  {
   "cell_type": "code",
   "execution_count": 3,
   "id": "02526681",
   "metadata": {},
   "outputs": [
    {
     "name": "stdout",
     "output_type": "stream",
     "text": [
      "['C:\\\\Workspace\\\\Geodata\\\\Cran_Q_C\\\\Default.gdb\\\\FA_D8_lidbr', 'C:\\\\Workspace\\\\Geodata\\\\Cran_Q_C\\\\Default.gdb\\\\FA_D8_lidb', 'C:\\\\Workspace\\\\Geodata\\\\Cran_Q_C\\\\Default.gdb\\\\FA_D8_lidbc', 'C:\\\\Workspace\\\\Geodata\\\\Cran_Q_C\\\\Default.gdb\\\\FA_D8_lidbcr', 'C:\\\\Workspace\\\\Geodata\\\\Cran_Q_C\\\\Default.gdb\\\\FA_D8_gwebr', 'C:\\\\Workspace\\\\Geodata\\\\Cran_Q_C\\\\Default.gdb\\\\FA_D8_gweb', 'C:\\\\Workspace\\\\Geodata\\\\Cran_Q_C\\\\Default.gdb\\\\FA_D8_gwebc', 'C:\\\\Workspace\\\\Geodata\\\\Cran_Q_C\\\\Default.gdb\\\\FA_D8_gwebcr', 'C:\\\\Workspace\\\\Geodata\\\\Cran_Q_C\\\\Default.gdb\\\\FA_D8_gweblidbk1', 'C:\\\\Workspace\\\\Geodata\\\\Cran_Q_C\\\\Default.gdb\\\\FA_D8_gwebclidbck1', 'C:\\\\Workspace\\\\Geodata\\\\Cran_Q_C\\\\Default.gdb\\\\FA_D8_gweblidbk5', 'C:\\\\Workspace\\\\Geodata\\\\Cran_Q_C\\\\Default.gdb\\\\FA_D8_gwebrlidbrk1', 'C:\\\\Workspace\\\\Geodata\\\\Cran_Q_C\\\\Default.gdb\\\\FA_D8_gwebcrlidbcrk1', 'C:\\\\Workspace\\\\Geodata\\\\Cran_Q_C\\\\Default.gdb\\\\FA_D8_gwebrlidbrk5', 'C:\\\\Workspace\\\\Geodata\\\\Cran_Q_C\\\\Default.gdb\\\\FA_D8_gwebcrlidbcrk5', 'C:\\\\Workspace\\\\Geodata\\\\Cran_Q_C\\\\Default.gdb\\\\FA_D8_gweblidbk1_lid1', 'C:\\\\Workspace\\\\Geodata\\\\Cran_Q_C\\\\Default.gdb\\\\FA_D8_gweblidbk1_lid0', 'C:\\\\Workspace\\\\Geodata\\\\Cran_Q_C\\\\Default.gdb\\\\FA_D8_gweblidbk5_lid1', 'C:\\\\Workspace\\\\Geodata\\\\Cran_Q_C\\\\Default.gdb\\\\FA_D8_gweblidbk5_lid0', 'C:\\\\Workspace\\\\Geodata\\\\Cran_Q_C\\\\Default.gdb\\\\FA_D8_gwelidr1', 'C:\\\\Workspace\\\\Geodata\\\\Cran_Q_C\\\\Default.gdb\\\\FA_D8_gwelidr0', 'C:\\\\Workspace\\\\Geodata\\\\Cran_Q_C\\\\Default.gdb\\\\FA_D8_gwelid1', 'C:\\\\Workspace\\\\Geodata\\\\Cran_Q_C\\\\Default.gdb\\\\FA_D8_gwelid0']\n"
     ]
    }
   ],
   "source": [
    "# EXTRACT MAX FLOW ACCUMULATION WITHIN EACH BOG\n",
    "names = [\n",
    "\"FA_D8_lidbr\", #lid - burn_flowline_raw\n",
    "\"FA_D8_lidb\", #lid - burn_flowline\n",
    "\"FA_D8_lidbc\", #lid - burn_combined\n",
    "\"FA_D8_lidbcr\", #lid - burn_combined\n",
    "\"FA_D8_gwebr\", #gwe - burn_flowline_raw\n",
    "\"FA_D8_gweb\", #gwe - burn_flowline\n",
    "\"FA_D8_gwebc\", #gwe - burn_combined\n",
    "\"FA_D8_gwebcr\", #gwe - burn_combined_raw\n",
    "\"FA_D8_gweblidbk1\", #gweb*(1-0.01) + lidb*0.01\n",
    "\"FA_D8_gwebclidbck1\", #gwebc*(1-0.01) + lidbc*0.01\n",
    "\"FA_D8_gweblidbk5\", #gweb*(1-0.05) + lidb*0.05\n",
    "\"FA_D8_gwebrlidbrk1\", #gwebr*(1-0.01) + lidbr*0.01\n",
    "\"FA_D8_gwebcrlidbcrk1\", #gwebcr*(1-0.01) + lidbcr*0.01\n",
    "\"FA_D8_gwebrlidbrk5\", #gwebr*(1-0.05) + lidbr*0.05\n",
    "\"FA_D8_gwebcrlidbcrk5\", #gwebcr*(1-0.05) + lidbcr*0.05\n",
    "\"FA_D8_gweblidbk1_lid1\", #(gweblidbk1 + 1)*gwd_ge1 + lidb*gwd_lt1 - 1 - burn_flowline\n",
    "\"FA_D8_gweblidbk1_lid0\", #(gweblidbk1 + 0)*gwd_ge1 + lidb*gwd_lt0 - 0 - burn_flowline\n",
    "\"FA_D8_gweblidbk5_lid1\", #(gweblidbk5 + 1)*gwd_ge1 + lidb*gwd_lt1 - 1 - burn_flowline\n",
    "\"FA_D8_gweblidbk5_lid0\", #(gweblidbk5 + 0)*gwd_ge1 + lidb*gwd_lt0 - 0 - burn_flowline\n",
    "\"FA_D8_gwelidr1\", #(gwebr + 1)*gwd_ge1 + lidbr*gwd_lt1 - 1 - burn_flowline\n",
    "\"FA_D8_gwelidr0\", #(gwebr + 0)*gwd_ge0 + lidbr*gwd_lt0 - 0 - burn_flowline\n",
    "\"FA_D8_gwelid1\", #(gweb + 1)*gwd_ge1 + lidb*gwd_lt1 - 1 - burn_flowline\n",
    "\"FA_D8_gwelid0\", #(gweb + 0)*gwd_ge0 + lidb*gwd_lt0 - 0 - burn_flowline\n",
    "]\n",
    "files = [os.path.join(gdb_default_path,n) for n in names]\n",
    "print(files)"
   ]
  },
  {
   "cell_type": "code",
   "execution_count": 4,
   "id": "42b8de87",
   "metadata": {
    "scrolled": true
   },
   "outputs": [
    {
     "data": {
      "text/html": [
       "<div class='gpresult'><h2>Messages</h2><div id='messages' data-messages='[\"Start Time: Wednesday, October 2, 2024 10:48:52 AM\",\"Succeeded at Wednesday, October 2, 2024 10:48:55 AM (Elapsed Time: 2.88 seconds)\"]' data-show='true'><div id = 'default' /></div></div>"
      ],
      "text/plain": [
       "<Result 'C:\\\\Workspace\\\\Geodata\\\\Cran_Q_C\\\\Default.gdb\\\\bogs_agg_FA'>"
      ]
     },
     "execution_count": 4,
     "metadata": {},
     "output_type": "execute_result"
    }
   ],
   "source": [
    "# make a copy of \"bogs_agg_raw_SummarizeWithin\": bogs that have been split, aggregated, and repopulated with original site info\n",
    "selection = arcpy.management.SelectLayerByLocation(\n",
    "    in_layer=\"bogs_agg_raw_SummarizeWithin\",\n",
    "    overlap_type=\"INTERSECT\",\n",
    "    select_features=r\"C:\\Workspace\\Geodata\\Cran_Q_C\\Default.gdb\\domain_poly\",\n",
    "    search_distance=None,\n",
    "    selection_type=\"NEW_SELECTION\",\n",
    "    invert_spatial_relationship=\"NOT_INVERT\"\n",
    ")\n",
    "\n",
    "arcpy.management.CopyFeatures(selection,\"bogs_agg_FA\")"
   ]
  },
  {
   "cell_type": "code",
   "execution_count": 5,
   "id": "6b549c22",
   "metadata": {},
   "outputs": [
    {
     "name": "stdout",
     "output_type": "stream",
     "text": [
      "C:\\Workspace\\Geodata\\Cran_Q_C\\Default.gdb\\FA_D8_lidbr\n",
      "C:\\Workspace\\Geodata\\Cran_Q_C\\Default.gdb\\FA_D8_lidb\n",
      "C:\\Workspace\\Geodata\\Cran_Q_C\\Default.gdb\\FA_D8_lidbc\n",
      "C:\\Workspace\\Geodata\\Cran_Q_C\\Default.gdb\\FA_D8_lidbcr\n",
      "C:\\Workspace\\Geodata\\Cran_Q_C\\Default.gdb\\FA_D8_gwebr\n",
      "C:\\Workspace\\Geodata\\Cran_Q_C\\Default.gdb\\FA_D8_gweb\n",
      "C:\\Workspace\\Geodata\\Cran_Q_C\\Default.gdb\\FA_D8_gwebc\n",
      "C:\\Workspace\\Geodata\\Cran_Q_C\\Default.gdb\\FA_D8_gwebcr\n",
      "C:\\Workspace\\Geodata\\Cran_Q_C\\Default.gdb\\FA_D8_gweblidbk1\n",
      "C:\\Workspace\\Geodata\\Cran_Q_C\\Default.gdb\\FA_D8_gwebclidbck1\n",
      "C:\\Workspace\\Geodata\\Cran_Q_C\\Default.gdb\\FA_D8_gweblidbk5\n",
      "C:\\Workspace\\Geodata\\Cran_Q_C\\Default.gdb\\FA_D8_gwebrlidbrk1\n",
      "C:\\Workspace\\Geodata\\Cran_Q_C\\Default.gdb\\FA_D8_gwebcrlidbcrk1\n",
      "C:\\Workspace\\Geodata\\Cran_Q_C\\Default.gdb\\FA_D8_gwebrlidbrk5\n",
      "C:\\Workspace\\Geodata\\Cran_Q_C\\Default.gdb\\FA_D8_gwebcrlidbcrk5\n",
      "C:\\Workspace\\Geodata\\Cran_Q_C\\Default.gdb\\FA_D8_gweblidbk1_lid1\n",
      "C:\\Workspace\\Geodata\\Cran_Q_C\\Default.gdb\\FA_D8_gweblidbk1_lid0\n",
      "C:\\Workspace\\Geodata\\Cran_Q_C\\Default.gdb\\FA_D8_gweblidbk5_lid1\n",
      "C:\\Workspace\\Geodata\\Cran_Q_C\\Default.gdb\\FA_D8_gweblidbk5_lid0\n",
      "C:\\Workspace\\Geodata\\Cran_Q_C\\Default.gdb\\FA_D8_gwelidr1\n",
      "C:\\Workspace\\Geodata\\Cran_Q_C\\Default.gdb\\FA_D8_gwelidr0\n",
      "C:\\Workspace\\Geodata\\Cran_Q_C\\Default.gdb\\FA_D8_gwelid1\n",
      "C:\\Workspace\\Geodata\\Cran_Q_C\\Default.gdb\\FA_D8_gwelid0\n"
     ]
    }
   ],
   "source": [
    "in_feat = \"bogs_agg_FA\"\n",
    "for i in range(len(files)):\n",
    "    print(files[i])\n",
    "    out_raster = arcpy.ia.ZonalStatistics(\n",
    "        in_zone_data=in_feat,\n",
    "        zone_field=\"OBJECTID\",\n",
    "        in_value_raster=files[i],\n",
    "        statistics_type=\"MAXIMUM\",\n",
    "        ignore_nodata=\"DATA\",\n",
    "        process_as_multidimensional=\"CURRENT_SLICE\",\n",
    "        percentile_value=90,\n",
    "        percentile_interpolation_type=\"AUTO_DETECT\",\n",
    "        circular_calculation=\"ARITHMETIC\",\n",
    "        circular_wrap_value=360)\n",
    "    out_rast_name = \"ZS_MAX_\"+names[i]\n",
    "    out_raster.save(out_rast_name)   "
   ]
  },
  {
   "cell_type": "markdown",
   "id": "e9343ae9",
   "metadata": {},
   "source": [
    "## Watershed\n",
    "\n",
    "use the watershed tool to extract the \"reach\" watersheds, groundwater discharge that accumulates along the bog reach that did not previously flow through another bog. "
   ]
  },
  {
   "cell_type": "code",
   "execution_count": 6,
   "id": "59a2ea5a",
   "metadata": {},
   "outputs": [
    {
     "data": {
      "text/html": [
       "<div class='gpresult'><h2>Messages</h2><div id='messages' data-messages='[\"Start Time: Wednesday, October 2, 2024 10:51:45 AM\",\"Succeeded at Wednesday, October 2, 2024 10:51:49 AM (Elapsed Time: 3.79 seconds)\"]' data-show='true'><div id = 'default' /></div></div>"
      ],
      "text/plain": [
       "<Result 'C:\\\\Workspace\\\\Geodata\\\\Cran_Q_C\\\\Default.gdb\\\\bogs_pour_points'>"
      ]
     },
     "execution_count": 6,
     "metadata": {},
     "output_type": "execute_result"
    }
   ],
   "source": [
    "## Generate pour points for selected DEM\n",
    "# SELECT DEM \n",
    "# use the DEM from the list above with the best fit for observed vs fitted after analyzing data \n",
    "dem = \"gwelid0\"\n",
    "\n",
    "# Create raster of points were flow accumulation equals max values inside each bog.\n",
    "a = arcpy.Raster(\"ZS_MAX_FA_D8_\"+dem)\n",
    "b = arcpy.Raster(\"FA_D8_\"+dem)\n",
    "c = a == b\n",
    "c.save(r\"c:\\workspace\\Geodata\\Cran_Q_C\\Default.gdb\\zs_bog_pour_point_rast\")\n",
    "\n",
    "inras = 'zs_bog_pour_point_rast'\n",
    "x = arcpy.sa.SetNull(inras, inras,'Value=0')\n",
    "x.save(inras+\"_NULL\")\n",
    "\n",
    "inras = 'zs_bog_pour_point_rast'\n",
    "# convert to point\n",
    "arcpy.conversion.RasterToPoint(\n",
    "    in_raster=inras+\"_NULL\",\n",
    "    out_point_features=r\"C:\\Workspace\\Geodata\\Cran_Q_C\\Default.gdb\\pour_points_bogs\",\n",
    "    raster_field=\"Value\"\n",
    ")\n",
    "\n",
    "# COMPUTE REACH WATERSHED BOUNDARIES FOR ALL BOGS\n",
    "out_raster = arcpy.sa.Watershed(\n",
    "    in_flow_direction_raster=r\"C:\\Workspace\\Geodata\\Cran_Q_C\\Default.gdb\\D8_\"+dem,\n",
    "    in_pour_point_data=\"pour_points_bogs\",\n",
    "    pour_point_field=\"pointid\"\n",
    "    )\n",
    "out_raster.save(r\"C:\\Workspace\\Geodata\\Cran_Q_C\\Default.gdb\\watershed_D8_\"+dem+\"_bogs\")\n",
    "\n",
    "arcpy.conversion.RasterToPolygon(\n",
    "    in_raster=\"watershed_D8_\"+dem+\"_bogs\",\n",
    "    out_polygon_features=r\"C:\\Workspace\\Geodata\\Cran_Q_C\\Default.gdb\\watersheds_D8_\"+dem+\"_bogs\",\n",
    "    simplify=\"NO_SIMPLIFY\",\n",
    "    raster_field=\"OBJECTID\",\n",
    "    create_multipart_features=\"SINGLE_OUTER_PART\",\n",
    "    max_vertices_per_feature=None\n",
    ")\n",
    "\n",
    "arcpy.management.Dissolve(\n",
    "    in_features=r\"C:\\Workspace\\Geodata\\Cran_Q_C\\Default.gdb\\watersheds_D8_\"+dem+\"_bogs\",\n",
    "    out_feature_class=r\"C:\\Workspace\\Geodata\\Cran_Q_C\\Default.gdb\\watersheds_D8_\"+dem+\"_bogs_Dissolve\",\n",
    "    dissolve_field=\"gridcode\",\n",
    "    statistics_fields=None,\n",
    "    multi_part=\"MULTI_PART\",\n",
    "    unsplit_lines=\"DISSOLVE_LINES\",\n",
    "    concatenation_separator=\"\"\n",
    ")\n",
    "\n",
    "arcpy.management.CalculateGeometryAttributes(\n",
    "    in_features=\"watersheds_D8_\"+dem+\"_bogs_Dissolve\",\n",
    "    geometry_property=\"marg_bogshed_area_ha AREA\",\n",
    "    area_unit=\"HECTARES\",\n",
    "    coordinate_system=None,\n",
    "    coordinate_format=\"SAME_AS_INPUT\"\n",
    ")\n",
    "\n",
    "# make a copy of bogs\n",
    "arcpy.management.CopyFeatures(\"pour_points_bogs\",\"bogs_pour_points\")\n",
    "arcpy.management.JoinField(\n",
    "    in_data=\"bogs_pour_points\",\n",
    "    in_field=\"pointid\",\n",
    "    join_table=r\"C:\\Workspace\\Geodata\\Cran_Q_C\\Default.gdb\\watersheds_D8_\"+dem+\"_bogs_Dissolve\",\n",
    "    join_field=\"gridcode\",\n",
    "    fields=\"marg_bogshed_area_ha \",\n",
    "    fm_option=\"NOT_USE_FM\",\n",
    "    field_mapping=None,\n",
    "    index_join_fields=\"NO_INDEXES\"\n",
    ")"
   ]
  },
  {
   "cell_type": "code",
   "execution_count": 7,
   "id": "791152bc",
   "metadata": {},
   "outputs": [
    {
     "data": {
      "text/html": [
       "<div class='gpresult'><h2>Messages</h2><div id='messages' data-messages='[\"Start Time: Wednesday, October 2, 2024 10:51:51 AM\",\"Adding marg_bogshed_area_m2 to bogs_pour_points...\",\"Succeeded at Wednesday, October 2, 2024 10:51:51 AM (Elapsed Time: 0.45 seconds)\"]' data-show='true'><div id = 'default' /></div></div>"
      ],
      "text/plain": [
       "<Result 'C:\\\\Workspace\\\\Geodata\\\\Cran_Q_C\\\\Default.gdb\\\\bogs_pour_points'>"
      ]
     },
     "execution_count": 7,
     "metadata": {},
     "output_type": "execute_result"
    }
   ],
   "source": [
    "arcpy.management.CalculateField(\n",
    "    in_table=r\"bogs_pour_points\",\n",
    "    field=\"marg_bogshed_area_m2\",\n",
    "    expression=\"!marg_bogshed_area_ha!*10000\",\n",
    "    expression_type=\"PYTHON3\",\n",
    "    code_block=\"\",\n",
    "    field_type=\"DOUBLE\",\n",
    "    enforce_domains=\"NO_ENFORCE_DOMAINS\"\n",
    ")"
   ]
  },
  {
   "cell_type": "code",
   "execution_count": 8,
   "id": "36546035",
   "metadata": {},
   "outputs": [
    {
     "data": {
      "text/html": [
       "<div class='gpresult'><h2>Messages</h2><div id='messages' data-messages='[\"Start Time: Wednesday, October 2, 2024 10:51:51 AM\",\"Succeeded at Wednesday, October 2, 2024 10:51:53 AM (Elapsed Time: 2.28 seconds)\"]' data-show='true'><div id = 'default' /></div></div>"
      ],
      "text/plain": [
       "<Result 'C:\\\\Workspace\\\\Geodata\\\\Cran_Q_C\\\\Default.gdb\\\\bogs_pour_points'>"
      ]
     },
     "execution_count": 8,
     "metadata": {},
     "output_type": "execute_result"
    }
   ],
   "source": [
    "# Add X and Y coordinates to table\n",
    "arcpy.management.CalculateGeometryAttributes(\n",
    "    in_features=r\"bogs_pour_points\",\n",
    "    geometry_property=\"Lat POINT_X;Long POINT_Y\",\n",
    "    length_unit=\"\",\n",
    "    area_unit=\"\",\n",
    "    coordinate_system='PROJCS[\"NAD_1983_UTM_Zone_19N\",GEOGCS[\"GCS_North_American_1983\",DATUM[\"D_North_American_1983\",SPHEROID[\"GRS_1980\",6378137.0,298.257222101]],PRIMEM[\"Greenwich\",0.0],UNIT[\"Degree\",0.0174532925199433]],PROJECTION[\"Transverse_Mercator\"],PARAMETER[\"False_Easting\",500000.0],PARAMETER[\"False_Northing\",0.0],PARAMETER[\"Central_Meridian\",-69.0],PARAMETER[\"Scale_Factor\",0.9996],PARAMETER[\"Latitude_Of_Origin\",0.0],UNIT[\"Meter\",1.0]]',\n",
    "    coordinate_format=\"DD\"\n",
    ")"
   ]
  },
  {
   "cell_type": "code",
   "execution_count": 9,
   "id": "1082bb29",
   "metadata": {},
   "outputs": [
    {
     "name": "stdout",
     "output_type": "stream",
     "text": [
      "C:\\Workspace\\Geodata\\Cran_Q_C\\Default.gdb\\ZS_MAX_FA_D8_lidbr ZS_MAX_FA_D8_lidbr;C:\\Workspace\\Geodata\\Cran_Q_C\\Default.gdb\\ZS_MAX_FA_D8_lidb ZS_MAX_FA_D8_lidb;C:\\Workspace\\Geodata\\Cran_Q_C\\Default.gdb\\ZS_MAX_FA_D8_lidbc ZS_MAX_FA_D8_lidbc;C:\\Workspace\\Geodata\\Cran_Q_C\\Default.gdb\\ZS_MAX_FA_D8_lidbcr ZS_MAX_FA_D8_lidbcr;C:\\Workspace\\Geodata\\Cran_Q_C\\Default.gdb\\ZS_MAX_FA_D8_gwebr ZS_MAX_FA_D8_gwebr;C:\\Workspace\\Geodata\\Cran_Q_C\\Default.gdb\\ZS_MAX_FA_D8_gweb ZS_MAX_FA_D8_gweb;C:\\Workspace\\Geodata\\Cran_Q_C\\Default.gdb\\ZS_MAX_FA_D8_gwebc ZS_MAX_FA_D8_gwebc;C:\\Workspace\\Geodata\\Cran_Q_C\\Default.gdb\\ZS_MAX_FA_D8_gwebcr ZS_MAX_FA_D8_gwebcr;C:\\Workspace\\Geodata\\Cran_Q_C\\Default.gdb\\ZS_MAX_FA_D8_gweblidbk1 ZS_MAX_FA_D8_gweblidbk1;C:\\Workspace\\Geodata\\Cran_Q_C\\Default.gdb\\ZS_MAX_FA_D8_gwebclidbck1 ZS_MAX_FA_D8_gwebclidbck1;C:\\Workspace\\Geodata\\Cran_Q_C\\Default.gdb\\ZS_MAX_FA_D8_gweblidbk5 ZS_MAX_FA_D8_gweblidbk5;C:\\Workspace\\Geodata\\Cran_Q_C\\Default.gdb\\ZS_MAX_FA_D8_gwebrlidbrk1 ZS_MAX_FA_D8_gwebrlidbrk1;C:\\Workspace\\Geodata\\Cran_Q_C\\Default.gdb\\ZS_MAX_FA_D8_gwebcrlidbcrk1 ZS_MAX_FA_D8_gwebcrlidbcrk1;C:\\Workspace\\Geodata\\Cran_Q_C\\Default.gdb\\ZS_MAX_FA_D8_gwebrlidbrk5 ZS_MAX_FA_D8_gwebrlidbrk5;C:\\Workspace\\Geodata\\Cran_Q_C\\Default.gdb\\ZS_MAX_FA_D8_gwebcrlidbcrk5 ZS_MAX_FA_D8_gwebcrlidbcrk5;C:\\Workspace\\Geodata\\Cran_Q_C\\Default.gdb\\ZS_MAX_FA_D8_gweblidbk1_lid1 ZS_MAX_FA_D8_gweblidbk1_lid1;C:\\Workspace\\Geodata\\Cran_Q_C\\Default.gdb\\ZS_MAX_FA_D8_gweblidbk1_lid0 ZS_MAX_FA_D8_gweblidbk1_lid0;C:\\Workspace\\Geodata\\Cran_Q_C\\Default.gdb\\ZS_MAX_FA_D8_gweblidbk5_lid1 ZS_MAX_FA_D8_gweblidbk5_lid1;C:\\Workspace\\Geodata\\Cran_Q_C\\Default.gdb\\ZS_MAX_FA_D8_gweblidbk5_lid0 ZS_MAX_FA_D8_gweblidbk5_lid0;C:\\Workspace\\Geodata\\Cran_Q_C\\Default.gdb\\ZS_MAX_FA_D8_gwelidr1 ZS_MAX_FA_D8_gwelidr1;C:\\Workspace\\Geodata\\Cran_Q_C\\Default.gdb\\ZS_MAX_FA_D8_gwelidr0 ZS_MAX_FA_D8_gwelidr0;C:\\Workspace\\Geodata\\Cran_Q_C\\Default.gdb\\ZS_MAX_FA_D8_gwelid1 ZS_MAX_FA_D8_gwelid1;C:\\Workspace\\Geodata\\Cran_Q_C\\Default.gdb\\ZS_MAX_FA_D8_gwelid0 ZS_MAX_FA_D8_gwelid0\n"
     ]
    }
   ],
   "source": [
    "# generate string of rasters to extract\n",
    "long_names = [\"ZS_MAX_\"+n for n in names]\n",
    "long_names\n",
    "_ = [\"{} {}\".format(os.path.join(wdr,gdb,n),n) for n in long_names]\n",
    "in_rasters = \";\".join(_)\n",
    "print(in_rasters)"
   ]
  },
  {
   "cell_type": "code",
   "execution_count": 10,
   "id": "6e65266c",
   "metadata": {},
   "outputs": [
    {
     "data": {
      "text/html": [
       "<div class='gpresult'><h2>Messages</h2><div id='messages' data-messages='[\"Start Time: Wednesday, October 2, 2024 10:51:59 AM\",\"Succeeded at Wednesday, October 2, 2024 10:52:27 AM (Elapsed Time: 28.52 seconds)\"]' data-show='true'><div id = 'default' /></div></div>"
      ],
      "text/plain": [
       "<geoprocessing server result object object at 0x000002273DD3F870>"
      ]
     },
     "execution_count": 10,
     "metadata": {},
     "output_type": "execute_result"
    }
   ],
   "source": [
    "arcpy.sa.ExtractMultiValuesToPoints(\n",
    "    in_point_features=\"bogs_pour_points\",\n",
    "    in_rasters=in_rasters,\n",
    "    bilinear_interpolate_values=\"NONE\")"
   ]
  },
  {
   "cell_type": "markdown",
   "id": "86cb96f9",
   "metadata": {},
   "source": [
    "FA = Flow accumulation (number of cells draining to a point)\n",
    "w = width of cell in distance units (10 meters)\n",
    "l = length of cell in distance units (10 meters)\n",
    "\n",
    "A = FA * cell_size^2\n",
    "\n",
    "cell size is the side length of the grid cells\n",
    "\n",
    "A = FA * 100 m^2/cell\n",
    "\n",
    "Q = A * r\n",
    "\n",
    "where r is recharge rate \n",
    "27.25 in/yr \n",
    "\n",
    "m3/d =  27.25 in/yr * 2.54 cm/in * 1/100 m/cm *  1/365.25 yr/d\n",
    "\n"
   ]
  },
  {
   "cell_type": "code",
   "execution_count": 11,
   "id": "29ca0b7a",
   "metadata": {
    "scrolled": true
   },
   "outputs": [
    {
     "name": "stdout",
     "output_type": "stream",
     "text": [
      "\u001b[1;31mSignature:\u001b[0m \u001b[0mfn_FA_to_Q\u001b[0m\u001b[1;33m(\u001b[0m\u001b[0mrasterpath\u001b[0m\u001b[1;33m=\u001b[0m\u001b[1;32mNone\u001b[0m\u001b[1;33m,\u001b[0m \u001b[0mrecharge_rate_in_yr\u001b[0m\u001b[1;33m=\u001b[0m\u001b[1;36m27.25\u001b[0m\u001b[1;33m)\u001b[0m\u001b[1;33m\u001b[0m\u001b[1;33m\u001b[0m\u001b[0m\n",
      "\u001b[1;31mDocstring:\u001b[0m <no docstring>\n",
      "\u001b[1;31mSource:\u001b[0m   \n",
      "\u001b[1;32mdef\u001b[0m \u001b[0mfn_FA_to_Q\u001b[0m \u001b[1;33m(\u001b[0m\u001b[0mrasterpath\u001b[0m\u001b[1;33m=\u001b[0m\u001b[1;32mNone\u001b[0m\u001b[1;33m,\u001b[0m\u001b[0mrecharge_rate_in_yr\u001b[0m \u001b[1;33m=\u001b[0m \u001b[1;36m27.25\u001b[0m\u001b[1;33m)\u001b[0m\u001b[1;33m:\u001b[0m\u001b[1;33m\n",
      "\u001b[0m    \u001b[0m_\u001b[0m \u001b[1;33m=\u001b[0m \u001b[0marcpy\u001b[0m\u001b[1;33m.\u001b[0m\u001b[0mGetRasterProperties_management\u001b[0m\u001b[1;33m(\u001b[0m\u001b[0mrasterpath\u001b[0m\u001b[1;33m,\u001b[0m \u001b[1;34m\"CELLSIZEX\"\u001b[0m\u001b[1;33m)\u001b[0m\u001b[1;33m\n",
      "\u001b[0m    \u001b[1;31m#Get the elevation standard deviation value from geoprocessing result object\u001b[0m\u001b[1;33m\n",
      "\u001b[0m    \u001b[0mcellsize_x\u001b[0m \u001b[1;33m=\u001b[0m \u001b[0m_\u001b[0m\u001b[1;33m.\u001b[0m\u001b[0mgetOutput\u001b[0m\u001b[1;33m(\u001b[0m\u001b[1;36m0\u001b[0m\u001b[1;33m)\u001b[0m\u001b[1;33m\n",
      "\u001b[0m    \u001b[0m_\u001b[0m \u001b[1;33m=\u001b[0m \u001b[0marcpy\u001b[0m\u001b[1;33m.\u001b[0m\u001b[0mGetRasterProperties_management\u001b[0m\u001b[1;33m(\u001b[0m\u001b[0mrasterpath\u001b[0m\u001b[1;33m,\u001b[0m \u001b[1;34m\"CELLSIZEY\"\u001b[0m\u001b[1;33m)\u001b[0m\u001b[1;33m\n",
      "\u001b[0m    \u001b[0mcellsize_y\u001b[0m \u001b[1;33m=\u001b[0m \u001b[0m_\u001b[0m\u001b[1;33m.\u001b[0m\u001b[0mgetOutput\u001b[0m\u001b[1;33m(\u001b[0m\u001b[1;36m0\u001b[0m\u001b[1;33m)\u001b[0m\u001b[1;33m\n",
      "\u001b[0m    \u001b[1;31m# calculate cell area in meters\u001b[0m\u001b[1;33m\n",
      "\u001b[0m    \u001b[0mcell_area_meters\u001b[0m \u001b[1;33m=\u001b[0m \u001b[0mfloat\u001b[0m\u001b[1;33m(\u001b[0m\u001b[0mcellsize_x\u001b[0m\u001b[1;33m)\u001b[0m \u001b[1;33m*\u001b[0m \u001b[0mfloat\u001b[0m\u001b[1;33m(\u001b[0m\u001b[0mcellsize_y\u001b[0m\u001b[1;33m)\u001b[0m\u001b[1;33m\n",
      "\u001b[0m    \u001b[0mprint\u001b[0m\u001b[1;33m(\u001b[0m\u001b[1;34m\"cell area {} square meters\"\u001b[0m\u001b[1;33m.\u001b[0m\u001b[0mformat\u001b[0m\u001b[1;33m(\u001b[0m\u001b[0mcell_area_meters\u001b[0m\u001b[1;33m)\u001b[0m\u001b[1;33m)\u001b[0m\u001b[1;33m\n",
      "\u001b[0m    \u001b[0mFA_to_Q\u001b[0m \u001b[1;33m=\u001b[0m \u001b[0mcell_area_meters\u001b[0m \u001b[1;33m*\u001b[0m \u001b[0mrecharge_rate_in_yr\u001b[0m \u001b[1;33m*\u001b[0m \u001b[1;36m2.54\u001b[0m \u001b[1;33m*\u001b[0m \u001b[1;33m(\u001b[0m\u001b[1;36m1\u001b[0m\u001b[1;33m/\u001b[0m\u001b[1;36m100\u001b[0m\u001b[1;33m)\u001b[0m \u001b[1;33m*\u001b[0m \u001b[1;33m(\u001b[0m\u001b[1;36m1\u001b[0m\u001b[1;33m/\u001b[0m\u001b[1;36m365.25\u001b[0m\u001b[1;33m)\u001b[0m\u001b[1;33m\n",
      "\u001b[0m    \u001b[0mprint\u001b[0m\u001b[1;33m(\u001b[0m\u001b[1;34m\"FA_to_Q = {} m3/d per cell\"\u001b[0m\u001b[1;33m.\u001b[0m\u001b[0mformat\u001b[0m\u001b[1;33m(\u001b[0m\u001b[0mFA_to_Q\u001b[0m\u001b[1;33m)\u001b[0m\u001b[1;33m)\u001b[0m\u001b[1;33m\n",
      "\u001b[0m    \u001b[1;32mreturn\u001b[0m\u001b[1;33m(\u001b[0m\u001b[0mFA_to_Q\u001b[0m\u001b[1;33m)\u001b[0m\u001b[1;33m\u001b[0m\u001b[1;33m\u001b[0m\u001b[0m\n",
      "\u001b[1;31mFile:\u001b[0m      c:\\windows\\system32\\<ipython-input-1-ca1a1ecab51d>\n",
      "\u001b[1;31mType:\u001b[0m      function\n"
     ]
    }
   ],
   "source": [
    "??fn_FA_to_Q"
   ]
  },
  {
   "cell_type": "code",
   "execution_count": 12,
   "id": "265bbed4",
   "metadata": {},
   "outputs": [
    {
     "name": "stdout",
     "output_type": "stream",
     "text": [
      "cell area 100.0 square meters\n",
      "FA_to_Q = 0.1895003422313484 m3/d per cell\n"
     ]
    },
    {
     "data": {
      "text/plain": [
       "0.1895003422313484"
      ]
     },
     "execution_count": 12,
     "metadata": {},
     "output_type": "execute_result"
    }
   ],
   "source": [
    "fn_FA_to_Q(rasterpath=os.path.join(wdr,gdb,\"ZS_MAX_FA_D8_gwe_bf\"))"
   ]
  },
  {
   "cell_type": "code",
   "execution_count": 13,
   "id": "2a638c39",
   "metadata": {},
   "outputs": [
    {
     "name": "stdout",
     "output_type": "stream",
     "text": [
      "ZS_MAX_FA_D8_lidbr\n",
      "cell area 100.0 square meters\n",
      "FA_to_Q = 0.1895003422313484 m3/d per cell\n",
      "D8lidbr\n",
      "ZS_MAX_FA_D8_lidb\n",
      "cell area 100.0 square meters\n",
      "FA_to_Q = 0.1895003422313484 m3/d per cell\n",
      "D8lidb\n",
      "ZS_MAX_FA_D8_lidbc\n",
      "cell area 100.0 square meters\n",
      "FA_to_Q = 0.1895003422313484 m3/d per cell\n",
      "D8lidbc\n",
      "ZS_MAX_FA_D8_lidbcr\n",
      "cell area 100.0 square meters\n",
      "FA_to_Q = 0.1895003422313484 m3/d per cell\n",
      "D8lidbcr\n",
      "ZS_MAX_FA_D8_gwebr\n",
      "cell area 100.0 square meters\n",
      "FA_to_Q = 0.1895003422313484 m3/d per cell\n",
      "D8gwebr\n",
      "ZS_MAX_FA_D8_gweb\n",
      "cell area 100.0 square meters\n",
      "FA_to_Q = 0.1895003422313484 m3/d per cell\n",
      "D8gweb\n",
      "ZS_MAX_FA_D8_gwebc\n",
      "cell area 100.0 square meters\n",
      "FA_to_Q = 0.1895003422313484 m3/d per cell\n",
      "D8gwebc\n",
      "ZS_MAX_FA_D8_gwebcr\n",
      "cell area 100.0 square meters\n",
      "FA_to_Q = 0.1895003422313484 m3/d per cell\n",
      "D8gwebcr\n",
      "ZS_MAX_FA_D8_gweblidbk1\n",
      "cell area 100.0 square meters\n",
      "FA_to_Q = 0.1895003422313484 m3/d per cell\n",
      "D8gweblidbk1\n",
      "ZS_MAX_FA_D8_gwebclidbck1\n",
      "cell area 100.0 square meters\n",
      "FA_to_Q = 0.1895003422313484 m3/d per cell\n",
      "D8gwebclidbck1\n",
      "ZS_MAX_FA_D8_gweblidbk5\n",
      "cell area 100.0 square meters\n",
      "FA_to_Q = 0.1895003422313484 m3/d per cell\n",
      "D8gweblidbk5\n",
      "ZS_MAX_FA_D8_gwebrlidbrk1\n",
      "cell area 100.0 square meters\n",
      "FA_to_Q = 0.1895003422313484 m3/d per cell\n",
      "D8gwebrlidbrk1\n",
      "ZS_MAX_FA_D8_gwebcrlidbcrk1\n",
      "cell area 100.0 square meters\n",
      "FA_to_Q = 0.1895003422313484 m3/d per cell\n",
      "D8gwebcrlidbcrk1\n",
      "ZS_MAX_FA_D8_gwebrlidbrk5\n",
      "cell area 100.0 square meters\n",
      "FA_to_Q = 0.1895003422313484 m3/d per cell\n",
      "D8gwebrlidbrk5\n",
      "ZS_MAX_FA_D8_gwebcrlidbcrk5\n",
      "cell area 100.0 square meters\n",
      "FA_to_Q = 0.1895003422313484 m3/d per cell\n",
      "D8gwebcrlidbcrk5\n",
      "ZS_MAX_FA_D8_gweblidbk1_lid1\n",
      "cell area 100.0 square meters\n",
      "FA_to_Q = 0.1895003422313484 m3/d per cell\n",
      "D8gweblidbk1lid1\n",
      "ZS_MAX_FA_D8_gweblidbk1_lid0\n",
      "cell area 100.0 square meters\n",
      "FA_to_Q = 0.1895003422313484 m3/d per cell\n",
      "D8gweblidbk1lid0\n",
      "ZS_MAX_FA_D8_gweblidbk5_lid1\n",
      "cell area 100.0 square meters\n",
      "FA_to_Q = 0.1895003422313484 m3/d per cell\n",
      "D8gweblidbk5lid1\n",
      "ZS_MAX_FA_D8_gweblidbk5_lid0\n",
      "cell area 100.0 square meters\n",
      "FA_to_Q = 0.1895003422313484 m3/d per cell\n",
      "D8gweblidbk5lid0\n",
      "ZS_MAX_FA_D8_gwelidr1\n",
      "cell area 100.0 square meters\n",
      "FA_to_Q = 0.1895003422313484 m3/d per cell\n",
      "D8gwelidr1\n",
      "ZS_MAX_FA_D8_gwelidr0\n",
      "cell area 100.0 square meters\n",
      "FA_to_Q = 0.1895003422313484 m3/d per cell\n",
      "D8gwelidr0\n",
      "ZS_MAX_FA_D8_gwelid1\n",
      "cell area 100.0 square meters\n",
      "FA_to_Q = 0.1895003422313484 m3/d per cell\n",
      "D8gwelid1\n",
      "ZS_MAX_FA_D8_gwelid0\n",
      "cell area 100.0 square meters\n",
      "FA_to_Q = 0.1895003422313484 m3/d per cell\n",
      "D8gwelid0\n"
     ]
    }
   ],
   "source": [
    "#%%capture # supress outputs \n",
    "import warnings\n",
    "with warnings.catch_warnings():\n",
    "    warnings.simplefilter('ignore')\n",
    "\n",
    "    # calculate flow for all flow accumulation layers\n",
    "    # r\"C:\\Workspace\\Geodata\\Verify_Discharge\\Verify_Discharge.gdb\\bogs_points\"\n",
    "    in_table = os.path.join(wdr,gdb,\"bogs_pour_points\")\n",
    "    for long_name in long_names:\n",
    "        print(long_name)\n",
    "        FA_to_Q = fn_FA_to_Q(rasterpath=os.path.join(wdr,gdb,long_name))\n",
    "        _ = re.search(\"ZS_MAX_(.*)\",long_name)\n",
    "        short_name = re.sub(\"FA\",\"\",re.sub(\"_\",\"\",_[1]))\n",
    "        print(short_name)\n",
    "        arcpy.management.SelectLayerByAttribute(\n",
    "            in_layer_or_view=in_table,\n",
    "            selection_type=\"NEW_SELECTION\",\n",
    "            where_clause=\"{} IS NOT NULL\".format(long_name))\n",
    "        arcpy.management.CalculateField(\n",
    "            in_table=in_table,\n",
    "            field=\"Q_m3d_{}\".format(short_name),\n",
    "            expression=\"!{}!*{}\".format(long_name,FA_to_Q),\n",
    "            expression_type=\"PYTHON3\",\n",
    "            code_block=\"\",\n",
    "            field_type=\"DOUBLE\",\n",
    "            enforce_domains=\"NO_ENFORCE_DOMAINS\")\n",
    "        arcpy.management.SelectLayerByAttribute(\n",
    "            in_layer_or_view=in_table,\n",
    "            selection_type=\"CLEAR_SELECTION\")"
   ]
  },
  {
   "cell_type": "code",
   "execution_count": 14,
   "id": "d6827ecb",
   "metadata": {},
   "outputs": [],
   "source": [
    "# SELECT INTERPOLATED N CONCENTRATIONS"
   ]
  },
  {
   "cell_type": "code",
   "execution_count": 15,
   "id": "d25656bc",
   "metadata": {},
   "outputs": [
    {
     "name": "stdout",
     "output_type": "stream",
     "text": [
      "['C:\\\\Workspace\\\\Geodata\\\\Cran_Q_C\\\\Default.gdb\\\\EBK_NO3_p25', 'C:\\\\Workspace\\\\Geodata\\\\Cran_Q_C\\\\Default.gdb\\\\EBK_NO3_p50', 'C:\\\\Workspace\\\\Geodata\\\\Cran_Q_C\\\\Default.gdb\\\\EBK_NO3_p75', 'C:\\\\Workspace\\\\Geodata\\\\Cran_Q_C\\\\Default.gdb\\\\EBK_TN_p25', 'C:\\\\Workspace\\\\Geodata\\\\Cran_Q_C\\\\Default.gdb\\\\EBK_TN_p50', 'C:\\\\Workspace\\\\Geodata\\\\Cran_Q_C\\\\Default.gdb\\\\EBK_TN_p75']\n"
     ]
    }
   ],
   "source": [
    "names = [\"EBK_NO3_p25\",\n",
    "         \"EBK_NO3_p50\",\n",
    "         \"EBK_NO3_p75\",\n",
    "         \"EBK_TN_p25\",\n",
    "         \"EBK_TN_p50\",\n",
    "         \"EBK_TN_p75\",]\n",
    "files = [os.path.join(gdb_default_path,n) for n in names]\n",
    "print(files)"
   ]
  },
  {
   "cell_type": "code",
   "execution_count": 16,
   "id": "231f783c",
   "metadata": {},
   "outputs": [
    {
     "data": {
      "text/html": [
       "<div class='gpresult'><h2>Messages</h2><div id='messages' data-messages='[\"Start Time: Wednesday, October 2, 2024 10:53:21 AM\",\"Succeeded at Wednesday, October 2, 2024 10:53:23 AM (Elapsed Time: 2.32 seconds)\"]' data-show='true'><div id = 'default' /></div></div>"
      ],
      "text/plain": [
       "<geoprocessing server result object object at 0x000002273DD44C90>"
      ]
     },
     "execution_count": 16,
     "metadata": {},
     "output_type": "execute_result"
    }
   ],
   "source": [
    "arcpy.sa.ExtractMultiValuesToPoints(\n",
    "    in_point_features=\"bogs_pour_points\",\n",
    "    in_rasters=files,\n",
    "    bilinear_interpolate_values=\"NONE\")"
   ]
  },
  {
   "cell_type": "code",
   "execution_count": 17,
   "id": "af4dc670",
   "metadata": {},
   "outputs": [
    {
     "data": {
      "text/html": [
       "<div class='gpresult'><h2>Messages</h2><div id='messages' data-messages='[\"Start Time: Wednesday, October 2, 2024 10:53:23 AM\",\"Reading Features...\",\"Cracking Features...\",\"Assembling Features...\",\"Succeeded at Wednesday, October 2, 2024 10:53:26 AM (Elapsed Time: 2.37 seconds)\"]' data-show='true'><div id = 'default' /></div></div>"
      ],
      "text/plain": [
       "<Result 'C:\\\\Workspace\\\\Geodata\\\\Cran_Q_C\\\\Default.gdb\\\\bogs_pour_points_ident_agg_raw'>"
      ]
     },
     "execution_count": 17,
     "metadata": {},
     "output_type": "execute_result"
    }
   ],
   "source": [
    "arcpy.analysis.Identity(\n",
    "    in_features=\"bogs_pour_points\",\n",
    "    identity_features=\"bogs_agg_FA\",\n",
    "    out_feature_class=r\"C:\\Workspace\\Geodata\\Cran_Q_C\\Default.gdb\\bogs_pour_points_ident_agg_raw\",\n",
    "    join_attributes=\"ALL\",\n",
    "    cluster_tolerance=None,\n",
    "    relationship=\"NO_RELATIONSHIPS\"\n",
    ")"
   ]
  },
  {
   "cell_type": "code",
   "execution_count": null,
   "id": "5d2fae76",
   "metadata": {},
   "outputs": [],
   "source": []
  },
  {
   "cell_type": "code",
   "execution_count": 18,
   "id": "8cfd9291",
   "metadata": {},
   "outputs": [
    {
     "data": {
      "text/html": [
       "<div class='gpresult'><h2>Messages</h2><div id='messages' data-messages='[\"Start Time: Wednesday, October 2, 2024 10:53:29 AM\",\"Reading Features...\",\"Cracking Features...\",\"Assembling Features...\",\"Succeeded at Wednesday, October 2, 2024 10:53:31 AM (Elapsed Time: 2.49 seconds)\"]' data-show='true'><div id = 'default' /></div></div>"
      ],
      "text/plain": [
       "<Result 'C:\\\\Workspace\\\\Geodata\\\\Cran_Q_C\\\\Default.gdb\\\\bogs_pour_points_ident_agg_raw_MEP_Basins_ZS'>"
      ]
     },
     "execution_count": 18,
     "metadata": {},
     "output_type": "execute_result"
    }
   ],
   "source": [
    "arcpy.analysis.Identity(\n",
    "    in_features=\"bogs_pour_points_ident_agg_raw\",\n",
    "    identity_features=\"MEP_Embayments_Domain\",\n",
    "    out_feature_class=r\"C:\\Workspace\\Geodata\\Cran_Q_C\\Default.gdb\\bogs_pour_points_ident_agg_raw_MEP\",\n",
    "    join_attributes=\"ALL\",\n",
    "    cluster_tolerance=None,\n",
    "    relationship=\"NO_RELATIONSHIPS\"\n",
    ")\n",
    "\n",
    "arcpy.analysis.Identity(\n",
    "    in_features=\"bogs_pour_points_ident_agg_raw_MEP\",\n",
    "    identity_features=\"Basins_ZS\",\n",
    "    out_feature_class=r\"C:\\Workspace\\Geodata\\Cran_Q_C\\Default.gdb\\bogs_pour_points_ident_agg_raw_MEP_Basins_ZS\",\n",
    "    join_attributes=\"ALL\",\n",
    "    cluster_tolerance=None,\n",
    "    relationship=\"NO_RELATIONSHIPS\"\n",
    ")"
   ]
  },
  {
   "cell_type": "code",
   "execution_count": 19,
   "id": "517eb88b",
   "metadata": {},
   "outputs": [
    {
     "data": {
      "text/html": [
       "<div class='gpresult'><h2>Messages</h2><div id='messages' data-messages='[\"Start Time: Wednesday, October 2, 2024 10:53:32 AM\",\"WARNING 000728: Field FID_bogs_pour_points_ident_agg does not exist within table\",\"Succeeded at Wednesday, October 2, 2024 10:53:34 AM (Elapsed Time: 2.05 seconds)\"]' data-show='true'><div id = 'default' /></div></div>"
      ],
      "text/plain": [
       "<Result 'C:\\\\Workspace\\\\Geodata\\\\Cran_Q_C\\\\Default.gdb\\\\bogs_pour_points_ident_agg_raw_MEP_Basins_ZS'>"
      ]
     },
     "execution_count": 19,
     "metadata": {},
     "output_type": "execute_result"
    }
   ],
   "source": [
    "# DELETE UNWANTED FIELDS\n",
    "arcpy.management.DeleteField(\n",
    "    in_table=r\"C:\\Workspace\\Geodata\\Cran_Q_C\\Default.gdb\\bogs_pour_points_ident_agg_raw_MEP_Basins_ZS\",\n",
    "    drop_field=\"FID_bogs_pour_points_ident_agg_raw_MEP;FID_bogs_pour_points_ident_agg_raw;FID_bogs_pour_points_ident_agg;FID_bogs_pour_points;pointid;grid_code;FID_bogs_agg_FA;ID;ORIG_FID_1;OBJECTID_1;OBJECTID_12;OBJECTID_12_13;OBJECTID_12_13_14;OBJECTID_12_13_14_15;OBJECTID_12_13_14_15_16;OBJECTID_12_13_14_15_16_17;OBJECTID_12_13_14_15_16_17_18;OBJECTID_12_13_14_15_16_17_18_19;OBJECTID_12_13_14_15_16_17_18_19_20;OBJECTID_12_13_14_15_16_17_18_19_20_21\",\n",
    "    method=\"DELETE_FIELDS\")"
   ]
  },
  {
   "cell_type": "code",
   "execution_count": 20,
   "id": "1aebdf38",
   "metadata": {},
   "outputs": [
    {
     "data": {
      "text/html": [
       "<div class='gpresult'><h2>Messages</h2><div id='messages' data-messages='[\"Start Time: Wednesday, October 2, 2024 10:53:35 AM\",\"Succeeded at Wednesday, October 2, 2024 10:53:36 AM (Elapsed Time: 1.22 seconds)\"]' data-show='true'><div id = 'default' /></div></div>"
      ],
      "text/plain": [
       "<Result 'C:\\\\Workspace\\\\Geodata\\\\Cran_Q_C\\\\Default.gdb\\\\bogs_pour_points_ident_agg_raw_MEP_Basins_ZS'>"
      ]
     },
     "execution_count": 20,
     "metadata": {},
     "output_type": "execute_result"
    }
   ],
   "source": [
    "arcpy.management.DeleteField(\n",
    "    in_table=r\"C:\\Workspace\\Geodata\\Cran_Q_C\\Default.gdb\\bogs_pour_points_ident_agg_raw_MEP_Basins_ZS\",\n",
    "    drop_field=\"BUFF_DIST;imp_PCT25;imp_PCT75;pop_PCT25;pop_PCT75;NO3_p25_SUM\",\n",
    "    method=\"DELETE_FIELDS\"\n",
    ")"
   ]
  },
  {
   "cell_type": "code",
   "execution_count": 21,
   "id": "c84e8a68",
   "metadata": {
    "scrolled": true
   },
   "outputs": [
    {
     "data": {
      "text/html": [
       "<div class='gpresult'><h2>Messages</h2><div id='messages' data-messages='[\"Start Time: Wednesday, October 2, 2024 10:53:37 AM\",\"Succeeded at Wednesday, October 2, 2024 10:53:44 AM (Elapsed Time: 7.40 seconds)\"]' data-show='true'><div id = 'default' /></div></div>"
      ],
      "text/plain": [
       "<Result 'C:\\\\Workspace\\\\Geodata\\\\Cran_Q_C\\\\outputs\\\\bogs_pour_points_ident_agg_raw_MEP_Basins_ZS_extract_Q_C.xls'>"
      ]
     },
     "execution_count": 21,
     "metadata": {},
     "output_type": "execute_result"
    }
   ],
   "source": [
    "points = \"bogs_pour_points_ident_agg_raw_MEP_Basins_ZS\"\n",
    "arcpy.conversion.TableToExcel(\n",
    "    Input_Table=points,\n",
    "    Output_Excel_File=os.path.join(odr,points+\"_extract_Q_C.xls\"),\n",
    "    Use_field_alias_as_column_header=\"NAME\",\n",
    "    Use_domain_and_subtype_description=\"CODE\")"
   ]
  },
  {
   "cell_type": "markdown",
   "id": "9a76bc0b",
   "metadata": {},
   "source": [
    "## Appendix Unused Code"
   ]
  },
  {
   "cell_type": "raw",
   "id": "5ebd6984",
   "metadata": {},
   "source": [
    "arcpy.analysis.Identity(\n",
    "    in_features=\"bogs_pour_points_ident_agg\",\n",
    "    identity_features=\"bogs_agg_raw\",\n",
    "    out_feature_class=r\"C:\\Workspace\\Geodata\\Cran_Q_C\\Default.gdb\\bogs_pour_points_ident_agg_raw\",\n",
    "    join_attributes=\"ALL\",\n",
    "    cluster_tolerance=None,\n",
    "    relationship=\"NO_RELATIONSHIPS\"\n",
    ")"
   ]
  }
 ],
 "metadata": {
  "kernelspec": {
   "display_name": "ArcGISPro",
   "language": "python",
   "name": "python3"
  },
  "language_info": {
   "file_extension": ".py",
   "mimetype": "text/x-python",
   "name": "python",
   "version": "3.11.10"
  }
 },
 "nbformat": 4,
 "nbformat_minor": 5
}
