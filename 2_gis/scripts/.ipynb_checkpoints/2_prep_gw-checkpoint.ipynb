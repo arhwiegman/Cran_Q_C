{
 "cells": [
  {
   "cell_type": "markdown",
   "metadata": {},
   "source": [
    "## Metadata"
   ]
  },
  {
   "cell_type": "markdown",
   "metadata": {},
   "source": [
    "Prepare groundwater \n",
    "\n",
    "Author: Adrian Wiegman\n",
    "\n",
    "Date Modified: 10/31/2023\n",
    "\n",
    "In this notebook I calculate construct a map of groundwater elevation and groundwater depth from modflow simulated water table elevations and lidar surface elevation data. "
   ]
  },
  {
   "cell_type": "markdown",
   "metadata": {},
   "source": [
    "## Setup Environment"
   ]
  },
  {
   "cell_type": "code",
   "execution_count": 50,
   "metadata": {},
   "outputs": [
    {
     "name": "stdout",
     "output_type": "stream",
     "text": [
      "The autoreload extension is already loaded. To reload it, use:\n",
      "  %reload_ext autoreload\n",
      "***\n",
      "loading python modules...\n",
      "\n",
      "  `module_list` contains names of all loaded modules\n",
      "\n",
      "...module loading complete\n",
      "\n",
      "***\n",
      "loading user defined functions...\n",
      "\n",
      "type `fn_`+TAB to for autocomplete suggestions\n",
      "\n",
      " the object `def_list` contains user defined function names:\n",
      "   fn_get_info\n",
      "   fn_arcgis_table_to_df\n",
      "   fn_arcgis_table_to_np_to_pd_df\n",
      "   fn_run_script_w_propy_bat\n",
      "   fn_try_mkdir\n",
      "   fn_hello\n",
      "   fn_recursive_glob_search\n",
      "   fn_regex_search_replace\n",
      "   fn_regex_search_0\n",
      "   fn_arcpy_table_to_excel\n",
      "   fn_agg_sum_df_on_group\n",
      "   fn_add_prefix_suffix_to_selected_cols\n",
      "   fn_calc_pct_cover_within_groups\n",
      "   fn_buildWhereClauseFromList\n",
      "\n",
      " use ??{insert fn name} to inspect\n",
      " for example running `??fn_get_info` returns:\n",
      "\u001b[1;31mSignature:\u001b[0m \u001b[0mfn_get_info\u001b[0m\u001b[1;33m(\u001b[0m\u001b[0mname\u001b[0m\u001b[1;33m=\u001b[0m\u001b[1;34m'fn_get_info'\u001b[0m\u001b[1;33m)\u001b[0m\u001b[1;33m\u001b[0m\u001b[1;33m\u001b[0m\u001b[0m\n",
      "\u001b[1;31mSource:\u001b[0m   \n",
      "\u001b[1;32mdef\u001b[0m \u001b[0mfn_get_info\u001b[0m\u001b[1;33m(\u001b[0m\u001b[0mname\u001b[0m\u001b[1;33m=\u001b[0m\u001b[1;34m'fn_get_info'\u001b[0m\u001b[1;33m)\u001b[0m\u001b[1;33m:\u001b[0m\u001b[1;33m\n",
      "\u001b[0m    \u001b[1;34m'''\n",
      "    returns the source information about a given function name\n",
      "    '''\u001b[0m\u001b[1;33m\n",
      "\u001b[0m    \u001b[0mget_ipython\u001b[0m\u001b[1;33m(\u001b[0m\u001b[1;33m)\u001b[0m\u001b[1;33m.\u001b[0m\u001b[0mrun_line_magic\u001b[0m\u001b[1;33m(\u001b[0m\u001b[1;34m'pinfo2'\u001b[0m\u001b[1;33m,\u001b[0m \u001b[1;34m'$name'\u001b[0m\u001b[1;33m)\u001b[0m\u001b[1;33m\u001b[0m\u001b[1;33m\u001b[0m\u001b[0m\n",
      "\u001b[1;31mFile:\u001b[0m      c:\\workspace\\geodata\\cran_q_c\\<ipython-input-1-28f96385f735>\n",
      "\u001b[1;31mType:\u001b[0m      function\n",
      "\n",
      " you can also use `fn_get_info(name={insert fn name})` to do the same thing as `??{insert fn name}`\n",
      "\n",
      "...function loading complete\n",
      "\n",
      "***\n",
      "managing project directories:\n",
      " working directory (`wdr`): C:\\Workspace\\Geodata\\Cran_Q_C\\\n",
      " temp dir (`tdr.name`): C:\\Users\\ADRIAN~1.WIE\\AppData\\Local\\Temp\\ArcGISProTemp8444\\tmpnxj3a5q9\n",
      " input file directory (`idr`): C:\\Workspace\\Geodata\\Cran_Q_C\\inputs\n",
      " output dir (`odr`): C:\\Workspace\\Geodata\\Cran_Q_C\\outputs\n",
      "\n",
      "\n",
      "\n",
      "\n",
      "***\n",
      "setting up arcpy environment...\n",
      "\n",
      " default geodatabase path (`gdb_default_path`): C:\\Workspace\\Geodata\\Cran_Q_C\\Default.gdb\n",
      "\u001b[1;31m---------------------------------------------------------------------------\u001b[0m\n",
      "\u001b[1;31mIndexError\u001b[0m                                Traceback (most recent call last)\n",
      "\u001b[1;32m<ipython-input-1-d5449e390d4b>\u001b[0m in \u001b[0;36m<cell line: 19>\u001b[1;34m()\u001b[0m\n",
      "\u001b[0;32m     17\u001b[0m \u001b[1;33m\u001b[0m\u001b[0m\n",
      "\u001b[0;32m     18\u001b[0m \u001b[1;31m# create an objhect for managing the map\u001b[0m\u001b[1;33m\u001b[0m\u001b[1;33m\u001b[0m\u001b[0m\n",
      "\u001b[1;32m---> 19\u001b[1;33m \u001b[0mmx\u001b[0m \u001b[1;33m=\u001b[0m \u001b[0maprx\u001b[0m\u001b[1;33m.\u001b[0m\u001b[0mlistMaps\u001b[0m\u001b[1;33m(\u001b[0m\u001b[1;34m\"Map\"\u001b[0m\u001b[1;33m)\u001b[0m\u001b[1;33m[\u001b[0m\u001b[1;36m0\u001b[0m\u001b[1;33m]\u001b[0m\u001b[1;33m\u001b[0m\u001b[1;33m\u001b[0m\u001b[0m\n",
      "\u001b[0m\u001b[0;32m     20\u001b[0m \u001b[1;33m\u001b[0m\u001b[0m\n",
      "\u001b[0;32m     21\u001b[0m \u001b[0map\u001b[0m\u001b[1;33m.\u001b[0m\u001b[0mCheckOutExtension\u001b[0m\u001b[1;33m(\u001b[0m\u001b[1;34m\"Spatial\"\u001b[0m\u001b[1;33m)\u001b[0m \u001b[1;31m# check out spatial extension\u001b[0m\u001b[1;33m\u001b[0m\u001b[1;33m\u001b[0m\u001b[0m\n",
      "\n",
      "\u001b[1;31mIndexError\u001b[0m: list index out of range\n"
     ]
    },
    {
     "ename": "IndexError",
     "evalue": "list index out of range",
     "output_type": "error",
     "traceback": [
      "\u001b[0;31m---------------------------------------------------------------------------\u001b[0m\n\u001b[0;31mIndexError\u001b[0m                                Traceback (most recent call last)",
      "In  \u001b[0;34m[50]\u001b[0m:\nLine \u001b[0;34m11\u001b[0m:    %run \u001b[04m\u001b[91m$\u001b[39;49;00msetup_notebook \u001b[37m# magic command to run the notebook \u001b[39;49;00m\n",
      "File \u001b[0;34mC:\\Program Files\\ArcGIS\\Pro\\bin\\Python\\envs\\arcgispro-py3\\lib\\site-packages\\IPython\\core\\interactiveshell.py\u001b[0m, in \u001b[0;32mrun_line_magic\u001b[0m:\nLine \u001b[0;34m2418\u001b[0m:  result = fn(*args, **kwargs)\n",
      "File \u001b[0;34mC:\\Program Files\\ArcGIS\\Pro\\bin\\Python\\envs\\arcgispro-py3\\lib\\site-packages\\decorator.py\u001b[0m, in \u001b[0;32mfun\u001b[0m:\nLine \u001b[0;34m232\u001b[0m:   \u001b[34mreturn\u001b[39;49;00m caller(func, *(extras + args), **kw)\n",
      "File \u001b[0;34mC:\\Program Files\\ArcGIS\\Pro\\bin\\Python\\envs\\arcgispro-py3\\lib\\site-packages\\IPython\\core\\magic.py\u001b[0m, in \u001b[0;32m<lambda>\u001b[0m:\nLine \u001b[0;34m187\u001b[0m:   call = \u001b[34mlambda\u001b[39;49;00m f, *a, **k: f(*a, **k)\n",
      "File \u001b[0;34mC:\\Program Files\\ArcGIS\\Pro\\bin\\Python\\envs\\arcgispro-py3\\lib\\site-packages\\IPython\\core\\magics\\execution.py\u001b[0m, in \u001b[0;32mrun\u001b[0m:\nLine \u001b[0;34m735\u001b[0m:   \u001b[36mself\u001b[39;49;00m.shell.safe_execfile_ipy(filename, raise_exceptions=\u001b[34mTrue\u001b[39;49;00m)\n",
      "File \u001b[0;34mC:\\Program Files\\ArcGIS\\Pro\\bin\\Python\\envs\\arcgispro-py3\\lib\\site-packages\\IPython\\core\\interactiveshell.py\u001b[0m, in \u001b[0;32msafe_execfile_ipy\u001b[0m:\nLine \u001b[0;34m2905\u001b[0m:  result.raise_error()\n",
      "File \u001b[0;34mC:\\Program Files\\ArcGIS\\Pro\\bin\\Python\\envs\\arcgispro-py3\\lib\\site-packages\\IPython\\core\\interactiveshell.py\u001b[0m, in \u001b[0;32mraise_error\u001b[0m:\nLine \u001b[0;34m349\u001b[0m:   \u001b[34mraise\u001b[39;49;00m \u001b[36mself\u001b[39;49;00m.error_in_exec\n",
      "File \u001b[0;34mC:\\Program Files\\ArcGIS\\Pro\\bin\\Python\\envs\\arcgispro-py3\\lib\\site-packages\\IPython\\core\\interactiveshell.py\u001b[0m, in \u001b[0;32mrun_code\u001b[0m:\nLine \u001b[0;34m3553\u001b[0m:  exec(code_obj, \u001b[36mself\u001b[39;49;00m.user_global_ns, \u001b[36mself\u001b[39;49;00m.user_ns)\n",
      "File \u001b[0;34m<ipython-input-1-d5449e390d4b>\u001b[0m, in \u001b[0;32m<cell line: 19>\u001b[0m:\nLine \u001b[0;34m19\u001b[0m:    mx = aprx.listMaps(\u001b[33m\"\u001b[39;49;00m\u001b[33mMap\u001b[39;49;00m\u001b[33m\"\u001b[39;49;00m)[\u001b[34m0\u001b[39;49;00m]\n",
      "\u001b[0;31mIndexError\u001b[0m: list index out of range\n\u001b[0;31m---------------------------------------------------------------------------\u001b[0m"
     ]
    }
   ],
   "source": [
    "# iphython options\n",
    "# delete variables in workspace\n",
    "%reset -f\n",
    "#places plots inline\n",
    "%matplotlib inline\n",
    "#automatically reloads modules if they are changed\n",
    "%load_ext autoreload \n",
    "%autoreload 2\n",
    "# this codeblock sets up the environment from jupyter notebooks\n",
    "setup_notebook = \"C:/Users/Adrian.Wiegman/Documents/GitHub/Wiegman_USDA_ARS/Cran_Q_C/2_gis/scripts/_Setup.ipynb\"\n",
    "%run $setup_notebook # magic command to run the notebook "
   ]
  },
  {
   "cell_type": "raw",
   "metadata": {
    "scrolled": true
   },
   "source": [
    "# Create new file geodatabase to store results\n",
    "gdb = \"gwdepth.gdb\"\n",
    "# only run this once\n",
    "#if not os.path.exists(os.path.join(wdr,gdb)):\n",
    "#arcpy.management.CreateFileGDB(wdr,gdb)\n",
    "ap.env.workspace = os.path.join(wdr,gdb)"
   ]
  },
  {
   "cell_type": "markdown",
   "metadata": {},
   "source": [
    "## Main Program"
   ]
  },
  {
   "cell_type": "code",
   "execution_count": null,
   "metadata": {},
   "outputs": [],
   "source": [
    "### Import lidar\n",
    "# 1. Clip Lidar\n",
    "_i = r\"C:\\Workspace\\Geodata\\Massachusetts\\LiDAR_DEM\\LiDAR_DEM.gdb\\LiDAR_DEM_INT_16bit\"\n",
    "mask = r\"C:\\Workspace\\Geodata\\MEP\\outputs\\DWMWPP_WATERSHEDS_SE.shp\"\n",
    "_o = r\"C:\\Workspace\\Geodata\\MEP\\Default.gdb\\LidExtr\"\n",
    "out_raster = arcpy.sa.ExtractByMask(\n",
    "    in_raster=_i\n",
    "    in_mask_data=\"DWMWPP_WATERSHEDS_SE\",\n",
    "    extraction_area=\"INSIDE\",\n",
    "    analysis_extent='-7945684.04575117 5047354.31786836 -7782812.89626286 5200955.98507201 PROJCS[\"WGS_1984_Web_Mercator_Auxiliary_Sphere\",GEOGCS[\"GCS_WGS_1984\",DATUM[\"D_WGS_1984\",SPHEROID[\"WGS_1984\",6378137.0,298.257223563]],PRIMEM[\"Greenwich\",0.0],UNIT[\"Degree\",0.0174532925199433]],PROJECTION[\"Mercator_Auxiliary_Sphere\"],PARAMETER[\"False_Easting\",0.0],PARAMETER[\"False_Northing\",0.0],PARAMETER[\"Central_Meridian\",0.0],PARAMETER[\"Standard_Parallel_1\",0.0],PARAMETER[\"Auxiliary_Sphere_Type\",0.0],UNIT[\"Meter\",1.0]]'\n",
    ")\n",
    "out_raster.save(_o)\n",
    "\n",
    "# Aggregate data to 10m resolution using minimum cell value\n",
    "_i = \"LidExtr\"\n",
    "_o = \"LidAg10m\"\n",
    "out_raster = arcpy.sa.Aggregate(\n",
    "    in_raster=_i,\n",
    "    cell_factor=10,\n",
    "    aggregation_type=\"MINIMUM\",\n",
    "    extent_handling=\"EXPAND\",\n",
    "    ignore_nodata=\"DATA\"\n",
    ")\n",
    "out_raster.save(_o)\n",
    "lid_m = arcpy.sa.Raster(r\"C:\\Workspace\\Geodata\\MEP\\Default.gdb\\LidExtr\")\n",
    "lid_m.save(\"lid_elev_meters\")"
   ]
  },
  {
   "cell_type": "markdown",
   "metadata": {},
   "source": [
    "### Make groundwater elevation raster from 2ft contours"
   ]
  },
  {
   "cell_type": "code",
   "execution_count": null,
   "metadata": {},
   "outputs": [],
   "source": [
    "# copy the raw contour data into the project geodatabase"
   ]
  },
  {
   "cell_type": "code",
   "execution_count": 51,
   "metadata": {},
   "outputs": [
    {
     "data": {
      "text/html": [
       "<div class='gpresult'><h2>Messages</h2><div id='messages' data-messages='[\"Start Time: Tuesday, October 31, 2023 12:59:06 PM\",\"Succeeded at Tuesday, October 31, 2023 12:59:07 PM (Elapsed Time: 0.16 seconds)\"]' data-show='true'><div id = 'default' /></div></div>"
      ],
      "text/plain": [
       "<Result 'C:\\\\Workspace\\\\Geodata\\\\Cran_Q_C\\\\Default.gdb\\\\Water_Tables_2ft_Contours_Plymouth_Carver'>"
      ]
     },
     "execution_count": 51,
     "metadata": {},
     "output_type": "execute_result"
    }
   ],
   "source": [
    "# plymouth carver ---\n",
    "pc_gw_contour = \"Water_Tables_2ft_Contours_Plymouth_Carver\"\n",
    "arcpy.management.CopyFeatures(\n",
    "    in_features=r\"C:\\Workspace\\Geodata\\Massachusetts\\USGS_\\Plymouth_Carver_Water_Tables_2ft_Contours\\Plymouth_Carver_Water_Tables_2ft_Contours.shp\",\n",
    "    out_feature_class=pc_gw_contour)\n",
    "\n",
    "arcpy.management.CalculateField(\n",
    "    in_table=pc_gw_contour,\n",
    "    field=\"ELEV_METER\",\n",
    "    expression=\"!Contour!*0.3048\",\n",
    "    expression_type=\"PYTHON3\",\n",
    "    code_block=\"\",\n",
    "    field_type=\"TEXT\",\n",
    "    enforce_domains=\"NO_ENFORCE_DOMAINS\"\n",
    ")\n",
    "\n",
    "arcpy.management.DeleteField(\n",
    "    in_table=pc_gw_contour,\n",
    "    drop_field=\"Contour\",\n",
    "    method=\"DELETE_FIELDS\"\n",
    ")"
   ]
  },
  {
   "cell_type": "code",
   "execution_count": 53,
   "metadata": {},
   "outputs": [],
   "source": [
    "# cape cod ---\n",
    "cc_gw_contour = \"Water_Tables_2ft_Contours_Cape_Cod\"\n",
    "arcpy.management.CopyFeatures(\n",
    "    in_features=r\"C:\\Workspace\\Geodata\\Massachusetts\\USGS_\\Cape_Cod_Water_Tables_2ft_Contours\\Cape_Cod_Water_Tables_2ft_Contours.shp\",\n",
    "    out_feature_class=cc_gw_contour)\n",
    "\n",
    "arcpy.management.DeleteField(\n",
    "    in_table=\"Water_Tables_2ft_Contours_Cape_Cod\",\n",
    "    drop_field=\"ELEV_FTASL;CONTOUR;Shape_Leng\",\n",
    "    method=\"DELETE_FIELDS\"\n",
    ")\n",
    "\n",
    "# removing the first four features since they are located on mainland (not on the cape)\n",
    "selection = arcpy.management.SelectLayerByAttribute(\n",
    "    in_layer_or_view=\"Water_Tables_2ft_Contours_Cape_Cod\",\n",
    "    selection_type=\"NEW_SELECTION\",\n",
    "    where_clause=\"OBJECTID NOT IN (1, 2, 3, 4)\",\n",
    "    invert_where_clause=None\n",
    ")"
   ]
  },
  {
   "cell_type": "code",
   "execution_count": 54,
   "metadata": {
    "scrolled": true
   },
   "outputs": [
    {
     "data": {
      "text/html": [
       "<div class='gpresult'><h2>Messages</h2><div id='messages' data-messages='[\"Start Time: Tuesday, October 31, 2023 1:01:18 PM\",\"Succeeded at Tuesday, October 31, 2023 1:01:18 PM (Elapsed Time: 0.19 seconds)\"]' data-show='true'><div id = 'default' /></div></div>"
      ],
      "text/plain": [
       "<Result 'C:\\\\Workspace\\\\Geodata\\\\Cran_Q_C\\\\Default.gdb\\\\Water_Tables_2ft_Contours_Merge'>"
      ]
     },
     "execution_count": 54,
     "metadata": {},
     "output_type": "execute_result"
    }
   ],
   "source": [
    "# Merge the cape cod and plymouth carver water table contour lines\n",
    "arcpy.management.Merge(\n",
    "    inputs=\"{};{}\".format(cc_gw_contour,pc_gw_contour),\n",
    "    output=\"Water_Tables_2ft_Contours_Merge\",\n",
    "    add_source=\"ADD_SOURCE_INFO\"\n",
    ")\n",
    "\n",
    "arcpy.management.DeleteField(\n",
    "    in_table=\"Water_Tables_2ft_Contours_Merge\",\n",
    "    drop_field=\"OBJECTID\",\n",
    "    method=\"DELETE_FIELDS\"\n",
    ")"
   ]
  },
  {
   "cell_type": "code",
   "execution_count": 56,
   "metadata": {},
   "outputs": [],
   "source": [
    "# you cannot save the tin to a geodatabase, so save it to outputs directory\n",
    "tin_file = os.path.join(odr,\"tin_gw_meters\")"
   ]
  },
  {
   "cell_type": "code",
   "execution_count": null,
   "metadata": {},
   "outputs": [],
   "source": [
    "# NOTE I USE AN EDITED version of the contour lines layer that adds a vertex at 21.5m elevation on the cape."
   ]
  },
  {
   "cell_type": "code",
   "execution_count": 57,
   "metadata": {},
   "outputs": [
    {
     "data": {
      "text/html": [
       "<div class='gpresult'><h2>Messages</h2><div id='messages' data-messages='[\"Start Time: Tuesday, October 31, 2023 1:03:27 PM\",\"Succeeded at Tuesday, October 31, 2023 1:03:27 PM (Elapsed Time: 0.47 seconds)\"]' data-show='true'><div id = 'default' /></div></div>"
      ],
      "text/plain": [
       "<Result 'C:\\\\Workspace\\\\Geodata\\\\Cran_Q_C\\\\outputs\\\\tin_gw_meters'>"
      ]
     },
     "execution_count": 57,
     "metadata": {},
     "output_type": "execute_result"
    }
   ],
   "source": [
    "# Create TIN (triangular irregular network) from merged contour lines and convert to raster\n",
    "arcpy.ddd.CreateTin(\n",
    "    out_tin=tin_file,\n",
    "    in_features=\"Water_Tables_2ft_Contours_Merge_Edit ELEV_METER Hard_Line <None>\",\n",
    "    constrained_delaunay=\"DELAUNAY\"\n",
    ")"
   ]
  },
  {
   "cell_type": "code",
   "execution_count": null,
   "metadata": {},
   "outputs": [],
   "source": [
    "# copy lidar data (surface elevation meters above sea level) to the geodatabase"
   ]
  },
  {
   "cell_type": "code",
   "execution_count": 62,
   "metadata": {},
   "outputs": [],
   "source": [
    "with arcpy.EnvManager(snapRaster=\"lid_elev_meters\"):\n",
    "    arcpy.ddd.TinRaster(\n",
    "        in_tin=tin_file,\n",
    "        out_raster=r\"C:\\Workspace\\Geodata\\MEP\\gwdepth.gdb\\gw_elev_meters\",\n",
    "        data_type=\"FLOAT\",\n",
    "        method=\"LINEAR\",\n",
    "        sample_distance=\"CELLSIZE\",\n",
    "        z_factor=1,\n",
    "        sample_value=10\n",
    "    )"
   ]
  },
  {
   "cell_type": "raw",
   "metadata": {},
   "source": [
    "# 1. Clip Lidar\n",
    "_i = r\"C:\\Workspace\\Geodata\\Massachusetts\\LiDAR_DEM\\LiDAR_DEM.gdb\\LiDAR_DEM_INT_16bit\"\n",
    "mask = r\"C:\\Workspace\\Geodata\\MEP\\outputs\\DWMWPP_WATERSHEDS_SE.shp\"\n",
    "_o = r\"C:\\Workspace\\Geodata\\MEP\\Default.gdb\\LidExtr\"\n",
    "out_raster = arcpy.sa.ExtractByMask(\n",
    "    in_raster=_i\n",
    "    in_mask_data=\"DWMWPP_WATERSHEDS_SE\",\n",
    "    extraction_area=\"INSIDE\",\n",
    "    analysis_extent='-7945684.04575117 5047354.31786836 -7782812.89626286 5200955.98507201 PROJCS[\"WGS_1984_Web_Mercator_Auxiliary_Sphere\",GEOGCS[\"GCS_WGS_1984\",DATUM[\"D_WGS_1984\",SPHEROID[\"WGS_1984\",6378137.0,298.257223563]],PRIMEM[\"Greenwich\",0.0],UNIT[\"Degree\",0.0174532925199433]],PROJECTION[\"Mercator_Auxiliary_Sphere\"],PARAMETER[\"False_Easting\",0.0],PARAMETER[\"False_Northing\",0.0],PARAMETER[\"Central_Meridian\",0.0],PARAMETER[\"Standard_Parallel_1\",0.0],PARAMETER[\"Auxiliary_Sphere_Type\",0.0],UNIT[\"Meter\",1.0]]'\n",
    ")\n",
    "out_raster.save(_o)\n",
    "\n",
    "# Aggregate data to 10m resolution using minimum cell value\n",
    "_i = \"LidExtr\"\n",
    "_o = \"LidAg10m\"\n",
    "out_raster = arcpy.sa.Aggregate(\n",
    "    in_raster=_i,\n",
    "    cell_factor=10,\n",
    "    aggregation_type=\"MINIMUM\",\n",
    "    extent_handling=\"EXPAND\",\n",
    "    ignore_nodata=\"DATA\"\n",
    ")\n",
    "out_raster.save(_o)\n",
    "lid_m = arcpy.sa.Raster(r\"C:\\Workspace\\Geodata\\MEP\\Default.gdb\\LidExtr\")\n",
    "lid_m.save(\"lid_elev_meters\")"
   ]
  },
  {
   "cell_type": "raw",
   "metadata": {},
   "source": []
  },
  {
   "cell_type": "code",
   "execution_count": 4,
   "metadata": {},
   "outputs": [
    {
     "data": {
      "text/html": [
       "<div class='gpresult'><h2>Messages</h2><div id='messages' data-messages='[\"Start Time: Tuesday, August 8, 2023 1:42:38 PM\",\"Succeeded at Tuesday, August 8, 2023 1:42:38 PM (Elapsed Time: 0.33 seconds)\"]' data-show='true'><div id = 'default' /></div></div>"
      ],
      "text/plain": [
       "<Result 'C:\\\\Workspace\\\\Geodata\\\\MEP\\\\gwdepth.gdb\\\\contour_mask_poly'>"
      ]
     },
     "execution_count": 4,
     "metadata": {},
     "output_type": "execute_result"
    }
   ],
   "source": [
    "# copy the mask of the groundwater contour lines to the gdb\n",
    "arcpy.management.CopyFeatures(\n",
    "    in_features=r\"C:\\Workspace\\Geodata\\MEP\\outputs\\Contour_Mask.gdb\\Placemarks\\Polygons\",\n",
    "    out_feature_class=r\"contour_mask_poly\")"
   ]
  },
  {
   "cell_type": "code",
   "execution_count": 5,
   "metadata": {},
   "outputs": [],
   "source": [
    "with arcpy.EnvManager(outputCoordinateSystem='PROJCS[\"NAD_1983_UTM_Zone_19N\",GEOGCS[\"GCS_North_American_1983\",DATUM[\"D_North_American_1983\",SPHEROID[\"GRS_1980\",6378137.0,298.257222101]],PRIMEM[\"Greenwich\",0.0],UNIT[\"Degree\",0.0174532925199433]],PROJECTION[\"Transverse_Mercator\"],PARAMETER[\"False_Easting\",500000.0],PARAMETER[\"False_Northing\",0.0],PARAMETER[\"Central_Meridian\",-69.0],PARAMETER[\"Scale_Factor\",0.9996],PARAMETER[\"Latitude_Of_Origin\",0.0],UNIT[\"Meter\",1.0]]', snapRaster=\"gw_elev_meters\", extent='346823.303957774 4597731.43403507 422133.303957774 4662251.43403507 PROJCS[\"NAD_1983_UTM_Zone_19N\",GEOGCS[\"GCS_North_American_1983\",DATUM[\"D_North_American_1983\",SPHEROID[\"GRS_1980\",6378137.0,298.257222101]],PRIMEM[\"Greenwich\",0.0],UNIT[\"Degree\",0.0174532925199433]],PROJECTION[\"Transverse_Mercator\"],PARAMETER[\"False_Easting\",500000.0],PARAMETER[\"False_Northing\",0.0],PARAMETER[\"Central_Meridian\",-69.0],PARAMETER[\"Scale_Factor\",0.9996],PARAMETER[\"Latitude_Of_Origin\",0.0],UNIT[\"Meter\",1.0]]', cellSize=\"gw_elev_meters\"):\n",
    "    arcpy.conversion.FeatureToRaster(\n",
    "        in_features=r\"Contour_Mask\\Polygons\",\n",
    "        field=\"OID\",\n",
    "        out_raster=\"contour_mask_rast\")"
   ]
  },
  {
   "cell_type": "code",
   "execution_count": 6,
   "metadata": {},
   "outputs": [],
   "source": [
    "mask = arcpy.sa.Raster(\"contour_mask_rast\")"
   ]
  },
  {
   "cell_type": "code",
   "execution_count": 7,
   "metadata": {
    "scrolled": true
   },
   "outputs": [],
   "source": [
    "gw_elev_meters = arcpy.sa.Raster(\"gw_elev_meters\")*mask\n",
    "lid_elev_meters = arcpy.sa.Raster(\"lid_elev_meters\")\n",
    "gw_depth_meters = lid_elev_meters - gw_elev_meters\n",
    "gw_depth_meters.save(\"gw_depth_meters\")"
   ]
  },
  {
   "cell_type": "code",
   "execution_count": 8,
   "metadata": {},
   "outputs": [],
   "source": [
    "gw_depth_lt1_meters = gw_depth_meters < 1\n",
    "gw_depth_lt1_meters.save(\"gw_depth_lt_1m\")"
   ]
  },
  {
   "cell_type": "code",
   "execution_count": 9,
   "metadata": {},
   "outputs": [],
   "source": [
    "gw_depth_meters = arcpy.sa.Raster(\"gw_depth_meters\")\n",
    "gw_depth_lt1_meters = gw_depth_meters < 0.5\n",
    "gw_depth_lt1_meters.save(\"gw_depth_lt_0p5m\")"
   ]
  },
  {
   "cell_type": "code",
   "execution_count": 10,
   "metadata": {},
   "outputs": [],
   "source": [
    "gw_elev_meters.save(\"gw_elev_meters_masked\")"
   ]
  },
  {
   "cell_type": "code",
   "execution_count": 3,
   "metadata": {
    "scrolled": true
   },
   "outputs": [],
   "source": []
  },
  {
   "cell_type": "code",
   "execution_count": 5,
   "metadata": {},
   "outputs": [],
   "source": []
  }
 ],
 "metadata": {
  "kernelspec": {
   "display_name": "ArcGISPro",
   "language": "Python",
   "name": "python3"
  },
  "language_info": {
   "file_extension": ".py",
   "name": "python",
   "version": "3"
  }
 },
 "nbformat": 4,
 "nbformat_minor": 2
}
