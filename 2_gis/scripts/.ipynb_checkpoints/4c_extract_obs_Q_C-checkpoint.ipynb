{
 "cells": [
  {
   "cell_type": "markdown",
   "id": "f682951b",
   "metadata": {},
   "source": [
    "**Verify Discharge**\n",
    "\n",
    "Adrian Wiegman\n",
    "\n",
    "2024-08-25\n",
    "\n",
    "-------"
   ]
  },
  {
   "cell_type": "markdown",
   "id": "c9e36dc6",
   "metadata": {
    "heading_collapsed": true
   },
   "source": [
    "## Description"
   ]
  },
  {
   "cell_type": "markdown",
   "id": "159f7739",
   "metadata": {
    "hidden": true
   },
   "source": [
    "This notebook turns raw data from LiDAR DEM, NHD flowlines, and polygons of cranberry bogs, into a layer of polygons representing the topographic catchments draining into each cranberry bog in southeast Massachusetts. \n",
    "\n",
    "Even though the lidar data as been hydro flattened/enforced, there are still a number of flowpaths that are not detected underneath highways (e.g. interstate I-495, I-195)\n",
    "\n",
    "The solution is to \"burn\" in stream flowlines from the national hydrography dataset. This is done by putting a buffer around the stream flowline network, then assigning an arbitary large value to the stream network polygon, then converting to raster and subtracting the stream elevations from the DEM. \n",
    "\n",
    "Once D8 flow direction and flow accumulation rasters have been made the primary objectives can be completed. \n",
    "\n",
    "Data Sources:\n",
    "\n",
    "1. Mass GIS Lidar DEM (1ft vertical resolution, ~1m horizontal resolution)\n",
    "2. USGS National Hydrography Dataset\n",
    "- Flow lines\n",
    "3. Cranberry bogs layer\n",
    "\n",
    "Steps of Processing: \n",
    "\n",
    "1. Prepare Lidar\n",
    "   - 1M Lidar Elevation -> Clip to study area -> \n",
    "   - Resample to 10m resolution using aggregate minimum cell value\n",
    "   - Fill Sinks \n",
    "\n",
    "2. Prepare Flowlines\n",
    "   - combine flowlines into one layer\n",
    "   - dissolve flowlines\n",
    "   - buffer flowlines to 3x the resolution of processed lidar. \n",
    "       - buffering width of 15m \n",
    "   - convert to raster\n",
    "3. Burn in flow lines\n",
    "    - assign a value of -100 feet to flow lines\n",
    "    - add flowlines to existing elevation (subtract 100 feet)\n",
    "    \n",
    "4. fill sinks (again)\n",
    "5. D8 Flow Direction \n",
    "6. Flow Accumulation\n",
    "7. Generate Bog Pour Points\n",
    "    - find maximum flow accumulation value inside each bog.\n",
    "    - generate a point at each bog maximum value.\n",
    "    - identity to get cranberry bog attributes at each point.\n",
    "8. Delineate Basins for each point\n",
    "    - with the bog cranberry points loop through each point\n",
    "        - delineate watershed using the bog pour point and the D8 flow direction\n",
    "        - save the output to a temp file with the feature ID ('FID') of the cranberry bog. \n",
    "    - merge all cranberry bog basins to one polygon layer, containing the FID of the cranberry bog. "
   ]
  },
  {
   "cell_type": "markdown",
   "id": "2d59851c",
   "metadata": {},
   "source": [
    "## Setup Environment"
   ]
  },
  {
   "cell_type": "code",
   "execution_count": 1,
   "id": "9d478e88",
   "metadata": {},
   "outputs": [
    {
     "name": "stdout",
     "output_type": "stream",
     "text": [
      "***\n",
      "loading python modules...\n",
      "\n",
      "  `module_list` contains names of all loaded modules\n",
      "\n",
      "...module loading complete\n",
      "\n",
      "***\n",
      "loading user defined functions...\n",
      "\n",
      "type `fn_`+TAB to for autocomplete suggestions\n",
      "\n",
      " the object `def_list` contains user defined function names:\n",
      "   fn_get_info\n",
      "   fn_arcgis_table_to_df\n",
      "   fn_arcgis_table_to_np_to_pd_df\n",
      "   fn_run_script_w_propy_bat\n",
      "   fn_try_mkdir\n",
      "   fn_hello\n",
      "   fn_recursive_glob_search\n",
      "   fn_regex_search_replace\n",
      "   fn_regex_search_0\n",
      "   fn_arcpy_table_to_excel\n",
      "   fn_agg_sum_df_on_group\n",
      "   fn_add_prefix_suffix_to_selected_cols\n",
      "   fn_calc_pct_cover_within_groups\n",
      "   fn_buildWhereClauseFromList\n",
      "   fn_FA_to_Q\n",
      "   fn_alter_field_double\n",
      "   fn_return_float\n",
      "   fn_classify_wetlands\n",
      "\n",
      " use ??{insert fn name} to inspect\n",
      " for example running `??fn_get_info` returns:\n",
      "\u001b[1;31mSignature:\u001b[0m \u001b[0mfn_get_info\u001b[0m\u001b[1;33m(\u001b[0m\u001b[0mname\u001b[0m\u001b[1;33m=\u001b[0m\u001b[1;34m'fn_get_info'\u001b[0m\u001b[1;33m)\u001b[0m\u001b[1;33m\u001b[0m\u001b[1;33m\u001b[0m\u001b[0m\n",
      "\u001b[1;31mSource:\u001b[0m   \n",
      "\u001b[1;32mdef\u001b[0m \u001b[0mfn_get_info\u001b[0m\u001b[1;33m(\u001b[0m\u001b[0mname\u001b[0m\u001b[1;33m=\u001b[0m\u001b[1;34m'fn_get_info'\u001b[0m\u001b[1;33m)\u001b[0m\u001b[1;33m:\u001b[0m\u001b[1;33m\n",
      "\u001b[0m    \u001b[1;34m'''\n",
      "    returns the source information about a given function name\n",
      "    '''\u001b[0m\u001b[1;33m\n",
      "\u001b[0m    \u001b[0mget_ipython\u001b[0m\u001b[1;33m(\u001b[0m\u001b[1;33m)\u001b[0m\u001b[1;33m.\u001b[0m\u001b[0mrun_line_magic\u001b[0m\u001b[1;33m(\u001b[0m\u001b[1;34m'pinfo2'\u001b[0m\u001b[1;33m,\u001b[0m \u001b[1;34m'$name'\u001b[0m\u001b[1;33m)\u001b[0m\u001b[1;33m\u001b[0m\u001b[1;33m\u001b[0m\u001b[0m\n",
      "\u001b[1;31mFile:\u001b[0m      c:\\windows\\system32\\<ipython-input-1-28f96385f735>\n",
      "\u001b[1;31mType:\u001b[0m      function\n",
      "\n",
      " you can also use `fn_get_info(name={insert fn name})` to do the same thing as `??{insert fn name}`\n",
      "\n",
      "...function loading complete\n",
      "\n",
      "***\n",
      "managing project directories:\n",
      " working directory (`wdr`): C:\\Workspace\\Geodata\\Cran_Q_C\\\n",
      " temp dir (`tdr.name`): C:\\Users\\ADRIAN~1.WIE\\AppData\\Local\\Temp\\ArcGISProTemp18260\\tmp8jmbukqa\n",
      " input file directory (`idr`): C:\\Workspace\\Geodata\\Cran_Q_C\\inputs\n",
      " output dir (`odr`): C:\\Workspace\\Geodata\\Cran_Q_C\\outputs\n",
      "\n",
      "\n",
      "\n",
      "\n",
      "***\n",
      "setting up arcpy environment...\n",
      "\n",
      " default geodatabase path (`gdb_default_path`): C:\\Workspace\\Geodata\\Cran_Q_C\\Default.gdb\n",
      " active map (`mx`) name: Map2_prep_gw\n",
      " output coordinate system: NAD_1983_UTM_Zone_19N\n",
      "\n",
      "... env setup complete\n",
      "\n",
      "\n",
      "+++SETUP COMPLETE+++\n",
      "\n",
      "\n"
     ]
    }
   ],
   "source": [
    "# iphython options\n",
    "# delete variables in workspace\n",
    "%reset -f\n",
    "#places plots inline\n",
    "%matplotlib inline\n",
    "#automatically reloads modules if they are changed\n",
    "%load_ext autoreload \n",
    "%autoreload 2\n",
    "# this codeblock sets up the environment from jupyter notebooks\n",
    "setup_notebook = r\"C:\\Users\\Adrian.Wiegman\\Documents\\GitHub\\Wiegman_USDA_ARS\\Cran_Q_C\\2_gis\\scripts\\_Setup.ipynb\"\n",
    "%run $setup_notebook # magic command to run the notebook "
   ]
  },
  {
   "cell_type": "raw",
   "id": "4798295c",
   "metadata": {},
   "source": [
    "# THIS CODE WAS RUN ON 8/26/24\n",
    "\"\"\"\n",
    "arcpy.management.XYTableToPoint(\n",
    "    in_table=r\"C:\\Users\\Adrian.Wiegman\\Documents\\GitHub\\Wiegman_USDA_ARS\\Cran_Q_C\\1_prep\\df_Q_bogs_streams.csv\",\n",
    "    out_feature_class=r\"df_Q_bogs_streams_XYTableToPoint\",\n",
    "    x_field=\"Long\",\n",
    "    y_field=\"Lat\",\n",
    "    z_field=None,\n",
    "    coordinate_system='GEOGCS[\"GCS_WGS_1984\",DATUM[\"D_WGS_1984\",SPHEROID[\"WGS_1984\",6378137.0,298.257223563]],PRIMEM[\"Greenwich\",0.0],UNIT[\"Degree\",0.0174532925199433]];-400 -400 1000000000;-100000 10000;-100000 10000;8.98315284119521E-09;0.001;0.001;IsHighPrecision')\n",
    "\"\"\"\n",
    "# RAW POINT LOCATIONS WERE CORRECTED ON 8/27/24, see cell below. "
   ]
  },
  {
   "cell_type": "code",
   "execution_count": 52,
   "id": "de0933ec",
   "metadata": {
    "scrolled": true
   },
   "outputs": [
    {
     "data": {
      "text/html": [
       "<div class='gpresult'><h2>Messages</h2><div id='messages' data-messages='[\"Start Time: Wednesday, September 4, 2024 7:43:16 PM\",\"Succeeded at Wednesday, September 4, 2024 7:43:18 PM (Elapsed Time: 1.98 seconds)\"]' data-show='true'><div id = 'default' /></div></div>"
      ],
      "text/plain": [
       "<Result 'C:\\\\Workspace\\\\Geodata\\\\Cran_Q_C\\\\outputs\\\\bogs_agg_verify_extract_Q_C.xls'>"
      ]
     },
     "execution_count": 52,
     "metadata": {},
     "output_type": "execute_result"
    }
   ],
   "source": [
    "# Extract bog Q and C information for flow verification bogs. \n",
    "bogs = \"bogs_agg_verify_Q\"\n",
    "arcpy.management.SelectLayerByAttribute(\n",
    "    in_layer_or_view=bogs,\n",
    "    selection_type=\"CLEAR_SELECTION\",\n",
    "    where_clause=\"\",\n",
    "    invert_where_clause=None)\n",
    "joinout = r\"C:\\Workspace\\Geodata\\Cran_Q_C\\Default.gdb\\bogs_agg_verify_extract_Q_C\"\n",
    "arcpy.gapro.JoinFeatures(\n",
    "    target_layer=\"bogs_agg_verify_Q\",\n",
    "    join_layer=r\"C:\\Workspace\\Geodata\\Cran_Q_C\\Default.gdb\\bogs_pour_points_ident_agg_raw_MEP\",\n",
    "    output=joinout,\n",
    "    join_operation=\"JOIN_ONE_TO_MANY\",\n",
    "    spatial_relationship=\"INTERSECTS\",\n",
    "    spatial_near_distance=None,\n",
    "    temporal_relationship=\"\",\n",
    "    temporal_near_distance=None,\n",
    "    attribute_relationship=None,\n",
    "    summary_fields=None,\n",
    "    join_condition=\"\",\n",
    "    keep_all_target_features=None,\n",
    "    include_distance=None,\n",
    "    distance_unit=\"\")\n",
    "arcpy.conversion.TableToExcel(\n",
    "    Input_Table=joinout,\n",
    "    Output_Excel_File=os.path.join(r\"C:\\Workspace\\Geodata\\Cran_Q_C\\outputs\",\"bogs_agg_verify_extract_Q_C.xls\"),\n",
    "    Use_field_alias_as_column_header=\"NAME\",\n",
    "    Use_domain_and_subtype_description=\"CODE\")"
   ]
  },
  {
   "cell_type": "code",
   "execution_count": 53,
   "id": "5cac46e0",
   "metadata": {},
   "outputs": [
    {
     "data": {
      "text/html": [
       "<div class='gpresult'><h2>Messages</h2><div id='messages' data-messages='[\"Start Time: Wednesday, September 4, 2024 7:43:18 PM\",\"Succeeded at Wednesday, September 4, 2024 7:43:19 PM (Elapsed Time: 1.06 seconds)\"]' data-show='true'><div id = 'default' /></div></div>"
      ],
      "text/plain": [
       "<Result 'C:\\\\Workspace\\\\Geodata\\\\Cran_Q_C\\\\Default.gdb\\\\df_Q_bogs_streams_XYTableToPoint_edit_extract_Q_C'>"
      ]
     },
     "execution_count": 53,
     "metadata": {},
     "output_type": "execute_result"
    }
   ],
   "source": [
    "# 8/27/24\n",
    "# locations were edited on  to MEP snap monitoring locations to flow lines where there were GPS location errors\n",
    "# - Scorton Creek at Jones Ln\n",
    "# - Little Creek\n",
    "# two additional sites were added from the MEP Barnstable Report, where zero flow was recorded\n",
    "# - Scorton Creek \n",
    "inpoints = r\"df_Q_bogs_streams_XYTableToPoint_edit\"\n",
    "arcpy.management.SelectLayerByAttribute(\n",
    "    in_layer_or_view=inpoints,\n",
    "    selection_type=\"CLEAR_SELECTION\",\n",
    "    where_clause=\"\",\n",
    "    invert_where_clause=None)\n",
    "\n",
    "# make a copy to work from \n",
    "points = inpoints+\"_extract_Q_C\"\n",
    "arcpy.management.CopyFeatures(\n",
    "    in_features=inpoints,\n",
    "    out_feature_class=points,\n",
    "    config_keyword=\"\",\n",
    "    spatial_grid_1=None,\n",
    "    spatial_grid_2=None,\n",
    "    spatial_grid_3=None)"
   ]
  },
  {
   "cell_type": "code",
   "execution_count": 54,
   "id": "9ed0a3f0",
   "metadata": {},
   "outputs": [
    {
     "data": {
      "text/html": [
       "<div class='gpresult'><h2>Messages</h2><div id='messages' data-messages='[\"Start Time: Wednesday, September 4, 2024 7:43:20 PM\",\"Succeeded at Wednesday, September 4, 2024 7:43:21 PM (Elapsed Time: 0.89 seconds)\"]' data-show='true'><div id = 'default' /></div></div>"
      ],
      "text/plain": [
       "<Result 'C:\\\\Workspace\\\\Geodata\\\\Cran_Q_C\\\\Default.gdb\\\\df_Q_bogs_streams_XYTableToPoint_edit_extract_Q_C'>"
      ]
     },
     "execution_count": 54,
     "metadata": {},
     "output_type": "execute_result"
    }
   ],
   "source": [
    "arcpy.management.JoinField(\n",
    "    in_data=points,\n",
    "    in_field=\"OBJECTID\",\n",
    "    join_table=bogs,\n",
    "    join_field=\"FID_df_Q_bogs_streams\",\n",
    "    fields=\"FID_bogs_agg;site_id;ORIG_FID\",\n",
    "    fm_option=\"NOT_USE_FM\",\n",
    "    field_mapping=None,\n",
    "    index_join_fields=\"NO_INDEXES\"\n",
    ")"
   ]
  },
  {
   "cell_type": "code",
   "execution_count": 55,
   "id": "f8ea32ee",
   "metadata": {},
   "outputs": [
    {
     "data": {
      "text/html": [
       "<div class='gpresult'><h2>Messages</h2><div id='messages' data-messages='[\"Start Time: Wednesday, September 4, 2024 7:43:21 PM\",\"Succeeded at Wednesday, September 4, 2024 7:43:24 PM (Elapsed Time: 2.53 seconds)\"]' data-show='true'><div id = 'default' /></div></div>"
      ],
      "text/plain": [
       "<Result 'C:\\\\Workspace\\\\Geodata\\\\Cran_Q_C\\\\Default.gdb\\\\df_Q_bogs_streams_XY_buffer150m'>"
      ]
     },
     "execution_count": 55,
     "metadata": {},
     "output_type": "execute_result"
    }
   ],
   "source": [
    "arcpy.analysis.Buffer(\n",
    "    in_features=points,\n",
    "    out_feature_class=r\"df_Q_bogs_streams_XY_buffer150m\",\n",
    "    buffer_distance_or_field=\"150 Meters\",\n",
    "    line_side=\"FULL\",\n",
    "    line_end_type=\"ROUND\",\n",
    "    dissolve_option=\"NONE\",\n",
    "    dissolve_field=None,\n",
    "    method=\"GEODESIC\"\n",
    ")"
   ]
  },
  {
   "cell_type": "code",
   "execution_count": 56,
   "id": "d1e83c63",
   "metadata": {},
   "outputs": [
    {
     "name": "stdout",
     "output_type": "stream",
     "text": [
      "['C:\\\\Workspace\\\\Geodata\\\\Cran_Q_C\\\\Default.gdb\\\\FA_D8_gwe_f', 'C:\\\\Workspace\\\\Geodata\\\\Cran_Q_C\\\\Default.gdb\\\\FA_D8_gwe_bf', 'C:\\\\Workspace\\\\Geodata\\\\Cran_Q_C\\\\Default.gdb\\\\FA_D8_gwe_bf_lt1m', 'C:\\\\Workspace\\\\Geodata\\\\Cran_Q_C\\\\Default.gdb\\\\FA_MFD_gwe_bf', 'C:\\\\Workspace\\\\Geodata\\\\Cran_Q_C\\\\Default.gdb\\\\FA_Dinf_gwe_bf', 'C:\\\\Workspace\\\\Geodata\\\\Cran_Q_C\\\\Default.gdb\\\\FA_D8_gwe_lid_lt1m', 'C:\\\\Workspace\\\\Geodata\\\\Cran_Q_C\\\\Default.gdb\\\\FA_D8_gwe_lid_lt0m', 'C:\\\\Workspace\\\\Geodata\\\\Cran_Q_C\\\\Default.gdb\\\\FA_D8_lidbr', 'C:\\\\Workspace\\\\Geodata\\\\Cran_Q_C\\\\Default.gdb\\\\FA_D8_lidb', 'C:\\\\Workspace\\\\Geodata\\\\Cran_Q_C\\\\Default.gdb\\\\FA_D8_lidbc', 'C:\\\\Workspace\\\\Geodata\\\\Cran_Q_C\\\\Default.gdb\\\\FA_D8_lidbcr', 'C:\\\\Workspace\\\\Geodata\\\\Cran_Q_C\\\\Default.gdb\\\\FA_D8_gwebr', 'C:\\\\Workspace\\\\Geodata\\\\Cran_Q_C\\\\Default.gdb\\\\FA_D8_gweb', 'C:\\\\Workspace\\\\Geodata\\\\Cran_Q_C\\\\Default.gdb\\\\FA_D8_gwebc', 'C:\\\\Workspace\\\\Geodata\\\\Cran_Q_C\\\\Default.gdb\\\\FA_D8_gwebcr', 'C:\\\\Workspace\\\\Geodata\\\\Cran_Q_C\\\\Default.gdb\\\\FA_D8_gweblidbk1', 'C:\\\\Workspace\\\\Geodata\\\\Cran_Q_C\\\\Default.gdb\\\\FA_D8_gwebclidbck1', 'C:\\\\Workspace\\\\Geodata\\\\Cran_Q_C\\\\Default.gdb\\\\FA_D8_gweblidbk5', 'C:\\\\Workspace\\\\Geodata\\\\Cran_Q_C\\\\Default.gdb\\\\FA_D8_gwebrlidbrk1', 'C:\\\\Workspace\\\\Geodata\\\\Cran_Q_C\\\\Default.gdb\\\\FA_D8_gwebcrlidbcrk1', 'C:\\\\Workspace\\\\Geodata\\\\Cran_Q_C\\\\Default.gdb\\\\FA_D8_gwebrlidbrk5', 'C:\\\\Workspace\\\\Geodata\\\\Cran_Q_C\\\\Default.gdb\\\\FA_D8_gwebcrlidbcrk5', 'C:\\\\Workspace\\\\Geodata\\\\Cran_Q_C\\\\Default.gdb\\\\FA_D8_gweblidbk1_lid1', 'C:\\\\Workspace\\\\Geodata\\\\Cran_Q_C\\\\Default.gdb\\\\FA_D8_gweblidbk1_lid0', 'C:\\\\Workspace\\\\Geodata\\\\Cran_Q_C\\\\Default.gdb\\\\FA_D8_gweblidbk5_lid1', 'C:\\\\Workspace\\\\Geodata\\\\Cran_Q_C\\\\Default.gdb\\\\FA_D8_gweblidbk5_lid0', 'C:\\\\Workspace\\\\Geodata\\\\Cran_Q_C\\\\Default.gdb\\\\FA_D8_gwelidr1', 'C:\\\\Workspace\\\\Geodata\\\\Cran_Q_C\\\\Default.gdb\\\\FA_D8_gwelidr0', 'C:\\\\Workspace\\\\Geodata\\\\Cran_Q_C\\\\Default.gdb\\\\FA_D8_gwelid1', 'C:\\\\Workspace\\\\Geodata\\\\Cran_Q_C\\\\Default.gdb\\\\FA_D8_gwelid0']\n"
     ]
    }
   ],
   "source": [
    "names = [\"FA_D8_gwe_f\",\n",
    "         \"FA_D8_gwe_bf\",\n",
    "         \"FA_D8_gwe_bf_lt1m\",\n",
    "         #\"FA_MFD_gwe_f\",\n",
    "         \"FA_MFD_gwe_bf\",\n",
    "         #\"FA_MFD_gwe_bf_lt1m\",\n",
    "         #\"FA_Dinf_gwe_f\",\n",
    "         \"FA_Dinf_gwe_bf\",\n",
    "         #\"FA_Dinf_gwe_bf_lt1m\",\n",
    "         # 08/24/2024\n",
    "         \"FA_D8_gwe_lid_lt1m\",\n",
    "         \"FA_D8_gwe_lid_lt0m\",\n",
    "         # 08/28/24\n",
    "         # 08/29/24\n",
    "\"FA_D8_lidbr\", #lid - burn_flowline_raw\n",
    "\"FA_D8_lidb\", #lid - burn_flowline\n",
    "\"FA_D8_lidbc\", #lid - burn_combined\n",
    "\"FA_D8_lidbcr\", #lid - burn_combined\n",
    "\"FA_D8_gwebr\", #gwe - burn_flowline_raw\n",
    "\"FA_D8_gweb\", #gwe - burn_flowline\n",
    "\"FA_D8_gwebc\", #gwe - burn_combined\n",
    "\"FA_D8_gwebcr\", #gwe - burn_combined_raw\n",
    "\"FA_D8_gweblidbk1\", #gweb*(1-0.01) + lidb*0.01\n",
    "\"FA_D8_gwebclidbck1\", #gwebc*(1-0.01) + lidbc*0.01\n",
    "\"FA_D8_gweblidbk5\", #gweb*(1-0.05) + lidb*0.05\n",
    "\"FA_D8_gwebrlidbrk1\", #gwebr*(1-0.01) + lidbr*0.01\n",
    "\"FA_D8_gwebcrlidbcrk1\", #gwebcr*(1-0.01) + lidbcr*0.01\n",
    "\"FA_D8_gwebrlidbrk5\", #gwebr*(1-0.05) + lidbr*0.05\n",
    "\"FA_D8_gwebcrlidbcrk5\", #gwebcr*(1-0.05) + lidbcr*0.05\n",
    "\"FA_D8_gweblidbk1_lid1\", #(gweblidbk1 + 1)*gwd_ge1 + lidb*gwd_lt1 - 1 - burn_flowline\n",
    "\"FA_D8_gweblidbk1_lid0\", #(gweblidbk1 + 0)*gwd_ge1 + lidb*gwd_lt0 - 0 - burn_flowline\n",
    "\"FA_D8_gweblidbk5_lid1\", #(gweblidbk5 + 1)*gwd_ge1 + lidb*gwd_lt1 - 1 - burn_flowline\n",
    "\"FA_D8_gweblidbk5_lid0\", #(gweblidbk5 + 0)*gwd_ge1 + lidb*gwd_lt0 - 0 - burn_flowline\n",
    "\"FA_D8_gwelidr1\", #(gwebr + 1)*gwd_ge1 + lidbr*gwd_lt1 - 1 - burn_flowline\n",
    "\"FA_D8_gwelidr0\", #(gwebr + 0)*gwd_ge0 + lidbr*gwd_lt0 - 0 - burn_flowline\n",
    "\"FA_D8_gwelid1\", #(gweb + 1)*gwd_ge1 + lidb*gwd_lt1 - 1 - burn_flowline\n",
    "\"FA_D8_gwelid0\", #(gweb + 0)*gwd_ge0 + lidb*gwd_lt0 - 0 - burn_flowline\n",
    "        ]\n",
    "files = [os.path.join(gdb_default_path,n) for n in names]\n",
    "print(files)"
   ]
  },
  {
   "cell_type": "code",
   "execution_count": 57,
   "id": "7dda46e3",
   "metadata": {},
   "outputs": [],
   "source": [
    "in_feat = \"df_Q_bogs_streams_XY_buffer150m\"\n",
    "for i in range(len(files)):\n",
    "    out_raster = arcpy.ia.ZonalStatistics(\n",
    "        in_zone_data=in_feat,\n",
    "        zone_field=\"OBJECTID\",\n",
    "        in_value_raster=files[i],\n",
    "        statistics_type=\"MAXIMUM\",\n",
    "        ignore_nodata=\"DATA\",\n",
    "        process_as_multidimensional=\"CURRENT_SLICE\",\n",
    "        percentile_value=90,\n",
    "        percentile_interpolation_type=\"AUTO_DETECT\",\n",
    "        circular_calculation=\"ARITHMETIC\",\n",
    "        circular_wrap_value=360)\n",
    "    out_rast_name = \"ZS_MAX_verify_\"+names[i]\n",
    "    out_raster.save(out_rast_name)\n",
    "    "
   ]
  },
  {
   "cell_type": "code",
   "execution_count": 58,
   "id": "460b8ef1",
   "metadata": {},
   "outputs": [
    {
     "name": "stdout",
     "output_type": "stream",
     "text": [
      "C:\\Workspace\\Geodata\\Cran_Q_C\\Default.gdb\\ZS_MAX_verify_FA_D8_gwe_f ZS_MAX_verify_FA_D8_gwe_f;C:\\Workspace\\Geodata\\Cran_Q_C\\Default.gdb\\ZS_MAX_verify_FA_D8_gwe_bf ZS_MAX_verify_FA_D8_gwe_bf;C:\\Workspace\\Geodata\\Cran_Q_C\\Default.gdb\\ZS_MAX_verify_FA_D8_gwe_bf_lt1m ZS_MAX_verify_FA_D8_gwe_bf_lt1m;C:\\Workspace\\Geodata\\Cran_Q_C\\Default.gdb\\ZS_MAX_verify_FA_MFD_gwe_bf ZS_MAX_verify_FA_MFD_gwe_bf;C:\\Workspace\\Geodata\\Cran_Q_C\\Default.gdb\\ZS_MAX_verify_FA_Dinf_gwe_bf ZS_MAX_verify_FA_Dinf_gwe_bf;C:\\Workspace\\Geodata\\Cran_Q_C\\Default.gdb\\ZS_MAX_verify_FA_D8_gwe_lid_lt1m ZS_MAX_verify_FA_D8_gwe_lid_lt1m;C:\\Workspace\\Geodata\\Cran_Q_C\\Default.gdb\\ZS_MAX_verify_FA_D8_gwe_lid_lt0m ZS_MAX_verify_FA_D8_gwe_lid_lt0m;C:\\Workspace\\Geodata\\Cran_Q_C\\Default.gdb\\ZS_MAX_verify_FA_D8_lidbr ZS_MAX_verify_FA_D8_lidbr;C:\\Workspace\\Geodata\\Cran_Q_C\\Default.gdb\\ZS_MAX_verify_FA_D8_lidb ZS_MAX_verify_FA_D8_lidb;C:\\Workspace\\Geodata\\Cran_Q_C\\Default.gdb\\ZS_MAX_verify_FA_D8_lidbc ZS_MAX_verify_FA_D8_lidbc;C:\\Workspace\\Geodata\\Cran_Q_C\\Default.gdb\\ZS_MAX_verify_FA_D8_lidbcr ZS_MAX_verify_FA_D8_lidbcr;C:\\Workspace\\Geodata\\Cran_Q_C\\Default.gdb\\ZS_MAX_verify_FA_D8_gwebr ZS_MAX_verify_FA_D8_gwebr;C:\\Workspace\\Geodata\\Cran_Q_C\\Default.gdb\\ZS_MAX_verify_FA_D8_gweb ZS_MAX_verify_FA_D8_gweb;C:\\Workspace\\Geodata\\Cran_Q_C\\Default.gdb\\ZS_MAX_verify_FA_D8_gwebc ZS_MAX_verify_FA_D8_gwebc;C:\\Workspace\\Geodata\\Cran_Q_C\\Default.gdb\\ZS_MAX_verify_FA_D8_gwebcr ZS_MAX_verify_FA_D8_gwebcr;C:\\Workspace\\Geodata\\Cran_Q_C\\Default.gdb\\ZS_MAX_verify_FA_D8_gweblidbk1 ZS_MAX_verify_FA_D8_gweblidbk1;C:\\Workspace\\Geodata\\Cran_Q_C\\Default.gdb\\ZS_MAX_verify_FA_D8_gwebclidbck1 ZS_MAX_verify_FA_D8_gwebclidbck1;C:\\Workspace\\Geodata\\Cran_Q_C\\Default.gdb\\ZS_MAX_verify_FA_D8_gweblidbk5 ZS_MAX_verify_FA_D8_gweblidbk5;C:\\Workspace\\Geodata\\Cran_Q_C\\Default.gdb\\ZS_MAX_verify_FA_D8_gwebrlidbrk1 ZS_MAX_verify_FA_D8_gwebrlidbrk1;C:\\Workspace\\Geodata\\Cran_Q_C\\Default.gdb\\ZS_MAX_verify_FA_D8_gwebcrlidbcrk1 ZS_MAX_verify_FA_D8_gwebcrlidbcrk1;C:\\Workspace\\Geodata\\Cran_Q_C\\Default.gdb\\ZS_MAX_verify_FA_D8_gwebrlidbrk5 ZS_MAX_verify_FA_D8_gwebrlidbrk5;C:\\Workspace\\Geodata\\Cran_Q_C\\Default.gdb\\ZS_MAX_verify_FA_D8_gwebcrlidbcrk5 ZS_MAX_verify_FA_D8_gwebcrlidbcrk5;C:\\Workspace\\Geodata\\Cran_Q_C\\Default.gdb\\ZS_MAX_verify_FA_D8_gweblidbk1_lid1 ZS_MAX_verify_FA_D8_gweblidbk1_lid1;C:\\Workspace\\Geodata\\Cran_Q_C\\Default.gdb\\ZS_MAX_verify_FA_D8_gweblidbk1_lid0 ZS_MAX_verify_FA_D8_gweblidbk1_lid0;C:\\Workspace\\Geodata\\Cran_Q_C\\Default.gdb\\ZS_MAX_verify_FA_D8_gweblidbk5_lid1 ZS_MAX_verify_FA_D8_gweblidbk5_lid1;C:\\Workspace\\Geodata\\Cran_Q_C\\Default.gdb\\ZS_MAX_verify_FA_D8_gweblidbk5_lid0 ZS_MAX_verify_FA_D8_gweblidbk5_lid0;C:\\Workspace\\Geodata\\Cran_Q_C\\Default.gdb\\ZS_MAX_verify_FA_D8_gwelidr1 ZS_MAX_verify_FA_D8_gwelidr1;C:\\Workspace\\Geodata\\Cran_Q_C\\Default.gdb\\ZS_MAX_verify_FA_D8_gwelidr0 ZS_MAX_verify_FA_D8_gwelidr0;C:\\Workspace\\Geodata\\Cran_Q_C\\Default.gdb\\ZS_MAX_verify_FA_D8_gwelid1 ZS_MAX_verify_FA_D8_gwelid1;C:\\Workspace\\Geodata\\Cran_Q_C\\Default.gdb\\ZS_MAX_verify_FA_D8_gwelid0 ZS_MAX_verify_FA_D8_gwelid0\n"
     ]
    }
   ],
   "source": [
    "# generate string of rasters to \n",
    "\n",
    "long_names = [\"ZS_MAX_verify_\"+n for n in names]\n",
    "long_names\n",
    "_ = [\"{} {}\".format(os.path.join(gdb_default_path,n),n) for n in long_names]\n",
    "in_rasters = \";\".join(_)\n",
    "print(in_rasters)"
   ]
  },
  {
   "cell_type": "code",
   "execution_count": 59,
   "id": "fd680f88",
   "metadata": {},
   "outputs": [
    {
     "data": {
      "text/html": [
       "<div class='gpresult'><h2>Messages</h2><div id='messages' data-messages='[\"Start Time: Wednesday, September 4, 2024 7:46:29 PM\",\"Succeeded at Wednesday, September 4, 2024 7:46:46 PM (Elapsed Time: 17.05 seconds)\"]' data-show='true'><div id = 'default' /></div></div>"
      ],
      "text/plain": [
       "<geoprocessing server result object object at 0x000002926F0C92A0>"
      ]
     },
     "execution_count": 59,
     "metadata": {},
     "output_type": "execute_result"
    }
   ],
   "source": [
    "arcpy.sa.ExtractMultiValuesToPoints(\n",
    "    in_point_features=points,\n",
    "    in_rasters=in_rasters,\n",
    "    bilinear_interpolate_values=\"NONE\")"
   ]
  },
  {
   "cell_type": "markdown",
   "id": "aaaf2319",
   "metadata": {},
   "source": [
    "FA = Flow accumulation (number of cells draining to a point)\n",
    "\n",
    "w = width of cell in distance units (10 meters)\n",
    "\n",
    "l = length of cell in distance units (10 meters)\n",
    "\n",
    "A = FA * cell_size^2\n",
    "\n",
    "cell size is the side length of the grid cells\n",
    "\n",
    "A = FA * 100 m^2/cell\n",
    "\n",
    "Q = A * r\n",
    "\n",
    "where r is recharge rate \n",
    "27.25 in/yr \n",
    "\n",
    "m3/d =  27.25 in/yr * 2.54 cm/in * 1/100 m/cm *  1/365.25 yr/d"
   ]
  },
  {
   "cell_type": "code",
   "execution_count": 60,
   "id": "e759a4c6",
   "metadata": {
    "scrolled": true
   },
   "outputs": [
    {
     "name": "stdout",
     "output_type": "stream",
     "text": [
      "\u001b[1;31mSignature:\u001b[0m \u001b[0mfn_FA_to_Q\u001b[0m\u001b[1;33m(\u001b[0m\u001b[0mrasterpath\u001b[0m\u001b[1;33m=\u001b[0m\u001b[1;32mNone\u001b[0m\u001b[1;33m,\u001b[0m \u001b[0mrecharge_rate_in_yr\u001b[0m\u001b[1;33m=\u001b[0m\u001b[1;36m27.25\u001b[0m\u001b[1;33m)\u001b[0m\u001b[1;33m\u001b[0m\u001b[1;33m\u001b[0m\u001b[0m\n",
      "\u001b[1;31mDocstring:\u001b[0m <no docstring>\n",
      "\u001b[1;31mSource:\u001b[0m   \n",
      "\u001b[1;32mdef\u001b[0m \u001b[0mfn_FA_to_Q\u001b[0m \u001b[1;33m(\u001b[0m\u001b[0mrasterpath\u001b[0m\u001b[1;33m=\u001b[0m\u001b[1;32mNone\u001b[0m\u001b[1;33m,\u001b[0m\u001b[0mrecharge_rate_in_yr\u001b[0m \u001b[1;33m=\u001b[0m \u001b[1;36m27.25\u001b[0m\u001b[1;33m)\u001b[0m\u001b[1;33m:\u001b[0m\u001b[1;33m\n",
      "\u001b[0m    \u001b[0m_\u001b[0m \u001b[1;33m=\u001b[0m \u001b[0marcpy\u001b[0m\u001b[1;33m.\u001b[0m\u001b[0mGetRasterProperties_management\u001b[0m\u001b[1;33m(\u001b[0m\u001b[0mrasterpath\u001b[0m\u001b[1;33m,\u001b[0m \u001b[1;34m\"CELLSIZEX\"\u001b[0m\u001b[1;33m)\u001b[0m\u001b[1;33m\n",
      "\u001b[0m    \u001b[1;31m#Get the elevation standard deviation value from geoprocessing result object\u001b[0m\u001b[1;33m\n",
      "\u001b[0m    \u001b[0mcellsize_x\u001b[0m \u001b[1;33m=\u001b[0m \u001b[0m_\u001b[0m\u001b[1;33m.\u001b[0m\u001b[0mgetOutput\u001b[0m\u001b[1;33m(\u001b[0m\u001b[1;36m0\u001b[0m\u001b[1;33m)\u001b[0m\u001b[1;33m\n",
      "\u001b[0m    \u001b[0m_\u001b[0m \u001b[1;33m=\u001b[0m \u001b[0marcpy\u001b[0m\u001b[1;33m.\u001b[0m\u001b[0mGetRasterProperties_management\u001b[0m\u001b[1;33m(\u001b[0m\u001b[0mrasterpath\u001b[0m\u001b[1;33m,\u001b[0m \u001b[1;34m\"CELLSIZEY\"\u001b[0m\u001b[1;33m)\u001b[0m\u001b[1;33m\n",
      "\u001b[0m    \u001b[0mcellsize_y\u001b[0m \u001b[1;33m=\u001b[0m \u001b[0m_\u001b[0m\u001b[1;33m.\u001b[0m\u001b[0mgetOutput\u001b[0m\u001b[1;33m(\u001b[0m\u001b[1;36m0\u001b[0m\u001b[1;33m)\u001b[0m\u001b[1;33m\n",
      "\u001b[0m    \u001b[1;31m# calculate cell area in meters\u001b[0m\u001b[1;33m\n",
      "\u001b[0m    \u001b[0mcell_area_meters\u001b[0m \u001b[1;33m=\u001b[0m \u001b[0mfloat\u001b[0m\u001b[1;33m(\u001b[0m\u001b[0mcellsize_x\u001b[0m\u001b[1;33m)\u001b[0m \u001b[1;33m*\u001b[0m \u001b[0mfloat\u001b[0m\u001b[1;33m(\u001b[0m\u001b[0mcellsize_y\u001b[0m\u001b[1;33m)\u001b[0m\u001b[1;33m\n",
      "\u001b[0m    \u001b[0mprint\u001b[0m\u001b[1;33m(\u001b[0m\u001b[1;34m\"cell area {} square meters\"\u001b[0m\u001b[1;33m.\u001b[0m\u001b[0mformat\u001b[0m\u001b[1;33m(\u001b[0m\u001b[0mcell_area_meters\u001b[0m\u001b[1;33m)\u001b[0m\u001b[1;33m)\u001b[0m\u001b[1;33m\n",
      "\u001b[0m    \u001b[0mFA_to_Q\u001b[0m \u001b[1;33m=\u001b[0m \u001b[0mcell_area_meters\u001b[0m \u001b[1;33m*\u001b[0m \u001b[0mrecharge_rate_in_yr\u001b[0m \u001b[1;33m*\u001b[0m \u001b[1;36m2.54\u001b[0m \u001b[1;33m*\u001b[0m \u001b[1;33m(\u001b[0m\u001b[1;36m1\u001b[0m\u001b[1;33m/\u001b[0m\u001b[1;36m100\u001b[0m\u001b[1;33m)\u001b[0m \u001b[1;33m*\u001b[0m \u001b[1;33m(\u001b[0m\u001b[1;36m1\u001b[0m\u001b[1;33m/\u001b[0m\u001b[1;36m365.25\u001b[0m\u001b[1;33m)\u001b[0m\u001b[1;33m\n",
      "\u001b[0m    \u001b[0mprint\u001b[0m\u001b[1;33m(\u001b[0m\u001b[1;34m\"FA_to_Q = {} m3/d per cell\"\u001b[0m\u001b[1;33m.\u001b[0m\u001b[0mformat\u001b[0m\u001b[1;33m(\u001b[0m\u001b[0mFA_to_Q\u001b[0m\u001b[1;33m)\u001b[0m\u001b[1;33m)\u001b[0m\u001b[1;33m\n",
      "\u001b[0m    \u001b[1;32mreturn\u001b[0m\u001b[1;33m(\u001b[0m\u001b[0mFA_to_Q\u001b[0m\u001b[1;33m)\u001b[0m\u001b[1;33m\u001b[0m\u001b[1;33m\u001b[0m\u001b[0m\n",
      "\u001b[1;31mFile:\u001b[0m      c:\\windows\\system32\\<ipython-input-1-ca1a1ecab51d>\n",
      "\u001b[1;31mType:\u001b[0m      function\n"
     ]
    }
   ],
   "source": [
    "??fn_FA_to_Q"
   ]
  },
  {
   "cell_type": "code",
   "execution_count": 61,
   "id": "8a1585ac",
   "metadata": {},
   "outputs": [
    {
     "name": "stdout",
     "output_type": "stream",
     "text": [
      "cell area 100.0 square meters\n",
      "FA_to_Q = 0.1895003422313484 m3/d per cell\n"
     ]
    },
    {
     "data": {
      "text/plain": [
       "0.1895003422313484"
      ]
     },
     "execution_count": 61,
     "metadata": {},
     "output_type": "execute_result"
    }
   ],
   "source": [
    "fn_FA_to_Q(rasterpath=os.path.join(gdb_default_path,\"FA_D8_gwe_bf\"))"
   ]
  },
  {
   "cell_type": "code",
   "execution_count": 62,
   "id": "0f64a83f",
   "metadata": {},
   "outputs": [
    {
     "data": {
      "text/html": [
       "<div class='gpresult'><h2>Messages</h2><div id='messages' data-messages='[\"Start Time: Wednesday, September 4, 2024 7:46:47 PM\",\"Succeeded at Wednesday, September 4, 2024 7:46:47 PM (Elapsed Time: 0.09 seconds)\"]' data-show='true'><div id = 'default' /></div></div>"
      ],
      "text/plain": [
       "<Result 'df_Q_bogs_streams_XYTableToP2'>"
      ]
     },
     "execution_count": 62,
     "metadata": {},
     "output_type": "execute_result"
    }
   ],
   "source": [
    "# calculate flow for all flow accumulation layers\n",
    "# r\"C:\\Workspace\\Geodata\\Verify_Discharge\\Verify_Discharge.gdb\\bogs_points\"\n",
    "rgx = \"ZS_MAX_verify_(.*)\"\n",
    "table_name = points\n",
    "in_table = os.path.join(gdb_default_path,table_name)\n",
    "arcpy.management.SelectLayerByAttribute(\n",
    "        in_layer_or_view=in_table,\n",
    "        selection_type=\"CLEAR_SELECTION\")"
   ]
  },
  {
   "cell_type": "code",
   "execution_count": 64,
   "id": "337c10da",
   "metadata": {},
   "outputs": [],
   "source": [
    "%%capture \n",
    "# supress outputs\n",
    "import warnings\n",
    "with warnings.catch_warnings():\n",
    "    warnings.simplefilter('ignore')\n",
    "    for long_name in long_names:\n",
    "        print(long_name)\n",
    "        FA_to_Q = fn_FA_to_Q(rasterpath=os.path.join(gdb_default_path,long_name))\n",
    "        _ = re.search(rgx,long_name)\n",
    "        short_name = re.sub(\"FA\",\"\",re.sub(\"_\",\"\",_[1]))\n",
    "        print(short_name)\n",
    "        arcpy.management.SelectLayerByAttribute(\n",
    "            in_layer_or_view=in_table,\n",
    "            selection_type=\"NEW_SELECTION\",\n",
    "            where_clause=\"{} IS NOT NULL\".format(long_name))\n",
    "        arcpy.management.CalculateField(\n",
    "            in_table=in_table,\n",
    "            field=\"Q_m3d_{}\".format(short_name),\n",
    "            expression=\"!{}!*{}\".format(long_name,FA_to_Q),\n",
    "            expression_type=\"PYTHON3\",\n",
    "            code_block=\"\",\n",
    "            field_type=\"DOUBLE\",\n",
    "            enforce_domains=\"NO_ENFORCE_DOMAINS\")\n",
    "        arcpy.management.SelectLayerByAttribute(\n",
    "            in_layer_or_view=in_table,\n",
    "            selection_type=\"CLEAR_SELECTION\")"
   ]
  },
  {
   "cell_type": "code",
   "execution_count": 66,
   "id": "c78bd6be",
   "metadata": {},
   "outputs": [
    {
     "name": "stdout",
     "output_type": "stream",
     "text": [
      "['C:\\\\Workspace\\\\Geodata\\\\Cran_Q_C\\\\Default.gdb\\\\EBK_NO3_p25', 'C:\\\\Workspace\\\\Geodata\\\\Cran_Q_C\\\\Default.gdb\\\\EBK_NO3_p50', 'C:\\\\Workspace\\\\Geodata\\\\Cran_Q_C\\\\Default.gdb\\\\EBK_NO3_p75', 'C:\\\\Workspace\\\\Geodata\\\\Cran_Q_C\\\\Default.gdb\\\\EBK_TN_p25', 'C:\\\\Workspace\\\\Geodata\\\\Cran_Q_C\\\\Default.gdb\\\\EBK_TN_p50', 'C:\\\\Workspace\\\\Geodata\\\\Cran_Q_C\\\\Default.gdb\\\\EBK_TN_p75']\n"
     ]
    }
   ],
   "source": [
    "names = [\"EBK_NO3_p25\",\n",
    "         \"EBK_NO3_p50\",\n",
    "         \"EBK_NO3_p75\",\n",
    "         \"EBK_TN_p25\",\n",
    "         \"EBK_TN_p50\",\n",
    "         \"EBK_TN_p75\",]\n",
    "files = [os.path.join(gdb_default_path,n) for n in names]\n",
    "print(files)"
   ]
  },
  {
   "cell_type": "code",
   "execution_count": 67,
   "id": "28b05e07",
   "metadata": {},
   "outputs": [
    {
     "data": {
      "text/html": [
       "<div class='gpresult'><h2>Messages</h2><div id='messages' data-messages='[\"Start Time: Wednesday, September 4, 2024 7:48:47 PM\",\"Succeeded at Wednesday, September 4, 2024 7:48:50 PM (Elapsed Time: 2.21 seconds)\"]' data-show='true'><div id = 'default' /></div></div>"
      ],
      "text/plain": [
       "<geoprocessing server result object object at 0x00000292856B2540>"
      ]
     },
     "execution_count": 67,
     "metadata": {},
     "output_type": "execute_result"
    }
   ],
   "source": [
    "arcpy.sa.ExtractMultiValuesToPoints(\n",
    "    in_point_features=points,\n",
    "    in_rasters=files,\n",
    "    bilinear_interpolate_values=\"NONE\")"
   ]
  },
  {
   "cell_type": "code",
   "execution_count": 68,
   "id": "d6bbb4f1",
   "metadata": {
    "scrolled": true
   },
   "outputs": [
    {
     "name": "stdout",
     "output_type": "stream",
     "text": [
      "df_Q_bogs_streams_XYTableToPoint_edit_extract_Q_C\n"
     ]
    }
   ],
   "source": [
    "print(points)"
   ]
  },
  {
   "cell_type": "code",
   "execution_count": 69,
   "id": "993f0e1e",
   "metadata": {},
   "outputs": [
    {
     "data": {
      "text/html": [
       "<div class='gpresult'><h2>Messages</h2><div id='messages' data-messages='[\"Start Time: Wednesday, September 4, 2024 7:48:50 PM\",\"Succeeded at Wednesday, September 4, 2024 7:48:52 PM (Elapsed Time: 2.23 seconds)\"]' data-show='true'><div id = 'default' /></div></div>"
      ],
      "text/plain": [
       "<Result 'C:\\\\Workspace\\\\Geodata\\\\Cran_Q_C\\\\outputs\\\\df_Q_bogs_streams_XYTableToPoint_edit_extract_Q_C.xls'>"
      ]
     },
     "execution_count": 69,
     "metadata": {},
     "output_type": "execute_result"
    }
   ],
   "source": [
    "arcpy.conversion.TableToExcel(\n",
    "    Input_Table=points,\n",
    "    Output_Excel_File=os.path.join(r\"C:\\Workspace\\Geodata\\Cran_Q_C\\outputs\",points+\".xls\"),\n",
    "    Use_field_alias_as_column_header=\"NAME\",\n",
    "    Use_domain_and_subtype_description=\"CODE\")"
   ]
  },
  {
   "cell_type": "markdown",
   "id": "63d8ea73",
   "metadata": {},
   "source": [
    "# Appendix \n",
    "\n",
    "unused code\n",
    "\n",
    "## Delineate watersheds"
   ]
  },
  {
   "cell_type": "raw",
   "id": "95a8bb5c",
   "metadata": {},
   "source": [
    "with arcpy.EnvManager(scratchWorkspace=r\"c:\\workspace\\Geodata\\Cran_Q_C\\Default.gdb\"):\n",
    "    output_raster = arcpy.ia.RasterCalculator(\n",
    "        expression=r' \"ZS_MAX_verify_FA_D8_gwe_bf\" == \"C:\\Workspace\\Geodata\\Cran_Q_C\\Default.gdb\\FA_D8_gwe_bf\"'\n",
    "    )\n",
    "    output_raster.save(r\"c:\\workspace\\Geodata\\Cran_Q_C\\Default.gdb\\zs_Q_bogs_streams_pour_point_rast\")"
   ]
  },
  {
   "cell_type": "raw",
   "id": "88313741",
   "metadata": {},
   "source": [
    "# convert non matching values to null then save new layer. \n",
    "inras = 'zs_Q_bogs_streams_pour_point_rast'\n",
    "x = arcpy.sa.SetNull(inras, inras,'Value=0')\n",
    "x.save(inras+\"_NULL\")"
   ]
  },
  {
   "cell_type": "raw",
   "id": "97ee7eb4",
   "metadata": {},
   "source": [
    "inras = 'zs_Q_bogs_streams_pour_point_rast'\n",
    "# convert to point\n",
    "arcpy.conversion.RasterToPoint(\n",
    "    in_raster=inras+\"_NULL\",\n",
    "    out_point_features=r\"C:\\Workspace\\Geodata\\Cran_Q_C\\Default.gdb\\pour_points_Q_bogs_streams\",\n",
    "    raster_field=\"Value\"\n",
    ")"
   ]
  },
  {
   "cell_type": "raw",
   "id": "f4e7f31a",
   "metadata": {},
   "source": [
    "with arcpy.EnvManager(scratchWorkspace=r\"C:\\Workspace\\Geodata\\Cran_Q_C\\Default.gdb\"):\n",
    "    out_raster = arcpy.sa.Watershed(\n",
    "        in_flow_direction_raster=r\"C:\\Workspace\\Geodata\\Cran_Q_C\\Default.gdb\\D8_gwe_bf\",\n",
    "        in_pour_point_data=\"pour_points_Q_bogs_streams\",\n",
    "        pour_point_field=\"pointid\"\n",
    "    )\n",
    "    out_raster.save(r\"C:\\Workspace\\Geodata\\Cran_Q_C\\Default.gdb\\watershed_D8_gwe_bf_Q_bogs_streams\")"
   ]
  },
  {
   "cell_type": "raw",
   "id": "1d6720f3",
   "metadata": {},
   "source": [
    "arcpy.conversion.RasterToPolygon(\n",
    "    in_raster=\"watershed_D8_gwe_bf_Q_bogs_streams\",\n",
    "    out_polygon_features=r\"C:\\Workspace\\Geodata\\Cran_Q_C\\Default.gdb\\watersheds_Q_bogs_streams\",\n",
    "    simplify=\"NO_SIMPLIFY\",\n",
    "    raster_field=\"OBJECTID\",\n",
    "    create_multipart_features=\"SINGLE_OUTER_PART\",\n",
    "    max_vertices_per_feature=None\n",
    ")"
   ]
  }
 ],
 "metadata": {
  "kernelspec": {
   "display_name": "ArcGISPro",
   "language": "python",
   "name": "python3"
  },
  "language_info": {
   "file_extension": ".py",
   "mimetype": "text/x-python",
   "name": "python",
   "version": "3.11.10"
  }
 },
 "nbformat": 4,
 "nbformat_minor": 5
}
