{
 "cells": [
  {
   "cell_type": "markdown",
   "metadata": {},
   "source": [
    "## Metadata"
   ]
  },
  {
   "cell_type": "code",
   "execution_count": null,
   "metadata": {},
   "outputs": [],
   "source": [
    "\n",
    "A place to store useful lines of code"
   ]
  },
  {
   "cell_type": "code",
   "execution_count": 3,
   "metadata": {},
   "outputs": [],
   "source": [
    "## Main Program"
   ]
  },
  {
   "cell_type": "code",
   "execution_count": null,
   "metadata": {},
   "outputs": [],
   "source": [
    "# 1. Clip Lidar\n",
    "_i = r\"C:\\Workspace\\Geodata\\Massachusetts\\LiDAR_DEM\\LiDAR_DEM.gdb\\LiDAR_DEM_INT_16bit\"\n",
    "mask = r\"C:\\Workspace\\Geodata\\MEP\\outputs\\DWMWPP_WATERSHEDS_SE.shp\"\n",
    "_o = r\"C:\\Workspace\\Geodata\\MEP\\Default.gdb\\LidExtr\"\n",
    "out_raster = arcpy.sa.ExtractByMask(\n",
    "    in_raster=_i\n",
    "    in_mask_data=\"DWMWPP_WATERSHEDS_SE\",\n",
    "    extraction_area=\"INSIDE\",\n",
    "    analysis_extent='-7945684.04575117 5047354.31786836 -7782812.89626286 5200955.98507201 PROJCS[\"WGS_1984_Web_Mercator_Auxiliary_Sphere\",GEOGCS[\"GCS_WGS_1984\",DATUM[\"D_WGS_1984\",SPHEROID[\"WGS_1984\",6378137.0,298.257223563]],PRIMEM[\"Greenwich\",0.0],UNIT[\"Degree\",0.0174532925199433]],PROJECTION[\"Mercator_Auxiliary_Sphere\"],PARAMETER[\"False_Easting\",0.0],PARAMETER[\"False_Northing\",0.0],PARAMETER[\"Central_Meridian\",0.0],PARAMETER[\"Standard_Parallel_1\",0.0],PARAMETER[\"Auxiliary_Sphere_Type\",0.0],UNIT[\"Meter\",1.0]]'\n",
    ")\n",
    "out_raster.save(_o)\n",
    "\n",
    "# Aggregate data to 10m resolution using minimum cell value\n",
    "_i = \"LidExtr\"\n",
    "_o = \"LidAg10m\"\n",
    "out_raster = arcpy.sa.Aggregate(\n",
    "    in_raster=_i,\n",
    "    cell_factor=10,\n",
    "    aggregation_type=\"MINIMUM\",\n",
    "    extent_handling=\"EXPAND\",\n",
    "    ignore_nodata=\"DATA\"\n",
    ")\n",
    "out_raster.save(_o)"
   ]
  },
  {
   "cell_type": "code",
   "execution_count": 30,
   "metadata": {
    "scrolled": false
   },
   "outputs": [
    {
     "name": "stdout",
     "output_type": "stream",
     "text": [
      "functions loaded\n"
     ]
    }
   ],
   "source": [
    "%run -i functions.py"
   ]
  },
  {
   "cell_type": "code",
   "execution_count": 31,
   "metadata": {
    "scrolled": true
   },
   "outputs": [
    {
     "name": "stdout",
     "output_type": "stream",
     "text": [
      "hello world\n"
     ]
    }
   ],
   "source": [
    "fn_hello()"
   ]
  },
  {
   "cell_type": "code",
   "execution_count": 38,
   "metadata": {},
   "outputs": [
    {
     "name": "stdout",
     "output_type": "stream",
     "text": [
      "functions loaded\n",
      "hello\n"
     ]
    }
   ],
   "source": [
    "# this sets up a python script\n",
    "import os, sys\n",
    "# Insert the path of modules folder \n",
    "sys.path.append(r\"C:\\Users\\Adrian.Wiegman\\Documents\\GitHub\\Wiegman_USDA_ARS\\MEP\\scripts\")\n",
    "# from functions import *\n",
    "# Import the module0 directly since \n",
    "# the current path is of modules.\n",
    "# there are many ways to import functions https://stackoverflow.com/questions/42163470/how-to-execute-a-py-file-from-a-ipynb-file-on-the-jupyter-notebook\n",
    "\n",
    "%run -m functions\n",
    "\n",
    "\n",
    "fn_hello()"
   ]
  }
 ],
 "metadata": {
  "kernelspec": {
   "display_name": "ArcGISPro",
   "language": "Python",
   "name": "python3"
  },
  "language_info": {
   "file_extension": ".py",
   "name": "python",
   "version": "3"
  }
 },
 "nbformat": 4,
 "nbformat_minor": 2
}
