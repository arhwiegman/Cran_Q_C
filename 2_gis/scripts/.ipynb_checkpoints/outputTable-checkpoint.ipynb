{
 "cells": [
  {
   "cell_type": "code",
   "execution_count": 96,
   "metadata": {
    "scrolled": true
   },
   "outputs": [
    {
     "name": "stdout",
     "output_type": "stream",
     "text": [
      "The autoreload extension is already loaded. To reload it, use:\n",
      "  %reload_ext autoreload\n",
      "***\n",
      "loading python modules...\n",
      "\n",
      "  `module_list` contains names of all loaded modules\n",
      "\n",
      "...module loading complete\n",
      "\n",
      "***\n",
      "loading user defined functions...\n",
      "\n",
      "type `fn_`+TAB to for autocomplete suggestions\n",
      "\n",
      " the object `def_list` contains user defined function names:\n",
      "   fn_get_info\n",
      "   fn_arcgis_table_to_df\n",
      "   fn_arcgis_table_to_np_to_pd_df\n",
      "   fn_run_script_w_propy_bat\n",
      "   fn_try_mkdir\n",
      "   fn_hello\n",
      "   fn_recursive_glob_search\n",
      "   fn_regex_search_replace\n",
      "   fn_regex_search_0\n",
      "   fn_arcpy_table_to_excel\n",
      "   fn_agg_sum_df_on_group\n",
      "   fn_add_prefix_suffix_to_selected_cols\n",
      "   fn_calc_pct_cover_within_groups\n",
      "   fn_buildWhereClauseFromList\n",
      "\n",
      " use ??{insert fn name} to inspect\n",
      " for example running `??fn_get_info` returns:\n",
      "\u001b[1;31mSignature:\u001b[0m \u001b[0mfn_get_info\u001b[0m\u001b[1;33m(\u001b[0m\u001b[0mname\u001b[0m\u001b[1;33m=\u001b[0m\u001b[1;34m'fn_get_info'\u001b[0m\u001b[1;33m)\u001b[0m\u001b[1;33m\u001b[0m\u001b[1;33m\u001b[0m\u001b[0m\n",
      "\u001b[1;31mSource:\u001b[0m   \n",
      "\u001b[1;32mdef\u001b[0m \u001b[0mfn_get_info\u001b[0m\u001b[1;33m(\u001b[0m\u001b[0mname\u001b[0m\u001b[1;33m=\u001b[0m\u001b[1;34m'fn_get_info'\u001b[0m\u001b[1;33m)\u001b[0m\u001b[1;33m:\u001b[0m\u001b[1;33m\n",
      "\u001b[0m    \u001b[1;34m'''\n",
      "    returns the source information about a given function name\n",
      "    '''\u001b[0m\u001b[1;33m\n",
      "\u001b[0m    \u001b[0mget_ipython\u001b[0m\u001b[1;33m(\u001b[0m\u001b[1;33m)\u001b[0m\u001b[1;33m.\u001b[0m\u001b[0mrun_line_magic\u001b[0m\u001b[1;33m(\u001b[0m\u001b[1;34m'pinfo2'\u001b[0m\u001b[1;33m,\u001b[0m \u001b[1;34m'$name'\u001b[0m\u001b[1;33m)\u001b[0m\u001b[1;33m\u001b[0m\u001b[1;33m\u001b[0m\u001b[0m\n",
      "\u001b[1;31mFile:\u001b[0m      c:\\workspace\\geodata\\mep\\<ipython-input-1-28f96385f735>\n",
      "\u001b[1;31mType:\u001b[0m      function\n",
      "\n",
      " you can also use `fn_get_info(name={insert fn name})` to do the same thing as `??{insert fn name}`\n",
      "\n",
      "...function loading complete\n",
      "\n",
      "\n",
      "***\n",
      "setting up arcpy environment...\n",
      "\n",
      " input file directory (`idr`): C:\\Workspace\\Geodata\\Massachusetts\\\n",
      " working directory (`wdr`): C:\\Workspace\\Geodata\\MEP\\\n",
      " default geodatabase path: C:\\Workspace\\Geodata\\MEP\\Default.gdb\n",
      " temp dir (`tdr.name`): C:\\Users\\ADRIAN~1.WIE\\AppData\\Local\\Temp\\ArcGISProTemp27036\\tmplwmhfoia\n",
      " output dir (`odr`): C:\\Workspace\\Geodata\\MEP\\outputs\n",
      " output coordinate system: NAD_1983_UTM_Zone_19N\n",
      "\n",
      "... env setup complete\n",
      "\n",
      "\n",
      "+++SETUP COMPLETE+++\n",
      "\n",
      "\n"
     ]
    }
   ],
   "source": [
    "# iphython options\n",
    "# delete variables in workspace\n",
    "%reset -f\n",
    "#places plots inline\n",
    "%matplotlib inline\n",
    "#automatically reloads modules if they are changed\n",
    "%load_ext autoreload \n",
    "%autoreload 2\n",
    "# this codeblock sets up the environment from jupyter notebooks\n",
    "setup_notebook = \"C:/Users/Adrian.Wiegman/Documents/GitHub/Wiegman_USDA_ARS/MEP/_Setup.ipynb\"\n",
    "%run $setup_notebook # magic command to run the notebook\n",
    "\n",
    "# Create new file geodatabase to store results\n",
    "gdb = \"CCsheds.gdb\"\n",
    "\n",
    "# only run this once\n",
    "#arcpy.management.CreateFileGDB(wdr,gdb)\n",
    "\n",
    "ap.env.workspace = os.path.join(wdr,gdb)"
   ]
  },
  {
   "cell_type": "code",
   "execution_count": 97,
   "metadata": {},
   "outputs": [],
   "source": [
    "eid = \"_230724_160554\"\n",
    "inLyr = r\"C:\\Workspace\\Geodata\\MEP\\gwbogsheds.gdb\\BogPourPoints_Ident\"+eid\n",
    "joinLyr = r\"C:\\Workspace\\Geodata\\MEP\\gwbogsheds.gdb\\bogsheds_select\"+eid\n",
    "\n",
    "\n",
    "# clear selections\n",
    "_ = arcpy.management.SelectLayerByAttribute(\n",
    "    in_layer_or_view=inLyr,\n",
    "    selection_type=\"CLEAR_SELECTION\"\n",
    ")\n",
    "\n",
    "_ = arcpy.management.SelectLayerByAttribute(\n",
    "    in_layer_or_view=joinLyr,\n",
    "    selection_type=\"CLEAR_SELECTION\"\n",
    ")\n",
    "\n",
    "# Store topographic area as variable\n",
    "inFeature = joinLyr\n",
    "fieldName = \"bogshed_m2\"\n",
    "# Create a new field\n",
    "arcpy.management.AddField(inFeature, fieldName, \"DOUBLE\")\n",
    "# Calculate field\n",
    "arcpy.management.CalculateField(inFeature, fieldName, \n",
    "                                \"!Shape_Area!\",\n",
    "                                \"PYTHON3\")\n",
    "\n",
    "# add watershed areas to bog point data layer\n",
    "_ = arcpy.management.JoinField(\n",
    "    in_data=inLyr,\n",
    "    in_field=\"FID_WMAbogsDRAFT2013_copy\",\n",
    "    join_table=joinLyr,\n",
    "    join_field=\"gridcode\",\n",
    "    fields=\"bogshed_m2\",\n",
    "    fm_option=\"NOT_USE_FM\",\n",
    "    field_mapping=None\n",
    ")"
   ]
  },
  {
   "cell_type": "code",
   "execution_count": 98,
   "metadata": {},
   "outputs": [
    {
     "data": {
      "text/html": [
       "<div class='gpresult'><h2>Messages</h2><div id='messages' data-messages='[\"Start Time: Wednesday, July 26, 2023 1:47:10 PM\",\"Reading Features...\",\"Cracking Features...\",\"Assembling Features...\",\"Succeeded at Wednesday, July 26, 2023 1:47:11 PM (Elapsed Time: 0.72 seconds)\"]' data-show='true'><div id = 'default' /></div></div>"
      ],
      "text/plain": [
       "<Result 'C:\\\\Workspace\\\\Geodata\\\\MEP\\\\CCsheds.gdb\\\\BogPourPoints_WS_Ident_230724_160554'>"
      ]
     },
     "execution_count": 98,
     "metadata": {},
     "output_type": "execute_result"
    }
   ],
   "source": [
    "# Join with subembayments table for N loading\n",
    "identLyr = r\"C:\\Workspace\\Geodata\\MEP\\CCsheds.gdb\\Subembayments\"\n",
    "# Store topographic area as variable\n",
    "inFeature = identLyr\n",
    "fieldName = \"subemb_m2\"\n",
    "# Create a new field\n",
    "arcpy.management.AddField(inFeature, fieldName, \"DOUBLE\")\n",
    "# Calculate field\n",
    "arcpy.management.CalculateField(inFeature, fieldName, \n",
    "                                \"!Shape_Area!\",\n",
    "                                \"PYTHON3\")\n",
    "\n",
    "arcpy.analysis.Identity(\n",
    "    in_features=inLyr,\n",
    "    identity_features=identLyr,\n",
    "    out_feature_class=\"BogPourPoints_WS_Ident\"+ymd,\n",
    "    join_attributes=\"ALL\",\n",
    "    cluster_tolerance=None,\n",
    "    relationship=\"NO_RELATIONSHIPS\"\n",
    ")"
   ]
  },
  {
   "cell_type": "code",
   "execution_count": 99,
   "metadata": {},
   "outputs": [
    {
     "data": {
      "text/html": [
       "<div class='gpresult'><h2>Messages</h2><div id='messages' data-messages='[\"Start Time: Wednesday, July 26, 2023 1:47:13 PM\",\"Reading Features...\",\"Cracking Features...\",\"Assembling Features...\",\"Succeeded at Wednesday, July 26, 2023 1:47:13 PM (Elapsed Time: 0.67 seconds)\"]' data-show='true'><div id = 'default' /></div></div>"
      ],
      "text/plain": [
       "<Result 'C:\\\\Workspace\\\\Geodata\\\\MEP\\\\CCsheds.gdb\\\\BogPourPoints_WS_Ident_Marg_230724_160554'>"
      ]
     },
     "execution_count": 99,
     "metadata": {},
     "output_type": "execute_result"
    }
   ],
   "source": [
    "# Join with marginal bogshed\n",
    "identLyr = \"bogsheds_marginal_poly_230724_160554\"\n",
    "# Store topographic area as variable\n",
    "inFeature = identLyr\n",
    "fieldName = \"bogshedmarg_m2\"\n",
    "# Create a new field\n",
    "arcpy.management.AddField(inFeature, fieldName, \"DOUBLE\")\n",
    "# Calculate field\n",
    "arcpy.management.CalculateField(inFeature, fieldName, \n",
    "                                \"!Shape_Area!\",\n",
    "                                \"PYTHON3\")\n",
    "\n",
    "arcpy.analysis.Identity(\n",
    "    in_features=\"BogPourPoints_WS_Ident\"+ymd,\n",
    "    identity_features=identLyr,\n",
    "    out_feature_class=\"BogPourPoints_WS_Ident_Marg\"+ymd,\n",
    "    join_attributes=\"ALL\",\n",
    "    cluster_tolerance=None,\n",
    "    relationship=\"NO_RELATIONSHIPS\"\n",
    ")"
   ]
  },
  {
   "cell_type": "code",
   "execution_count": 100,
   "metadata": {},
   "outputs": [
    {
     "data": {
      "text/html": [
       "<div class='gpresult'><h2>Messages</h2><div id='messages' data-messages='[\"Start Time: Wednesday, July 26, 2023 1:47:14 PM\",\"Succeeded at Wednesday, July 26, 2023 1:47:15 PM (Elapsed Time: 0.68 seconds)\"]' data-show='true'><div id = 'default' /></div></div>"
      ],
      "text/plain": [
       "<Result 'C:\\\\Workspace\\\\Geodata\\\\MEP\\\\CCsheds.gdb\\\\BogPourPoints_Ident_MEP_230724_160554'>"
      ]
     },
     "execution_count": 100,
     "metadata": {},
     "output_type": "execute_result"
    }
   ],
   "source": [
    "inLyr = \"BogPourPoints_WS_Ident_Marg\"+ymd\n",
    "selLyr = \"Embayments\" # select feature\n",
    "outLyr = \"BogPourPoints_Ident_MEP\"+ymd\n",
    "overlap = \"WITHIN\"\n",
    "\n",
    "# Clear the current selection \n",
    "_ = arcpy.management.SelectLayerByAttribute(\n",
    "    in_layer_or_view=inLyr,\n",
    "    selection_type=\"CLEAR_SELECTION\"\n",
    ")\n",
    "\n",
    "# Select all points that fall within with watersheds\n",
    "_ = arcpy.management.SelectLayerByLocation(\n",
    "    in_layer= _,\n",
    "    overlap_type=overlap,\n",
    "    select_features=selLyr,\n",
    "    search_distance=None,\n",
    "    selection_type=\"NEW_SELECTION\",\n",
    "    invert_spatial_relationship=\"NOT_INVERT\"\n",
    ")\n",
    "\n",
    "# Save selection as new feature\n",
    "arcpy.management.CopyFeatures(\n",
    "    in_features=_,\n",
    "    out_feature_class=outLyr)\n"
   ]
  },
  {
   "cell_type": "code",
   "execution_count": 101,
   "metadata": {},
   "outputs": [
    {
     "data": {
      "text/html": [
       "<div class='gpresult'><h2>Messages</h2><div id='messages' data-messages='[\"Start Time: Wednesday, July 26, 2023 1:47:16 PM\",\"Reading Features...\",\"Cracking Features...\",\"Assembling Features...\",\"Succeeded at Wednesday, July 26, 2023 1:47:17 PM (Elapsed Time: 0.72 seconds)\"]' data-show='true'><div id = 'default' /></div></div>"
      ],
      "text/plain": [
       "<Result 'C:\\\\Workspace\\\\Geodata\\\\MEP\\\\CCsheds.gdb\\\\BogPourPoints_Ident_MEP_SUB_230724_160554'>"
      ]
     },
     "execution_count": 101,
     "metadata": {},
     "output_type": "execute_result"
    }
   ],
   "source": [
    "# Store SUBW_AREA as a variable\n",
    "inFeature = \"Embayments\"\n",
    "fieldName = \"embayment_m2\"\n",
    "# Create a new field\n",
    "arcpy.management.AddField(inFeature, fieldName, \"DOUBLE\")\n",
    "# Calculate field\n",
    "arcpy.management.CalculateField(inFeature, fieldName, \n",
    "                                \"!Shape_Area!\",\n",
    "                                \"PYTHON3\")\n",
    "\n",
    "# get MEP subwatershed names for each bog pour point\n",
    "arcpy.analysis.Identity(\n",
    "    in_features=\"BogPourPoints_Ident_MEP\"+ymd,\n",
    "    identity_features=\"Embayments\",\n",
    "    out_feature_class=r\"BogPourPoints_Ident_MEP_SUB\"+ymd,\n",
    "    join_attributes=\"ALL\",\n",
    "    cluster_tolerance=None,\n",
    "    relationship=\"NO_RELATIONSHIPS\"\n",
    ")"
   ]
  },
  {
   "cell_type": "code",
   "execution_count": 102,
   "metadata": {},
   "outputs": [
    {
     "data": {
      "text/html": [
       "<div class='gpresult'><h2>Messages</h2><div id='messages' data-messages='[\"Start Time: Wednesday, July 26, 2023 1:47:18 PM\",\"Succeeded at Wednesday, July 26, 2023 1:47:19 PM (Elapsed Time: 0.97 seconds)\"]' data-show='true'><div id = 'default' /></div></div>"
      ],
      "text/plain": [
       "<geoprocessing server result object object at 0x000001FFD113C540>"
      ]
     },
     "execution_count": 102,
     "metadata": {},
     "output_type": "execute_result"
    }
   ],
   "source": [
    "# Create new feature layer to hold extracts\n",
    "arcpy.management.CopyFeatures(\n",
    "    in_features=\"BogPourPoints_Ident_MEP_SUB\"+ymd,\n",
    "    out_feature_class=\"BogPourPoints_Ident_MEP_SUB_Extr\"+ymd)\n",
    "\n",
    "arcpy.sa.ExtractMultiValuesToPoints(\n",
    "    in_point_features=\"BogPourPoints_Ident_MEP_SUB_Extr\"+ymd,\n",
    "    in_rasters=r\"C:\\Workspace\\Geodata\\MEP\\Default.gdb\\bayes_krig_NO3_Merge_MEP_CCRO_CCWells bayes_krig_NO3_mgl;;C:\\Workspace\\Geodata\\MEP\\Default.gdb\\lidar_le5pct terminus\",\n",
    "    bilinear_interpolate_values=\"NONE\"\n",
    ")"
   ]
  },
  {
   "cell_type": "code",
   "execution_count": 103,
   "metadata": {},
   "outputs": [],
   "source": [
    "# Make a numpy array with the bog FID from Bog Pour Point Identity\n",
    "inFeaturePath = \"BogPourPoints_Ident_MEP_SUB_Extr\"+ymd\n",
    "outTableName = \"{}.xlsx\".format(inFeaturePath)\n",
    "outTablePath = odr\n",
    "fn_arcpy_table_to_excel(inFeaturePath,outTablePath,outTableName)"
   ]
  },
  {
   "cell_type": "code",
   "execution_count": null,
   "metadata": {},
   "outputs": [],
   "source": []
  }
 ],
 "metadata": {
  "kernelspec": {
   "display_name": "ArcGISPro",
   "language": "Python",
   "name": "python3"
  },
  "language_info": {
   "file_extension": ".py",
   "name": "python",
   "version": "3"
  }
 },
 "nbformat": 4,
 "nbformat_minor": 2
}
