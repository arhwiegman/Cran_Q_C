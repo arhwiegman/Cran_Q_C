{
 "cells": [
  {
   "cell_type": "markdown",
   "metadata": {},
   "source": [
    "## Metadata"
   ]
  },
  {
   "cell_type": "markdown",
   "metadata": {},
   "source": [
    "Prepare groundwater \n",
    "\n",
    "Author: Adrian Wiegman\n",
    "\n",
    "Date Modified: 10/31/2023\n",
    "\n",
    "In this notebook I calculate construct a map of groundwater elevation and groundwater depth from modflow simulated water table elevations and lidar surface elevation data. "
   ]
  },
  {
   "cell_type": "markdown",
   "metadata": {},
   "source": [
    "## Setup Environment"
   ]
  },
  {
   "cell_type": "code",
   "execution_count": 112,
   "metadata": {},
   "outputs": [
    {
     "name": "stdout",
     "output_type": "stream",
     "text": [
      "The autoreload extension is already loaded. To reload it, use:\n",
      "  %reload_ext autoreload\n",
      "***\n",
      "loading python modules...\n",
      "\n",
      "  `module_list` contains names of all loaded modules\n",
      "\n",
      "...module loading complete\n",
      "\n",
      "***\n",
      "loading user defined functions...\n",
      "\n",
      "type `fn_`+TAB to for autocomplete suggestions\n",
      "\n",
      " the object `def_list` contains user defined function names:\n",
      "   fn_get_info\n",
      "   fn_arcgis_table_to_df\n",
      "   fn_arcgis_table_to_np_to_pd_df\n",
      "   fn_run_script_w_propy_bat\n",
      "   fn_try_mkdir\n",
      "   fn_hello\n",
      "   fn_recursive_glob_search\n",
      "   fn_regex_search_replace\n",
      "   fn_regex_search_0\n",
      "   fn_arcpy_table_to_excel\n",
      "   fn_agg_sum_df_on_group\n",
      "   fn_add_prefix_suffix_to_selected_cols\n",
      "   fn_calc_pct_cover_within_groups\n",
      "   fn_buildWhereClauseFromList\n",
      "   fn_FA_to_Q\n",
      "\n",
      " use ??{insert fn name} to inspect\n",
      " for example running `??fn_get_info` returns:\n",
      "\u001b[1;31mSignature:\u001b[0m \u001b[0mfn_get_info\u001b[0m\u001b[1;33m(\u001b[0m\u001b[0mname\u001b[0m\u001b[1;33m=\u001b[0m\u001b[1;34m'fn_get_info'\u001b[0m\u001b[1;33m)\u001b[0m\u001b[1;33m\u001b[0m\u001b[1;33m\u001b[0m\u001b[0m\n",
      "\u001b[1;31mSource:\u001b[0m   \n",
      "\u001b[1;32mdef\u001b[0m \u001b[0mfn_get_info\u001b[0m\u001b[1;33m(\u001b[0m\u001b[0mname\u001b[0m\u001b[1;33m=\u001b[0m\u001b[1;34m'fn_get_info'\u001b[0m\u001b[1;33m)\u001b[0m\u001b[1;33m:\u001b[0m\u001b[1;33m\n",
      "\u001b[0m    \u001b[1;34m'''\n",
      "    returns the source information about a given function name\n",
      "    '''\u001b[0m\u001b[1;33m\n",
      "\u001b[0m    \u001b[0mget_ipython\u001b[0m\u001b[1;33m(\u001b[0m\u001b[1;33m)\u001b[0m\u001b[1;33m.\u001b[0m\u001b[0mrun_line_magic\u001b[0m\u001b[1;33m(\u001b[0m\u001b[1;34m'pinfo2'\u001b[0m\u001b[1;33m,\u001b[0m \u001b[1;34m'$name'\u001b[0m\u001b[1;33m)\u001b[0m\u001b[1;33m\u001b[0m\u001b[1;33m\u001b[0m\u001b[0m\n",
      "\u001b[1;31mFile:\u001b[0m      c:\\workspace\\geodata\\cran_q_c\\<ipython-input-1-28f96385f735>\n",
      "\u001b[1;31mType:\u001b[0m      function\n",
      "\n",
      " you can also use `fn_get_info(name={insert fn name})` to do the same thing as `??{insert fn name}`\n",
      "\n",
      "...function loading complete\n",
      "\n",
      "***\n",
      "managing project directories:\n",
      " working directory (`wdr`): C:\\Workspace\\Geodata\\Cran_Q_C\\\n",
      " temp dir (`tdr.name`): C:\\Users\\ADRIAN~1.WIE\\AppData\\Local\\Temp\\ArcGISProTemp8444\\tmp2v_qwh0_\n",
      " input file directory (`idr`): C:\\Workspace\\Geodata\\Cran_Q_C\\inputs\n",
      " output dir (`odr`): C:\\Workspace\\Geodata\\Cran_Q_C\\outputs\n",
      "\n",
      "\n",
      "\n",
      "\n",
      "***\n",
      "setting up arcpy environment...\n",
      "\n",
      " default geodatabase path (`gdb_default_path`): C:\\Workspace\\Geodata\\Cran_Q_C\\Default.gdb\n",
      "active map name\n",
      " output coordinate system: NAD_1983_UTM_Zone_19N\n",
      "\n",
      "... env setup complete\n",
      "\n",
      "\n",
      "+++SETUP COMPLETE+++\n",
      "\n",
      "\n"
     ]
    }
   ],
   "source": [
    "# iphython options\n",
    "# delete variables in workspace\n",
    "%reset -f\n",
    "#places plots inline\n",
    "%matplotlib inline\n",
    "#automatically reloads modules if they are changed\n",
    "%load_ext autoreload \n",
    "%autoreload 2\n",
    "# this codeblock sets up the environment from jupyter notebooks\n",
    "setup_notebook = \"C:/Users/Adrian.Wiegman/Documents/GitHub/Wiegman_USDA_ARS/Cran_Q_C/2_gis/scripts/_Setup.ipynb\"\n",
    "%run $setup_notebook # magic command to run the notebook "
   ]
  },
  {
   "cell_type": "raw",
   "metadata": {
    "scrolled": true
   },
   "source": [
    "# Create new file geodatabase to store results\n",
    "gdb = \"gwdepth.gdb\"\n",
    "# only run this once\n",
    "#if not os.path.exists(os.path.join(wdr,gdb)):\n",
    "#arcpy.management.CreateFileGDB(wdr,gdb)\n",
    "ap.env.workspace = os.path.join(wdr,gdb)"
   ]
  },
  {
   "cell_type": "markdown",
   "metadata": {},
   "source": [
    "## Main Program"
   ]
  },
  {
   "cell_type": "code",
   "execution_count": 63,
   "metadata": {},
   "outputs": [
    {
     "data": {
      "text/html": [
       "<div class='gpresult'><h2>Messages</h2><div id='messages' data-messages='[\"Start Time: Tuesday, October 31, 2023 1:30:36 PM\",\"Reading Features...\",\"Cracking Features...\",\"Assembling Features...\",\"Succeeded at Tuesday, October 31, 2023 1:30:36 PM (Elapsed Time: 0.59 seconds)\"]' data-show='true'><div id = 'default' /></div></div>"
      ],
      "text/plain": [
       "<Result 'C:\\\\Workspace\\\\Geodata\\\\Cran_Q_C\\\\Default.gdb\\\\domain_poly'>"
      ]
     },
     "execution_count": 63,
     "metadata": {},
     "output_type": "execute_result"
    }
   ],
   "source": [
    "### Prepare mask of the study domain\n",
    "# this mask was digitized around the contours of the plymouth carver and cape cod aquifers\n",
    "# it musk be clipped to the land-sea boundary in the NHD dataset\n",
    "in_mask_poly = \"contour_mask_poly\"\n",
    "domain_poly = \"domain_poly\"\n",
    "arcpy.analysis.Clip(\n",
    "    in_features=in_mask_poly,\n",
    "    clip_features=\"NHDPlusLand\",\n",
    "    out_feature_class=domain_poly,\n",
    "    cluster_tolerance=None\n",
    ")"
   ]
  },
  {
   "cell_type": "markdown",
   "metadata": {
    "heading_collapsed": true
   },
   "source": [
    "### Import lidar and clip to boundary of study domain"
   ]
  },
  {
   "cell_type": "code",
   "execution_count": 70,
   "metadata": {
    "hidden": true
   },
   "outputs": [],
   "source": [
    "# 1. Clip Lidar mask\n",
    "_i = r\"C:\\Workspace\\Geodata\\Massachusetts\\LiDAR_DEM\\LiDAR_DEM.gdb\\LiDAR_DEM_INT_16bit\"\n",
    "lid_extract = \"LidExtr\"\n",
    "out_raster = arcpy.sa.ExtractByMask(\n",
    "    in_raster=_i,\n",
    "    in_mask_data=domain_poly,\n",
    "    extraction_area=\"INSIDE\",\n",
    "    analysis_extent='-7887310.09052559 5088195.89905314 -7784053.68062953 5177396.82256636 PROJCS[\"WGS_1984_Web_Mercator_Auxiliary_Sphere\",GEOGCS[\"GCS_WGS_1984\",DATUM[\"D_WGS_1984\",SPHEROID[\"WGS_1984\",6378137.0,298.257223563]],PRIMEM[\"Greenwich\",0.0],UNIT[\"Degree\",0.0174532925199433]],PROJECTION[\"Mercator_Auxiliary_Sphere\"],PARAMETER[\"False_Easting\",0.0],PARAMETER[\"False_Northing\",0.0],PARAMETER[\"Central_Meridian\",0.0],PARAMETER[\"Standard_Parallel_1\",0.0],PARAMETER[\"Auxiliary_Sphere_Type\",0.0],UNIT[\"Meter\",1.0]]'\n",
    ")\n",
    "out_raster.save(_o)"
   ]
  },
  {
   "cell_type": "code",
   "execution_count": 85,
   "metadata": {
    "hidden": true
   },
   "outputs": [
    {
     "data": {
      "text/html": [
       "<div class='gpresult'><h2>Messages</h2><div id='messages' data-messages='[\"Start Time: Tuesday, October 31, 2023 1:51:27 PM\",\"Building Pyramids...\",\"Succeeded at Tuesday, October 31, 2023 1:54:08 PM (Elapsed Time: 2 minutes 41 seconds)\"]' data-show='true'><div id = 'default' /></div></div>"
      ],
      "text/plain": [
       "<Result 'C:\\\\Workspace\\\\Geodata\\\\Cran_Q_C\\\\Default.gdb\\\\lid_1m'>"
      ]
     },
     "execution_count": 85,
     "metadata": {},
     "output_type": "execute_result"
    }
   ],
   "source": [
    "# biliniear resampling of the original lidar to get 1m resolution\n",
    "lid_1m = \"lid_1m\"\n",
    "arcpy.management.Resample(\n",
    "    in_raster=\"LidExtr\",\n",
    "    out_raster=lid_1m,\n",
    "    cell_size=\"1 1\",\n",
    "    resampling_type=\"BILINEAR\"\n",
    ")"
   ]
  },
  {
   "cell_type": "code",
   "execution_count": 87,
   "metadata": {
    "hidden": true
   },
   "outputs": [
    {
     "name": "stdout",
     "output_type": "stream",
     "text": [
      "True\n",
      "1.0\n",
      "1.0\n",
      "0.0\n"
     ]
    }
   ],
   "source": [
    "_ = arcpy.GetRasterProperties_management(lid_1m, \"CELLSIZEX\")\n",
    "#Get the elevation standard deviation value from geoprocessing result object\n",
    "cellsize_x = float(_.getOutput(0))\n",
    "_ = arcpy.GetRasterProperties_management(lid_1m, \"CELLSIZEY\")\n",
    "#Get the elevation standard deviation value from geoprocessing result object\n",
    "cellsize_y = float(_.getOutput(0))\n",
    "print(cellsize_x == cellsize_y)\n",
    "print(cellsize_x)\n",
    "print(cellsize_y)\n",
    "print((cellsize_y - cellsize_x)/cellsize_x)"
   ]
  },
  {
   "cell_type": "code",
   "execution_count": 88,
   "metadata": {
    "hidden": true
   },
   "outputs": [
    {
     "name": "stdout",
     "output_type": "stream",
     "text": [
      "10.0\n"
     ]
    },
    {
     "data": {
      "text/plain": [
       "True"
      ]
     },
     "execution_count": 88,
     "metadata": {},
     "output_type": "execute_result"
    }
   ],
   "source": [
    "# get conversion factor to set cell size to 10 meters\n",
    "target_cell_size = 10\n",
    "cell_factor = target_cell_size/cellsize_x\n",
    "print(cell_factor)\n",
    "cellsize_x*cell_factor == target_cell_size"
   ]
  },
  {
   "cell_type": "code",
   "execution_count": 91,
   "metadata": {
    "hidden": true
   },
   "outputs": [],
   "source": [
    "# Aggregate data to 10m resolution using minimum cell value \n",
    "# this will save computing resources while preserving flow direction\n",
    "lid_ag_10m = \"lid_10m\"\n",
    "out_raster = arcpy.sa.Aggregate(\n",
    "    in_raster=lid_1m,\n",
    "    cell_factor=cell_factor,\n",
    "    aggregation_type=\"MINIMUM\",\n",
    "    extent_handling=\"EXPAND\",\n",
    "    ignore_nodata=\"DATA\"\n",
    ")\n",
    "out_raster.save(lid_ag_10m)"
   ]
  },
  {
   "cell_type": "markdown",
   "metadata": {},
   "source": [
    "### Make groundwater elevation raster from 2ft contours"
   ]
  },
  {
   "cell_type": "code",
   "execution_count": null,
   "metadata": {},
   "outputs": [],
   "source": [
    "# copy the raw contour data into the project geodatabase"
   ]
  },
  {
   "cell_type": "code",
   "execution_count": 51,
   "metadata": {},
   "outputs": [
    {
     "data": {
      "text/html": [
       "<div class='gpresult'><h2>Messages</h2><div id='messages' data-messages='[\"Start Time: Tuesday, October 31, 2023 12:59:06 PM\",\"Succeeded at Tuesday, October 31, 2023 12:59:07 PM (Elapsed Time: 0.16 seconds)\"]' data-show='true'><div id = 'default' /></div></div>"
      ],
      "text/plain": [
       "<Result 'C:\\\\Workspace\\\\Geodata\\\\Cran_Q_C\\\\Default.gdb\\\\Water_Tables_2ft_Contours_Plymouth_Carver'>"
      ]
     },
     "execution_count": 51,
     "metadata": {},
     "output_type": "execute_result"
    }
   ],
   "source": [
    "# plymouth carver ---\n",
    "pc_gw_contour = \"Water_Tables_2ft_Contours_Plymouth_Carver\"\n",
    "arcpy.management.CopyFeatures(\n",
    "    in_features=r\"C:\\Workspace\\Geodata\\Massachusetts\\USGS_\\Plymouth_Carver_Water_Tables_2ft_Contours\\Plymouth_Carver_Water_Tables_2ft_Contours.shp\",\n",
    "    out_feature_class=pc_gw_contour)\n",
    "\n",
    "arcpy.management.CalculateField(\n",
    "    in_table=pc_gw_contour,\n",
    "    field=\"ELEV_METER\",\n",
    "    expression=\"!Contour!*0.3048\",\n",
    "    expression_type=\"PYTHON3\",\n",
    "    code_block=\"\",\n",
    "    field_type=\"TEXT\",\n",
    "    enforce_domains=\"NO_ENFORCE_DOMAINS\"\n",
    ")\n",
    "\n",
    "arcpy.management.DeleteField(\n",
    "    in_table=pc_gw_contour,\n",
    "    drop_field=\"Contour\",\n",
    "    method=\"DELETE_FIELDS\"\n",
    ")"
   ]
  },
  {
   "cell_type": "code",
   "execution_count": 53,
   "metadata": {},
   "outputs": [],
   "source": [
    "# cape cod ---\n",
    "cc_gw_contour = \"Water_Tables_2ft_Contours_Cape_Cod\"\n",
    "arcpy.management.CopyFeatures(\n",
    "    in_features=r\"C:\\Workspace\\Geodata\\Massachusetts\\USGS_\\Cape_Cod_Water_Tables_2ft_Contours\\Cape_Cod_Water_Tables_2ft_Contours.shp\",\n",
    "    out_feature_class=cc_gw_contour)\n",
    "\n",
    "arcpy.management.DeleteField(\n",
    "    in_table=\"Water_Tables_2ft_Contours_Cape_Cod\",\n",
    "    drop_field=\"ELEV_FTASL;CONTOUR;Shape_Leng\",\n",
    "    method=\"DELETE_FIELDS\"\n",
    ")\n",
    "\n",
    "# removing the first four features since they are located on mainland (not on the cape)\n",
    "selection = arcpy.management.SelectLayerByAttribute(\n",
    "    in_layer_or_view=\"Water_Tables_2ft_Contours_Cape_Cod\",\n",
    "    selection_type=\"NEW_SELECTION\",\n",
    "    where_clause=\"OBJECTID NOT IN (1, 2, 3, 4)\",\n",
    "    invert_where_clause=None\n",
    ")"
   ]
  },
  {
   "cell_type": "code",
   "execution_count": 54,
   "metadata": {
    "scrolled": true
   },
   "outputs": [
    {
     "data": {
      "text/html": [
       "<div class='gpresult'><h2>Messages</h2><div id='messages' data-messages='[\"Start Time: Tuesday, October 31, 2023 1:01:18 PM\",\"Succeeded at Tuesday, October 31, 2023 1:01:18 PM (Elapsed Time: 0.19 seconds)\"]' data-show='true'><div id = 'default' /></div></div>"
      ],
      "text/plain": [
       "<Result 'C:\\\\Workspace\\\\Geodata\\\\Cran_Q_C\\\\Default.gdb\\\\Water_Tables_2ft_Contours_Merge'>"
      ]
     },
     "execution_count": 54,
     "metadata": {},
     "output_type": "execute_result"
    }
   ],
   "source": [
    "# Merge the cape cod and plymouth carver water table contour lines\n",
    "arcpy.management.Merge(\n",
    "    inputs=\"{};{}\".format(cc_gw_contour,pc_gw_contour),\n",
    "    output=\"Water_Tables_2ft_Contours_Merge\",\n",
    "    add_source=\"ADD_SOURCE_INFO\"\n",
    ")\n",
    "\n",
    "arcpy.management.DeleteField(\n",
    "    in_table=\"Water_Tables_2ft_Contours_Merge\",\n",
    "    drop_field=\"OBJECTID\",\n",
    "    method=\"DELETE_FIELDS\"\n",
    ")"
   ]
  },
  {
   "cell_type": "code",
   "execution_count": 93,
   "metadata": {},
   "outputs": [],
   "source": [
    "# you cannot save the tin to a geodatabase, so save it to outputs directory\n",
    "tin_file = os.path.join(odr,\"tin_gw_meters\")"
   ]
  },
  {
   "cell_type": "code",
   "execution_count": null,
   "metadata": {},
   "outputs": [],
   "source": [
    "# NOTE I USE AN EDITED version of the contour lines layer that adds a vertex at 21.5m elevation on the cape."
   ]
  },
  {
   "cell_type": "code",
   "execution_count": 57,
   "metadata": {},
   "outputs": [
    {
     "data": {
      "text/html": [
       "<div class='gpresult'><h2>Messages</h2><div id='messages' data-messages='[\"Start Time: Tuesday, October 31, 2023 1:03:27 PM\",\"Succeeded at Tuesday, October 31, 2023 1:03:27 PM (Elapsed Time: 0.47 seconds)\"]' data-show='true'><div id = 'default' /></div></div>"
      ],
      "text/plain": [
       "<Result 'C:\\\\Workspace\\\\Geodata\\\\Cran_Q_C\\\\outputs\\\\tin_gw_meters'>"
      ]
     },
     "execution_count": 57,
     "metadata": {},
     "output_type": "execute_result"
    }
   ],
   "source": [
    "# Create TIN (triangular irregular network) from merged contour lines and convert to raster\n",
    "arcpy.ddd.CreateTin(\n",
    "    out_tin=tin_file,\n",
    "    in_features=\"Water_Tables_2ft_Contours_Merge_Edit ELEV_METER Hard_Line <None>\",\n",
    "    constrained_delaunay=\"DELAUNAY\"\n",
    ")"
   ]
  },
  {
   "cell_type": "code",
   "execution_count": null,
   "metadata": {},
   "outputs": [],
   "source": [
    "# create a raster of groundwater elevation (meters) from tin (surface elevation meters above sea level) to the geodatabase"
   ]
  },
  {
   "cell_type": "code",
   "execution_count": 96,
   "metadata": {},
   "outputs": [],
   "source": [
    "with arcpy.EnvManager(snapRaster=lid_ag_10m):\n",
    "    arcpy.ddd.TinRaster(\n",
    "        in_tin=tin_file,\n",
    "        out_raster=r\"gwe_raw\",\n",
    "        data_type=\"FLOAT\",\n",
    "        method=\"LINEAR\",\n",
    "        sample_distance=\"CELLSIZE\",\n",
    "        z_factor=1,\n",
    "        sample_value=10\n",
    "    )"
   ]
  },
  {
   "cell_type": "code",
   "execution_count": 101,
   "metadata": {},
   "outputs": [],
   "source": [
    "with arcpy.EnvManager(cellSize=\"gwe_raw\"):\n",
    "    arcpy.conversion.FeatureToRaster(\n",
    "        in_features=\"domain_poly\",\n",
    "        field=\"OID\",\n",
    "        out_raster=\"domain_rast_mask\")"
   ]
  },
  {
   "cell_type": "code",
   "execution_count": null,
   "metadata": {},
   "outputs": [],
   "source": [
    "### Create masked layers of groundwater elevation and groundwater depth"
   ]
  },
  {
   "cell_type": "code",
   "execution_count": 102,
   "metadata": {},
   "outputs": [],
   "source": [
    "mask = arcpy.sa.Raster(\"contour_mask_rast\")"
   ]
  },
  {
   "cell_type": "code",
   "execution_count": 104,
   "metadata": {},
   "outputs": [],
   "source": [
    "# extract gwe by mask\n",
    "gw_elev_meters = arcpy.sa.Raster(\"gwe_raw\")*mask\n",
    "gw_elev_meters.save(\"gw_elev_meters\")"
   ]
  },
  {
   "cell_type": "code",
   "execution_count": 105,
   "metadata": {
    "scrolled": true
   },
   "outputs": [],
   "source": [
    "# calculate gw depth \n",
    "lid_elev_meters = arcpy.sa.Raster(\"lid_10m\")\n",
    "gw_depth_meters = lid_elev_meters - gw_elev_meters\n",
    "gw_depth_meters.save(\"gw_depth_meters\")"
   ]
  },
  {
   "cell_type": "code",
   "execution_count": 106,
   "metadata": {},
   "outputs": [],
   "source": [
    "gw_depth_lt1_meters = gw_depth_meters < 1\n",
    "gw_depth_lt1_meters.save(\"gw_depth_lt1m\")"
   ]
  },
  {
   "cell_type": "code",
   "execution_count": 107,
   "metadata": {},
   "outputs": [],
   "source": [
    "gw_depth_meters = arcpy.sa.Raster(\"gw_depth_meters\")\n",
    "gw_depth_lt1_meters = gw_depth_meters < 0.5\n",
    "gw_depth_lt1_meters.save(\"gw_depth_lt0p5m\")"
   ]
  },
  {
   "cell_type": "code",
   "execution_count": 3,
   "metadata": {
    "scrolled": true
   },
   "outputs": [],
   "source": []
  },
  {
   "cell_type": "code",
   "execution_count": 5,
   "metadata": {},
   "outputs": [],
   "source": []
  }
 ],
 "metadata": {
  "kernelspec": {
   "display_name": "ArcGISPro",
   "language": "Python",
   "name": "python3"
  },
  "language_info": {
   "file_extension": ".py",
   "name": "python",
   "version": "3"
  }
 },
 "nbformat": 4,
 "nbformat_minor": 2
}
