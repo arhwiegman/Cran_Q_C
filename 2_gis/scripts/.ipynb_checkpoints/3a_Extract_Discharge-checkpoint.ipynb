{
 "cells": [
  {
   "cell_type": "markdown",
   "id": "f682951b",
   "metadata": {},
   "source": [
    "**Extract Flow Accumulation at Bogs**\n",
    "\n",
    "Adrian Wiegman\n",
    "\n",
    "2023-08-12\n",
    "\n",
    "-------"
   ]
  },
  {
   "cell_type": "markdown",
   "id": "c9e36dc6",
   "metadata": {},
   "source": [
    "## Description"
   ]
  },
  {
   "cell_type": "markdown",
   "id": "159f7739",
   "metadata": {},
   "source": [
    "This notebook turns raw data from LiDAR DEM, NHD flowlines, and polygons of cranberry bogs, into a layer of polygons representing the topographic catchments draining into each cranberry bog in southeast Massachusetts. \n",
    "\n",
    "Even though the lidar data as been hydro flattened/enforced, there are still a number of flowpaths that are not detected underneath highways (e.g. interstate I-495, I-195)\n",
    "\n",
    "The solution is to \"burn\" in stream flowlines from the national hydrography dataset. This is done by putting a buffer around the stream flowline network, then assigning an arbitary large value to the stream network polygon, then converting to raster and subtracting the stream elevations from the DEM. \n",
    "\n",
    "Once D8 flow direction and flow accumulation rasters have been made the primary objectives can be completed. \n",
    "\n",
    "Data Sources:\n",
    "\n",
    "1. Mass GIS Lidar DEM (1ft vertical resolution, ~1m horizontal resolution)\n",
    "2. USGS National Hydrography Dataset\n",
    "- Flow lines\n",
    "3. Cranberry bogs layer\n",
    "\n",
    "Steps of Processing: \n",
    "\n",
    "1. Prepare Lidar\n",
    "   - 1M Lidar Elevation -> Clip to study area -> \n",
    "   - Resample to 10m resolution using aggregate minimum cell value\n",
    "   - Fill Sinks \n",
    "\n",
    "2. Prepare Flowlines\n",
    "   - combine flowlines into one layer\n",
    "   - dissolve flowlines\n",
    "   - buffer flowlines to 3x the resolution of processed lidar. \n",
    "       - buffering width of 15m \n",
    "   - convert to raster\n",
    "3. Burn in flow lines\n",
    "    - assign a value of -100 feet to flow lines\n",
    "    - add flowlines to existing elevation (subtract 100 feet)\n",
    "    \n",
    "4. fill sinks (again)\n",
    "5. D8 Flow Direction \n",
    "6. Flow Accumulation\n",
    "7. Generate Bog Pour Points\n",
    "    - find maximum flow accumulation value inside each bog.\n",
    "    - generate a point at each bog maximum value.\n",
    "    - identity to get cranberry bog attributes at each point.\n",
    "8. Delineate Basins for each point\n",
    "    - with the bog cranberry points loop through each point\n",
    "        - delineate watershed using the bog pour point and the D8 flow direction\n",
    "        - save the output to a temp file with the feature ID ('FID') of the cranberry bog. \n",
    "    - merge all cranberry bog basins to one polygon layer, containing the FID of the cranberry bog. "
   ]
  },
  {
   "cell_type": "markdown",
   "id": "2d59851c",
   "metadata": {},
   "source": [
    "## Setup Environment"
   ]
  },
  {
   "cell_type": "code",
   "execution_count": 102,
   "id": "9d478e88",
   "metadata": {},
   "outputs": [
    {
     "name": "stdout",
     "output_type": "stream",
     "text": [
      "The autoreload extension is already loaded. To reload it, use:\n",
      "  %reload_ext autoreload\n",
      "***\n",
      "loading python modules...\n",
      "\n",
      "  `module_list` contains names of all loaded modules\n",
      "\n",
      "...module loading complete\n",
      "\n",
      "***\n",
      "loading user defined functions...\n",
      "\n",
      "type `fn_`+TAB to for autocomplete suggestions\n",
      "\n",
      " the object `def_list` contains user defined function names:\n",
      "   fn_get_info\n",
      "   fn_arcgis_table_to_df\n",
      "   fn_arcgis_table_to_np_to_pd_df\n",
      "   fn_run_script_w_propy_bat\n",
      "   fn_try_mkdir\n",
      "   fn_hello\n",
      "   fn_recursive_glob_search\n",
      "   fn_regex_search_replace\n",
      "   fn_regex_search_0\n",
      "   fn_arcpy_table_to_excel\n",
      "   fn_agg_sum_df_on_group\n",
      "   fn_add_prefix_suffix_to_selected_cols\n",
      "   fn_calc_pct_cover_within_groups\n",
      "   fn_buildWhereClauseFromList\n",
      "\n",
      " use ??{insert fn name} to inspect\n",
      " for example running `??fn_get_info` returns:\n",
      "\u001b[1;31mSignature:\u001b[0m \u001b[0mfn_get_info\u001b[0m\u001b[1;33m(\u001b[0m\u001b[0mname\u001b[0m\u001b[1;33m=\u001b[0m\u001b[1;34m'fn_get_info'\u001b[0m\u001b[1;33m)\u001b[0m\u001b[1;33m\u001b[0m\u001b[1;33m\u001b[0m\u001b[0m\n",
      "\u001b[1;31mSource:\u001b[0m   \n",
      "\u001b[1;32mdef\u001b[0m \u001b[0mfn_get_info\u001b[0m\u001b[1;33m(\u001b[0m\u001b[0mname\u001b[0m\u001b[1;33m=\u001b[0m\u001b[1;34m'fn_get_info'\u001b[0m\u001b[1;33m)\u001b[0m\u001b[1;33m:\u001b[0m\u001b[1;33m\n",
      "\u001b[0m    \u001b[1;34m'''\n",
      "    returns the source information about a given function name\n",
      "    '''\u001b[0m\u001b[1;33m\n",
      "\u001b[0m    \u001b[0mget_ipython\u001b[0m\u001b[1;33m(\u001b[0m\u001b[1;33m)\u001b[0m\u001b[1;33m.\u001b[0m\u001b[0mrun_line_magic\u001b[0m\u001b[1;33m(\u001b[0m\u001b[1;34m'pinfo2'\u001b[0m\u001b[1;33m,\u001b[0m \u001b[1;34m'$name'\u001b[0m\u001b[1;33m)\u001b[0m\u001b[1;33m\u001b[0m\u001b[1;33m\u001b[0m\u001b[0m\n",
      "\u001b[1;31mFile:\u001b[0m      c:\\workspace\\geodata\\verify_discharge\\<ipython-input-1-28f96385f735>\n",
      "\u001b[1;31mType:\u001b[0m      function\n",
      "\n",
      " you can also use `fn_get_info(name={insert fn name})` to do the same thing as `??{insert fn name}`\n",
      "\n",
      "...function loading complete\n",
      "\n",
      "\n",
      "***\n",
      "setting up arcpy environment...\n",
      "\n",
      " input file directory (`idr`): C:\\Workspace\\Geodata\\Massachusetts\\\n",
      " working directory (`wdr`): C:\\Workspace\\Geodata\\MEP\\\n",
      " default geodatabase path: C:\\Workspace\\Geodata\\MEP\\Default.gdb\n",
      " temp dir (`tdr.name`): C:\\Users\\ADRIAN~1.WIE\\AppData\\Local\\Temp\\ArcGISProTemp23104\\tmpnmkycup5\n",
      " output dir (`odr`): C:\\Workspace\\Geodata\\MEP\\outputs\n",
      " output coordinate system: NAD_1983_UTM_Zone_19N\n",
      "\n",
      "... env setup complete\n",
      "\n",
      "\n",
      "+++SETUP COMPLETE+++\n",
      "\n",
      "\n"
     ]
    }
   ],
   "source": [
    "# iphython options\n",
    "# delete variables in workspace\n",
    "%reset -f\n",
    "#places plots inline\n",
    "%matplotlib inline\n",
    "#automatically reloads modules if they are changed\n",
    "%load_ext autoreload \n",
    "%autoreload 2\n",
    "# this codeblock sets up the environment from jupyter notebooks\n",
    "setup_notebook = \"C:/Users/Adrian.Wiegman/Documents/GitHub/Wiegman_USDA_ARS/MEP/_Setup.ipynb\"\n",
    "%run $setup_notebook # magic command to run the notebook "
   ]
  },
  {
   "cell_type": "code",
   "execution_count": 103,
   "id": "ea501ae3",
   "metadata": {
    "scrolled": true
   },
   "outputs": [
    {
     "name": "stdout",
     "output_type": "stream",
     "text": [
      "C:\\Workspace\\Geodata\\Verify_Discharge\n"
     ]
    }
   ],
   "source": [
    "wdr = r\"C:\\Workspace\\Geodata\\Verify_Discharge\"\n",
    "print(wdr)"
   ]
  },
  {
   "cell_type": "code",
   "execution_count": 104,
   "id": "b6310955",
   "metadata": {
    "scrolled": true
   },
   "outputs": [],
   "source": [
    "# Create new file geodatabase to store results\\n\",\n",
    "gdb = \"Verify_Discharge.gdb\"\n",
    "\n",
    "ap.env.workspace = os.path.join(wdr,gdb)"
   ]
  },
  {
   "cell_type": "code",
   "execution_count": 105,
   "id": "02526681",
   "metadata": {},
   "outputs": [],
   "source": [
    "files = [\"C:\\Workspace\\Geodata\\MEP\\gwbogsheds.gdb\\FA_D8_gwe_bf\",\n",
    "\"C:\\Workspace\\Geodata\\MEP\\gwbogsheds.gdb\\FA_D8_gwe_bf_lt1m\",\n",
    "\"C:\\Workspace\\Geodata\\MEP\\Default.gdb\\LidAg10BF_FlowAcc\",\n",
    "\"C:\\Workspace\\Geodata\\MEP\\gwbogsheds.gdb\\FA_Dinf_gwe_bf\",\n",
    "\"C:\\Workspace\\Geodata\\MEP\\gwbogsheds.gdb\\FA_Dinf_gwe_bf_lt1m\",\n",
    "\"C:\\Workspace\\Geodata\\MEP\\gwbogsheds.gdb\\FA_MDF_gwe_bf\"]\n",
    "import re\n",
    "names = [re.search(\"\\.gdb\\\\\\(.*)\",x)[1] for x in files]"
   ]
  },
  {
   "cell_type": "code",
   "execution_count": 106,
   "id": "f6811454",
   "metadata": {
    "scrolled": true
   },
   "outputs": [
    {
     "data": {
      "text/html": [
       "<div class='gpresult'><h2>Messages</h2><div id='messages' data-messages='[\"Start Time: Tuesday, October 24, 2023 4:28:19 PM\",\"Succeeded at Tuesday, October 24, 2023 4:28:20 PM (Elapsed Time: 0.77 seconds)\"]' data-show='true'><div id = 'default' /></div></div>"
      ],
      "text/plain": [
       "<Result 'C:\\\\Workspace\\\\Geodata\\\\Verify_Discharge\\\\Verify_Discharge.gdb\\\\bogs'>"
      ]
     },
     "execution_count": 106,
     "metadata": {},
     "output_type": "execute_result"
    }
   ],
   "source": [
    "# make copy of bogs\n",
    "arcpy.management.CopyFeatures(\n",
    "    in_features=r\"C:\\Workspace\\Geodata\\MEP\\gwbogsheds.gdb\\bogs_split\",\n",
    "    out_feature_class=r\"C:\\Workspace\\Geodata\\Verify_Discharge\\Verify_Discharge.gdb\\bogs\")\n",
    "\n",
    "# aggregate polygons of bogs within 20 meters and sharing the same FID. \n",
    "arcpy.cartography.AggregatePolygons(\n",
    "    in_features=\"bogs\",\n",
    "    out_feature_class=r\"C:\\Workspace\\Geodata\\MEP\\Default.gdb\\bogs_aggregated\",\n",
    "    aggregation_distance=\"20 Meters\",\n",
    "    minimum_area=None,\n",
    "    minimum_hole_size=\"0 SquareMeters\",\n",
    "    orthogonality_option=\"NON_ORTHOGONAL\",\n",
    "    barrier_features=None,\n",
    "    out_table=r\"C:\\Workspace\\Geodata\\MEP\\Default.gdb\\bogs_aggregated_Tbl\",\n",
    "    aggregate_field=\"ORIG_FID\"\n",
    ")\n",
    "\n",
    "arcpy.analysis.Identity(\n",
    "    in_features=\"bogs\",\n",
    "    identity_features=\"bogs_aggregated\",\n",
    "    out_feature_class=r\"C:\\Workspace\\Geodata\\MEP\\Default.gdb\\bogs_Identity\",\n",
    "    join_attributes=\"ONLY_FID\",\n",
    "    cluster_tolerance=None,\n",
    "    relationship=\"NO_RELATIONSHIPS\"\n",
    ")\n",
    "\n",
    "arcpy.management.Dissolve(\n",
    "    in_features=\"bogs_Identity\",\n",
    "    out_feature_class=r\"C:\\Workspace\\Geodata\\MEP\\Default.gdb\\bogs_Identity_Dissolve\",\n",
    "    dissolve_field=\"FID_bogs_aggregated\",\n",
    "    statistics_fields=None,\n",
    "    multi_part=\"MULTI_PART\",\n",
    "    unsplit_lines=\"DISSOLVE_LINES\",\n",
    "    concatenation_separator=\"\"\n",
    ")"
   ]
  },
  {
   "cell_type": "code",
   "execution_count": 107,
   "id": "6b549c22",
   "metadata": {},
   "outputs": [],
   "source": [
    "in_feat = \"bogs\"\n",
    "for i in range(len(files)):\n",
    "    out_raster = arcpy.ia.ZonalStatistics(\n",
    "        in_zone_data=in_feat,\n",
    "        zone_field=\"OBJECTID\",\n",
    "        in_value_raster=files[i],\n",
    "        statistics_type=\"MAXIMUM\",\n",
    "        ignore_nodata=\"DATA\",\n",
    "        process_as_multidimensional=\"CURRENT_SLICE\",\n",
    "        percentile_value=90,\n",
    "        percentile_interpolation_type=\"AUTO_DETECT\",\n",
    "        circular_calculation=\"ARITHMETIC\",\n",
    "        circular_wrap_value=360)\n",
    "    out_rast_name = \"ZS_MAX_\"+names[i]\n",
    "    out_raster.save(out_rast_name)\n",
    "    "
   ]
  },
  {
   "cell_type": "code",
   "execution_count": 108,
   "id": "cc37770a",
   "metadata": {},
   "outputs": [
    {
     "data": {
      "text/html": [
       "<div class='gpresult'><h2>Messages</h2><div id='messages' data-messages='[\"Start Time: Tuesday, October 24, 2023 4:29:03 PM\",\"Succeeded at Tuesday, October 24, 2023 4:29:04 PM (Elapsed Time: 0.88 seconds)\"]' data-show='true'><div id = 'default' /></div></div>"
      ],
      "text/plain": [
       "<Result 'C:\\\\Workspace\\\\Geodata\\\\Verify_Discharge\\\\Verify_Discharge.gdb\\\\bogs_points'>"
      ]
     },
     "execution_count": 108,
     "metadata": {},
     "output_type": "execute_result"
    }
   ],
   "source": [
    "# generate one point inside each bog\n",
    "arcpy.management.FeatureToPoint(\n",
    "    in_features=\"bogs\",\n",
    "    out_feature_class=r\"bogs_points\",\n",
    "    point_location=\"INSIDE\")"
   ]
  },
  {
   "cell_type": "code",
   "execution_count": 109,
   "id": "a5b60dfe",
   "metadata": {},
   "outputs": [
    {
     "data": {
      "text/html": [
       "<div class='gpresult'><h2>Messages</h2><div id='messages' data-messages='[\"Start Time: Tuesday, October 24, 2023 4:29:04 PM\",\"Succeeded at Tuesday, October 24, 2023 4:29:11 PM (Elapsed Time: 6.99 seconds)\"]' data-show='true'><div id = 'default' /></div></div>"
      ],
      "text/plain": [
       "<Result 'C:\\\\Workspace\\\\Geodata\\\\Verify_Discharge\\\\Verify_Discharge.gdb\\\\bogs_points'>"
      ]
     },
     "execution_count": 109,
     "metadata": {},
     "output_type": "execute_result"
    }
   ],
   "source": [
    "arcpy.management.CalculateGeometryAttributes(\n",
    "    in_features=\"bogs_points\",\n",
    "    geometry_property=\"Lat POINT_X;Long POINT_Y\",\n",
    "    length_unit=\"\",\n",
    "    area_unit=\"\",\n",
    "    coordinate_system='PROJCS[\"NAD_1983_UTM_Zone_19N\",GEOGCS[\"GCS_North_American_1983\",DATUM[\"D_North_American_1983\",SPHEROID[\"GRS_1980\",6378137.0,298.257222101]],PRIMEM[\"Greenwich\",0.0],UNIT[\"Degree\",0.0174532925199433]],PROJECTION[\"Transverse_Mercator\"],PARAMETER[\"False_Easting\",500000.0],PARAMETER[\"False_Northing\",0.0],PARAMETER[\"Central_Meridian\",-69.0],PARAMETER[\"Scale_Factor\",0.9996],PARAMETER[\"Latitude_Of_Origin\",0.0],UNIT[\"Meter\",1.0]]',\n",
    "    coordinate_format=\"DD\"\n",
    ")"
   ]
  },
  {
   "cell_type": "code",
   "execution_count": 110,
   "id": "1082bb29",
   "metadata": {},
   "outputs": [
    {
     "name": "stdout",
     "output_type": "stream",
     "text": [
      "C:\\Workspace\\Geodata\\Verify_Discharge\\Verify_Discharge.gdb\\ZS_MAX_FA_D8_gwe_bf ZS_MAX_FA_D8_gwe_bf;C:\\Workspace\\Geodata\\Verify_Discharge\\Verify_Discharge.gdb\\ZS_MAX_FA_D8_gwe_bf_lt1m ZS_MAX_FA_D8_gwe_bf_lt1m;C:\\Workspace\\Geodata\\Verify_Discharge\\Verify_Discharge.gdb\\ZS_MAX_LidAg10BF_FlowAcc ZS_MAX_LidAg10BF_FlowAcc;C:\\Workspace\\Geodata\\Verify_Discharge\\Verify_Discharge.gdb\\ZS_MAX_FA_Dinf_gwe_bf ZS_MAX_FA_Dinf_gwe_bf;C:\\Workspace\\Geodata\\Verify_Discharge\\Verify_Discharge.gdb\\ZS_MAX_FA_Dinf_gwe_bf_lt1m ZS_MAX_FA_Dinf_gwe_bf_lt1m;C:\\Workspace\\Geodata\\Verify_Discharge\\Verify_Discharge.gdb\\ZS_MAX_FA_MDF_gwe_bf ZS_MAX_FA_MDF_gwe_bf\n"
     ]
    }
   ],
   "source": [
    "# generate string of rasters to \n",
    "long_names = [\"ZS_MAX_\"+n for n in names]\n",
    "long_names\n",
    "_ = [\"{} {}\".format(os.path.join(wdr,gdb,n),n) for n in long_names]\n",
    "in_rasters = \";\".join(_)\n",
    "print(in_rasters)"
   ]
  },
  {
   "cell_type": "code",
   "execution_count": 111,
   "id": "6e65266c",
   "metadata": {},
   "outputs": [
    {
     "data": {
      "text/html": [
       "<div class='gpresult'><h2>Messages</h2><div id='messages' data-messages='[\"Start Time: Tuesday, October 24, 2023 4:29:12 PM\",\"Succeeded at Tuesday, October 24, 2023 4:29:18 PM (Elapsed Time: 5.25 seconds)\"]' data-show='true'><div id = 'default' /></div></div>"
      ],
      "text/plain": [
       "<geoprocessing server result object object at 0x000001FE2E455D50>"
      ]
     },
     "execution_count": 111,
     "metadata": {},
     "output_type": "execute_result"
    }
   ],
   "source": [
    "arcpy.sa.ExtractMultiValuesToPoints(\n",
    "    in_point_features=\"bogs_points\",\n",
    "    in_rasters=in_rasters,\n",
    "    bilinear_interpolate_values=\"NONE\")"
   ]
  },
  {
   "cell_type": "markdown",
   "id": "86cb96f9",
   "metadata": {},
   "source": [
    "FA = Flow accumulation (number of cells draining to a point)\n",
    "w = width of cell in distance units (10 meters)\n",
    "l = length of cell in distance units (10 meters)\n",
    "\n",
    "A = FA * cell_size^2\n",
    "\n",
    "cell size is the side length of the grid cells\n",
    "\n",
    "A = FA * 100 m^2/cell\n",
    "\n",
    "Q = A * r\n",
    "\n",
    "where r is recharge rate \n",
    "27.25 in/yr \n",
    "\n",
    "m3/d =  27.25 in/yr * 2.54 cm/in * 1/100 m/cm *  1/365.25 yr/d\n",
    "\n"
   ]
  },
  {
   "cell_type": "code",
   "execution_count": 112,
   "id": "e759a4c6",
   "metadata": {},
   "outputs": [
    {
     "data": {
      "text/plain": [
       "0.35976425532343725"
      ]
     },
     "execution_count": 112,
     "metadata": {},
     "output_type": "execute_result"
    }
   ],
   "source": [
    "# Compute conversion factor to translate flow accumulation into Q\n",
    "cell_size = 13.778565541850835\n",
    "FA_to_Q = (cell_size)**2 * 27.25 * 2.54 * (1/100) * (1/365.25)\n",
    "FA_to_Q"
   ]
  },
  {
   "cell_type": "code",
   "execution_count": 114,
   "id": "265bbed4",
   "metadata": {},
   "outputs": [
    {
     "name": "stdout",
     "output_type": "stream",
     "text": [
      "100.0\n",
      "0.1895003422313484\n"
     ]
    }
   ],
   "source": [
    "#Get extract the cell size of raster\n",
    "def fn_FA_to_Q (rasterpath=None,recharge_rate_in_yr = 27.25):\n",
    "    _ = arcpy.GetRasterProperties_management(rasterpath, \"CELLSIZEX\")\n",
    "    #Get the elevation standard deviation value from geoprocessing result object\n",
    "    cellsize_x = _.getOutput(0)\n",
    "    _ = arcpy.GetRasterProperties_management(rasterpath, \"CELLSIZEY\")\n",
    "    cellsize_y = _.getOutput(0)\n",
    "    # calculate cell area in meters\n",
    "    cell_area_meters = float(cellsize_x) * float(cellsize_y)\n",
    "    print(cell_area_meters)\n",
    "    FA_to_Q = cell_area_meters * recharge_rate_in_yr * 2.54 * (1/100) * (1/365.25)\n",
    "    print(FA_to_Q)\n",
    "fn_FA_to_Q(rasterpath=os.path.join(wdr,gdb,\"ZS_MAX_FA_D8_gwe_bf\"))"
   ]
  },
  {
   "cell_type": "code",
   "execution_count": null,
   "id": "c5f8dfaf",
   "metadata": {},
   "outputs": [],
   "source": [
    "arcpy.management.SelectLayerByAttribute(\n",
    "    in_layer_or_view=r\"C:\\Workspace\\Geodata\\Verify_Discharge\\Verify_Discharge.gdb\\df_Q_bogs_streams_XYTableToPoint\",\n",
    "    selection_type=\"NEW_SELECTION\",\n",
    "    where_clause=\"{} IS NOT NULL\",\n",
    "    invert_where_clause=None\n",
    ")"
   ]
  },
  {
   "cell_type": "code",
   "execution_count": 118,
   "id": "2a638c39",
   "metadata": {
    "scrolled": true
   },
   "outputs": [
    {
     "name": "stdout",
     "output_type": "stream",
     "text": [
      "ZS_MAX_FA_D8_gwe_bf\n",
      "100.0\n",
      "0.1895003422313484\n",
      "D8gwebf\n"
     ]
    },
    {
     "name": "stderr",
     "output_type": "stream",
     "text": [
      "Traceback (most recent call last):\n",
      "  File \"<expression>\", line 1, in <module>\n",
      "TypeError: unsupported operand type(s) for *: 'float' and 'NoneType'\n"
     ]
    },
    {
     "ename": "ExecuteError",
     "evalue": "ERROR 000539: Traceback (most recent call last):\n  File \"<expression>\", line 1, in <module>\nTypeError: unsupported operand type(s) for *: 'float' and 'NoneType'\n\nFailed to execute (CalculateField).\n",
     "output_type": "error",
     "traceback": [
      "\u001b[0;31m---------------------------------------------------------------------------\u001b[0m\n\u001b[0;31mExecuteError\u001b[0m                              Traceback (most recent call last)",
      "In  \u001b[0;34m[118]\u001b[0m:\nLine \u001b[0;34m14\u001b[0m:    arcpy.management.CalculateField(\n",
      "File \u001b[0;34mC:\\Program Files\\ArcGIS\\Pro\\Resources\\ArcPy\\arcpy\\management.py\u001b[0m, in \u001b[0;32mCalculateField\u001b[0m:\nLine \u001b[0;34m6187\u001b[0m:  \u001b[34mraise\u001b[39;49;00m e\n",
      "File \u001b[0;34mC:\\Program Files\\ArcGIS\\Pro\\Resources\\ArcPy\\arcpy\\management.py\u001b[0m, in \u001b[0;32mCalculateField\u001b[0m:\nLine \u001b[0;34m6184\u001b[0m:  retval = convertArcObjectToPythonObject(gp.CalculateField_management(*gp_fixargs((in_table, field, expression, expression_type, code_block, field_type, enforce_domains), \u001b[34mTrue\u001b[39;49;00m)))\n",
      "File \u001b[0;34mC:\\Program Files\\ArcGIS\\Pro\\Resources\\ArcPy\\arcpy\\geoprocessing\\_base.py\u001b[0m, in \u001b[0;32m<lambda>\u001b[0m:\nLine \u001b[0;34m512\u001b[0m:   \u001b[34mreturn\u001b[39;49;00m \u001b[34mlambda\u001b[39;49;00m *args: val(*gp_fixargs(args, \u001b[34mTrue\u001b[39;49;00m))\n",
      "\u001b[0;31mExecuteError\u001b[0m: ERROR 000539: Traceback (most recent call last):\n  File \"<expression>\", line 1, in <module>\nTypeError: unsupported operand type(s) for *: 'float' and 'NoneType'\n\nFailed to execute (CalculateField).\n\n\u001b[0;31m---------------------------------------------------------------------------\u001b[0m"
     ]
    }
   ],
   "source": [
    "# calculate flow for all flow accumulation layers\n",
    "# r\"C:\\Workspace\\Geodata\\Verify_Discharge\\Verify_Discharge.gdb\\bogs_points\"\n",
    "in_table = os.path.join(wdr,gdb,\"bogs_points\")\n",
    "for long_name in long_names:\n",
    "    print(long_name)\n",
    "    FA_to_Q = fn_FA_to_Q(rasterpath=os.path.join(wdr,gdb,long_name))\n",
    "    _ = re.search(\"ZS_MAX_(.*)\",long_name)\n",
    "    short_name = re.sub(\"FA\",\"\",re.sub(\"_\",\"\",_[1]))\n",
    "    print(short_name)\n",
    "    arcpy.management.SelectLayerByAttribute(\n",
    "        in_layer_or_view=in_table,\n",
    "        selection_type=\"NEW_SELECTION\",\n",
    "        where_clause=\"{} IS NOT NULL\".format(long_name))\n",
    "    arcpy.management.CalculateField(\n",
    "        in_table=in_table,\n",
    "        field=\"Q_m3d_{}\".format(short_name),\n",
    "        expression=\"!{}!*{}\".format(long_name,FA_to_Q),\n",
    "        expression_type=\"PYTHON3\",\n",
    "        code_block=\"\",\n",
    "        field_type=\"DOUBLE\",\n",
    "        enforce_domains=\"NO_ENFORCE_DOMAINS\")\n",
    "    arcpy.management.SelectLayerByAttribute(\n",
    "        in_layer_or_view=in_table,\n",
    "        selection_type=\"CLEAR_SELECTION\")"
   ]
  },
  {
   "cell_type": "code",
   "execution_count": null,
   "id": "a593b41d",
   "metadata": {},
   "outputs": [],
   "source": [
    "\n",
    "\n",
    "\n",
    "# Start new notebook for this. 10/24/2023\n",
    "# RESUME HERE EXTRACT NITRATE DATA"
   ]
  },
  {
   "cell_type": "code",
   "execution_count": 23,
   "id": "00dd2eb0",
   "metadata": {},
   "outputs": [
    {
     "data": {
      "text/html": [
       "<div class='gpresult'><h2>Messages</h2><div id='messages' data-messages='[\"Start Time: Tuesday, October 24, 2023 1:18:18 PM\",\"Succeeded at Tuesday, October 24, 2023 1:18:22 PM (Elapsed Time: 4.21 seconds)\"]' data-show='true'><div id = 'default' /></div></div>"
      ],
      "text/plain": [
       "<Result 'C:\\\\Workspace\\\\Geodata\\\\Verify_Discharge\\\\Verify_Discharge.gdb\\\\df_NO3_rivers_streams_merged_XY'>"
      ]
     },
     "execution_count": 23,
     "metadata": {},
     "output_type": "execute_result"
    }
   ],
   "source": [
    "arcpy.management.XYTableToPoint(\n",
    "    in_table=r\"C:\\Users\\Adrian.Wiegman\\Documents\\GitHub\\Wiegman_USDA_ARS\\MEP\\data\\df_NO3_merged_XY_rivers_streams.csv\",\n",
    "    out_feature_class=r\"df_NO3_rivers_streams_merged_XY\",\n",
    "    x_field=\"Long\",\n",
    "    y_field=\"Lat\")"
   ]
  },
  {
   "cell_type": "code",
   "execution_count": 24,
   "id": "73ac8362",
   "metadata": {},
   "outputs": [
    {
     "data": {
      "text/html": [
       "<div class='gpresult'><h2>Messages</h2><div id='messages' data-messages='[\"Start Time: Tuesday, October 24, 2023 1:18:26 PM\",\"Succeeded at Tuesday, October 24, 2023 1:18:29 PM (Elapsed Time: 3.31 seconds)\"]' data-show='true'><div id = 'default' /></div></div>"
      ],
      "text/plain": [
       "<Result 'C:\\\\Workspace\\\\Geodata\\\\Verify_Discharge\\\\Verify_Discharge.gdb\\\\df_NO3_rivers_streams_merged_XY'>"
      ]
     },
     "execution_count": 24,
     "metadata": {},
     "output_type": "execute_result"
    }
   ],
   "source": [
    "arcpy.management.CalculateGeometryAttributes(\n",
    "    in_features=\"df_NO3_rivers_streams_merged_XY\",\n",
    "    geometry_property=\"Lat POINT_X;Long POINT_Y\",\n",
    "    length_unit=\"\",\n",
    "    area_unit=\"\",\n",
    "    coordinate_system='PROJCS[\"NAD_1983_UTM_Zone_19N\",GEOGCS[\"GCS_North_American_1983\",DATUM[\"D_North_American_1983\",SPHEROID[\"GRS_1980\",6378137.0,298.257222101]],PRIMEM[\"Greenwich\",0.0],UNIT[\"Degree\",0.0174532925199433]],PROJECTION[\"Transverse_Mercator\"],PARAMETER[\"False_Easting\",500000.0],PARAMETER[\"False_Northing\",0.0],PARAMETER[\"Central_Meridian\",-69.0],PARAMETER[\"Scale_Factor\",0.9996],PARAMETER[\"Latitude_Of_Origin\",0.0],UNIT[\"Meter\",1.0]]',\n",
    "    coordinate_format=\"DD\"\n",
    ")"
   ]
  },
  {
   "cell_type": "code",
   "execution_count": 13,
   "id": "3fb734c7",
   "metadata": {},
   "outputs": [
    {
     "data": {
      "text/html": [
       "<div class='gpresult'><h2>Messages</h2><div id='messages' data-messages='[\"Start Time: Monday, August 14, 2023 12:11:50 PM\",\"Succeeded at Monday, August 14, 2023 12:11:55 PM (Elapsed Time: 5.08 seconds)\"]' data-show='true'><div id = 'default' /></div></div>"
      ],
      "text/plain": [
       "<Result 'C:\\\\Workspace\\\\Geodata\\\\Verify_Discharge\\\\Verify_Discharge.gdb\\\\CENSUS2010BLOCKS_POINT'>"
      ]
     },
     "execution_count": 13,
     "metadata": {},
     "output_type": "execute_result"
    }
   ],
   "source": [
    "arcpy.management.CopyFeatures(\n",
    "    in_features=r\"C:\\Workspace\\Geodata\\Massachusetts\\MassGIS_PointData\\CENSUS2010BLOCKS_POINT.shp\",\n",
    "    out_feature_class=r\"CENSUS2010BLOCKS_POINT\",)"
   ]
  },
  {
   "cell_type": "code",
   "execution_count": 14,
   "id": "ccfc568d",
   "metadata": {},
   "outputs": [
    {
     "data": {
      "text/html": [
       "<div class='gpresult'><h2>Messages</h2><div id='messages' data-messages='[\"Start Time: Monday, August 14, 2023 12:12:33 PM\",\"Adding POP_km2 to CENSUS2010BLOCKS_POINT...\",\"Succeeded at Monday, August 14, 2023 12:12:39 PM (Elapsed Time: 6.26 seconds)\"]' data-show='true'><div id = 'default' /></div></div>"
      ],
      "text/plain": [
       "<Result 'C:\\\\Workspace\\\\Geodata\\\\Verify_Discharge\\\\Verify_Discharge.gdb\\\\CENSUS2010BLOCKS_POINT'>"
      ]
     },
     "execution_count": 14,
     "metadata": {},
     "output_type": "execute_result"
    }
   ],
   "source": [
    "arcpy.management.CalculateField(\n",
    "    in_table=\"CENSUS2010BLOCKS_POINT\",\n",
    "    field=\"POP_km2\",\n",
    "    expression=\"!POP100_RE!/((!AREA_ACRES!)*0.00404686)\",\n",
    "    expression_type=\"PYTHON3\",\n",
    "    code_block=\"\",\n",
    "    field_type=\"FLOAT\",\n",
    "    enforce_domains=\"NO_ENFORCE_DOMAINS\")"
   ]
  },
  {
   "cell_type": "code",
   "execution_count": null,
   "id": "e9c1e2d5",
   "metadata": {},
   "outputs": [],
   "source": [
    "with arcpy.EnvManager(coincidentPoints=\"MEAN\", outputCoordinateSystem='PROJCS[\"NAD_1983_UTM_Zone_19N\",GEOGCS[\"GCS_North_American_1983\",DATUM[\"D_North_American_1983\",SPHEROID[\"GRS_1980\",6378137.0,298.257222101]],PRIMEM[\"Greenwich\",0.0],UNIT[\"Degree\",0.0174532925199433]],PROJECTION[\"Transverse_Mercator\"],PARAMETER[\"False_Easting\",500000.0],PARAMETER[\"False_Northing\",0.0],PARAMETER[\"Central_Meridian\",-69.0],PARAMETER[\"Scale_Factor\",0.9996],PARAMETER[\"Latitude_Of_Origin\",0.0],UNIT[\"Meter\",1.0]]', snapRaster=\"gw_elev_meters\", extent='239786.1488 4558611.5999 422661.4389 4746900.7902 PROJCS[\"NAD_1983_UTM_Zone_19N\",GEOGCS[\"GCS_North_American_1983\",DATUM[\"D_North_American_1983\",SPHEROID[\"GRS_1980\",6378137.0,298.257222101]],PRIMEM[\"Greenwich\",0.0],UNIT[\"Degree\",0.0174532925199433]],PROJECTION[\"Transverse_Mercator\"],PARAMETER[\"False_Easting\",500000.0],PARAMETER[\"False_Northing\",0.0],PARAMETER[\"Central_Meridian\",-69.0],PARAMETER[\"Scale_Factor\",0.9996],PARAMETER[\"Latitude_Of_Origin\",0.0],UNIT[\"Meter\",1.0]]', cellSize=\"gw_elev_meters\", mask=\"gw_elev_meters\"):\n",
    "    arcpy.ga.EmpiricalBayesianKriging(\n",
    "        in_features=\"df_NO3_rivers_streams_merged_XY\",\n",
    "        z_field=\"NO3\",\n",
    "        out_ga_layer=\"bayes_krig_NO3_rs\",\n",
    "        out_raster=r\"C:\\Workspace\\Geodata\\MEP\\Default.gdb\\bayes_krig_NO3_rs\",\n",
    "        cell_size=684.791010400005,\n",
    "        transformation_type=\"NONE\",\n",
    "        max_local_points=100,\n",
    "        overlap_factor=1,\n",
    "        number_semivariograms=100,\n",
    "        search_neighborhood=\"NBRTYPE=StandardCircular RADIUS=84261.4359376343 ANGLE=0 NBR_MAX=15 NBR_MIN=10 SECTOR_TYPE=ONE_SECTOR\",\n",
    "        output_type=\"PREDICTION\",\n",
    "        quantile_value=0.5,\n",
    "        threshold_type=\"EXCEED\",\n",
    "        probability_threshold=None,\n",
    "        semivariogram_model_type=\"POWER\"\n",
    "    )"
   ]
  },
  {
   "cell_type": "code",
   "execution_count": null,
   "id": "6e895da5",
   "metadata": {},
   "outputs": [],
   "source": [
    "with arcpy.EnvManager(coincidentPoints=\"MEAN\", outputCoordinateSystem='PROJCS[\"NAD_1983_UTM_Zone_19N\",GEOGCS[\"GCS_North_American_1983\",DATUM[\"D_North_American_1983\",SPHEROID[\"GRS_1980\",6378137.0,298.257222101]],PRIMEM[\"Greenwich\",0.0],UNIT[\"Degree\",0.0174532925199433]],PROJECTION[\"Transverse_Mercator\"],PARAMETER[\"False_Easting\",500000.0],PARAMETER[\"False_Northing\",0.0],PARAMETER[\"Central_Meridian\",-69.0],PARAMETER[\"Scale_Factor\",0.9996],PARAMETER[\"Latitude_Of_Origin\",0.0],UNIT[\"Meter\",1.0]]', snapRaster=None, extent='320794.421171825 4565485.30428723 424591.552503007 4681489.77085835 PROJCS[\"NAD_1983_UTM_Zone_19N\",GEOGCS[\"GCS_North_American_1983\",DATUM[\"D_North_American_1983\",SPHEROID[\"GRS_1980\",6378137.0,298.257222101]],PRIMEM[\"Greenwich\",0.0],UNIT[\"Degree\",0.0174532925199433]],PROJECTION[\"Transverse_Mercator\"],PARAMETER[\"False_Easting\",500000.0],PARAMETER[\"False_Northing\",0.0],PARAMETER[\"Central_Meridian\",-69.0],PARAMETER[\"Scale_Factor\",0.9996],PARAMETER[\"Latitude_Of_Origin\",0.0],UNIT[\"Meter\",1.0]]', cellSize=\"MAXOF\", mask=None):\n",
    "    arcpy.ga.EmpiricalBayesianKriging(\n",
    "        in_features=\"df_NO3_rivers_streams_merged_XY\",\n",
    "        z_field=\"NO3\",\n",
    "        out_ga_layer=\"bayes_krig_NO3_rs_kb_100m_MA\",\n",
    "        out_raster=r\"C:\\Workspace\\Geodata\\MEP\\Default.gdb\\bayes_krig_NO3_rs_kb_100m_MA\",\n",
    "        cell_size=250,\n",
    "        transformation_type=\"LOGEMPIRICAL\",\n",
    "        max_local_points=100,\n",
    "        overlap_factor=1,\n",
    "        number_semivariograms=100,\n",
    "        search_neighborhood=\"NBRTYPE=StandardCircular RADIUS=84261.4359376343 ANGLE=0 NBR_MAX=15 NBR_MIN=5 SECTOR_TYPE=ONE_SECTOR\",\n",
    "        output_type=\"PREDICTION\",\n",
    "        quantile_value=0.5,\n",
    "        threshold_type=\"EXCEED\",\n",
    "        probability_threshold=None,\n",
    "        semivariogram_model_type=\"K_BESSEL\"\n",
    "    )"
   ]
  },
  {
   "cell_type": "code",
   "execution_count": null,
   "id": "b5f33241",
   "metadata": {},
   "outputs": [],
   "source": [
    "arcpy.sa.ExtractMultiValuesToPoints(\n",
    "    in_point_features=\"df_NO3_rivers_streams_merged_XY\",\n",
    "    in_rasters=\"density_SW density_SW;density_GWD density_GWD;density_POP density_POP;density_HU density_HU;bayes_krig_NO3_rs_kb_100m bayes_krig_NO3_rs_kb_250m\",\n",
    "    bilinear_interpolate_values=\"NONE\"\n",
    ")"
   ]
  },
  {
   "cell_type": "code",
   "execution_count": null,
   "id": "a1abdb33",
   "metadata": {},
   "outputs": [],
   "source": [
    "arcpy.sa.ExtractMultiValuesToPoints(\n",
    "    in_point_features=\"bogs_points\",\n",
    "    in_rasters=\"density_SW density_SW;density_GWD density_GWD;density_POP density_POP;density_HU density_HU;bayes_krig_NO3_rs_kb_100m bayes_krig_NO3_rs_kb_250m\",\n",
    "    bilinear_interpolate_values=\"NONE\"\n",
    ")"
   ]
  },
  {
   "cell_type": "code",
   "execution_count": null,
   "id": "5a6c680f",
   "metadata": {},
   "outputs": [],
   "source": [
    "arcpy.gapro.Forest(\n",
    "    prediction_type=\"TRAIN_AND_PREDICT\",\n",
    "    in_features=\"df_NO3_rivers_streams_merged_XY\",\n",
    "    output_trained_features=r\"C:\\Workspace\\Geodata\\MEP\\Default.gdb\\NO3_RF_trained\",\n",
    "    variable_predict=\"NO3\",\n",
    "    treat_variable_as_categorical=None,\n",
    "    explanatory_variables=\"density_SW false;density_GWD false;density_HU false;density_POP false;bayes_krig_NO3_rs_kb_250m false\",\n",
    "    features_to_predict=\"bogs_points\",\n",
    "    variable_of_importance=None,\n",
    "    output_predicted=r\"C:\\Workspace\\Geodata\\MEP\\Default.gdb\\bog_points_predicted_NO3_RF\",\n",
    "    explanatory_variable_matching=\"density_SW density_SW;density_GWD density_GWD;density_HU density_HU;density_POP density_POP;bayes_krig_NO3_rs_kb_250m bayes_krig_NO3_rs_kb_250m; density_structure_SQ_FT density_structure_SQ_FT\",\n",
    "    number_of_trees=100,\n",
    "    minimum_leaf_size=None,\n",
    "    maximum_tree_depth=None,\n",
    "    sample_size=100,\n",
    "    random_variables=None,\n",
    "    percentage_for_validation=20\n",
    ")"
   ]
  },
  {
   "cell_type": "code",
   "execution_count": 16,
   "id": "993f0e1e",
   "metadata": {
    "scrolled": true
   },
   "outputs": [
    {
     "ename": "ExecuteError",
     "evalue": "Failed to execute. Parameters are not valid.\nERROR 000732: Input Table: Dataset C:\\Workspace\\Geodata\\MEP\\Default.gdb\\NO3_RF_trained does not exist or is not supported\nWARNING 000725: Output Excel File (.xls or .xlsx): Dataset C:\\Workspace\\Geodata\\Verify_Discharge\\outputs\\NO3_RF_trained_TableToExcel.xls already exists.\nFailed to execute (TableToExcel).\n",
     "output_type": "error",
     "traceback": [
      "\u001b[0;31m---------------------------------------------------------------------------\u001b[0m\n\u001b[0;31mExecuteError\u001b[0m                              Traceback (most recent call last)",
      "In  \u001b[0;34m[16]\u001b[0m:\nLine \u001b[0;34m2\u001b[0m:     arcpy.conversion.TableToExcel(\n",
      "File \u001b[0;34mC:\\Program Files\\ArcGIS\\Pro\\Resources\\ArcPy\\arcpy\\conversion.py\u001b[0m, in \u001b[0;32mTableToExcel\u001b[0m:\nLine \u001b[0;34m559\u001b[0m:   \u001b[34mraise\u001b[39;49;00m e\n",
      "File \u001b[0;34mC:\\Program Files\\ArcGIS\\Pro\\Resources\\ArcPy\\arcpy\\conversion.py\u001b[0m, in \u001b[0;32mTableToExcel\u001b[0m:\nLine \u001b[0;34m556\u001b[0m:   retval = convertArcObjectToPythonObject(gp.TableToExcel_conversion(*gp_fixargs((Input_Table, Output_Excel_File, Use_field_alias_as_column_header, Use_domain_and_subtype_description), \u001b[34mTrue\u001b[39;49;00m)))\n",
      "File \u001b[0;34mC:\\Program Files\\ArcGIS\\Pro\\Resources\\ArcPy\\arcpy\\geoprocessing\\_base.py\u001b[0m, in \u001b[0;32m<lambda>\u001b[0m:\nLine \u001b[0;34m512\u001b[0m:   \u001b[34mreturn\u001b[39;49;00m \u001b[34mlambda\u001b[39;49;00m *args: val(*gp_fixargs(args, \u001b[34mTrue\u001b[39;49;00m))\n",
      "\u001b[0;31mExecuteError\u001b[0m: Failed to execute. Parameters are not valid.\nERROR 000732: Input Table: Dataset C:\\Workspace\\Geodata\\MEP\\Default.gdb\\NO3_RF_trained does not exist or is not supported\nWARNING 000725: Output Excel File (.xls or .xlsx): Dataset C:\\Workspace\\Geodata\\Verify_Discharge\\outputs\\NO3_RF_trained_TableToExcel.xls already exists.\nFailed to execute (TableToExcel).\n\n\u001b[0;31m---------------------------------------------------------------------------\u001b[0m"
     ]
    }
   ],
   "source": [
    "# EXPORT TO EXCEL\n",
    "arcpy.conversion.TableToExcel(\n",
    "    Input_Table=r\"C:\\Workspace\\Geodata\\MEP\\Default.gdb\\NO3_RF_trained\",\n",
    "    Output_Excel_File=r\"C:\\Workspace\\Geodata\\Verify_Discharge\\outputs\\NO3_RF_trained_TableToExcel.xls\",\n",
    "    Use_field_alias_as_column_header=\"NAME\",\n",
    "    Use_domain_and_subtype_description=\"CODE\"\n",
    ")\n",
    "\n",
    "arcpy.conversion.TableToExcel(\n",
    "    Input_Table=r\"C:\\Workspace\\Geodata\\MEP\\Default.gdb\\bog_points_predicted_NO3_RF\",\n",
    "    Output_Excel_File=r\"C:\\Workspace\\Geodata\\Verify_Discharge\\outputs\\bog_points_predicted_NO3_RF_TableToExcel.xls\",\n",
    "    Use_field_alias_as_column_header=\"NAME\",\n",
    "    Use_domain_and_subtype_description=\"CODE\"\n",
    ")"
   ]
  }
 ],
 "metadata": {
  "kernelspec": {
   "display_name": "ArcGISPro",
   "language": "Python",
   "name": "python3"
  },
  "language_info": {
   "file_extension": ".py",
   "name": "python",
   "version": "3"
  }
 },
 "nbformat": 4,
 "nbformat_minor": 5
}
