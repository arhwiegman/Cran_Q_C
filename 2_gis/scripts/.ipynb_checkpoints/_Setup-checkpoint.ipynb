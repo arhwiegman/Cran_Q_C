{
 "cells": [
  {
   "cell_type": "markdown",
   "metadata": {},
   "source": [
    "## Metadata"
   ]
  },
  {
   "cell_type": "markdown",
   "metadata": {},
   "source": [
    "Set up Arcpy workspace\n",
    "\n",
    "Author: Adrian Wiegman, adrian.wiegman@usda.gov\n",
    "\n",
    "Created: 10:05 AM Thursday, March 30, 2023\n",
    "\n",
    "Updated: April 18, 2023\n",
    "\n",
    "Notes and Instructions:\n",
    "\n",
    "- Run this script at the begining of all python workflows for this project\n",
    "\n",
    "- Click the following link for tips on using arcpy: \n",
    "https://pro.arcgis.com/en/pro-app/latest/arcpy/mapping/tutorial-getting-started-with-arcpy-mp.htm\n",
    "\n",
    "The code block below can be copied into new notebooks"
   ]
  },
  {
   "cell_type": "raw",
   "metadata": {},
   "source": [
    "# this codeblock sets up the environment from a jupyter notebook\n",
    "setup_notebook = \"C:/Users/Adrian.Wiegman/Documents/GitHub/Wiegman_USDA_ARS/Cran_Q_C/2_gis/scripts/_Setup.ipynb\"\n",
    "%run $setup_notebook # magic command to run the notebook "
   ]
  },
  {
   "cell_type": "markdown",
   "metadata": {},
   "source": [
    "Additionally the following commands may be useful to run at the beginning of notebooks"
   ]
  },
  {
   "cell_type": "raw",
   "metadata": {},
   "source": [
    "# iphython options\n",
    "# delete variables in workspace\n",
    "%reset -f\n",
    "#places plots inline\n",
    "%matplotlib inline\n",
    "#automatically reloads modules if they are changed\n",
    "%load_ext autoreload \n",
    "%autoreload 2"
   ]
  },
  {
   "cell_type": "markdown",
   "metadata": {},
   "source": [
    "## Main Program"
   ]
  },
  {
   "cell_type": "code",
   "execution_count": 2,
   "metadata": {},
   "outputs": [],
   "source": [
    "# reset all variables\n",
    "%reset -f"
   ]
  },
  {
   "cell_type": "code",
   "execution_count": 3,
   "metadata": {
    "scrolled": true
   },
   "outputs": [
    {
     "name": "stdout",
     "output_type": "stream",
     "text": [
      "***\n",
      "loading python modules...\n",
      "\n",
      "  `module_list` contains names of all loaded modules\n",
      "\n",
      "...module loading complete\n",
      "\n"
     ]
    }
   ],
   "source": [
    "# Load dependancies ***************************************\n",
    "print(\"***\\nloading python modules...\\n\")\n",
    "import arcpy\n",
    "import arcpy as ap\n",
    "import os, glob, re, sys, tempfile\n",
    "import pandas as pd\n",
    "import numpy as np\n",
    "#import scipy.stats\n",
    "\n",
    "# make a list of loaded modules\n",
    "module_list = [module.__name__ for module in sys.modules.values()]\n",
    "print(\"  `module_list` contains names of all loaded modules\")\n",
    "print(\"\\n...module loading complete\\n\")"
   ]
  },
  {
   "cell_type": "code",
   "execution_count": 4,
   "metadata": {},
   "outputs": [
    {
     "name": "stdout",
     "output_type": "stream",
     "text": [
      "***\n",
      "loading user defined functions...\n",
      "\n",
      "type `fn_`+TAB to for autocomplete suggestions\n",
      "\n",
      " the object `def_list` contains user defined function names:\n",
      "   fn_get_info\n",
      "   fn_arcgis_table_to_df\n",
      "   fn_arcgis_table_to_np_to_pd_df\n",
      "   fn_run_script_w_propy_bat\n",
      "   fn_try_mkdir\n",
      "   fn_hello\n",
      "   fn_recursive_glob_search\n",
      "   fn_regex_search_replace\n",
      "   fn_regex_search_0\n",
      "   fn_arcpy_table_to_excel\n",
      "   fn_agg_sum_df_on_group\n",
      "   fn_add_prefix_suffix_to_selected_cols\n",
      "   fn_calc_pct_cover_within_groups\n",
      "   fn_buildWhereClauseFromList\n",
      "   fn_FA_to_Q\n",
      "   fn_alter_field_double\n",
      "   fn_return_float\n",
      "   fn_classify_wetlands\n",
      "\n",
      " use ??{insert fn name} to inspect\n",
      " for example running `??fn_get_info` returns:\n",
      "\u001b[1;31mSignature:\u001b[0m \u001b[0mfn_get_info\u001b[0m\u001b[1;33m(\u001b[0m\u001b[0mname\u001b[0m\u001b[1;33m=\u001b[0m\u001b[1;34m'fn_get_info'\u001b[0m\u001b[1;33m)\u001b[0m\u001b[1;33m\u001b[0m\u001b[1;33m\u001b[0m\u001b[0m\n",
      "\u001b[1;31mSource:\u001b[0m   \n",
      "\u001b[1;32mdef\u001b[0m \u001b[0mfn_get_info\u001b[0m\u001b[1;33m(\u001b[0m\u001b[0mname\u001b[0m\u001b[1;33m=\u001b[0m\u001b[1;34m'fn_get_info'\u001b[0m\u001b[1;33m)\u001b[0m\u001b[1;33m:\u001b[0m\u001b[1;33m\n",
      "\u001b[0m    \u001b[1;34m'''\n",
      "    returns the source information about a given function name\n",
      "    '''\u001b[0m\u001b[1;33m\n",
      "\u001b[0m    \u001b[0mget_ipython\u001b[0m\u001b[1;33m(\u001b[0m\u001b[1;33m)\u001b[0m\u001b[1;33m.\u001b[0m\u001b[0mrun_line_magic\u001b[0m\u001b[1;33m(\u001b[0m\u001b[1;34m'pinfo2'\u001b[0m\u001b[1;33m,\u001b[0m \u001b[1;34m'$name'\u001b[0m\u001b[1;33m)\u001b[0m\u001b[1;33m\u001b[0m\u001b[1;33m\u001b[0m\u001b[0m\n",
      "\u001b[1;31mFile:\u001b[0m      c:\\windows\\system32\\<ipython-input-1-28f96385f735>\n",
      "\u001b[1;31mType:\u001b[0m      function\n",
      "\n",
      " you can also use `fn_get_info(name={insert fn name})` to do the same thing as `??{insert fn name}`\n",
      "\n",
      "...function loading complete\n",
      "\n"
     ]
    }
   ],
   "source": [
    "# there are many ways to import functions https://stackoverflow.com/questions/42163470/how-to-execute-a-py-file-from-a-ipynb-file-on-the-jupyter-notebook\n",
    "print(\"***\\nloading user defined functions...\\n\")\n",
    "function_notebook = \"C:/Users/Adrian.Wiegman/Documents/GitHub/Wiegman_USDA_ARS/Cran_Q_C/2_gis/scripts/_Functions.ipynb\"\n",
    "\n",
    "# here we use the magic command %run to execute the file specified in the string function_notebook\n",
    "%run $function_notebook\n",
    "\n",
    "# print user defined functions\n",
    "print(\"\\n the object `def_list` contains user defined function names:\")\n",
    "copy_dict = dict(locals())\n",
    "def_list = []\n",
    "for key, value in copy_dict.items():\n",
    "    if callable(value) and value.__module__ == __name__:\n",
    "        print('  ',key)\n",
    "        def_list.append(key)\n",
    "        \n",
    "print(\"\\n use ??{insert fn name} to inspect\")\n",
    "\n",
    "print(\" for example running `??fn_get_info` returns:\")\n",
    "name = \"fn_get_info\"\n",
    "??$name\n",
    "\n",
    "print(\"\\n you can also use `fn_get_info(name={insert fn name})` to do the same thing as `??{insert fn name}`\")\n",
    "#fn_get_info(\"fn_get_info\")\n",
    "       \n",
    "print(\"\\n...function loading complete\\n\")"
   ]
  },
  {
   "cell_type": "code",
   "execution_count": 5,
   "metadata": {},
   "outputs": [
    {
     "name": "stdout",
     "output_type": "stream",
     "text": [
      "***\n",
      "managing project directories:\n",
      " working directory (`wdr`): C:\\Workspace\\Geodata\\Cran_Q_C\\\n",
      " temp dir (`tdr.name`): C:\\Users\\ADRIAN~1.WIE\\AppData\\Local\\Temp\\ArcGISProTemp12332\\tmpsp4_l38b\n",
      " input file directory (`idr`): C:\\Workspace\\Geodata\\Cran_Q_C\\inputs\n",
      " output dir (`odr`): C:\\Workspace\\Geodata\\Cran_Q_C\\outputs\n",
      "\n",
      "\n",
      "\n"
     ]
    }
   ],
   "source": [
    "print(\"***\\nmanaging project directories:\")\n",
    "# working directory this should be where arcgis project is located\n",
    "wdr = \"C:\\\\Workspace\\\\Geodata\\\\Cran_Q_C\\\\\"\n",
    "print(\" working directory (`wdr`):\",wdr)\n",
    "\n",
    "# temporary directory\n",
    "tdr = tempfile.TemporaryDirectory()\n",
    "print(' temp dir (`tdr.name`):',tdr.name)\n",
    "\n",
    "# input data directory\n",
    "input_dir_name = \"inputs\"\n",
    "idr = os.path.join(wdr,input_dir_name)\n",
    "fn_try_mkdir(idr)\n",
    "print(\" input file directory (`idr`):\",idr)\n",
    "\n",
    "# output directory\n",
    "output_dir_name = \"outputs\"\n",
    "odr = os.path.join(wdr,output_dir_name)\n",
    "fn_try_mkdir(odr)\n",
    "print(\" output dir (`odr`):\",odr)\n",
    "print(\"\\n\\n\")"
   ]
  },
  {
   "cell_type": "code",
   "execution_count": 6,
   "metadata": {},
   "outputs": [
    {
     "name": "stdout",
     "output_type": "stream",
     "text": [
      "\n",
      "***\n",
      "setting up arcpy environment...\n",
      "\n",
      " default geodatabase path (`gdb_default_path`): C:\\Workspace\\Geodata\\Cran_Q_C\\Default.gdb\n",
      " active map (`mx`) name: Map1_prep_bogs\n",
      " output coordinate system: NAD_1983_UTM_Zone_19N\n"
     ]
    }
   ],
   "source": [
    "# Set up arcpy environment ******************************\n",
    "print(\"\\n***\\nsetting up arcpy environment...\\n\")\n",
    "\n",
    "# create an object for managing the project. \n",
    "aprx = arcpy.mp.ArcGISProject(\"Current\") # current project\n",
    "\n",
    "# select default geodatabase\n",
    "gdb_default_name = \"Default.gdb\"\n",
    "#gdb_default_name = \"Cran_Q_C.gdb\"\n",
    "gdb_default_path = os.path.join(wdr,gdb_default_name)\n",
    "if not os.path.exists(gdb_default_path):\n",
    "    arcpy.management.CreateFileGDB(wdr,gdb_default_name)\n",
    "aprx.defaultGeodatabase = gdb_default_path\n",
    "print(\" default geodatabase path (`gdb_default_path`):\",gdb_default_path)\n",
    "\n",
    "# set the path for the arcpy environment inside the default geodatabase\n",
    "ap.env.workspace = gdb_default_path\n",
    "\n",
    "# create an object for managing the map\n",
    "mx = aprx.listMaps()[0]\n",
    "print(\" active map (`mx`) name:\",mx.name)\n",
    "\n",
    "ap.CheckOutExtension(\"Spatial\") # check out spatial extension\n",
    "\n",
    "# manage coordinate system\n",
    "ap.env.outputCoordinateSystem = arcpy.SpatialReference(\"NAD 1983 UTM Zone 19N\") # define cordinate system\n",
    "print(\" output coordinate system:\", ap.env.outputCoordinateSystem.name)\n",
    "\n",
    "# prevent outputs from being added to the map\n",
    "arcpy.env.addOutputsToMap = False\n",
    "\n",
    "# Allow overwriting of output\n",
    "arcpy.env.overwriteOutput = True\n",
    "#ap.SetProgressor(\"step\", \"processing...\", step_value = 5)"
   ]
  },
  {
   "cell_type": "code",
   "execution_count": 7,
   "metadata": {},
   "outputs": [
    {
     "name": "stdout",
     "output_type": "stream",
     "text": [
      "\n",
      "... env setup complete\n",
      "\n"
     ]
    }
   ],
   "source": [
    "print(\"\\n... env setup complete\\n\")"
   ]
  },
  {
   "cell_type": "code",
   "execution_count": 8,
   "metadata": {},
   "outputs": [
    {
     "name": "stdout",
     "output_type": "stream",
     "text": [
      "\n",
      "+++SETUP COMPLETE+++\n",
      "\n",
      "\n"
     ]
    }
   ],
   "source": [
    "print(\"\\n+++SETUP COMPLETE+++\\n\\n\")"
   ]
  }
 ],
 "metadata": {
  "kernelspec": {
   "display_name": "ArcGISPro",
   "language": "python",
   "name": "python3"
  },
  "language_info": {
   "file_extension": ".py",
   "mimetype": "text/x-python",
   "name": "python",
   "version": "3.11.10"
  }
 },
 "nbformat": 4,
 "nbformat_minor": 4
}
