{
 "cells": [
  {
   "cell_type": "markdown",
   "id": "f682951b",
   "metadata": {},
   "source": [
    "**Export Outputs**\n",
    "\n",
    "Adrian Wiegman\n",
    "\n",
    "2024-12-30\n",
    "\n",
    "-------"
   ]
  },
  {
   "cell_type": "markdown",
   "id": "c9e36dc6",
   "metadata": {
    "heading_collapsed": true
   },
   "source": [
    "## Description"
   ]
  },
  {
   "cell_type": "markdown",
   "id": "159f7739",
   "metadata": {
    "hidden": true
   },
   "source": [
    "In this notebook I export essential raster and vector outputs of geospatial processing scripts to open data format\n",
    "\n",
    "Geopackage (SQlite) https://www.geopackage.org/\n",
    " "
   ]
  },
  {
   "cell_type": "markdown",
   "id": "2d59851c",
   "metadata": {},
   "source": [
    "## Setup Environment"
   ]
  },
  {
   "cell_type": "code",
   "execution_count": 12,
   "id": "57449377-8e5a-45b6-bec9-571898329398",
   "metadata": {
    "jp-MarkdownHeadingCollapsed": true,
    "scrolled": true
   },
   "outputs": [
    {
     "name": "stdout",
     "output_type": "stream",
     "text": [
      "The autoreload extension is already loaded. To reload it, use:\n",
      "  %reload_ext autoreload\n",
      "***\n",
      "loading python modules...\n",
      "\n",
      "  `module_list` contains names of all loaded modules\n",
      "\n",
      "...module loading complete\n",
      "\n",
      "***\n",
      "loading user defined functions...\n",
      "\n",
      "type `fn_`+TAB to for autocomplete suggestions\n",
      "\n",
      " the object `def_list` contains user defined function names:\n",
      "   fn_get_info\n",
      "   fn_arcgis_table_to_df\n",
      "   fn_arcgis_table_to_np_to_pd_df\n",
      "  "
     ]
    },
    {
     "data": {
      "text/plain": [
       "\u001b[1;31mSignature:\u001b[0m \u001b[0mfn_get_info\u001b[0m\u001b[1;33m(\u001b[0m\u001b[0mname\u001b[0m\u001b[1;33m=\u001b[0m\u001b[1;34m'fn_get_info'\u001b[0m\u001b[1;33m)\u001b[0m\u001b[1;33m\u001b[0m\u001b[1;33m\u001b[0m\u001b[0m\n",
       "\u001b[1;31mDocstring:\u001b[0m returns the source information about a given function name\n",
       "\u001b[1;31mSource:\u001b[0m   \n",
       "\u001b[1;32mdef\u001b[0m \u001b[0mfn_arcpy_raster_to_gpkg\u001b[0m\u001b[1;33m(\u001b[0m\u001b[0min_rast\u001b[0m\u001b[1;33m=\u001b[0m\u001b[1;32mNone\u001b[0m\u001b[1;33m,\u001b[0m\u001b[1;33m\n",
       "\u001b[0m                            \u001b[0mgpkg\u001b[0m\u001b[1;33m=\u001b[0m\u001b[1;34mr\"C:\\Workspace\\Geodata\\Cran_Q_C\\outputs\\Cran_Q_C_outputs.gpkg\"\u001b[0m\u001b[1;33m,\u001b[0m\u001b[1;33m\n",
       "\u001b[0m                            \u001b[0mout_name\u001b[0m\u001b[1;33m=\u001b[0m\u001b[1;32mNone\u001b[0m\u001b[1;33m,\u001b[0m\u001b[1;33m\n",
       "\u001b[0m                            \u001b[0maoi\u001b[0m\u001b[1;33m=\u001b[0m\u001b[1;34mr\"C:\\Workspace\\Geodata\\Cran_Q_C\\Default.gdb\\domain_rast_mask\"\u001b[0m\u001b[1;33m)\u001b[0m\u001b[1;33m:\u001b[0m\u001b[1;33m\n",
       "\u001b[0m    \u001b[1;34m'''\n",
       "    this function is a wrapper around `arcpy.conversion.AddRasterToGeoPackage`\n",
       "    copies an input raster to a target geopackage and saves in with a new name and \n",
       "    in_rast: input raster file path and name\n",
       "    gpkg: geopackage file path and name \n",
       "    out_name: new name for raster in geopackage\n",
       "    aoi: \"area of interest\" a raster file used to limit the extend the from which the in_rast is copied\n",
       "    '''\u001b[0m\u001b[1;33m\n",
       "\u001b[0m    \u001b[0marcpy\u001b[0m\u001b[1;33m.\u001b[0m\u001b[0mconversion\u001b[0m\u001b[1;33m.\u001b[0m\u001b[0mAddRasterToGeoPackage\u001b[0m\u001b[1;33m(\u001b[0m\u001b[1;33m\n",
       "\u001b[0m        \u001b[0min_dataset\u001b[0m\u001b[1;33m=\u001b[0m\u001b[0min_rast\u001b[0m\u001b[1;33m,\u001b[0m\u001b[1;33m\n",
       "\u001b[0m        \u001b[0mtarget_geopackage\u001b[0m\u001b[1;33m=\u001b[0m\u001b[0mgpkg\u001b[0m\u001b[1;33m,\u001b[0m\u001b[1;33m\n",
       "\u001b[0m        \u001b[0mraster_name\u001b[0m\u001b[1;33m=\u001b[0m\u001b[0mout_name\u001b[0m\u001b[1;33m,\u001b[0m\u001b[1;33m\n",
       "\u001b[0m        \u001b[0mtiling_scheme\u001b[0m\u001b[1;33m=\u001b[0m\u001b[1;34m\"TILED\"\u001b[0m\u001b[1;33m,\u001b[0m\u001b[1;33m\n",
       "\u001b[0m        \u001b[0mtiling_scheme_file\u001b[0m\u001b[1;33m=\u001b[0m\u001b[1;32mNone\u001b[0m\u001b[1;33m,\u001b[0m\u001b[1;33m\n",
       "\u001b[0m        \u001b[0marea_of_interest\u001b[0m\u001b[1;33m=\u001b[0m\u001b[0maoi\u001b[0m\u001b[1;33m)\u001b[0m\u001b[1;33m\u001b[0m\u001b[1;33m\u001b[0m\u001b[0m\n",
       "\u001b[1;31mFile:\u001b[0m      Dynamically generated function. No source code available.\n",
       "\u001b[1;31mType:\u001b[0m      function"
      ]
     },
     "metadata": {},
     "output_type": "display_data"
    },
    {
     "name": "stdout",
     "output_type": "stream",
     "text": [
      " fn_run_script_w_propy_bat\n",
      "   fn_try_mkdir\n",
      "   fn_hello\n",
      "   fn_recursive_glob_search\n",
      "   fn_regex_search_replace\n",
      "   fn_regex_search_0\n",
      "   fn_arcpy_table_to_excel\n",
      "   fn_agg_sum_df_on_group\n",
      "   fn_add_prefix_suffix_to_selected_cols\n",
      "   fn_calc_pct_cover_within_groups\n",
      "   fn_buildWhereClauseFromList\n",
      "   fn_FA_to_Q\n",
      "   fn_alter_field_double\n",
      "   fn_return_float\n",
      "   fn_classify_wetlands\n",
      "   fn_arcpy_raster_to_gpkg\n",
      "\n",
      " use ??{insert fn name} to inspect\n",
      " for example running `??fn_get_info` returns:\n",
      "\n",
      " you can also use `fn_get_info(name={insert fn name})` to do the same thing as `??{insert fn name}`\n",
      "\n",
      "...function loading complete\n",
      "\n",
      "***\n",
      "managing project directories:\n",
      " working directory (`wdr`): C:\\Workspace\\Geodata\\Cran_Q_C\\\n",
      " temp dir (`tdr.name`): C:\\Users\\ADRIAN~1.WIE\\AppData\\Local\\Temp\\ArcGISProTemp31852\\tmpyqgnc79p\n",
      " input file directory (`idr`): C:\\Workspace\\Geodata\\Cran_Q_C\\inputs\n",
      " output dir (`odr`): C:\\Workspace\\Geodata\\Cran_Q_C\\outputs\n",
      "\n",
      "\n",
      "\n",
      "\n",
      "***\n",
      "setting up arcpy environment...\n",
      "\n",
      " default geodatabase path (`gdb_default_path`): C:\\Workspace\\Geodata\\Cran_Q_C\\Default.gdb\n",
      " active map (`mx`) name: Map2_prep_gw\n",
      " output coordinate system: NAD_1983_UTM_Zone_19N\n",
      "\n",
      "... env setup complete\n",
      "\n",
      "\n",
      "+++SETUP COMPLETE+++\n",
      "\n",
      "\n"
     ]
    }
   ],
   "source": [
    "# iphython options\n",
    "# delete variables in workspace\n",
    "%reset -f\n",
    "#places plots inline\n",
    "%matplotlib inline\n",
    "#automatically reloads modules if they are changed\n",
    "%load_ext autoreload \n",
    "%autoreload 2\n",
    "# this codeblock sets up the environment from jupyter notebooks\n",
    "setup_notebook = r\"C:\\Users\\Adrian.Wiegman\\Documents\\GitHub\\Wiegman_USDA_ARS\\Cran_Q_C\\2_gis\\scripts\\_Setup.ipynb\"\n",
    "%run $setup_notebook # magic command to run the notebook "
   ]
  },
  {
   "cell_type": "code",
   "execution_count": 13,
   "id": "f15a7487-46a6-42fe-9b83-a5cc13d972f6",
   "metadata": {},
   "outputs": [],
   "source": [
    "def fn_arcpy_raster_to_gpkg(in_rast=None,\n",
    "                            gpkg=r\"C:\\Workspace\\Geodata\\Cran_Q_C\\outputs\\Cran_Q_C_outputs.gpkg\",\n",
    "                            out_name=None,\n",
    "                            aoi=r\"C:\\Workspace\\Geodata\\Cran_Q_C\\Default.gdb\\domain_rast_mask\"):\n",
    "    '''\n",
    "    this function is a wrapper around `arcpy.conversion.AddRasterToGeoPackage`\n",
    "    copies an input raster to a target geopackage and saves in with a new name and \n",
    "    in_rast: input raster file path and name\n",
    "    gpkg: geopackage file path and name \n",
    "    out_name: new name for raster in geopackage\n",
    "    aoi: \"area of interest\" a raster file used to limit the extend the from which the in_rast is copied\n",
    "    '''\n",
    "    arcpy.conversion.AddRasterToGeoPackage(\n",
    "        in_dataset=in_rast,\n",
    "        target_geopackage=gpkg,\n",
    "        raster_name=out_name,\n",
    "        tiling_scheme=\"TILED\",\n",
    "        tiling_scheme_file=None,\n",
    "        area_of_interest=aoi)"
   ]
  },
  {
   "cell_type": "code",
   "execution_count": 14,
   "id": "9cfcbb53-bd93-47a6-b8cc-7c499e54da93",
   "metadata": {},
   "outputs": [
    {
     "ename": "<class 'arcgisscripting.ExecuteError'>",
     "evalue": "ERROR 000601: Cannot delete C:\\Workspace\\Geodata\\Cran_Q_C\\outputs\\Cran_Q_C_outputs.gpkg.  May be locked by another application.\nFailed to execute (CreateSQLiteDatabase).\n",
     "output_type": "error",
     "traceback": [
      "\u001b[1;31m---------------------------------------------------------------------------\u001b[0m",
      "\u001b[1;31mExecuteError\u001b[0m                              Traceback (most recent call last)",
      "Cell \u001b[1;32mIn[14], line 1\u001b[0m\n\u001b[1;32m----> 1\u001b[0m arcpy\u001b[38;5;241m.\u001b[39mmanagement\u001b[38;5;241m.\u001b[39mCreateSQLiteDatabase(\n\u001b[0;32m      2\u001b[0m     out_database_name\u001b[38;5;241m=\u001b[39m\u001b[38;5;124mr\u001b[39m\u001b[38;5;124m\"\u001b[39m\u001b[38;5;124mC:\u001b[39m\u001b[38;5;124m\\\u001b[39m\u001b[38;5;124mWorkspace\u001b[39m\u001b[38;5;124m\\\u001b[39m\u001b[38;5;124mGeodata\u001b[39m\u001b[38;5;124m\\\u001b[39m\u001b[38;5;124mCran_Q_C\u001b[39m\u001b[38;5;124m\\\u001b[39m\u001b[38;5;124moutputs\u001b[39m\u001b[38;5;124m\\\u001b[39m\u001b[38;5;124mCran_Q_C_outputs.gpkg\u001b[39m\u001b[38;5;124m\"\u001b[39m,\n\u001b[0;32m      3\u001b[0m     spatial_type\u001b[38;5;241m=\u001b[39m\u001b[38;5;124m\"\u001b[39m\u001b[38;5;124mGEOPACKAGE\u001b[39m\u001b[38;5;124m\"\u001b[39m\n\u001b[0;32m      4\u001b[0m )\n",
      "File \u001b[1;32mC:\\Program Files\\ArcGIS\\Pro\\Resources\\ArcPy\\arcpy\\management.py:34257\u001b[0m, in \u001b[0;36mCreateSQLiteDatabase\u001b[1;34m(out_database_name, spatial_type)\u001b[0m\n\u001b[0;32m  34255\u001b[0m     \u001b[38;5;28;01mreturn\u001b[39;00m retval\n\u001b[0;32m  34256\u001b[0m \u001b[38;5;28;01mexcept\u001b[39;00m \u001b[38;5;167;01mException\u001b[39;00m \u001b[38;5;28;01mas\u001b[39;00m e:\n\u001b[1;32m> 34257\u001b[0m     \u001b[38;5;28;01mraise\u001b[39;00m e\n",
      "File \u001b[1;32mC:\\Program Files\\ArcGIS\\Pro\\Resources\\ArcPy\\arcpy\\management.py:34253\u001b[0m, in \u001b[0;36mCreateSQLiteDatabase\u001b[1;34m(out_database_name, spatial_type)\u001b[0m\n\u001b[0;32m  34249\u001b[0m \u001b[38;5;28;01mfrom\u001b[39;00m \u001b[38;5;21;01marcpy\u001b[39;00m\u001b[38;5;21;01m.\u001b[39;00m\u001b[38;5;21;01marcobjects\u001b[39;00m\u001b[38;5;21;01m.\u001b[39;00m\u001b[38;5;21;01marcobjectconversion\u001b[39;00m \u001b[38;5;28;01mimport\u001b[39;00m convertArcObjectToPythonObject\n\u001b[0;32m  34251\u001b[0m \u001b[38;5;28;01mtry\u001b[39;00m:\n\u001b[0;32m  34252\u001b[0m     retval \u001b[38;5;241m=\u001b[39m convertArcObjectToPythonObject(\n\u001b[1;32m> 34253\u001b[0m         gp\u001b[38;5;241m.\u001b[39mCreateSQLiteDatabase_management(\u001b[38;5;241m*\u001b[39mgp_fixargs((out_database_name, spatial_type), \u001b[38;5;28;01mTrue\u001b[39;00m))\n\u001b[0;32m  34254\u001b[0m     )\n\u001b[0;32m  34255\u001b[0m     \u001b[38;5;28;01mreturn\u001b[39;00m retval\n\u001b[0;32m  34256\u001b[0m \u001b[38;5;28;01mexcept\u001b[39;00m \u001b[38;5;167;01mException\u001b[39;00m \u001b[38;5;28;01mas\u001b[39;00m e:\n",
      "File \u001b[1;32mC:\\Program Files\\ArcGIS\\Pro\\Resources\\ArcPy\\arcpy\\geoprocessing\\_base.py:532\u001b[0m, in \u001b[0;36mGeoprocessor.__getattr__.<locals>.<lambda>\u001b[1;34m(*args)\u001b[0m\n\u001b[0;32m    530\u001b[0m val \u001b[38;5;241m=\u001b[39m \u001b[38;5;28mgetattr\u001b[39m(\u001b[38;5;28mself\u001b[39m\u001b[38;5;241m.\u001b[39m_gp, attr)\n\u001b[0;32m    531\u001b[0m \u001b[38;5;28;01mif\u001b[39;00m \u001b[38;5;28mcallable\u001b[39m(val):\n\u001b[1;32m--> 532\u001b[0m     \u001b[38;5;28;01mreturn\u001b[39;00m \u001b[38;5;28;01mlambda\u001b[39;00m \u001b[38;5;241m*\u001b[39margs: val(\u001b[38;5;241m*\u001b[39mgp_fixargs(args, \u001b[38;5;28;01mTrue\u001b[39;00m))\n\u001b[0;32m    533\u001b[0m \u001b[38;5;28;01melse\u001b[39;00m:\n\u001b[0;32m    534\u001b[0m     \u001b[38;5;28;01mreturn\u001b[39;00m convertArcObjectToPythonObject(val)\n",
      "\u001b[1;31mExecuteError\u001b[0m: ERROR 000601: Cannot delete C:\\Workspace\\Geodata\\Cran_Q_C\\outputs\\Cran_Q_C_outputs.gpkg.  May be locked by another application.\nFailed to execute (CreateSQLiteDatabase).\n"
     ]
    }
   ],
   "source": [
    "arcpy.management.CreateSQLiteDatabase(\n",
    "    out_database_name=r\"C:\\Workspace\\Geodata\\Cran_Q_C\\outputs\\Cran_Q_C_outputs.gpkg\",\n",
    "    spatial_type=\"GEOPACKAGE\"\n",
    ")"
   ]
  },
  {
   "cell_type": "code",
   "execution_count": 15,
   "id": "fceb8fc8-6fda-4fe7-8fb1-849aabd12fab",
   "metadata": {},
   "outputs": [],
   "source": [
    "# this block contains a dictionary of rasters \n",
    "# the name must be a raster dataset in the default gdb of this project\n",
    "# the description should inform future users of the contents of the raster dataset\n",
    "\n",
    "rasters = {\n",
    "    # name : description\n",
    "    \"EBK_TN_p50\" : \"Empirical Bayesian Krigging output 50% percentile prediction for TN (mg N/L)\",\n",
    "    \"EBK_NO3_p50\" : \"Empirical Bayesian Krigging output 50% percentile prediction for NO3 (mg N/L)\",\n",
    "    # variable : gdb raster file name \n",
    "    \"lid_10m\": \"Surface elevation (meters NAD83) measured from LiDAR resampled to 10m cell width\",\n",
    "    \"gw_elev_meters\": \"groundwater elevation (meters NAD83) converted from contour 2ft lines simulated by MODFLOW using TopoToRaster function (10m cell width)\",\n",
    "    \"gw_depth_meters\": \"lid_10m - gw_elev_meters, negative values imply areas covered by saturated soils or surface water\",\n",
    "    \"gw_depth_lt0m\": \" saturated zones coded as 1, unsaturated zones coded as 0\",\n",
    "    #\"gwd_lt1\": \"gw_depth_lt1m\",\n",
    "    #\"gwd_ge0\": \"gw_depth_ge0m\",\n",
    "    #\"gwd_ge1\":  \"gw_depth_ge1m\",\n",
    "    #\"burn_combined\" : \"burn_combined_null\",\n",
    "    #\"burn_bog\" : \"burn_rast_bogs_null\",\n",
    "    #\"burn_waterbody\" : \"burn_rast_waterbody_null\",\n",
    "    \"burn_flowline\" : \"raster used to dig in flowpaths based on USGS NHD flowlines\",\n",
    "    #\"burn_flowline_raw\" : \"burn_rast_flowline_raw_null\",\n",
    "    #\"burn_combined\" : \"burn_rast_combined_null\",\n",
    "    #\"burn_wetlands\" : \"burn_rast_wetlands_null\",\n",
    "    \n",
    "    # name: raster algebra \n",
    "    #\"lidbr\" : \"lid - burn_flowline_raw\",\n",
    "    #\"lidb\" : \"lid - burn_flowline\",\n",
    "    #\"lidbc\" : \"lid - burn_combined\",\n",
    "    #\"lidbcr\" : \"lid - burn_combined\",\n",
    "    #\"gwebr\" : \"gwe - burn_flowline_raw\",\n",
    "    \"gweb\" : \"gwe - burn_flowline\",\n",
    "    #\"gwebc\" : \"gwe - burn_combined\",\n",
    "    #\"gwebcr\" : \"gwe - burn_combined_raw\",\n",
    "    #\"gweblidbk1\" : \"gweb*(1-0.01) + lidb*0.01\",\n",
    "    #\"gwebclidbck1\" : \"gwebc*(1-0.01) + lidbc*0.01\",\n",
    "    #\"gweblidbk5\" : \"gweb*(1-0.05) + lidb*0.05\",\n",
    "    #\"gwebrlidbrk1\" : \"gwebr*(1-0.01) + lidbr*0.01\",\n",
    "    #\"gwebcrlidbcrk1\" : \"gwebcr*(1-0.01) + lidbcr*0.01\",\n",
    "    #\"gwebrlidbrk5\" : \"gwebr*(1-0.05) + lidbr*0.05\",\n",
    "    #\"gwebcrlidbcrk5\" : \"gwebcr*(1-0.05) + lidbcr*0.05\",\n",
    "    #\"gweblidbk1_lid1\" : \"(gweblidbk1 + 1)*gwd_ge1 + lidb*gwd_lt1 - 1 - burn_flowline\",\n",
    "    #\"gweblidbk1_lid0\" : \"(gweblidbk1 + 0)*gwd_ge1 + lidb*gwd_lt0 - 0 - burn_flowline\",\n",
    "    #\"gweblidbk5_lid1\" : \"(gweblidbk5 + 1)*gwd_ge1 + lidb*gwd_lt1 - 1 - burn_flowline\",\n",
    "    #\"gweblidbk5_lid0\" : \"(gweblidbk5 + 0)*gwd_ge1 + lidb*gwd_lt0 - 0 - burn_flowline\",\n",
    "    #\"gwelidr1\" : \"(gwebr + 1)*gwd_ge1 + lidbr*gwd_lt1 - 1 - burn_flowline\",\n",
    "    #\"gwelidr0\" : \"(gwebr + 0)*gwd_ge0 + lidbr*gwd_lt0 - 0 - burn_flowline\",\n",
    "    #\"gwelid1\" : \"(gweb + 1)*gwd_ge1 + lidb*gwd_lt1 - 1 - burn_flowline\",\n",
    "    \"gwelid0\" : \"(gweb + 0)*gwd_ge0 + lidb*gwd_lt0 - 0 - burn_flowline\",\n",
    "    #\"gwelidk1\" : \"gwe*(1-0.01) + lidb*0.01\",\n",
    "    #\"gwelidk5\" : \"gwe*(1-0.05) + lidb*0.05\",\n",
    "    #\"gwelidk10\" : \"gwe*(1-0.10) + lidb*0.10\",\n",
    "    \"D8_gwelid0\" : \"Flow direction determined via D8 algorithm based on gwelid0 model\",\n",
    "    \"FA_D8_gwelid0\" : \"Flow accumulation (number of 10m by 10m cells) based on D8 flow direction for gwelid0 model; multiply by 100m2 to obtain contributing area (m2)\"\n",
    "    }"
   ]
  },
  {
   "cell_type": "code",
   "execution_count": null,
   "id": "42218f23-09a5-4737-afb5-732368d186f6",
   "metadata": {},
   "outputs": [],
   "source": [
    "# loop through rasters and copy them to the geopackage.\n",
    "i = 0\n",
    "for name,description in rasters.items():\n",
    "    in_path = os.path.join(gdb_default_path,name)\n",
    "    print(i,name)\n",
    "    print(in_path)\n",
    "    # copy the raster to the target geopackage\n",
    "    try:\n",
    "        fn_arcpy_raster_to_gpkg(in_rast=in_path,out_name=name)\n",
    "    except:\n",
    "        next\n",
    "    #if i > 1: break\n",
    "    i+=1"
   ]
  },
  {
   "cell_type": "code",
   "execution_count": 25,
   "id": "0d677d2d-d10b-4350-b480-98b8db772925",
   "metadata": {},
   "outputs": [],
   "source": [
    "# this block contains a dictionary of vector data \n",
    "# the name must be a raster dataset in the default gdb of this project\n",
    "# the description should inform future users of the contents of the raster dataset\n",
    "vectors = {\n",
    "    # name : description\n",
    "    \"bogs_agg_raw\": \"polygons of cranberry bogs after splitting and reaggregation based on proximity\",\n",
    "    \"bogs_pour_points_ident_agg_raw_MEP_Basins_ZS\" : \"pour points (points of maximum flow accumulation based on gwelid0 for 'bogs_agg_diss_ident'\",\n",
    "    }\n",
    "\n",
    "keep_cols = { \n",
    "        \"bogs_agg_raw\" : \"ORIG_FID;TOWN;REGION\",\n",
    "        \"bogs_pour_points_ident_agg_raw_MEP_Basins_ZS\":  \"marg_bogshed_area_m2;Lat;Long;ZS_MAX_FA_D8_lidb;ZS_MAX_FA_D8_gweb;ZS_MAX_FA_D8_gwelid1;ZS_MAX_FA_D8_gwelid0;Q_m3d_D8lidb;Q_m3d_D8gweb;Q_m3d_D8gwelid1;Q_m3d_D8gwelid0;EBK_NO3_p25;EBK_NO3_p50;EBK_NO3_p75;EBK_TN_p25;EBK_TN_p50;EBK_TN_p75;ORIG_FID;TOWN;REGION;sum_bogsurf_area_m2;sum_bogsurf_perim_m2\"\n",
    "}  "
   ]
  },
  {
   "cell_type": "code",
   "execution_count": 29,
   "id": "3e537f92-633e-4bf9-8a49-701e13b1aeff",
   "metadata": {},
   "outputs": [
    {
     "name": "stdout",
     "output_type": "stream",
     "text": [
      "0 bogs_agg_raw\n",
      "C:\\Workspace\\Geodata\\Cran_Q_C\\Default.gdb\\bogs_agg_raw\n",
      "ORIG_FID;TOWN;REGION\n",
      "1 bogs_pour_points_ident_agg_raw_MEP_Basins_ZS\n",
      "C:\\Workspace\\Geodata\\Cran_Q_C\\Default.gdb\\bogs_pour_points_ident_agg_raw_MEP_Basins_ZS\n",
      "marg_bogshed_area_m2;Lat;Long;ZS_MAX_FA_D8_lidb;ZS_MAX_FA_D8_gweb;ZS_MAX_FA_D8_gwelid1;ZS_MAX_FA_D8_gwelid0;Q_m3d_D8lidb;Q_m3d_D8gweb;Q_m3d_D8gwelid1;Q_m3d_D8gwelid0;EBK_NO3_p25;EBK_NO3_p50;EBK_NO3_p75;EBK_TN_p25;EBK_TN_p50;EBK_TN_p75;ORIG_FID;TOWN;REGION;sum_bogsurf_area_m2;sum_bogsurf_perim_m2\n"
     ]
    }
   ],
   "source": [
    "i = 0\n",
    "for name,description in vectors.items():\n",
    "    in_path = os.path.join(gdb_default_path,name)\n",
    "    temp_path = os.path.join(tdr.name,name)\n",
    "    out_path = os.path.join(r\"C:\\Workspace\\Geodata\\Cran_Q_C\\outputs\\Cran_Q_C_outputs.gpkg\",name)\n",
    "    print(i,name)\n",
    "    print(in_path)\n",
    "    print(keep_cols[name])\n",
    "    # save a copy of the feature with to geopackage while keeping only certain fields\n",
    "    try:\n",
    "        # ccopy feature to a temp file      \n",
    "        _ = arcpy.management.CopyFeatures(in_features=in_path,out_feature_class=temp_path)\n",
    "        # delete all fields not specified to be kept\n",
    "        _ = arcpy.management.DeleteField(in_table=_,\n",
    "                                     drop_field=keep_cols[name],\n",
    "                                     method=\"KEEP_FIELDS\")\n",
    "        # copy to geopackage\n",
    "        arcpy.management.CopyFeatures(in_features=_,out_feature_class=out_path)\n",
    "    except:\n",
    "        next\n",
    "    #if i > 1: break\n",
    "    i+=1"
   ]
  },
  {
   "cell_type": "code",
   "execution_count": 33,
   "id": "9846c851-943f-4347-9bac-be8c4da6149c",
   "metadata": {},
   "outputs": [
    {
     "name": "stdout",
     "output_type": "stream",
     "text": [
      "Converted 1a_prep_bogs.ipynb to 1a_prep_bogs.html\n",
      "Converted 1b_prep_embayments.ipynb to 1b_prep_embayments.html\n",
      "Converted 2a_prep_gwe_from_raw.ipynb to 2a_prep_gwe_from_raw.html\n",
      "Converted 2b_prep_burn_rasters.ipynb to 2b_prep_burn_rasters.html\n",
      "Converted 2c_model_wte_and_flow.ipynb to 2c_model_wte_and_flow.html\n",
      "Converted 2d_model_basins.ipynb to 2d_model_basins.html\n",
      "Converted 3a_prep_NO3.ipynb to 3a_prep_NO3.html\n",
      "Converted 3b_model_NO3.ipynb to 3b_model_NO3.html\n",
      "Converted 4a_extract_basin_stats.ipynb to 4a_extract_basin_stats.html\n",
      "Converted 4b_extract_cran_Q_C.ipynb to 4b_extract_cran_Q_C.html\n",
      "Converted 4c_extract_obs_Q_C.ipynb to 4c_extract_obs_Q_C.html\n",
      "Converted 5_export_outputs.ipynb to 5_export_outputs.html\n",
      "Converted _Functions.ipynb to _Functions.html\n",
      "Converted _run_all_notebooks.ipynb to _run_all_notebooks.html\n",
      "Converted _Setup.ipynb to _Setup.html\n"
     ]
    }
   ],
   "source": [
    "input_folder = r\"C:\\Users\\Adrian.Wiegman\\Documents\\GitHub\\Wiegman_USDA_ARS\\Cran_Q_C\\2_gis\\scripts\"\n",
    "output_folder = r\"C:\\Users\\Adrian.Wiegman\\Documents\\GitHub\\Wiegman_USDA_ARS\\Cran_Q_C\\2_gis\\scripts\\notebook_htmls\"\n",
    "convert_ipynb_to_html(input_folder, output_folder)"
   ]
  }
 ],
 "metadata": {
  "kernelspec": {
   "display_name": "ArcGISPro",
   "language": "python",
   "name": "python3"
  },
  "language_info": {
   "file_extension": ".py",
   "mimetype": "text/x-python",
   "name": "python",
   "version": "3.11.10"
  }
 },
 "nbformat": 4,
 "nbformat_minor": 5
}
