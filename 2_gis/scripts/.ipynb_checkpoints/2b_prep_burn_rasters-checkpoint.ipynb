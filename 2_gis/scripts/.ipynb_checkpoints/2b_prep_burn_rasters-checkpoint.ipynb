{
 "cells": [
  {
   "cell_type": "markdown",
   "metadata": {},
   "source": [
    "## Metadata\n",
    "\n",
    "Make burn rasters from polygon datasets of wetlands, lakes, cranberry bogs, and flowlines\n",
    "\n",
    "Author: Adrian Wiegman\n",
    "\n",
    "Date Modified: 08/24/2024\n",
    "\n",
    "These burn datasets will be used to resolves lakes, streams, wetlands and cranberry bogs in a map of water table elevations. The water table elevation models will then be fed into flow routing algorithms to delineate groundwater and surface water contributing areas for cranberry farms. \n",
    "\n",
    "input data: \n",
    "- MODFLOW simulated groundwater elevations for Cape Cod and PKCD\n",
    "- NHD waterbodies\n",
    "- NHD flowlines\n",
    "    - this is an important dataset because it routes flow through obsticles like highways and in low gradient areas. \n",
    "    - however, this layer can also be problematic because it may also erroneously route surface flow low gradient areas like lakes and marshes when groundwater gradients would result in recharge in another direction\n",
    "    - edits:\n",
    "        - disconnect halfway pond from long pond in plymouth\n",
    "            - this resolves revisions to the wareham watershed made by MEP \n",
    "        - modified flow lines to resolve salt marshes of herring brook truro/welfleet\n",
    "        - modified flow lines to connect morse pond with falmouth harber\n",
    "        - modified flow lines at tidmarsh to resolve stream channel restoration. \n",
    "        - connected rocky bog to outflow stream\n",
    "        - deleted flow line bisecting Johns Pond in Waquoit Bay watershed. to better resolve flow fractions draining to childs and quashnet rivers\n",
    "- LiDAR surface elevation data\n",
    "- Mass DEP Cranberry Bog data\n",
    "\n",
    "output data: \n",
    "- raster format digital elevation models with 10 m horizontal resolution (NAD 1983 UTM Zone 19N)\n",
    "\n",
    "The following approaches are investigated here. \n",
    "- Method 1: Substract a specified depth from areas covered by lakes, streams, and cranberry bogs. \n",
    "    - Issues: this method breaks first principles in that creates sinks in areas covered \n",
    "      by these features without accurately representing the water table gradients\n",
    "      because of this water can spill\n",
    "    - Work arounds are to dig flowlines deeper. \n",
    "- Method 2: Create a hybrid layer using the wieghted average of surface lidar and modeled groundwater elevations\n",
    "   - Issues: the surface water layer is best resolved by lidar but contributing areas get warped as higher weight is placed on surface data\n",
    "- Method 3: Creat a hybrid layer which uses replaces grounwater level with surface lidar for all areas where groundwater depth is below a certain threshold\n",
    "   - Issues: this appears to be the best approach. Flow lines still need to burned in. It is best do to this after replacing GW with lidar, since certain areas may not be captured. \n",
    "    "
   ]
  },
  {
   "cell_type": "markdown",
   "metadata": {},
   "source": [
    "## Setup Environment"
   ]
  },
  {
   "cell_type": "code",
   "execution_count": 35,
   "metadata": {},
   "outputs": [
    {
     "name": "stdout",
     "output_type": "stream",
     "text": [
      "The autoreload extension is already loaded. To reload it, use:\n",
      "  %reload_ext autoreload\n",
      "***\n",
      "loading python modules...\n",
      "\n",
      "  `module_list` contains names of all loaded modules\n",
      "\n",
      "...module loading complete\n",
      "\n",
      "***\n",
      "loading user defined functions...\n",
      "\n",
      "type `fn_`+TAB to for autocomplete suggestions\n",
      "\n",
      " the object `def_list` contains user defined function names:\n",
      "   fn_get_info\n",
      "   fn_arcgis_table_to_df\n",
      "   fn_arcgis_table_to_np_to_pd_df\n",
      "   fn_run_script_w_propy_bat\n",
      "   fn_try_mkdir\n",
      "   fn_hello\n",
      "   fn_recursive_glob_search\n",
      "   fn_regex_search_replace\n",
      "   fn_regex_search_0\n",
      "   fn_arcpy_table_to_excel\n",
      "   fn_agg_sum_df_on_group\n",
      "   fn_add_prefix_suffix_to_selected_cols\n",
      "   fn_calc_pct_cover_within_groups\n",
      "   fn_buildWhereClauseFromList\n",
      "   fn_FA_to_Q\n",
      "   fn_alter_field_double\n",
      "   fn_return_float\n",
      "   fn_classify_wetlands\n",
      "\n",
      " use ??{insert fn name} to inspect\n",
      " for example running `??fn_get_info` returns:\n",
      "\u001b[1;31mSignature:\u001b[0m \u001b[0mfn_get_info\u001b[0m\u001b[1;33m(\u001b[0m\u001b[0mname\u001b[0m\u001b[1;33m=\u001b[0m\u001b[1;34m'fn_get_info'\u001b[0m\u001b[1;33m)\u001b[0m\u001b[1;33m\u001b[0m\u001b[1;33m\u001b[0m\u001b[0m\n",
      "\u001b[1;31mSource:\u001b[0m   \n",
      "\u001b[1;32mdef\u001b[0m \u001b[0mfn_get_info\u001b[0m\u001b[1;33m(\u001b[0m\u001b[0mname\u001b[0m\u001b[1;33m=\u001b[0m\u001b[1;34m'fn_get_info'\u001b[0m\u001b[1;33m)\u001b[0m\u001b[1;33m:\u001b[0m\u001b[1;33m\n",
      "\u001b[0m    \u001b[1;34m'''\n",
      "    returns the source information about a given function name\n",
      "    '''\u001b[0m\u001b[1;33m\n",
      "\u001b[0m    \u001b[0mget_ipython\u001b[0m\u001b[1;33m(\u001b[0m\u001b[1;33m)\u001b[0m\u001b[1;33m.\u001b[0m\u001b[0mrun_line_magic\u001b[0m\u001b[1;33m(\u001b[0m\u001b[1;34m'pinfo2'\u001b[0m\u001b[1;33m,\u001b[0m \u001b[1;34m'$name'\u001b[0m\u001b[1;33m)\u001b[0m\u001b[1;33m\u001b[0m\u001b[1;33m\u001b[0m\u001b[0m\n",
      "\u001b[1;31mFile:\u001b[0m      c:\\workspace\\geodata\\cran_q_c\\<ipython-input-1-28f96385f735>\n",
      "\u001b[1;31mType:\u001b[0m      function\n",
      "\n",
      " you can also use `fn_get_info(name={insert fn name})` to do the same thing as `??{insert fn name}`\n",
      "\n",
      "...function loading complete\n",
      "\n",
      "***\n",
      "managing project directories:\n",
      " working directory (`wdr`): C:\\Workspace\\Geodata\\Cran_Q_C\\\n",
      " temp dir (`tdr.name`): C:\\Users\\ADRIAN~1.WIE\\AppData\\Local\\Temp\\ArcGISProTemp24496\\tmp9vk25mut\n",
      " input file directory (`idr`): C:\\Workspace\\Geodata\\Cran_Q_C\\inputs\n",
      " output dir (`odr`): C:\\Workspace\\Geodata\\Cran_Q_C\\outputs\n",
      "\n",
      "\n",
      "\n",
      "\n",
      "***\n",
      "setting up arcpy environment...\n",
      "\n",
      " default geodatabase path (`gdb_default_path`): C:\\Workspace\\Geodata\\Cran_Q_C\\Default.gdb\n",
      " active map (`mx`) name: Map1_prep_bogs\n",
      " output coordinate system: NAD_1983_UTM_Zone_19N\n",
      "\n",
      "... env setup complete\n",
      "\n",
      "\n",
      "+++SETUP COMPLETE+++\n",
      "\n",
      "\n"
     ]
    }
   ],
   "source": [
    "# iphython options\n",
    "# delete variables in workspace\n",
    "%reset -f\n",
    "#places plots inline\n",
    "%matplotlib inline\n",
    "#automatically reloads modules if they are changed\n",
    "%load_ext autoreload \n",
    "%autoreload 2\n",
    "# this codeblock sets up the environment from jupyter notebooks\n",
    "setup_notebook = \"C:/Users/Adrian.Wiegman/Documents/GitHub/Wiegman_USDA_ARS/Cran_Q_C/2_gis/scripts/_Setup.ipynb\"\n",
    "%run $setup_notebook # magic command to run the notebook"
   ]
  },
  {
   "cell_type": "raw",
   "metadata": {
    "scrolled": true
   },
   "source": [
    "# Create new file geodatabase to store results\n",
    "gdb = \"gwbogsheds.gdb\"\n",
    "# only run this once\n",
    "if not os.path.exists(os.path.join(wdr,gdb)):\n",
    "    arcpy.management.CreateFileGDB(wdr,gdb)\n",
    "ap.env.workspace = os.path.join(wdr,gdb)"
   ]
  },
  {
   "cell_type": "markdown",
   "metadata": {},
   "source": [
    "## Create burn raster"
   ]
  },
  {
   "cell_type": "raw",
   "metadata": {},
   "source": [
    "# Ran on: 2024-08-25\n",
    "# RAW FLOW LINES DATA\n",
    "arcpy.management.CopyFeatures(\n",
    "    in_features=os.path.join(r\"C:\\Workspace\\Geodata\\Massachusetts\\NHDPLUS_H_0109_HU4_GDB\\NHDPLUS_H_0109_HU4_GDB.gdb\",\"NHDPlusBurnLineEvent\"),\n",
    "    out_feature_class=\"NHD_flowlines_Raw\")\n",
    "# RAW WATERBODIES\n",
    "waterbodies = arcpy.management.CopyFeatures(\n",
    "    in_features=os.path.join(r\"C:\\Workspace\\Geodata\\Massachusetts\\NHDPLUS_H_0109_HU4_GDB\\NHDPLUS_H_0109_HU4_GDB.gdb\",\"NHDPlusBurnWaterbody\"),\n",
    "    out_feature_class=\"NHD_waterbodies_Raw\")"
   ]
  },
  {
   "cell_type": "raw",
   "metadata": {},
   "source": [
    "# 2024-08-24 \n",
    "# edited NHD flow lines to disconnect halfway pond from long pond in plymouth\n",
    "then modified to resolve flow in salt marshes of herring brook truro/welfleet.\n",
    "# this resolves revisions to the wareham watershed made by MEP. \n",
    "selection = arcpy.management.SelectLayerByAttribute(\n",
    "    in_layer_or_view=flowlines,\n",
    "    selection_type=\"NEW_SELECTION\",\n",
    "    where_clause=\"OBJECTID IN (28879, 65884, 10692,10697,10690, 59971,23822,16063,28814,32447,64366)\",\n",
    "    invert_where_clause=\"INVERT\")\n",
    "flowlines = arcpy.management.CopyFeatures(\n",
    "    in_features=selection,\n",
    "    out_feature_class=\"NHD_flowlines_Raw_edit\")\n",
    "# NHD_flowlines_Raw_edit was then modified to resolve flow in salt marshes of herring brook truro/welfleet. "
   ]
  },
  {
   "cell_type": "code",
   "execution_count": 62,
   "metadata": {},
   "outputs": [],
   "source": [
    "### import burn layers\n",
    "# these bogs have been split into pieces then aggrigated by proximity rather than permit ids. 10/31/2023\n",
    "bogs = \"bogs_agg\"\n",
    "flowlines = \"NHD_flowlines_Raw_edit\"\n",
    "flowlines_raw = \"NHD_flowlines_Raw\"\n",
    "waterbodies = \"NHD_waterbodies_Raw\"\n",
    "wetlands = \"Wetlands_DEP_Clip\""
   ]
  },
  {
   "cell_type": "markdown",
   "metadata": {},
   "source": [
    "## NHD FLOW LINES"
   ]
  },
  {
   "cell_type": "code",
   "execution_count": 45,
   "metadata": {},
   "outputs": [],
   "source": [
    "# NHD FLOWLINES \n",
    "flowlines_buffered = arcpy.analysis.Buffer(\n",
    "    in_features=flowlines,\n",
    "    out_feature_class=\"NHD_flowlines_buf10m\",\n",
    "    buffer_distance_or_field=\"10 Meters\",\n",
    "    line_side=\"FULL\",\n",
    "    line_end_type=\"ROUND\",\n",
    "    dissolve_option=\"ALL\",\n",
    "    dissolve_field=None,\n",
    "    method=\"PLANAR\"\n",
    ")\n",
    "flowlines_buffered = arcpy.analysis.Buffer(\n",
    "    in_features=flowlines_raw,\n",
    "    out_feature_class=\"NHD_flowlines_raw_buf10m\",\n",
    "    buffer_distance_or_field=\"10 Meters\",\n",
    "    line_side=\"FULL\",\n",
    "    line_end_type=\"ROUND\",\n",
    "    dissolve_option=\"ALL\",\n",
    "    dissolve_field=None,\n",
    "    method=\"PLANAR\"\n",
    ")\n",
    "\n",
    "arcpy.management.CalculateField(\n",
    "    in_table=\"NHD_flowlines_buf10m\",\n",
    "    field=\"burn\",\n",
    "    expression=\"2\",\n",
    "    expression_type=\"PYTHON3\",\n",
    "    code_block=\"\",\n",
    "    field_type=\"SHORT\",\n",
    "    enforce_domains=\"NO_ENFORCE_DOMAINS\")\n",
    "\n",
    "arcpy.management.CalculateField(\n",
    "    in_table=\"NHD_flowlines_raw_buf10m\",\n",
    "    field=\"burn\",\n",
    "    expression=\"2\",\n",
    "    expression_type=\"PYTHON3\",\n",
    "    code_block=\"\",\n",
    "    field_type=\"SHORT\",\n",
    "    enforce_domains=\"NO_ENFORCE_DOMAINS\")\n",
    "\n",
    "with arcpy.EnvManager(outputCoordinateSystem='PROJCS[\"NAD_1983_UTM_Zone_19N\",GEOGCS[\"GCS_North_American_1983\",DATUM[\"D_North_American_1983\",SPHEROID[\"GRS_1980\",6378137.0,298.257222101]],PRIMEM[\"Greenwich\",0.0],UNIT[\"Degree\",0.0174532925199433]],PROJECTION[\"Transverse_Mercator\"],PARAMETER[\"False_Easting\",500000.0],PARAMETER[\"False_Northing\",0.0],PARAMETER[\"Central_Meridian\",-69.0],PARAMETER[\"Scale_Factor\",0.9996],PARAMETER[\"Latitude_Of_Origin\",0.0],UNIT[\"Meter\",1.0]]', snapRaster=\"gw_elev_meters\", extent='346823.303957774 4597731.43403507 422133.303957774 4662251.43403507 PROJCS[\"NAD_1983_UTM_Zone_19N\",GEOGCS[\"GCS_North_American_1983\",DATUM[\"D_North_American_1983\",SPHEROID[\"GRS_1980\",6378137.0,298.257222101]],PRIMEM[\"Greenwich\",0.0],UNIT[\"Degree\",0.0174532925199433]],PROJECTION[\"Transverse_Mercator\"],PARAMETER[\"False_Easting\",500000.0],PARAMETER[\"False_Northing\",0.0],PARAMETER[\"Central_Meridian\",-69.0],PARAMETER[\"Scale_Factor\",0.9996],PARAMETER[\"Latitude_Of_Origin\",0.0],UNIT[\"Meter\",1.0]]', cellSize=\"gw_elev_meters\"):\n",
    "    arcpy.conversion.FeatureToRaster(\n",
    "        in_features=\"NHD_flowlines_buf10m\",\n",
    "        field=\"burn\",\n",
    "        out_raster=\"burn_rast_flowline\"\n",
    "    )\n",
    "\n",
    "with arcpy.EnvManager(outputCoordinateSystem='PROJCS[\"NAD_1983_UTM_Zone_19N\",GEOGCS[\"GCS_North_American_1983\",DATUM[\"D_North_American_1983\",SPHEROID[\"GRS_1980\",6378137.0,298.257222101]],PRIMEM[\"Greenwich\",0.0],UNIT[\"Degree\",0.0174532925199433]],PROJECTION[\"Transverse_Mercator\"],PARAMETER[\"False_Easting\",500000.0],PARAMETER[\"False_Northing\",0.0],PARAMETER[\"Central_Meridian\",-69.0],PARAMETER[\"Scale_Factor\",0.9996],PARAMETER[\"Latitude_Of_Origin\",0.0],UNIT[\"Meter\",1.0]]', snapRaster=\"gw_elev_meters\", extent='346823.303957774 4597731.43403507 422133.303957774 4662251.43403507 PROJCS[\"NAD_1983_UTM_Zone_19N\",GEOGCS[\"GCS_North_American_1983\",DATUM[\"D_North_American_1983\",SPHEROID[\"GRS_1980\",6378137.0,298.257222101]],PRIMEM[\"Greenwich\",0.0],UNIT[\"Degree\",0.0174532925199433]],PROJECTION[\"Transverse_Mercator\"],PARAMETER[\"False_Easting\",500000.0],PARAMETER[\"False_Northing\",0.0],PARAMETER[\"Central_Meridian\",-69.0],PARAMETER[\"Scale_Factor\",0.9996],PARAMETER[\"Latitude_Of_Origin\",0.0],UNIT[\"Meter\",1.0]]', cellSize=\"gw_elev_meters\"):\n",
    "    arcpy.conversion.FeatureToRaster(\n",
    "        in_features=\"NHD_flowlines_raw_buf10m\",\n",
    "        field=\"burn\",\n",
    "        out_raster=\"burn_rast_flowline_raw\"\n",
    "    )"
   ]
  },
  {
   "cell_type": "code",
   "execution_count": null,
   "metadata": {},
   "outputs": [],
   "source": [
    "## NHD WATER BODIES\n",
    "\n",
    "note these are projected slightly off. "
   ]
  },
  {
   "cell_type": "code",
   "execution_count": null,
   "metadata": {},
   "outputs": [],
   "source": [
    "# NHD WATER BODIES\n",
    "arcpy.management.Dissolve(\n",
    "    in_features=waterbodies,\n",
    "    out_feature_class=\"NHD_waterbodies_diss\",\n",
    "    dissolve_field=None,\n",
    "    statistics_fields=None,\n",
    "    multi_part=\"MULTI_PART\",\n",
    "    unsplit_lines=\"DISSOLVE_LINES\",\n",
    "    concatenation_separator=\"\"\n",
    ")\n",
    "arcpy.management.CalculateField(\n",
    "    in_table=\"NHD_waterbodies_diss\",\n",
    "    field=\"burn\",\n",
    "    expression=\"2\",\n",
    "    expression_type=\"PYTHON3\",\n",
    "    code_block=\"\",\n",
    "    field_type=\"SHORT\",\n",
    "    enforce_domains=\"NO_ENFORCE_DOMAINS\")\n",
    "\n",
    "with arcpy.EnvManager(outputCoordinateSystem='PROJCS[\"NAD_1983_UTM_Zone_19N\",GEOGCS[\"GCS_North_American_1983\",DATUM[\"D_North_American_1983\",SPHEROID[\"GRS_1980\",6378137.0,298.257222101]],PRIMEM[\"Greenwich\",0.0],UNIT[\"Degree\",0.0174532925199433]],PROJECTION[\"Transverse_Mercator\"],PARAMETER[\"False_Easting\",500000.0],PARAMETER[\"False_Northing\",0.0],PARAMETER[\"Central_Meridian\",-69.0],PARAMETER[\"Scale_Factor\",0.9996],PARAMETER[\"Latitude_Of_Origin\",0.0],UNIT[\"Meter\",1.0]]', snapRaster=\"gw_elev_meters\", extent='346823.303957774 4597731.43403507 422133.303957774 4662251.43403507 PROJCS[\"NAD_1983_UTM_Zone_19N\",GEOGCS[\"GCS_North_American_1983\",DATUM[\"D_North_American_1983\",SPHEROID[\"GRS_1980\",6378137.0,298.257222101]],PRIMEM[\"Greenwich\",0.0],UNIT[\"Degree\",0.0174532925199433]],PROJECTION[\"Transverse_Mercator\"],PARAMETER[\"False_Easting\",500000.0],PARAMETER[\"False_Northing\",0.0],PARAMETER[\"Central_Meridian\",-69.0],PARAMETER[\"Scale_Factor\",0.9996],PARAMETER[\"Latitude_Of_Origin\",0.0],UNIT[\"Meter\",1.0]]', cellSize=\"gw_elev_meters\"):\n",
    "    arcpy.conversion.FeatureToRaster(\n",
    "        in_features=\"NHD_waterbodies_diss\",\n",
    "        field=\"burn\",\n",
    "        out_raster=\"burn_rast_waterbody\"\n",
    "    )"
   ]
  },
  {
   "cell_type": "code",
   "execution_count": null,
   "metadata": {},
   "outputs": [],
   "source": [
    "# CRANBERRY BOGS\n",
    "arcpy.management.CalculateField(\n",
    "    in_table=\"bogs_agg\",\n",
    "    field=\"burn\",\n",
    "    expression=\"0.5\",\n",
    "    expression_type=\"PYTHON3\",\n",
    "    code_block=\"\",\n",
    "    field_type=\"SHORT\",\n",
    "    enforce_domains=\"NO_ENFORCE_DOMAINS\")"
   ]
  },
  {
   "cell_type": "raw",
   "metadata": {},
   "source": [
    "\"\"\"\n",
    "# added 10/23/2023\n",
    "bogs_buffered = arcpy.analysis.Buffer(\n",
    "    in_features=bogs,\n",
    "    out_feature_class=\"bogs_agg_buf10m\",\n",
    "    buffer_distance_or_field=\"10 Meters\",\n",
    "    line_side=\"FULL\",\n",
    "    line_end_type=\"ROUND\",\n",
    "    dissolve_option=\"ALL\",\n",
    "    dissolve_field=None,\n",
    "    method=\"PLANAR\"\n",
    ")\n",
    "\"\"\""
   ]
  },
  {
   "cell_type": "code",
   "execution_count": null,
   "metadata": {},
   "outputs": [],
   "source": [
    "with arcpy.EnvManager(outputCoordinateSystem='PROJCS[\"NAD_1983_UTM_Zone_19N\",GEOGCS[\"GCS_North_American_1983\",DATUM[\"D_North_American_1983\",SPHEROID[\"GRS_1980\",6378137.0,298.257222101]],PRIMEM[\"Greenwich\",0.0],UNIT[\"Degree\",0.0174532925199433]],PROJECTION[\"Transverse_Mercator\"],PARAMETER[\"False_Easting\",500000.0],PARAMETER[\"False_Northing\",0.0],PARAMETER[\"Central_Meridian\",-69.0],PARAMETER[\"Scale_Factor\",0.9996],PARAMETER[\"Latitude_Of_Origin\",0.0],UNIT[\"Meter\",1.0]]', snapRaster=\"gw_elev_meters\", extent='346823.303957774 4597731.43403507 422133.303957774 4662251.43403507 PROJCS[\"NAD_1983_UTM_Zone_19N\",GEOGCS[\"GCS_North_American_1983\",DATUM[\"D_North_American_1983\",SPHEROID[\"GRS_1980\",6378137.0,298.257222101]],PRIMEM[\"Greenwich\",0.0],UNIT[\"Degree\",0.0174532925199433]],PROJECTION[\"Transverse_Mercator\"],PARAMETER[\"False_Easting\",500000.0],PARAMETER[\"False_Northing\",0.0],PARAMETER[\"Central_Meridian\",-69.0],PARAMETER[\"Scale_Factor\",0.9996],PARAMETER[\"Latitude_Of_Origin\",0.0],UNIT[\"Meter\",1.0]]', cellSize=\"gw_elev_meters\"):\n",
    "    arcpy.conversion.FeatureToRaster(\n",
    "        in_features=\"bogs_agg\",\n",
    "        field=\"burn\",\n",
    "        out_raster=\"burn_rast_bogs\"\n",
    "    )"
   ]
  },
  {
   "cell_type": "code",
   "execution_count": 63,
   "metadata": {},
   "outputs": [
    {
     "data": {
      "text/html": [
       "<div class='gpresult'><h2>Messages</h2><div id='messages' data-messages='[\"Start Time: Thursday, August 29, 2024 10:36:14 AM\",\"Adding burn to Wetlands_DEP_Clip_diss...\",\"Succeeded at Thursday, August 29, 2024 10:36:15 AM (Elapsed Time: 0.98 seconds)\"]' data-show='true'><div id = 'default' /></div></div>"
      ],
      "text/plain": [
       "<Result 'C:\\\\Workspace\\\\Geodata\\\\Cran_Q_C\\\\Default.gdb\\\\Wetlands_DEP_Clip_diss'>"
      ]
     },
     "execution_count": 63,
     "metadata": {},
     "output_type": "execute_result"
    }
   ],
   "source": [
    "# DEC WETLANDS \n",
    "arcpy.management.Dissolve(\n",
    "    in_features=wetlands,\n",
    "    out_feature_class=\"Wetlands_DEP_Clip_diss\",\n",
    "    dissolve_field=None,\n",
    "    statistics_fields=None,\n",
    "    multi_part=\"MULTI_PART\",\n",
    "    unsplit_lines=\"DISSOLVE_LINES\",\n",
    "    concatenation_separator=\"\"\n",
    ")\n",
    "arcpy.management.CalculateField(\n",
    "    in_table=\"Wetlands_DEP_Clip_diss\",\n",
    "    field=\"burn\",\n",
    "    expression=\"2\",\n",
    "    expression_type=\"PYTHON3\",\n",
    "    code_block=\"\",\n",
    "    field_type=\"SHORT\",\n",
    "    enforce_domains=\"NO_ENFORCE_DOMAINS\")"
   ]
  },
  {
   "cell_type": "code",
   "execution_count": 67,
   "metadata": {},
   "outputs": [],
   "source": [
    "with arcpy.EnvManager(outputCoordinateSystem='PROJCS[\"NAD_1983_UTM_Zone_19N\",GEOGCS[\"GCS_North_American_1983\",DATUM[\"D_North_American_1983\",SPHEROID[\"GRS_1980\",6378137.0,298.257222101]],PRIMEM[\"Greenwich\",0.0],UNIT[\"Degree\",0.0174532925199433]],PROJECTION[\"Transverse_Mercator\"],PARAMETER[\"False_Easting\",500000.0],PARAMETER[\"False_Northing\",0.0],PARAMETER[\"Central_Meridian\",-69.0],PARAMETER[\"Scale_Factor\",0.9996],PARAMETER[\"Latitude_Of_Origin\",0.0],UNIT[\"Meter\",1.0]]', snapRaster=\"gw_elev_meters\", extent='346823.303957774 4597731.43403507 422133.303957774 4662251.43403507 PROJCS[\"NAD_1983_UTM_Zone_19N\",GEOGCS[\"GCS_North_American_1983\",DATUM[\"D_North_American_1983\",SPHEROID[\"GRS_1980\",6378137.0,298.257222101]],PRIMEM[\"Greenwich\",0.0],UNIT[\"Degree\",0.0174532925199433]],PROJECTION[\"Transverse_Mercator\"],PARAMETER[\"False_Easting\",500000.0],PARAMETER[\"False_Northing\",0.0],PARAMETER[\"Central_Meridian\",-69.0],PARAMETER[\"Scale_Factor\",0.9996],PARAMETER[\"Latitude_Of_Origin\",0.0],UNIT[\"Meter\",1.0]]', cellSize=\"gw_elev_meters\"):\n",
    "    arcpy.conversion.FeatureToRaster(\n",
    "        in_features=\"Wetlands_DEP_Clip_diss\",\n",
    "        field=\"burn\",\n",
    "        out_raster=\"burn_rast_wetlands\"\n",
    "    )"
   ]
  },
  {
   "cell_type": "markdown",
   "metadata": {},
   "source": [
    "## Combine rasters"
   ]
  },
  {
   "cell_type": "code",
   "execution_count": 40,
   "metadata": {},
   "outputs": [
    {
     "data": {
      "text/html": [
       "<div class='gpresult'><h2>Messages</h2><div id='messages' data-messages='[\"Start Time: Thursday, August 29, 2024 9:04:50 AM\",\"Sorting Attributes...\",\"Dissolving...\",\"Succeeded at Thursday, August 29, 2024 9:06:40 AM (Elapsed Time: 1 minutes 50 seconds)\"]' data-show='true'><div id = 'default' /></div></div>"
      ],
      "text/plain": [
       "<Result 'C:\\\\Workspace\\\\Geodata\\\\Cran_Q_C\\\\Default.gdb\\\\burn_feats_union_dissolve'>"
      ]
     },
     "execution_count": 40,
     "metadata": {},
     "output_type": "execute_result"
    }
   ],
   "source": [
    "# Join bogs, edited NHD flowlines, NHD waterbodies\n",
    "# join burn features with union\n",
    "instring = \"bogs_agg #;NHD_flowlines_buf10m #;NHD_waterbodies_diss #\"\n",
    "out = r\"burn_bogs_waterbodies_flowlines\"\n",
    "\n",
    "arcpy.analysis.Union(\n",
    "    in_features=instring,\n",
    "    out_feature_class=out,\n",
    "    join_attributes=\"ALL\",\n",
    "    cluster_tolerance=None,\n",
    "    gaps=\"GAPS\"\n",
    ")\n",
    "\n",
    "# dissolve all burn features\n",
    "arcpy.management.Dissolve(\n",
    "    in_features=out,\n",
    "    out_feature_class=out+\"_diss\",\n",
    "    dissolve_field=\"OBJECTID\",\n",
    "    statistics_fields=None,\n",
    "    multi_part=\"MULTI_PART\",\n",
    "    unsplit_lines=\"DISSOLVE_LINES\",\n",
    "    concatenation_separator=\"\"\n",
    ")\n",
    "\n",
    "arcpy.management.CalculateField(\n",
    "    in_table=out+\"_diss\",\n",
    "    field=\"burn\",\n",
    "    expression=\"0.5\",\n",
    "    expression_type=\"PYTHON3\",\n",
    "    code_block=\"\",\n",
    "    field_type=\"SHORT\",\n",
    "    enforce_domains=\"NO_ENFORCE_DOMAINS\")\n",
    "\n",
    "with arcpy.EnvManager(outputCoordinateSystem='PROJCS[\"NAD_1983_UTM_Zone_19N\",GEOGCS[\"GCS_North_American_1983\",DATUM[\"D_North_American_1983\",SPHEROID[\"GRS_1980\",6378137.0,298.257222101]],PRIMEM[\"Greenwich\",0.0],UNIT[\"Degree\",0.0174532925199433]],PROJECTION[\"Transverse_Mercator\"],PARAMETER[\"False_Easting\",500000.0],PARAMETER[\"False_Northing\",0.0],PARAMETER[\"Central_Meridian\",-69.0],PARAMETER[\"Scale_Factor\",0.9996],PARAMETER[\"Latitude_Of_Origin\",0.0],UNIT[\"Meter\",1.0]]', snapRaster=\"gw_elev_meters\", extent='346823.303957774 4597731.43403507 422133.303957774 4662251.43403507 PROJCS[\"NAD_1983_UTM_Zone_19N\",GEOGCS[\"GCS_North_American_1983\",DATUM[\"D_North_American_1983\",SPHEROID[\"GRS_1980\",6378137.0,298.257222101]],PRIMEM[\"Greenwich\",0.0],UNIT[\"Degree\",0.0174532925199433]],PROJECTION[\"Transverse_Mercator\"],PARAMETER[\"False_Easting\",500000.0],PARAMETER[\"False_Northing\",0.0],PARAMETER[\"Central_Meridian\",-69.0],PARAMETER[\"Scale_Factor\",0.9996],PARAMETER[\"Latitude_Of_Origin\",0.0],UNIT[\"Meter\",1.0]]', cellSize=\"gw_elev_meters\"):\n",
    "    arcpy.conversion.FeatureToRaster(\n",
    "        in_features=out+\"_diss\",\n",
    "        field=\"burn\",\n",
    "        out_raster=\"burn_rast_\"+out[5:]\n",
    "    )"
   ]
  },
  {
   "cell_type": "code",
   "execution_count": null,
   "metadata": {},
   "outputs": [],
   "source": [
    "# Join DEP wetlands (which includes bogs, and lakes) and raw NHD flowlines\n",
    "# join burn features with union\n",
    "instring = \"NHD_flowlines_buf10m #; Wetlands_DEP_Clip_diss #\"\n",
    "out = r\"burn_wetlands_flowlines\"\n",
    "arcpy.analysis.Union(\n",
    "    in_features=instring,\n",
    "    out_feature_class=out,\n",
    "    join_attributes=\"ALL\",\n",
    "    cluster_tolerance=None,\n",
    "    gaps=\"GAPS\"\n",
    ")\n",
    "\n",
    "# dissolve all burn features\n",
    "arcpy.management.Dissolve(\n",
    "    in_features=out,\n",
    "    out_feature_class=out+\"_diss\",\n",
    "    dissolve_field=\"OBJECTID\",\n",
    "    statistics_fields=None,\n",
    "    multi_part=\"MULTI_PART\",\n",
    "    unsplit_lines=\"DISSOLVE_LINES\",\n",
    "    concatenation_separator=\"\"\n",
    ")\n",
    "\n",
    "arcpy.management.CalculateField(\n",
    "    in_table=out+\"_diss\",\n",
    "    field=\"burn\",\n",
    "    expression=\"0.5\",\n",
    "    expression_type=\"PYTHON3\",\n",
    "    code_block=\"\",\n",
    "    field_type=\"SHORT\",\n",
    "    enforce_domains=\"NO_ENFORCE_DOMAINS\")\n",
    "\n",
    "with arcpy.EnvManager(outputCoordinateSystem='PROJCS[\"NAD_1983_UTM_Zone_19N\",GEOGCS[\"GCS_North_American_1983\",DATUM[\"D_North_American_1983\",SPHEROID[\"GRS_1980\",6378137.0,298.257222101]],PRIMEM[\"Greenwich\",0.0],UNIT[\"Degree\",0.0174532925199433]],PROJECTION[\"Transverse_Mercator\"],PARAMETER[\"False_Easting\",500000.0],PARAMETER[\"False_Northing\",0.0],PARAMETER[\"Central_Meridian\",-69.0],PARAMETER[\"Scale_Factor\",0.9996],PARAMETER[\"Latitude_Of_Origin\",0.0],UNIT[\"Meter\",1.0]]', snapRaster=\"gw_elev_meters\", extent='346823.303957774 4597731.43403507 422133.303957774 4662251.43403507 PROJCS[\"NAD_1983_UTM_Zone_19N\",GEOGCS[\"GCS_North_American_1983\",DATUM[\"D_North_American_1983\",SPHEROID[\"GRS_1980\",6378137.0,298.257222101]],PRIMEM[\"Greenwich\",0.0],UNIT[\"Degree\",0.0174532925199433]],PROJECTION[\"Transverse_Mercator\"],PARAMETER[\"False_Easting\",500000.0],PARAMETER[\"False_Northing\",0.0],PARAMETER[\"Central_Meridian\",-69.0],PARAMETER[\"Scale_Factor\",0.9996],PARAMETER[\"Latitude_Of_Origin\",0.0],UNIT[\"Meter\",1.0]]', cellSize=\"gw_elev_meters\"):\n",
    "    arcpy.conversion.FeatureToRaster(\n",
    "        in_features=out+\"_diss\",\n",
    "        field=\"burn\",\n",
    "        out_raster=\"burn_rast_\"+out[5:]\n",
    "    )"
   ]
  },
  {
   "cell_type": "code",
   "execution_count": null,
   "metadata": {},
   "outputs": [],
   "source": [
    "# Join DEP wetlands (which includes bogs, and lakes) and raw NHD flowlines\n",
    "# join burn features with union\n",
    "instring = \"NHD_flowlines_raw_buf10m #; Wetlands_DEP_Clip_diss #\"\n",
    "out = r\"burn_wetlands_flowlines_raw\"\n",
    "arcpy.analysis.Union(\n",
    "    in_features=instring,\n",
    "    out_feature_class=out,\n",
    "    join_attributes=\"ALL\",\n",
    "    cluster_tolerance=None,\n",
    "    gaps=\"GAPS\"\n",
    ")\n",
    "\n",
    "# dissolve all burn features\n",
    "arcpy.management.Dissolve(\n",
    "    in_features=out,\n",
    "    out_feature_class=out+\"_diss\",\n",
    "    dissolve_field=\"OBJECTID\",\n",
    "    statistics_fields=None,\n",
    "    multi_part=\"MULTI_PART\",\n",
    "    unsplit_lines=\"DISSOLVE_LINES\",\n",
    "    concatenation_separator=\"\"\n",
    ")\n",
    "\n",
    "arcpy.management.CalculateField(\n",
    "    in_table=out+\"_diss\",\n",
    "    field=\"burn\",\n",
    "    expression=\"0.5\",\n",
    "    expression_type=\"PYTHON3\",\n",
    "    code_block=\"\",\n",
    "    field_type=\"SHORT\",\n",
    "    enforce_domains=\"NO_ENFORCE_DOMAINS\")\n",
    "\n",
    "with arcpy.EnvManager(outputCoordinateSystem='PROJCS[\"NAD_1983_UTM_Zone_19N\",GEOGCS[\"GCS_North_American_1983\",DATUM[\"D_North_American_1983\",SPHEROID[\"GRS_1980\",6378137.0,298.257222101]],PRIMEM[\"Greenwich\",0.0],UNIT[\"Degree\",0.0174532925199433]],PROJECTION[\"Transverse_Mercator\"],PARAMETER[\"False_Easting\",500000.0],PARAMETER[\"False_Northing\",0.0],PARAMETER[\"Central_Meridian\",-69.0],PARAMETER[\"Scale_Factor\",0.9996],PARAMETER[\"Latitude_Of_Origin\",0.0],UNIT[\"Meter\",1.0]]', snapRaster=\"gw_elev_meters\", extent='346823.303957774 4597731.43403507 422133.303957774 4662251.43403507 PROJCS[\"NAD_1983_UTM_Zone_19N\",GEOGCS[\"GCS_North_American_1983\",DATUM[\"D_North_American_1983\",SPHEROID[\"GRS_1980\",6378137.0,298.257222101]],PRIMEM[\"Greenwich\",0.0],UNIT[\"Degree\",0.0174532925199433]],PROJECTION[\"Transverse_Mercator\"],PARAMETER[\"False_Easting\",500000.0],PARAMETER[\"False_Northing\",0.0],PARAMETER[\"Central_Meridian\",-69.0],PARAMETER[\"Scale_Factor\",0.9996],PARAMETER[\"Latitude_Of_Origin\",0.0],UNIT[\"Meter\",1.0]]', cellSize=\"gw_elev_meters\"):\n",
    "    arcpy.conversion.FeatureToRaster(\n",
    "        in_features=out+\"_diss\",\n",
    "        field=\"burn\",\n",
    "        out_raster=\"burn_rast_\"+out[5:]\n",
    "    )"
   ]
  },
  {
   "cell_type": "markdown",
   "metadata": {},
   "source": [
    "## Set zero values."
   ]
  },
  {
   "cell_type": "code",
   "execution_count": 25,
   "metadata": {},
   "outputs": [],
   "source": [
    "# set null values to zero everywhere but burn >=0\n",
    "rasters = [\"burn_rast_wetlands\",\n",
    "           \"burn_rast_bogs\",\n",
    "           \"burn_rast_flowline\",\n",
    "           \"burn_rast_flowline_raw\",\n",
    "           \"burn_rast_waterbody\",\n",
    "           \"burn_rast_wetlands\",\n",
    "           \"burn_rast_wetlands_flowlines_raw\",\n",
    "           \"burn_bogs_waterbodies_flowlines\"]\n",
    "for ras in rasters:\n",
    "    burn = arcpy.ia.Con(\n",
    "        in_conditional_raster=ras,\n",
    "        in_true_raster_or_constant=0,\n",
    "        in_false_raster_or_constant=1,\n",
    "        where_clause=\"Value IS NULL\")\n",
    "    burn.save(ras+\"_null\")"
   ]
  }
 ],
 "metadata": {
  "kernelspec": {
   "display_name": "ArcGISPro",
   "language": "Python",
   "name": "python3"
  },
  "language_info": {
   "file_extension": ".py",
   "name": "python",
   "version": "3"
  }
 },
 "nbformat": 4,
 "nbformat_minor": 2
}
