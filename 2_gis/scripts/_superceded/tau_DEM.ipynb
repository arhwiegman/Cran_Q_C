{
 "cells": [
  {
   "cell_type": "code",
   "execution_count": null,
   "metadata": {},
   "outputs": [],
   "source": [
    "# Tau DEM"
   ]
  },
  {
   "cell_type": "code",
   "execution_count": null,
   "metadata": {},
   "outputs": [],
   "source": [
    "arcpy.ImportToolbox(r\"C:\\Workspace\\Geodata\\Cran_Q_C\\Cran_Q_C.atbx\")\n",
    "arcpy.ImportToolbox(r'','')\n",
    "arcpy.DinfFlowDir(\n",
    "    Input_Pit_FIlled_Elevation_Grid=r\"C:\\Workspace\\Geodata\\Cran_Q_C\\Default.gdb\\gwe_bf\",\n",
    "    Input_Number_of_Processes=8,\n",
    "    Output_D-Infinity_Flow_Direction_Grid=r\"C:\\Workspace\\Geodata\\Cran_Q_C\\outputs\\gwe_bfang.tif\",\n",
    "    Output_D-Infinity_Slope_Grid=r\"C:\\Workspace\\Geodata\\Cran_Q_C\\outputs\\gwe_bfslp.tif\"\n",
    ")"
   ]
  },
  {
   "cell_type": "code",
   "execution_count": null,
   "metadata": {},
   "outputs": [],
   "source": [
    "arcpy.ImportToolbox(r\"C:\\Workspace\\Geodata\\Cran_Q_C\\Cran_Q_C.atbx\")\n",
    "arcpy.ImportToolbox(r'','')\n",
    "arcpy..PitRemove(\n",
    "    Input_Elevation_Grid=r\"C:\\Workspace\\Geodata\\Cran_Q_C\\Default.gdb\\gw_elev_meters\",\n",
    "    Fill_Considering_only_4_way_neighbors=None,\n",
    "    Input_Depression_Mask_Grid=r\"C:\\Workspace\\Geodata\\Cran_Q_C\\Default.gdb\\burn_rast_waterbody\",\n",
    "    Input_Number_of_Processes=8,\n",
    "    Output_Pit_Removed_Elevation_Grid=r\"C:\\Workspace\\Geodata\\Cran_Q_C\\outputs\\tau_gwe_pf.tif\")"
   ]
  },
  {
   "cell_type": "code",
   "execution_count": 13,
   "metadata": {},
   "outputs": [
    {
     "name": "stdout",
     "output_type": "stream",
     "text": [
      "The autoreload extension is already loaded. To reload it, use:\n",
      "  %reload_ext autoreload\n",
      "***\n",
      "loading python modules...\n",
      "\n",
      "  `module_list` contains names of all loaded modules\n",
      "\n",
      "...module loading complete\n",
      "\n",
      "***\n",
      "loading user defined functions...\n",
      "\n",
      "type `fn_`+TAB to for autocomplete suggestions\n",
      "\n",
      " the object `def_list` contains user defined function names:\n",
      "   fn_get_info\n",
      "   fn_arcgis_table_to_df\n",
      "   fn_arcgis_table_to_np_to_pd_df\n",
      "   fn_run_script_w_propy_bat\n",
      "   fn_try_mkdir\n",
      "   fn_hello\n",
      "   fn_recursive_glob_search\n",
      "   fn_regex_search_replace\n",
      "   fn_regex_search_0\n",
      "   fn_arcpy_table_to_excel\n",
      "   fn_agg_sum_df_on_group\n",
      "   fn_add_prefix_suffix_to_selected_cols\n",
      "   fn_calc_pct_cover_within_groups\n",
      "   fn_buildWhereClauseFromList\n",
      "   fn_FA_to_Q\n",
      "   fn_alter_field_double\n",
      "   fn_return_float\n",
      "   fn_classify_wetlands\n",
      "\n",
      " use ??{insert fn name} to inspect\n",
      " for example running `??fn_get_info` returns:\n",
      "\u001b[1;31mSignature:\u001b[0m \u001b[0mfn_get_info\u001b[0m\u001b[1;33m(\u001b[0m\u001b[0mname\u001b[0m\u001b[1;33m=\u001b[0m\u001b[1;34m'fn_get_info'\u001b[0m\u001b[1;33m)\u001b[0m\u001b[1;33m\u001b[0m\u001b[1;33m\u001b[0m\u001b[0m\n",
      "\u001b[1;31mSource:\u001b[0m   \n",
      "\u001b[1;32mdef\u001b[0m \u001b[0mfn_get_info\u001b[0m\u001b[1;33m(\u001b[0m\u001b[0mname\u001b[0m\u001b[1;33m=\u001b[0m\u001b[1;34m'fn_get_info'\u001b[0m\u001b[1;33m)\u001b[0m\u001b[1;33m:\u001b[0m\u001b[1;33m\n",
      "\u001b[0m    \u001b[1;34m'''\n",
      "    returns the source information about a given function name\n",
      "    '''\u001b[0m\u001b[1;33m\n",
      "\u001b[0m    \u001b[0mget_ipython\u001b[0m\u001b[1;33m(\u001b[0m\u001b[1;33m)\u001b[0m\u001b[1;33m.\u001b[0m\u001b[0mrun_line_magic\u001b[0m\u001b[1;33m(\u001b[0m\u001b[1;34m'pinfo2'\u001b[0m\u001b[1;33m,\u001b[0m \u001b[1;34m'$name'\u001b[0m\u001b[1;33m)\u001b[0m\u001b[1;33m\u001b[0m\u001b[1;33m\u001b[0m\u001b[0m\n",
      "\u001b[1;31mFile:\u001b[0m      c:\\workspace\\geodata\\cran_q_c\\<ipython-input-1-28f96385f735>\n",
      "\u001b[1;31mType:\u001b[0m      function\n",
      "\n",
      " you can also use `fn_get_info(name={insert fn name})` to do the same thing as `??{insert fn name}`\n",
      "\n",
      "...function loading complete\n",
      "\n",
      "***\n",
      "managing project directories:\n",
      " working directory (`wdr`): C:\\Workspace\\Geodata\\Cran_Q_C\\\n",
      " temp dir (`tdr.name`): C:\\Users\\ADRIAN~1.WIE\\AppData\\Local\\Temp\\ArcGISProTemp35684\\tmp9vwxqqzo\n",
      " input file directory (`idr`): C:\\Workspace\\Geodata\\Cran_Q_C\\inputs\n",
      " output dir (`odr`): C:\\Workspace\\Geodata\\Cran_Q_C\\outputs\n",
      "\n",
      "\n",
      "\n",
      "\n",
      "***\n",
      "setting up arcpy environment...\n",
      "\n",
      " default geodatabase path (`gdb_default_path`): C:\\Workspace\\Geodata\\Cran_Q_C\\Default.gdb\n",
      " active map (`mx`) name: Map1_prep_bogs\n",
      " output coordinate system: NAD_1983_UTM_Zone_19N\n",
      "\n",
      "... env setup complete\n",
      "\n",
      "\n",
      "+++SETUP COMPLETE+++\n",
      "\n",
      "\n"
     ]
    }
   ],
   "source": [
    "# iphython options\n",
    "# delete variables in workspace\n",
    "%reset -f\n",
    "#places plots inline\n",
    "%matplotlib inline\n",
    "#automatically reloads modules if they are changed\n",
    "%load_ext autoreload \n",
    "%autoreload 2\n",
    "# this codeblock sets up the environment from jupyter notebooks\n",
    "setup_notebook = r\"C:\\Users\\Adrian.Wiegman\\Documents\\GitHub\\Wiegman_USDA_ARS\\Cran_Q_C\\2_gis\\scripts\\_Setup.ipynb\"\n",
    "%run $setup_notebook # magic command to run the notebook "
   ]
  },
  {
   "cell_type": "code",
   "execution_count": 22,
   "metadata": {},
   "outputs": [
    {
     "name": "stdout",
     "output_type": "stream",
     "text": [
      "C:\\Workspace\\Geodata\\Cran_Q_C\\outputs\\gwe\n",
      "mpiexec -n 8 PitRemove gwe.tif\n"
     ]
    },
    {
     "data": {
      "text/plain": [
       "0"
      ]
     },
     "execution_count": 22,
     "metadata": {},
     "output_type": "execute_result"
    }
   ],
   "source": [
    "import os\n",
    "sub_dir = os.path.join(wdr,r\"outputs\\gwe\")\n",
    "os.chdir(sub_dir)\n",
    "print(sub_dir)\n",
    "in_dem =  \"gwe.tif\"\n",
    "felfile = \"gwebf.tif\"\n",
    "cmd = \"mpiexec -n 8 PitRemove -z {dem} -fel {felfile}\".format(dem = in_dem,\n",
    "                                                             felfile = \"fel\")\n",
    "print(cmd)\n",
    "os.system(cmd)"
   ]
  },
  {
   "cell_type": "code",
   "execution_count": 23,
   "metadata": {},
   "outputs": [
    {
     "data": {
      "text/html": [
       "<div class='gpresult'><h2>Messages</h2><div id='messages' data-messages='[\"Start Time: Thursday, December 14, 2023 12:57:15 PM\",\"Building Pyramids...\",\"Calculating Statistics...\",\"Succeeded at Thursday, December 14, 2023 12:57:19 PM (Elapsed Time: 4.23 seconds)\"]' data-show='true'><div id = 'default' /></div></div>"
      ],
      "text/plain": [
       "<Result 'C:\\\\Workspace\\\\Geodata\\\\Cran_Q_C\\\\outputs\\\\gwe\\\\gwebf.tif'>"
      ]
     },
     "execution_count": 23,
     "metadata": {},
     "output_type": "execute_result"
    }
   ],
   "source": [
    "arcpy.management.CopyRaster(\n",
    "    in_raster=r\"C:\\Workspace\\Geodata\\Cran_Q_C\\Default.gdb\\gwe_bf\",\n",
    "    out_rasterdataset=r\"C:\\Workspace\\Geodata\\Cran_Q_C\\outputs\\gwe\\gwebf.tif\",\n",
    "    config_keyword=\"\",\n",
    "    background_value=None,\n",
    "    nodata_value=\"\",\n",
    "    onebit_to_eightbit=\"NONE\",\n",
    "    colormap_to_RGB=\"NONE\",\n",
    "    pixel_type=\"32_BIT_FLOAT\",\n",
    "    scale_pixel_value=\"NONE\",\n",
    "    RGB_to_Colormap=\"NONE\",\n",
    "    format=\"TIFF\",\n",
    "    transform=\"NONE\",\n",
    "    process_as_multidimensional=\"CURRENT_SLICE\",\n",
    "    build_multidimensional_transpose=\"NO_TRANSPOSE\")"
   ]
  },
  {
   "cell_type": "code",
   "execution_count": 27,
   "metadata": {},
   "outputs": [
    {
     "name": "stdout",
     "output_type": "stream",
     "text": [
      "mpiexec -n 8 DinfFlowDir -fel gwebf.tif -ang gwebfang.tif -slp gwebfslp.tif\n"
     ]
    }
   ],
   "source": [
    "Dinf = \"mpiexec -n {n_processes} DinfFlowDir -fel {felfile} -ang {angfile} -slp {slpfile}\"\n",
    "felfile = \"gwebf.tif\"\n",
    "angfile = \"gwebfang.tif\"\n",
    "slpfile = \"gwebfslp.tif\"\n",
    "cmd = Dinf.format(n_processes = \"8\",\n",
    "                  felfile = felfile,\n",
    "                  angfile = angfile,\n",
    "                  slpfile = slpfile)\n",
    "print(cmd)"
   ]
  },
  {
   "cell_type": "code",
   "execution_count": null,
   "metadata": {},
   "outputs": [],
   "source": [
    "mpiexec -n <number of processes> AreaDinf -ang < angfile > -sca < scafile> [ -o <outletfile>] [ -wg <wgfile>] [ -nc] [ -lyrname <layer name>] [ -lyrno <layer number>]"
   ]
  },
  {
   "cell_type": "code",
   "execution_count": null,
   "metadata": {},
   "outputs": [],
   "source": [
    "arcpy.ImportToolbox(r\"C:\\Workspace\\Geodata\\Cran_Q_C\\Cran_Q_C.atbx\")\n",
    "arcpy.ImportToolbox(r'','')\n",
    "arcpy..AreaDinf(\n",
    "    Input_D-Infinity_Flow_Direction_Grid=\"gwebfang.tif\",\n",
    "    Input_Outlets=r\"C:\\Workspace\\Geodata\\Cran_Q_C\\Default.gdb\\df_NO3_MEP\",\n",
    "    Input_Weight_Grid=None,\n",
    "    Check_for_Edge_Contamination=True,\n",
    "    Input_Number_of_Processes=8,\n",
    "    Output_D-Infinity_Specific_Catchment_Area_Grid=r\"C:\\Workspace\\Geodata\\Cran_Q_C\\outputs\\gwe\\gwebfsca.tif\"\n",
    ")"
   ]
  },
  {
   "cell_type": "code",
   "execution_count": null,
   "metadata": {},
   "outputs": [],
   "source": [
    "arcpy.ImportToolbox(r\"C:\\Workspace\\Geodata\\Cran_Q_C\\Cran_Q_C.atbx\")\n",
    "arcpy.ImportToolbox(r'','')\n",
    "arcpy..AreaDinf(\n",
    "    Input_D-Infinity_Flow_Direction_Grid=\"gwebfang.tif\",\n",
    "    Input_Outlets=None,\n",
    "    Input_Weight_Grid=None,\n",
    "    Check_for_Edge_Contamination=True,\n",
    "    Input_Number_of_Processes=8,\n",
    "    Output_D-Infinity_Specific_Catchment_Area_Grid=r\"C:\\Workspace\\Geodata\\Cran_Q_C\\outputs\\gwe\\gwebfsca.tif\"\n",
    ")"
   ]
  }
 ],
 "metadata": {
  "kernelspec": {
   "display_name": "ArcGISPro",
   "language": "python",
   "name": "python3"
  },
  "language_info": {
   "file_extension": ".py",
   "mimetype": "text/x-python",
   "name": "python",
   "version": "3.11.10"
  }
 },
 "nbformat": 4,
 "nbformat_minor": 4
}
