{
 "cells": [
  {
   "cell_type": "markdown",
   "metadata": {},
   "source": [
    "This notebook creates a stream network from a DEM. \n",
    "Then creates nodes within that network"
   ]
  },
  {
   "cell_type": "raw",
   "metadata": {},
   "source": [
    "arcpy.management.CreateFileGDB(\n",
    "    out_folder_path=r\"C:\\Workspace\\Geodata\\Cran_Q_C\",\n",
    "    out_name=\"gwe_bf_network\",\n",
    "    out_version=\"CURRENT\")\n",
    "\n",
    "arcpy.management.CreateFeatureDataset(\n",
    "    out_dataset_path=r\"C:\\Workspace\\Geodata\\Cran_Q_C\\gwe_bf_network.gdb\",\n",
    "    out_name=\"gwe_bf_stream\",\n",
    "    spatial_reference='PROJCS[\"NAD_1983_UTM_Zone_19N\",GEOGCS[\"GCS_North_American_1983\",DATUM[\"D_North_American_1983\",SPHEROID[\"GRS_1980\",6378137.0,298.257222101]],PRIMEM[\"Greenwich\",0.0],UNIT[\"Degree\",0.0174532925199433]],PROJECTION[\"Transverse_Mercator\"],PARAMETER[\"False_Easting\",500000.0],PARAMETER[\"False_Northing\",0.0],PARAMETER[\"Central_Meridian\",-69.0],PARAMETER[\"Scale_Factor\",0.9996],PARAMETER[\"Latitude_Of_Origin\",0.0],UNIT[\"Meter\",1.0]],VERTCS[\"NAD_1983\",DATUM[\"D_North_American_1983\",SPHEROID[\"GRS_1980\",6378137.0,298.257222101]],PARAMETER[\"Vertical_Shift\",0.0],PARAMETER[\"Direction\",1.0],UNIT[\"Meter\",1.0]];-5120900 -9998100 10000;-100000 10000;-100000 10000;0.001;0.001;0.001;IsHighPrecision')"
   ]
  },
  {
   "cell_type": "raw",
   "metadata": {},
   "source": [
    "arcpy.tn.CreateTraceNetwork(\n",
    "    in_feature_dataset=r\"C:\\Workspace\\Geodata\\Cran_Q_C\\gwe_bf_network.gdb\\gwe_bf_stream\",\n",
    "    in_trace_network_name=\"gwe_bf_network\",\n",
    "    input_junctions=None,\n",
    "    input_edges=\"# SIMPLE_EDGE\"\n",
    ")"
   ]
  },
  {
   "cell_type": "code",
   "execution_count": 2,
   "metadata": {},
   "outputs": [
    {
     "data": {
      "text/html": [
       "<div class='gpresult'><h2>Messages</h2><div id='messages' data-messages='[\"Start Time: Friday, March 22, 2024 10:15:48 AM\",\"Building Pyramids...\",\"Calculating Statistics...\",\"Succeeded at Friday, March 22, 2024 10:15:52 AM (Elapsed Time: 3.90 seconds)\"]' data-show='true'><div id = 'default' /></div></div>"
      ],
      "text/plain": [
       "<Result 'C:\\\\Workspace\\\\Geodata\\\\Cran_Q_C\\\\\\\\gwe_bf_network.gdb\\\\FA_D8_gwe_bf'>"
      ]
     },
     "execution_count": 2,
     "metadata": {},
     "output_type": "execute_result"
    }
   ],
   "source": [
    "arcpy.management.CopyRaster(\n",
    "    in_raster=r\"C:\\Workspace\\Geodata\\Cran_Q_C\\Default.gdb\\gwe_bf\",\n",
    "    out_rasterdataset=r\"C:\\Workspace\\Geodata\\Cran_Q_C\\\\gwe_bf_network.gdb\\gwe_bf\",\n",
    "    config_keyword=\"\",\n",
    "    background_value=None,\n",
    "    nodata_value=\"\",\n",
    "    onebit_to_eightbit=\"NONE\",\n",
    "    colormap_to_RGB=\"NONE\",\n",
    "    pixel_type=\"\",\n",
    "    scale_pixel_value=\"NONE\",\n",
    "    RGB_to_Colormap=\"NONE\",\n",
    "    format=\"\",\n",
    "    transform=\"NONE\",\n",
    "    process_as_multidimensional=\"CURRENT_SLICE\",\n",
    "    build_multidimensional_transpose=\"NO_TRANSPOSE\"\n",
    ")\n",
    "\n",
    "arcpy.management.CopyRaster(\n",
    "    in_raster=r\"C:\\Workspace\\Geodata\\Cran_Q_C\\Default.gdb\\D8_gwe_bf\",\n",
    "    out_rasterdataset=r\"C:\\Workspace\\Geodata\\Cran_Q_C\\gwe_bf_network.gdb\\D8_gwe_bf\",\n",
    "    config_keyword=\"\",\n",
    "    background_value=None,\n",
    "    nodata_value=\"\",\n",
    "    onebit_to_eightbit=\"NONE\",\n",
    "    colormap_to_RGB=\"NONE\",\n",
    "    pixel_type=\"\",\n",
    "    scale_pixel_value=\"NONE\",\n",
    "    RGB_to_Colormap=\"NONE\",\n",
    "    format=\"\",\n",
    "    transform=\"NONE\",\n",
    "    process_as_multidimensional=\"CURRENT_SLICE\",\n",
    "    build_multidimensional_transpose=\"NO_TRANSPOSE\"\n",
    ")\n",
    "\n",
    "arcpy.management.CopyRaster(\n",
    "    in_raster=r\"C:\\Workspace\\Geodata\\Cran_Q_C\\Default.gdb\\FA_D8_gwe_bf\",\n",
    "    out_rasterdataset=r\"C:\\Workspace\\Geodata\\Cran_Q_C\\\\gwe_bf_network.gdb\\FA_D8_gwe_bf\",\n",
    "    config_keyword=\"\",\n",
    "    background_value=None,\n",
    "    nodata_value=\"\",\n",
    "    onebit_to_eightbit=\"NONE\",\n",
    "    colormap_to_RGB=\"NONE\",\n",
    "    pixel_type=\"\",\n",
    "    scale_pixel_value=\"NONE\",\n",
    "    RGB_to_Colormap=\"NONE\",\n",
    "    format=\"\",\n",
    "    transform=\"NONE\",\n",
    "    process_as_multidimensional=\"CURRENT_SLICE\",\n",
    "    build_multidimensional_transpose=\"NO_TRANSPOSE\"\n",
    ")"
   ]
  },
  {
   "cell_type": "code",
   "execution_count": 3,
   "metadata": {},
   "outputs": [
    {
     "data": {
      "text/html": [
       "<div class='gpresult'><h2>Messages</h2><div id='messages' data-messages='[\"Start Time: Friday, March 22, 2024 10:17:22 AM\",\"Succeeded at Friday, March 22, 2024 10:17:35 AM (Elapsed Time: 13.10 seconds)\"]' data-show='true'><div id = 'default' /></div></div>"
      ],
      "text/plain": [
       "<geoprocessing server result object object at 0x000001AC09C01690>"
      ]
     },
     "execution_count": 3,
     "metadata": {},
     "output_type": "execute_result"
    }
   ],
   "source": [
    "# CREATE STREAM LINES\n",
    "\n",
    "arcpy.sa.DeriveStreamAsLine(\n",
    "    in_surface_raster=r\"C:\\Workspace\\Geodata\\Cran_Q_C\\gwe_bf_network.gdb\\gwe_bf\",\n",
    "    out_stream_features=r\"C:\\Workspace\\Geodata\\Cran_Q_C\\gwe_bf_network.gdb\\gwe_bf_stream\\stream\",\n",
    "    in_depressions_data=None,\n",
    "    in_weight_raster=None,\n",
    "    accumulation_threshold=\"100000 SquareMeters\",\n",
    "    stream_designation_method=\"ALL\",\n",
    "    simplify=\"SIMPLIFY\"\n",
    ")"
   ]
  },
  {
   "cell_type": "code",
   "execution_count": null,
   "metadata": {},
   "outputs": [],
   "source": [
    "# CREATE STREAM RASTERS  \n",
    "with arcpy.EnvManager(scratchWorkspace=r\"C:\\Workspace\\Geodata\\Cran_Q_C\\gwe_bf_network.gdb\"):\n",
    "    \n",
    "    # create a HACK method raster, which assigns 1 to the terminal segment and higher values to successive contributing segments.\n",
    "    out_stream_raster = arcpy.sa.DeriveStreamAsRaster(\n",
    "        in_surface_raster=\"gwe_bf\",\n",
    "        in_depressions_data=None,\n",
    "        in_weight_raster=None,\n",
    "        accumulation_threshold=\"100000 SquareMeters\",\n",
    "        stream_designation_method=\"HACK\",\n",
    "        force_flow=\"FORCE\"\n",
    "    )\n",
    "    out_stream_raster.save(\"stream_raster_HACK\")\n",
    "    \n",
    "    out_stream_raster = arcpy.sa.DeriveStreamAsRaster(\n",
    "        in_surface_raster=\"gwe_bf\",\n",
    "        in_depressions_data=None,\n",
    "        in_weight_raster=None,\n",
    "        accumulation_threshold=\"100000 SquareMeters\",\n",
    "        stream_designation_method=\"CONSTANT\",\n",
    "        force_flow=\"FORCE\"\n",
    "    )\n",
    "    out_stream_raster.save(\"stream_raster\")"
   ]
  },
  {
   "cell_type": "code",
   "execution_count": 5,
   "metadata": {},
   "outputs": [
    {
     "ename": "RuntimeError",
     "evalue": "ERROR 010240: Could not save raster dataset to C:\\Workspace\\Geodata\\Cran_Q_C\\Default.gdb\\streamlinks with output format FGDBR.",
     "output_type": "error",
     "traceback": [
      "\u001b[0;31m---------------------------------------------------------------------------\u001b[0m\n\u001b[0;31mRuntimeError\u001b[0m                              Traceback (most recent call last)",
      "In  \u001b[0;34m[5]\u001b[0m:\nLine \u001b[0;34m6\u001b[0m:     out_raster.save(\u001b[33m\"\u001b[39;49;00m\u001b[33mstreamlinks\u001b[39;49;00m\u001b[33m\"\u001b[39;49;00m)\u001b[37m\u001b[39;49;00m\n",
      "\u001b[0;31mRuntimeError\u001b[0m: ERROR 010240: Could not save raster dataset to C:\\Workspace\\Geodata\\Cran_Q_C\\Default.gdb\\streamlinks with output format FGDBR.\n\u001b[0;31m---------------------------------------------------------------------------\u001b[0m"
     ]
    }
   ],
   "source": [
    "with arcpy.EnvManager(scratchWorkspace=r\"C:\\Workspace\\Geodata\\Cran_Q_C\\gwe_bf_network.gdb\"):    \n",
    "    out_raster = arcpy.sa.StreamLink(\n",
    "        in_stream_raster=\"stream_raster\",\n",
    "        in_flow_direction_raster=r\"D8_gwe_bf\"\n",
    "    )\n",
    "    out_raster.save(\"streamlinks\")"
   ]
  }
 ],
 "metadata": {
  "kernelspec": {
   "display_name": "ArcGISPro",
   "language": "Python",
   "name": "python3"
  },
  "language_info": {
   "file_extension": ".py",
   "name": "python",
   "version": "3"
  }
 },
 "nbformat": 4,
 "nbformat_minor": 2
}
