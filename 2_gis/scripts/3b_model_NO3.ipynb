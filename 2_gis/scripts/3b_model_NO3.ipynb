{
 "cells": [
  {
   "cell_type": "markdown",
   "metadata": {},
   "source": [
    "## Metadata\n",
    "Calculate Groundwater Flow \n",
    "\n",
    "Author: Adrian Wiegman\n",
    "\n",
    "Date Modified: 10/31/2023\n",
    "\n",
    "From the hydroenforced elevation model I calculate flow direction, then flow accumulation. "
   ]
  },
  {
   "cell_type": "markdown",
   "metadata": {},
   "source": [
    "## Setup Environment & Load the Data"
   ]
  },
  {
   "cell_type": "code",
   "execution_count": 48,
   "metadata": {},
   "outputs": [
    {
     "name": "stdout",
     "output_type": "stream",
     "text": [
      "The autoreload extension is already loaded. To reload it, use:\n",
      "  %reload_ext autoreload\n",
      "***\n",
      "loading python modules...\n",
      "\n",
      "  `module_list` contains names of all loaded modules\n",
      "\n",
      "...module loading complete\n",
      "\n",
      "***\n",
      "loading user defined functions...\n",
      "\n",
      "type `fn_`+TAB to for autocomplete suggestions\n",
      "\n",
      " the object `def_list` contains user defined function names:\n",
      "   fn_get_info\n",
      "   fn_arcgis_table_to_df\n",
      "   fn_arcgis_table_to_np_to_pd_df\n",
      "   fn_run_script_w_propy_bat\n",
      "   fn_try_mkdir\n",
      "   fn_hello\n",
      "   fn_recursive_glob_search\n",
      "   fn_regex_search_replace\n",
      "   fn_regex_search_0\n",
      "   fn_arcpy_table_to_excel\n",
      "   fn_agg_sum_df_on_group\n",
      "   fn_add_prefix_suffix_to_selected_cols\n",
      "   fn_calc_pct_cover_within_groups\n",
      "   fn_buildWhereClauseFromList\n",
      "   fn_FA_to_Q\n",
      "   fn_alter_field_double\n",
      "   fn_return_float\n",
      "   fn_classify_wetlands\n",
      "\n",
      " use ??{insert fn name} to inspect\n",
      " for example running `??fn_get_info` returns:\n",
      "\u001b[1;31mSignature:\u001b[0m \u001b[0mfn_get_info\u001b[0m\u001b[1;33m(\u001b[0m\u001b[0mname\u001b[0m\u001b[1;33m=\u001b[0m\u001b[1;34m'fn_get_info'\u001b[0m\u001b[1;33m)\u001b[0m\u001b[1;33m\u001b[0m\u001b[1;33m\u001b[0m\u001b[0m\n",
      "\u001b[1;31mSource:\u001b[0m   \n",
      "\u001b[1;32mdef\u001b[0m \u001b[0mfn_get_info\u001b[0m\u001b[1;33m(\u001b[0m\u001b[0mname\u001b[0m\u001b[1;33m=\u001b[0m\u001b[1;34m'fn_get_info'\u001b[0m\u001b[1;33m)\u001b[0m\u001b[1;33m:\u001b[0m\u001b[1;33m\n",
      "\u001b[0m    \u001b[1;34m'''\n",
      "    returns the source information about a given function name\n",
      "    '''\u001b[0m\u001b[1;33m\n",
      "\u001b[0m    \u001b[0mget_ipython\u001b[0m\u001b[1;33m(\u001b[0m\u001b[1;33m)\u001b[0m\u001b[1;33m.\u001b[0m\u001b[0mrun_line_magic\u001b[0m\u001b[1;33m(\u001b[0m\u001b[1;34m'pinfo2'\u001b[0m\u001b[1;33m,\u001b[0m \u001b[1;34m'$name'\u001b[0m\u001b[1;33m)\u001b[0m\u001b[1;33m\u001b[0m\u001b[1;33m\u001b[0m\u001b[0m\n",
      "\u001b[1;31mFile:\u001b[0m      c:\\workspace\\geodata\\cran_q_c\\<ipython-input-1-28f96385f735>\n",
      "\u001b[1;31mType:\u001b[0m      function\n",
      "\n",
      " you can also use `fn_get_info(name={insert fn name})` to do the same thing as `??{insert fn name}`\n",
      "\n",
      "...function loading complete\n",
      "\n",
      "***\n",
      "managing project directories:\n",
      " working directory (`wdr`): C:\\Workspace\\Geodata\\Cran_Q_C\\\n",
      " temp dir (`tdr.name`): C:\\Users\\ADRIAN~1.WIE\\AppData\\Local\\Temp\\ArcGISProTemp41656\\tmp1nd9gpf8\n",
      " input file directory (`idr`): C:\\Workspace\\Geodata\\Cran_Q_C\\inputs\n",
      " output dir (`odr`): C:\\Workspace\\Geodata\\Cran_Q_C\\outputs\n",
      "\n",
      "\n",
      "\n",
      "\n",
      "***\n",
      "setting up arcpy environment...\n",
      "\n",
      " default geodatabase path (`gdb_default_path`): C:\\Workspace\\Geodata\\Cran_Q_C\\Default.gdb\n",
      " active map (`mx`) name: Map1_prep_bogs\n",
      " output coordinate system: NAD_1983_UTM_Zone_19N\n",
      "\n",
      "... env setup complete\n",
      "\n",
      "\n",
      "+++SETUP COMPLETE+++\n",
      "\n",
      "\n"
     ]
    }
   ],
   "source": [
    "prep_NO3_notebook = \"C:/Users/Adrian.Wiegman/Documents/GitHub/Wiegman_USDA_ARS/Cran_Q_C/2_gis/scripts/3a_prep_NO3.ipynb\"\n",
    "%run $prep_NO3_notebook"
   ]
  },
  {
   "cell_type": "markdown",
   "metadata": {
    "scrolled": true
   },
   "source": [
    "## Split the data into multiple groups"
   ]
  },
  {
   "cell_type": "markdown",
   "metadata": {},
   "source": [
    "## Test spatial autocorrelation"
   ]
  },
  {
   "cell_type": "code",
   "execution_count": 49,
   "metadata": {},
   "outputs": [],
   "source": [
    "datasets = [\"MEP\",\"CCR_BBC\",\"WPP\",\"PSW\"]\n",
    "for dataset in datasets:\n",
    "    arcpy.stats.SpatialAutocorrelation(\n",
    "        Input_Feature_Class=r\"C:\\Workspace\\Geodata\\Cran_Q_C\\Default.gdb\\df_NO3_{}\".format(dataset),\n",
    "        Input_Field=\"NO3\",\n",
    "        Generate_Report=\"GENERATE_REPORT\",\n",
    "        Conceptualization_of_Spatial_Relationships=\"INVERSE_DISTANCE\",\n",
    "        Distance_Method=\"EUCLIDEAN_DISTANCE\",\n",
    "        Standardization=\"ROW\",\n",
    "        Distance_Band_or_Threshold_Distance=None,\n",
    "        Weights_Matrix_File=None,\n",
    "        number_of_neighbors=None)"
   ]
  },
  {
   "cell_type": "markdown",
   "metadata": {},
   "source": [
    "## Fit Models to NO3"
   ]
  },
  {
   "cell_type": "code",
   "execution_count": 50,
   "metadata": {},
   "outputs": [],
   "source": [
    "## Perform Spatial Interpolation"
   ]
  },
  {
   "cell_type": "code",
   "execution_count": 51,
   "metadata": {},
   "outputs": [],
   "source": [
    "# run empirical bayesian krigging only for streams surface water samples\n",
    "# using whittle semivariogram results in moregradual \n",
    "# k-bessel is usually most accurate"
   ]
  },
  {
   "cell_type": "code",
   "execution_count": 52,
   "metadata": {},
   "outputs": [
    {
     "name": "stdout",
     "output_type": "stream",
     "text": [
      "p25 NO3\n",
      "p25 TN\n",
      "p25 NO3_TN_ratio\n",
      "p50 NO3\n",
      "p50 TN\n",
      "p50 NO3_TN_ratio\n",
      "p75 NO3\n",
      "p75 TN\n",
      "p75 NO3_TN_ratio\n"
     ]
    }
   ],
   "source": [
    "params = {'TN','NO3','NO3_TN_ratio'}\n",
    "quantile = {'p25':0.25,'p50':0.5,'p75':0.75}\n",
    "with arcpy.EnvManager(extent='330306.711307153 4591676.84105264 426593.751314681 4667530.2959654 PROJCS[\"NAD_1983_UTM_Zone_19N\",GEOGCS[\"GCS_North_American_1983\",DATUM[\"D_North_American_1983\",SPHEROID[\"GRS_1980\",6378137.0,298.257222101]],PRIMEM[\"Greenwich\",0.0],UNIT[\"Degree\",0.0174532925199433]],PROJECTION[\"Transverse_Mercator\"],PARAMETER[\"False_Easting\",500000.0],PARAMETER[\"False_Northing\",0.0],PARAMETER[\"Central_Meridian\",-69.0],PARAMETER[\"Scale_Factor\",0.9996],PARAMETER[\"Latitude_Of_Origin\",0.0],UNIT[\"Meter\",1.0]],VERTCS[\"NAD_1983\",DATUM[\"D_North_American_1983\",SPHEROID[\"GRS_1980\",6378137.0,298.257222101]],PARAMETER[\"Vertical_Shift\",0.0],PARAMETER[\"Direction\",1.0],UNIT[\"Meter\",1.0]]', mask=\"domain_poly\"):\n",
    "    for name, value in quantile.items():\n",
    "        for par in params:\n",
    "            # set the random generator to ACM599 with random seed of 0, this is the default\n",
    "            arcpy.env.randomGenerator = \"0 ACM599\"\n",
    "            print(name,par)\n",
    "            # run the EBK model\n",
    "            arcpy.ga.EmpiricalBayesianKriging(\n",
    "                in_features=\"df_NO3_TN_imputed_not_PSW\",\n",
    "                z_field=par,\n",
    "                out_ga_layer=None,\n",
    "                out_raster=r\"C:\\Workspace\\Geodata\\Cran_Q_C\\Default.gdb\\EBK_{}_{}\".format(par,name),\n",
    "                cell_size=200,\n",
    "                transformation_type=\"LOGEMPIRICAL\",\n",
    "                max_local_points=100,\n",
    "                overlap_factor=1,\n",
    "                number_semivariograms=100,\n",
    "                search_neighborhood=\"NBRTYPE=StandardCircular RADIUS=41731.1521560475 ANGLE=0 NBR_MAX=30 NBR_MIN=20 SECTOR_TYPE=FOUR_SECTORS\",\n",
    "                output_type=\"QUANTILE\",\n",
    "                quantile_value=value,\n",
    "                threshold_type=\"EXCEED\",\n",
    "                probability_threshold=None,\n",
    "                semivariogram_model_type=\"WHITTLE\"\n",
    "            )"
   ]
  },
  {
   "cell_type": "code",
   "execution_count": null,
   "metadata": {},
   "outputs": [],
   "source": [
    "name=\"SE\"\n",
    "with arcpy.EnvManager(extent='330306.711307153 4591676.84105264 426593.751314681 4667530.2959654 PROJCS[\"NAD_1983_UTM_Zone_19N\",GEOGCS[\"GCS_North_American_1983\",DATUM[\"D_North_American_1983\",SPHEROID[\"GRS_1980\",6378137.0,298.257222101]],PRIMEM[\"Greenwich\",0.0],UNIT[\"Degree\",0.0174532925199433]],PROJECTION[\"Transverse_Mercator\"],PARAMETER[\"False_Easting\",500000.0],PARAMETER[\"False_Northing\",0.0],PARAMETER[\"Central_Meridian\",-69.0],PARAMETER[\"Scale_Factor\",0.9996],PARAMETER[\"Latitude_Of_Origin\",0.0],UNIT[\"Meter\",1.0]],VERTCS[\"NAD_1983\",DATUM[\"D_North_American_1983\",SPHEROID[\"GRS_1980\",6378137.0,298.257222101]],PARAMETER[\"Vertical_Shift\",0.0],PARAMETER[\"Direction\",1.0],UNIT[\"Meter\",1.0]]', mask=\"domain_poly\"):\n",
    "    for par in params:\n",
    "        # set the random generator to ACM599 with random seed of 0, this is the default\n",
    "        arcpy.env.randomGenerator = \"0 ACM599\"\n",
    "        print(name,par)\n",
    "        # run the EBK model\n",
    "        arcpy.ga.EmpiricalBayesianKriging(\n",
    "            in_features=\"df_NO3_TN_imputed_not_PSW\",\n",
    "            z_field=par,\n",
    "            out_ga_layer=None,\n",
    "            out_raster=r\"C:\\Workspace\\Geodata\\Cran_Q_C\\Default.gdb\\EBK_{}_{}\".format(par,name),\n",
    "            cell_size=200,\n",
    "            transformation_type=\"LOGEMPIRICAL\",\n",
    "            max_local_points=100,\n",
    "            overlap_factor=1,\n",
    "            number_semivariograms=100,\n",
    "            search_neighborhood=\"NBRTYPE=StandardCircular RADIUS=41731.1521560475 ANGLE=0 NBR_MAX=30 NBR_MIN=20 SECTOR_TYPE=FOUR_SECTORS\",\n",
    "            output_type=\"PREDICTION_STANDARD_ERROR\",\n",
    "            threshold_type=\"EXCEED\",\n",
    "            probability_threshold=None,\n",
    "            semivariogram_model_type=\"WHITTLE\"\n",
    "            )"
   ]
  },
  {
   "cell_type": "markdown",
   "metadata": {},
   "source": [
    "# Appendix"
   ]
  },
  {
   "cell_type": "raw",
   "metadata": {},
   "source": [
    "def fn_EBK(\n",
    "    ext = '346780.0045 4597251.6993 422800.0045 4662351.6993 PROJCS[\"NAD_1983_UTM_Zone_19N\",GEOGCS[\"GCS_North_American_1983\",DATUM[\"D_North_American_1983\",SPHEROID[\"GRS_1980\",6378137.0,298.257222101]],PRIMEM[\"Greenwich\",0.0],UNIT[\"Degree\",0.0174532925199433]],PROJECTION[\"Transverse_Mercator\"],PARAMETER[\"False_Easting\",500000.0],PARAMETER[\"False_Northing\",0.0],PARAMETER[\"Central_Meridian\",-69.0],PARAMETER[\"Scale_Factor\",0.9996],PARAMETER[\"Latitude_Of_Origin\",0.0],UNIT[\"Meter\",1.0]],VERTCS[\"NAD_1983\",DATUM[\"D_North_American_1983\",SPHEROID[\"GRS_1980\",6378137.0,298.257222101]],PARAMETER[\"Vertical_Shift\",0.0],PARAMETER[\"Direction\",1.0],UNIT[\"Meter\",1.0]]',\n",
    "    env_rast = r\"C:\\Workspace\\Geodata\\Cran_Q_C\\Default.gdb\\domain_rast_mask\",\n",
    "    out_rast = r\"C:\\Workspace\\Geodata\\Cran_Q_C\\Default.gdb\\krig_NO3\",\n",
    "    out_gsl = r\"C:\\Workspace\\Geodata\\Cran_Q_C\\outputs.gdb\\krig_NO3\",\n",
    "    in_feat = r\"C:\\Workspace\\Geodata\\Cran_Q_C\\Default.gdb\\df_NO3_rivers_streams_XYTableToPoint\",\n",
    "    z_fld = \"NO3\",\n",
    "    semiv = \"WHITTLE\",\n",
    "    cell_size = 100):\n",
    "    with arcpy.EnvManager(extent=ext,snapRaster=env_rast, mask=env_rast):\n",
    "        print(\"Running `arcpy.ga.EmpiricalBayesianKriging` on {} with layer:\\n {}\".format(z_fld,in_feat))\n",
    "        arcpy.ga.EmpiricalBayesianKriging(\n",
    "            in_features=in_feat,\n",
    "            z_field=z_fld,\n",
    "            out_ga_layer=out_gsl,\n",
    "            out_raster=out_rast,\n",
    "            cell_size=cell_size,\n",
    "            transformation_type=\"LOGEMPIRICAL\",\n",
    "            #max_local_points=100,\n",
    "            #overlap_factor=1,\n",
    "            #number_semivariograms=100,\n",
    "            #search_neighborhood=\"NBRTYPE=StandardCircular RADIUS=84261.4359376343 ANGLE=0 NBR_MAX=15 NBR_MIN=10 SECTOR_TYPE=ONE_SECTOR\",\n",
    "            output_type=\"PREDICTION\",\n",
    "            quantile_value=0.5,\n",
    "            threshold_type=\"EXCEED\",\n",
    "            probability_threshold=None,\n",
    "            semivariogram_model_type=semiv)\n",
    "        print(\"EBK complete!\\n output raster:\\n{}\".format(out_rast))"
   ]
  },
  {
   "cell_type": "raw",
   "metadata": {},
   "source": [
    "# 2024-10-10 \n",
    "# running diffusion interpolation with flow barrier based on groundwater level.  \n",
    "with arcpy.EnvManager(coincidentPoints=\"INCLUDE_ALL\", extent='346780.0045 4597251.6993 422795.3865 4662355.4322 PROJCS[\"NAD_1983_UTM_Zone_19N\",GEOGCS[\"GCS_North_American_1983\",DATUM[\"D_North_American_1983\",SPHEROID[\"GRS_1980\",6378137.0,298.257222101]],PRIMEM[\"Greenwich\",0.0],UNIT[\"Degree\",0.0174532925199433]],PROJECTION[\"Transverse_Mercator\"],PARAMETER[\"False_Easting\",500000.0],PARAMETER[\"False_Northing\",0.0],PARAMETER[\"Central_Meridian\",-69.0],PARAMETER[\"Scale_Factor\",0.9996],PARAMETER[\"Latitude_Of_Origin\",0.0],UNIT[\"Meter\",1.0]],VERTCS[\"NAD_1983\",DATUM[\"D_North_American_1983\",SPHEROID[\"GRS_1980\",6378137.0,298.257222101]],PARAMETER[\"Vertical_Shift\",0.0],PARAMETER[\"Direction\",1.0],UNIT[\"Meter\",1.0]]', mask=r\"Geography\\domain_poly\"):\n",
    "    arcpy.ga.DiffusionInterpolationWithBarriers(\n",
    "        in_features=\"df_NO3_TN_imputed_model\",\n",
    "        z_field=\"lnTN\",\n",
    "        out_ga_layer=\"diff_lnTN_gsl\",\n",
    "        out_raster=r\"C:\\Workspace\\Geodata\\Cran_Q_C\\Default.gdb\\diff_lnTN\",\n",
    "        cell_size=1000,\n",
    "        in_barrier_features=None,\n",
    "        bandwidth=None,\n",
    "        number_iterations=10,\n",
    "        weight_field=None,\n",
    "        in_additive_barrier_raster=None,\n",
    "        in_cumulative_barrier_raster=None,\n",
    "        in_flow_barrier_raster=r\"C:\\Workspace\\Geodata\\Cran_Q_C\\Default.gdb\\gw_elev_meters\"\n",
    "    )"
   ]
  },
  {
   "cell_type": "raw",
   "metadata": {},
   "source": [
    "# run empirical bayesian krigging for different nitrate datasets\n",
    "cell_size = 100\n",
    "z_fld = \"NO3\"\n",
    "semiv = \"WHITTLE\"\n",
    "env_rast = r\"C:\\Workspace\\Geodata\\Cran_Q_C\\Default.gdb\\domain_rast_mask\"\n",
    "for dataset in datasets:\n",
    "    print(\"\\n\\nDataset:{}\".format(dataset))\n",
    "    in_feat = r\"C:\\Workspace\\Geodata\\Cran_Q_C\\Default.gdb\\df_NO3_{}\".format(dataset)\n",
    "    out_rast = r\"C:\\Workspace\\Geodata\\Cran_Q_C\\Default.gdb\\EBK_{}_{}_{}\".format(z_fld,dataset,semiv)\n",
    "    fn_EBK(in_feat=in_feat,out_rast=out_rast,z_fld=z_fld,semiv=semiv,cell_size=cell_size)"
   ]
  }
 ],
 "metadata": {
  "kernelspec": {
   "display_name": "ArcGISPro",
   "language": "python",
   "name": "python3"
  },
  "language_info": {
   "file_extension": ".py",
   "mimetype": "text/x-python",
   "name": "python",
   "version": "3.11.10"
  }
 },
 "nbformat": 4,
 "nbformat_minor": 4
}
