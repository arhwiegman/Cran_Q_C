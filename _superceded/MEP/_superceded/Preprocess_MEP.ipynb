{
 "cells": [
  {
   "cell_type": "markdown",
   "metadata": {},
   "source": [
    "# MEP Preprossessing\n",
    "\n",
    "In this notebook I collect watershed boundary layers used for the Massachusetts Estuaries Project. \n",
    "1. Regroup subwatershed layers that were split by travel time.\n",
    "2. Classify subwatersheds by elevation percentile (5%)\n",
    "3. Split subwatersheds by elevation percentile\n",
    "3. Classify land use within subwatersheds\n",
    "\n",
    "Publication\n",
    "Carlson, C.S., Masterson, J.P., Walter, D.A., and Barbaro, J.R., 2017, Development of simulated groundwater-contributing areas to selected streams, ponds, coastal water bodies, and production wells in the Plymouth-Carver region and Cape Cod, Massachusetts: U.S. Geological Survey Data Series 1074, 17 p. https://doi.org/10.3133/ds1074\n",
    "\n",
    "Dataset: \n",
    "Carlson, C.S., Masterson, J.P., Walter, D.A., and Barbaro, J.R., 2017, Simulated groundwater-contributing areas to selected streams, ponds, coastal water bodies, and production wells, Plymouth-Carver region and Cape Cod, Massachusetts: U.S. Geological Survey data release, https://doi.org/10.5066/F7V69H2Z.\n"
   ]
  },
  {
   "cell_type": "code",
   "execution_count": 4,
   "metadata": {},
   "outputs": [],
   "source": [
    "# Load dependancies ***************************************\n",
    "import arcpy as ap\n",
    "import os, glob, re, sys\n",
    "import pandas as pd\n",
    "import numpy as np\n",
    "#import scipy.stats\n",
    "\n",
    "# Set up arcpy environment ******************************\n",
    "# input data directory\n",
    "idr = \"C:\\\\Workspace\\\\Geodata\\\\Massachusetts\\\\\"\n",
    "# working directory this should be where arcgis project is located\n",
    "wdr = \"C:\\\\Workspace\\\\Geodata\\\\Nload\\\\\"\n",
    "# output directory\n",
    "odr = os.path.join(wdr,'outputs\\\\MEP')\n",
    "# arcpy settings\n",
    "ap.env.workspace = wdr # set arcpy environment working directory\n",
    "aprx = arcpy.mp.ArcGISProject(\"Current\") # current project\n",
    "ap.CheckOutExtension(\"Spatial\") # check out spatial extension\n",
    "ap.env.outputCoordinateSystem = arcpy.SpatialReference(\"NAD 1983 UTM Zone 19N\") # define cordinate system\n",
    "# Allow overwriting of output\n",
    "arcpy.env.overwriteOutput = True\n",
    "#ap.SetProgressor(\"step\", \"processing...\", step_value = 5)"
   ]
  },
  {
   "cell_type": "raw",
   "metadata": {},
   "source": [
    "C:\\Workspace\\Geodata\\Massachusetts\\USGS_\\SimulatedGround\\original_USGS_areas\\original_USGS_areas\\Ancillary\\Lower_Cape_model.shp"
   ]
  },
  {
   "cell_type": "code",
   "execution_count": 3,
   "metadata": {},
   "outputs": [
    {
     "data": {
      "text/plain": [
       "'MysticLakeE'"
      ]
     },
     "execution_count": 3,
     "metadata": {},
     "output_type": "execute_result"
    }
   ],
   "source": [
    "def fn_regex_search_0 (string,pattern,noneVal=\"NA\"):\n",
    "    '''\n",
    "    returns the first match of a regular expression pattern search on a string\n",
    "    '''\n",
    "    import re\n",
    "    x = re.search(pattern,string)\n",
    "    if x is None: \n",
    "        x= [noneVal]    \n",
    "    return(x[0])\n",
    "# test function\n",
    "fn_regex_search_0('Mystic Lake GT10 E','\\w+10')\n",
    "def fn_regex_search_replace(string,pattern,replacement):\n",
    "    '''\n",
    "    returns the a string with a pattern substituted by a replacement\n",
    "    '''\n",
    "    import re\n",
    "    x = re.sub(pattern,replacement,string)\n",
    "    return(x)\n",
    "\n",
    "fn_regex_search_replace('MysticLakeGT10E','\\wT10','')\n",
    "#fn_regex_search_replace('Mystic Lake  E','  ',' ')"
   ]
  },
  {
   "cell_type": "code",
   "execution_count": 22,
   "metadata": {},
   "outputs": [],
   "source": [
    "def fn_recursive_glob_search (startDir=None,\n",
    "                             fileExt=\"csv\"):\n",
    "    '''returns:\n",
    "           file paths matching extension \n",
    "           within all subdirectories starting directory\n",
    "       inputs:\n",
    "           startDir = root or parent directory to start search\n",
    "           fileExt = file extension, e.g. \".csv\" \".xlsx\" \".shp\"\n",
    "    '''\n",
    "    import glob, os\n",
    "    if startDir is None:\n",
    "        startDir = os.getcwd\n",
    "    fileList = []\n",
    "    glbsearch = os.path.join(startDir,'**/*'+fileExt)\n",
    "    for f in glob.glob(glbsearch, recursive=True):\n",
    "        #print(f)\n",
    "        fileList.append(f)\n",
    "    return(fileList)"
   ]
  },
  {
   "cell_type": "code",
   "execution_count": null,
   "metadata": {},
   "outputs": [],
   "source": [
    "USGS_startDir = r'C:\\Workspace\\Geodata\\Massachusetts\\USGS_\\SimulatedGround\\original_USGS_areas\\original_USGS_areas'\n",
    "All_USGS_paths = fn_recursive_glob_search(USGS_startDir,'.shp')"
   ]
  },
  {
   "cell_type": "code",
   "execution_count": 26,
   "metadata": {
    "scrolled": false
   },
   "outputs": [
    {
     "name": "stdout",
     "output_type": "stream",
     "text": [
      "['C:\\\\Workspace\\\\Geodata\\\\Massachusetts\\\\TaxParcels\\\\M003_parcels_gdb.zip', 'C:\\\\Workspace\\\\Geodata\\\\Massachusetts\\\\TaxParcels\\\\M020_parcels_gdb.zip', 'C:\\\\Workspace\\\\Geodata\\\\Massachusetts\\\\TaxParcels\\\\M036_parcels_gdb.zip', 'C:\\\\Workspace\\\\Geodata\\\\Massachusetts\\\\TaxParcels\\\\M041_parcels_gdb.zip', 'C:\\\\Workspace\\\\Geodata\\\\Massachusetts\\\\TaxParcels\\\\M042_parcels_gdb.zip', 'C:\\\\Workspace\\\\Geodata\\\\Massachusetts\\\\TaxParcels\\\\M052_parcels_gdb.zip', 'C:\\\\Workspace\\\\Geodata\\\\Massachusetts\\\\TaxParcels\\\\M055_parcels_gdb.zip', 'C:\\\\Workspace\\\\Geodata\\\\Massachusetts\\\\TaxParcels\\\\M062_parcels_gdb.zip', 'C:\\\\Workspace\\\\Geodata\\\\Massachusetts\\\\TaxParcels\\\\M072_parcels_gdb.zip', 'C:\\\\Workspace\\\\Geodata\\\\Massachusetts\\\\TaxParcels\\\\M075_parcels_gdb.zip', 'C:\\\\Workspace\\\\Geodata\\\\Massachusetts\\\\TaxParcels\\\\M082_parcels_gdb.zip', 'C:\\\\Workspace\\\\Geodata\\\\Massachusetts\\\\TaxParcels\\\\M086_parcels_gdb.zip', 'C:\\\\Workspace\\\\Geodata\\\\Massachusetts\\\\TaxParcels\\\\M089_parcels_gdb.zip', 'C:\\\\Workspace\\\\Geodata\\\\Massachusetts\\\\TaxParcels\\\\M094_parcels_gdb.zip', 'C:\\\\Workspace\\\\Geodata\\\\Massachusetts\\\\TaxParcels\\\\M096_parcels_gdb.zip', 'C:\\\\Workspace\\\\Geodata\\\\Massachusetts\\\\TaxParcels\\\\M104_parcels_gdb.zip', 'C:\\\\Workspace\\\\Geodata\\\\Massachusetts\\\\TaxParcels\\\\M109_parcels_gdb.zip', 'C:\\\\Workspace\\\\Geodata\\\\Massachusetts\\\\TaxParcels\\\\M118_parcels_gdb.zip', 'C:\\\\Workspace\\\\Geodata\\\\Massachusetts\\\\TaxParcels\\\\M126_parcels_gdb.zip', 'C:\\\\Workspace\\\\Geodata\\\\Massachusetts\\\\TaxParcels\\\\M145_parcels_gdb.zip', 'C:\\\\Workspace\\\\Geodata\\\\Massachusetts\\\\TaxParcels\\\\M146_parcels_gdb.zip', 'C:\\\\Workspace\\\\Geodata\\\\Massachusetts\\\\TaxParcels\\\\M172_parcels_gdb.zip', 'C:\\\\Workspace\\\\Geodata\\\\Massachusetts\\\\TaxParcels\\\\M173_parcels_gdb.zip', 'C:\\\\Workspace\\\\Geodata\\\\Massachusetts\\\\TaxParcels\\\\M182_parcels_gdb.zip', 'C:\\\\Workspace\\\\Geodata\\\\Massachusetts\\\\TaxParcels\\\\M197_parcels_gdb.zip', 'C:\\\\Workspace\\\\Geodata\\\\Massachusetts\\\\TaxParcels\\\\M201_parcels_gdb.zip', 'C:\\\\Workspace\\\\Geodata\\\\Massachusetts\\\\TaxParcels\\\\M221_parcels_gdb.zip', 'C:\\\\Workspace\\\\Geodata\\\\Massachusetts\\\\TaxParcels\\\\M224_parcels_gdb.zip', 'C:\\\\Workspace\\\\Geodata\\\\Massachusetts\\\\TaxParcels\\\\M231_parcels_gdb.zip', 'C:\\\\Workspace\\\\Geodata\\\\Massachusetts\\\\TaxParcels\\\\M239_parcels_gdb.zip', 'C:\\\\Workspace\\\\Geodata\\\\Massachusetts\\\\TaxParcels\\\\M240_parcels_gdb.zip', 'C:\\\\Workspace\\\\Geodata\\\\Massachusetts\\\\TaxParcels\\\\M242_parcels_gdb.zip', 'C:\\\\Workspace\\\\Geodata\\\\Massachusetts\\\\TaxParcels\\\\M250_parcels_gdb.zip', 'C:\\\\Workspace\\\\Geodata\\\\Massachusetts\\\\TaxParcels\\\\M261_parcels_gdb.zip', 'C:\\\\Workspace\\\\Geodata\\\\Massachusetts\\\\TaxParcels\\\\M296_parcels_gdb.zip', 'C:\\\\Workspace\\\\Geodata\\\\Massachusetts\\\\TaxParcels\\\\M300_parcels_gdb.zip', 'C:\\\\Workspace\\\\Geodata\\\\Massachusetts\\\\TaxParcels\\\\M310_parcels_gdb.zip', 'C:\\\\Workspace\\\\Geodata\\\\Massachusetts\\\\TaxParcels\\\\M318_parcels_gdb.zip', 'C:\\\\Workspace\\\\Geodata\\\\Massachusetts\\\\TaxParcels\\\\M327_parcels_gdb.zip', 'C:\\\\Workspace\\\\Geodata\\\\Massachusetts\\\\TaxParcels\\\\M334_parcels_gdb.zip', 'C:\\\\Workspace\\\\Geodata\\\\Massachusetts\\\\TaxParcels\\\\M351_parcels_gdb.zip']\n"
     ]
    }
   ],
   "source": [
    "# select tax parcel data and uncompress\n",
    "TaxDir = r'C:\\Workspace\\Geodata\\Massachusetts\\TaxParcels'\n",
    "TaxDirNames = fn_recursive_glob_search(TaxDir,'.zip')\n",
    "print(TaxDirNames)\n",
    "for file in TaxDirNames[0:1]:\n",
    "    arcpy.UncompressFileGeodatabaseData_management(\"london.gdb\")"
   ]
  },
  {
   "cell_type": "code",
   "execution_count": 5,
   "metadata": {},
   "outputs": [
    {
     "data": {
      "text/html": [
       "<div class='gpresult'><h2>Messages</h2><div id='messages' data-messages='[\"Start Time: Wednesday, March 29, 2023 3:05:52 PM\",\"Succeeded at Wednesday, March 29, 2023 3:05:52 PM (Elapsed Time: 0.34 seconds)\"]' data-show='true'><div id = 'default' /></div></div>"
      ],
      "text/plain": [
       "<Result 'C:\\\\Workspace\\\\Geodata\\\\Nload\\\\outputs\\\\MEP\\\\MEP_Subwatersheds.shp'>"
      ]
     },
     "execution_count": 5,
     "metadata": {},
     "output_type": "execute_result"
    }
   ],
   "source": [
    "# make a working copy \n",
    "copyfile = r\"C:\\Workspace\\Geodata\\Nload\\outputs\\MEP\\MEP_Subwatersheds.shp\"\n",
    "original = r\"C:\\Workspace\\Geodata\\Massachusetts\\MEP\\CC_MV_Subwatersheds\\Subwatersheds.shp\"\n",
    "arcpy.management.Copy(original, copyfile, \"ShapeFile\", None)"
   ]
  },
  {
   "cell_type": "code",
   "execution_count": 6,
   "metadata": {
    "scrolled": true
   },
   "outputs": [
    {
     "data": {
      "text/html": [
       "<div class='gpresult'><h2>Messages</h2><div id='messages' data-messages='[\"Start Time: Wednesday, March 29, 2023 3:05:58 PM\",\"Sorting Attributes...\",\"Dissolving...\",\"Succeeded at Wednesday, March 29, 2023 3:05:59 PM (Elapsed Time: 0.29 seconds)\"]' data-show='true'><div id = 'default' /></div></div>"
      ],
      "text/plain": [
       "<Result 'C:\\\\Workspace\\\\Geodata\\\\Nload\\\\outputs\\\\MEP\\\\MEP_Subwatersheds_Dissolve.shp'>"
      ]
     },
     "execution_count": 6,
     "metadata": {},
     "output_type": "execute_result"
    }
   ],
   "source": [
    "# dissolve the MEP subwatersheds data\n",
    "outfile = os.path.join(odr,\"MEP_Subwatersheds_Dissolve\")\n",
    "arcpy.management.Dissolve(copyfile, outfile, \"FID\", None, \"MULTI_PART\", \"DISSOLVE_LINES\")"
   ]
  },
  {
   "cell_type": "markdown",
   "metadata": {},
   "source": [
    "make a new feature class for subwatershed travel time. "
   ]
  },
  {
   "cell_type": "code",
   "execution_count": null,
   "metadata": {},
   "outputs": [],
   "source": [
    "# make a new feature class for subwatershed travel time. \n",
    "fn_string = \"\"\"def fn_regex_search_0 (string,pattern,noneVal=\"NA\"):\n",
    "    '''\n",
    "    returns the first match of a regular expression pattern search on a string\n",
    "    '''\n",
    "    import re\n",
    "    x = re.search(pattern,string)\n",
    "    if x is None: \n",
    "        x= [noneVal]    \n",
    "    return(x[0])\n",
    "    \"\"\"\n",
    "arcpy.management.CalculateField(copyfile,\n",
    "                                \"Travel_Tim\",\n",
    "                                \"fn_regex_search_0(!SUBWATER_D!,'\\wT10','NA')\",\n",
    "                                \"PYTHON3\",\n",
    "                                fn_string, \"TEXT\", \"NO_ENFORCE_DOMAINS\")"
   ]
  },
  {
   "cell_type": "markdown",
   "metadata": {},
   "source": [
    "make a new subwatershed name field that excludes travel time"
   ]
  },
  {
   "cell_type": "code",
   "execution_count": 6,
   "metadata": {
    "collapsed": true
   },
   "outputs": [
    {
     "data": {
      "text/html": [
       "<div class='gpresult'><h2>Messages</h2><div id='messages' data-messages='[\"Start Time: Wednesday, March 29, 2023 11:30:05 AM\",\"Adding SUBW_NAME to MEP_Subwatersheds...\",\"Succeeded at Wednesday, March 29, 2023 11:30:05 AM (Elapsed Time: 0.06 seconds)\"]' data-show='true'><div id = 'default' /></div></div>"
      ],
      "text/plain": [
       "<Result 'C:\\\\Workspace\\\\Geodata\\\\Nload\\\\outputs\\\\MEP\\\\MEP_Subwatersheds.shp'>"
      ]
     },
     "execution_count": 6,
     "metadata": {},
     "output_type": "execute_result"
    }
   ],
   "source": [
    "# make a new subwatershed name field that excludes travel time\n",
    "fn_string = \"\"\"def fn_regex_search_replace(string,pattern,replacement):\n",
    "    '''\n",
    "    returns the a string with a pattern substituted by a replacement\n",
    "    '''\n",
    "    import re\n",
    "    x = re.sub(pattern,replacement,string)\n",
    "    return(x)\"\"\"\n",
    "newField = \"SUBW_NAME\"\n",
    "arcpy.management.CalculateField(copyfile,\n",
    "                                newField,\n",
    "                                \"\"\"fn_regex_search_replace(!SUBWATER_N!,\"\\wT10.*\",\"\")\"\"\", \n",
    "                                \"PYTHON3\",\n",
    "                                fn_string,\n",
    "                                \"TEXT\",\n",
    "                                \"NO_ENFORCE_DOMAINS\")"
   ]
  },
  {
   "cell_type": "markdown",
   "metadata": {},
   "source": [
    "zonal stats to calc 5th percentile of elevation in each subcatchment"
   ]
  },
  {
   "cell_type": "code",
   "execution_count": null,
   "metadata": {},
   "outputs": [],
   "source": [
    "# clip land use for aquifer extent\n",
    "arcpy.analysis.Clip(r\"C:\\Workspace\\Geodata\\Massachusetts\\lclu_gdb\\MA_LCLU2016.gdb\\LANDCOVER_LANDUSE_POLY\", \"MEP_Subwatersheds\", r\"C:\\Workspace\\Geodata\\Nload\\outputs\\MEP\\LCLU2016_MEP_Clip\", None)"
   ]
  },
  {
   "cell_type": "raw",
   "metadata": {},
   "source": [
    "# zonal stats to calc 5th percentile of elevation in each subcatchment\n",
    "subs = copyfile\n",
    "ZoneField = \"FID\"\n",
    "stat = \"PERCENTILE\"\n",
    "pct = 5  # 5% percentile\n",
    "raster = r\"C:\\Workspace\\Geodata\\Massachusetts\\LiDAR_DEM\\LiDAR_DEM.gdb\"\n",
    "out_raster = arcpy.ia.ZonalStatistics(subs, \n",
    "                                      ZoneField, \n",
    "                                      raster, \n",
    "                                      \"PERCENTILE\", \n",
    "                                      \"DATA\", \n",
    "                                      \"CURRENT_SLICE\", \n",
    "                                      pct, \n",
    "                                      \"AUTO_DETECT\"); \n",
    "out_raster.save(r\"C:\\Workspace\\Geodata\\Nload\\outputs\\MEP\\Subs_ZsEl5\")"
   ]
  },
  {
   "cell_type": "code",
   "execution_count": 1,
   "metadata": {},
   "outputs": [],
   "source": [
    "raster =\"LiDAR_DEM_INT_16bit\"\n",
    "mask = \"MEP_Subwatersheds\"\n",
    "outname = \"lidar_extr\"\n",
    "with arcpy.EnvManager(scratchWorkspace=r\"C:\\Workspace\\Geodata\\Nload\\Default.gdb\", workspace=r\"C:\\Workspace\\Geodata\\Nload\\Default.gdb\"):\n",
    "    lidar_extr = arcpy.sa.ExtractByMask(, ); lidar_extr.save(os.path.join(odr,outname))"
   ]
  },
  {
   "cell_type": "code",
   "execution_count": null,
   "metadata": {},
   "outputs": [],
   "source": [
    "raster = \"lidar_extr\"\n",
    "poly = \"MEP_Subwatersheds\"\n",
    "zonefield = \"SUBW_NAME\"\n",
    "outname = \"lid_sub_zs\"\n",
    "with arcpy.EnvManager(scratchWorkspace=r\"C:\\Workspace\\Geodata\\Nload\\Default.gdb\", \n",
    "                      workspace=r\"C:\\Workspace\\Geodata\\Nload\\Default.gdb\"):\n",
    "    Lid_Sub_ZS = arcpy.ia.ZonalStatistics(poly, zonefield, raster, \"PERCENTILE\", \"DATA\", \"CURRENT_SLICE\", 5, \"AUTO_DETECT\"); \n",
    "    Lid_Sub_ZS.save(os.path.join(odr,outname))"
   ]
  },
  {
   "cell_type": "code",
   "execution_count": 14,
   "metadata": {
    "scrolled": true
   },
   "outputs": [
    {
     "ename": "RuntimeError",
     "evalue": "Failed to apply Raster Function: 'RasterCalculator' (The parameter is incorrect. \nParameter 'Rasters' is missing or invalid. Bind failed in function 'Raster Calculator Function' [Raster Calculator Function].)",
     "output_type": "error",
     "traceback": [
      "\u001b[0;31m---------------------------------------------------------------------------\u001b[0m\n\u001b[0;31mRuntimeError\u001b[0m                              Traceback (most recent call last)",
      "In  \u001b[0;34m[14]\u001b[0m:\nLine \u001b[0;34m7\u001b[0m:     \u001b[33m\"\u001b[39;49;00m\u001b[33ma<=b\u001b[39;49;00m\u001b[33m\"\u001b[39;49;00m); \n",
      "File \u001b[0;34mC:\\Users\\Adrian.Wiegman\\AppData\\Local\\Programs\\ArcGIS\\Pro\\Resources\\ArcPy\\arcpy\\ia\\raster_functions.py\u001b[0m, in \u001b[0;32mRasterCalculator\u001b[0m:\nLine \u001b[0;34m1522\u001b[0m:  \u001b[34mreturn\u001b[39;49;00m Apply(rasters, template_dict[\u001b[33m'\u001b[39;49;00m\u001b[33mrasterFunction\u001b[39;49;00m\u001b[33m'\u001b[39;49;00m], template_dict[\u001b[33m'\u001b[39;49;00m\u001b[33mrasterFunctionArguments\u001b[39;49;00m\u001b[33m'\u001b[39;49;00m])\n",
      "File \u001b[0;34mC:\\Users\\Adrian.Wiegman\\AppData\\Local\\Programs\\ArcGIS\\Pro\\Resources\\ArcPy\\arcpy\\ia\\_ia.py\u001b[0m, in \u001b[0;32mApply\u001b[0m:\nLine \u001b[0;34m137\u001b[0m:   raster_function_arguments=raster_function_arguments)\n",
      "\u001b[0;31mRuntimeError\u001b[0m: Failed to apply Raster Function: 'RasterCalculator' (The parameter is incorrect. \nParameter 'Rasters' is missing or invalid. Bind failed in function 'Raster Calculator Function' [Raster Calculator Function].)\n\u001b[0;31m---------------------------------------------------------------------------\u001b[0m"
     ]
    }
   ],
   "source": [
    "# raster calculator to \n",
    "a = \"lidar_extr\"\n",
    "b = \"Lid_Sub_ZS\"\n",
    "outname = \"lidar_le5pct\"\n",
    "lidar_le5pct = arcpy.ia.RasterCalculator([a,b],\n",
    "                                          [\"a\", \"b\"],\n",
    "                                          \"a<=b\"); \n",
    "lidar_le5pct.save(os.path.join(odr,outname))"
   ]
  },
  {
   "cell_type": "code",
   "execution_count": 18,
   "metadata": {},
   "outputs": [
    {
     "name": "stdout",
     "output_type": "stream",
     "text": [
      "C:\\Workspace\\Geodata\\Nload\\outputs\\MEP\\lidar_extr C:\\Workspace\\Geodata\\Nload\\outputs\\MEP\\lid_sub_zs\n"
     ]
    }
   ],
   "source": [
    "a = os.path.join(odr,\"lidar_extr\")\n",
    "b = os.path.join(odr,\"lid_sub_zs\")\n",
    "print(a,b)"
   ]
  },
  {
   "cell_type": "code",
   "execution_count": 21,
   "metadata": {},
   "outputs": [],
   "source": [
    "with arcpy.EnvManager(scratchWorkspace=r\"C:\\Workspace\\Geodata\\Nload\\Default.gdb\", \n",
    "                      workspace=r\"C:\\Workspace\\Geodata\\Nload\\Default.gdb\"):\n",
    "    lidar_le5pct = arcpy.ia.LessThanEqual(a,b); \n",
    "    lidar_le5pct.save(os.path.join(odr,\"lidar_le5pct\"))"
   ]
  },
  {
   "cell_type": "code",
   "execution_count": 15,
   "metadata": {},
   "outputs": [
    {
     "data": {
      "text/html": [
       "<div class='gpresult'><h2>Messages</h2><div id='messages' data-messages='[\"Start Time: Wednesday, March 29, 2023 4:04:23 PM\",\"Succeeded at Wednesday, March 29, 2023 4:05:15 PM (Elapsed Time: 51.68 seconds)\"]' data-show='true'><div id = 'default' /></div></div>"
      ],
      "text/plain": [
       "<Result 'C:\\\\Workspace\\\\Geodata\\\\Nload\\\\le5pct_poly.shp'>"
      ]
     },
     "execution_count": 15,
     "metadata": {},
     "output_type": "execute_result"
    }
   ],
   "source": [
    "# convert raster of lidar_le5pct to polygon\n",
    "outfile = os.path.join(odr,\"le5pct_poly.shp\")\n",
    "poly = arcpy.conversion.RasterToPolygon(\"lidar_le5pct\", outfile, \"SIMPLIFY\", \"VALUE\", \"SINGLE_OUTER_PART\", None)"
   ]
  },
  {
   "cell_type": "code",
   "execution_count": 17,
   "metadata": {},
   "outputs": [
    {
     "data": {
      "text/html": [
       "<div class='gpresult'><h2>Messages</h2><div id='messages' data-messages='[\"Start Time: Wednesday, March 29, 2023 4:09:52 PM\",\"Adding ele5pct to le5pct_poly...\",\"Succeeded at Wednesday, March 29, 2023 4:09:56 PM (Elapsed Time: 3.76 seconds)\"]' data-show='true'><div id = 'default' /></div></div>"
      ],
      "text/plain": [
       "<Result 'C:\\\\Workspace\\\\Geodata\\\\Nload\\\\outputs\\\\MEP\\\\le5pct_poly'>"
      ]
     },
     "execution_count": 17,
     "metadata": {},
     "output_type": "execute_result"
    }
   ],
   "source": [
    "# rename the field gridcode \n",
    "arcpy.management.CalculateField(outfile, \"ele5pct\", \"fn(!gridcode!)\", \"PYTHON3\", \"\"\"def fn(x):\n",
    "    y = \"GT5%\"\n",
    "    if x == 1: y = \"LE5%\"\n",
    "    return(y)\"\"\", \"TEXT\", \"NO_ENFORCE_DOMAINS\")\n",
    "#arcpy.management.AlterField(outfile, 'gridcode', 'ElevLE5pct', 'Elev <= 5% percentile')"
   ]
  },
  {
   "cell_type": "code",
   "execution_count": 18,
   "metadata": {
    "scrolled": false
   },
   "outputs": [
    {
     "data": {
      "text/html": [
       "<div class='gpresult'><h2>Messages</h2><div id='messages' data-messages='[\"Start Time: Wednesday, March 29, 2023 4:14:55 PM\",\"Sorting Attributes...\",\"Dissolving...\",\"Succeeded at Wednesday, March 29, 2023 4:15:08 PM (Elapsed Time: 13.01 seconds)\"]' data-show='true'><div id = 'default' /></div></div>"
      ],
      "text/plain": [
       "<Result 'C:\\\\Workspace\\\\Geodata\\\\Nload\\\\outputs\\\\MEP\\\\le5pct_poly_diss.shp'>"
      ]
     },
     "execution_count": 18,
     "metadata": {},
     "output_type": "execute_result"
    }
   ],
   "source": [
    "# dissolve new polygon layer by elevation class \n",
    "arcpy.management.Dissolve(os.path.join(odr,\"le5pct_poly\"),\n",
    "                          os.path.join(odr,\"le5pct_poly_diss\"), \n",
    "                          \"ele5pct\", None, \"MULTI_PART\", \"DISSOLVE_LINES\")"
   ]
  },
  {
   "cell_type": "code",
   "execution_count": 6,
   "metadata": {},
   "outputs": [
    {
     "ename": "ExecuteError",
     "evalue": "Failed to execute. Parameters are not valid.\nERROR 000728: Field SUBW_NAME does not exist within table\nFailed to execute (Dissolve).\n",
     "output_type": "error",
     "traceback": [
      "\u001b[0;31m---------------------------------------------------------------------------\u001b[0m\n\u001b[0;31mExecuteError\u001b[0m                              Traceback (most recent call last)",
      "In  \u001b[0;34m[6]\u001b[0m:\nLine \u001b[0;34m4\u001b[0m:     \u001b[33m\"\u001b[39;49;00m\u001b[33mSUBW_NAME\u001b[39;49;00m\u001b[33m\"\u001b[39;49;00m, \u001b[34mNone\u001b[39;49;00m, \u001b[33m\"\u001b[39;49;00m\u001b[33mMULTI_PART\u001b[39;49;00m\u001b[33m\"\u001b[39;49;00m, \u001b[33m\"\u001b[39;49;00m\u001b[33mDISSOLVE_LINES\u001b[39;49;00m\u001b[33m\"\u001b[39;49;00m)\n",
      "File \u001b[0;34mC:\\Users\\Adrian.Wiegman\\AppData\\Local\\Programs\\ArcGIS\\Pro\\Resources\\ArcPy\\arcpy\\management.py\u001b[0m, in \u001b[0;32mDissolve\u001b[0m:\nLine \u001b[0;34m7254\u001b[0m:  \u001b[34mraise\u001b[39;49;00m e\n",
      "File \u001b[0;34mC:\\Users\\Adrian.Wiegman\\AppData\\Local\\Programs\\ArcGIS\\Pro\\Resources\\ArcPy\\arcpy\\management.py\u001b[0m, in \u001b[0;32mDissolve\u001b[0m:\nLine \u001b[0;34m7251\u001b[0m:  retval = convertArcObjectToPythonObject(gp.Dissolve_management(*gp_fixargs((in_features, out_feature_class, dissolve_field, statistics_fields, multi_part, unsplit_lines), \u001b[34mTrue\u001b[39;49;00m)))\n",
      "File \u001b[0;34mC:\\Users\\Adrian.Wiegman\\AppData\\Local\\Programs\\ArcGIS\\Pro\\Resources\\ArcPy\\arcpy\\geoprocessing\\_base.py\u001b[0m, in \u001b[0;32m<lambda>\u001b[0m:\nLine \u001b[0;34m512\u001b[0m:   \u001b[34mreturn\u001b[39;49;00m \u001b[34mlambda\u001b[39;49;00m *args: val(*gp_fixargs(args, \u001b[34mTrue\u001b[39;49;00m))\n",
      "\u001b[0;31mExecuteError\u001b[0m: Failed to execute. Parameters are not valid.\nERROR 000728: Field SUBW_NAME does not exist within table\nFailed to execute (Dissolve).\n\n\u001b[0;31m---------------------------------------------------------------------------\u001b[0m"
     ]
    }
   ],
   "source": [
    "# dissolve subwatersheds by subwatershed name.\n",
    "arcpy.management.Dissolve(os.path.join(odr,\"MEP_subwatersheds\"),\n",
    "                          os.path.join(odr,\"MEP_SUBW_NAME\"), \n",
    "                          \"SUBW_NAME\", None, \"MULTI_PART\", \"DISSOLVE_LINES\")"
   ]
  },
  {
   "cell_type": "code",
   "execution_count": 19,
   "metadata": {},
   "outputs": [
    {
     "data": {
      "text/html": [
       "<div class='gpresult'><h2>Messages</h2><div id='messages' data-messages='[\"Start Time: Wednesday, March 29, 2023 4:23:38 PM\",\"Reading Features...\",\"Cracking Features...\",\"Assembling Features...\",\"Succeeded at Wednesday, March 29, 2023 4:23:47 PM (Elapsed Time: 8.72 seconds)\"]' data-show='true'><div id = 'default' /></div></div>"
      ],
      "text/plain": [
       "<Result 'C:\\\\Workspace\\\\Geodata\\\\Nload\\\\outputs\\\\MEP\\\\MEP_le5pct.shp'>"
      ]
     },
     "execution_count": 19,
     "metadata": {},
     "output_type": "execute_result"
    }
   ],
   "source": [
    "# compute the identity (intersection) of elevation poly and watershed poly\n",
    "infeat = os.path.join(odr,\"le5pct_poly_diss\")\n",
    "identfeat = os.path.join(odr,\"MEP_Subwatersheds\")\n",
    "outname = os.path.join(odr,\"MEP_le5pct\")\n",
    "arcpy.analysis.Identity(infeat, identfeat, \n",
    "                        outname, \"ALL\", None, \"NO_RELATIONSHIPS\")"
   ]
  },
  {
   "cell_type": "code",
   "execution_count": 5,
   "metadata": {},
   "outputs": [
    {
     "ename": "ExecuteError",
     "evalue": "Failed to execute. Parameters are not valid.\nERROR 000732: Identity Features: Dataset C:\\Workspace\\Geodata\\Nload\\outputs\\MEP\\MEP_SUBW_NAME does not exist or is not supported\nFailed to execute (Identity).\n",
     "output_type": "error",
     "traceback": [
      "\u001b[0;31m---------------------------------------------------------------------------\u001b[0m\n\u001b[0;31mExecuteError\u001b[0m                              Traceback (most recent call last)",
      "In  \u001b[0;34m[5]\u001b[0m:\nLine \u001b[0;34m6\u001b[0m:     outname, \u001b[33m\"\u001b[39;49;00m\u001b[33mALL\u001b[39;49;00m\u001b[33m\"\u001b[39;49;00m, \u001b[34mNone\u001b[39;49;00m, \u001b[33m\"\u001b[39;49;00m\u001b[33mNO_RELATIONSHIPS\u001b[39;49;00m\u001b[33m\"\u001b[39;49;00m)\n",
      "File \u001b[0;34mC:\\Users\\Adrian.Wiegman\\AppData\\Local\\Programs\\ArcGIS\\Pro\\Resources\\ArcPy\\arcpy\\analysis.py\u001b[0m, in \u001b[0;32mIdentity\u001b[0m:\nLine \u001b[0;34m459\u001b[0m:   \u001b[34mraise\u001b[39;49;00m e\n",
      "File \u001b[0;34mC:\\Users\\Adrian.Wiegman\\AppData\\Local\\Programs\\ArcGIS\\Pro\\Resources\\ArcPy\\arcpy\\analysis.py\u001b[0m, in \u001b[0;32mIdentity\u001b[0m:\nLine \u001b[0;34m456\u001b[0m:   retval = convertArcObjectToPythonObject(gp.Identity_analysis(*gp_fixargs((in_features, identity_features, out_feature_class, join_attributes, cluster_tolerance, relationship), \u001b[34mTrue\u001b[39;49;00m)))\n",
      "File \u001b[0;34mC:\\Users\\Adrian.Wiegman\\AppData\\Local\\Programs\\ArcGIS\\Pro\\Resources\\ArcPy\\arcpy\\geoprocessing\\_base.py\u001b[0m, in \u001b[0;32m<lambda>\u001b[0m:\nLine \u001b[0;34m512\u001b[0m:   \u001b[34mreturn\u001b[39;49;00m \u001b[34mlambda\u001b[39;49;00m *args: val(*gp_fixargs(args, \u001b[34mTrue\u001b[39;49;00m))\n",
      "\u001b[0;31mExecuteError\u001b[0m: Failed to execute. Parameters are not valid.\nERROR 000732: Identity Features: Dataset C:\\Workspace\\Geodata\\Nload\\outputs\\MEP\\MEP_SUBW_NAME does not exist or is not supported\nFailed to execute (Identity).\n\n\u001b[0;31m---------------------------------------------------------------------------\u001b[0m"
     ]
    }
   ],
   "source": [
    "# compute the identity (intersection) of elevation poly and watershed poly\n",
    "infeat = os.path.join(odr,\"le5pct_poly_diss\")\n",
    "identfeat = os.path.join(odr,\"MEP_SUBW_NAME\")\n",
    "outname = os.path.join(odr,\"MEP_el5p_SUBW\")\n",
    "arcpy.analysis.Identity(infeat, identfeat, \n",
    "                        outname, \"ALL\", None, \"NO_RELATIONSHIPS\")"
   ]
  },
  {
   "cell_type": "markdown",
   "metadata": {},
   "source": [
    "make a new feature class subwatershed ids exluding travel time\n",
    "\n",
    "make new sub watershed layer that combines subwatersheds that were split by travel time"
   ]
  },
  {
   "cell_type": "code",
   "execution_count": null,
   "metadata": {},
   "outputs": [],
   "source": [
    "# Make a point feature layer from monitoring coordinates\n",
    "# Set the local variables\n",
    "in_table = r\"C:\\Users\\Adrian.Wiegman\\OneDrive - USDA\\Research\\Nload\\MEP\\MEP_Summary4_AW.xlsx\\Coords$\"\n",
    "#in_table = r\"C:\\Users\\Adrian.Wiegman\\OneDrive - USDA\\Research\\Nload\\MEP\\MEP_Monitoring_Site_Coords.csv\"\n",
    "out_feature_class = \"MEP_Monitoring_Site_Coords\"\n",
    "x_coords = \"Lon\"\n",
    "y_coords = \"Lat\"\n",
    "\n",
    "# Make the XY event layer...\n",
    "arcpy.management.XYTableToPoint(in_table=in_table, \n",
    "                                out_feature_class=out_feature_class,\n",
    "                                x_field=x_coords, \n",
    "                                y_field=y_coords)\n",
    "\n",
    "# Print the total rows\n",
    "print(arcpy.management.GetCount(out_feature_class))\n",
    "#arcpy.management.AddJoin(out_feature_class, \"OBJECTID\", r\"C:\\Users\\Adrian.Wiegman\\OneDrive - USDA\\Research\\Nload\\MEP\\MEP_Monitoring_Site_Coords.csv\", \"OID\", \"KEEP_ALL\", \"NO_INDEX_JOIN_FIELDS\")"
   ]
  },
  {
   "cell_type": "code",
   "execution_count": null,
   "metadata": {},
   "outputs": [],
   "source": [
    "# Appendix"
   ]
  },
  {
   "cell_type": "code",
   "execution_count": null,
   "metadata": {},
   "outputs": [],
   "source": [
    "## Unused code snippets"
   ]
  },
  {
   "cell_type": "raw",
   "metadata": {},
   "source": [
    "# clip the MassGIS 2016 landcover 0.5m layer with the mep watershed layer. \n",
    "# arcgis does not like this for whatever reason. \n",
    "cliplayer = os.path.join(odr,\"MEP_Subwatersheds_Dissolve\")\n",
    "outfile='lclu16_mep_clip'\n",
    "inlayer= 'Land Cover Land Use (2016)'\n",
    "lclu16_clip = arcpy.analysis.Clip(inlayer,cliplayer,outfile, None)"
   ]
  }
 ],
 "metadata": {
  "kernelspec": {
   "display_name": "ArcGISPro",
   "language": "Python",
   "name": "python3"
  },
  "language_info": {
   "file_extension": ".py",
   "name": "python",
   "version": "3"
  }
 },
 "nbformat": 4,
 "nbformat_minor": 2
}
