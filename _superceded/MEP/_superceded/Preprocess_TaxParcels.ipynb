{
 "cells": [
  {
   "cell_type": "code",
   "execution_count": 1,
   "metadata": {
    "scrolled": true
   },
   "outputs": [
    {
     "name": "stdout",
     "output_type": "stream",
     "text": [
      "['C:\\\\Workspace\\\\Geodata\\\\Massachusetts\\\\TaxParcels\\\\M003_parcels_gdb.zip', 'C:\\\\Workspace\\\\Geodata\\\\Massachusetts\\\\TaxParcels\\\\M020_parcels_gdb.zip', 'C:\\\\Workspace\\\\Geodata\\\\Massachusetts\\\\TaxParcels\\\\M036_parcels_gdb.zip', 'C:\\\\Workspace\\\\Geodata\\\\Massachusetts\\\\TaxParcels\\\\M041_parcels_gdb.zip', 'C:\\\\Workspace\\\\Geodata\\\\Massachusetts\\\\TaxParcels\\\\M042_parcels_gdb.zip', 'C:\\\\Workspace\\\\Geodata\\\\Massachusetts\\\\TaxParcels\\\\M052_parcels_gdb.zip', 'C:\\\\Workspace\\\\Geodata\\\\Massachusetts\\\\TaxParcels\\\\M055_parcels_gdb.zip', 'C:\\\\Workspace\\\\Geodata\\\\Massachusetts\\\\TaxParcels\\\\M062_parcels_gdb.zip', 'C:\\\\Workspace\\\\Geodata\\\\Massachusetts\\\\TaxParcels\\\\M072_parcels_gdb.zip', 'C:\\\\Workspace\\\\Geodata\\\\Massachusetts\\\\TaxParcels\\\\M075_parcels_gdb.zip', 'C:\\\\Workspace\\\\Geodata\\\\Massachusetts\\\\TaxParcels\\\\M082_parcels_gdb.zip', 'C:\\\\Workspace\\\\Geodata\\\\Massachusetts\\\\TaxParcels\\\\M086_parcels_gdb.zip', 'C:\\\\Workspace\\\\Geodata\\\\Massachusetts\\\\TaxParcels\\\\M089_parcels_gdb.zip', 'C:\\\\Workspace\\\\Geodata\\\\Massachusetts\\\\TaxParcels\\\\M094_parcels_gdb.zip', 'C:\\\\Workspace\\\\Geodata\\\\Massachusetts\\\\TaxParcels\\\\M096_parcels_gdb.zip', 'C:\\\\Workspace\\\\Geodata\\\\Massachusetts\\\\TaxParcels\\\\M104_parcels_gdb.zip', 'C:\\\\Workspace\\\\Geodata\\\\Massachusetts\\\\TaxParcels\\\\M109_parcels_gdb.zip', 'C:\\\\Workspace\\\\Geodata\\\\Massachusetts\\\\TaxParcels\\\\M118_parcels_gdb.zip', 'C:\\\\Workspace\\\\Geodata\\\\Massachusetts\\\\TaxParcels\\\\M126_parcels_gdb.zip', 'C:\\\\Workspace\\\\Geodata\\\\Massachusetts\\\\TaxParcels\\\\M145_parcels_gdb.zip', 'C:\\\\Workspace\\\\Geodata\\\\Massachusetts\\\\TaxParcels\\\\M146_parcels_gdb.zip', 'C:\\\\Workspace\\\\Geodata\\\\Massachusetts\\\\TaxParcels\\\\M172_parcels_gdb.zip', 'C:\\\\Workspace\\\\Geodata\\\\Massachusetts\\\\TaxParcels\\\\M173_parcels_gdb.zip', 'C:\\\\Workspace\\\\Geodata\\\\Massachusetts\\\\TaxParcels\\\\M182_parcels_gdb.zip', 'C:\\\\Workspace\\\\Geodata\\\\Massachusetts\\\\TaxParcels\\\\M197_parcels_gdb.zip', 'C:\\\\Workspace\\\\Geodata\\\\Massachusetts\\\\TaxParcels\\\\M201_parcels_gdb.zip', 'C:\\\\Workspace\\\\Geodata\\\\Massachusetts\\\\TaxParcels\\\\M221_parcels_gdb.zip', 'C:\\\\Workspace\\\\Geodata\\\\Massachusetts\\\\TaxParcels\\\\M224_parcels_gdb.zip', 'C:\\\\Workspace\\\\Geodata\\\\Massachusetts\\\\TaxParcels\\\\M231_parcels_gdb.zip', 'C:\\\\Workspace\\\\Geodata\\\\Massachusetts\\\\TaxParcels\\\\M239_parcels_gdb.zip', 'C:\\\\Workspace\\\\Geodata\\\\Massachusetts\\\\TaxParcels\\\\M240_parcels_gdb.zip', 'C:\\\\Workspace\\\\Geodata\\\\Massachusetts\\\\TaxParcels\\\\M242_parcels_gdb.zip', 'C:\\\\Workspace\\\\Geodata\\\\Massachusetts\\\\TaxParcels\\\\M250_parcels_gdb.zip', 'C:\\\\Workspace\\\\Geodata\\\\Massachusetts\\\\TaxParcels\\\\M261_parcels_gdb.zip', 'C:\\\\Workspace\\\\Geodata\\\\Massachusetts\\\\TaxParcels\\\\M296_parcels_gdb.zip', 'C:\\\\Workspace\\\\Geodata\\\\Massachusetts\\\\TaxParcels\\\\M300_parcels_gdb.zip', 'C:\\\\Workspace\\\\Geodata\\\\Massachusetts\\\\TaxParcels\\\\M310_parcels_gdb.zip', 'C:\\\\Workspace\\\\Geodata\\\\Massachusetts\\\\TaxParcels\\\\M318_parcels_gdb.zip', 'C:\\\\Workspace\\\\Geodata\\\\Massachusetts\\\\TaxParcels\\\\M327_parcels_gdb.zip', 'C:\\\\Workspace\\\\Geodata\\\\Massachusetts\\\\TaxParcels\\\\M334_parcels_gdb.zip', 'C:\\\\Workspace\\\\Geodata\\\\Massachusetts\\\\TaxParcels\\\\M351_parcels_gdb.zip']\n"
     ]
    }
   ],
   "source": [
    "# Load dependancies ***************************************\n",
    "import arcpy as ap\n",
    "import os, glob, re, sys\n",
    "import pandas as pd\n",
    "import numpy as np\n",
    "#import scipy.stats\n",
    "\n",
    "# Set up arcpy environment ******************************\n",
    "# input data directory\n",
    "idr = r'C:\\Workspace\\Geodata\\Massachusetts\\TaxParcels'\n",
    "# working directory this should be where arcgis project is located\n",
    "wdr = r'C:\\Workspace\\Geodata\\Massachusetts\\TaxParcels'\n",
    "# arcpy settings\n",
    "ap.env.workspace = wdr # set arcpy environment working directory\n",
    "aprx = arcpy.mp.ArcGISProject(\"Current\") # current project\n",
    "ap.CheckOutExtension(\"Spatial\") # check out spatial extension\n",
    "ap.env.outputCoordinateSystem = arcpy.SpatialReference(\"NAD 1983 UTM Zone 19N\") # define cordinate system\n",
    "# Allow overwriting of output\n",
    "arcpy.env.overwriteOutput = True\n",
    "#ap.SetProgressor(\"step\", \"processing...\", step_value = 5)\n",
    "def fn_recursive_glob_search (startDir=None,\n",
    "                             fileExt=\"csv\"):\n",
    "    '''returns:\n",
    "           file paths matching extension \n",
    "           within all subdirectories starting directory\n",
    "       inputs:\n",
    "           startDir = root or parent directory to start search\n",
    "           fileExt = file extension, e.g. \".csv\" \".xlsx\" \".shp\"\n",
    "    '''\n",
    "    import glob, os\n",
    "    if startDir is None:\n",
    "        startDir = os.getcwd\n",
    "    fileList = []\n",
    "    glbsearch = os.path.join(startDir,'**/*'+fileExt)\n",
    "    for f in glob.glob(glbsearch, recursive=True):\n",
    "        #print(f)\n",
    "        fileList.append(f)\n",
    "    return(fileList)\n",
    "# select tax parcel data and uncompress\n",
    "TaxDir = r'C:\\Workspace\\Geodata\\Massachusetts\\TaxParcels'\n",
    "TaxDirNames = fn_recursive_glob_search(TaxDir,'.zip')\n",
    "print(TaxDirNames)\n",
    "import zipfile\n",
    "for path_to_zip_file in TaxDirNames:\n",
    "    with zipfile.ZipFile(path_to_zip_file, 'r') as zip_ref:\n",
    "        zip_ref.extractall(TaxDir)"
   ]
  },
  {
   "cell_type": "code",
   "execution_count": 2,
   "metadata": {},
   "outputs": [
    {
     "name": "stdout",
     "output_type": "stream",
     "text": [
      "C:\\Workspace\\Geodata\\Massachusetts\\TaxParcels\\M003_parcels_CY22_FY22_sde.gdb\n",
      "['M003', 'M020', 'M036', 'M041', 'M042', 'M052', 'M055', 'M062', 'M072', 'M075', 'M082', 'M086', 'M089', 'M094', 'M096', 'M104', 'M109', 'M118', 'M126', 'M145', 'M146', 'M172', 'M173', 'M182', 'M197', 'M201', 'M221', 'M224', 'M231', 'M239', 'M240', 'M242', 'M250', 'M261', 'M296', 'M300', 'M310', 'M318', 'M327', 'M334', 'M351']\n",
      "['\\\\M003TaxPar', '\\\\M020TaxPar', '\\\\M036TaxPar', '\\\\M041TaxPar', '\\\\M042TaxPar', '\\\\M052TaxPar', '\\\\M055TaxPar', '\\\\M062TaxPar', '\\\\M072TaxPar', '\\\\M075TaxPar', '\\\\M082TaxPar', '\\\\M086TaxPar', '\\\\M089TaxPar', '\\\\M094TaxPar', '\\\\M096TaxPar', '\\\\M104TaxPar', '\\\\M109TaxPar', '\\\\M118TaxPar', '\\\\M126TaxPar', '\\\\M145TaxPar', '\\\\M146TaxPar', '\\\\M172TaxPar', '\\\\M173TaxPar', '\\\\M182TaxPar', '\\\\M197TaxPar', '\\\\M201TaxPar', '\\\\M221TaxPar', '\\\\M224TaxPar', '\\\\M231TaxPar', '\\\\M239TaxPar', '\\\\M240TaxPar', '\\\\M242TaxPar', '\\\\M250TaxPar', '\\\\M261TaxPar', '\\\\M296TaxPar', '\\\\M300TaxPar', '\\\\M310TaxPar', '\\\\M318TaxPar', '\\\\M327TaxPar', '\\\\M334TaxPar', '\\\\M351TaxPar']\n",
      "['C:\\\\Workspace\\\\Geodata\\\\Massachusetts\\\\TaxParcels\\\\M003_parcels_CY22_FY22_sde.gdb\\\\M003TaxPar', 'C:\\\\Workspace\\\\Geodata\\\\Massachusetts\\\\TaxParcels\\\\M020_parcels_CY22_FY22_sde.gdb\\\\M020TaxPar', 'C:\\\\Workspace\\\\Geodata\\\\Massachusetts\\\\TaxParcels\\\\M036_parcels_CY22_FY21_sde.gdb\\\\M036TaxPar', 'C:\\\\Workspace\\\\Geodata\\\\Massachusetts\\\\TaxParcels\\\\M041_parcels_CY22_FY23_sde.gdb\\\\M041TaxPar', 'C:\\\\Workspace\\\\Geodata\\\\Massachusetts\\\\TaxParcels\\\\M042_parcels_CY21_FY21_sde.gdb\\\\M042TaxPar', 'C:\\\\Workspace\\\\Geodata\\\\Massachusetts\\\\TaxParcels\\\\M052_parcels_CY22_FY23_sde.gdb\\\\M052TaxPar', 'C:\\\\Workspace\\\\Geodata\\\\Massachusetts\\\\TaxParcels\\\\M055_parcels_sde.gdb\\\\M055TaxPar', 'C:\\\\Workspace\\\\Geodata\\\\Massachusetts\\\\TaxParcels\\\\M062_parcels_CY21_FY21_sde.gdb\\\\M062TaxPar', 'C:\\\\Workspace\\\\Geodata\\\\Massachusetts\\\\TaxParcels\\\\M072_parcels_CY22_FY23_sde.gdb\\\\M072TaxPar', 'C:\\\\Workspace\\\\Geodata\\\\Massachusetts\\\\TaxParcels\\\\M075_parcels_CY21_FY22_sde.gdb\\\\M075TaxPar', 'C:\\\\Workspace\\\\Geodata\\\\Massachusetts\\\\TaxParcels\\\\M082_parcels_CY22_FY22_sde.gdb\\\\M082TaxPar', 'C:\\\\Workspace\\\\Geodata\\\\Massachusetts\\\\TaxParcels\\\\M086_parcels_CY22_FY22_sde.gdb\\\\M086TaxPar', 'C:\\\\Workspace\\\\Geodata\\\\Massachusetts\\\\TaxParcels\\\\M089_parcels_CY22_FY23_sde.gdb\\\\M089TaxPar', 'C:\\\\Workspace\\\\Geodata\\\\Massachusetts\\\\TaxParcels\\\\M094_parcels_CY22_FY23_sde.gdb\\\\M094TaxPar', 'C:\\\\Workspace\\\\Geodata\\\\Massachusetts\\\\TaxParcels\\\\M096_parcels_CY22_FY22_sde.gdb\\\\M096TaxPar', 'C:\\\\Workspace\\\\Geodata\\\\Massachusetts\\\\TaxParcels\\\\M104_parcels_CY22_FY22_sde.gdb\\\\M104TaxPar', 'C:\\\\Workspace\\\\Geodata\\\\Massachusetts\\\\TaxParcels\\\\M109_parcels_CY21_FY21_sde.gdb\\\\M109TaxPar', 'C:\\\\Workspace\\\\Geodata\\\\Massachusetts\\\\TaxParcels\\\\M118_parcels_CY22_FY22_sde.gdb\\\\M118TaxPar', 'C:\\\\Workspace\\\\Geodata\\\\Massachusetts\\\\TaxParcels\\\\M126_parcels_CY22_FY22_sde.gdb\\\\M126TaxPar', 'C:\\\\Workspace\\\\Geodata\\\\Massachusetts\\\\TaxParcels\\\\M145_parcels_CY22_FY23_sde.gdb\\\\M145TaxPar', 'C:\\\\Workspace\\\\Geodata\\\\Massachusetts\\\\TaxParcels\\\\M146_parcels_CY22_FY22_sde.gdb\\\\M146TaxPar', 'C:\\\\Workspace\\\\Geodata\\\\Massachusetts\\\\TaxParcels\\\\M172_parcels_CY22_FY22_sde.gdb\\\\M172TaxPar', 'C:\\\\Workspace\\\\Geodata\\\\Massachusetts\\\\TaxParcels\\\\M173_parcels_CY21_FY22_sde.gdb\\\\M173TaxPar', 'C:\\\\Workspace\\\\Geodata\\\\Massachusetts\\\\TaxParcels\\\\M182_parcels_CY22_FY22_sde.gdb\\\\M182TaxPar', 'C:\\\\Workspace\\\\Geodata\\\\Massachusetts\\\\TaxParcels\\\\M197_parcels_CY22_FY23_sde.gdb\\\\M197TaxPar', 'C:\\\\Workspace\\\\Geodata\\\\Massachusetts\\\\TaxParcels\\\\M201_parcels_CY20_FY21_sde.gdb\\\\M201TaxPar', 'C:\\\\Workspace\\\\Geodata\\\\Massachusetts\\\\TaxParcels\\\\M221_parcels_CY22_FY22_sde.gdb\\\\M221TaxPar', 'C:\\\\Workspace\\\\Geodata\\\\Massachusetts\\\\TaxParcels\\\\M224_parcels_CY22_FY23_sde.gdb\\\\M224TaxPar', 'C:\\\\Workspace\\\\Geodata\\\\Massachusetts\\\\TaxParcels\\\\M231_parcels_CY22_FY23_sde.gdb\\\\M231TaxPar', 'C:\\\\Workspace\\\\Geodata\\\\Massachusetts\\\\TaxParcels\\\\M239_parcels_CY22_FY22_sde.gdb\\\\M239TaxPar', 'C:\\\\Workspace\\\\Geodata\\\\Massachusetts\\\\TaxParcels\\\\M240_parcels_CY22_FY22_sde.gdb\\\\M240TaxPar', 'C:\\\\Workspace\\\\Geodata\\\\Massachusetts\\\\TaxParcels\\\\M242_parcels_CY22_FY23_sde.gdb\\\\M242TaxPar', 'C:\\\\Workspace\\\\Geodata\\\\Massachusetts\\\\TaxParcels\\\\M250_parcels_CY22_FY23_sde.gdb\\\\M250TaxPar', 'C:\\\\Workspace\\\\Geodata\\\\Massachusetts\\\\TaxParcels\\\\M261_parcels_CY22_FY23_sde.gdb\\\\M261TaxPar', 'C:\\\\Workspace\\\\Geodata\\\\Massachusetts\\\\TaxParcels\\\\M296_parcels_CY22_FY22_sde.gdb\\\\M296TaxPar', 'C:\\\\Workspace\\\\Geodata\\\\Massachusetts\\\\TaxParcels\\\\M300_parcels_CY22_FY23_sde.gdb\\\\M300TaxPar', 'C:\\\\Workspace\\\\Geodata\\\\Massachusetts\\\\TaxParcels\\\\M310_parcels_CY23_FY23_sde.gdb\\\\M310TaxPar', 'C:\\\\Workspace\\\\Geodata\\\\Massachusetts\\\\TaxParcels\\\\M318_parcels_CY23_FY23_sde.gdb\\\\M318TaxPar', 'C:\\\\Workspace\\\\Geodata\\\\Massachusetts\\\\TaxParcels\\\\M327_parcels_CY23_FY23_sde.gdb\\\\M327TaxPar', 'C:\\\\Workspace\\\\Geodata\\\\Massachusetts\\\\TaxParcels\\\\M334_parcels_CY22_FY22_sde.gdb\\\\M334TaxPar', 'C:\\\\Workspace\\\\Geodata\\\\Massachusetts\\\\TaxParcels\\\\M351_parcels_CY22_FY22_sde.gdb\\\\M351TaxPar']\n"
     ]
    }
   ],
   "source": [
    "# merge all extracted gbd files into one dataset\n",
    "gdbpaths = fn_recursive_glob_search(TaxDir,'.gdb')\n",
    "print(gdbpaths[0])\n",
    "def fn_regex_search_0 (string,pattern,noneVal=\"NA\"):\n",
    "    '''\n",
    "    returns the first match of a regular expression pattern search on a string\n",
    "    '''\n",
    "    import re\n",
    "    x = re.search(pattern,string)\n",
    "    if x is None: \n",
    "        x= [noneVal]    \n",
    "    return(x[0])\n",
    "\n",
    "townIDs = [fn_regex_search_0(i,\"M\\d{3}\") for i in gdbpaths]\n",
    "#print(townIDs)\n",
    "gdbfiles = [\"\\\\\"+i+\"TaxPar\" for i in townIDs]\n",
    "#print(gdbfiles)\n",
    "filepaths = [gdbpaths[i]+gdbfiles[i] for i in range(len(gdbfiles))] \n",
    "#print(filepaths)"
   ]
  },
  {
   "cell_type": "code",
   "execution_count": 3,
   "metadata": {
    "scrolled": true
   },
   "outputs": [
    {
     "data": {
      "text/html": [
       "<div class='gpresult'><h2>Messages</h2><div id='messages' data-messages='[\"Start Time: Thursday, March 30, 2023 9:32:20 AM\",\"Succeeded at Thursday, March 30, 2023 9:32:51 AM (Elapsed Time: 30.78 seconds)\"]' data-show='true'><div id = 'default' /></div></div>"
      ],
      "text/plain": [
       "<Result 'C:\\\\Workspace\\\\Geodata\\\\Massachusetts\\\\TaxParcels\\\\MEP_TaxParcels.shp'>"
      ]
     },
     "execution_count": 3,
     "metadata": {},
     "output_type": "execute_result"
    }
   ],
   "source": [
    "outname=\"MEP_TaxParcels\"\n",
    "arcpy.management.Merge(filepaths, \n",
    "                       os.path.join(TaxDir,outname),\n",
    "                       \"\", \"ADD_SOURCE_INFO\")"
   ]
  },
  {
   "cell_type": "raw",
   "metadata": {},
   "source": [
    "# this step below is inefficient\n",
    "# we will first intersect the watershedboundaries with the parcels\n",
    "# then we pull\n",
    "# 2023-03-29 RESUME HERE!!! \n",
    "intable= \"MEP_TaxParcels\"\n",
    "jointables = [\"\\\\\"+i+\"Assess\" for i in townIDs]\n",
    "jointable = jointables[0]\n",
    "inID = \"LOC_ID\"\n",
    "joinID = \"LOC_ID\"\n",
    "#def  fn_wrapper():\n",
    "#    arcpy.management.AddJoin(\"M003TaxPar\", inID, \n",
    "#                         jointable, joinID, \n",
    "#                         \"KEEP_ALL\", \"NO_INDEX_JOIN_FIELDS\")\n",
    "\n",
    "for i in range(len(filepaths)):\n",
    "    jointable = gdbpaths[i]+jointables[i]\n",
    "    print(jointable)\n",
    "    arcpy.management.AddJoin(filepaths[i], inID, \n",
    "                         jointable, joinID, \n",
    "                         \"KEEP_ALL\", \"NO_INDEX_JOIN_FIELDS\")"
   ]
  },
  {
   "cell_type": "code",
   "execution_count": null,
   "metadata": {},
   "outputs": [],
   "source": []
  }
 ],
 "metadata": {
  "kernelspec": {
   "display_name": "ArcGISPro",
   "language": "Python",
   "name": "python3"
  },
  "language_info": {
   "file_extension": ".py",
   "name": "python",
   "version": "3"
  }
 },
 "nbformat": 4,
 "nbformat_minor": 2
}
