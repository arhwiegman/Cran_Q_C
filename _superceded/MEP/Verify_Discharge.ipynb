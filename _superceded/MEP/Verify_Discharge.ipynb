{
 "cells": [
  {
   "cell_type": "markdown",
   "id": "f682951b",
   "metadata": {},
   "source": [
    "**Verify Discharge**\n",
    "\n",
    "Adrian Wiegman\n",
    "\n",
    "2023-08-12\n",
    "\n",
    "-------"
   ]
  },
  {
   "cell_type": "markdown",
   "id": "c9e36dc6",
   "metadata": {
    "heading_collapsed": true
   },
   "source": [
    "## Description"
   ]
  },
  {
   "cell_type": "markdown",
   "id": "159f7739",
   "metadata": {
    "hidden": true
   },
   "source": [
    "This notebook turns raw data from LiDAR DEM, NHD flowlines, and polygons of cranberry bogs, into a layer of polygons representing the topographic catchments draining into each cranberry bog in southeast Massachusetts. \n",
    "\n",
    "Even though the lidar data as been hydro flattened/enforced, there are still a number of flowpaths that are not detected underneath highways (e.g. interstate I-495, I-195)\n",
    "\n",
    "The solution is to \"burn\" in stream flowlines from the national hydrography dataset. This is done by putting a buffer around the stream flowline network, then assigning an arbitary large value to the stream network polygon, then converting to raster and subtracting the stream elevations from the DEM. \n",
    "\n",
    "Once D8 flow direction and flow accumulation rasters have been made the primary objectives can be completed. \n",
    "\n",
    "Data Sources:\n",
    "\n",
    "1. Mass GIS Lidar DEM (1ft vertical resolution, ~1m horizontal resolution)\n",
    "2. USGS National Hydrography Dataset\n",
    "- Flow lines\n",
    "3. Cranberry bogs layer\n",
    "\n",
    "Steps of Processing: \n",
    "\n",
    "1. Prepare Lidar\n",
    "   - 1M Lidar Elevation -> Clip to study area -> \n",
    "   - Resample to 10m resolution using aggregate minimum cell value\n",
    "   - Fill Sinks \n",
    "\n",
    "2. Prepare Flowlines\n",
    "   - combine flowlines into one layer\n",
    "   - dissolve flowlines\n",
    "   - buffer flowlines to 3x the resolution of processed lidar. \n",
    "       - buffering width of 15m \n",
    "   - convert to raster\n",
    "3. Burn in flow lines\n",
    "    - assign a value of -100 feet to flow lines\n",
    "    - add flowlines to existing elevation (subtract 100 feet)\n",
    "    \n",
    "4. fill sinks (again)\n",
    "5. D8 Flow Direction \n",
    "6. Flow Accumulation\n",
    "7. Generate Bog Pour Points\n",
    "    - find maximum flow accumulation value inside each bog.\n",
    "    - generate a point at each bog maximum value.\n",
    "    - identity to get cranberry bog attributes at each point.\n",
    "8. Delineate Basins for each point\n",
    "    - with the bog cranberry points loop through each point\n",
    "        - delineate watershed using the bog pour point and the D8 flow direction\n",
    "        - save the output to a temp file with the feature ID ('FID') of the cranberry bog. \n",
    "    - merge all cranberry bog basins to one polygon layer, containing the FID of the cranberry bog. "
   ]
  },
  {
   "cell_type": "markdown",
   "id": "2d59851c",
   "metadata": {},
   "source": [
    "## Setup Environment"
   ]
  },
  {
   "cell_type": "code",
   "execution_count": 25,
   "id": "9d478e88",
   "metadata": {},
   "outputs": [
    {
     "name": "stdout",
     "output_type": "stream",
     "text": [
      "The autoreload extension is already loaded. To reload it, use:\n",
      "  %reload_ext autoreload\n",
      "***\n",
      "loading python modules...\n",
      "\n",
      "  `module_list` contains names of all loaded modules\n",
      "\n",
      "...module loading complete\n",
      "\n",
      "***\n",
      "loading user defined functions...\n",
      "\n",
      "type `fn_`+TAB to for autocomplete suggestions\n",
      "\n",
      " the object `def_list` contains user defined function names:\n",
      "   fn_get_info\n",
      "   fn_arcgis_table_to_df\n",
      "   fn_arcgis_table_to_np_to_pd_df\n",
      "   fn_run_script_w_propy_bat\n",
      "   fn_try_mkdir\n",
      "   fn_hello\n",
      "   fn_recursive_glob_search\n",
      "   fn_regex_search_replace\n",
      "   fn_regex_search_0\n",
      "   fn_arcpy_table_to_excel\n",
      "   fn_agg_sum_df_on_group\n",
      "   fn_add_prefix_suffix_to_selected_cols\n",
      "   fn_calc_pct_cover_within_groups\n",
      "   fn_buildWhereClauseFromList\n",
      "\n",
      " use ??{insert fn name} to inspect\n",
      " for example running `??fn_get_info` returns:\n",
      "\u001b[1;31mSignature:\u001b[0m \u001b[0mfn_get_info\u001b[0m\u001b[1;33m(\u001b[0m\u001b[0mname\u001b[0m\u001b[1;33m=\u001b[0m\u001b[1;34m'fn_get_info'\u001b[0m\u001b[1;33m)\u001b[0m\u001b[1;33m\u001b[0m\u001b[1;33m\u001b[0m\u001b[0m\n",
      "\u001b[1;31mSource:\u001b[0m   \n",
      "\u001b[1;32mdef\u001b[0m \u001b[0mfn_get_info\u001b[0m\u001b[1;33m(\u001b[0m\u001b[0mname\u001b[0m\u001b[1;33m=\u001b[0m\u001b[1;34m'fn_get_info'\u001b[0m\u001b[1;33m)\u001b[0m\u001b[1;33m:\u001b[0m\u001b[1;33m\n",
      "\u001b[0m    \u001b[1;34m'''\n",
      "    returns the source information about a given function name\n",
      "    '''\u001b[0m\u001b[1;33m\n",
      "\u001b[0m    \u001b[0mget_ipython\u001b[0m\u001b[1;33m(\u001b[0m\u001b[1;33m)\u001b[0m\u001b[1;33m.\u001b[0m\u001b[0mrun_line_magic\u001b[0m\u001b[1;33m(\u001b[0m\u001b[1;34m'pinfo2'\u001b[0m\u001b[1;33m,\u001b[0m \u001b[1;34m'$name'\u001b[0m\u001b[1;33m)\u001b[0m\u001b[1;33m\u001b[0m\u001b[1;33m\u001b[0m\u001b[0m\n",
      "\u001b[1;31mFile:\u001b[0m      c:\\workspace\\geodata\\verify_discharge\\<ipython-input-1-28f96385f735>\n",
      "\u001b[1;31mType:\u001b[0m      function\n",
      "\n",
      " you can also use `fn_get_info(name={insert fn name})` to do the same thing as `??{insert fn name}`\n",
      "\n",
      "...function loading complete\n",
      "\n",
      "\n",
      "***\n",
      "setting up arcpy environment...\n",
      "\n",
      " input file directory (`idr`): C:\\Workspace\\Geodata\\Massachusetts\\\n",
      " working directory (`wdr`): C:\\Workspace\\Geodata\\MEP\\\n",
      " default geodatabase path: C:\\Workspace\\Geodata\\MEP\\Default.gdb\n",
      " temp dir (`tdr.name`): C:\\Users\\ADRIAN~1.WIE\\AppData\\Local\\Temp\\ArcGISProTemp23104\\tmpgtp8gmal\n",
      " output dir (`odr`): C:\\Workspace\\Geodata\\MEP\\outputs\n",
      " output coordinate system: NAD_1983_UTM_Zone_19N\n",
      "\n",
      "... env setup complete\n",
      "\n",
      "\n",
      "+++SETUP COMPLETE+++\n",
      "\n",
      "\n"
     ]
    }
   ],
   "source": [
    "# iphython options\n",
    "# delete variables in workspace\n",
    "%reset -f\n",
    "#places plots inline\n",
    "%matplotlib inline\n",
    "#automatically reloads modules if they are changed\n",
    "%load_ext autoreload \n",
    "%autoreload 2\n",
    "# this codeblock sets up the environment from jupyter notebooks\n",
    "setup_notebook = \"C:/Users/Adrian.Wiegman/Documents/GitHub/Wiegman_USDA_ARS/MEP/_Setup.ipynb\"\n",
    "%run $setup_notebook # magic command to run the notebook "
   ]
  },
  {
   "cell_type": "code",
   "execution_count": 72,
   "id": "ea501ae3",
   "metadata": {},
   "outputs": [
    {
     "name": "stdout",
     "output_type": "stream",
     "text": [
      "C:\\Workspace\\Geodata\\Verify_Discharge\n"
     ]
    }
   ],
   "source": [
    "wdr = r\"C:\\Workspace\\Geodata\\Verify_Discharge\"\n",
    "print(wdr)"
   ]
  },
  {
   "cell_type": "code",
   "execution_count": 73,
   "id": "b6310955",
   "metadata": {
    "scrolled": true
   },
   "outputs": [],
   "source": [
    "# Create new file geodatabase to store results\\n\",\n",
    "gdb = \"Verify_Discharge.gdb\"\n",
    "\n",
    "ap.env.workspace = os.path.join(wdr,gdb)"
   ]
  },
  {
   "cell_type": "code",
   "execution_count": 74,
   "id": "5cac46e0",
   "metadata": {},
   "outputs": [
    {
     "data": {
      "text/html": [
       "<div class='gpresult'><h2>Messages</h2><div id='messages' data-messages='[\"Start Time: Tuesday, October 24, 2023 3:43:45 PM\",\"Succeeded at Tuesday, October 24, 2023 3:43:48 PM (Elapsed Time: 3.28 seconds)\"]' data-show='true'><div id = 'default' /></div></div>"
      ],
      "text/plain": [
       "<Result 'C:\\\\Workspace\\\\Geodata\\\\Verify_Discharge\\\\Verify_Discharge.gdb\\\\df_Q_bogs_streams_XYTableToPoint'>"
      ]
     },
     "execution_count": 74,
     "metadata": {},
     "output_type": "execute_result"
    }
   ],
   "source": [
    "arcpy.management.XYTableToPoint(\n",
    "    in_table=r\"C:\\Users\\Adrian.Wiegman\\Documents\\GitHub\\Wiegman_USDA_ARS\\MEP\\data\\df_Q_bogs_streams.csv\",\n",
    "    out_feature_class=r\"C:\\Workspace\\Geodata\\Verify_Discharge\\Verify_Discharge.gdb\\df_Q_bogs_streams_XYTableToPoint\",\n",
    "    x_field=\"Long\",\n",
    "    y_field=\"Lat\",\n",
    "    z_field=None,\n",
    "    coordinate_system='GEOGCS[\"GCS_WGS_1984\",DATUM[\"D_WGS_1984\",SPHEROID[\"WGS_1984\",6378137.0,298.257223563]],PRIMEM[\"Greenwich\",0.0],UNIT[\"Degree\",0.0174532925199433]];-400 -400 1000000000;-100000 10000;-100000 10000;8.98315284119521E-09;0.001;0.001;IsHighPrecision'\n",
    ")"
   ]
  },
  {
   "cell_type": "code",
   "execution_count": 75,
   "id": "f8ea32ee",
   "metadata": {},
   "outputs": [
    {
     "data": {
      "text/html": [
       "<div class='gpresult'><h2>Messages</h2><div id='messages' data-messages='[\"Start Time: Tuesday, October 24, 2023 3:43:50 PM\",\"Succeeded at Tuesday, October 24, 2023 3:43:50 PM (Elapsed Time: 0.75 seconds)\"]' data-show='true'><div id = 'default' /></div></div>"
      ],
      "text/plain": [
       "<Result 'C:\\\\Workspace\\\\Geodata\\\\Verify_Discharge\\\\Verify_Discharge.gdb\\\\df_Q_bogs_streams_XYT_Buffer'>"
      ]
     },
     "execution_count": 75,
     "metadata": {},
     "output_type": "execute_result"
    }
   ],
   "source": [
    "arcpy.analysis.Buffer(\n",
    "    in_features=\"df_Q_bogs_streams_XYTableToPoint\",\n",
    "    out_feature_class=r\"C:\\Workspace\\Geodata\\Verify_Discharge\\Verify_Discharge.gdb\\df_Q_bogs_streams_XYT_Buffer\",\n",
    "    buffer_distance_or_field=\"150 Meters\",\n",
    "    line_side=\"FULL\",\n",
    "    line_end_type=\"ROUND\",\n",
    "    dissolve_option=\"NONE\",\n",
    "    dissolve_field=None,\n",
    "    method=\"GEODESIC\"\n",
    ")"
   ]
  },
  {
   "cell_type": "raw",
   "id": "1e89c23d",
   "metadata": {},
   "source": [
    "in_feat = \"df_Q_bogs_streams_XYT_Buffer\"\n",
    "in_rast = \"FA_Dinf_gwe_bf_lt1m\"\n",
    "out_raster = arcpy.ia.ZonalStatistics(\n",
    "    in_zone_data=in_feat,\n",
    "    zone_field=\"OBJECTID\",\n",
    "    in_value_raster=in_rast,\n",
    "    statistics_type=\"MAXIMUM\",\n",
    "    ignore_nodata=\"DATA\",\n",
    "    process_as_multidimensional=\"CURRENT_SLICE\",\n",
    "    percentile_value=90,\n",
    "    percentile_interpolation_type=\"AUTO_DETECT\",\n",
    "    circular_calculation=\"ARITHMETIC\",\n",
    "    circular_wrap_value=360\n",
    ")\n",
    "out_rast_name = \"ZS_MAX_\"+in_rast\n",
    "out_raster.save(out_rast_name)"
   ]
  },
  {
   "cell_type": "code",
   "execution_count": 76,
   "id": "d1e83c63",
   "metadata": {},
   "outputs": [],
   "source": [
    "files = [\"C:\\Workspace\\Geodata\\MEP\\gwbogsheds.gdb\\FA_D8_gwe_bf\",\n",
    "\"C:\\Workspace\\Geodata\\MEP\\gwbogsheds.gdb\\FA_D8_gwe_bf_lt1m\",\n",
    "\"C:\\Workspace\\Geodata\\MEP\\Default.gdb\\LidAg10BF_FlowAcc\",\n",
    "\"C:\\Workspace\\Geodata\\MEP\\gwbogsheds.gdb\\FA_Dinf_gwe_bf\",\n",
    "\"C:\\Workspace\\Geodata\\MEP\\gwbogsheds.gdb\\FA_Dinf_gwe_bf_lt1m\",\n",
    "\"C:\\Workspace\\Geodata\\MEP\\gwbogsheds.gdb\\FA_MDF_gwe_bf\"]\n",
    "import re\n",
    "names = [re.search(\"\\.gdb\\\\\\(.*)\",x)[1] for x in files]"
   ]
  },
  {
   "cell_type": "code",
   "execution_count": 77,
   "id": "7dda46e3",
   "metadata": {},
   "outputs": [],
   "source": [
    "in_feat = \"df_Q_bogs_streams_XYT_Buffer\"\n",
    "for i in range(len(files)):\n",
    "    out_raster = arcpy.ia.ZonalStatistics(\n",
    "        in_zone_data=in_feat,\n",
    "        zone_field=\"OBJECTID\",\n",
    "        in_value_raster=files[i],\n",
    "        statistics_type=\"MAXIMUM\",\n",
    "        ignore_nodata=\"DATA\",\n",
    "        process_as_multidimensional=\"CURRENT_SLICE\",\n",
    "        percentile_value=90,\n",
    "        percentile_interpolation_type=\"AUTO_DETECT\",\n",
    "        circular_calculation=\"ARITHMETIC\",\n",
    "        circular_wrap_value=360)\n",
    "    out_rast_name = \"ZS_MAX_verify_\"+names[i]\n",
    "    out_raster.save(out_rast_name)\n",
    "    "
   ]
  },
  {
   "cell_type": "code",
   "execution_count": 78,
   "id": "460b8ef1",
   "metadata": {},
   "outputs": [
    {
     "name": "stdout",
     "output_type": "stream",
     "text": [
      "C:\\Workspace\\Geodata\\Verify_Discharge\\Verify_Discharge.gdb\\ZS_MAX_verify_FA_D8_gwe_bf ZS_MAX_verify_FA_D8_gwe_bf;C:\\Workspace\\Geodata\\Verify_Discharge\\Verify_Discharge.gdb\\ZS_MAX_verify_FA_D8_gwe_bf_lt1m ZS_MAX_verify_FA_D8_gwe_bf_lt1m;C:\\Workspace\\Geodata\\Verify_Discharge\\Verify_Discharge.gdb\\ZS_MAX_verify_LidAg10BF_FlowAcc ZS_MAX_verify_LidAg10BF_FlowAcc;C:\\Workspace\\Geodata\\Verify_Discharge\\Verify_Discharge.gdb\\ZS_MAX_verify_FA_Dinf_gwe_bf ZS_MAX_verify_FA_Dinf_gwe_bf;C:\\Workspace\\Geodata\\Verify_Discharge\\Verify_Discharge.gdb\\ZS_MAX_verify_FA_Dinf_gwe_bf_lt1m ZS_MAX_verify_FA_Dinf_gwe_bf_lt1m;C:\\Workspace\\Geodata\\Verify_Discharge\\Verify_Discharge.gdb\\ZS_MAX_verify_FA_MDF_gwe_bf ZS_MAX_verify_FA_MDF_gwe_bf\n"
     ]
    }
   ],
   "source": [
    "# generate string of rasters to \n",
    "long_names = [\"ZS_MAX_verify_\"+n for n in names]\n",
    "long_names\n",
    "_ = [\"{} {}\".format(os.path.join(wdr,gdb,n),n) for n in long_names]\n",
    "in_rasters = \";\".join(_)\n",
    "print(in_rasters)"
   ]
  },
  {
   "cell_type": "code",
   "execution_count": 79,
   "id": "fd680f88",
   "metadata": {
    "scrolled": false
   },
   "outputs": [
    {
     "data": {
      "text/html": [
       "<div class='gpresult'><h2>Messages</h2><div id='messages' data-messages='[\"Start Time: Tuesday, October 24, 2023 3:44:30 PM\",\"Succeeded at Tuesday, October 24, 2023 3:44:33 PM (Elapsed Time: 2.40 seconds)\"]' data-show='true'><div id = 'default' /></div></div>"
      ],
      "text/plain": [
       "<geoprocessing server result object object at 0x000001FE297E3630>"
      ]
     },
     "execution_count": 79,
     "metadata": {},
     "output_type": "execute_result"
    }
   ],
   "source": [
    "arcpy.sa.ExtractMultiValuesToPoints(\n",
    "    in_point_features=\"df_Q_bogs_streams_XYTableToPoint\",\n",
    "    in_rasters=in_rasters,\n",
    "    bilinear_interpolate_values=\"NONE\")"
   ]
  },
  {
   "cell_type": "code",
   "execution_count": 80,
   "id": "e759a4c6",
   "metadata": {},
   "outputs": [
    {
     "data": {
      "text/plain": [
       "0.35976425532343725"
      ]
     },
     "execution_count": 80,
     "metadata": {},
     "output_type": "execute_result"
    }
   ],
   "source": [
    "# cell size for grid where lt1m logic was applied to bogs. \n",
    "# Compute conversion factor to translate \n",
    "cell_size = 13.778565541850835\n",
    "FA_to_Q = (cell_size)**2 * 27.25 * 2.54 * (1/100) * (1/365.25)\n",
    "FA_to_Q"
   ]
  },
  {
   "cell_type": "code",
   "execution_count": 83,
   "id": "f4819cd7",
   "metadata": {},
   "outputs": [
    {
     "data": {
      "text/plain": [
       "0.1895003422313484"
      ]
     },
     "execution_count": 83,
     "metadata": {},
     "output_type": "execute_result"
    }
   ],
   "source": [
    "# Compute conversion factor to translate \n",
    "cell_size = 10\n",
    "FA_to_Q = (cell_size)**2 * 27.25 * 2.54 * (1/100) * (1/365.25)\n",
    "FA_to_Q"
   ]
  },
  {
   "cell_type": "code",
   "execution_count": 81,
   "id": "2a638c39",
   "metadata": {
    "scrolled": true
   },
   "outputs": [
    {
     "name": "stderr",
     "output_type": "stream",
     "text": [
      "Traceback (most recent call last):\n",
      "  File \"<expression>\", line 1, in <module>\n",
      "TypeError: unsupported operand type(s) for *: 'NoneType' and 'float'\n",
      "Traceback (most recent call last):\n",
      "  File \"<expression>\", line 1, in <module>\n",
      "TypeError: unsupported operand type(s) for *: 'NoneType' and 'float'\n",
      "Traceback (most recent call last):\n",
      "  File \"<expression>\", line 1, in <module>\n",
      "TypeError: unsupported operand type(s) for *: 'NoneType' and 'float'\n",
      "Traceback (most recent call last):\n",
      "  File \"<expression>\", line 1, in <module>\n",
      "TypeError: unsupported operand type(s) for *: 'NoneType' and 'float'\n",
      "Traceback (most recent call last):\n",
      "  File \"<expression>\", line 1, in <module>\n",
      "TypeError: unsupported operand type(s) for *: 'NoneType' and 'float'\n",
      "Traceback (most recent call last):\n",
      "  File \"<expression>\", line 1, in <module>\n",
      "TypeError: unsupported operand type(s) for *: 'NoneType' and 'float'\n",
      "Traceback (most recent call last):\n",
      "  File \"<expression>\", line 1, in <module>\n",
      "TypeError: unsupported operand type(s) for *: 'NoneType' and 'float'\n",
      "Traceback (most recent call last):\n",
      "  File \"<expression>\", line 1, in <module>\n",
      "TypeError: unsupported operand type(s) for *: 'NoneType' and 'float'\n",
      "Traceback (most recent call last):\n",
      "  File \"<expression>\", line 1, in <module>\n",
      "TypeError: unsupported operand type(s) for *: 'NoneType' and 'float'\n",
      "Traceback (most recent call last):\n",
      "  File \"<expression>\", line 1, in <module>\n",
      "TypeError: unsupported operand type(s) for *: 'NoneType' and 'float'\n",
      "Traceback (most recent call last):\n",
      "  File \"<expression>\", line 1, in <module>\n",
      "TypeError: unsupported operand type(s) for *: 'NoneType' and 'float'\n",
      "Traceback (most recent call last):\n",
      "  File \"<expression>\", line 1, in <module>\n",
      "TypeError: unsupported operand type(s) for *: 'NoneType' and 'float'\n",
      "Traceback (most recent call last):\n",
      "  File \"<expression>\", line 1, in <module>\n",
      "TypeError: unsupported operand type(s) for *: 'NoneType' and 'float'\n",
      "Traceback (most recent call last):\n",
      "  File \"<expression>\", line 1, in <module>\n",
      "TypeError: unsupported operand type(s) for *: 'NoneType' and 'float'\n",
      "Traceback (most recent call last):\n",
      "  File \"<expression>\", line 1, in <module>\n",
      "TypeError: unsupported operand type(s) for *: 'NoneType' and 'float'\n",
      "Traceback (most recent call last):\n",
      "  File \"<expression>\", line 1, in <module>\n",
      "TypeError: unsupported operand type(s) for *: 'NoneType' and 'float'\n",
      "Traceback (most recent call last):\n",
      "  File \"<expression>\", line 1, in <module>\n",
      "TypeError: unsupported operand type(s) for *: 'NoneType' and 'float'\n",
      "Traceback (most recent call last):\n",
      "  File \"<expression>\", line 1, in <module>\n",
      "TypeError: unsupported operand type(s) for *: 'NoneType' and 'float'\n",
      "Traceback (most recent call last):\n",
      "  File \"<expression>\", line 1, in <module>\n",
      "TypeError: unsupported operand type(s) for *: 'NoneType' and 'float'\n",
      "Traceback (most recent call last):\n",
      "  File \"<expression>\", line 1, in <module>\n",
      "TypeError: unsupported operand type(s) for *: 'NoneType' and 'float'\n",
      "Traceback (most recent call last):\n",
      "  File \"<expression>\", line 1, in <module>\n",
      "TypeError: unsupported operand type(s) for *: 'NoneType' and 'float'\n",
      "Traceback (most recent call last):\n",
      "  File \"<expression>\", line 1, in <module>\n",
      "TypeError: unsupported operand type(s) for *: 'NoneType' and 'float'\n",
      "Traceback (most recent call last):\n",
      "  File \"<expression>\", line 1, in <module>\n",
      "TypeError: unsupported operand type(s) for *: 'NoneType' and 'float'\n",
      "Traceback (most recent call last):\n",
      "  File \"<expression>\", line 1, in <module>\n",
      "TypeError: unsupported operand type(s) for *: 'NoneType' and 'float'\n",
      "Traceback (most recent call last):\n",
      "  File \"<expression>\", line 1, in <module>\n",
      "TypeError: unsupported operand type(s) for *: 'NoneType' and 'float'\n",
      "Traceback (most recent call last):\n",
      "  File \"<expression>\", line 1, in <module>\n",
      "TypeError: unsupported operand type(s) for *: 'NoneType' and 'float'\n",
      "Traceback (most recent call last):\n",
      "  File \"<expression>\", line 1, in <module>\n",
      "TypeError: unsupported operand type(s) for *: 'NoneType' and 'float'\n",
      "Traceback (most recent call last):\n",
      "  File \"<expression>\", line 1, in <module>\n",
      "TypeError: unsupported operand type(s) for *: 'NoneType' and 'float'\n"
     ]
    },
    {
     "data": {
      "text/html": [
       "<div class='gpresult'><h2>Messages</h2><div id='messages' data-messages='[\"Start Time: Tuesday, October 24, 2023 3:44:33 PM\",\"Adding Q_m3d_FA1 to df_Q_bogs_streams_XYTableToPoint...\",\"WARNING 002858: Certain rows set to NULL due to error while evaluating python expression: TypeError: unsupported operand type(s) for *: &#39;NoneType&#39; and &#39;float&#39;\",\"Succeeded at Tuesday, October 24, 2023 3:44:33 PM (Elapsed Time: 0.21 seconds)\"]' data-show='true'><div id = 'default' /></div></div>"
      ],
      "text/plain": [
       "<Result 'C:\\\\Workspace\\\\Geodata\\\\Verify_Discharge\\\\Verify_Discharge.gdb\\\\df_Q_bogs_streams_XYTableToPoint'>"
      ]
     },
     "execution_count": 81,
     "metadata": {},
     "output_type": "execute_result"
    }
   ],
   "source": [
    "arcpy.management.CalculateField(\n",
    "    in_table=\"df_Q_bogs_streams_XYTableToPoint\",\n",
    "    field=\"Q_m3d_FA1\",\n",
    "    expression=\"!{}!*{}\".format(out_rast_name,FA_to_Q),\n",
    "    expression_type=\"PYTHON3\",\n",
    "    code_block=\"\",\n",
    "    field_type=\"DOUBLE\",\n",
    "    enforce_domains=\"NO_ENFORCE_DOMAINS\"\n",
    ")"
   ]
  },
  {
   "cell_type": "code",
   "execution_count": 82,
   "id": "993f0e1e",
   "metadata": {},
   "outputs": [
    {
     "data": {
      "text/html": [
       "<div class='gpresult'><h2>Messages</h2><div id='messages' data-messages='[\"Start Time: Tuesday, October 24, 2023 3:44:43 PM\",\"Succeeded at Tuesday, October 24, 2023 3:44:47 PM (Elapsed Time: 3.47 seconds)\"]' data-show='true'><div id = 'default' /></div></div>"
      ],
      "text/plain": [
       "<Result 'C:\\\\Workspace\\\\Geodata\\\\Verify_Discharge\\\\outputs\\\\df_Q_bogs_streams_XYTableToPoint_TableToExcel.xls'>"
      ]
     },
     "execution_count": 82,
     "metadata": {},
     "output_type": "execute_result"
    }
   ],
   "source": [
    "arcpy.conversion.TableToExcel(\n",
    "    Input_Table=\"df_Q_bogs_streams_XYTableToPoint\",\n",
    "    Output_Excel_File=r\"C:\\Workspace\\Geodata\\Verify_Discharge\\outputs\\df_Q_bogs_streams_XYTableToPoint_TableToExcel.xls\",\n",
    "    Use_field_alias_as_column_header=\"NAME\",\n",
    "    Use_domain_and_subtype_description=\"CODE\"\n",
    ")"
   ]
  },
  {
   "cell_type": "code",
   "execution_count": null,
   "id": "eb5f5009",
   "metadata": {},
   "outputs": [],
   "source": []
  },
  {
   "cell_type": "code",
   "execution_count": 7,
   "id": "8f32f7da",
   "metadata": {},
   "outputs": [],
   "source": [
    "files = [\"C:\\Workspace\\Geodata\\MEP\\gwbogsheds.gdb\\FA_D8_gwe_bf\",\n",
    "\"C:\\Workspace\\Geodata\\MEP\\gwbogsheds.gdb\\FA_D8_gwe_bf_lt1m\",\n",
    "\"C:\\Workspace\\Geodata\\MEP\\Default.gdb\\LidAg10BF_FlowAcc\",\n",
    "\"C:\\Workspace\\Geodata\\MEP\\gwbogsheds.gdb\\FA_Dinf_gwe_bf\",\n",
    "\"C:\\Workspace\\Geodata\\MEP\\gwbogsheds.gdb\\FA_Dinf_gwe_bf_lt1m\"]\n",
    "import re\n",
    "names = [re.search(\"\\.gdb\\\\\\(.*)\",x)[1] for x in files]"
   ]
  },
  {
   "cell_type": "code",
   "execution_count": 11,
   "id": "d4a6c7f8",
   "metadata": {},
   "outputs": [],
   "source": [
    "_ = [\"{} {}\".format(files[i],names[i]) for i in range(len(files))]\n",
    "in_rasters = \";\".join(_)\n",
    "# resume here. make string for multiple files raster extract"
   ]
  },
  {
   "cell_type": "code",
   "execution_count": 13,
   "id": "8d4f05f8",
   "metadata": {},
   "outputs": [
    {
     "ename": "NameError",
     "evalue": "name 'in_feat' is not defined",
     "output_type": "error",
     "traceback": [
      "\u001b[0;31m---------------------------------------------------------------------------\u001b[0m\n\u001b[0;31mNameError\u001b[0m                                 Traceback (most recent call last)",
      "In  \u001b[0;34m[13]\u001b[0m:\nLine \u001b[0;34m3\u001b[0m:     in_zone_data=in_feat,\n",
      "\u001b[0;31mNameError\u001b[0m: name 'in_feat' is not defined\n\u001b[0;31m---------------------------------------------------------------------------\u001b[0m"
     ]
    }
   ],
   "source": [
    "in_feat = \"df_Q_bogs_streams_XYT_Buffer\"\n",
    "for i in range(len(files)):\n",
    "    out_raster = arcpy.ia.ZonalStatistics(\n",
    "    in_zone_data=in_feat,\n",
    "    zone_field=\"OBJECTID\",\n",
    "    in_value_raster=files[i],\n",
    "    statistics_type=\"MAXIMUM\",\n",
    "    ignore_nodata=\"DATA\",\n",
    "    process_as_multidimensional=\"CURRENT_SLICE\",\n",
    "    percentile_value=90,\n",
    "    percentile_interpolation_type=\"AUTO_DETECT\",\n",
    "    circular_calculation=\"ARITHMETIC\",\n",
    "    circular_wrap_value=360)\n",
    "    out_rast_name = \"ZS_MAX_\"+names[i]\n",
    "    out_raster.save(out_rast_name)"
   ]
  },
  {
   "cell_type": "markdown",
   "id": "86cb96f9",
   "metadata": {},
   "source": [
    "FA = Flow accumulation (number of cells draining to a point)\n",
    "w = width of cell in distance units (10 meters)\n",
    "l = length of cell in distance units (10 meters)\n",
    "\n",
    "A = FA * cell_size^2\n",
    "\n",
    "cell size is the side length of the grid cells\n",
    "\n",
    "A = FA * 100 m^2/cell\n",
    "\n",
    "Q = A * r\n",
    "\n",
    "where r is recharge rate \n",
    "27.25 in/yr \n",
    "\n",
    "m3/d =  27.25 in/yr * 2.54 cm/in * 1/100 m/cm *  1/365.25 yr/d\n",
    "\n"
   ]
  }
 ],
 "metadata": {
  "kernelspec": {
   "display_name": "ArcGISPro",
   "language": "Python",
   "name": "python3"
  },
  "language_info": {
   "file_extension": ".py",
   "name": "python",
   "version": "3"
  }
 },
 "nbformat": 4,
 "nbformat_minor": 5
}
