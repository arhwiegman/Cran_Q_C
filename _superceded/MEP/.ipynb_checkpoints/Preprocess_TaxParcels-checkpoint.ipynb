{
 "cells": [
  {
   "cell_type": "markdown",
   "metadata": {},
   "source": [
    "# Preprocess Tax Parcels\n",
    "\n",
    "Adrian Wiegman | arhwiegman.github.io | adrian.wiegman@usda.gov\n",
    "\n",
    "2023-03-30\n",
    "\n",
    "---\n",
    "\n",
    "In this notebook I manipulate a batch of tax parcel geodatabases from the towns  within the the [MEP study area](https://www.mass.gov/guides/the-massachusetts-estuaries-project-and-reports). \n",
    "\n",
    "## Data\n",
    "\n",
    "Data were obtained from obtained from the MassGIS on March 27, 2023\n",
    " at the following link: \n",
    " https://www.mass.gov/info-details/massgis-data-property-tax-parcels\n",
    "\n",
    "## Processing Steps\n",
    "1. The files are unzipped\n",
    "2. TaxPar layers are merged into one geodatabase for all towns \n",
    "3. The Assess tables are converted to xlsx format\n",
    "4. The Assess xlsx files are concatenated into one table\n",
    "    - within the `outputs` folder\n",
    "5. Concatenate use code `LUC_LUT` tables from all towns\n",
    "6. Filter use code for use descriptions that contain cran\n",
    "\n",
    "The common features in the `TaxPar` and `Assess` tables can be indexed using `LOC_ID`\n",
    "\n",
    "The outputs will be used in two ways\n",
    "1. the fields in the Assess data will be used generate landcover classes for N loading\n",
    "2. then the TaxPar LOC_ID's will be used to index the landcover classes for each discrete \n",
    "3. the merged TaxPar layer will be intersected with watershed boundaries"
   ]
  },
  {
   "cell_type": "raw",
   "metadata": {},
   "source": [
    "# this codeblock sets up the environment from python scripts\n",
    "import sys\n",
    "# Insert the path of modules folder \n",
    "sys.path.append(r\"C:\\Users\\Adrian.Wiegman\\Documents\\GitHub\\Wiegman_USDA_ARS\\MEP\\scripts\")\n",
    "# Import the module0 directly since \n",
    "# the current path is of modules.\n",
    "%run -m functions\n",
    "%run -m setup_environment"
   ]
  },
  {
   "cell_type": "code",
   "execution_count": 9,
   "metadata": {},
   "outputs": [
    {
     "name": "stdout",
     "output_type": "stream",
     "text": [
      "loading python modules...\n",
      "  `module_list` contains names of all loaded modules\n",
      "setting up arcpy environment...\n",
      "input file directory (idr): C:\\Workspace\\Geodata\\Massachusetts\\\n",
      "working directory (wdr): C:\\Workspace\\Geodata\\MEP\\\n",
      "temp dir (tdr): C:\\Workspace\\Geodata\\MEP\\temp\n",
      "default geodatabase path: C:\\Workspace\\Geodata\\MEP\\Default.gdb\n",
      "environment setup complete\n",
      "functions loaded\n",
      "hello world\n"
     ]
    }
   ],
   "source": [
    "# this codeblock sets up the arcpy environment from jupyter notebooks\n",
    "setup_notebook = \"C:/Users/Adrian.Wiegman/Documents/GitHub/Wiegman_USDA_ARS/MEP/_Setup.ipynb\"\n",
    "%run $setup_notebook # magic command to run the notebook \n",
    "fn_hello()"
   ]
  },
  {
   "cell_type": "code",
   "execution_count": 76,
   "metadata": {},
   "outputs": [],
   "source": [
    "# select tax parcel data and uncompress\n",
    "TaxDir = os.path.join(idr,\"TaxParcels\")"
   ]
  },
  {
   "cell_type": "code",
   "execution_count": 156,
   "metadata": {},
   "outputs": [
    {
     "name": "stdout",
     "output_type": "stream",
     "text": [
      "['C:\\\\Workspace\\\\Geodata\\\\Massachusetts\\\\TaxParcels\\\\M003_parcels_gdb.zip', 'C:\\\\Workspace\\\\Geodata\\\\Massachusetts\\\\TaxParcels\\\\M020_parcels_gdb.zip', 'C:\\\\Workspace\\\\Geodata\\\\Massachusetts\\\\TaxParcels\\\\M036_parcels_gdb.zip', 'C:\\\\Workspace\\\\Geodata\\\\Massachusetts\\\\TaxParcels\\\\M041_parcels_gdb.zip', 'C:\\\\Workspace\\\\Geodata\\\\Massachusetts\\\\TaxParcels\\\\M042_parcels_gdb.zip', 'C:\\\\Workspace\\\\Geodata\\\\Massachusetts\\\\TaxParcels\\\\M052_parcels_gdb.zip', 'C:\\\\Workspace\\\\Geodata\\\\Massachusetts\\\\TaxParcels\\\\M055_parcels_gdb.zip', 'C:\\\\Workspace\\\\Geodata\\\\Massachusetts\\\\TaxParcels\\\\M062_parcels_gdb.zip', 'C:\\\\Workspace\\\\Geodata\\\\Massachusetts\\\\TaxParcels\\\\M072_parcels_gdb.zip', 'C:\\\\Workspace\\\\Geodata\\\\Massachusetts\\\\TaxParcels\\\\M075_parcels_gdb.zip', 'C:\\\\Workspace\\\\Geodata\\\\Massachusetts\\\\TaxParcels\\\\M082_parcels_gdb.zip', 'C:\\\\Workspace\\\\Geodata\\\\Massachusetts\\\\TaxParcels\\\\M086_parcels_gdb.zip', 'C:\\\\Workspace\\\\Geodata\\\\Massachusetts\\\\TaxParcels\\\\M089_parcels_gdb.zip', 'C:\\\\Workspace\\\\Geodata\\\\Massachusetts\\\\TaxParcels\\\\M094_parcels_gdb.zip', 'C:\\\\Workspace\\\\Geodata\\\\Massachusetts\\\\TaxParcels\\\\M096_parcels_gdb.zip', 'C:\\\\Workspace\\\\Geodata\\\\Massachusetts\\\\TaxParcels\\\\M104_parcels_gdb.zip', 'C:\\\\Workspace\\\\Geodata\\\\Massachusetts\\\\TaxParcels\\\\M109_parcels_gdb.zip', 'C:\\\\Workspace\\\\Geodata\\\\Massachusetts\\\\TaxParcels\\\\M118_parcels_gdb.zip', 'C:\\\\Workspace\\\\Geodata\\\\Massachusetts\\\\TaxParcels\\\\M126_parcels_gdb.zip', 'C:\\\\Workspace\\\\Geodata\\\\Massachusetts\\\\TaxParcels\\\\M145_parcels_gdb.zip', 'C:\\\\Workspace\\\\Geodata\\\\Massachusetts\\\\TaxParcels\\\\M146_parcels_gdb.zip', 'C:\\\\Workspace\\\\Geodata\\\\Massachusetts\\\\TaxParcels\\\\M169_parcels_gdb.zip', 'C:\\\\Workspace\\\\Geodata\\\\Massachusetts\\\\TaxParcels\\\\M172_parcels_gdb.zip', 'C:\\\\Workspace\\\\Geodata\\\\Massachusetts\\\\TaxParcels\\\\M173_parcels_gdb.zip', 'C:\\\\Workspace\\\\Geodata\\\\Massachusetts\\\\TaxParcels\\\\M182_parcels_gdb.zip', 'C:\\\\Workspace\\\\Geodata\\\\Massachusetts\\\\TaxParcels\\\\M197_parcels_gdb.zip', 'C:\\\\Workspace\\\\Geodata\\\\Massachusetts\\\\TaxParcels\\\\M201_parcels_gdb.zip', 'C:\\\\Workspace\\\\Geodata\\\\Massachusetts\\\\TaxParcels\\\\M221_parcels_gdb.zip', 'C:\\\\Workspace\\\\Geodata\\\\Massachusetts\\\\TaxParcels\\\\M224_parcels_gdb.zip', 'C:\\\\Workspace\\\\Geodata\\\\Massachusetts\\\\TaxParcels\\\\M231_parcels_gdb.zip', 'C:\\\\Workspace\\\\Geodata\\\\Massachusetts\\\\TaxParcels\\\\M239_parcels_gdb.zip', 'C:\\\\Workspace\\\\Geodata\\\\Massachusetts\\\\TaxParcels\\\\M240_parcels_gdb.zip', 'C:\\\\Workspace\\\\Geodata\\\\Massachusetts\\\\TaxParcels\\\\M242_parcels_gdb.zip', 'C:\\\\Workspace\\\\Geodata\\\\Massachusetts\\\\TaxParcels\\\\M250_parcels_gdb.zip', 'C:\\\\Workspace\\\\Geodata\\\\Massachusetts\\\\TaxParcels\\\\M261_parcels_gdb.zip', 'C:\\\\Workspace\\\\Geodata\\\\Massachusetts\\\\TaxParcels\\\\M296_parcels_gdb.zip', 'C:\\\\Workspace\\\\Geodata\\\\Massachusetts\\\\TaxParcels\\\\M300_parcels_gdb.zip', 'C:\\\\Workspace\\\\Geodata\\\\Massachusetts\\\\TaxParcels\\\\M310_parcels_gdb.zip', 'C:\\\\Workspace\\\\Geodata\\\\Massachusetts\\\\TaxParcels\\\\M318_parcels_gdb.zip', 'C:\\\\Workspace\\\\Geodata\\\\Massachusetts\\\\TaxParcels\\\\M327_parcels_gdb.zip', 'C:\\\\Workspace\\\\Geodata\\\\Massachusetts\\\\TaxParcels\\\\M334_parcels_gdb.zip', 'C:\\\\Workspace\\\\Geodata\\\\Massachusetts\\\\TaxParcels\\\\M351_parcels_gdb.zip']\n"
     ]
    }
   ],
   "source": [
    "# select tax parcel data and unzip all files\n",
    "# completed on 2023-03-30 \n",
    "TaxDirNames = fn_recursive_glob_search(TaxDir,'.zip')\n",
    "print(TaxDirNames)\n",
    "import zipfile\n",
    "for path_to_zip_file in TaxDirNames:\n",
    "    with zipfile.ZipFile(path_to_zip_file, 'r') as zip_ref:\n",
    "        zip_ref.extractall(TaxDir)"
   ]
  },
  {
   "cell_type": "code",
   "execution_count": 157,
   "metadata": {},
   "outputs": [
    {
     "name": "stdout",
     "output_type": "stream",
     "text": [
      "C:\\Workspace\\Geodata\\Massachusetts\\TaxParcels\\M003_parcels_CY22_FY22_sde.gdb\n",
      "C:\\Workspace\\Geodata\\Massachusetts\\TaxParcels\\M003_parcels_CY22_FY22_sde.gdb\\M003TaxPar\n"
     ]
    }
   ],
   "source": [
    "# get list of gdb file paths\n",
    "gdbpaths = fn_recursive_glob_search(TaxDir,'.gdb')\n",
    "print(gdbpaths[0])\n",
    "\n",
    "# get the town id for each file\n",
    "townIDs = [fn_regex_search_0(i,\"M\\d{3}\") for i in gdbpaths]\n",
    "#print(townIDs)\n",
    "\n",
    "def fn_make_filepaths(lyr,townIDs,gdbpaths):\n",
    "    # append the layer name to the town ids\n",
    "    lyrpaths = [\"\\\\\"+i+lyr for i in townIDs]\n",
    "\n",
    "    # join the laer with \n",
    "    filepaths = [gdbpaths[i]+lyrpaths[i] for i in range(len(lyrpaths))] \n",
    "    print(filepaths[0])\n",
    "    return(filepaths)\n",
    "filepaths = fn_make_filepaths(\"TaxPar\",townIDs,gdbpaths)"
   ]
  },
  {
   "cell_type": "code",
   "execution_count": 66,
   "metadata": {
    "scrolled": false
   },
   "outputs": [
    {
     "data": {
      "text/html": [
       "<div class='gpresult'><h2>Messages</h2><div id='messages' data-messages='[\"Start Time: Thursday, March 30, 2023 11:52:46 AM\",\"Succeeded at Thursday, March 30, 2023 11:53:09 AM (Elapsed Time: 22.45 seconds)\"]' data-show='true'><div id = 'default' /></div></div>"
      ],
      "text/plain": [
       "<Result 'C:\\\\Workspace\\\\Geodata\\\\MEP\\\\Default.gdb\\\\MEP_TaxPar'>"
      ]
     },
     "execution_count": 66,
     "metadata": {},
     "output_type": "execute_result"
    }
   ],
   "source": [
    "# merge all extracted gbd files into one dataset\n",
    "outname=\"MEP_TaxPar\"\n",
    "outpath=tdr # save it in the temp dir\n",
    "arcpy.management.Merge(filepaths, \n",
    "                       outname,\n",
    "                       \"\", \"ADD_SOURCE_INFO\")"
   ]
  },
  {
   "cell_type": "code",
   "execution_count": 88,
   "metadata": {},
   "outputs": [
    {
     "data": {
      "text/html": [
       "<div class='gpresult'><h2>Messages</h2><div id='messages' data-messages='[\"Start Time: Thursday, March 30, 2023 12:38:43 PM\",\"Succeeded at Thursday, March 30, 2023 12:38:50 PM (Elapsed Time: 6.57 seconds)\"]' data-show='true'><div id = 'default' /></div></div>"
      ],
      "text/plain": [
       "<Result 'C:\\\\Workspace\\\\Geodata\\\\MEP\\\\Default.gdb\\\\MEP_TaxPar_Copy'>"
      ]
     },
     "execution_count": 88,
     "metadata": {},
     "output_type": "execute_result"
    }
   ],
   "source": [
    "arcpy.management.Copy(\"MEP_TaxPar\", \"MEP_TaxPar_Copy\")"
   ]
  },
  {
   "cell_type": "code",
   "execution_count": 158,
   "metadata": {
    "scrolled": true
   },
   "outputs": [
    {
     "name": "stdout",
     "output_type": "stream",
     "text": [
      "C:\\Workspace\\Geodata\\Massachusetts\\TaxParcels\\M003_parcels_CY22_FY22_sde.gdb\\M003Assess\n"
     ]
    }
   ],
   "source": [
    "filepaths = fn_make_filepaths(\"Assess\",townIDs,gdbpaths)\n",
    "#fp = filepaths[0:1]\n",
    "#fps = filepaths[1:3]"
   ]
  },
  {
   "cell_type": "raw",
   "metadata": {},
   "source": [
    "# ran on 2023-03-30\n",
    "outdir = r\"C:\\Workspace\\Geodata\\Massachusetts\\TaxParcels\"\n",
    "intables = fn_make_filepaths(\"Assess\",townIDs,gdbpaths)\n",
    "i = 0 \n",
    "intable = intables[i]\n",
    "def fn_table_to_excel_regex(intable,outdir,regsearch=\"M\\d{3}[0-9a-zA-Z]+\"):\n",
    "    outname = fn_regex_search_0(intable,regsearch)\n",
    "    xlsfilepath = os.path.join(outdir,outname+\".xlsx\")\n",
    "    arcpy.conversion.TableToExcel(intable, \n",
    "                                  xlsfilepath, \n",
    "                                  \"NAME\", \n",
    "                                  \"CODE\")\n",
    "fn_table_to_excel_regex(intable,outdir)\n",
    "for intable in intables:\n",
    "    fn_table_to_excel_regex(intable,outdir)"
   ]
  },
  {
   "cell_type": "code",
   "execution_count": 180,
   "metadata": {},
   "outputs": [],
   "source": [
    "# get a list of xlsx files\n",
    "excel_files = fn_recursive_glob_search(TaxDir,'.xlsx')\n",
    "# read all th excel files as dataframes and store in a list\n",
    "dfs = [pd.read_excel(xlf) for xlf in excel_files]"
   ]
  },
  {
   "cell_type": "code",
   "execution_count": 181,
   "metadata": {},
   "outputs": [],
   "source": [
    "# concatenate all the excel files to one dataframe\n",
    "df = pd.concat(dfs)"
   ]
  },
  {
   "cell_type": "code",
   "execution_count": 182,
   "metadata": {},
   "outputs": [
    {
     "name": "stdout",
     "output_type": "stream",
     "text": [
      "<class 'pandas.core.frame.DataFrame'>\n",
      "Int64Index: 390881 entries, 0 to 18035\n",
      "Data columns (total 38 columns):\n",
      " #   Column      Non-Null Count   Dtype  \n",
      "---  ------      --------------   -----  \n",
      " 0   OBJECTID    390881 non-null  int64  \n",
      " 1   PROP_ID     390881 non-null  object \n",
      " 2   LOC_ID      390240 non-null  object \n",
      " 3   BLDG_VAL    390881 non-null  int64  \n",
      " 4   LAND_VAL    390881 non-null  int64  \n",
      " 5   OTHER_VAL   390881 non-null  int64  \n",
      " 6   TOTAL_VAL   390881 non-null  int64  \n",
      " 7   FY          390881 non-null  int64  \n",
      " 8   LOT_SIZE    390880 non-null  float64\n",
      " 9   LS_DATE     381481 non-null  float64\n",
      " 10  LS_PRICE    390237 non-null  float64\n",
      " 11  USE_CODE    390881 non-null  object \n",
      " 12  SITE_ADDR   390787 non-null  object \n",
      " 13  ADDR_NUM    379686 non-null  object \n",
      " 14  FULL_STR    390786 non-null  object \n",
      " 15  LOCATION    16922 non-null   object \n",
      " 16  CITY        390880 non-null  object \n",
      " 17  ZIP         163433 non-null  object \n",
      " 18  OWNER1      390662 non-null  object \n",
      " 19  OWN_ADDR    390248 non-null  object \n",
      " 20  OWN_CITY    390564 non-null  object \n",
      " 21  OWN_STATE   390211 non-null  object \n",
      " 22  OWN_ZIP     390407 non-null  object \n",
      " 23  OWN_CO      22463 non-null   object \n",
      " 24  LS_BOOK     344632 non-null  object \n",
      " 25  LS_PAGE     340551 non-null  object \n",
      " 26  REG_ID      32025 non-null   object \n",
      " 27  ZONING      286165 non-null  object \n",
      " 28  YEAR_BUILT  326901 non-null  float64\n",
      " 29  BLD_AREA    365327 non-null  float64\n",
      " 30  UNITS       344759 non-null  float64\n",
      " 31  RES_AREA    365327 non-null  float64\n",
      " 32  STYLE       352827 non-null  object \n",
      " 33  STORIES     350144 non-null  object \n",
      " 34  NUM_ROOMS   339419 non-null  float64\n",
      " 35  LOT_UNITS   390881 non-null  object \n",
      " 36  CAMA_ID     390881 non-null  int64  \n",
      " 37  TOWN_ID     390881 non-null  int64  \n",
      "dtypes: float64(8), int64(8), object(22)\n",
      "memory usage: 116.3+ MB\n"
     ]
    }
   ],
   "source": [
    "df.info()"
   ]
  },
  {
   "cell_type": "code",
   "execution_count": 184,
   "metadata": {},
   "outputs": [],
   "source": [
    "# write df to pickle, to unpickle, use pd.read_pickle(\"path_to_.pkl\")\n",
    "# reading pickle is much faster than csv, do this for files over 10MB\n",
    "df.to_pickle(os.path.join(wdr,\"outputs\",'MEP_TaxParAssess.pkl'))"
   ]
  },
  {
   "cell_type": "code",
   "execution_count": 185,
   "metadata": {},
   "outputs": [],
   "source": [
    "# write do csv\n",
    "df.to_csv(os.path.join(wdr,\"outputs\",'MEP_TaxParAssess.csv'))"
   ]
  },
  {
   "cell_type": "raw",
   "metadata": {},
   "source": [
    "# annoyingly, the add join feature \n",
    "i= 0\n",
    "print(intables[i])\n",
    "s = fn_regex_search_0(intables[i],\"gdb.*(M\\d{3}\\w*)\")\n",
    "x = fn_regex_search_0(s,\"M.*\")\n",
    "print(x)\n",
    "def fn_regex_rename_fields(fc):\n",
    "    fields = [field.name for field in arcpy.ListFields(fc)]\n",
    "    for fieldname in fields:\n",
    "        #print(fieldname)\n",
    "        s=fn_regex_search_0(fieldname,\"^M\\d{3}[0-9a-zA-Z]+.{1}\")\n",
    "        #print(s)\n",
    "        newname = fn_regex_search_replace(fieldname,s,\"\")\n",
    "        #print(newname)\n",
    "        if newname not in fields:\n",
    "            arcpy.management.AlterField(fc, fieldname, newname)\n",
    "fn_regex_rename_fields(outtables[i])"
   ]
  },
  {
   "cell_type": "code",
   "execution_count": 113,
   "metadata": {},
   "outputs": [],
   "source": [
    "outname=\"MEP_TaxPar_Copy\"\n",
    "intables = outtables\n",
    "out = arcpy.management.Merge(intables[0:2],\n",
    "                       outname,\n",
    "                       \"\", \"ADD_SOURCE_INFO\")\n",
    "#mx.addLayer(out)"
   ]
  },
  {
   "cell_type": "markdown",
   "metadata": {},
   "source": [
    "## Appendix"
   ]
  },
  {
   "cell_type": "markdown",
   "metadata": {},
   "source": [
    "lyrFile = arcpy.mp.LayerFile(outname)\n",
    "mx.addLayer(outname,'TOP')"
   ]
  },
  {
   "cell_type": "raw",
   "metadata": {},
   "source": [
    "# this step below is inefficient\n",
    "# we will first intersect the watershedboundaries with the parcels\n",
    "# then we pull\n",
    "# 2023-03-29 RESUME HERE!!! \n",
    "intable= \"MEP_TaxParcels\"\n",
    "jointables = [\"\\\\\"+i+\"Assess\" for i in townIDs]\n",
    "jointable = jointables[0]\n",
    "inID = \"LOC_ID\"\n",
    "joinID = \"LOC_ID\"\n",
    "#def  fn_wrapper():\n",
    "#    arcpy.management.AddJoin(\"M003TaxPar\", inID, \n",
    "#                         jointable, joinID, \n",
    "#                         \"KEEP_ALL\", \"NO_INDEX_JOIN_FIELDS\")\n",
    "\n",
    "for i in range(len(filepaths)):\n",
    "    jointable = gdbpaths[i]+jointables[i]\n",
    "    print(jointable)\n",
    "    arcpy.management.AddJoin(filepaths[i], inID, \n",
    "                         jointable, joinID, \n",
    "                         \"KEEP_ALL\", \"NO_INDEX_JOIN_FIELDS\")"
   ]
  },
  {
   "cell_type": "raw",
   "metadata": {},
   "source": [
    "# this block doesn't work\n",
    "intables = fn_make_filepaths(\"TaxPar\",townIDs,gdbpaths)\n",
    "jointables = fn_make_filepaths(\"Assess\",townIDs,gdbpaths)\n",
    "outtables = [i+\"Assess\" for i in intables]\n",
    "ifield = \"LOC_ID\"\n",
    "jfield = \"LOC_ID\"\n",
    "for i in range(len(intables[0:2])):\n",
    "    print(intables[i])\n",
    "    out = arcpy.management.AddJoin(intables[i],\n",
    "                             ifield,\n",
    "                             jointables[i],\n",
    "                             jfield,\n",
    "                             \"KEEP_COMMON\",\n",
    "                             \"NO_INDEX_JOIN_FIELDS\")\n",
    "    arcpy.management.CopyFeatures(out, outtables[i])\n",
    "    fn_regex_rename_fields(outtables[i])"
   ]
  }
 ],
 "metadata": {
  "kernelspec": {
   "display_name": "ArcGISPro",
   "language": "Python",
   "name": "python3"
  },
  "language_info": {
   "file_extension": ".py",
   "name": "python",
   "version": "3"
  }
 },
 "nbformat": 4,
 "nbformat_minor": 2
}
