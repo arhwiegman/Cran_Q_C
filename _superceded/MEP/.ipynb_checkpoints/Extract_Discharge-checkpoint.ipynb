{
 "cells": [
  {
   "cell_type": "markdown",
   "id": "f682951b",
   "metadata": {},
   "source": [
    "**Extract Flow Accumulation at Bogs**\n",
    "\n",
    "Adrian Wiegman\n",
    "\n",
    "2023-08-12\n",
    "\n",
    "-------"
   ]
  },
  {
   "cell_type": "markdown",
   "id": "c9e36dc6",
   "metadata": {
    "heading_collapsed": true
   },
   "source": [
    "## Description"
   ]
  },
  {
   "cell_type": "markdown",
   "id": "159f7739",
   "metadata": {
    "hidden": true
   },
   "source": [
    "This notebook turns raw data from LiDAR DEM, NHD flowlines, and polygons of cranberry bogs, into a layer of polygons representing the topographic catchments draining into each cranberry bog in southeast Massachusetts. \n",
    "\n",
    "Even though the lidar data as been hydro flattened/enforced, there are still a number of flowpaths that are not detected underneath highways (e.g. interstate I-495, I-195)\n",
    "\n",
    "The solution is to \"burn\" in stream flowlines from the national hydrography dataset. This is done by putting a buffer around the stream flowline network, then assigning an arbitary large value to the stream network polygon, then converting to raster and subtracting the stream elevations from the DEM. \n",
    "\n",
    "Once D8 flow direction and flow accumulation rasters have been made the primary objectives can be completed. \n",
    "\n",
    "Data Sources:\n",
    "\n",
    "1. Mass GIS Lidar DEM (1ft vertical resolution, ~1m horizontal resolution)\n",
    "2. USGS National Hydrography Dataset\n",
    "- Flow lines\n",
    "3. Cranberry bogs layer\n",
    "\n",
    "Steps of Processing: \n",
    "\n",
    "1. Prepare Lidar\n",
    "   - 1M Lidar Elevation -> Clip to study area -> \n",
    "   - Resample to 10m resolution using aggregate minimum cell value\n",
    "   - Fill Sinks \n",
    "\n",
    "2. Prepare Flowlines\n",
    "   - combine flowlines into one layer\n",
    "   - dissolve flowlines\n",
    "   - buffer flowlines to 3x the resolution of processed lidar. \n",
    "       - buffering width of 15m \n",
    "   - convert to raster\n",
    "3. Burn in flow lines\n",
    "    - assign a value of -100 feet to flow lines\n",
    "    - add flowlines to existing elevation (subtract 100 feet)\n",
    "    \n",
    "4. fill sinks (again)\n",
    "5. D8 Flow Direction \n",
    "6. Flow Accumulation\n",
    "7. Generate Bog Pour Points\n",
    "    - find maximum flow accumulation value inside each bog.\n",
    "    - generate a point at each bog maximum value.\n",
    "    - identity to get cranberry bog attributes at each point.\n",
    "8. Delineate Basins for each point\n",
    "    - with the bog cranberry points loop through each point\n",
    "        - delineate watershed using the bog pour point and the D8 flow direction\n",
    "        - save the output to a temp file with the feature ID ('FID') of the cranberry bog. \n",
    "    - merge all cranberry bog basins to one polygon layer, containing the FID of the cranberry bog. "
   ]
  },
  {
   "cell_type": "markdown",
   "id": "2d59851c",
   "metadata": {},
   "source": [
    "## Setup Environment"
   ]
  },
  {
   "cell_type": "code",
   "execution_count": 25,
   "id": "9d478e88",
   "metadata": {},
   "outputs": [
    {
     "name": "stdout",
     "output_type": "stream",
     "text": [
      "The autoreload extension is already loaded. To reload it, use:\n",
      "  %reload_ext autoreload\n",
      "***\n",
      "loading python modules...\n",
      "\n",
      "  `module_list` contains names of all loaded modules\n",
      "\n",
      "...module loading complete\n",
      "\n",
      "***\n",
      "loading user defined functions...\n",
      "\n",
      "type `fn_`+TAB to for autocomplete suggestions\n",
      "\n",
      " the object `def_list` contains user defined function names:\n",
      "   fn_get_info\n",
      "   fn_arcgis_table_to_df\n",
      "   fn_arcgis_table_to_np_to_pd_df\n",
      "   fn_run_script_w_propy_bat\n",
      "   fn_try_mkdir\n",
      "   fn_hello\n",
      "   fn_recursive_glob_search\n",
      "   fn_regex_search_replace\n",
      "   fn_regex_search_0\n",
      "   fn_arcpy_table_to_excel\n",
      "   fn_agg_sum_df_on_group\n",
      "   fn_add_prefix_suffix_to_selected_cols\n",
      "   fn_calc_pct_cover_within_groups\n",
      "   fn_buildWhereClauseFromList\n",
      "\n",
      " use ??{insert fn name} to inspect\n",
      " for example running `??fn_get_info` returns:\n",
      "\u001b[1;31mSignature:\u001b[0m \u001b[0mfn_get_info\u001b[0m\u001b[1;33m(\u001b[0m\u001b[0mname\u001b[0m\u001b[1;33m=\u001b[0m\u001b[1;34m'fn_get_info'\u001b[0m\u001b[1;33m)\u001b[0m\u001b[1;33m\u001b[0m\u001b[1;33m\u001b[0m\u001b[0m\n",
      "\u001b[1;31mSource:\u001b[0m   \n",
      "\u001b[1;32mdef\u001b[0m \u001b[0mfn_get_info\u001b[0m\u001b[1;33m(\u001b[0m\u001b[0mname\u001b[0m\u001b[1;33m=\u001b[0m\u001b[1;34m'fn_get_info'\u001b[0m\u001b[1;33m)\u001b[0m\u001b[1;33m:\u001b[0m\u001b[1;33m\n",
      "\u001b[0m    \u001b[1;34m'''\n",
      "    returns the source information about a given function name\n",
      "    '''\u001b[0m\u001b[1;33m\n",
      "\u001b[0m    \u001b[0mget_ipython\u001b[0m\u001b[1;33m(\u001b[0m\u001b[1;33m)\u001b[0m\u001b[1;33m.\u001b[0m\u001b[0mrun_line_magic\u001b[0m\u001b[1;33m(\u001b[0m\u001b[1;34m'pinfo2'\u001b[0m\u001b[1;33m,\u001b[0m \u001b[1;34m'$name'\u001b[0m\u001b[1;33m)\u001b[0m\u001b[1;33m\u001b[0m\u001b[1;33m\u001b[0m\u001b[0m\n",
      "\u001b[1;31mFile:\u001b[0m      c:\\windows\\system32\\<ipython-input-1-28f96385f735>\n",
      "\u001b[1;31mType:\u001b[0m      function\n",
      "\n",
      " you can also use `fn_get_info(name={insert fn name})` to do the same thing as `??{insert fn name}`\n",
      "\n",
      "...function loading complete\n",
      "\n",
      "\n",
      "***\n",
      "setting up arcpy environment...\n",
      "\n",
      " input file directory (`idr`): C:\\Workspace\\Geodata\\Massachusetts\\\n",
      " working directory (`wdr`): C:\\Workspace\\Geodata\\MEP\\\n",
      " default geodatabase path: C:\\Workspace\\Geodata\\MEP\\Default.gdb\n",
      " temp dir (`tdr.name`): C:\\Users\\ADRIAN~1.WIE\\AppData\\Local\\Temp\\ArcGISProTemp27220\\tmpud8ph71g\n",
      " output dir (`odr`): C:\\Workspace\\Geodata\\MEP\\outputs\n",
      " output coordinate system: NAD_1983_UTM_Zone_19N\n",
      "\n",
      "... env setup complete\n",
      "\n",
      "\n",
      "+++SETUP COMPLETE+++\n",
      "\n",
      "\n"
     ]
    }
   ],
   "source": [
    "# iphython options\n",
    "# delete variables in workspace\n",
    "%reset -f\n",
    "#places plots inline\n",
    "%matplotlib inline\n",
    "#automatically reloads modules if they are changed\n",
    "%load_ext autoreload \n",
    "%autoreload 2\n",
    "# this codeblock sets up the environment from jupyter notebooks\n",
    "setup_notebook = \"C:/Users/Adrian.Wiegman/Documents/GitHub/Wiegman_USDA_ARS/MEP/_Setup.ipynb\"\n",
    "%run $setup_notebook # magic command to run the notebook "
   ]
  },
  {
   "cell_type": "code",
   "execution_count": 26,
   "id": "ea501ae3",
   "metadata": {},
   "outputs": [
    {
     "name": "stdout",
     "output_type": "stream",
     "text": [
      "C:\\Workspace\\Geodata\\Verify_Discharge\n"
     ]
    }
   ],
   "source": [
    "wdr = r\"C:\\Workspace\\Geodata\\Verify_Discharge\"\n",
    "print(wdr)"
   ]
  },
  {
   "cell_type": "code",
   "execution_count": 27,
   "id": "b6310955",
   "metadata": {
    "scrolled": true
   },
   "outputs": [],
   "source": [
    "# Create new file geodatabase to store results\\n\",\n",
    "gdb = \"Verify_Discharge.gdb\"\n",
    "\n",
    "ap.env.workspace = os.path.join(wdr,gdb)"
   ]
  },
  {
   "cell_type": "code",
   "execution_count": 28,
   "id": "e759a4c6",
   "metadata": {},
   "outputs": [
    {
     "data": {
      "text/plain": [
       "0.35976425532343725"
      ]
     },
     "execution_count": 28,
     "metadata": {},
     "output_type": "execute_result"
    }
   ],
   "source": [
    "# Compute conversion factor to translate \n",
    "cell_size = 13.778565541850835\n",
    "FA_to_Q = (cell_size)**2 * 27.25 * 2.54 * (1/100) * (1/365.25)\n",
    "FA_to_Q"
   ]
  },
  {
   "cell_type": "code",
   "execution_count": 29,
   "id": "02526681",
   "metadata": {},
   "outputs": [],
   "source": [
    "files = [\"C:\\Workspace\\Geodata\\MEP\\gwbogsheds.gdb\\FA_D8_gwe_bf\",\n",
    "\"C:\\Workspace\\Geodata\\MEP\\gwbogsheds.gdb\\FA_D8_gwe_bf_lt1m\",\n",
    "\"C:\\Workspace\\Geodata\\MEP\\Default.gdb\\LidAg10BF_FlowAcc\",\n",
    "\"C:\\Workspace\\Geodata\\MEP\\gwbogsheds.gdb\\FA_Dinf_gwe_bf\",\n",
    "\"C:\\Workspace\\Geodata\\MEP\\gwbogsheds.gdb\\FA_Dinf_gwe_bf_lt1m\"]\n",
    "import re\n",
    "names = [re.search(\"\\.gdb\\\\\\(.*)\",x)[1] for x in files]"
   ]
  },
  {
   "cell_type": "code",
   "execution_count": 31,
   "id": "6b549c22",
   "metadata": {},
   "outputs": [],
   "source": [
    "in_feat = r\"C:\\Workspace\\Geodata\\MEP\\gwbogsheds.gdb\\bogs\"\n",
    "for i in range(len(files)):\n",
    "    out_raster = arcpy.ia.ZonalStatistics(\n",
    "        in_zone_data=in_feat,\n",
    "        zone_field=\"ID\",\n",
    "        in_value_raster=files[i],\n",
    "        statistics_type=\"MAXIMUM\",\n",
    "        ignore_nodata=\"DATA\",\n",
    "        process_as_multidimensional=\"CURRENT_SLICE\",\n",
    "        percentile_value=90,\n",
    "        percentile_interpolation_type=\"AUTO_DETECT\",\n",
    "        circular_calculation=\"ARITHMETIC\",\n",
    "        circular_wrap_value=360)\n",
    "    out_rast_name = \"ZS_MAX_\"+names[i]\n",
    "    out_raster.save(out_rast_name)\n",
    "    "
   ]
  },
  {
   "cell_type": "code",
   "execution_count": 33,
   "id": "f6811454",
   "metadata": {
    "scrolled": true
   },
   "outputs": [
    {
     "data": {
      "text/html": [
       "<div class='gpresult'><h2>Messages</h2><div id='messages' data-messages='[\"Start Time: Saturday, August 12, 2023 4:30:04 PM\",\"Succeeded at Saturday, August 12, 2023 4:30:06 PM (Elapsed Time: 2.46 seconds)\"]' data-show='true'><div id = 'default' /></div></div>"
      ],
      "text/plain": [
       "<Result 'C:\\\\Workspace\\\\Geodata\\\\Verify_Discharge\\\\Verify_Discharge.gdb\\\\bogs'>"
      ]
     },
     "execution_count": 33,
     "metadata": {},
     "output_type": "execute_result"
    }
   ],
   "source": [
    "# make copy of bogs\n",
    "arcpy.management.CopyFeatures(\n",
    "    in_features=r\"C:\\Workspace\\Geodata\\MEP\\gwbogsheds.gdb\\bogs\",\n",
    "    out_feature_class=r\"C:\\Workspace\\Geodata\\Verify_Discharge\\Verify_Discharge.gdb\\bogs\")"
   ]
  },
  {
   "cell_type": "code",
   "execution_count": 44,
   "id": "a5b60dfe",
   "metadata": {},
   "outputs": [
    {
     "data": {
      "text/html": [
       "<div class='gpresult'><h2>Messages</h2><div id='messages' data-messages='[\"Start Time: Saturday, August 12, 2023 4:42:27 PM\",\"Succeeded at Saturday, August 12, 2023 4:42:29 PM (Elapsed Time: 2.75 seconds)\"]' data-show='true'><div id = 'default' /></div></div>"
      ],
      "text/plain": [
       "<Result 'C:\\\\Workspace\\\\Geodata\\\\Verify_Discharge\\\\Verify_Discharge.gdb\\\\bogs_points'>"
      ]
     },
     "execution_count": 44,
     "metadata": {},
     "output_type": "execute_result"
    }
   ],
   "source": [
    "# generate one point inside each bog\n",
    "arcpy.management.FeatureToPoint(\n",
    "    in_features=\"bogs\",\n",
    "    out_feature_class=r\"bogs_points\",\n",
    "    point_location=\"INSIDE\")"
   ]
  },
  {
   "cell_type": "code",
   "execution_count": 47,
   "id": "1082bb29",
   "metadata": {},
   "outputs": [],
   "source": [
    "# generate string of rasters to \n",
    "_ = [\"{} {}\".format(files[i],names[i]) for i in range(len(files))]\n",
    "in_rasters = \";\".join(_)\n",
    "# resume here. make string for multiple files raster extract"
   ]
  },
  {
   "cell_type": "code",
   "execution_count": 48,
   "id": "6e65266c",
   "metadata": {},
   "outputs": [
    {
     "data": {
      "text/html": [
       "<div class='gpresult'><h2>Messages</h2><div id='messages' data-messages='[\"Start Time: Saturday, August 12, 2023 4:43:19 PM\",\"Succeeded at Saturday, August 12, 2023 4:43:24 PM (Elapsed Time: 4.78 seconds)\"]' data-show='true'><div id = 'default' /></div></div>"
      ],
      "text/plain": [
       "<geoprocessing server result object object at 0x000001786A81DCF0>"
      ]
     },
     "execution_count": 48,
     "metadata": {},
     "output_type": "execute_result"
    }
   ],
   "source": [
    "arcpy.sa.ExtractMultiValuesToPoints(\n",
    "    in_point_features=\"bogs_points\",\n",
    "    in_rasters=in_rasters,\n",
    "    bilinear_interpolate_values=\"NONE\")"
   ]
  },
  {
   "cell_type": "code",
   "execution_count": 49,
   "id": "2a638c39",
   "metadata": {
    "scrolled": true
   },
   "outputs": [
    {
     "name": "stdout",
     "output_type": "stream",
     "text": [
      "FA_D8_gwe_bf\n"
     ]
    },
    {
     "ename": "ExecuteError",
     "evalue": "ERROR 000539: Invalid field ZS_MAX_FA_D8_gwe_bf\nFailed to execute (CalculateField).\n",
     "output_type": "error",
     "traceback": [
      "\u001b[0;31m---------------------------------------------------------------------------\u001b[0m\n\u001b[0;31mExecuteError\u001b[0m                              Traceback (most recent call last)",
      "In  \u001b[0;34m[49]\u001b[0m:\nLine \u001b[0;34m7\u001b[0m:     arcpy.management.CalculateField(\n",
      "File \u001b[0;34mC:\\Program Files\\ArcGIS\\Pro\\Resources\\ArcPy\\arcpy\\management.py\u001b[0m, in \u001b[0;32mCalculateField\u001b[0m:\nLine \u001b[0;34m6187\u001b[0m:  \u001b[34mraise\u001b[39;49;00m e\n",
      "File \u001b[0;34mC:\\Program Files\\ArcGIS\\Pro\\Resources\\ArcPy\\arcpy\\management.py\u001b[0m, in \u001b[0;32mCalculateField\u001b[0m:\nLine \u001b[0;34m6184\u001b[0m:  retval = convertArcObjectToPythonObject(gp.CalculateField_management(*gp_fixargs((in_table, field, expression, expression_type, code_block, field_type, enforce_domains), \u001b[34mTrue\u001b[39;49;00m)))\n",
      "File \u001b[0;34mC:\\Program Files\\ArcGIS\\Pro\\Resources\\ArcPy\\arcpy\\geoprocessing\\_base.py\u001b[0m, in \u001b[0;32m<lambda>\u001b[0m:\nLine \u001b[0;34m512\u001b[0m:   \u001b[34mreturn\u001b[39;49;00m \u001b[34mlambda\u001b[39;49;00m *args: val(*gp_fixargs(args, \u001b[34mTrue\u001b[39;49;00m))\n",
      "\u001b[0;31mExecuteError\u001b[0m: ERROR 000539: Invalid field ZS_MAX_FA_D8_gwe_bf\nFailed to execute (CalculateField).\n\n\u001b[0;31m---------------------------------------------------------------------------\u001b[0m"
     ]
    }
   ],
   "source": [
    "# calculate flow for all flow accumulation layers\n",
    "for n in names:\n",
    "    print(n)\n",
    "    n\n",
    "    _ = re.search(\"ZS_MAX_(.*)\",long_name)\n",
    "    short_name = re.sub(\"FA\",\"\",re.sub(\"_\",\"\",_[1]))\n",
    "    arcpy.management.CalculateField(\n",
    "        in_table=r\"C:\\Workspace\\Geodata\\Verify_Discharge\\Verify_Discharge.gdb\\bogs_points\",\n",
    "        field=\"Q_m3d_{}\".format(short_name),\n",
    "        expression=\"!{}!*{}\".format(long_name,FA_to_Q),\n",
    "        expression_type=\"PYTHON3\",\n",
    "        code_block=\"\",\n",
    "        field_type=\"DOUBLE\",\n",
    "        enforce_domains=\"NO_ENFORCE_DOMAINS\")"
   ]
  },
  {
   "cell_type": "markdown",
   "id": "86cb96f9",
   "metadata": {},
   "source": [
    "FA = Flow accumulation (number of cells draining to a point)\n",
    "w = width of cell in distance units (10 meters)\n",
    "l = length of cell in distance units (10 meters)\n",
    "\n",
    "A = FA * cell_size^2\n",
    "\n",
    "cell size is the side length of the grid cells\n",
    "\n",
    "A = FA * 100 m^2/cell\n",
    "\n",
    "Q = A * r\n",
    "\n",
    "where r is recharge rate \n",
    "27.25 in/yr \n",
    "\n",
    "m3/d =  27.25 in/yr * 2.54 cm/in * 1/100 m/cm *  1/365.25 yr/d\n",
    "\n"
   ]
  },
  {
   "cell_type": "code",
   "execution_count": 27,
   "id": "993f0e1e",
   "metadata": {},
   "outputs": [
    {
     "data": {
      "text/html": [
       "<div class='gpresult'><h2>Messages</h2><div id='messages' data-messages='[\"Start Time: Friday, August 11, 2023 6:15:16 PM\",\"Succeeded at Friday, August 11, 2023 6:15:17 PM (Elapsed Time: 0.84 seconds)\"]' data-show='true'><div id = 'default' /></div></div>"
      ],
      "text/plain": [
       "<Result 'C:\\\\Workspace\\\\Geodata\\\\Verify_Discharge\\\\outputs\\\\df_Q_bogs_streams_XYTableToPoint_TableToExcel.xls'>"
      ]
     },
     "execution_count": 27,
     "metadata": {},
     "output_type": "execute_result"
    }
   ],
   "source": [
    "arcpy.conversion.TableToExcel(\n",
    "    Input_Table=\"df_Q_bogs_streams_XYTableToPoint\",\n",
    "    Output_Excel_File=r\"C:\\Workspace\\Geodata\\Verify_Discharge\\outputs\\df_Q_bogs_streams_XYTableToPoint_TableToExcel.xls\",\n",
    "    Use_field_alias_as_column_header=\"NAME\",\n",
    "    Use_domain_and_subtype_description=\"CODE\"\n",
    ")"
   ]
  }
 ],
 "metadata": {
  "kernelspec": {
   "display_name": "ArcGISPro",
   "language": "Python",
   "name": "python3"
  },
  "language_info": {
   "file_extension": ".py",
   "name": "python",
   "version": "3"
  }
 },
 "nbformat": 4,
 "nbformat_minor": 5
}
