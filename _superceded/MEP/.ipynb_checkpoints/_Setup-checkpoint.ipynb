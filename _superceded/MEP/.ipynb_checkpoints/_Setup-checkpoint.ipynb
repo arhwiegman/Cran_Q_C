{
 "cells": [
  {
   "cell_type": "raw",
   "metadata": {},
   "source": [
    "# use this codeblock sets up the environment from a jupyter notebook\n",
    "setup_notebook = \"C:/Users/Adrian.Wiegman/Documents/GitHub/Wiegman_USDA_ARS/MEP/_Setup.ipynb\"\n",
    "%run $setup_notebook # magic command to run the notebook "
   ]
  },
  {
   "cell_type": "raw",
   "metadata": {},
   "source": [
    "# use this codeblock sets up the environment from python scripts within a jupyter notebook\n",
    "import sys\n",
    "# Insert the path of modules folder \n",
    "sys.path.append(r\"C:\\Users\\Adrian.Wiegman\\Documents\\GitHub\\Wiegman_USDA_ARS\\MEP\\scripts\")\n",
    "# Import the module0 directly since \n",
    "# the current path is of modules.\n",
    "%run -m functions\n",
    "%run -m setup_environment"
   ]
  },
  {
   "cell_type": "markdown",
   "metadata": {},
   "source": [
    "https://pro.arcgis.com/en/pro-app/latest/arcpy/mapping/tutorial-getting-started-with-arcpy-mp.htm"
   ]
  },
  {
   "cell_type": "code",
   "execution_count": null,
   "metadata": {},
   "outputs": [],
   "source": [
    "# reset all variables\n",
    "%reset -f"
   ]
  },
  {
   "cell_type": "code",
   "execution_count": 34,
   "metadata": {},
   "outputs": [
    {
     "name": "stdout",
     "output_type": "stream",
     "text": [
      "***\n",
      "loading python modules...\n",
      "\n",
      "  `module_list` contains names of all loaded modules\n",
      "\n",
      "...module loading complete\n",
      "\n"
     ]
    }
   ],
   "source": [
    "# Load dependancies ***************************************\n",
    "print(\"***\\nloading python modules...\\n\")\n",
    "import arcpy\n",
    "import arcpy as ap\n",
    "import os, glob, re, sys, tempfile\n",
    "import pandas as pd\n",
    "import numpy as np\n",
    "#import scipy.stats\n",
    "\n",
    "# make a list of loaded modules\n",
    "module_list = [module.__name__ for module in sys.modules.values()]\n",
    "print(\"  `module_list` contains names of all loaded modules\")\n",
    "print(\"\\n...module loading complete\\n\")"
   ]
  },
  {
   "cell_type": "code",
   "execution_count": 12,
   "metadata": {},
   "outputs": [
    {
     "name": "stdout",
     "output_type": "stream",
     "text": [
      "***\n",
      "loading user defined functions...\n",
      "\n",
      "type `fn_`+TAB to for autocomplete suggestions\n",
      "\n",
      " the object `def_list` contains user defined function names:\n",
      "   fn_get_info\n",
      "   fn_try_mkdir\n",
      "   fn_hello\n",
      "   fn_recursive_glob_search\n",
      "   fn_regex_search_replace\n",
      "   fn_regex_search_0\n",
      "   fn_arcpy_table_to_excel\n",
      "   fn_arcgis_table_to_df\n",
      "   fn_arcgis_table_to_np_to_pd_df\n",
      "   value\n",
      "\n",
      " use ??{insert fn name} to inspect\n",
      " for example running `??fn_get_info` returns:\n",
      "\u001b[1;31mSignature:\u001b[0m \u001b[0mfn_get_info\u001b[0m\u001b[1;33m(\u001b[0m\u001b[0mname\u001b[0m\u001b[1;33m=\u001b[0m\u001b[1;34m'fn_get_info'\u001b[0m\u001b[1;33m)\u001b[0m\u001b[1;33m\u001b[0m\u001b[1;33m\u001b[0m\u001b[0m\n",
      "\u001b[1;31mSource:\u001b[0m   \n",
      "\u001b[1;32mdef\u001b[0m \u001b[0mfn_get_info\u001b[0m\u001b[1;33m(\u001b[0m\u001b[0mname\u001b[0m\u001b[1;33m=\u001b[0m\u001b[1;34m'fn_get_info'\u001b[0m\u001b[1;33m)\u001b[0m\u001b[1;33m:\u001b[0m\u001b[1;33m\n",
      "\u001b[0m    \u001b[1;34m'''\n",
      "    returns the source information about a given function name\n",
      "    '''\u001b[0m\u001b[1;33m\n",
      "\u001b[0m    \u001b[0mget_ipython\u001b[0m\u001b[1;33m(\u001b[0m\u001b[1;33m)\u001b[0m\u001b[1;33m.\u001b[0m\u001b[0mrun_line_magic\u001b[0m\u001b[1;33m(\u001b[0m\u001b[1;34m'pinfo2'\u001b[0m\u001b[1;33m,\u001b[0m \u001b[1;34m'$name'\u001b[0m\u001b[1;33m)\u001b[0m\u001b[1;33m\u001b[0m\u001b[1;33m\u001b[0m\u001b[0m\n",
      "\u001b[1;31mFile:\u001b[0m      c:\\workspace\\geodata\\mep\\<ipython-input-1-28f96385f735>\n",
      "\u001b[1;31mType:\u001b[0m      function\n",
      "\n",
      " you can also use `fn_get_info(name={insert fn name})` to do the same thing as `??{insert fn name}`\n",
      "\n",
      "...function loading complete\n",
      "\n"
     ]
    }
   ],
   "source": [
    "# there are many ways to import functions https://stackoverflow.com/questions/42163470/how-to-execute-a-py-file-from-a-ipynb-file-on-the-jupyter-notebook\n",
    "print(\"***\\nloading user defined functions...\\n\")\n",
    "function_notebook = \"C:/Users/Adrian.Wiegman/Documents/GitHub/Wiegman_USDA_ARS/MEP/_Functions.ipynb\"\n",
    "\n",
    "# here we use the magic command %run to execute the file specified in the string function_notebook\n",
    "%run $function_notebook\n",
    "\n",
    "# print user defined functions\n",
    "print(\"\\n the object `def_list` contains user defined function names:\")\n",
    "copy_dict = dict(locals())\n",
    "def_list = []\n",
    "for key, value in copy_dict.items():\n",
    "    if callable(value) and value.__module__ == __name__:\n",
    "        print('  ',key)\n",
    "        def_list.append(key)\n",
    "        \n",
    "print(\"\\n use ??{insert fn name} to inspect\")\n",
    "\n",
    "print(\" for example running `??fn_get_info` returns:\")\n",
    "name = \"fn_get_info\"\n",
    "??$name\n",
    "\n",
    "print(\"\\n you can also use `fn_get_info(name={insert fn name})` to do the same thing as `??{insert fn name}`\")\n",
    "#fn_get_info(\"fn_get_info\")\n",
    "       \n",
    "print(\"\\n...function loading complete\\n\")"
   ]
  },
  {
   "cell_type": "code",
   "execution_count": 11,
   "metadata": {},
   "outputs": [
    {
     "name": "stdout",
     "output_type": "stream",
     "text": [
      "\n",
      "***\n",
      "setting up arcpy environment...\n",
      "\n",
      " input file directory (`idr`): C:\\Workspace\\Geodata\\Massachusetts\\\n",
      " working directory (`wdr`): C:\\Workspace\\Geodata\\MEP\\\n",
      " default geodatabase path: C:\\Workspace\\Geodata\\MEP\\Default.gdb\n",
      " temp dir (`tdr`): <TemporaryDirectory 'C:\\\\Users\\\\ADRIAN~1.WIE\\\\AppData\\\\Local\\\\Temp\\\\ArcGISProTemp26116\\\\tmpvw61nzir'>\n",
      " output dir (`odr`): C:\\Workspace\\Geodata\\MEP\\outputs\n",
      " output coordinate system: NAD_1983_UTM_Zone_19N\n",
      "\n",
      "... env setup complete\n",
      "\n"
     ]
    }
   ],
   "source": [
    "# Set up arcpy environment ******************************\n",
    "print(\"\\n***\\nsetting up arcpy environment...\\n\")\n",
    "\n",
    "# input data directory\n",
    "idr = \"C:\\\\Workspace\\\\Geodata\\\\Massachusetts\\\\\"\n",
    "print(\" input file directory (`idr`):\",idr)\n",
    "\n",
    "# working directory this should be where arcgis project is located\n",
    "wdr = \"C:\\\\Workspace\\\\Geodata\\\\MEP\\\\\"\n",
    "print(\" working directory (`wdr`):\",wdr)\n",
    "\n",
    "# create an object for managing the project. \n",
    "aprx = arcpy.mp.ArcGISProject(\"Current\") # current project\n",
    "\n",
    "# select default geodatabase\n",
    "gdb_default = os.path.join(wdr,\"Default.gdb\")\n",
    "aprx.defaultGeodatabase = gdb_default\n",
    "print(\" default geodatabase path:\",gdb_default)\n",
    "\n",
    "# set the path for the arcpy environment inside the default geodatabase\n",
    "ap.env.workspace = gdb_default\n",
    "\n",
    "# temporary directory\n",
    "tdr = tempfile.TemporaryDirectory()\n",
    "print(' temp dir (`tdr`):',tdr)\n",
    "#temp_dir_name = \"temp\"\n",
    "#tdr = os.path.join(wdr,temp_dir_name)\n",
    "#os.rmdir(tdr)\n",
    "#fn_try_mkdir(temp_dir_name)\n",
    "\n",
    "# output directory\n",
    "output_dir_name = \"outputs\"\n",
    "odr = os.path.join(wdr,output_dir_name)\n",
    "fn_try_mkdir(odr)\n",
    "print(\" output dir (`odr`):\",odr)\n",
    "\n",
    "# create an objhect for managing the map\n",
    "mx = aprx.listMaps(\"Map\")[0]\n",
    "\n",
    "ap.CheckOutExtension(\"Spatial\") # check out spatial extension\n",
    "\n",
    "# manage coordinate system\n",
    "ap.env.outputCoordinateSystem = arcpy.SpatialReference(\"NAD 1983 UTM Zone 19N\") # define cordinate system\n",
    "print(\" output coordinate system:\", ap.env.outputCoordinateSystem.name)\n",
    "\n",
    "# Allow overwriting of output\n",
    "arcpy.env.overwriteOutput = True\n",
    "#ap.SetProgressor(\"step\", \"processing...\", step_value = 5)\n",
    "\n",
    "print(\"\\n... env setup complete\\n\")"
   ]
  },
  {
   "cell_type": "code",
   "execution_count": null,
   "metadata": {},
   "outputs": [],
   "source": [
    "print(\"\\n+++SETUP COMPLETE+++\\n\\n\")"
   ]
  }
 ],
 "metadata": {
  "kernelspec": {
   "display_name": "ArcGISPro",
   "language": "Python",
   "name": "python3"
  },
  "language_info": {
   "file_extension": ".py",
   "name": "python",
   "version": "3"
  }
 },
 "nbformat": 4,
 "nbformat_minor": 2
}
