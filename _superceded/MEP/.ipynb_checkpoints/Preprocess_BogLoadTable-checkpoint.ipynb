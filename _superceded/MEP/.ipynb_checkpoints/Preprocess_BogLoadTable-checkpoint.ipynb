{
 "cells": [
  {
   "cell_type": "markdown",
   "id": "186091c1",
   "metadata": {},
   "source": [
    "# Preprocess Bog Loading Table\n",
    "\n",
    "2023-07-13\n",
    "\n",
    "Adrian Wiegman\n",
    "\n",
    "-----\n",
    "\n",
    "This notebook I put construct a table of estimated nitrogen loadings to cranberry bogs in southeastern MA. There are a number of assumptions and prior data processing steps required to generate the estimated Nitrogen loads.\n",
    "\n",
    "Below is a variable dictionary\n",
    "\n",
    "Variable | Data Type or Units | Description | Notes and Completion Status |\n",
    "---|---|---|---\n",
    "bogFID | Char | `FID` From the WMA bogs 2013 Draft Layer | \n",
    "Embayment | Char | Name of the Embayment that the bog drains to | \n",
    "Region | Char | e.g. Buzzards Bay, Islands, Cape Cod | \n",
    "Status | Character | Active or Retired | \n",
    "In_Terminus | binary 1 or 0 | Bogs that fall in the bottom 5th percentile of elevation of their subcatchment | In terminus bogs are assumed to recieve the full proportion of their topograhic drainage area (Drainage_Area_m2)\n",
    "Surface_Area_m2 | m-2 | The cranberry bog surface area from the WMAbogs layer polygons |\n",
    "Drainage_Area_m2| m-2 | The topographic drainage area estimate for the bog | we need to be wary of groundwater underflow in Terminus vs Non terminus bogs \n",
    "NO3_gm3| g N m-3 | Estimated NO3 concentration based on geostatistical model |\n",
    "TN_gm3 | g N m-3 | Estimated TN concentration based on relationship between NO3 and TN |\n",
    "Impervious_pct | % | percent impervious within bog drainage area estimated from NLCD data |\n",
    "Recharge_Rate_MEP | m y-1 | Calculated from the weighed average of the impervious recharge rate (40\" y-1) and vegetated recharge rate (27.5\" y-1)\n",
    "Q_m3d | m-3 d | Estimated discharge through bog, the product of Recharge_Rate_MEP and Drainage_Area_m2 | this may be an over estimate due to groundwater underflow\n",
    "HLR_md | m d-1 | Hydraulic loading rate = Q / Surface_Area | This is important design parameter for wetland restoration\n",
    "HRT_10cm_d | d | Hydraulic residence time with an average depth of 10cm over the entire bog surface area | \n",
    "Area_HLR_lt_0p1 |  m2  |  Area required to achieve hydraulic loading rate less than 0.1 m-2 per day | Crumpton et al. suggest that the odds of removal efficiencies greater than 40% go up when HLR < 0.1\n",
    "NRE_Crumpton | % | Estimated N Removal Efficiency from the Crumpton et al. model |\n",
    "N_Removal_Crumpton | kg N y-1 | N Removal based on Crumpton et al. model |\n",
    "NO3_Load_kgy | kg N y-1 | product of NO3_Conc and Q |\n",
    "TN_Load_kgy | kg N y-1 | product of TN_Conc and Q\n",
    "N_load_NLM_kgy | kg N y-1 | load estimated from NLM model using landcover based loading rates, attenuation coefficients, septic, wastewater, and landfill loads | \n",
    "N_Loading_Rate_NLM | kg N m-2 y-1 | Calculated from the weighted average of the land cover classes \n",
    "Septic_Load | kg N y-1 | This is estimated from housing units, people per housing unit, and fraction of population on septic\n",
    "Wastewater_Load | kg N y-1 | This is estimated from permitted sanitary discharges to GW |\n",
    "Landfill_Load | kg N y-1 | This is estimated from landfill Area and landfill leaching rate | "
   ]
  },
  {
   "cell_type": "code",
   "execution_count": null,
   "id": "5a9cd1dc",
   "metadata": {},
   "outputs": [],
   "source": []
  }
 ],
 "metadata": {
  "kernelspec": {
   "display_name": "Python 3 (ipykernel)",
   "language": "python",
   "name": "python3"
  },
  "language_info": {
   "codemirror_mode": {
    "name": "ipython",
    "version": 3
   },
   "file_extension": ".py",
   "mimetype": "text/x-python",
   "name": "python",
   "nbconvert_exporter": "python",
   "pygments_lexer": "ipython3",
   "version": "3.9.13"
  }
 },
 "nbformat": 4,
 "nbformat_minor": 5
}
