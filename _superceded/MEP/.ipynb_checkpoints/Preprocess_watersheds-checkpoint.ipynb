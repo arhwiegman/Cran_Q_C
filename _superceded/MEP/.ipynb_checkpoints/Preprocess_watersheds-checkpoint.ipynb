{
 "cells": [
  {
   "cell_type": "markdown",
   "id": "159f7739",
   "metadata": {},
   "source": [
    "# Preprocess watersheds\n",
    "\n",
    "Adrian Wiegman\n",
    "\n",
    "2023-07-11\n",
    "\n",
    "-------\n",
    "\n",
    "This notebook turns raw data from LiDAR DEM, NHD flowlines, and polygons of cranberry bogs, into a layer of polygons representing the topographic catchments draining into each cranberry bog in southeast Massachusetts. \n",
    "\n",
    "Even though the lidar data as been hydro flattened/enforced, there are still a number of flowpaths that are not detected underneath highways (e.g. interstate I-495, I-195)\n",
    "\n",
    "The solution is to \"burn\" in stream flowlines from the national hydrography dataset. This is done by putting a buffer around the stream flowline network, then assigning an arbitary large value to the stream network polygon, then converting to raster and subtracting the stream elevations from the DEM. \n",
    "\n",
    "Once D8 flow direction and flow accumulation rasters have been made the primary objectives can be completed. \n",
    "\n",
    "Data Sources:\n",
    "\n",
    "1. Mass GIS Lidar DEM (1ft vertical resolution, ~1m horizontal resolution)\n",
    "2. USGS National Hydrography Dataset\n",
    "- Flow lines\n",
    "3. Cranberry bogs layer\n",
    "\n",
    "Steps of Processing: \n",
    "\n",
    "1. Prepare Lidar\n",
    "   - 1M Lidar Elevation -> Clip to study area -> \n",
    "   - Resample to 10m resolution using aggregate minimum cell value\n",
    "   - Fill Sinks \n",
    "\n",
    "2. Prepare Flowlines\n",
    "   - combine flowlines into one layer\n",
    "   - dissolve flowlines\n",
    "   - buffer flowlines to 3x the resolution of processed lidar. \n",
    "       - buffering width of 15m \n",
    "   - convert to raster\n",
    "3. Burn in flow lines\n",
    "    - assign a value of -100 feet to flow lines\n",
    "    - add flowlines to existing elevation (subtract 100 feet)\n",
    "    \n",
    "4. fill sinks (again)\n",
    "5. D8 Flow Direction \n",
    "6. Flow Accumulation\n",
    "7. Generate Bog Pour Points\n",
    "    - find maximum flow accumulation value inside each bog.\n",
    "    - generate a point at each bog maximum value.\n",
    "    - identity to get cranberry bog attributes at each point.\n",
    "8. Delineate Basins for each point\n",
    "    - with the bog cranberry points loop through each point\n",
    "        - delineate watershed using the bog pour point and the D8 flow direction\n",
    "        - save the output to a temp file with the feature ID ('FID') of the cranberry bog. \n",
    "    - merge all cranberry bog basins to one polygon layer, containing the FID of the cranberry bog. \n"
   ]
  },
  {
   "cell_type": "markdown",
   "id": "2d59851c",
   "metadata": {},
   "source": [
    "## Setup Environment"
   ]
  },
  {
   "cell_type": "code",
   "execution_count": 2,
   "id": "b6310955",
   "metadata": {
    "scrolled": true
   },
   "outputs": [
    {
     "name": "stdout",
     "output_type": "stream",
     "text": [
      "***\n",
      "loading python modules...\n",
      "\n",
      "  `module_list` contains names of all loaded modules\n",
      "\n",
      "...module loading complete\n",
      "\n",
      "***\n",
      "loading user defined functions...\n",
      "\n",
      "type `fn_`+TAB to for autocomplete suggestions\n",
      "\n",
      " the object `def_list` contains user defined function names:\n",
      "   fn_get_info\n",
      "   fn_arcgis_table_to_df\n",
      "   fn_arcgis_table_to_np_to_pd_df\n",
      "   fn_run_script_w_propy_bat\n",
      "   fn_try_mkdir\n",
      "   fn_hello\n",
      "   fn_recursive_glob_search\n",
      "   fn_regex_search_replace\n",
      "   fn_regex_search_0\n",
      "   fn_arcpy_table_to_excel\n",
      "   fn_agg_sum_df_on_group\n",
      "   fn_add_prefix_suffix_to_selected_cols\n",
      "   fn_calc_pct_cover_within_groups\n",
      "\n",
      " use ??{insert fn name} to inspect\n",
      " for example running `??fn_get_info` returns:\n",
      "\u001b[1;31mSignature:\u001b[0m \u001b[0mfn_get_info\u001b[0m\u001b[1;33m(\u001b[0m\u001b[0mname\u001b[0m\u001b[1;33m=\u001b[0m\u001b[1;34m'fn_get_info'\u001b[0m\u001b[1;33m)\u001b[0m\u001b[1;33m\u001b[0m\u001b[1;33m\u001b[0m\u001b[0m\n",
      "\u001b[1;31mSource:\u001b[0m   \n",
      "\u001b[1;32mdef\u001b[0m \u001b[0mfn_get_info\u001b[0m\u001b[1;33m(\u001b[0m\u001b[0mname\u001b[0m\u001b[1;33m=\u001b[0m\u001b[1;34m'fn_get_info'\u001b[0m\u001b[1;33m)\u001b[0m\u001b[1;33m:\u001b[0m\u001b[1;33m\n",
      "\u001b[0m    \u001b[1;34m'''\n",
      "    returns the source information about a given function name\n",
      "    '''\u001b[0m\u001b[1;33m\n",
      "\u001b[0m    \u001b[0mget_ipython\u001b[0m\u001b[1;33m(\u001b[0m\u001b[1;33m)\u001b[0m\u001b[1;33m.\u001b[0m\u001b[0mrun_line_magic\u001b[0m\u001b[1;33m(\u001b[0m\u001b[1;34m'pinfo2'\u001b[0m\u001b[1;33m,\u001b[0m \u001b[1;34m'$name'\u001b[0m\u001b[1;33m)\u001b[0m\u001b[1;33m\u001b[0m\u001b[1;33m\u001b[0m\u001b[0m\n",
      "\u001b[1;31mFile:\u001b[0m      c:\\windows\\system32\\<ipython-input-1-28f96385f735>\n",
      "\u001b[1;31mType:\u001b[0m      function\n",
      "\n",
      " you can also use `fn_get_info(name={insert fn name})` to do the same thing as `??{insert fn name}`\n",
      "\n",
      "...function loading complete\n",
      "\n",
      "\n",
      "***\n",
      "setting up arcpy environment...\n",
      "\n",
      " input file directory (`idr`): C:\\Workspace\\Geodata\\Massachusetts\\\n",
      " working directory (`wdr`): C:\\Workspace\\Geodata\\MEP\\\n",
      " default geodatabase path: C:\\Workspace\\Geodata\\MEP\\Default.gdb\n",
      " temp dir (`tdr.name`): C:\\Users\\ADRIAN~1.WIE\\AppData\\Local\\Temp\\ArcGISProTemp43468\\tmp1ocw7fxc\n",
      " output dir (`odr`): C:\\Workspace\\Geodata\\MEP\\outputs\n",
      " output coordinate system: NAD_1983_UTM_Zone_19N\n",
      "\n",
      "... env setup complete\n",
      "\n",
      "\n",
      "+++SETUP COMPLETE+++\n",
      "\n",
      "\n"
     ]
    }
   ],
   "source": [
    "# iphython options\n",
    "# delete variables in workspace\n",
    "%reset -f\n",
    "#places plots inline\n",
    "%matplotlib inline\n",
    "#automatically reloads modules if they are changed\n",
    "%load_ext autoreload \n",
    "%autoreload 2\n",
    "# this codeblock sets up the environment from jupyter notebooks\n",
    "setup_notebook = \"C:/Users/Adrian.Wiegman/Documents/GitHub/Wiegman_USDA_ARS/MEP/_Setup.ipynb\"\n",
    "%run $setup_notebook # magic command to run the notebook "
   ]
  },
  {
   "cell_type": "markdown",
   "id": "18fbb333",
   "metadata": {
    "heading_collapsed": true
   },
   "source": [
    "## 1. Prepare lidar data"
   ]
  },
  {
   "cell_type": "code",
   "execution_count": null,
   "id": "200c55f8",
   "metadata": {
    "hidden": true
   },
   "outputs": [],
   "source": [
    "# 1. Clip Lidar\n",
    "_i = r\"C:\\Workspace\\Geodata\\Massachusetts\\LiDAR_DEM\\LiDAR_DEM.gdb\\LiDAR_DEM_INT_16bit\"\n",
    "mask = r\"C:\\Workspace\\Geodata\\MEP\\outputs\\DWMWPP_WATERSHEDS_SE.shp\"\n",
    "_o = r\"C:\\Workspace\\Geodata\\MEP\\Default.gdb\\LidExtr\"\n",
    "out_raster = arcpy.sa.ExtractByMask(\n",
    "    in_raster=_i\n",
    "    in_mask_data=\"DWMWPP_WATERSHEDS_SE\",\n",
    "    extraction_area=\"INSIDE\",\n",
    "    analysis_extent='-7945684.04575117 5047354.31786836 -7782812.89626286 5200955.98507201 PROJCS[\"WGS_1984_Web_Mercator_Auxiliary_Sphere\",GEOGCS[\"GCS_WGS_1984\",DATUM[\"D_WGS_1984\",SPHEROID[\"WGS_1984\",6378137.0,298.257223563]],PRIMEM[\"Greenwich\",0.0],UNIT[\"Degree\",0.0174532925199433]],PROJECTION[\"Mercator_Auxiliary_Sphere\"],PARAMETER[\"False_Easting\",0.0],PARAMETER[\"False_Northing\",0.0],PARAMETER[\"Central_Meridian\",0.0],PARAMETER[\"Standard_Parallel_1\",0.0],PARAMETER[\"Auxiliary_Sphere_Type\",0.0],UNIT[\"Meter\",1.0]]'\n",
    ")\n",
    "out_raster.save(_o)"
   ]
  },
  {
   "cell_type": "code",
   "execution_count": null,
   "id": "45c7683d",
   "metadata": {
    "hidden": true
   },
   "outputs": [],
   "source": [
    "# Aggregate data to 10m resolution using minimum cell value\n",
    "_i = \"LidExtr\"\n",
    "_o = \"LidAg10m\"\n",
    "out_raster = arcpy.sa.Aggregate(\n",
    "    in_raster=_i,\n",
    "    cell_factor=10,\n",
    "    aggregation_type=\"MINIMUM\",\n",
    "    extent_handling=\"EXPAND\",\n",
    "    ignore_nodata=\"DATA\"\n",
    ")\n",
    "out_raster.save(_o)"
   ]
  },
  {
   "cell_type": "code",
   "execution_count": 10,
   "id": "45d29db9",
   "metadata": {
    "hidden": true
   },
   "outputs": [],
   "source": [
    "# 3. Fill sinks in 10m resolution lidar\n",
    "_i = r\"C:\\Workspace\\Geodata\\MEP\\Default.gdb\\LidAg10m_Burn\"\n",
    "_o = \"LidAg10m_Fill\"\n",
    "fill = arcpy.sa.Fill(\n",
    "    in_surface_raster=_i,\n",
    "    z_limit=3.28 # maximum sink depth = 1 meter\n",
    ")\n",
    "fill.save(_o)"
   ]
  },
  {
   "cell_type": "markdown",
   "id": "ebd8bdaa",
   "metadata": {
    "heading_collapsed": true
   },
   "source": [
    "## 2. Prepare NHD flow lines"
   ]
  },
  {
   "cell_type": "code",
   "execution_count": null,
   "id": "6fa74b19",
   "metadata": {
    "hidden": true
   },
   "outputs": [],
   "source": [
    "# merge flow lines\n",
    "arcpy.management.CopyFeatures(\n",
    "    in_features=r\"C:\\Workspace\\Geodata\\Massachusetts\\NHD_H_01090004_HU8_GDB\\NHD_H_01090004_HU8_GDB.gdb\\Hydrography\\NHDFlowline\",\n",
    "    out_feature_class=r\"C:\\Workspace\\Geodata\\MEP\\Default.gdb\\NHDFlowline_1\",\n",
    "    config_keyword=\"\",\n",
    "    spatial_grid_1=None,\n",
    "    spatial_grid_2=None,\n",
    "    spatial_grid_3=None\n",
    ")\n",
    "arcpy.management.CopyFeatures(\n",
    "    in_features=r\"C:\\Workspace\\Geodata\\Massachusetts\\NHD_H_01090002_HU8_GDB\\NHD_H_01090002_HU8_GDB.gdb\\Hydrography\\NHDFlowline\",\n",
    "    out_feature_class=r\"C:\\Workspace\\Geodata\\MEP\\Default.gdb\\NHDFlowline_2\",\n",
    "    config_keyword=\"\",\n",
    "    spatial_grid_1=None,\n",
    "    spatial_grid_2=None,\n",
    "    spatial_grid_3=None\n",
    ")\n",
    "arcpy.management.Merge(\n",
    "    inputs=\"NHDFlowline_1;NHDFlowline_2\",\n",
    "    output=r\"C:\\Workspace\\Geodata\\MEP\\Default.gdb\\NHDFlowlines\",\n",
    "    field_mappings=r'permanent_identifier \"Permanent_Identifier\" true false false 40 Text 0 0,First,#,C:\\Workspace\\Geodata\\Massachusetts\\NHD_H_01090002_HU8_GDB\\NHD_H_01090002_HU8_GDB.gdb\\Hydrography\\NHDFlowline,permanent_identifier,0,40,C:\\Workspace\\Geodata\\Massachusetts\\NHD_H_01090004_HU8_GDB\\NHD_H_01090004_HU8_GDB.gdb\\Hydrography\\NHDFlowline,permanent_identifier,0,40;fdate \"FDate\" true false false 8 Date 0 0,First,#,C:\\Workspace\\Geodata\\Massachusetts\\NHD_H_01090002_HU8_GDB\\NHD_H_01090002_HU8_GDB.gdb\\Hydrography\\NHDFlowline,fdate,-1,-1,C:\\Workspace\\Geodata\\Massachusetts\\NHD_H_01090004_HU8_GDB\\NHD_H_01090004_HU8_GDB.gdb\\Hydrography\\NHDFlowline,fdate,-1,-1;resolution \"Resolution\" true false false 4 Long 0 0,First,#,C:\\Workspace\\Geodata\\Massachusetts\\NHD_H_01090002_HU8_GDB\\NHD_H_01090002_HU8_GDB.gdb\\Hydrography\\NHDFlowline,resolution,-1,-1,C:\\Workspace\\Geodata\\Massachusetts\\NHD_H_01090004_HU8_GDB\\NHD_H_01090004_HU8_GDB.gdb\\Hydrography\\NHDFlowline,resolution,-1,-1;gnis_id \"GNIS_ID\" true true false 10 Text 0 0,First,#,C:\\Workspace\\Geodata\\Massachusetts\\NHD_H_01090002_HU8_GDB\\NHD_H_01090002_HU8_GDB.gdb\\Hydrography\\NHDFlowline,gnis_id,0,10,C:\\Workspace\\Geodata\\Massachusetts\\NHD_H_01090004_HU8_GDB\\NHD_H_01090004_HU8_GDB.gdb\\Hydrography\\NHDFlowline,gnis_id,0,10;gnis_name \"GNIS_Name\" true true false 65 Text 0 0,First,#,C:\\Workspace\\Geodata\\Massachusetts\\NHD_H_01090002_HU8_GDB\\NHD_H_01090002_HU8_GDB.gdb\\Hydrography\\NHDFlowline,gnis_name,0,65,C:\\Workspace\\Geodata\\Massachusetts\\NHD_H_01090004_HU8_GDB\\NHD_H_01090004_HU8_GDB.gdb\\Hydrography\\NHDFlowline,gnis_name,0,65;lengthkm \"LengthKm\" true true false 8 Double 0 0,First,#,C:\\Workspace\\Geodata\\Massachusetts\\NHD_H_01090002_HU8_GDB\\NHD_H_01090002_HU8_GDB.gdb\\Hydrography\\NHDFlowline,lengthkm,-1,-1,C:\\Workspace\\Geodata\\Massachusetts\\NHD_H_01090004_HU8_GDB\\NHD_H_01090004_HU8_GDB.gdb\\Hydrography\\NHDFlowline,lengthkm,-1,-1;reachcode \"ReachCode\" true true false 14 Text 0 0,First,#,C:\\Workspace\\Geodata\\Massachusetts\\NHD_H_01090002_HU8_GDB\\NHD_H_01090002_HU8_GDB.gdb\\Hydrography\\NHDFlowline,reachcode,0,14,C:\\Workspace\\Geodata\\Massachusetts\\NHD_H_01090004_HU8_GDB\\NHD_H_01090004_HU8_GDB.gdb\\Hydrography\\NHDFlowline,reachcode,0,14;flowdir \"FlowDir\" true false false 4 Long 0 0,First,#,C:\\Workspace\\Geodata\\Massachusetts\\NHD_H_01090002_HU8_GDB\\NHD_H_01090002_HU8_GDB.gdb\\Hydrography\\NHDFlowline,flowdir,-1,-1,C:\\Workspace\\Geodata\\Massachusetts\\NHD_H_01090004_HU8_GDB\\NHD_H_01090004_HU8_GDB.gdb\\Hydrography\\NHDFlowline,flowdir,-1,-1;wbarea_permanent_identifier \"WBArea_Permanent_Identifier\" true true false 40 Text 0 0,First,#,C:\\Workspace\\Geodata\\Massachusetts\\NHD_H_01090002_HU8_GDB\\NHD_H_01090002_HU8_GDB.gdb\\Hydrography\\NHDFlowline,wbarea_permanent_identifier,0,40,C:\\Workspace\\Geodata\\Massachusetts\\NHD_H_01090004_HU8_GDB\\NHD_H_01090004_HU8_GDB.gdb\\Hydrography\\NHDFlowline,wbarea_permanent_identifier,0,40;ftype \"FType\" true false false 4 Long 0 0,First,#,C:\\Workspace\\Geodata\\Massachusetts\\NHD_H_01090002_HU8_GDB\\NHD_H_01090002_HU8_GDB.gdb\\Hydrography\\NHDFlowline,ftype,-1,-1,C:\\Workspace\\Geodata\\Massachusetts\\NHD_H_01090004_HU8_GDB\\NHD_H_01090004_HU8_GDB.gdb\\Hydrography\\NHDFlowline,ftype,-1,-1;fcode \"FCode\" true true false 4 Long 0 0,First,#,C:\\Workspace\\Geodata\\Massachusetts\\NHD_H_01090002_HU8_GDB\\NHD_H_01090002_HU8_GDB.gdb\\Hydrography\\NHDFlowline,fcode,-1,-1,C:\\Workspace\\Geodata\\Massachusetts\\NHD_H_01090004_HU8_GDB\\NHD_H_01090004_HU8_GDB.gdb\\Hydrography\\NHDFlowline,fcode,-1,-1;mainpath \"MainPath\" true false false 4 Long 0 0,First,#,C:\\Workspace\\Geodata\\Massachusetts\\NHD_H_01090002_HU8_GDB\\NHD_H_01090002_HU8_GDB.gdb\\Hydrography\\NHDFlowline,mainpath,-1,-1,C:\\Workspace\\Geodata\\Massachusetts\\NHD_H_01090004_HU8_GDB\\NHD_H_01090004_HU8_GDB.gdb\\Hydrography\\NHDFlowline,mainpath,-1,-1;innetwork \"InNetwork\" true true false 4 Long 0 0,First,#,C:\\Workspace\\Geodata\\Massachusetts\\NHD_H_01090002_HU8_GDB\\NHD_H_01090002_HU8_GDB.gdb\\Hydrography\\NHDFlowline,innetwork,-1,-1,C:\\Workspace\\Geodata\\Massachusetts\\NHD_H_01090004_HU8_GDB\\NHD_H_01090004_HU8_GDB.gdb\\Hydrography\\NHDFlowline,innetwork,-1,-1;visibilityfilter \"VisibilityFilter\" true false false 4 Long 0 0,First,#,C:\\Workspace\\Geodata\\Massachusetts\\NHD_H_01090002_HU8_GDB\\NHD_H_01090002_HU8_GDB.gdb\\Hydrography\\NHDFlowline,visibilityfilter,-1,-1,C:\\Workspace\\Geodata\\Massachusetts\\NHD_H_01090004_HU8_GDB\\NHD_H_01090004_HU8_GDB.gdb\\Hydrography\\NHDFlowline,visibilityfilter,-1,-1;SHAPE_Length \"SHAPE_Length\" false true true 8 Double 0 0,First,#,C:\\Workspace\\Geodata\\Massachusetts\\NHD_H_01090002_HU8_GDB\\NHD_H_01090002_HU8_GDB.gdb\\Hydrography\\NHDFlowline,SHAPE_Length,-1,-1,C:\\Workspace\\Geodata\\Massachusetts\\NHD_H_01090004_HU8_GDB\\NHD_H_01090004_HU8_GDB.gdb\\Hydrography\\NHDFlowline,SHAPE_Length,-1,-1;Enabled \"Enabled\" true true true 2 Short 0 0,First,#,C:\\Workspace\\Geodata\\Massachusetts\\NHD_H_01090002_HU8_GDB\\NHD_H_01090002_HU8_GDB.gdb\\Hydrography\\NHDFlowline,Enabled,-1,-1,C:\\Workspace\\Geodata\\Massachusetts\\NHD_H_01090004_HU8_GDB\\NHD_H_01090004_HU8_GDB.gdb\\Hydrography\\NHDFlowline,Enabled,-1,-1',\n",
    "    add_source=\"ADD_SOURCE_INFO\"\n",
    ")\n",
    "\n",
    "arcpy.management.Dissolve(\n",
    "    in_features=r\"C:\\Workspace\\Geodata\\MEP\\Default.gdb\\NHDFlowlines\",\n",
    "    out_feature_class=r\"C:\\Workspace\\Geodata\\MEP\\Default.gdb\\NHDFlowlines_Dissolve\",\n",
    "    dissolve_field=\"OBJECTID\",\n",
    "    statistics_fields=None,\n",
    "    multi_part=\"MULTI_PART\",\n",
    "    unsplit_lines=\"UNSPLIT_LINES\",\n",
    "    concatenation_separator=\"\"\n",
    ")\n",
    "# buffer the flow lines\n",
    "arcpy.analysis.Buffer(\n",
    "    in_features=r\"C:\\Workspace\\Geodata\\MEP\\Default.gdb\\NHDFlowlines_Dissolve\",\n",
    "    out_feature_class=r\"C:\\Workspace\\Geodata\\MEP\\Default.gdb\\NHDFlowlines_Dissolve_Buffer\",\n",
    "    buffer_distance_or_field=\"15 Meters\",\n",
    "    line_side=\"FULL\",\n",
    "    line_end_type=\"ROUND\",\n",
    "    dissolve_option=\"NONE\",\n",
    "    dissolve_field=None,\n",
    "    method=\"PLANAR\"\n",
    ")"
   ]
  },
  {
   "cell_type": "markdown",
   "id": "2c1aa5ce",
   "metadata": {
    "heading_collapsed": true
   },
   "source": [
    "## 3. Burn NHD flow lines into lidar DEM"
   ]
  },
  {
   "cell_type": "code",
   "execution_count": 24,
   "id": "9c27645a",
   "metadata": {
    "hidden": true
   },
   "outputs": [
    {
     "data": {
      "text/html": [
       "<div class='gpresult'><h2>Messages</h2><div id='messages' data-messages='[\"Start Time: Tuesday, July 11, 2023 2:21:01 PM\",\"Succeeded at Tuesday, July 11, 2023 2:21:02 PM (Elapsed Time: 0.59 seconds)\"]' data-show='true'><div id = 'default' /></div></div>"
      ],
      "text/plain": [
       "<Result 'NHDFlowlines_Dissolve_Buffer'>"
      ]
     },
     "execution_count": 24,
     "metadata": {},
     "output_type": "execute_result"
    }
   ],
   "source": [
    "# Add field elevation (100 feet)\n",
    "arcpy.management.CalculateField(\n",
    "    in_table=\"NHDFlowlines_Dissolve_Buffer\",\n",
    "    field=\"Burn\",\n",
    "    expression=\"-100\", # elevation to subtract\n",
    "    expression_type=\"PYTHON3\",\n",
    "    code_block=\"\",\n",
    "    field_type=\"FLOAT\",\n",
    "    enforce_domains=\"NO_ENFORCE_DOMAINS\"\n",
    ")"
   ]
  },
  {
   "cell_type": "raw",
   "id": "366016fa",
   "metadata": {
    "hidden": true
   },
   "source": [
    "# Feature to raster with same cell size as lidar\n",
    "with arcpy.EnvManager(cellSize=r\"LidAg10m\"):\n",
    "    arcpy.conversion.FeatureToRaster(\n",
    "        in_features=\"NHDFlowlines_Dissolve_Buffer\",\n",
    "        field=\"Burn\",\n",
    "        out_raster=r\"C:\\Workspace\\Geodata\\MEP\\Default.gdb\\Flowlines_Raster\",\n",
    "        cell_size=r\"C:\\Workspace\\Geodata\\MEP\\Default.gdb\\LidAg10m\"\n",
    "    )\n",
    "    \n",
    " "
   ]
  },
  {
   "cell_type": "code",
   "execution_count": 25,
   "id": "8f887c9d",
   "metadata": {
    "hidden": true
   },
   "outputs": [],
   "source": [
    "# Feature to raster with same cell size as lidar   \n",
    "with arcpy.EnvManager(outputCoordinateSystem='PROJCS[\"WGS_1984_Web_Mercator_Auxiliary_Sphere\",GEOGCS[\"GCS_WGS_1984\",DATUM[\"D_WGS_1984\",SPHEROID[\"WGS_1984\",6378137.0,298.257223563]],PRIMEM[\"Greenwich\",0.0],UNIT[\"Degree\",0.0174532925199433]],PROJECTION[\"Mercator_Auxiliary_Sphere\"],PARAMETER[\"False_Easting\",0.0],PARAMETER[\"False_Northing\",0.0],PARAMETER[\"Central_Meridian\",0.0],PARAMETER[\"Standard_Parallel_1\",0.0],PARAMETER[\"Auxiliary_Sphere_Type\",0.0],UNIT[\"Meter\",1.0]]', snapRaster=r\"Lidar\\Mass GIS\\LidAg10m_Fill\"):\n",
    "    arcpy.conversion.FeatureToRaster(\n",
    "        in_features=\"NHDFlowlines_Dissolve_Buffer\",\n",
    "        field=\"Burn\",\n",
    "        out_raster=r\"C:\\Workspace\\Geodata\\MEP\\Default.gdb\\BufferedFlowlinesRaster\",\n",
    "        cell_size=r\"C:\\Workspace\\Geodata\\MEP\\Default.gdb\\LidAg10m_Fill\"\n",
    "    )"
   ]
  },
  {
   "cell_type": "code",
   "execution_count": 63,
   "id": "72c3066c",
   "metadata": {
    "hidden": true
   },
   "outputs": [],
   "source": [
    "# turn null values to zeros\n",
    "out_raster = arcpy.ia.Con(\n",
    "    in_conditional_raster=\"BufferedFlowlinesRaster\",\n",
    "    in_true_raster_or_constant=\"BufferedFlowlinesRaster\",\n",
    "    in_false_raster_or_constant=0,\n",
    "    where_clause=\"Value IS NOT NULL\"\n",
    ")\n",
    "out_raster.save(r\"C:\\Workspace\\Geodata\\MEP\\Default.gdb\\BufferedFlowlinesRaster_Null20\")"
   ]
  },
  {
   "cell_type": "code",
   "execution_count": 64,
   "id": "da5de8be",
   "metadata": {
    "hidden": true
   },
   "outputs": [
    {
     "data": {
      "text/html": [
       "<div class='gpresult'><h2>Messages</h2><div id='messages' data-messages='[\"Start Time: Tuesday, July 11, 2023 3:19:25 PM\",\"Succeeded at Tuesday, July 11, 2023 3:19:34 PM (Elapsed Time: 8.48 seconds)\"]' data-show='true'><div id = 'default' /></div></div>"
      ],
      "text/plain": [
       "<Result 'C:\\\\Workspace\\\\Geodata\\\\MEP\\\\Default.gdb\\\\LidAg10B'>"
      ]
     },
     "execution_count": 64,
     "metadata": {},
     "output_type": "execute_result"
    }
   ],
   "source": [
    "# add burn layer to lidar elevation (since burn value is negative)\n",
    "_o = \"LidAg10B\"\n",
    "arcpy.ddd.Plus(os.path.join(\"LidAg10m_Fill\"), \"BufferedFlowlinesRaster_Null20\", _o)"
   ]
  },
  {
   "cell_type": "markdown",
   "id": "9182909e",
   "metadata": {
    "heading_collapsed": true
   },
   "source": [
    "## 4. Fill Sinks"
   ]
  },
  {
   "cell_type": "code",
   "execution_count": 65,
   "id": "431f3abe",
   "metadata": {
    "hidden": true
   },
   "outputs": [],
   "source": [
    "# it is necessary to fill sinks again after buring in streams\n",
    "# this will remove sinks behind road structures. \n",
    "# Fill sinks (again)\n",
    "out_surface_raster = arcpy.sa.Fill(\n",
    "    in_surface_raster=\"LidAg10B\",\n",
    "    z_limit=100\n",
    ")\n",
    "out_surface_raster.save(r\"C:\\Workspace\\Geodata\\MEP\\Default.gdb\\LidAg10BF\")"
   ]
  },
  {
   "cell_type": "markdown",
   "id": "0991b2f2",
   "metadata": {},
   "source": [
    "## 5. Flow direction"
   ]
  },
  {
   "cell_type": "code",
   "execution_count": 66,
   "id": "96a95d46",
   "metadata": {},
   "outputs": [],
   "source": [
    "# FLow direction \n",
    "_i = \"LidAg10BF\" # 10m resolution Burned and Filled\n",
    "_o = \"LidAg10BF_D8\"\n",
    "out_flow_direction_raster = arcpy.sa.FlowDirection(\n",
    "    in_surface_raster=_i,\n",
    "    force_flow=\"FORCE\",\n",
    "    out_drop_raster=None,\n",
    "    flow_direction_type=\"D8\"\n",
    ")\n",
    "out_flow_direction_raster.save(_o)"
   ]
  },
  {
   "cell_type": "markdown",
   "id": "9369d892",
   "metadata": {
    "heading_collapsed": true
   },
   "source": [
    "## 6. Flow accumulation"
   ]
  },
  {
   "cell_type": "code",
   "execution_count": 67,
   "id": "c692a63b",
   "metadata": {
    "hidden": true
   },
   "outputs": [],
   "source": [
    "# Flow Accumulation\n",
    "_i = \"LidAg10BF_D8\"\n",
    "_o = \"LidAg10BF_FlowAcc\"\n",
    "out_accumulation_raster = arcpy.sa.FlowAccumulation(\n",
    "    in_flow_direction_raster=_i,\n",
    "    in_weight_raster=None,\n",
    "    data_type=\"FLOAT\",\n",
    "    flow_direction_type=\"D8\"\n",
    ")\n",
    "out_accumulation_raster.save(_o)"
   ]
  },
  {
   "cell_type": "markdown",
   "id": "cd898bb2",
   "metadata": {
    "heading_collapsed": true
   },
   "source": [
    "## 7. Generate Bog Pour Points"
   ]
  },
  {
   "cell_type": "code",
   "execution_count": 69,
   "id": "48bcba26",
   "metadata": {
    "hidden": true
   },
   "outputs": [],
   "source": [
    "# Zonal statistics to find the maximum flow accumulation inside each bog\n",
    "out_raster = arcpy.sa.ZonalStatistics(\n",
    "    in_zone_data=os.path.join(odr,\"WMAbogsDRAFT2013_copy\"),\n",
    "    zone_field=\"FID\",\n",
    "    in_value_raster=\"LidAg10BF_FlowAcc\",\n",
    "    statistics_type=\"MAXIMUM\",\n",
    "    ignore_nodata=\"DATA\",\n",
    "    process_as_multidimensional=\"CURRENT_SLICE\",\n",
    "    percentile_value=90,\n",
    "    percentile_interpolation_type=\"AUTO_DETECT\",\n",
    "    circular_calculation=\"ARITHMETIC\",\n",
    "    circular_wrap_value=360\n",
    ")\n",
    "out_raster.save(r\"C:\\Workspace\\Geodata\\MEP\\Default.gdb\\Bog_Max_FlowAcc_ZS\")"
   ]
  },
  {
   "cell_type": "code",
   "execution_count": 70,
   "id": "c722d780",
   "metadata": {
    "hidden": true
   },
   "outputs": [],
   "source": [
    "# Find points that equal of maximum value of flow accumulation inside each bog\n",
    "outEqualTo = arcpy.ia.EqualTo(\"Bog_Max_FlowAcc_ZS\", \"LidAg10BF_FlowAcc\")\n",
    "outEqualTo.save(\"Bog_Max_FlowAcc_EQ\")"
   ]
  },
  {
   "cell_type": "code",
   "execution_count": 71,
   "id": "05cea136",
   "metadata": {
    "hidden": true
   },
   "outputs": [],
   "source": [
    "# Set 0 as null value \n",
    "out_raster = arcpy.sa.SetNull(\n",
    "    in_conditional_raster=\"Bog_Max_FlowAcc_EQ\",\n",
    "    in_false_raster_or_constant=\"Bog_Max_FlowAcc_EQ\",\n",
    "    where_clause=\"Value = 0\"\n",
    ")\n",
    "out_raster.save(r\"C:\\Workspace\\Geodata\\MEP\\Default.gdb\\Bog_Max_FlowAcc_EQ_Null20\")"
   ]
  },
  {
   "cell_type": "code",
   "execution_count": 72,
   "id": "ca34e36b",
   "metadata": {
    "hidden": true,
    "scrolled": false
   },
   "outputs": [
    {
     "data": {
      "text/html": [
       "<div class='gpresult'><h2>Messages</h2><div id='messages' data-messages='[\"Start Time: Tuesday, July 11, 2023 3:25:11 PM\",\"Succeeded at Tuesday, July 11, 2023 3:25:12 PM (Elapsed Time: 0.60 seconds)\"]' data-show='true'><div id = 'default' /></div></div>"
      ],
      "text/plain": [
       "<Result 'C:\\\\Workspace\\\\Geodata\\\\MEP\\\\Default.gdb\\\\BogPourPoints'>"
      ]
     },
     "execution_count": 72,
     "metadata": {},
     "output_type": "execute_result"
    }
   ],
   "source": [
    "# raster to point\n",
    "arcpy.conversion.RasterToPoint(\n",
    "    in_raster=\"Bog_Max_FlowAcc_EQ_Null20\",\n",
    "    out_point_features=r\"C:\\Workspace\\Geodata\\MEP\\Default.gdb\\BogPourPoints\",\n",
    "    raster_field=\"Value\"\n",
    ")"
   ]
  },
  {
   "cell_type": "code",
   "execution_count": 74,
   "id": "cdc32f7d",
   "metadata": {
    "hidden": true
   },
   "outputs": [
    {
     "data": {
      "text/html": [
       "<div class='gpresult'><h2>Messages</h2><div id='messages' data-messages='[\"Start Time: Tuesday, July 11, 2023 3:45:22 PM\",\"Reading Features...\",\"Cracking Features...\",\"Assembling Features...\",\"Succeeded at Tuesday, July 11, 2023 3:45:23 PM (Elapsed Time: 1.08 seconds)\"]' data-show='true'><div id = 'default' /></div></div>"
      ],
      "text/plain": [
       "<Result 'C:\\\\Workspace\\\\Geodata\\\\MEP\\\\Default.gdb\\\\BogPourPoints_Ident'>"
      ]
     },
     "execution_count": 74,
     "metadata": {},
     "output_type": "execute_result"
    }
   ],
   "source": [
    "# I\n",
    "arcpy.analysis.Identity(\n",
    "    in_features=\"BogPourPoints\",\n",
    "    identity_features=os.path.join(odr,\"WMAbogsDRAFT2013_copy\"),\n",
    "    out_feature_class=r\"C:\\Workspace\\Geodata\\MEP\\Default.gdb\\BogPourPoints_Ident\",\n",
    "    join_attributes=\"ALL\",\n",
    "    cluster_tolerance=None,\n",
    "    relationship=\"NO_RELATIONSHIPS\"\n",
    ")"
   ]
  },
  {
   "cell_type": "markdown",
   "id": "dee39a9a",
   "metadata": {},
   "source": [
    "## 8. Delineate Watersheds"
   ]
  },
  {
   "cell_type": "code",
   "execution_count": 3,
   "id": "8dc0b8ea",
   "metadata": {},
   "outputs": [
    {
     "name": "stdout",
     "output_type": "stream",
     "text": [
      "   FID_WMAbogsDRAFT2013_copy\n",
      "0                        546\n",
      "1                        547\n",
      "2                        977\n",
      "3                        584\n"
     ]
    }
   ],
   "source": [
    "# Make a numpy array with the bog FID from Bog Pour Point Identity\n",
    "inLyr = r\"C:\\Workspace\\Geodata\\MEP\\Default.gdb\\BogPourPoints_Ident\"\n",
    "idCol = \"FID_WMAbogsDRAFT2013_copy\"\n",
    "_ = arcpy.da.FeatureClassToNumPyArray(inLyr,idCol)\n",
    "# convert to data frame \n",
    "df_pourpoint = pd.DataFrame(_)\n",
    "print(df_pourpoint.iloc[0:4,:])"
   ]
  },
  {
   "cell_type": "code",
   "execution_count": 5,
   "id": "3a73aafc",
   "metadata": {},
   "outputs": [
    {
     "name": "stdout",
     "output_type": "stream",
     "text": [
      "[None, None, None]\n"
     ]
    }
   ],
   "source": [
    "# select dataframe\n",
    "df = df_pourpoint\n",
    "df = df.loc[df['FID_WMAbogsDRAFT2013_copy'].isin([77,584,979])]\n",
    "# create list to store output filenames\n",
    "outfiles = [None]*len(df)\n",
    "print(outfiles)"
   ]
  },
  {
   "cell_type": "code",
   "execution_count": 6,
   "id": "2e090a76",
   "metadata": {},
   "outputs": [
    {
     "ename": "UsageError",
     "evalue": "Can't use statement directly after '%%time'!",
     "output_type": "error",
     "traceback": [
      "\u001b[0;31m---------------------------------------------------------------------------\u001b[0m\n\u001b[0;31mUsageError\u001b[0m                                Traceback (most recent call last)",
      "In  \u001b[0;34m[6]\u001b[0m:\nLine \u001b[0;34m1\u001b[0m:     %%time \u001b[37m# this cell took a Wall time: 4h 7min 26s for 982 watersheds\u001b[39;49;00m\n",
      "File \u001b[0;34mC:\\Program Files\\ArcGIS\\Pro\\bin\\Python\\envs\\arcgispro-py3\\lib\\site-packages\\IPython\\core\\interactiveshell.py\u001b[0m, in \u001b[0;32mrun_cell_magic\u001b[0m:\nLine \u001b[0;34m2473\u001b[0m:  result = fn(*args, **kwargs)\n",
      "File \u001b[0;34mC:\\Program Files\\ArcGIS\\Pro\\bin\\Python\\envs\\arcgispro-py3\\lib\\site-packages\\decorator.py\u001b[0m, in \u001b[0;32mfun\u001b[0m:\nLine \u001b[0;34m232\u001b[0m:   \u001b[34mreturn\u001b[39;49;00m caller(func, *(extras + args), **kw)\n",
      "File \u001b[0;34mC:\\Program Files\\ArcGIS\\Pro\\bin\\Python\\envs\\arcgispro-py3\\lib\\site-packages\\IPython\\core\\magic.py\u001b[0m, in \u001b[0;32m<lambda>\u001b[0m:\nLine \u001b[0;34m187\u001b[0m:   call = \u001b[34mlambda\u001b[39;49;00m f, *a, **k: f(*a, **k)\n",
      "File \u001b[0;34mC:\\Program Files\\ArcGIS\\Pro\\bin\\Python\\envs\\arcgispro-py3\\lib\\site-packages\\IPython\\core\\magics\\execution.py\u001b[0m, in \u001b[0;32mtime\u001b[0m:\nLine \u001b[0;34m1280\u001b[0m:  \u001b[34mraise\u001b[39;49;00m UsageError(\u001b[33m\"\u001b[39;49;00m\u001b[33mCan\u001b[39;49;00m\u001b[33m'\u001b[39;49;00m\u001b[33mt use statement directly after \u001b[39;49;00m\u001b[33m'\u001b[39;49;00m\u001b[33m%%\u001b[39;49;00m\u001b[33mtime\u001b[39;49;00m\u001b[33m'\u001b[39;49;00m\u001b[33m!\u001b[39;49;00m\u001b[33m\"\u001b[39;49;00m)\n",
      "\u001b[0;31mUsageError\u001b[0m: Can't use statement directly after '%%time'!\n\u001b[0;31m---------------------------------------------------------------------------\u001b[0m"
     ]
    }
   ],
   "source": [
    "%%time \n",
    "# this cell took a Wall time: 4h 7min 26s for 982 watersheds\n",
    "# loop through all rows of the cranberry bog pour points contained dataframe \n",
    "for i in range(len(df)):\n",
    "    print(i)\n",
    "    bogFID = df.iloc[i,0]\n",
    "\n",
    "    print(\"{} = {}\".format(idCol,bogFID))\n",
    "    \n",
    "    # clear the selection\n",
    "    arcpy.management.SelectLayerByAttribute(\n",
    "        in_layer_or_view=\"BogPourPoints_Ident\",\n",
    "        selection_type=\"CLEAR_SELECTION\")\n",
    "    \n",
    "    # Select pour point by Attributes\n",
    "    selection = arcpy.management.SelectLayerByAttribute(\n",
    "        in_layer_or_view=inLyr,\n",
    "        selection_type=\"NEW_SELECTION\",\n",
    "        where_clause=\"{} = {}\".format(idCol,bogFID))\n",
    "    \n",
    "    \"\"\"\n",
    "    # save a temporary file with bog pour point\n",
    "    tmpfile1 = os.path.join(tdr.name,\"bogPt_{}\".format(bogFID))\n",
    "    bog = arcpy.management.CopyFeatures(\n",
    "        in_features=selection,\n",
    "        out_feature_class=tmpfile1)\n",
    "    \"\"\"                    \n",
    "    # Delineate Watershed\n",
    "    out_raster = arcpy.sa.Watershed(\n",
    "        in_flow_direction_raster=\"LidAg10BF_D8\",\n",
    "        in_pour_point_data=selection,\n",
    "        pour_point_field=idCol)\n",
    "    '''\n",
    "    # this block runs slower\n",
    "    out_raster = arcpy.sa.Watershed(\n",
    "        in_flow_direction_raster=\"LidAg10BF_D8\",\n",
    "        in_pour_point_data=tmpfile,\n",
    "        pour_point_field=\"FID_WMAbog\")\n",
    "    '''\n",
    "    \n",
    "    # Save Watershed to outfile with name = bogFID\n",
    "    tmpfile2 = os.path.join(odr,\"bogWS{}.tif\".format(bogFID))\n",
    "    \n",
    "    # create and save temporary output file\n",
    "    out_raster.save(tmpfile2)\n",
    "    \n",
    "    outfile = os.path.join(odr,\"bogWS_poly{}.shp\".format(bogFID))\n",
    "    arcpy.conversion.RasterToPolygon(\n",
    "        in_raster=tmpfile2,\n",
    "        out_polygon_features=outfile,\n",
    "        simplify=\"SIMPLIFY\",\n",
    "        create_multipart_features=\"MULTIPLE_OUTER_PART\",\n",
    "        raster_field=\"Value\")\n",
    "    \n",
    "    print(outfile)\n",
    "    # Assign the name to the ith value of outfiles list\n",
    "    outfiles[i] = outfile"
   ]
  },
  {
   "cell_type": "code",
   "execution_count": 6,
   "id": "8fb8d0f4",
   "metadata": {},
   "outputs": [
    {
     "data": {
      "text/html": [
       "<div class='gpresult'><h2>Messages</h2><div id='messages' data-messages='[\"Start Time: Wednesday, July 12, 2023 1:39:26 PM\",\"Succeeded at Wednesday, July 12, 2023 1:40:20 PM (Elapsed Time: 53.63 seconds)\"]' data-show='true'><div id = 'default' /></div></div>"
      ],
      "text/plain": [
       "<Result 'C:\\\\Workspace\\\\Geodata\\\\MEP\\\\Default.gdb\\\\bogWatersheds'>"
      ]
     },
     "execution_count": 6,
     "metadata": {},
     "output_type": "execute_result"
    }
   ],
   "source": [
    "# merge all bog watershed files and save to default geodatabase                       \n",
    "arcpy.management.Merge(\n",
    "    inputs=outfiles,\n",
    "    output=r\"C:\\Workspace\\Geodata\\MEP\\Default.gdb\\bogWatersheds\")"
   ]
  },
  {
   "cell_type": "code",
   "execution_count": 7,
   "id": "4cb335eb",
   "metadata": {},
   "outputs": [],
   "source": [
    "# Make a numpy array with the bog FID from Bog Pour Point Identity\n",
    "inFeaturePath = \"bogWatersheds\"\n",
    "outTableName = \"bogWatersheds.xlsx\"\n",
    "outTablePath = odr\n",
    "fn_arcpy_table_to_excel(inFeaturePath,outTablePath,outTableName)"
   ]
  },
  {
   "cell_type": "markdown",
   "id": "688caa08",
   "metadata": {},
   "source": [
    "# Appendix \n",
    "un-used snippets"
   ]
  },
  {
   "cell_type": "raw",
   "id": "cf67043c",
   "metadata": {},
   "source": [
    "# USGS DEM 10m resolution\n",
    "arcpy.management.MosaicToNewRaster(\n",
    "    input_rasters=\"USGS_13_n42w070_20230117.tif;USGS_13_n42w071_20230117.tif;USGS_13_n42w072_20230117.tif;USGS_13_n43w071_20230117.tif;USGS_13_n43w072_20230117.tif\",\n",
    "    output_location=r\"C:\\Workspace\\Geodata\\MEP\\Default.gdb\",\n",
    "    raster_dataset_name_with_extension=\"USGS_13_DEM\",\n",
    "    coordinate_system_for_the_raster=None,\n",
    "    pixel_type=\"8_BIT_UNSIGNED\",\n",
    "    cellsize=None,\n",
    "    number_of_bands=1,\n",
    "    mosaic_method=\"LAST\",\n",
    "    mosaic_colormap_mode=\"FIRST\"\n",
    ")"
   ]
  },
  {
   "cell_type": "code",
   "execution_count": null,
   "id": "952a14cd",
   "metadata": {},
   "outputs": [],
   "source": []
  },
  {
   "cell_type": "raw",
   "id": "47947e16",
   "metadata": {},
   "source": [
    "# 3. Generate basins\n",
    "_i = _o\n",
    "_o = \"LidExtr_Basin\"\n",
    "out_raster = arcpy.sa.Basin(\n",
    "    in_flow_direction_raster=_i\n",
    ")\n",
    "out_raster.save(_o)"
   ]
  },
  {
   "cell_type": "raw",
   "id": "324d4f96",
   "metadata": {},
   "source": [
    "# turn null values to elevation\n",
    "out_raster = arcpy.ia.Con(\n",
    "    in_conditional_raster=\"BufferedFlowlinesRaster\",\n",
    "    in_true_raster_or_constant=\"LidAg10m_Fill\",\n",
    "    in_false_raster_or_constant=r\"C:\\Workspace\\Geodata\\MEP\\Default.gdb\\LidAg10B\",\n",
    "    where_clause=\"Value IS NULL\"\n",
    ")\n",
    "out_raster.save(r\"C:\\Workspace\\Geodata\\MEP\\Default.gdb\\LidAg10B\")"
   ]
  },
  {
   "cell_type": "raw",
   "id": "3928f68f",
   "metadata": {},
   "source": [
    "# 5. Snap pour points\n",
    "out_raster = arcpy.sa.SnapPourPoint(\n",
    "    in_pour_point_data=r\"C:\\Workspace\\Geodata\\MEP\\Default.gdb\\Watershed_Input_Points_Points\",\n",
    "    in_accumulation_raster=\"Lid10BF_FlowAcc\",\n",
    "    snap_distance=10,\n",
    "    pour_point_field=\"OBJECTID\")\n",
    "out_raster.save(r\"C:\\Workspace\\Geodata\\MEP\\Default.gdb\\SnapPou_Wate10\")\n",
    "# 6. Raster to point\n",
    "arcpy.conversion.RasterToPoint(\n",
    "    in_raster=\"SnapPou_Wate10\",\n",
    "    out_point_features=r\"C:\\Workspace\\Geodata\\MEP\\Default.gdb\\RasterT_SnapPou2\",\n",
    "    raster_field=\"Value\"\n",
    ")"
   ]
  }
 ],
 "metadata": {
  "kernelspec": {
   "display_name": "ArcGISPro",
   "language": "Python",
   "name": "python3"
  },
  "language_info": {
   "file_extension": ".py",
   "name": "python",
   "version": "3"
  }
 },
 "nbformat": 4,
 "nbformat_minor": 5
}
