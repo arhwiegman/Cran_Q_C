{
 "cells": [
  {
   "cell_type": "markdown",
   "id": "2f641cf8",
   "metadata": {},
   "source": [
    "# Preprocess point data \n",
    "\n",
    "Adrian Wiegman\n",
    "\n",
    "2023-07-12\n",
    "\n",
    "-------\n",
    "\n",
    "In this notebook I point data for use in machine learning algorithms to predict nitrate and total nitrogen concentrations. The output of this script will be a datatable of cumulative weighted distances to points of different nitrogen loading sources. \n",
    "\n",
    "Target Dataset:\n",
    " - Nitrate and Total Nitrogen from MEP stream monitoring locations\n",
    "\n",
    "Explanatory Data Sets:\n",
    " - Landfills by type\n",
    " - Groundwater discharges\n",
    " - Schools\n",
    " - Composting facilities\n",
    " - Census block groups (these are polygons but can be converted to points)\n",
    " - sewer?\n",
    "\n",
    "\n",
    "For monitoring point and each data set the workflow goes like this. \n",
    "    1. Compute distances between the monitoring point and all explanatory data points\n",
    "    2. Join the near table with the original explanatory table\n",
    "    3. Create a new colum with the squared distances \n",
    "    4. Create a new colum with the cubed distances\n",
    "    5. Compute the inverse of the distance metrics\n",
    "    5. If the metric is quantitive\n",
    "        - then also multiply by the inverse of the distance metrics\n",
    "    6. sum all distance metrics\n",
    "    7. Append to a dataframe that contains a list of monitoring points. "
   ]
  },
  {
   "cell_type": "code",
   "execution_count": null,
   "id": "5959a45d",
   "metadata": {},
   "outputs": [],
   "source": [
    "# compute distance between two points\n",
    "\n",
    "# distance weighted value\n",
    "\n",
    "# "
   ]
  },
  {
   "cell_type": "code",
   "execution_count": null,
   "id": "1547a63c",
   "metadata": {},
   "outputs": [],
   "source": [
    "def fn_arcpy_generate_near_table(\n",
    "    '''\n",
    "    read more: https://pro.arcgis.com/en/pro-app/latest/tool-reference/analysis/generate-near-table.htm\n",
    "    in_features, near_features, near_features, out_table, {search_radius}, {location}, {angle}, {closest}, {closest_count}, {method}, {distance_unit}\n",
    "    '''\n",
    "    # set local variables\n",
    "    in_features = \"houses\",\n",
    "    near_features = \"parks\",\n",
    "    out_table = \"out\",\n",
    "    closest = \"ALL\"\n",
    "    closest_count = \"\"\n",
    "    method=\"GEODESIC\"):\n",
    "    try:\n",
    "        # execute the function\n",
    "        arcpy.analysis.GenerateNearTable(in_features,\n",
    "                                     near_features = near_features,\n",
    "                                     out_table = out_table,\n",
    "                                     closest = closest,\n",
    "                                     closest_count = closest_count,\n",
    "                                     method=method)\n",
    "        # get geoprocessing messages\n",
    "        print(arcpy.GetMessages())\n",
    "        except arcpy.ExecuteError:\n",
    "            print(arcpy.GetMessages(2))\n",
    "        except Exception as err:\n",
    "            print(err.args[0])"
   ]
  }
 ],
 "metadata": {
  "kernelspec": {
   "display_name": "Python 3 (ipykernel)",
   "language": "python",
   "name": "python3"
  },
  "language_info": {
   "codemirror_mode": {
    "name": "ipython",
    "version": 3
   },
   "file_extension": ".py",
   "mimetype": "text/x-python",
   "name": "python",
   "nbconvert_exporter": "python",
   "pygments_lexer": "ipython3",
   "version": "3.9.13"
  }
 },
 "nbformat": 4,
 "nbformat_minor": 5
}
