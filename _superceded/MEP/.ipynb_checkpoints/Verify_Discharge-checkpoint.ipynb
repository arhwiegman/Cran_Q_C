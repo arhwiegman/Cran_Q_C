{
 "cells": [
  {
   "cell_type": "markdown",
   "id": "f682951b",
   "metadata": {},
   "source": [
    "**Preprocess watersheds**\n",
    "\n",
    "Adrian Wiegman\n",
    "\n",
    "2023-07-11\n",
    "\n",
    "-------"
   ]
  },
  {
   "cell_type": "markdown",
   "id": "c9e36dc6",
   "metadata": {
    "heading_collapsed": true
   },
   "source": [
    "## Description"
   ]
  },
  {
   "cell_type": "markdown",
   "id": "159f7739",
   "metadata": {
    "hidden": true
   },
   "source": [
    "This notebook turns raw data from LiDAR DEM, NHD flowlines, and polygons of cranberry bogs, into a layer of polygons representing the topographic catchments draining into each cranberry bog in southeast Massachusetts. \n",
    "\n",
    "Even though the lidar data as been hydro flattened/enforced, there are still a number of flowpaths that are not detected underneath highways (e.g. interstate I-495, I-195)\n",
    "\n",
    "The solution is to \"burn\" in stream flowlines from the national hydrography dataset. This is done by putting a buffer around the stream flowline network, then assigning an arbitary large value to the stream network polygon, then converting to raster and subtracting the stream elevations from the DEM. \n",
    "\n",
    "Once D8 flow direction and flow accumulation rasters have been made the primary objectives can be completed. \n",
    "\n",
    "Data Sources:\n",
    "\n",
    "1. Mass GIS Lidar DEM (1ft vertical resolution, ~1m horizontal resolution)\n",
    "2. USGS National Hydrography Dataset\n",
    "- Flow lines\n",
    "3. Cranberry bogs layer\n",
    "\n",
    "Steps of Processing: \n",
    "\n",
    "1. Prepare Lidar\n",
    "   - 1M Lidar Elevation -> Clip to study area -> \n",
    "   - Resample to 10m resolution using aggregate minimum cell value\n",
    "   - Fill Sinks \n",
    "\n",
    "2. Prepare Flowlines\n",
    "   - combine flowlines into one layer\n",
    "   - dissolve flowlines\n",
    "   - buffer flowlines to 3x the resolution of processed lidar. \n",
    "       - buffering width of 15m \n",
    "   - convert to raster\n",
    "3. Burn in flow lines\n",
    "    - assign a value of -100 feet to flow lines\n",
    "    - add flowlines to existing elevation (subtract 100 feet)\n",
    "    \n",
    "4. fill sinks (again)\n",
    "5. D8 Flow Direction \n",
    "6. Flow Accumulation\n",
    "7. Generate Bog Pour Points\n",
    "    - find maximum flow accumulation value inside each bog.\n",
    "    - generate a point at each bog maximum value.\n",
    "    - identity to get cranberry bog attributes at each point.\n",
    "8. Delineate Basins for each point\n",
    "    - with the bog cranberry points loop through each point\n",
    "        - delineate watershed using the bog pour point and the D8 flow direction\n",
    "        - save the output to a temp file with the feature ID ('FID') of the cranberry bog. \n",
    "    - merge all cranberry bog basins to one polygon layer, containing the FID of the cranberry bog. "
   ]
  },
  {
   "cell_type": "markdown",
   "id": "2d59851c",
   "metadata": {},
   "source": [
    "## Setup Environment"
   ]
  },
  {
   "cell_type": "code",
   "execution_count": 4,
   "id": "b6310955",
   "metadata": {
    "scrolled": true
   },
   "outputs": [
    {
     "name": "stdout",
     "output_type": "stream",
     "text": [
      "***\n",
      "loading python modules...\n",
      "\n",
      "  `module_list` contains names of all loaded modules\n",
      "\n",
      "...module loading complete\n",
      "\n",
      "***\n",
      "loading user defined functions...\n",
      "\n",
      "type `fn_`+TAB to for autocomplete suggestions\n",
      "\n",
      " the object `def_list` contains user defined function names:\n",
      "   fn_get_info\n",
      "   fn_arcgis_table_to_df\n",
      "   fn_arcgis_table_to_np_to_pd_df\n",
      "   fn_run_script_w_propy_bat\n",
      "   fn_try_mkdir\n",
      "   fn_hello\n",
      "   fn_recursive_glob_search\n",
      "   fn_regex_search_replace\n",
      "   fn_regex_search_0\n",
      "   fn_arcpy_table_to_excel\n",
      "   fn_agg_sum_df_on_group\n",
      "   fn_add_prefix_suffix_to_selected_cols\n",
      "   fn_calc_pct_cover_within_groups\n",
      "   fn_buildWhereClauseFromList\n",
      "\n",
      " use ??{insert fn name} to inspect\n",
      " for example running `??fn_get_info` returns:\n",
      "\u001b[1;31mSignature:\u001b[0m \u001b[0mfn_get_info\u001b[0m\u001b[1;33m(\u001b[0m\u001b[0mname\u001b[0m\u001b[1;33m=\u001b[0m\u001b[1;34m'fn_get_info'\u001b[0m\u001b[1;33m)\u001b[0m\u001b[1;33m\u001b[0m\u001b[1;33m\u001b[0m\u001b[0m\n",
      "\u001b[1;31mSource:\u001b[0m   \n",
      "\u001b[1;32mdef\u001b[0m \u001b[0mfn_get_info\u001b[0m\u001b[1;33m(\u001b[0m\u001b[0mname\u001b[0m\u001b[1;33m=\u001b[0m\u001b[1;34m'fn_get_info'\u001b[0m\u001b[1;33m)\u001b[0m\u001b[1;33m:\u001b[0m\u001b[1;33m\n",
      "\u001b[0m    \u001b[1;34m'''\n",
      "    returns the source information about a given function name\n",
      "    '''\u001b[0m\u001b[1;33m\n",
      "\u001b[0m    \u001b[0mget_ipython\u001b[0m\u001b[1;33m(\u001b[0m\u001b[1;33m)\u001b[0m\u001b[1;33m.\u001b[0m\u001b[0mrun_line_magic\u001b[0m\u001b[1;33m(\u001b[0m\u001b[1;34m'pinfo2'\u001b[0m\u001b[1;33m,\u001b[0m \u001b[1;34m'$name'\u001b[0m\u001b[1;33m)\u001b[0m\u001b[1;33m\u001b[0m\u001b[1;33m\u001b[0m\u001b[0m\n",
      "\u001b[1;31mFile:\u001b[0m      c:\\workspace\\geodata\\mep\\<ipython-input-1-28f96385f735>\n",
      "\u001b[1;31mType:\u001b[0m      function\n",
      "\n",
      " you can also use `fn_get_info(name={insert fn name})` to do the same thing as `??{insert fn name}`\n",
      "\n",
      "...function loading complete\n",
      "\n",
      "\n",
      "***\n",
      "setting up arcpy environment...\n",
      "\n",
      " input file directory (`idr`): C:\\Workspace\\Geodata\\Massachusetts\\\n",
      " working directory (`wdr`): C:\\Workspace\\Geodata\\MEP\\\n",
      " default geodatabase path: C:\\Workspace\\Geodata\\MEP\\Default.gdb\n",
      " temp dir (`tdr.name`): C:\\Users\\ADRIAN~1.WIE\\AppData\\Local\\Temp\\ArcGISProTemp43728\\tmp0ji0tf13\n",
      " output dir (`odr`): C:\\Workspace\\Geodata\\MEP\\outputs\n",
      " output coordinate system: NAD_1983_UTM_Zone_19N\n",
      "\n",
      "... env setup complete\n",
      "\n",
      "\n",
      "+++SETUP COMPLETE+++\n",
      "\n",
      "\n"
     ]
    }
   ],
   "source": [
    "# iphython options\n",
    "# delete variables in workspace\n",
    "%reset -f\n",
    "#places plots inline\n",
    "%matplotlib inline\n",
    "#automatically reloads modules if they are changed\n",
    "%load_ext autoreload \n",
    "%autoreload 2\n",
    "# this codeblock sets up the environment from jupyter notebooks\n",
    "setup_notebook = \"C:/Users/Adrian.Wiegman/Documents/GitHub/Wiegman_USDA_ARS/MEP/_Setup.ipynb\"\n",
    "%run $setup_notebook # magic command to run the notebook \n",
    "\n",
    "# Create new file geodatabase to store results\\n\",\n",
    "gdb = \"Verify_Discharge.gdb\",\n",
    ",\n",
    "ap.env.workspace = os.path.join(wdr,gdb)\n"
   ]
  },
  {
   "cell_type": "code",
   "execution_count": null,
   "id": "c120e4c5",
   "metadata": {},
   "outputs": [],
   "source": []
  }
 ],
 "metadata": {
  "kernelspec": {
   "display_name": "ArcGISPro",
   "language": "Python",
   "name": "python3"
  },
  "language_info": {
   "file_extension": ".py",
   "name": "python",
   "version": "3"
  }
 },
 "nbformat": 4,
 "nbformat_minor": 5
}
