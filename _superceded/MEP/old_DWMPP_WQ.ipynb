{
 "cells": [
  {
   "cell_type": "markdown",
   "id": "159f7739",
   "metadata": {},
   "source": [
    "this notebook is for looking at dwmwpp_wq data"
   ]
  }
 ],
 "metadata": {
  "kernelspec": {
   "display_name": "ArcGISPro",
   "language": "Python",
   "name": "python3"
  },
  "language_info": {
   "file_extension": ".py",
   "name": "python",
   "version": "3"
  }
 },
 "nbformat": 4,
 "nbformat_minor": 5
}
